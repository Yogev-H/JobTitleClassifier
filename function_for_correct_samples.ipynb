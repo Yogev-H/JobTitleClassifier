{
 "cells": [
  {
   "cell_type": "markdown",
   "metadata": {
    "tags": []
   },
   "source": [
    "# Function for cutting too big and too small samples of jobs"
   ]
  },
  {
   "cell_type": "code",
   "execution_count": 170,
   "metadata": {},
   "outputs": [],
   "source": [
    "import pandas as pd\n",
    "\n",
    "## The processed dataset\n",
    "# df = pd.read_csv('datasets\\processed_data.csv')\n",
    "\n",
    "## The original one\n",
    "df = pd.read_parquet('job_title_dataset.parquet')"
   ]
  },
  {
   "cell_type": "code",
   "execution_count": 171,
   "metadata": {},
   "outputs": [
    {
     "data": {
      "text/html": [
       "<div>\n",
       "<style scoped>\n",
       "    .dataframe tbody tr th:only-of-type {\n",
       "        vertical-align: middle;\n",
       "    }\n",
       "\n",
       "    .dataframe tbody tr th {\n",
       "        vertical-align: top;\n",
       "    }\n",
       "\n",
       "    .dataframe thead th {\n",
       "        text-align: right;\n",
       "    }\n",
       "</style>\n",
       "<table border=\"1\" class=\"dataframe\">\n",
       "  <thead>\n",
       "    <tr style=\"text-align: right;\">\n",
       "      <th></th>\n",
       "      <th>amount</th>\n",
       "    </tr>\n",
       "  </thead>\n",
       "  <tbody>\n",
       "    <tr>\n",
       "      <th>Software Engineer</th>\n",
       "      <td>342</td>\n",
       "    </tr>\n",
       "    <tr>\n",
       "      <th>Physical Therapist Assistant (PTA)</th>\n",
       "      <td>200</td>\n",
       "    </tr>\n",
       "    <tr>\n",
       "      <th>Loan Officer</th>\n",
       "      <td>116</td>\n",
       "    </tr>\n",
       "    <tr>\n",
       "      <th>Content Strategist</th>\n",
       "      <td>43</td>\n",
       "    </tr>\n",
       "    <tr>\n",
       "      <th>Wholesaler</th>\n",
       "      <td>40</td>\n",
       "    </tr>\n",
       "  </tbody>\n",
       "</table>\n",
       "</div>"
      ],
      "text/plain": [
       "                                    amount\n",
       "Software Engineer                      342\n",
       "Physical Therapist Assistant (PTA)     200\n",
       "Loan Officer                           116\n",
       "Content Strategist                      43\n",
       "Wholesaler                              40"
      ]
     },
     "execution_count": 171,
     "metadata": {},
     "output_type": "execute_result"
    }
   ],
   "source": [
    "df_jobs_count = df.JobTitle.value_counts().to_frame(name='amount')\n",
    "df_jobs_count.head()"
   ]
  },
  {
   "cell_type": "code",
   "execution_count": 172,
   "metadata": {},
   "outputs": [],
   "source": [
    "def reshape_df(df, the_min_amount_of_rows = 10, the_max_amount_of_rows = 100):\n",
    "    list_of_two_parts = [pd.DataFrame(columns=df.columns)] * 2    ## In the end we want to concat the two part\n",
    "    \n",
    "    df_jobs_count = df.JobTitle.value_counts().to_frame(name='amount')\n",
    "    \n",
    "    ## Droping every row under minimum amount of observations\n",
    "    df_jobs_to_drop = df_jobs_count.query(f'amount<{the_min_amount_of_rows}')\n",
    "    list_jobs_to_drop = list(df_jobs_to_drop.index)\n",
    "    df = df[-df.JobTitle.isin(list_jobs_to_drop)]\n",
    "    \n",
    "    ## Creating the first part of list, the one we don't touch\n",
    "    df_jobs_no_problem = df_jobs_count.query(f'amount>={the_min_amount_of_rows} & amount<={the_max_amount_of_rows}')\n",
    "    list_of_two_parts[0] = df[df.JobTitle.isin(df_jobs_no_problem.index)]\n",
    "    \n",
    "    ## Creating the the second part of the list, where we resample the jobs with too many rows\n",
    "    df_jobs_to_resample = df_jobs_count.query(f'amount>{the_max_amount_of_rows}')\n",
    "    list_jobs_to_resample = list(df_jobs_to_resample.index)\n",
    "    df_for_resampling = df[df.JobTitle.isin(list_jobs_to_resample)]\n",
    "    \n",
    "    list_of_subsets = [pd.DataFrame(columns=df.columns)] * len(list_jobs_to_resample)\n",
    "    for i in range(len(list_jobs_to_resample)):\n",
    "        list_of_subsets[i] = df_for_resampling[df_for_resampling.JobTitle == list_jobs_to_resample[i]].sample(the_max_amount_of_rows)\n",
    "    if len(list_of_subsets) !=0:\n",
    "           list_of_two_parts[1] = pd.concat(list_of_subsets)\n",
    "    \n",
    "    return pd.concat(list_of_two_parts)"
   ]
  },
  {
   "cell_type": "code",
   "execution_count": 173,
   "metadata": {},
   "outputs": [],
   "source": [
    "df = reshape_df(df, the_min_amount_of_rows = 10, the_max_amount_of_rows = 100)"
   ]
  },
  {
   "cell_type": "code",
   "execution_count": 174,
   "metadata": {},
   "outputs": [
    {
     "data": {
      "text/html": [
       "<div>\n",
       "<style scoped>\n",
       "    .dataframe tbody tr th:only-of-type {\n",
       "        vertical-align: middle;\n",
       "    }\n",
       "\n",
       "    .dataframe tbody tr th {\n",
       "        vertical-align: top;\n",
       "    }\n",
       "\n",
       "    .dataframe thead th {\n",
       "        text-align: right;\n",
       "    }\n",
       "</style>\n",
       "<table border=\"1\" class=\"dataframe\">\n",
       "  <thead>\n",
       "    <tr style=\"text-align: right;\">\n",
       "      <th></th>\n",
       "      <th>amount</th>\n",
       "    </tr>\n",
       "  </thead>\n",
       "  <tbody>\n",
       "    <tr>\n",
       "      <th>Loan Officer</th>\n",
       "      <td>100</td>\n",
       "    </tr>\n",
       "    <tr>\n",
       "      <th>Physical Therapist Assistant (PTA)</th>\n",
       "      <td>100</td>\n",
       "    </tr>\n",
       "    <tr>\n",
       "      <th>Software Engineer</th>\n",
       "      <td>100</td>\n",
       "    </tr>\n",
       "    <tr>\n",
       "      <th>Content Strategist</th>\n",
       "      <td>43</td>\n",
       "    </tr>\n",
       "    <tr>\n",
       "      <th>Wholesaler</th>\n",
       "      <td>40</td>\n",
       "    </tr>\n",
       "    <tr>\n",
       "      <th>Automotive Service Manager</th>\n",
       "      <td>34</td>\n",
       "    </tr>\n",
       "    <tr>\n",
       "      <th>Growth Strategy Manager</th>\n",
       "      <td>30</td>\n",
       "    </tr>\n",
       "    <tr>\n",
       "      <th>Neonatal Nurse</th>\n",
       "      <td>26</td>\n",
       "    </tr>\n",
       "    <tr>\n",
       "      <th>Medical Laboratory Technician (MLT)</th>\n",
       "      <td>25</td>\n",
       "    </tr>\n",
       "    <tr>\n",
       "      <th>Human Resources Assistant</th>\n",
       "      <td>24</td>\n",
       "    </tr>\n",
       "    <tr>\n",
       "      <th>Pediatric Anesthesiologist</th>\n",
       "      <td>21</td>\n",
       "    </tr>\n",
       "    <tr>\n",
       "      <th>Data Science Director</th>\n",
       "      <td>19</td>\n",
       "    </tr>\n",
       "    <tr>\n",
       "      <th>Tax Analyst</th>\n",
       "      <td>16</td>\n",
       "    </tr>\n",
       "    <tr>\n",
       "      <th>Maintenance Planner</th>\n",
       "      <td>16</td>\n",
       "    </tr>\n",
       "    <tr>\n",
       "      <th>Process Associate</th>\n",
       "      <td>14</td>\n",
       "    </tr>\n",
       "    <tr>\n",
       "      <th>Small Animal Veterinarian</th>\n",
       "      <td>12</td>\n",
       "    </tr>\n",
       "    <tr>\n",
       "      <th>Neuropsychologist</th>\n",
       "      <td>11</td>\n",
       "    </tr>\n",
       "    <tr>\n",
       "      <th>Assistant Director of Nursing</th>\n",
       "      <td>11</td>\n",
       "    </tr>\n",
       "  </tbody>\n",
       "</table>\n",
       "</div>"
      ],
      "text/plain": [
       "                                     amount\n",
       "Loan Officer                            100\n",
       "Physical Therapist Assistant (PTA)      100\n",
       "Software Engineer                       100\n",
       "Content Strategist                       43\n",
       "Wholesaler                               40\n",
       "Automotive Service Manager               34\n",
       "Growth Strategy Manager                  30\n",
       "Neonatal Nurse                           26\n",
       "Medical Laboratory Technician (MLT)      25\n",
       "Human Resources Assistant                24\n",
       "Pediatric Anesthesiologist               21\n",
       "Data Science Director                    19\n",
       "Tax Analyst                              16\n",
       "Maintenance Planner                      16\n",
       "Process Associate                        14\n",
       "Small Animal Veterinarian                12\n",
       "Neuropsychologist                        11\n",
       "Assistant Director of Nursing            11"
      ]
     },
     "execution_count": 174,
     "metadata": {},
     "output_type": "execute_result"
    }
   ],
   "source": [
    "df_jobs_count = df.JobTitle.value_counts().to_frame(name='amount')\n",
    "df_jobs_count"
   ]
  },
  {
   "cell_type": "code",
   "execution_count": 100,
   "metadata": {
    "collapsed": true,
    "jupyter": {
     "outputs_hidden": true,
     "source_hidden": true
    }
   },
   "outputs": [
    {
     "data": {
      "text/html": [
       "<div>\n",
       "<style scoped>\n",
       "    .dataframe tbody tr th:only-of-type {\n",
       "        vertical-align: middle;\n",
       "    }\n",
       "\n",
       "    .dataframe tbody tr th {\n",
       "        vertical-align: top;\n",
       "    }\n",
       "\n",
       "    .dataframe thead th {\n",
       "        text-align: right;\n",
       "    }\n",
       "</style>\n",
       "<table border=\"1\" class=\"dataframe\">\n",
       "  <thead>\n",
       "    <tr style=\"text-align: right;\">\n",
       "      <th></th>\n",
       "      <th>amount</th>\n",
       "    </tr>\n",
       "  </thead>\n",
       "  <tbody>\n",
       "    <tr>\n",
       "      <th>Content Strategist</th>\n",
       "      <td>43</td>\n",
       "    </tr>\n",
       "    <tr>\n",
       "      <th>Wholesaler</th>\n",
       "      <td>40</td>\n",
       "    </tr>\n",
       "    <tr>\n",
       "      <th>Automotive Service Manager</th>\n",
       "      <td>34</td>\n",
       "    </tr>\n",
       "    <tr>\n",
       "      <th>Growth Strategy Manager</th>\n",
       "      <td>30</td>\n",
       "    </tr>\n",
       "    <tr>\n",
       "      <th>Neonatal Nurse</th>\n",
       "      <td>26</td>\n",
       "    </tr>\n",
       "    <tr>\n",
       "      <th>Medical Laboratory Technician (MLT)</th>\n",
       "      <td>25</td>\n",
       "    </tr>\n",
       "    <tr>\n",
       "      <th>Human Resources Assistant</th>\n",
       "      <td>24</td>\n",
       "    </tr>\n",
       "    <tr>\n",
       "      <th>Pediatric Anesthesiologist</th>\n",
       "      <td>21</td>\n",
       "    </tr>\n",
       "    <tr>\n",
       "      <th>Data Science Director</th>\n",
       "      <td>19</td>\n",
       "    </tr>\n",
       "    <tr>\n",
       "      <th>Tax Analyst</th>\n",
       "      <td>16</td>\n",
       "    </tr>\n",
       "    <tr>\n",
       "      <th>Maintenance Planner</th>\n",
       "      <td>16</td>\n",
       "    </tr>\n",
       "    <tr>\n",
       "      <th>Process Associate</th>\n",
       "      <td>14</td>\n",
       "    </tr>\n",
       "    <tr>\n",
       "      <th>Small Animal Veterinarian</th>\n",
       "      <td>12</td>\n",
       "    </tr>\n",
       "    <tr>\n",
       "      <th>Assistant Director of Nursing</th>\n",
       "      <td>11</td>\n",
       "    </tr>\n",
       "    <tr>\n",
       "      <th>Neuropsychologist</th>\n",
       "      <td>11</td>\n",
       "    </tr>\n",
       "  </tbody>\n",
       "</table>\n",
       "</div>"
      ],
      "text/plain": [
       "                                     amount\n",
       "Content Strategist                       43\n",
       "Wholesaler                               40\n",
       "Automotive Service Manager               34\n",
       "Growth Strategy Manager                  30\n",
       "Neonatal Nurse                           26\n",
       "Medical Laboratory Technician (MLT)      25\n",
       "Human Resources Assistant                24\n",
       "Pediatric Anesthesiologist               21\n",
       "Data Science Director                    19\n",
       "Tax Analyst                              16\n",
       "Maintenance Planner                      16\n",
       "Process Associate                        14\n",
       "Small Animal Veterinarian                12\n",
       "Assistant Director of Nursing            11\n",
       "Neuropsychologist                        11"
      ]
     },
     "execution_count": 100,
     "metadata": {},
     "output_type": "execute_result"
    }
   ],
   "source": [
    "df_jobs_no_problem = df_jobs_count.query('amount>=10 & amount<=100')\n",
    "# list_jobs_no_problem = list(df_jobs_no_problem.index)\n",
    "# list_jobs_no_problem\n",
    "df0 = df[df.JobTitle.isin(df_jobs_no_problem.index)]\n",
    "df0"
   ]
  },
  {
   "cell_type": "code",
   "execution_count": 17,
   "metadata": {
    "jupyter": {
     "source_hidden": true
    }
   },
   "outputs": [],
   "source": [
    "# df_jobs_to_drop = df_jobs_count.query('amount<10')\n",
    "# df_jobs_to_drop.sample(5)"
   ]
  },
  {
   "cell_type": "code",
   "execution_count": 18,
   "metadata": {
    "collapsed": true,
    "jupyter": {
     "outputs_hidden": true,
     "source_hidden": true
    }
   },
   "outputs": [
    {
     "data": {
      "text/html": [
       "<div>\n",
       "<style scoped>\n",
       "    .dataframe tbody tr th:only-of-type {\n",
       "        vertical-align: middle;\n",
       "    }\n",
       "\n",
       "    .dataframe tbody tr th {\n",
       "        vertical-align: top;\n",
       "    }\n",
       "\n",
       "    .dataframe thead th {\n",
       "        text-align: right;\n",
       "    }\n",
       "</style>\n",
       "<table border=\"1\" class=\"dataframe\">\n",
       "  <thead>\n",
       "    <tr style=\"text-align: right;\">\n",
       "      <th></th>\n",
       "      <th>amount</th>\n",
       "    </tr>\n",
       "  </thead>\n",
       "  <tbody>\n",
       "    <tr>\n",
       "      <th>Software Engineer</th>\n",
       "      <td>342</td>\n",
       "    </tr>\n",
       "    <tr>\n",
       "      <th>Physical Therapist Assistant (PTA)</th>\n",
       "      <td>200</td>\n",
       "    </tr>\n",
       "    <tr>\n",
       "      <th>Loan Officer</th>\n",
       "      <td>116</td>\n",
       "    </tr>\n",
       "  </tbody>\n",
       "</table>\n",
       "</div>"
      ],
      "text/plain": [
       "                                    amount\n",
       "Software Engineer                      342\n",
       "Physical Therapist Assistant (PTA)     200\n",
       "Loan Officer                           116"
      ]
     },
     "execution_count": 18,
     "metadata": {},
     "output_type": "execute_result"
    }
   ],
   "source": [
    "df_jobs_to_resample = df_jobs_count.query('amount>100')\n",
    "df_jobs_to_resample"
   ]
  },
  {
   "cell_type": "code",
   "execution_count": 19,
   "metadata": {
    "collapsed": true,
    "jupyter": {
     "outputs_hidden": true,
     "source_hidden": true
    }
   },
   "outputs": [
    {
     "data": {
      "text/plain": [
       "pandas.core.indexes.base.Index"
      ]
     },
     "execution_count": 19,
     "metadata": {},
     "output_type": "execute_result"
    }
   ],
   "source": [
    "list_jobs_to_resample = list(df_jobs_to_resample.index)\n",
    "type(df_jobs_to_resample.index)"
   ]
  },
  {
   "cell_type": "code",
   "execution_count": null,
   "metadata": {
    "jupyter": {
     "source_hidden": true
    }
   },
   "outputs": [],
   "source": [
    "df.JobTitle[0] in list_jobs_to_resample"
   ]
  },
  {
   "cell_type": "code",
   "execution_count": 11,
   "metadata": {
    "collapsed": true,
    "jupyter": {
     "outputs_hidden": true,
     "source_hidden": true
    },
    "tags": []
   },
   "outputs": [
    {
     "data": {
      "text/plain": [
       "658"
      ]
     },
     "execution_count": 11,
     "metadata": {},
     "output_type": "execute_result"
    }
   ],
   "source": [
    "df_for_resampling = df[df.JobTitle.isin(df_jobs_to_resample.index)]\n",
    "len(df_for_resampling)"
   ]
  },
  {
   "cell_type": "code",
   "execution_count": 21,
   "metadata": {
    "collapsed": true,
    "jupyter": {
     "outputs_hidden": true,
     "source_hidden": true
    }
   },
   "outputs": [
    {
     "data": {
      "text/html": [
       "<div>\n",
       "<style scoped>\n",
       "    .dataframe tbody tr th:only-of-type {\n",
       "        vertical-align: middle;\n",
       "    }\n",
       "\n",
       "    .dataframe tbody tr th {\n",
       "        vertical-align: top;\n",
       "    }\n",
       "\n",
       "    .dataframe thead th {\n",
       "        text-align: right;\n",
       "    }\n",
       "</style>\n",
       "<table border=\"1\" class=\"dataframe\">\n",
       "  <thead>\n",
       "    <tr style=\"text-align: right;\">\n",
       "      <th></th>\n",
       "      <th>amount</th>\n",
       "    </tr>\n",
       "  </thead>\n",
       "  <tbody>\n",
       "    <tr>\n",
       "      <th>Content Strategist</th>\n",
       "      <td>43</td>\n",
       "    </tr>\n",
       "    <tr>\n",
       "      <th>Wholesaler</th>\n",
       "      <td>40</td>\n",
       "    </tr>\n",
       "    <tr>\n",
       "      <th>Automotive Service Manager</th>\n",
       "      <td>34</td>\n",
       "    </tr>\n",
       "    <tr>\n",
       "      <th>Growth Strategy Manager</th>\n",
       "      <td>30</td>\n",
       "    </tr>\n",
       "    <tr>\n",
       "      <th>Neonatal Nurse</th>\n",
       "      <td>26</td>\n",
       "    </tr>\n",
       "  </tbody>\n",
       "</table>\n",
       "</div>"
      ],
      "text/plain": [
       "                            amount\n",
       "Content Strategist              43\n",
       "Wholesaler                      40\n",
       "Automotive Service Manager      34\n",
       "Growth Strategy Manager         30\n",
       "Neonatal Nurse                  26"
      ]
     },
     "execution_count": 21,
     "metadata": {},
     "output_type": "execute_result"
    }
   ],
   "source": [
    "df_without_huge_jobs = df[-df.JobTitle.isin(df_jobs_to_resample.index)]\n",
    "df_without_huge_jobs.JobTitle.value_counts().to_frame(name='amount').head()"
   ]
  },
  {
   "cell_type": "code",
   "execution_count": 45,
   "metadata": {
    "jupyter": {
     "source_hidden": true
    }
   },
   "outputs": [],
   "source": [
    "list_of_subsets = [None] * len(list_jobs_to_resample)"
   ]
  },
  {
   "cell_type": "code",
   "execution_count": 50,
   "metadata": {
    "collapsed": true,
    "jupyter": {
     "outputs_hidden": true,
     "source_hidden": true
    },
    "tags": []
   },
   "outputs": [
    {
     "data": {
      "text/html": [
       "<div>\n",
       "<style scoped>\n",
       "    .dataframe tbody tr th:only-of-type {\n",
       "        vertical-align: middle;\n",
       "    }\n",
       "\n",
       "    .dataframe tbody tr th {\n",
       "        vertical-align: top;\n",
       "    }\n",
       "\n",
       "    .dataframe thead th {\n",
       "        text-align: right;\n",
       "    }\n",
       "</style>\n",
       "<table border=\"1\" class=\"dataframe\">\n",
       "  <thead>\n",
       "    <tr style=\"text-align: right;\">\n",
       "      <th></th>\n",
       "      <th>Description</th>\n",
       "      <th>JobTitle</th>\n",
       "    </tr>\n",
       "  </thead>\n",
       "  <tbody>\n",
       "    <tr>\n",
       "      <th>181</th>\n",
       "      <td>['software', 'engineer', 'personalization', 'e...</td>\n",
       "      <td>Software Engineer</td>\n",
       "    </tr>\n",
       "    <tr>\n",
       "      <th>311</th>\n",
       "      <td>['hp', 'believe', 'power', 'ideas', 'vision', ...</td>\n",
       "      <td>Software Engineer</td>\n",
       "    </tr>\n",
       "    <tr>\n",
       "      <th>326</th>\n",
       "      <td>['become', 'part', 'nike', 'inc', 'teamnike', ...</td>\n",
       "      <td>Software Engineer</td>\n",
       "    </tr>\n",
       "    <tr>\n",
       "      <th>274</th>\n",
       "      <td>['position', 'description', 'compassion', 'pas...</td>\n",
       "      <td>Software Engineer</td>\n",
       "    </tr>\n",
       "    <tr>\n",
       "      <th>60</th>\n",
       "      <td>['sierra', 'nevada', 'corporation’s', 'electro...</td>\n",
       "      <td>Software Engineer</td>\n",
       "    </tr>\n",
       "    <tr>\n",
       "      <th>...</th>\n",
       "      <td>...</td>\n",
       "      <td>...</td>\n",
       "    </tr>\n",
       "    <tr>\n",
       "      <th>19</th>\n",
       "      <td>['mortgage', 'loan', 'originator', 'descriptio...</td>\n",
       "      <td>Loan Officer</td>\n",
       "    </tr>\n",
       "    <tr>\n",
       "      <th>454</th>\n",
       "      <td>['dr', 'horton', 'inc', 'largest', 'homebuilde...</td>\n",
       "      <td>Loan Officer</td>\n",
       "    </tr>\n",
       "    <tr>\n",
       "      <th>426</th>\n",
       "      <td>['dr', 'horton', 'inc', 'largest', 'homebuilde...</td>\n",
       "      <td>Loan Officer</td>\n",
       "    </tr>\n",
       "    <tr>\n",
       "      <th>636</th>\n",
       "      <td>['job', 'descriptionthe', 'auto', 'club', 'gro...</td>\n",
       "      <td>Loan Officer</td>\n",
       "    </tr>\n",
       "    <tr>\n",
       "      <th>787</th>\n",
       "      <td>['top', 'job', 'located', 'la', 'crosse', 'wi'...</td>\n",
       "      <td>Loan Officer</td>\n",
       "    </tr>\n",
       "  </tbody>\n",
       "</table>\n",
       "<p>300 rows × 2 columns</p>\n",
       "</div>"
      ],
      "text/plain": [
       "                                           Description           JobTitle\n",
       "181  ['software', 'engineer', 'personalization', 'e...  Software Engineer\n",
       "311  ['hp', 'believe', 'power', 'ideas', 'vision', ...  Software Engineer\n",
       "326  ['become', 'part', 'nike', 'inc', 'teamnike', ...  Software Engineer\n",
       "274  ['position', 'description', 'compassion', 'pas...  Software Engineer\n",
       "60   ['sierra', 'nevada', 'corporation’s', 'electro...  Software Engineer\n",
       "..                                                 ...                ...\n",
       "19   ['mortgage', 'loan', 'originator', 'descriptio...       Loan Officer\n",
       "454  ['dr', 'horton', 'inc', 'largest', 'homebuilde...       Loan Officer\n",
       "426  ['dr', 'horton', 'inc', 'largest', 'homebuilde...       Loan Officer\n",
       "636  ['job', 'descriptionthe', 'auto', 'club', 'gro...       Loan Officer\n",
       "787  ['top', 'job', 'located', 'la', 'crosse', 'wi'...       Loan Officer\n",
       "\n",
       "[300 rows x 2 columns]"
      ]
     },
     "execution_count": 50,
     "metadata": {},
     "output_type": "execute_result"
    }
   ],
   "source": [
    "for i in range(len(list_jobs_to_resample)):\n",
    "    list_of_subsets[i] = df_for_resampling[df_for_resampling.JobTitle == list_jobs_to_resample[i]].sample(100)\n",
    "df_new = pd.concat(list_of_subsets)\n",
    "df_new"
   ]
  }
 ],
 "metadata": {
  "kernelspec": {
   "display_name": "Python 3 (ipykernel)",
   "language": "python",
   "name": "python3"
  },
  "language_info": {
   "codemirror_mode": {
    "name": "ipython",
    "version": 3
   },
   "file_extension": ".py",
   "mimetype": "text/x-python",
   "name": "python",
   "nbconvert_exporter": "python",
   "pygments_lexer": "ipython3",
   "version": "3.9.7"
  }
 },
 "nbformat": 4,
 "nbformat_minor": 4
}
