{
 "cells": [
  {
   "cell_type": "code",
   "execution_count": 1,
   "id": "1bbc1d12-96ea-49af-afc2-5f7b50a122fc",
   "metadata": {},
   "outputs": [
    {
     "data": {
      "text/html": [
       "<div>\n",
       "<style scoped>\n",
       "    .dataframe tbody tr th:only-of-type {\n",
       "        vertical-align: middle;\n",
       "    }\n",
       "\n",
       "    .dataframe tbody tr th {\n",
       "        vertical-align: top;\n",
       "    }\n",
       "\n",
       "    .dataframe thead th {\n",
       "        text-align: right;\n",
       "    }\n",
       "</style>\n",
       "<table border=\"1\" class=\"dataframe\">\n",
       "  <thead>\n",
       "    <tr style=\"text-align: right;\">\n",
       "      <th></th>\n",
       "      <th>JobId</th>\n",
       "      <th>JobTitleId</th>\n",
       "      <th>JobTitle</th>\n",
       "      <th>Description</th>\n",
       "    </tr>\n",
       "  </thead>\n",
       "  <tbody>\n",
       "    <tr>\n",
       "      <th>0</th>\n",
       "      <td>36126335</td>\n",
       "      <td>400878</td>\n",
       "      <td>Physical Therapist Assistant (PTA)</td>\n",
       "      <td>&lt;p&gt;Looking for part-time PT&amp;nbsp;for a quick g...</td>\n",
       "    </tr>\n",
       "    <tr>\n",
       "      <th>1</th>\n",
       "      <td>39345757</td>\n",
       "      <td>400720</td>\n",
       "      <td>Automotive Service Manager</td>\n",
       "      <td>At David Maus Toyota, we strive to make every ...</td>\n",
       "    </tr>\n",
       "    <tr>\n",
       "      <th>2</th>\n",
       "      <td>84331465</td>\n",
       "      <td>407973</td>\n",
       "      <td>Wastewater Project Manager</td>\n",
       "      <td>&lt;p&gt;Position Summary:&lt;/p&gt;\\n&lt;p&gt;Project Managemen...</td>\n",
       "    </tr>\n",
       "    <tr>\n",
       "      <th>3</th>\n",
       "      <td>88112060</td>\n",
       "      <td>402654</td>\n",
       "      <td>Neonatal Nurse</td>\n",
       "      <td>&lt;p&gt;Envision Physician Services is seeking a Ne...</td>\n",
       "    </tr>\n",
       "    <tr>\n",
       "      <th>4</th>\n",
       "      <td>88112450</td>\n",
       "      <td>402654</td>\n",
       "      <td>Neonatal Nurse</td>\n",
       "      <td>&lt;p&gt;Envision Physician Services is seeking a Ne...</td>\n",
       "    </tr>\n",
       "    <tr>\n",
       "      <th>5</th>\n",
       "      <td>88112460</td>\n",
       "      <td>402654</td>\n",
       "      <td>Neonatal Nurse</td>\n",
       "      <td>&lt;p&gt;Envision Physician Services is seeking a Ne...</td>\n",
       "    </tr>\n",
       "    <tr>\n",
       "      <th>6</th>\n",
       "      <td>88112463</td>\n",
       "      <td>402654</td>\n",
       "      <td>Neonatal Nurse</td>\n",
       "      <td>&lt;p&gt;$20,000 start date bonus!&lt;/p&gt;&lt;p&gt;Envision Ph...</td>\n",
       "    </tr>\n",
       "    <tr>\n",
       "      <th>7</th>\n",
       "      <td>88114236</td>\n",
       "      <td>402654</td>\n",
       "      <td>Neonatal Nurse</td>\n",
       "      <td>&lt;p&gt;Envision Physician Services is seeking a dy...</td>\n",
       "    </tr>\n",
       "    <tr>\n",
       "      <th>8</th>\n",
       "      <td>88114375</td>\n",
       "      <td>402654</td>\n",
       "      <td>Neonatal Nurse</td>\n",
       "      <td>&lt;p&gt;Envision Physician Services is seeking a Ne...</td>\n",
       "    </tr>\n",
       "    <tr>\n",
       "      <th>9</th>\n",
       "      <td>105364828</td>\n",
       "      <td>402654</td>\n",
       "      <td>Neonatal Nurse</td>\n",
       "      <td>&lt;p&gt;Night Shift Neonatal Nurse Practitioner Opp...</td>\n",
       "    </tr>\n",
       "  </tbody>\n",
       "</table>\n",
       "</div>"
      ],
      "text/plain": [
       "       JobId  JobTitleId                            JobTitle  \\\n",
       "0   36126335      400878  Physical Therapist Assistant (PTA)   \n",
       "1   39345757      400720          Automotive Service Manager   \n",
       "2   84331465      407973          Wastewater Project Manager   \n",
       "3   88112060      402654                      Neonatal Nurse   \n",
       "4   88112450      402654                      Neonatal Nurse   \n",
       "5   88112460      402654                      Neonatal Nurse   \n",
       "6   88112463      402654                      Neonatal Nurse   \n",
       "7   88114236      402654                      Neonatal Nurse   \n",
       "8   88114375      402654                      Neonatal Nurse   \n",
       "9  105364828      402654                      Neonatal Nurse   \n",
       "\n",
       "                                         Description  \n",
       "0  <p>Looking for part-time PT&nbsp;for a quick g...  \n",
       "1  At David Maus Toyota, we strive to make every ...  \n",
       "2  <p>Position Summary:</p>\\n<p>Project Managemen...  \n",
       "3  <p>Envision Physician Services is seeking a Ne...  \n",
       "4  <p>Envision Physician Services is seeking a Ne...  \n",
       "5  <p>Envision Physician Services is seeking a Ne...  \n",
       "6  <p>$20,000 start date bonus!</p><p>Envision Ph...  \n",
       "7  <p>Envision Physician Services is seeking a dy...  \n",
       "8  <p>Envision Physician Services is seeking a Ne...  \n",
       "9  <p>Night Shift Neonatal Nurse Practitioner Opp...  "
      ]
     },
     "execution_count": 1,
     "metadata": {},
     "output_type": "execute_result"
    }
   ],
   "source": [
    "import pandas as pd\n",
    "df = pd.read_parquet('job_title_dataset.parquet')\n",
    "df.head(10)"
   ]
  },
  {
   "cell_type": "code",
   "execution_count": 2,
   "id": "5f51b311-eefd-49b8-86c5-17fb59ed64f3",
   "metadata": {},
   "outputs": [],
   "source": [
    "## An idea: do some feature engineering is the word verb, noun or so and some more features. Later use a Decision Tree to say if it is a job title."
   ]
  },
  {
   "cell_type": "code",
   "execution_count": 3,
   "id": "2d830074-e1a0-4e1c-b2ec-87e97410a704",
   "metadata": {},
   "outputs": [
    {
     "name": "stdout",
     "output_type": "stream",
     "text": [
      "<class 'pandas.core.frame.DataFrame'>\n",
      "RangeIndex: 1100 entries, 0 to 1099\n",
      "Data columns (total 4 columns):\n",
      " #   Column       Non-Null Count  Dtype \n",
      "---  ------       --------------  ----- \n",
      " 0   JobId        1100 non-null   object\n",
      " 1   JobTitleId   1100 non-null   int32 \n",
      " 2   JobTitle     1100 non-null   object\n",
      " 3   Description  1099 non-null   object\n",
      "dtypes: int32(1), object(3)\n",
      "memory usage: 30.2+ KB\n"
     ]
    }
   ],
   "source": [
    "df.info(0)"
   ]
  },
  {
   "cell_type": "code",
   "execution_count": 4,
   "id": "8782ef8d-a9ea-4708-b2a2-0210df27c612",
   "metadata": {},
   "outputs": [
    {
     "data": {
      "text/plain": [
       "\"<p>Looking for part-time PT&nbsp;for a quick growing and dynamic outpatient physical therapy clinic. Mentorship available and encouraged!&nbsp; Our clinic focuses on manual therapy and exercise in a well equipped clinic with the latest equipment and modalities. We take an active approach to rehabilitation and always take the time to care. Our clinic offers personalized physical therapy in a warm and caring environment. Every day is a positive day at Andrew PT! Very manageable daily case load of 8-10 patients per day so you can spend the quality time with patients that makes work and life enjoyable!&nbsp; On a separate note, we&nbsp;also have all the necessary equipment and private treatment room for a women's health&nbsp;program if you have those clinical skills or interest.</p> <p>Our clinic is cutting edge and is even solar powered. Large vaulted ceiling workout area and 9 personalized treatment rooms with the clinic spanning 4,000 square feet total. Our clinic is located in McMinnville, OR which is perfectly situated for the recreational enthusiast. One can be at the beach, in the mountains hiking or cycling within minutes. Mentorship is available and encouraged as we believe personal growth is one of the key ingredients to keep us happy as clinicians. Personal growth through continued learning and education helps keep us motivated and also helps us to better serve our patients. New graduates are welcome as well as the therapist with experience.&nbsp; For more information please contact via e-mail&nbsp;(john.andrewpt@gmail.com)&nbsp;or fax your resume to to (503) 435-1930. You may also visit our website at www.AndrewPT.com. 72K+ salary per year to start for DPT depending on experience. Benefits for full-time work: Competitive salary, 401K w/ company matching &amp; Profit Sharing, Employee full medical and dental coverage,&nbsp;4 wks paid vacation (including 6 paid Holidays over 5 weeks paid time off per year), yearly bonus based on performance/profits, 6 major Holidays paid per year, OR PT yearly licensing fee paid, $1,200 yearly continuing education fund, more benefits as well.</p>\""
      ]
     },
     "execution_count": 4,
     "metadata": {},
     "output_type": "execute_result"
    }
   ],
   "source": [
    "df[\"Description\"][0]"
   ]
  },
  {
   "cell_type": "code",
   "execution_count": 5,
   "id": "4841a1e1-7e1a-4e18-a7bb-00d65c9433a5",
   "metadata": {},
   "outputs": [
    {
     "data": {
      "text/plain": [
       "(1100, 4)"
      ]
     },
     "execution_count": 5,
     "metadata": {},
     "output_type": "execute_result"
    }
   ],
   "source": [
    "df.shape"
   ]
  },
  {
   "cell_type": "code",
   "execution_count": 6,
   "id": "70d3574b-f271-4536-9260-46f7c322de54",
   "metadata": {},
   "outputs": [
    {
     "data": {
      "text/plain": [
       "36126335     1\n",
       "354752928    1\n",
       "355842722    1\n",
       "355842707    1\n",
       "355842688    1\n",
       "            ..\n",
       "214153163    1\n",
       "214153983    1\n",
       "214155164    1\n",
       "214155598    1\n",
       "502012958    1\n",
       "Name: JobId, Length: 1100, dtype: int64"
      ]
     },
     "execution_count": 6,
     "metadata": {},
     "output_type": "execute_result"
    }
   ],
   "source": [
    "df.JobId.value_counts()"
   ]
  },
  {
   "cell_type": "code",
   "execution_count": 7,
   "id": "1ba3e0ea-c941-4f38-9525-fd95af94baa2",
   "metadata": {},
   "outputs": [
    {
     "data": {
      "text/plain": [
       "21        342\n",
       "400878    200\n",
       "400832    116\n",
       "404021     43\n",
       "405771     40\n",
       "400720     34\n",
       "409393     30\n",
       "402654     26\n",
       "100462     25\n",
       "314        24\n",
       "403014     21\n",
       "409048     19\n",
       "402389     16\n",
       "402151     16\n",
       "405365     14\n",
       "400439     12\n",
       "400851     11\n",
       "406570     11\n",
       "402935      9\n",
       "404400      9\n",
       "407493      7\n",
       "407122      6\n",
       "407787      6\n",
       "402839      6\n",
       "405894      5\n",
       "402713      5\n",
       "407973      5\n",
       "405025      4\n",
       "407179      4\n",
       "407073      3\n",
       "401104      3\n",
       "406011      2\n",
       "402691      2\n",
       "407097      2\n",
       "404170      2\n",
       "402086      2\n",
       "403336      2\n",
       "408124      2\n",
       "401190      2\n",
       "400671      1\n",
       "530         1\n",
       "100674      1\n",
       "410520      1\n",
       "405809      1\n",
       "405469      1\n",
       "100015      1\n",
       "405644      1\n",
       "409779      1\n",
       "408888      1\n",
       "405490      1\n",
       "408352      1\n",
       "Name: JobTitleId, dtype: int64"
      ]
     },
     "execution_count": 7,
     "metadata": {},
     "output_type": "execute_result"
    }
   ],
   "source": [
    "df.JobTitleId.value_counts()"
   ]
  },
  {
   "cell_type": "code",
   "execution_count": 8,
   "id": "b39a6dca-63e4-4fd6-9133-696daa1c92f2",
   "metadata": {},
   "outputs": [
    {
     "data": {
      "text/plain": [
       "1      12\n",
       "2       8\n",
       "5       3\n",
       "6       3\n",
       "11      2\n",
       "4       2\n",
       "3       2\n",
       "16      2\n",
       "342     1\n",
       "21      1\n",
       "19      1\n",
       "7       1\n",
       "40      1\n",
       "14      1\n",
       "9       1\n",
       "43      1\n",
       "26      1\n",
       "8       1\n",
       "24      1\n",
       "200     1\n",
       "116     1\n",
       "34      1\n",
       "12      1\n",
       "25      1\n",
       "30      1\n",
       "Name: Description, dtype: int64"
      ]
     },
     "execution_count": 8,
     "metadata": {},
     "output_type": "execute_result"
    }
   ],
   "source": [
    "df.groupby('JobTitleId').Description.nunique().value_counts()"
   ]
  },
  {
   "cell_type": "code",
   "execution_count": 9,
   "id": "e04135bc-8d71-4411-b295-b539e885bbee",
   "metadata": {},
   "outputs": [],
   "source": [
    "import re\n",
    "\n",
    "CLEANR = re.compile('<.*?>')\n",
    "\n",
    "def cleanhtml(raw_html):\n",
    "    cleantext = re.sub(CLEANR, ' ', raw_html)\n",
    "    return cleantext"
   ]
  },
  {
   "cell_type": "code",
   "execution_count": 10,
   "id": "1a224513-06cf-4753-8417-9a8744c31a16",
   "metadata": {},
   "outputs": [
    {
     "data": {
      "text/html": [
       "<div>\n",
       "<style scoped>\n",
       "    .dataframe tbody tr th:only-of-type {\n",
       "        vertical-align: middle;\n",
       "    }\n",
       "\n",
       "    .dataframe tbody tr th {\n",
       "        vertical-align: top;\n",
       "    }\n",
       "\n",
       "    .dataframe thead th {\n",
       "        text-align: right;\n",
       "    }\n",
       "</style>\n",
       "<table border=\"1\" class=\"dataframe\">\n",
       "  <thead>\n",
       "    <tr style=\"text-align: right;\">\n",
       "      <th></th>\n",
       "      <th>Cleaned_Description</th>\n",
       "      <th>Description</th>\n",
       "    </tr>\n",
       "  </thead>\n",
       "  <tbody>\n",
       "    <tr>\n",
       "      <th>0</th>\n",
       "      <td>Looking for part-time PT&amp;nbsp;for a quick grow...</td>\n",
       "      <td>&lt;p&gt;Looking for part-time PT&amp;nbsp;for a quick g...</td>\n",
       "    </tr>\n",
       "    <tr>\n",
       "      <th>1</th>\n",
       "      <td>At David Maus Toyota, we strive to make every ...</td>\n",
       "      <td>At David Maus Toyota, we strive to make every ...</td>\n",
       "    </tr>\n",
       "    <tr>\n",
       "      <th>2</th>\n",
       "      <td>Position Summary:\\nProject Management personne...</td>\n",
       "      <td>&lt;p&gt;Position Summary:&lt;/p&gt;\\n&lt;p&gt;Project Managemen...</td>\n",
       "    </tr>\n",
       "    <tr>\n",
       "      <th>3</th>\n",
       "      <td>Envision Physician Services is seeking a Neona...</td>\n",
       "      <td>&lt;p&gt;Envision Physician Services is seeking a Ne...</td>\n",
       "    </tr>\n",
       "    <tr>\n",
       "      <th>4</th>\n",
       "      <td>Envision Physician Services is seeking a Neona...</td>\n",
       "      <td>&lt;p&gt;Envision Physician Services is seeking a Ne...</td>\n",
       "    </tr>\n",
       "  </tbody>\n",
       "</table>\n",
       "</div>"
      ],
      "text/plain": [
       "                                 Cleaned_Description  \\\n",
       "0  Looking for part-time PT&nbsp;for a quick grow...   \n",
       "1  At David Maus Toyota, we strive to make every ...   \n",
       "2  Position Summary:\\nProject Management personne...   \n",
       "3  Envision Physician Services is seeking a Neona...   \n",
       "4  Envision Physician Services is seeking a Neona...   \n",
       "\n",
       "                                         Description  \n",
       "0  <p>Looking for part-time PT&nbsp;for a quick g...  \n",
       "1  At David Maus Toyota, we strive to make every ...  \n",
       "2  <p>Position Summary:</p>\\n<p>Project Managemen...  \n",
       "3  <p>Envision Physician Services is seeking a Ne...  \n",
       "4  <p>Envision Physician Services is seeking a Ne...  "
      ]
     },
     "execution_count": 10,
     "metadata": {},
     "output_type": "execute_result"
    }
   ],
   "source": [
    "df.Description = df.Description.astype(str)\n",
    "df['Cleaned_Description'] = df.Description.apply(cleanhtml)\n",
    "df[['Cleaned_Description','Description']][:5]"
   ]
  },
  {
   "cell_type": "code",
   "execution_count": 12,
   "id": "0c619bae-da6e-4c64-8907-6b505b01c7bf",
   "metadata": {},
   "outputs": [
    {
     "data": {
      "text/plain": [
       "\"<p>Looking for part-time PT&nbsp;for a quick growing and dynamic outpatient physical therapy clinic. Mentorship available and encouraged!&nbsp; Our clinic focuses on manual therapy and exercise in a well equipped clinic with the latest equipment and modalities. We take an active approach to rehabilitation and always take the time to care. Our clinic offers personalized physical therapy in a warm and caring environment. Every day is a positive day at Andrew PT! Very manageable daily case load of 8-10 patients per day so you can spend the quality time with patients that makes work and life enjoyable!&nbsp; On a separate note, we&nbsp;also have all the necessary equipment and private treatment room for a women's health&nbsp;program if you have those clinical skills or interest.</p> <p>Our clinic is cutting edge and is even solar powered. Large vaulted ceiling workout area and 9 personalized treatment rooms with the clinic spanning 4,000 square feet total. Our clinic is located in McMinnville, OR which is perfectly situated for the recreational enthusiast. One can be at the beach, in the mountains hiking or cycling within minutes. Mentorship is available and encouraged as we believe personal growth is one of the key ingredients to keep us happy as clinicians. Personal growth through continued learning and education helps keep us motivated and also helps us to better serve our patients. New graduates are welcome as well as the therapist with experience.&nbsp; For more information please contact via e-mail&nbsp;(john.andrewpt@gmail.com)&nbsp;or fax your resume to to (503) 435-1930. You may also visit our website at www.AndrewPT.com. 72K+ salary per year to start for DPT depending on experience. Benefits for full-time work: Competitive salary, 401K w/ company matching &amp; Profit Sharing, Employee full medical and dental coverage,&nbsp;4 wks paid vacation (including 6 paid Holidays over 5 weeks paid time off per year), yearly bonus based on performance/profits, 6 major Holidays paid per year, OR PT yearly licensing fee paid, $1,200 yearly continuing education fund, more benefits as well.</p>\""
      ]
     },
     "execution_count": 12,
     "metadata": {},
     "output_type": "execute_result"
    }
   ],
   "source": [
    "df.Description[0]"
   ]
  },
  {
   "cell_type": "code",
   "execution_count": 13,
   "id": "e45f0fbc-0902-4b99-9aa0-99c2c4991d58",
   "metadata": {},
   "outputs": [
    {
     "data": {
      "text/plain": [
       "\"Looking for part-time PT&nbsp;for a quick growing and dynamic outpatient physical therapy clinic. Mentorship available and encouraged!&nbsp; Our clinic focuses on manual therapy and exercise in a well equipped clinic with the latest equipment and modalities. We take an active approach to rehabilitation and always take the time to care. Our clinic offers personalized physical therapy in a warm and caring environment. Every day is a positive day at Andrew PT! Very manageable daily case load of 8-10 patients per day so you can spend the quality time with patients that makes work and life enjoyable!&nbsp; On a separate note, we&nbsp;also have all the necessary equipment and private treatment room for a women's health&nbsp;program if you have those clinical skills or interest. Our clinic is cutting edge and is even solar powered. Large vaulted ceiling workout area and 9 personalized treatment rooms with the clinic spanning 4,000 square feet total. Our clinic is located in McMinnville, OR which is perfectly situated for the recreational enthusiast. One can be at the beach, in the mountains hiking or cycling within minutes. Mentorship is available and encouraged as we believe personal growth is one of the key ingredients to keep us happy as clinicians. Personal growth through continued learning and education helps keep us motivated and also helps us to better serve our patients. New graduates are welcome as well as the therapist with experience.&nbsp; For more information please contact via e-mail&nbsp;(john.andrewpt@gmail.com)&nbsp;or fax your resume to to (503) 435-1930. You may also visit our website at www.AndrewPT.com. 72K+ salary per year to start for DPT depending on experience. Benefits for full-time work: Competitive salary, 401K w/ company matching &amp; Profit Sharing, Employee full medical and dental coverage,&nbsp;4 wks paid vacation (including 6 paid Holidays over 5 weeks paid time off per year), yearly bonus based on performance/profits, 6 major Holidays paid per year, OR PT yearly licensing fee paid, $1,200 yearly continuing education fund, more benefits as well.\""
      ]
     },
     "execution_count": 13,
     "metadata": {},
     "output_type": "execute_result"
    }
   ],
   "source": [
    "df.Cleaned_Description[0]"
   ]
  },
  {
   "cell_type": "code",
   "execution_count": 16,
   "id": "7ec2a012-cbe8-48a5-9419-43ca00efd283",
   "metadata": {},
   "outputs": [
    {
     "data": {
      "text/html": [
       "<div>\n",
       "<style scoped>\n",
       "    .dataframe tbody tr th:only-of-type {\n",
       "        vertical-align: middle;\n",
       "    }\n",
       "\n",
       "    .dataframe tbody tr th {\n",
       "        vertical-align: top;\n",
       "    }\n",
       "\n",
       "    .dataframe thead th {\n",
       "        text-align: right;\n",
       "    }\n",
       "</style>\n",
       "<table border=\"1\" class=\"dataframe\">\n",
       "  <thead>\n",
       "    <tr style=\"text-align: right;\">\n",
       "      <th></th>\n",
       "      <th>Entity Name</th>\n",
       "    </tr>\n",
       "  </thead>\n",
       "  <tbody>\n",
       "    <tr>\n",
       "      <th>0</th>\n",
       "      <td>&amp;amp;</td>\n",
       "    </tr>\n",
       "    <tr>\n",
       "      <th>1</th>\n",
       "      <td>&amp;lt;</td>\n",
       "    </tr>\n",
       "    <tr>\n",
       "      <th>2</th>\n",
       "      <td>&amp;gt;</td>\n",
       "    </tr>\n",
       "    <tr>\n",
       "      <th>3</th>\n",
       "      <td>&amp;Agrave;</td>\n",
       "    </tr>\n",
       "    <tr>\n",
       "      <th>4</th>\n",
       "      <td>&amp;Aacute;</td>\n",
       "    </tr>\n",
       "    <tr>\n",
       "      <th>...</th>\n",
       "      <td>...</td>\n",
       "    </tr>\n",
       "    <tr>\n",
       "      <th>174</th>\n",
       "      <td>&amp;loz;</td>\n",
       "    </tr>\n",
       "    <tr>\n",
       "      <th>175</th>\n",
       "      <td>&amp;spades;</td>\n",
       "    </tr>\n",
       "    <tr>\n",
       "      <th>176</th>\n",
       "      <td>&amp;clubs;</td>\n",
       "    </tr>\n",
       "    <tr>\n",
       "      <th>177</th>\n",
       "      <td>&amp;hearts;</td>\n",
       "    </tr>\n",
       "    <tr>\n",
       "      <th>178</th>\n",
       "      <td>&amp;diams;</td>\n",
       "    </tr>\n",
       "  </tbody>\n",
       "</table>\n",
       "<p>179 rows × 1 columns</p>\n",
       "</div>"
      ],
      "text/plain": [
       "    Entity Name\n",
       "0         &amp;\n",
       "1          &lt;\n",
       "2          &gt;\n",
       "3      &Agrave;\n",
       "4      &Aacute;\n",
       "..          ...\n",
       "174       &loz;\n",
       "175    &spades;\n",
       "176     &clubs;\n",
       "177    &hearts;\n",
       "178     &diams;\n",
       "\n",
       "[179 rows x 1 columns]"
      ]
     },
     "execution_count": 16,
     "metadata": {},
     "output_type": "execute_result"
    }
   ],
   "source": [
    "entities = pd.read_csv('Entities html.csv')\n",
    "entities"
   ]
  },
  {
   "cell_type": "code",
   "execution_count": 17,
   "id": "dfe37a09-86ca-4186-9e4c-7e476a085e5b",
   "metadata": {},
   "outputs": [
    {
     "data": {
      "text/html": [
       "<div>\n",
       "<style scoped>\n",
       "    .dataframe tbody tr th:only-of-type {\n",
       "        vertical-align: middle;\n",
       "    }\n",
       "\n",
       "    .dataframe tbody tr th {\n",
       "        vertical-align: top;\n",
       "    }\n",
       "\n",
       "    .dataframe thead th {\n",
       "        text-align: right;\n",
       "    }\n",
       "</style>\n",
       "<table border=\"1\" class=\"dataframe\">\n",
       "  <thead>\n",
       "    <tr style=\"text-align: right;\">\n",
       "      <th></th>\n",
       "      <th>Entity Name</th>\n",
       "    </tr>\n",
       "  </thead>\n",
       "  <tbody>\n",
       "    <tr>\n",
       "      <th>35</th>\n",
       "      <td>&amp;nbsp;</td>\n",
       "    </tr>\n",
       "  </tbody>\n",
       "</table>\n",
       "</div>"
      ],
      "text/plain": [
       "   Entity Name\n",
       "35      &nbsp;"
      ]
     },
     "execution_count": 17,
     "metadata": {},
     "output_type": "execute_result"
    }
   ],
   "source": [
    "entities[entities[\"Entity Name\"]=='&nbsp;']"
   ]
  },
  {
   "cell_type": "code",
   "execution_count": 20,
   "id": "1ecf29b6-ff83-467b-af9d-2dee650846ae",
   "metadata": {},
   "outputs": [
    {
     "data": {
      "text/plain": [
       "True"
      ]
     },
     "execution_count": 20,
     "metadata": {},
     "output_type": "execute_result"
    }
   ],
   "source": [
    "'&nbsp;' in df.Cleaned_Description[0]"
   ]
  },
  {
   "cell_type": "code",
   "execution_count": 22,
   "id": "e7df7082-9cf1-4330-b017-c98b58b968aa",
   "metadata": {},
   "outputs": [
    {
     "data": {
      "text/plain": [
       "\"Looking for part-time PT\\xa0for a quick growing and dynamic outpatient physical therapy clinic. Mentorship available and encouraged!\\xa0 Our clinic focuses on manual therapy and exercise in a well equipped clinic with the latest equipment and modalities. We take an active approach to rehabilitation and always take the time to care. Our clinic offers personalized physical therapy in a warm and caring environment. Every day is a positive day at Andrew PT! Very manageable daily case load of 8-10 patients per day so you can spend the quality time with patients that makes work and life enjoyable!\\xa0 On a separate note, we\\xa0also have all the necessary equipment and private treatment room for a women's health\\xa0program if you have those clinical skills or interest. Our clinic is cutting edge and is even solar powered. Large vaulted ceiling workout area and 9 personalized treatment rooms with the clinic spanning 4,000 square feet total. Our clinic is located in McMinnville, OR which is perfectly situated for the recreational enthusiast. One can be at the beach, in the mountains hiking or cycling within minutes. Mentorship is available and encouraged as we believe personal growth is one of the key ingredients to keep us happy as clinicians. Personal growth through continued learning and education helps keep us motivated and also helps us to better serve our patients. New graduates are welcome as well as the therapist with experience.\\xa0 For more information please contact via e-mail\\xa0(john.andrewpt@gmail.com)\\xa0or fax your resume to to (503) 435-1930. You may also visit our website at www.AndrewPT.com. 72K+ salary per year to start for DPT depending on experience. Benefits for full-time work: Competitive salary, 401K w/ company matching & Profit Sharing, Employee full medical and dental coverage,\\xa04 wks paid vacation (including 6 paid Holidays over 5 weeks paid time off per year), yearly bonus based on performance/profits, 6 major Holidays paid per year, OR PT yearly licensing fee paid, $1,200 yearly continuing education fund, more benefits as well.\""
      ]
     },
     "execution_count": 22,
     "metadata": {},
     "output_type": "execute_result"
    }
   ],
   "source": [
    "# from w3lib.html import replace_entities\n",
    "# replace_entities(df.Cleaned_Description[0])"
   ]
  },
  {
   "cell_type": "code",
   "execution_count": 25,
   "id": "317d96b6-7439-42f2-9492-6fb00488b0d9",
   "metadata": {},
   "outputs": [],
   "source": [
    "# for entity in entities['Entity Name']:\n",
    "#     print(entity)\n",
    "#     df.Cleaned_Description = df.Cleaned_Description.replace(entity,\" \")"
   ]
  },
  {
   "cell_type": "code",
   "execution_count": 26,
   "id": "479aafd5-fcae-4c2d-86a9-edf65d9f3749",
   "metadata": {},
   "outputs": [
    {
     "data": {
      "text/plain": [
       "\"Looking for part-time PT&nbsp;for a quick growing and dynamic outpatient physical therapy clinic. Mentorship available and encouraged!&nbsp; Our clinic focuses on manual therapy and exercise in a well equipped clinic with the latest equipment and modalities. We take an active approach to rehabilitation and always take the time to care. Our clinic offers personalized physical therapy in a warm and caring environment. Every day is a positive day at Andrew PT! Very manageable daily case load of 8-10 patients per day so you can spend the quality time with patients that makes work and life enjoyable!&nbsp; On a separate note, we&nbsp;also have all the necessary equipment and private treatment room for a women's health&nbsp;program if you have those clinical skills or interest. Our clinic is cutting edge and is even solar powered. Large vaulted ceiling workout area and 9 personalized treatment rooms with the clinic spanning 4,000 square feet total. Our clinic is located in McMinnville, OR which is perfectly situated for the recreational enthusiast. One can be at the beach, in the mountains hiking or cycling within minutes. Mentorship is available and encouraged as we believe personal growth is one of the key ingredients to keep us happy as clinicians. Personal growth through continued learning and education helps keep us motivated and also helps us to better serve our patients. New graduates are welcome as well as the therapist with experience.&nbsp; For more information please contact via e-mail&nbsp;(john.andrewpt@gmail.com)&nbsp;or fax your resume to to (503) 435-1930. You may also visit our website at www.AndrewPT.com. 72K+ salary per year to start for DPT depending on experience. Benefits for full-time work: Competitive salary, 401K w/ company matching &amp; Profit Sharing, Employee full medical and dental coverage,&nbsp;4 wks paid vacation (including 6 paid Holidays over 5 weeks paid time off per year), yearly bonus based on performance/profits, 6 major Holidays paid per year, OR PT yearly licensing fee paid, $1,200 yearly continuing education fund, more benefits as well.\""
      ]
     },
     "execution_count": 26,
     "metadata": {},
     "output_type": "execute_result"
    }
   ],
   "source": [
    "df.Cleaned_Description[0]"
   ]
  },
  {
   "cell_type": "code",
   "execution_count": null,
   "id": "18fe11f6-0d51-44f1-bb03-7911c15e967b",
   "metadata": {},
   "outputs": [],
   "source": []
  }
 ],
 "metadata": {
  "kernelspec": {
   "display_name": "Python 3 (ipykernel)",
   "language": "python",
   "name": "python3"
  },
  "language_info": {
   "codemirror_mode": {
    "name": "ipython",
    "version": 3
   },
   "file_extension": ".py",
   "mimetype": "text/x-python",
   "name": "python",
   "nbconvert_exporter": "python",
   "pygments_lexer": "ipython3",
   "version": "3.9.7"
  }
 },
 "nbformat": 4,
 "nbformat_minor": 5
}
