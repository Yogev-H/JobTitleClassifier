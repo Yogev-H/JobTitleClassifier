{
 "cells": [
  {
   "cell_type": "markdown",
   "metadata": {},
   "source": [
    "# Imports"
   ]
  },
  {
   "cell_type": "code",
   "execution_count": 1,
   "metadata": {},
   "outputs": [
    {
     "name": "stderr",
     "output_type": "stream",
     "text": [
      "[nltk_data] Downloading package stopwords to\n",
      "[nltk_data]     C:\\Users\\yhadad\\AppData\\Roaming\\nltk_data...\n",
      "[nltk_data]   Package stopwords is already up-to-date!\n",
      "[nltk_data] Downloading package wordnet to\n",
      "[nltk_data]     C:\\Users\\yhadad\\AppData\\Roaming\\nltk_data...\n",
      "[nltk_data]   Package wordnet is already up-to-date!\n"
     ]
    }
   ],
   "source": [
    "import pandas as pd\n",
    "import numpy as np\n",
    "import glob\n",
    "import re\n",
    "import string\n",
    "from bs4 import BeautifulSoup\n",
    "\n",
    "# nltk\n",
    "import nltk\n",
    "nltk.download('stopwords')\n",
    "nltk.download('wordnet')\n",
    "from nltk.stem import WordNetLemmatizer\n",
    "from nltk.stem import PorterStemmer\n",
    "from nltk.tokenize import word_tokenize\n",
    "from nltk.corpus import stopwords "
   ]
  },
  {
   "cell_type": "code",
   "execution_count": 2,
   "metadata": {},
   "outputs": [
    {
     "name": "stdout",
     "output_type": "stream",
     "text": [
      "(31427, 5)\n"
     ]
    }
   ],
   "source": [
    "# load data\n",
    "\n",
    "df = pd.read_parquet('datasets\\job_title_dataset.parquet')\n",
    "print(df.shape)"
   ]
  },
  {
   "cell_type": "code",
   "execution_count": 3,
   "metadata": {},
   "outputs": [
    {
     "data": {
      "text/html": [
       "<div>\n",
       "<style scoped>\n",
       "    .dataframe tbody tr th:only-of-type {\n",
       "        vertical-align: middle;\n",
       "    }\n",
       "\n",
       "    .dataframe tbody tr th {\n",
       "        vertical-align: top;\n",
       "    }\n",
       "\n",
       "    .dataframe thead th {\n",
       "        text-align: right;\n",
       "    }\n",
       "</style>\n",
       "<table border=\"1\" class=\"dataframe\">\n",
       "  <thead>\n",
       "    <tr style=\"text-align: right;\">\n",
       "      <th></th>\n",
       "      <th>JobId</th>\n",
       "      <th>JobTitleId</th>\n",
       "      <th>ExtJobTitleText</th>\n",
       "      <th>JobTitle</th>\n",
       "      <th>Description</th>\n",
       "    </tr>\n",
       "  </thead>\n",
       "  <tbody>\n",
       "    <tr>\n",
       "      <th>0</th>\n",
       "      <td>40282074</td>\n",
       "      <td>427</td>\n",
       "      <td>Business Development Center Agent</td>\n",
       "      <td>Medical Scientist</td>\n",
       "      <td>For generations, the Landers family has been i...</td>\n",
       "    </tr>\n",
       "    <tr>\n",
       "      <th>1</th>\n",
       "      <td>44324647</td>\n",
       "      <td>400725</td>\n",
       "      <td>Technician I</td>\n",
       "      <td>Automotive Technician</td>\n",
       "      <td>&lt;div class=\"earcu_posdescriptionContainer\"&gt;&lt;di...</td>\n",
       "    </tr>\n",
       "    <tr>\n",
       "      <th>2</th>\n",
       "      <td>46373521</td>\n",
       "      <td>401285</td>\n",
       "      <td>RN or LPN Clinic Nurse, Urology</td>\n",
       "      <td>Nurse Practitioner (NP)</td>\n",
       "      <td>&lt;p&gt;&lt;strong&gt;Position:&lt;/strong&gt; Licensed Practic...</td>\n",
       "    </tr>\n",
       "    <tr>\n",
       "      <th>3</th>\n",
       "      <td>48612525</td>\n",
       "      <td>400725</td>\n",
       "      <td>Service Technician</td>\n",
       "      <td>Automotive Technician</td>\n",
       "      <td>Service Technician &lt;br/&gt;  Every employee with ...</td>\n",
       "    </tr>\n",
       "    <tr>\n",
       "      <th>4</th>\n",
       "      <td>50240652</td>\n",
       "      <td>400725</td>\n",
       "      <td>Mechanic Tech A</td>\n",
       "      <td>Automotive Technician</td>\n",
       "      <td>&lt;div class=\"earcu_posdescriptionContainer\"&gt;&lt;di...</td>\n",
       "    </tr>\n",
       "  </tbody>\n",
       "</table>\n",
       "</div>"
      ],
      "text/plain": [
       "      JobId  JobTitleId                    ExtJobTitleText  \\\n",
       "0  40282074         427  Business Development Center Agent   \n",
       "1  44324647      400725                       Technician I   \n",
       "2  46373521      401285    RN or LPN Clinic Nurse, Urology   \n",
       "3  48612525      400725                 Service Technician   \n",
       "4  50240652      400725                    Mechanic Tech A   \n",
       "\n",
       "                  JobTitle                                        Description  \n",
       "0        Medical Scientist  For generations, the Landers family has been i...  \n",
       "1    Automotive Technician  <div class=\"earcu_posdescriptionContainer\"><di...  \n",
       "2  Nurse Practitioner (NP)  <p><strong>Position:</strong> Licensed Practic...  \n",
       "3    Automotive Technician  Service Technician <br/>  Every employee with ...  \n",
       "4    Automotive Technician  <div class=\"earcu_posdescriptionContainer\"><di...  "
      ]
     },
     "execution_count": 3,
     "metadata": {},
     "output_type": "execute_result"
    }
   ],
   "source": [
    "df.head()"
   ]
  },
  {
   "cell_type": "code",
   "execution_count": 4,
   "metadata": {},
   "outputs": [
    {
     "name": "stdout",
     "output_type": "stream",
     "text": [
      "(31427, 5)\n"
     ]
    }
   ],
   "source": [
    "# drop duplicates\n",
    "\n",
    "df.drop_duplicates(inplace=True)\n",
    "print(df.shape)"
   ]
  },
  {
   "cell_type": "code",
   "execution_count": 5,
   "metadata": {},
   "outputs": [
    {
     "name": "stdout",
     "output_type": "stream",
     "text": [
      "(31426, 5)\n"
     ]
    }
   ],
   "source": [
    "# remove nulls\n",
    "\n",
    "df.dropna(inplace=True)\n",
    "print(df.shape)"
   ]
  },
  {
   "cell_type": "code",
   "execution_count": 171,
   "metadata": {},
   "outputs": [],
   "source": [
    "# sampling maximum 100 example per category\n",
    "\n",
    "# df_sample = df.groupby('JobTitle').apply(lambda s: s.sample(100, replace=True)).drop_duplicates()\n",
    "# print(df_sample.shape)"
   ]
  },
  {
   "cell_type": "code",
   "execution_count": 6,
   "metadata": {},
   "outputs": [
    {
     "name": "stdout",
     "output_type": "stream",
     "text": [
      "(30689, 5)\n"
     ]
    }
   ],
   "source": [
    "# filter categories with only one example\n",
    "\n",
    "job_title_count = df.JobTitle.value_counts().to_frame()\n",
    "job_title_count = job_title_count[job_title_count.JobTitle>1]\n",
    "df = df[df.JobTitle.isin(job_title_count.index)]\n",
    "print(df.shape)"
   ]
  },
  {
   "cell_type": "code",
   "execution_count": 7,
   "metadata": {},
   "outputs": [
    {
     "data": {
      "text/html": [
       "<div>\n",
       "<style scoped>\n",
       "    .dataframe tbody tr th:only-of-type {\n",
       "        vertical-align: middle;\n",
       "    }\n",
       "\n",
       "    .dataframe tbody tr th {\n",
       "        vertical-align: top;\n",
       "    }\n",
       "\n",
       "    .dataframe thead th {\n",
       "        text-align: right;\n",
       "    }\n",
       "</style>\n",
       "<table border=\"1\" class=\"dataframe\">\n",
       "  <thead>\n",
       "    <tr style=\"text-align: right;\">\n",
       "      <th></th>\n",
       "      <th>JobId</th>\n",
       "      <th>JobTitleId</th>\n",
       "      <th>ExtJobTitleText</th>\n",
       "      <th>JobTitle</th>\n",
       "      <th>Description</th>\n",
       "    </tr>\n",
       "  </thead>\n",
       "  <tbody>\n",
       "    <tr>\n",
       "      <th>13</th>\n",
       "      <td>84279773</td>\n",
       "      <td>-1</td>\n",
       "      <td>Independent Operator</td>\n",
       "      <td>0000</td>\n",
       "      <td>&lt;div class=\"earcu_posdescriptionContainer\"&gt;&lt;di...</td>\n",
       "    </tr>\n",
       "    <tr>\n",
       "      <th>47</th>\n",
       "      <td>106345694</td>\n",
       "      <td>-1</td>\n",
       "      <td>Behavioral Health Activity Therapist</td>\n",
       "      <td>0000</td>\n",
       "      <td>&lt;p style=\"margin: 0in 0in 8pt;\"&gt;&lt;span style=\"f...</td>\n",
       "    </tr>\n",
       "    <tr>\n",
       "      <th>255</th>\n",
       "      <td>112523983</td>\n",
       "      <td>-1</td>\n",
       "      <td>Family Medicine NP/PA - Locum Tenens - Souther...</td>\n",
       "      <td>0000</td>\n",
       "      <td>&lt;p&gt;&lt;span style=\"font-size:14px\"&gt;Locums FP NP/P...</td>\n",
       "    </tr>\n",
       "    <tr>\n",
       "      <th>261</th>\n",
       "      <td>112524203</td>\n",
       "      <td>-1</td>\n",
       "      <td>Physician Only - Maternal Fetal Medicine Locum...</td>\n",
       "      <td>0000</td>\n",
       "      <td>&lt;p&gt;&lt;strong&gt;&lt;u&gt;Alumni Healthcare Staffing - &lt;/u...</td>\n",
       "    </tr>\n",
       "    <tr>\n",
       "      <th>262</th>\n",
       "      <td>112524210</td>\n",
       "      <td>-1</td>\n",
       "      <td>Full Time ER and Outpatient C/A Psychiatry Loc...</td>\n",
       "      <td>0000</td>\n",
       "      <td>&lt;p&gt; &lt;/p&gt;\\n\\n&lt;ul&gt;\\n\\t&lt;li&gt;Immediate start date&lt;/...</td>\n",
       "    </tr>\n",
       "    <tr>\n",
       "      <th>...</th>\n",
       "      <td>...</td>\n",
       "      <td>...</td>\n",
       "      <td>...</td>\n",
       "      <td>...</td>\n",
       "      <td>...</td>\n",
       "    </tr>\n",
       "    <tr>\n",
       "      <th>31126</th>\n",
       "      <td>492956814</td>\n",
       "      <td>-1</td>\n",
       "      <td>Senior Designer</td>\n",
       "      <td>0000</td>\n",
       "      <td>&lt;br&gt; &lt;/p&gt; Our client is a rapidly-growing agen...</td>\n",
       "    </tr>\n",
       "    <tr>\n",
       "      <th>31148</th>\n",
       "      <td>492993582</td>\n",
       "      <td>-1</td>\n",
       "      <td>Warehouse Clerical Support</td>\n",
       "      <td>0000</td>\n",
       "      <td>&lt;p&gt;Top Job&lt;/p&gt; &lt;p&gt;Located in Saint Cloud, MN&lt;/...</td>\n",
       "    </tr>\n",
       "    <tr>\n",
       "      <th>31197</th>\n",
       "      <td>493028900</td>\n",
       "      <td>-1</td>\n",
       "      <td>Learning Disabilities Teacher-Consultant - Sho...</td>\n",
       "      <td>0000</td>\n",
       "      <td>&lt;p&gt;&lt;i style=\"font-size: 10pt; font-family: Cam...</td>\n",
       "    </tr>\n",
       "    <tr>\n",
       "      <th>31357</th>\n",
       "      <td>493031025</td>\n",
       "      <td>-1</td>\n",
       "      <td>Test Job 12</td>\n",
       "      <td>0000</td>\n",
       "      <td>&lt;BR&gt;&lt;BR&gt; Internal ID: a0x3r00000K65b2AAB</td>\n",
       "    </tr>\n",
       "    <tr>\n",
       "      <th>31416</th>\n",
       "      <td>493082008</td>\n",
       "      <td>-1</td>\n",
       "      <td>Print Support Specialist</td>\n",
       "      <td>0000</td>\n",
       "      <td>&lt;p&gt;&lt;strong&gt;&lt;em&gt;Qualified candidates for this p...</td>\n",
       "    </tr>\n",
       "  </tbody>\n",
       "</table>\n",
       "<p>749 rows × 5 columns</p>\n",
       "</div>"
      ],
      "text/plain": [
       "           JobId  JobTitleId  \\\n",
       "13      84279773          -1   \n",
       "47     106345694          -1   \n",
       "255    112523983          -1   \n",
       "261    112524203          -1   \n",
       "262    112524210          -1   \n",
       "...          ...         ...   \n",
       "31126  492956814          -1   \n",
       "31148  492993582          -1   \n",
       "31197  493028900          -1   \n",
       "31357  493031025          -1   \n",
       "31416  493082008          -1   \n",
       "\n",
       "                                         ExtJobTitleText JobTitle  \\\n",
       "13                                  Independent Operator     0000   \n",
       "47                  Behavioral Health Activity Therapist     0000   \n",
       "255    Family Medicine NP/PA - Locum Tenens - Souther...     0000   \n",
       "261    Physician Only - Maternal Fetal Medicine Locum...     0000   \n",
       "262    Full Time ER and Outpatient C/A Psychiatry Loc...     0000   \n",
       "...                                                  ...      ...   \n",
       "31126                                    Senior Designer     0000   \n",
       "31148                         Warehouse Clerical Support     0000   \n",
       "31197  Learning Disabilities Teacher-Consultant - Sho...     0000   \n",
       "31357                                        Test Job 12     0000   \n",
       "31416                           Print Support Specialist     0000   \n",
       "\n",
       "                                             Description  \n",
       "13     <div class=\"earcu_posdescriptionContainer\"><di...  \n",
       "47     <p style=\"margin: 0in 0in 8pt;\"><span style=\"f...  \n",
       "255    <p><span style=\"font-size:14px\">Locums FP NP/P...  \n",
       "261    <p><strong><u>Alumni Healthcare Staffing - </u...  \n",
       "262    <p> </p>\\n\\n<ul>\\n\\t<li>Immediate start date</...  \n",
       "...                                                  ...  \n",
       "31126  <br> </p> Our client is a rapidly-growing agen...  \n",
       "31148  <p>Top Job</p> <p>Located in Saint Cloud, MN</...  \n",
       "31197  <p><i style=\"font-size: 10pt; font-family: Cam...  \n",
       "31357           <BR><BR> Internal ID: a0x3r00000K65b2AAB  \n",
       "31416  <p><strong><em>Qualified candidates for this p...  \n",
       "\n",
       "[749 rows x 5 columns]"
      ]
     },
     "execution_count": 7,
     "metadata": {},
     "output_type": "execute_result"
    }
   ],
   "source": [
    "df[df.JobTitleId<0]"
   ]
  },
  {
   "cell_type": "code",
   "execution_count": 8,
   "metadata": {},
   "outputs": [
    {
     "name": "stdout",
     "output_type": "stream",
     "text": [
      "(29940, 5)\n"
     ]
    }
   ],
   "source": [
    "# remove unmapped Job-Titles = (-1) \n",
    "\n",
    "df.drop(df[df.JobTitleId<0].index, inplace=True)\n",
    "print(df.shape)"
   ]
  },
  {
   "cell_type": "code",
   "execution_count": 6,
   "metadata": {},
   "outputs": [],
   "source": [
    "# pip install nltk"
   ]
  },
  {
   "cell_type": "code",
   "execution_count": 9,
   "metadata": {},
   "outputs": [],
   "source": [
    "# Apply a first round of text cleaning techniques\n",
    "\n",
    "def text_process(text):\n",
    "    \"\"\"\n",
    "    1. make text lowercase\n",
    "    2. remove html tags\n",
    "    3. remove punctuation \n",
    "    4. remove words containing numbers\n",
    "    5. return set of clean text words\n",
    "    \"\"\"  \n",
    "    text = text.lower()\n",
    "    text = re.sub('<.*?>', '', text)\n",
    "    text = BeautifulSoup(text).get_text()\n",
    "    text = re.sub('[%s]' % re.escape(string.punctuation), '', text)\n",
    "    text = re.sub('\\w*\\d\\w*', '', text)\n",
    "    text = [word for word in text.split() if word not in stopwords.words('english')] \n",
    "\n",
    "    return text\n",
    "\n",
    "round1 = lambda x: text_process(x)"
   ]
  },
  {
   "cell_type": "markdown",
   "metadata": {},
   "source": [
    "## spliting the data"
   ]
  },
  {
   "cell_type": "code",
   "execution_count": 101,
   "metadata": {},
   "outputs": [],
   "source": [
    "# df = df_sample.copy()"
   ]
  },
  {
   "cell_type": "code",
   "execution_count": 10,
   "metadata": {},
   "outputs": [
    {
     "data": {
      "text/plain": [
       "(29940, 5)"
      ]
     },
     "execution_count": 10,
     "metadata": {},
     "output_type": "execute_result"
    }
   ],
   "source": [
    "df.shape"
   ]
  },
  {
   "cell_type": "code",
   "execution_count": 11,
   "metadata": {},
   "outputs": [],
   "source": [
    "X = df.Description.apply(text_process)\n",
    "y = df['JobTitle']"
   ]
  },
  {
   "cell_type": "code",
   "execution_count": 12,
   "metadata": {},
   "outputs": [
    {
     "data": {
      "text/html": [
       "<div>\n",
       "<style scoped>\n",
       "    .dataframe tbody tr th:only-of-type {\n",
       "        vertical-align: middle;\n",
       "    }\n",
       "\n",
       "    .dataframe tbody tr th {\n",
       "        vertical-align: top;\n",
       "    }\n",
       "\n",
       "    .dataframe thead th {\n",
       "        text-align: right;\n",
       "    }\n",
       "</style>\n",
       "<table border=\"1\" class=\"dataframe\">\n",
       "  <thead>\n",
       "    <tr style=\"text-align: right;\">\n",
       "      <th></th>\n",
       "      <th>Description</th>\n",
       "      <th>JobTitle</th>\n",
       "    </tr>\n",
       "  </thead>\n",
       "  <tbody>\n",
       "    <tr>\n",
       "      <th>0</th>\n",
       "      <td>[generations, landers, family, car, businessst...</td>\n",
       "      <td>Medical Scientist</td>\n",
       "    </tr>\n",
       "    <tr>\n",
       "      <th>1</th>\n",
       "      <td>[avis, budget, group, actionpacked, highenergy...</td>\n",
       "      <td>Automotive Technician</td>\n",
       "    </tr>\n",
       "    <tr>\n",
       "      <th>2</th>\n",
       "      <td>[position, licensed, practical, nurse, registe...</td>\n",
       "      <td>Nurse Practitioner (NP)</td>\n",
       "    </tr>\n",
       "    <tr>\n",
       "      <th>3</th>\n",
       "      <td>[service, technician, every, employee, starlin...</td>\n",
       "      <td>Automotive Technician</td>\n",
       "    </tr>\n",
       "    <tr>\n",
       "      <th>4</th>\n",
       "      <td>[avis, budget, group, actionpacked, highenergy...</td>\n",
       "      <td>Automotive Technician</td>\n",
       "    </tr>\n",
       "  </tbody>\n",
       "</table>\n",
       "</div>"
      ],
      "text/plain": [
       "                                         Description                 JobTitle\n",
       "0  [generations, landers, family, car, businessst...        Medical Scientist\n",
       "1  [avis, budget, group, actionpacked, highenergy...    Automotive Technician\n",
       "2  [position, licensed, practical, nurse, registe...  Nurse Practitioner (NP)\n",
       "3  [service, technician, every, employee, starlin...    Automotive Technician\n",
       "4  [avis, budget, group, actionpacked, highenergy...    Automotive Technician"
      ]
     },
     "execution_count": 12,
     "metadata": {},
     "output_type": "execute_result"
    }
   ],
   "source": [
    "processed_data = pd.DataFrame(X)\n",
    "processed_data['JobTitle'] = y\n",
    "processed_data.head()"
   ]
  },
  {
   "cell_type": "code",
   "execution_count": 14,
   "metadata": {},
   "outputs": [],
   "source": [
    "# save processed data\n",
    "\n",
    "processed_data.to_csv('datasets\\processed_data.csv',index=False)"
   ]
  }
 ],
 "metadata": {
  "kernelspec": {
   "display_name": "Python 3",
   "language": "python",
   "name": "python3"
  },
  "language_info": {
   "codemirror_mode": {
    "name": "ipython",
    "version": 3
   },
   "file_extension": ".py",
   "mimetype": "text/x-python",
   "name": "python",
   "nbconvert_exporter": "python",
   "pygments_lexer": "ipython3",
   "version": "3.8.5"
  }
 },
 "nbformat": 4,
 "nbformat_minor": 4
}
