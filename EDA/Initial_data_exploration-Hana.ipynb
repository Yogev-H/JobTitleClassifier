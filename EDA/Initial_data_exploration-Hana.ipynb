{
 "cells": [
  {
   "cell_type": "code",
   "execution_count": 1,
   "id": "1bbc1d12-96ea-49af-afc2-5f7b50a122fc",
   "metadata": {},
   "outputs": [
    {
     "data": {
      "text/html": [
       "<div>\n",
       "<style scoped>\n",
       "    .dataframe tbody tr th:only-of-type {\n",
       "        vertical-align: middle;\n",
       "    }\n",
       "\n",
       "    .dataframe tbody tr th {\n",
       "        vertical-align: top;\n",
       "    }\n",
       "\n",
       "    .dataframe thead th {\n",
       "        text-align: right;\n",
       "    }\n",
       "</style>\n",
       "<table border=\"1\" class=\"dataframe\">\n",
       "  <thead>\n",
       "    <tr style=\"text-align: right;\">\n",
       "      <th></th>\n",
       "      <th>JobId</th>\n",
       "      <th>JobTitleId</th>\n",
       "      <th>JobTitle</th>\n",
       "      <th>Description</th>\n",
       "    </tr>\n",
       "  </thead>\n",
       "  <tbody>\n",
       "    <tr>\n",
       "      <th>0</th>\n",
       "      <td>36126335</td>\n",
       "      <td>400878</td>\n",
       "      <td>Physical Therapist Assistant (PTA)</td>\n",
       "      <td>&lt;p&gt;Looking for part-time PT&amp;nbsp;for a quick g...</td>\n",
       "    </tr>\n",
       "    <tr>\n",
       "      <th>1</th>\n",
       "      <td>39345757</td>\n",
       "      <td>400720</td>\n",
       "      <td>Automotive Service Manager</td>\n",
       "      <td>At David Maus Toyota, we strive to make every ...</td>\n",
       "    </tr>\n",
       "    <tr>\n",
       "      <th>2</th>\n",
       "      <td>84331465</td>\n",
       "      <td>407973</td>\n",
       "      <td>Wastewater Project Manager</td>\n",
       "      <td>&lt;p&gt;Position Summary:&lt;/p&gt;\\n&lt;p&gt;Project Managemen...</td>\n",
       "    </tr>\n",
       "    <tr>\n",
       "      <th>3</th>\n",
       "      <td>88112060</td>\n",
       "      <td>402654</td>\n",
       "      <td>Neonatal Nurse</td>\n",
       "      <td>&lt;p&gt;Envision Physician Services is seeking a Ne...</td>\n",
       "    </tr>\n",
       "    <tr>\n",
       "      <th>4</th>\n",
       "      <td>88112450</td>\n",
       "      <td>402654</td>\n",
       "      <td>Neonatal Nurse</td>\n",
       "      <td>&lt;p&gt;Envision Physician Services is seeking a Ne...</td>\n",
       "    </tr>\n",
       "    <tr>\n",
       "      <th>5</th>\n",
       "      <td>88112460</td>\n",
       "      <td>402654</td>\n",
       "      <td>Neonatal Nurse</td>\n",
       "      <td>&lt;p&gt;Envision Physician Services is seeking a Ne...</td>\n",
       "    </tr>\n",
       "    <tr>\n",
       "      <th>6</th>\n",
       "      <td>88112463</td>\n",
       "      <td>402654</td>\n",
       "      <td>Neonatal Nurse</td>\n",
       "      <td>&lt;p&gt;$20,000 start date bonus!&lt;/p&gt;&lt;p&gt;Envision Ph...</td>\n",
       "    </tr>\n",
       "    <tr>\n",
       "      <th>7</th>\n",
       "      <td>88114236</td>\n",
       "      <td>402654</td>\n",
       "      <td>Neonatal Nurse</td>\n",
       "      <td>&lt;p&gt;Envision Physician Services is seeking a dy...</td>\n",
       "    </tr>\n",
       "    <tr>\n",
       "      <th>8</th>\n",
       "      <td>88114375</td>\n",
       "      <td>402654</td>\n",
       "      <td>Neonatal Nurse</td>\n",
       "      <td>&lt;p&gt;Envision Physician Services is seeking a Ne...</td>\n",
       "    </tr>\n",
       "    <tr>\n",
       "      <th>9</th>\n",
       "      <td>105364828</td>\n",
       "      <td>402654</td>\n",
       "      <td>Neonatal Nurse</td>\n",
       "      <td>&lt;p&gt;Night Shift Neonatal Nurse Practitioner Opp...</td>\n",
       "    </tr>\n",
       "  </tbody>\n",
       "</table>\n",
       "</div>"
      ],
      "text/plain": [
       "       JobId  JobTitleId                            JobTitle  \\\n",
       "0   36126335      400878  Physical Therapist Assistant (PTA)   \n",
       "1   39345757      400720          Automotive Service Manager   \n",
       "2   84331465      407973          Wastewater Project Manager   \n",
       "3   88112060      402654                      Neonatal Nurse   \n",
       "4   88112450      402654                      Neonatal Nurse   \n",
       "5   88112460      402654                      Neonatal Nurse   \n",
       "6   88112463      402654                      Neonatal Nurse   \n",
       "7   88114236      402654                      Neonatal Nurse   \n",
       "8   88114375      402654                      Neonatal Nurse   \n",
       "9  105364828      402654                      Neonatal Nurse   \n",
       "\n",
       "                                         Description  \n",
       "0  <p>Looking for part-time PT&nbsp;for a quick g...  \n",
       "1  At David Maus Toyota, we strive to make every ...  \n",
       "2  <p>Position Summary:</p>\\n<p>Project Managemen...  \n",
       "3  <p>Envision Physician Services is seeking a Ne...  \n",
       "4  <p>Envision Physician Services is seeking a Ne...  \n",
       "5  <p>Envision Physician Services is seeking a Ne...  \n",
       "6  <p>$20,000 start date bonus!</p><p>Envision Ph...  \n",
       "7  <p>Envision Physician Services is seeking a dy...  \n",
       "8  <p>Envision Physician Services is seeking a Ne...  \n",
       "9  <p>Night Shift Neonatal Nurse Practitioner Opp...  "
      ]
     },
     "execution_count": 1,
     "metadata": {},
     "output_type": "execute_result"
    }
   ],
   "source": [
    "import pandas as pd\n",
    "df = pd.read_parquet('job_title_dataset.parquet')\n",
    "df.head(10)"
   ]
  },
  {
   "cell_type": "code",
   "execution_count": 2,
   "id": "5f51b311-eefd-49b8-86c5-17fb59ed64f3",
   "metadata": {},
   "outputs": [],
   "source": [
    "## An idea: do some feature engineering is the word verb, noun or so and some more features. Later use a Decision Tree to say if it is a job title."
   ]
  },
  {
   "cell_type": "code",
   "execution_count": 3,
   "id": "2d830074-e1a0-4e1c-b2ec-87e97410a704",
   "metadata": {},
   "outputs": [
    {
     "name": "stdout",
     "output_type": "stream",
     "text": [
      "<class 'pandas.core.frame.DataFrame'>\n",
      "RangeIndex: 1100 entries, 0 to 1099\n",
      "Data columns (total 4 columns):\n",
      " #   Column       Non-Null Count  Dtype \n",
      "---  ------       --------------  ----- \n",
      " 0   JobId        1100 non-null   object\n",
      " 1   JobTitleId   1100 non-null   int32 \n",
      " 2   JobTitle     1100 non-null   object\n",
      " 3   Description  1099 non-null   object\n",
      "dtypes: int32(1), object(3)\n",
      "memory usage: 30.2+ KB\n"
     ]
    }
   ],
   "source": [
    "df.info(0)"
   ]
  },
  {
   "cell_type": "code",
   "execution_count": 4,
   "id": "8782ef8d-a9ea-4708-b2a2-0210df27c612",
   "metadata": {},
   "outputs": [
    {
     "data": {
      "text/plain": [
       "\"<p>Looking for part-time PT&nbsp;for a quick growing and dynamic outpatient physical therapy clinic. Mentorship available and encouraged!&nbsp; Our clinic focuses on manual therapy and exercise in a well equipped clinic with the latest equipment and modalities. We take an active approach to rehabilitation and always take the time to care. Our clinic offers personalized physical therapy in a warm and caring environment. Every day is a positive day at Andrew PT! Very manageable daily case load of 8-10 patients per day so you can spend the quality time with patients that makes work and life enjoyable!&nbsp; On a separate note, we&nbsp;also have all the necessary equipment and private treatment room for a women's health&nbsp;program if you have those clinical skills or interest.</p> <p>Our clinic is cutting edge and is even solar powered. Large vaulted ceiling workout area and 9 personalized treatment rooms with the clinic spanning 4,000 square feet total. Our clinic is located in McMinnville, OR which is perfectly situated for the recreational enthusiast. One can be at the beach, in the mountains hiking or cycling within minutes. Mentorship is available and encouraged as we believe personal growth is one of the key ingredients to keep us happy as clinicians. Personal growth through continued learning and education helps keep us motivated and also helps us to better serve our patients. New graduates are welcome as well as the therapist with experience.&nbsp; For more information please contact via e-mail&nbsp;(john.andrewpt@gmail.com)&nbsp;or fax your resume to to (503) 435-1930. You may also visit our website at www.AndrewPT.com. 72K+ salary per year to start for DPT depending on experience. Benefits for full-time work: Competitive salary, 401K w/ company matching &amp; Profit Sharing, Employee full medical and dental coverage,&nbsp;4 wks paid vacation (including 6 paid Holidays over 5 weeks paid time off per year), yearly bonus based on performance/profits, 6 major Holidays paid per year, OR PT yearly licensing fee paid, $1,200 yearly continuing education fund, more benefits as well.</p>\""
      ]
     },
     "execution_count": 4,
     "metadata": {},
     "output_type": "execute_result"
    }
   ],
   "source": [
    "df[\"Description\"][0]"
   ]
  },
  {
   "cell_type": "code",
   "execution_count": 5,
   "id": "4841a1e1-7e1a-4e18-a7bb-00d65c9433a5",
   "metadata": {},
   "outputs": [
    {
     "data": {
      "text/plain": [
       "(1100, 4)"
      ]
     },
     "execution_count": 5,
     "metadata": {},
     "output_type": "execute_result"
    }
   ],
   "source": [
    "df.shape"
   ]
  },
  {
   "cell_type": "code",
   "execution_count": 6,
   "id": "70d3574b-f271-4536-9260-46f7c322de54",
   "metadata": {},
   "outputs": [
    {
     "data": {
      "text/plain": [
       "36126335     1\n",
       "354752928    1\n",
       "355842722    1\n",
       "355842707    1\n",
       "355842688    1\n",
       "            ..\n",
       "214153163    1\n",
       "214153983    1\n",
       "214155164    1\n",
       "214155598    1\n",
       "502012958    1\n",
       "Name: JobId, Length: 1100, dtype: int64"
      ]
     },
     "execution_count": 6,
     "metadata": {},
     "output_type": "execute_result"
    }
   ],
   "source": [
    "df.JobId.value_counts()"
   ]
  },
  {
   "cell_type": "code",
   "execution_count": 7,
   "id": "1ba3e0ea-c941-4f38-9525-fd95af94baa2",
   "metadata": {},
   "outputs": [
    {
     "data": {
      "text/plain": [
       "21        342\n",
       "400878    200\n",
       "400832    116\n",
       "404021     43\n",
       "405771     40\n",
       "400720     34\n",
       "409393     30\n",
       "402654     26\n",
       "100462     25\n",
       "314        24\n",
       "403014     21\n",
       "409048     19\n",
       "402389     16\n",
       "402151     16\n",
       "405365     14\n",
       "400439     12\n",
       "400851     11\n",
       "406570     11\n",
       "402935      9\n",
       "404400      9\n",
       "407493      7\n",
       "407122      6\n",
       "407787      6\n",
       "402839      6\n",
       "405894      5\n",
       "402713      5\n",
       "407973      5\n",
       "405025      4\n",
       "407179      4\n",
       "407073      3\n",
       "401104      3\n",
       "406011      2\n",
       "402691      2\n",
       "407097      2\n",
       "404170      2\n",
       "402086      2\n",
       "403336      2\n",
       "408124      2\n",
       "401190      2\n",
       "400671      1\n",
       "530         1\n",
       "100674      1\n",
       "410520      1\n",
       "405809      1\n",
       "405469      1\n",
       "100015      1\n",
       "405644      1\n",
       "409779      1\n",
       "408888      1\n",
       "405490      1\n",
       "408352      1\n",
       "Name: JobTitleId, dtype: int64"
      ]
     },
     "execution_count": 7,
     "metadata": {},
     "output_type": "execute_result"
    }
   ],
   "source": [
    "df.JobTitleId.value_counts()"
   ]
  },
  {
   "cell_type": "code",
   "execution_count": 8,
   "id": "b39a6dca-63e4-4fd6-9133-696daa1c92f2",
   "metadata": {},
   "outputs": [
    {
     "data": {
      "text/plain": [
       "1      12\n",
       "2       8\n",
       "5       3\n",
       "6       3\n",
       "11      2\n",
       "4       2\n",
       "3       2\n",
       "16      2\n",
       "342     1\n",
       "21      1\n",
       "19      1\n",
       "7       1\n",
       "40      1\n",
       "14      1\n",
       "9       1\n",
       "43      1\n",
       "26      1\n",
       "8       1\n",
       "24      1\n",
       "200     1\n",
       "116     1\n",
       "34      1\n",
       "12      1\n",
       "25      1\n",
       "30      1\n",
       "Name: Description, dtype: int64"
      ]
     },
     "execution_count": 8,
     "metadata": {},
     "output_type": "execute_result"
    }
   ],
   "source": [
    "df.groupby('JobTitleId').Description.nunique().value_counts()"
   ]
  },
  {
   "cell_type": "code",
   "execution_count": 10,
   "id": "e04135bc-8d71-4411-b295-b539e885bbee",
   "metadata": {},
   "outputs": [],
   "source": [
    "import re\n",
    "\n",
    "CLEANR = re.compile('<.*?>')\n",
    "\n",
    "def cleanhtml(raw_html):\n",
    "    cleantext = re.sub(CLEANR, ' ', raw_html)\n",
    "    return cleantext"
   ]
  },
  {
   "cell_type": "code",
   "execution_count": 11,
   "id": "1a224513-06cf-4753-8417-9a8744c31a16",
   "metadata": {},
   "outputs": [
    {
     "data": {
      "text/html": [
       "<div>\n",
       "<style scoped>\n",
       "    .dataframe tbody tr th:only-of-type {\n",
       "        vertical-align: middle;\n",
       "    }\n",
       "\n",
       "    .dataframe tbody tr th {\n",
       "        vertical-align: top;\n",
       "    }\n",
       "\n",
       "    .dataframe thead th {\n",
       "        text-align: right;\n",
       "    }\n",
       "</style>\n",
       "<table border=\"1\" class=\"dataframe\">\n",
       "  <thead>\n",
       "    <tr style=\"text-align: right;\">\n",
       "      <th></th>\n",
       "      <th>Cleaned_Description</th>\n",
       "      <th>Description</th>\n",
       "    </tr>\n",
       "  </thead>\n",
       "  <tbody>\n",
       "    <tr>\n",
       "      <th>0</th>\n",
       "      <td>Looking for part-time PT&amp;nbsp;for a quick gro...</td>\n",
       "      <td>&lt;p&gt;Looking for part-time PT&amp;nbsp;for a quick g...</td>\n",
       "    </tr>\n",
       "    <tr>\n",
       "      <th>1</th>\n",
       "      <td>At David Maus Toyota, we strive to make every ...</td>\n",
       "      <td>At David Maus Toyota, we strive to make every ...</td>\n",
       "    </tr>\n",
       "    <tr>\n",
       "      <th>2</th>\n",
       "      <td>Position Summary: \\n Project Management perso...</td>\n",
       "      <td>&lt;p&gt;Position Summary:&lt;/p&gt;\\n&lt;p&gt;Project Managemen...</td>\n",
       "    </tr>\n",
       "    <tr>\n",
       "      <th>3</th>\n",
       "      <td>Envision Physician Services is seeking a Neon...</td>\n",
       "      <td>&lt;p&gt;Envision Physician Services is seeking a Ne...</td>\n",
       "    </tr>\n",
       "    <tr>\n",
       "      <th>4</th>\n",
       "      <td>Envision Physician Services is seeking a Neon...</td>\n",
       "      <td>&lt;p&gt;Envision Physician Services is seeking a Ne...</td>\n",
       "    </tr>\n",
       "  </tbody>\n",
       "</table>\n",
       "</div>"
      ],
      "text/plain": [
       "                                 Cleaned_Description  \\\n",
       "0   Looking for part-time PT&nbsp;for a quick gro...   \n",
       "1  At David Maus Toyota, we strive to make every ...   \n",
       "2   Position Summary: \\n Project Management perso...   \n",
       "3   Envision Physician Services is seeking a Neon...   \n",
       "4   Envision Physician Services is seeking a Neon...   \n",
       "\n",
       "                                         Description  \n",
       "0  <p>Looking for part-time PT&nbsp;for a quick g...  \n",
       "1  At David Maus Toyota, we strive to make every ...  \n",
       "2  <p>Position Summary:</p>\\n<p>Project Managemen...  \n",
       "3  <p>Envision Physician Services is seeking a Ne...  \n",
       "4  <p>Envision Physician Services is seeking a Ne...  "
      ]
     },
     "execution_count": 11,
     "metadata": {},
     "output_type": "execute_result"
    }
   ],
   "source": [
    "df.Description = df.Description.astype(str)\n",
    "df['Cleaned_Description'] = df.Description.apply(cleanhtml)\n",
    "df[['Cleaned_Description','Description']][:5]"
   ]
  },
  {
   "cell_type": "code",
   "execution_count": 12,
   "id": "0c619bae-da6e-4c64-8907-6b505b01c7bf",
   "metadata": {},
   "outputs": [
    {
     "data": {
      "text/plain": [
       "\"<p>Looking for part-time PT&nbsp;for a quick growing and dynamic outpatient physical therapy clinic. Mentorship available and encouraged!&nbsp; Our clinic focuses on manual therapy and exercise in a well equipped clinic with the latest equipment and modalities. We take an active approach to rehabilitation and always take the time to care. Our clinic offers personalized physical therapy in a warm and caring environment. Every day is a positive day at Andrew PT! Very manageable daily case load of 8-10 patients per day so you can spend the quality time with patients that makes work and life enjoyable!&nbsp; On a separate note, we&nbsp;also have all the necessary equipment and private treatment room for a women's health&nbsp;program if you have those clinical skills or interest.</p> <p>Our clinic is cutting edge and is even solar powered. Large vaulted ceiling workout area and 9 personalized treatment rooms with the clinic spanning 4,000 square feet total. Our clinic is located in McMinnville, OR which is perfectly situated for the recreational enthusiast. One can be at the beach, in the mountains hiking or cycling within minutes. Mentorship is available and encouraged as we believe personal growth is one of the key ingredients to keep us happy as clinicians. Personal growth through continued learning and education helps keep us motivated and also helps us to better serve our patients. New graduates are welcome as well as the therapist with experience.&nbsp; For more information please contact via e-mail&nbsp;(john.andrewpt@gmail.com)&nbsp;or fax your resume to to (503) 435-1930. You may also visit our website at www.AndrewPT.com. 72K+ salary per year to start for DPT depending on experience. Benefits for full-time work: Competitive salary, 401K w/ company matching &amp; Profit Sharing, Employee full medical and dental coverage,&nbsp;4 wks paid vacation (including 6 paid Holidays over 5 weeks paid time off per year), yearly bonus based on performance/profits, 6 major Holidays paid per year, OR PT yearly licensing fee paid, $1,200 yearly continuing education fund, more benefits as well.</p>\""
      ]
     },
     "execution_count": 12,
     "metadata": {},
     "output_type": "execute_result"
    }
   ],
   "source": [
    "df.Description[0]"
   ]
  },
  {
   "cell_type": "code",
   "execution_count": 13,
   "id": "e45f0fbc-0902-4b99-9aa0-99c2c4991d58",
   "metadata": {},
   "outputs": [
    {
     "data": {
      "text/plain": [
       "\" Looking for part-time PT&nbsp;for a quick growing and dynamic outpatient physical therapy clinic. Mentorship available and encouraged!&nbsp; Our clinic focuses on manual therapy and exercise in a well equipped clinic with the latest equipment and modalities. We take an active approach to rehabilitation and always take the time to care. Our clinic offers personalized physical therapy in a warm and caring environment. Every day is a positive day at Andrew PT! Very manageable daily case load of 8-10 patients per day so you can spend the quality time with patients that makes work and life enjoyable!&nbsp; On a separate note, we&nbsp;also have all the necessary equipment and private treatment room for a women's health&nbsp;program if you have those clinical skills or interest.   Our clinic is cutting edge and is even solar powered. Large vaulted ceiling workout area and 9 personalized treatment rooms with the clinic spanning 4,000 square feet total. Our clinic is located in McMinnville, OR which is perfectly situated for the recreational enthusiast. One can be at the beach, in the mountains hiking or cycling within minutes. Mentorship is available and encouraged as we believe personal growth is one of the key ingredients to keep us happy as clinicians. Personal growth through continued learning and education helps keep us motivated and also helps us to better serve our patients. New graduates are welcome as well as the therapist with experience.&nbsp; For more information please contact via e-mail&nbsp;(john.andrewpt@gmail.com)&nbsp;or fax your resume to to (503) 435-1930. You may also visit our website at www.AndrewPT.com. 72K+ salary per year to start for DPT depending on experience. Benefits for full-time work: Competitive salary, 401K w/ company matching &amp; Profit Sharing, Employee full medical and dental coverage,&nbsp;4 wks paid vacation (including 6 paid Holidays over 5 weeks paid time off per year), yearly bonus based on performance/profits, 6 major Holidays paid per year, OR PT yearly licensing fee paid, $1,200 yearly continuing education fund, more benefits as well. \""
      ]
     },
     "execution_count": 13,
     "metadata": {},
     "output_type": "execute_result"
    }
   ],
   "source": [
    "df.Cleaned_Description[0]"
   ]
  },
  {
   "cell_type": "code",
   "execution_count": 30,
   "id": "fe8b646e-5734-4fc1-913e-16b0cdadbd45",
   "metadata": {},
   "outputs": [],
   "source": [
    "from html.parser import HTMLParser\n",
    "\n",
    "def cleanhtmlEntities(raw_html):\n",
    "#     print(raw_html)\n",
    "    h = HTMLParser()\n",
    "    clean_text = h.unescape(raw_html)\n",
    "#     print('*****')\n",
    "#     print(type(clean_text))\n",
    "    return clean_text"
   ]
  },
  {
   "cell_type": "code",
   "execution_count": 64,
   "id": "3fbf5793-b398-4c36-8e8a-bdc05c4e00d9",
   "metadata": {},
   "outputs": [],
   "source": [
    "import html \n",
    "\n",
    "def cleanhtmlEntities(raw_html):\n",
    "    clean_text = html.unescape(raw_html)\n",
    "    return clean_text"
   ]
  },
  {
   "cell_type": "code",
   "execution_count": 65,
   "id": "da364b1f-375f-4d3c-90c0-b2624de1141e",
   "metadata": {},
   "outputs": [
    {
     "data": {
      "text/html": [
       "<div>\n",
       "<style scoped>\n",
       "    .dataframe tbody tr th:only-of-type {\n",
       "        vertical-align: middle;\n",
       "    }\n",
       "\n",
       "    .dataframe tbody tr th {\n",
       "        vertical-align: top;\n",
       "    }\n",
       "\n",
       "    .dataframe thead th {\n",
       "        text-align: right;\n",
       "    }\n",
       "</style>\n",
       "<table border=\"1\" class=\"dataframe\">\n",
       "  <thead>\n",
       "    <tr style=\"text-align: right;\">\n",
       "      <th></th>\n",
       "      <th>Cleaned_Entities_Description</th>\n",
       "      <th>Cleaned_Description</th>\n",
       "      <th>Description</th>\n",
       "    </tr>\n",
       "  </thead>\n",
       "  <tbody>\n",
       "    <tr>\n",
       "      <th>0</th>\n",
       "      <td>Looking for part-time PT for a quick growing ...</td>\n",
       "      <td>Looking for part-time PT&amp;nbsp;for a quick gro...</td>\n",
       "      <td>&lt;p&gt;Looking for part-time PT&amp;nbsp;for a quick g...</td>\n",
       "    </tr>\n",
       "    <tr>\n",
       "      <th>1</th>\n",
       "      <td>At David Maus Toyota, we strive to make every ...</td>\n",
       "      <td>At David Maus Toyota, we strive to make every ...</td>\n",
       "      <td>At David Maus Toyota, we strive to make every ...</td>\n",
       "    </tr>\n",
       "    <tr>\n",
       "      <th>2</th>\n",
       "      <td>Position Summary: \\n Project Management perso...</td>\n",
       "      <td>Position Summary: \\n Project Management perso...</td>\n",
       "      <td>&lt;p&gt;Position Summary:&lt;/p&gt;\\n&lt;p&gt;Project Managemen...</td>\n",
       "    </tr>\n",
       "    <tr>\n",
       "      <th>3</th>\n",
       "      <td>Envision Physician Services is seeking a Neon...</td>\n",
       "      <td>Envision Physician Services is seeking a Neon...</td>\n",
       "      <td>&lt;p&gt;Envision Physician Services is seeking a Ne...</td>\n",
       "    </tr>\n",
       "    <tr>\n",
       "      <th>4</th>\n",
       "      <td>Envision Physician Services is seeking a Neon...</td>\n",
       "      <td>Envision Physician Services is seeking a Neon...</td>\n",
       "      <td>&lt;p&gt;Envision Physician Services is seeking a Ne...</td>\n",
       "    </tr>\n",
       "  </tbody>\n",
       "</table>\n",
       "</div>"
      ],
      "text/plain": [
       "                        Cleaned_Entities_Description  \\\n",
       "0   Looking for part-time PT for a quick growing ...   \n",
       "1  At David Maus Toyota, we strive to make every ...   \n",
       "2   Position Summary: \\n Project Management perso...   \n",
       "3   Envision Physician Services is seeking a Neon...   \n",
       "4   Envision Physician Services is seeking a Neon...   \n",
       "\n",
       "                                 Cleaned_Description  \\\n",
       "0   Looking for part-time PT&nbsp;for a quick gro...   \n",
       "1  At David Maus Toyota, we strive to make every ...   \n",
       "2   Position Summary: \\n Project Management perso...   \n",
       "3   Envision Physician Services is seeking a Neon...   \n",
       "4   Envision Physician Services is seeking a Neon...   \n",
       "\n",
       "                                         Description  \n",
       "0  <p>Looking for part-time PT&nbsp;for a quick g...  \n",
       "1  At David Maus Toyota, we strive to make every ...  \n",
       "2  <p>Position Summary:</p>\\n<p>Project Managemen...  \n",
       "3  <p>Envision Physician Services is seeking a Ne...  \n",
       "4  <p>Envision Physician Services is seeking a Ne...  "
      ]
     },
     "execution_count": 65,
     "metadata": {},
     "output_type": "execute_result"
    }
   ],
   "source": [
    "df['Cleaned_Entities_Description'] = df.Cleaned_Description.apply(cleanhtmlEntities).replace(u'\\xa0', u' ')\n",
    "df[['Cleaned_Entities_Description','Cleaned_Description','Description']][:5]"
   ]
  },
  {
   "cell_type": "code",
   "execution_count": 74,
   "id": "b5986563-6f64-4aa7-a118-7c1a17d12ad9",
   "metadata": {},
   "outputs": [
    {
     "name": "stdout",
     "output_type": "stream",
     "text": [
      " Envision Physician Services is seeking a Neonatal Nurse Practitioner to join our busy practice covering 7 Medical City facilities in the DFW area. The practice prides itself in delivering quality excellence, continued education and work-life balance. The Neonatal Intensive Care Units are all level 3 facilities and have a continuous MFM referral base. Our collaborative team consists of skilled Neonatal Nurse Practitioners and Neonatologist covering several Medical City NICUs in the Dallas Metroplex. You would join a collegial team of clinicians who are dedicated to achieving the best patient outcomes by implementing and practicing evidence based medicine.  With over 30 years of high-quality Women&rsquo;s &amp; Children&rsquo;s services and more than 100 service contracts, Envision Physician Services is a trusted strategic partner for established hospitals and health systems. Combining a national infrastructure with local support, our breadth and depth of clinical and operational resources allow our physicians to spend more time on what matters: delivering high-quality care.   Medical City Alliance is a level III NICU with eight private rooms, equipped with state-of-the-art, intensive care nursery technology. The Medical City facilities are part of one of the region&rsquo;s largest, most comprehensive health care providers, recently renamed, Medical City Healthcare. Spanning the Dallas-Fort Worth and Oklahoma City areas, Medical City Healthcare includes 13 hospitals, 7 off-campus emergency rooms, more than 50 ambulatory sites, more than 7,000 active physicians and 15,000 employees. We share in their mission to deliver exceptional healthcare to the communities we serve.  Envision offers competitive compensation, a robust benefits effective on day one, and malpractice insurance with tail coverage.\n"
     ]
    }
   ],
   "source": [
    "print(df.Cleaned_Description[3])"
   ]
  },
  {
   "cell_type": "code",
   "execution_count": 75,
   "id": "d8f0c241-a975-4f73-b157-380fba9e5f6c",
   "metadata": {},
   "outputs": [
    {
     "name": "stdout",
     "output_type": "stream",
     "text": [
      " Envision Physician Services is seeking a Neonatal Nurse Practitioner to join our busy practice covering 7 Medical City facilities in the DFW area. The practice prides itself in delivering quality excellence, continued education and work-life balance. The Neonatal Intensive Care Units are all level 3 facilities and have a continuous MFM referral base. Our collaborative team consists of skilled Neonatal Nurse Practitioners and Neonatologist covering several Medical City NICUs in the Dallas Metroplex. You would join a collegial team of clinicians who are dedicated to achieving the best patient outcomes by implementing and practicing evidence based medicine.  With over 30 years of high-quality Women’s & Children’s services and more than 100 service contracts, Envision Physician Services is a trusted strategic partner for established hospitals and health systems. Combining a national infrastructure with local support, our breadth and depth of clinical and operational resources allow our physicians to spend more time on what matters: delivering high-quality care.   Medical City Alliance is a level III NICU with eight private rooms, equipped with state-of-the-art, intensive care nursery technology. The Medical City facilities are part of one of the region’s largest, most comprehensive health care providers, recently renamed, Medical City Healthcare. Spanning the Dallas-Fort Worth and Oklahoma City areas, Medical City Healthcare includes 13 hospitals, 7 off-campus emergency rooms, more than 50 ambulatory sites, more than 7,000 active physicians and 15,000 employees. We share in their mission to deliver exceptional healthcare to the communities we serve.  Envision offers competitive compensation, a robust benefits effective on day one, and malpractice insurance with tail coverage.\n"
     ]
    }
   ],
   "source": [
    "print(df.Cleaned_Entities_Description[3])"
   ]
  },
  {
   "cell_type": "code",
   "execution_count": 90,
   "id": "308a6bd0-3ebf-4b80-b45e-0eeb8caa7b7c",
   "metadata": {},
   "outputs": [
    {
     "name": "stderr",
     "output_type": "stream",
     "text": [
      "[nltk_data] Downloading package stopwords to C:\\Users\\Hana\n",
      "[nltk_data]     Baron\\AppData\\Roaming\\nltk_data...\n",
      "[nltk_data]   Unzipping corpora\\stopwords.zip.\n"
     ]
    }
   ],
   "source": [
    "import nltk\n",
    "from nltk.corpus import stopwords\n",
    "nltk.download('stopwords')\n",
    "from nltk.tokenize import word_tokenize\n",
    "\n",
    "def clean_stop_words(text):\n",
    "#     print(\"*****raw:   \" , text)\n",
    "    text_tokens = word_tokenize(text)\n",
    "    tokens_without_sw = [word for word in text_tokens if not word in stopwords.words()]\n",
    "    filtered_sentence = (\" \").join(tokens_without_sw)\n",
    "    return  filtered_sentence"
   ]
  },
  {
   "cell_type": "code",
   "execution_count": 92,
   "id": "5c4b8dd7-146d-4459-9bd8-a4c38ee43fb9",
   "metadata": {},
   "outputs": [
    {
     "name": "stderr",
     "output_type": "stream",
     "text": [
      "Exception ignored in: <function SeekableUnicodeStreamReader.__del__ at 0x000002218912CCA0>\n",
      "Traceback (most recent call last):\n",
      "  File \"C:\\Users\\Hana Baron\\anaconda3\\lib\\site-packages\\nltk\\data.py\", line 1160, in __del__\n",
      "    self.close()\n",
      "  File \"C:\\Users\\Hana Baron\\anaconda3\\lib\\site-packages\\nltk\\data.py\", line 1195, in close\n",
      "    self.stream.close()\n",
      "KeyboardInterrupt: \n"
     ]
    },
    {
     "ename": "KeyboardInterrupt",
     "evalue": "",
     "output_type": "error",
     "traceback": [
      "\u001b[1;31m---------------------------------------------------------------------------\u001b[0m",
      "\u001b[1;31mKeyboardInterrupt\u001b[0m                         Traceback (most recent call last)",
      "\u001b[1;32m<ipython-input-92-547ccc1b6f1f>\u001b[0m in \u001b[0;36m<module>\u001b[1;34m\u001b[0m\n\u001b[1;32m----> 1\u001b[1;33m \u001b[0mdf\u001b[0m\u001b[1;33m[\u001b[0m\u001b[1;34m'without_stop_words_Description'\u001b[0m\u001b[1;33m]\u001b[0m \u001b[1;33m=\u001b[0m \u001b[0mdf\u001b[0m\u001b[1;33m.\u001b[0m\u001b[0mCleaned_Entities_Description\u001b[0m\u001b[1;33m.\u001b[0m\u001b[0mapply\u001b[0m\u001b[1;33m(\u001b[0m\u001b[0mclean_stop_words\u001b[0m\u001b[1;33m)\u001b[0m\u001b[1;33m\u001b[0m\u001b[1;33m\u001b[0m\u001b[0m\n\u001b[0m\u001b[0;32m      2\u001b[0m \u001b[0mdf\u001b[0m\u001b[1;33m[\u001b[0m\u001b[1;33m[\u001b[0m\u001b[1;34m'without_stop_words_Description'\u001b[0m\u001b[1;33m,\u001b[0m\u001b[1;34m'Cleaned_Entities_Description'\u001b[0m\u001b[1;33m,\u001b[0m\u001b[1;34m'Description'\u001b[0m\u001b[1;33m]\u001b[0m\u001b[1;33m]\u001b[0m\u001b[1;33m[\u001b[0m\u001b[1;33m:\u001b[0m\u001b[1;36m5\u001b[0m\u001b[1;33m]\u001b[0m\u001b[1;33m\u001b[0m\u001b[1;33m\u001b[0m\u001b[0m\n",
      "\u001b[1;32m~\\anaconda3\\lib\\site-packages\\pandas\\core\\series.py\u001b[0m in \u001b[0;36mapply\u001b[1;34m(self, func, convert_dtype, args, **kwargs)\u001b[0m\n\u001b[0;32m   4354\u001b[0m         \u001b[0mdtype\u001b[0m\u001b[1;33m:\u001b[0m \u001b[0mfloat64\u001b[0m\u001b[1;33m\u001b[0m\u001b[1;33m\u001b[0m\u001b[0m\n\u001b[0;32m   4355\u001b[0m         \"\"\"\n\u001b[1;32m-> 4356\u001b[1;33m         \u001b[1;32mreturn\u001b[0m \u001b[0mSeriesApply\u001b[0m\u001b[1;33m(\u001b[0m\u001b[0mself\u001b[0m\u001b[1;33m,\u001b[0m \u001b[0mfunc\u001b[0m\u001b[1;33m,\u001b[0m \u001b[0mconvert_dtype\u001b[0m\u001b[1;33m,\u001b[0m \u001b[0margs\u001b[0m\u001b[1;33m,\u001b[0m \u001b[0mkwargs\u001b[0m\u001b[1;33m)\u001b[0m\u001b[1;33m.\u001b[0m\u001b[0mapply\u001b[0m\u001b[1;33m(\u001b[0m\u001b[1;33m)\u001b[0m\u001b[1;33m\u001b[0m\u001b[1;33m\u001b[0m\u001b[0m\n\u001b[0m\u001b[0;32m   4357\u001b[0m \u001b[1;33m\u001b[0m\u001b[0m\n\u001b[0;32m   4358\u001b[0m     def _reduce(\n",
      "\u001b[1;32m~\\anaconda3\\lib\\site-packages\\pandas\\core\\apply.py\u001b[0m in \u001b[0;36mapply\u001b[1;34m(self)\u001b[0m\n\u001b[0;32m   1034\u001b[0m             \u001b[1;32mreturn\u001b[0m \u001b[0mself\u001b[0m\u001b[1;33m.\u001b[0m\u001b[0mapply_str\u001b[0m\u001b[1;33m(\u001b[0m\u001b[1;33m)\u001b[0m\u001b[1;33m\u001b[0m\u001b[1;33m\u001b[0m\u001b[0m\n\u001b[0;32m   1035\u001b[0m \u001b[1;33m\u001b[0m\u001b[0m\n\u001b[1;32m-> 1036\u001b[1;33m         \u001b[1;32mreturn\u001b[0m \u001b[0mself\u001b[0m\u001b[1;33m.\u001b[0m\u001b[0mapply_standard\u001b[0m\u001b[1;33m(\u001b[0m\u001b[1;33m)\u001b[0m\u001b[1;33m\u001b[0m\u001b[1;33m\u001b[0m\u001b[0m\n\u001b[0m\u001b[0;32m   1037\u001b[0m \u001b[1;33m\u001b[0m\u001b[0m\n\u001b[0;32m   1038\u001b[0m     \u001b[1;32mdef\u001b[0m \u001b[0magg\u001b[0m\u001b[1;33m(\u001b[0m\u001b[0mself\u001b[0m\u001b[1;33m)\u001b[0m\u001b[1;33m:\u001b[0m\u001b[1;33m\u001b[0m\u001b[1;33m\u001b[0m\u001b[0m\n",
      "\u001b[1;32m~\\anaconda3\\lib\\site-packages\\pandas\\core\\apply.py\u001b[0m in \u001b[0;36mapply_standard\u001b[1;34m(self)\u001b[0m\n\u001b[0;32m   1090\u001b[0m                 \u001b[1;31m# List[Union[Callable[..., Any], str]]]]]\"; expected\u001b[0m\u001b[1;33m\u001b[0m\u001b[1;33m\u001b[0m\u001b[1;33m\u001b[0m\u001b[0m\n\u001b[0;32m   1091\u001b[0m                 \u001b[1;31m# \"Callable[[Any], Any]\"\u001b[0m\u001b[1;33m\u001b[0m\u001b[1;33m\u001b[0m\u001b[1;33m\u001b[0m\u001b[0m\n\u001b[1;32m-> 1092\u001b[1;33m                 mapped = lib.map_infer(\n\u001b[0m\u001b[0;32m   1093\u001b[0m                     \u001b[0mvalues\u001b[0m\u001b[1;33m,\u001b[0m\u001b[1;33m\u001b[0m\u001b[1;33m\u001b[0m\u001b[0m\n\u001b[0;32m   1094\u001b[0m                     \u001b[0mf\u001b[0m\u001b[1;33m,\u001b[0m  \u001b[1;31m# type: ignore[arg-type]\u001b[0m\u001b[1;33m\u001b[0m\u001b[1;33m\u001b[0m\u001b[0m\n",
      "\u001b[1;32m~\\anaconda3\\lib\\site-packages\\pandas\\_libs\\lib.pyx\u001b[0m in \u001b[0;36mpandas._libs.lib.map_infer\u001b[1;34m()\u001b[0m\n",
      "\u001b[1;32m<ipython-input-90-9eb22bae0b42>\u001b[0m in \u001b[0;36mclean_stop_words\u001b[1;34m(text)\u001b[0m\n\u001b[0;32m      7\u001b[0m \u001b[1;31m#     print(\"*****raw:   \" , text)\u001b[0m\u001b[1;33m\u001b[0m\u001b[1;33m\u001b[0m\u001b[1;33m\u001b[0m\u001b[0m\n\u001b[0;32m      8\u001b[0m     \u001b[0mtext_tokens\u001b[0m \u001b[1;33m=\u001b[0m \u001b[0mword_tokenize\u001b[0m\u001b[1;33m(\u001b[0m\u001b[0mtext\u001b[0m\u001b[1;33m)\u001b[0m\u001b[1;33m\u001b[0m\u001b[1;33m\u001b[0m\u001b[0m\n\u001b[1;32m----> 9\u001b[1;33m     \u001b[0mtokens_without_sw\u001b[0m \u001b[1;33m=\u001b[0m \u001b[1;33m[\u001b[0m\u001b[0mword\u001b[0m \u001b[1;32mfor\u001b[0m \u001b[0mword\u001b[0m \u001b[1;32min\u001b[0m \u001b[0mtext_tokens\u001b[0m \u001b[1;32mif\u001b[0m \u001b[1;32mnot\u001b[0m \u001b[0mword\u001b[0m \u001b[1;32min\u001b[0m \u001b[0mstopwords\u001b[0m\u001b[1;33m.\u001b[0m\u001b[0mwords\u001b[0m\u001b[1;33m(\u001b[0m\u001b[1;33m)\u001b[0m\u001b[1;33m]\u001b[0m\u001b[1;33m\u001b[0m\u001b[1;33m\u001b[0m\u001b[0m\n\u001b[0m\u001b[0;32m     10\u001b[0m     \u001b[0mfiltered_sentence\u001b[0m \u001b[1;33m=\u001b[0m \u001b[1;33m(\u001b[0m\u001b[1;34m\" \"\u001b[0m\u001b[1;33m)\u001b[0m\u001b[1;33m.\u001b[0m\u001b[0mjoin\u001b[0m\u001b[1;33m(\u001b[0m\u001b[0mtokens_without_sw\u001b[0m\u001b[1;33m)\u001b[0m\u001b[1;33m\u001b[0m\u001b[1;33m\u001b[0m\u001b[0m\n\u001b[0;32m     11\u001b[0m     \u001b[1;32mreturn\u001b[0m  \u001b[0mfiltered_sentence\u001b[0m\u001b[1;33m\u001b[0m\u001b[1;33m\u001b[0m\u001b[0m\n",
      "\u001b[1;32m<ipython-input-90-9eb22bae0b42>\u001b[0m in \u001b[0;36m<listcomp>\u001b[1;34m(.0)\u001b[0m\n\u001b[0;32m      7\u001b[0m \u001b[1;31m#     print(\"*****raw:   \" , text)\u001b[0m\u001b[1;33m\u001b[0m\u001b[1;33m\u001b[0m\u001b[1;33m\u001b[0m\u001b[0m\n\u001b[0;32m      8\u001b[0m     \u001b[0mtext_tokens\u001b[0m \u001b[1;33m=\u001b[0m \u001b[0mword_tokenize\u001b[0m\u001b[1;33m(\u001b[0m\u001b[0mtext\u001b[0m\u001b[1;33m)\u001b[0m\u001b[1;33m\u001b[0m\u001b[1;33m\u001b[0m\u001b[0m\n\u001b[1;32m----> 9\u001b[1;33m     \u001b[0mtokens_without_sw\u001b[0m \u001b[1;33m=\u001b[0m \u001b[1;33m[\u001b[0m\u001b[0mword\u001b[0m \u001b[1;32mfor\u001b[0m \u001b[0mword\u001b[0m \u001b[1;32min\u001b[0m \u001b[0mtext_tokens\u001b[0m \u001b[1;32mif\u001b[0m \u001b[1;32mnot\u001b[0m \u001b[0mword\u001b[0m \u001b[1;32min\u001b[0m \u001b[0mstopwords\u001b[0m\u001b[1;33m.\u001b[0m\u001b[0mwords\u001b[0m\u001b[1;33m(\u001b[0m\u001b[1;33m)\u001b[0m\u001b[1;33m]\u001b[0m\u001b[1;33m\u001b[0m\u001b[1;33m\u001b[0m\u001b[0m\n\u001b[0m\u001b[0;32m     10\u001b[0m     \u001b[0mfiltered_sentence\u001b[0m \u001b[1;33m=\u001b[0m \u001b[1;33m(\u001b[0m\u001b[1;34m\" \"\u001b[0m\u001b[1;33m)\u001b[0m\u001b[1;33m.\u001b[0m\u001b[0mjoin\u001b[0m\u001b[1;33m(\u001b[0m\u001b[0mtokens_without_sw\u001b[0m\u001b[1;33m)\u001b[0m\u001b[1;33m\u001b[0m\u001b[1;33m\u001b[0m\u001b[0m\n\u001b[0;32m     11\u001b[0m     \u001b[1;32mreturn\u001b[0m  \u001b[0mfiltered_sentence\u001b[0m\u001b[1;33m\u001b[0m\u001b[1;33m\u001b[0m\u001b[0m\n",
      "\u001b[1;32m~\\anaconda3\\lib\\site-packages\\nltk\\corpus\\reader\\wordlist.py\u001b[0m in \u001b[0;36mwords\u001b[1;34m(self, fileids, ignore_lines_startswith)\u001b[0m\n\u001b[0;32m     21\u001b[0m         return [\n\u001b[0;32m     22\u001b[0m             \u001b[0mline\u001b[0m\u001b[1;33m\u001b[0m\u001b[1;33m\u001b[0m\u001b[0m\n\u001b[1;32m---> 23\u001b[1;33m             \u001b[1;32mfor\u001b[0m \u001b[0mline\u001b[0m \u001b[1;32min\u001b[0m \u001b[0mline_tokenize\u001b[0m\u001b[1;33m(\u001b[0m\u001b[0mself\u001b[0m\u001b[1;33m.\u001b[0m\u001b[0mraw\u001b[0m\u001b[1;33m(\u001b[0m\u001b[0mfileids\u001b[0m\u001b[1;33m)\u001b[0m\u001b[1;33m)\u001b[0m\u001b[1;33m\u001b[0m\u001b[1;33m\u001b[0m\u001b[0m\n\u001b[0m\u001b[0;32m     24\u001b[0m             \u001b[1;32mif\u001b[0m \u001b[1;32mnot\u001b[0m \u001b[0mline\u001b[0m\u001b[1;33m.\u001b[0m\u001b[0mstartswith\u001b[0m\u001b[1;33m(\u001b[0m\u001b[0mignore_lines_startswith\u001b[0m\u001b[1;33m)\u001b[0m\u001b[1;33m\u001b[0m\u001b[1;33m\u001b[0m\u001b[0m\n\u001b[0;32m     25\u001b[0m         ]\n",
      "\u001b[1;32m~\\anaconda3\\lib\\site-packages\\nltk\\corpus\\reader\\wordlist.py\u001b[0m in \u001b[0;36mraw\u001b[1;34m(self, fileids)\u001b[0m\n\u001b[0;32m     30\u001b[0m         \u001b[1;32melif\u001b[0m \u001b[0misinstance\u001b[0m\u001b[1;33m(\u001b[0m\u001b[0mfileids\u001b[0m\u001b[1;33m,\u001b[0m \u001b[0mstr\u001b[0m\u001b[1;33m)\u001b[0m\u001b[1;33m:\u001b[0m\u001b[1;33m\u001b[0m\u001b[1;33m\u001b[0m\u001b[0m\n\u001b[0;32m     31\u001b[0m             \u001b[0mfileids\u001b[0m \u001b[1;33m=\u001b[0m \u001b[1;33m[\u001b[0m\u001b[0mfileids\u001b[0m\u001b[1;33m]\u001b[0m\u001b[1;33m\u001b[0m\u001b[1;33m\u001b[0m\u001b[0m\n\u001b[1;32m---> 32\u001b[1;33m         \u001b[1;32mreturn\u001b[0m \u001b[0mconcat\u001b[0m\u001b[1;33m(\u001b[0m\u001b[1;33m[\u001b[0m\u001b[0mself\u001b[0m\u001b[1;33m.\u001b[0m\u001b[0mopen\u001b[0m\u001b[1;33m(\u001b[0m\u001b[0mf\u001b[0m\u001b[1;33m)\u001b[0m\u001b[1;33m.\u001b[0m\u001b[0mread\u001b[0m\u001b[1;33m(\u001b[0m\u001b[1;33m)\u001b[0m \u001b[1;32mfor\u001b[0m \u001b[0mf\u001b[0m \u001b[1;32min\u001b[0m \u001b[0mfileids\u001b[0m\u001b[1;33m]\u001b[0m\u001b[1;33m)\u001b[0m\u001b[1;33m\u001b[0m\u001b[1;33m\u001b[0m\u001b[0m\n\u001b[0m\u001b[0;32m     33\u001b[0m \u001b[1;33m\u001b[0m\u001b[0m\n\u001b[0;32m     34\u001b[0m \u001b[1;33m\u001b[0m\u001b[0m\n",
      "\u001b[1;32m~\\anaconda3\\lib\\site-packages\\nltk\\corpus\\reader\\wordlist.py\u001b[0m in \u001b[0;36m<listcomp>\u001b[1;34m(.0)\u001b[0m\n\u001b[0;32m     30\u001b[0m         \u001b[1;32melif\u001b[0m \u001b[0misinstance\u001b[0m\u001b[1;33m(\u001b[0m\u001b[0mfileids\u001b[0m\u001b[1;33m,\u001b[0m \u001b[0mstr\u001b[0m\u001b[1;33m)\u001b[0m\u001b[1;33m:\u001b[0m\u001b[1;33m\u001b[0m\u001b[1;33m\u001b[0m\u001b[0m\n\u001b[0;32m     31\u001b[0m             \u001b[0mfileids\u001b[0m \u001b[1;33m=\u001b[0m \u001b[1;33m[\u001b[0m\u001b[0mfileids\u001b[0m\u001b[1;33m]\u001b[0m\u001b[1;33m\u001b[0m\u001b[1;33m\u001b[0m\u001b[0m\n\u001b[1;32m---> 32\u001b[1;33m         \u001b[1;32mreturn\u001b[0m \u001b[0mconcat\u001b[0m\u001b[1;33m(\u001b[0m\u001b[1;33m[\u001b[0m\u001b[0mself\u001b[0m\u001b[1;33m.\u001b[0m\u001b[0mopen\u001b[0m\u001b[1;33m(\u001b[0m\u001b[0mf\u001b[0m\u001b[1;33m)\u001b[0m\u001b[1;33m.\u001b[0m\u001b[0mread\u001b[0m\u001b[1;33m(\u001b[0m\u001b[1;33m)\u001b[0m \u001b[1;32mfor\u001b[0m \u001b[0mf\u001b[0m \u001b[1;32min\u001b[0m \u001b[0mfileids\u001b[0m\u001b[1;33m]\u001b[0m\u001b[1;33m)\u001b[0m\u001b[1;33m\u001b[0m\u001b[1;33m\u001b[0m\u001b[0m\n\u001b[0m\u001b[0;32m     33\u001b[0m \u001b[1;33m\u001b[0m\u001b[0m\n\u001b[0;32m     34\u001b[0m \u001b[1;33m\u001b[0m\u001b[0m\n",
      "\u001b[1;32m~\\anaconda3\\lib\\site-packages\\nltk\\corpus\\reader\\api.py\u001b[0m in \u001b[0;36mopen\u001b[1;34m(self, file)\u001b[0m\n\u001b[0;32m    209\u001b[0m         \"\"\"\n\u001b[0;32m    210\u001b[0m         \u001b[0mencoding\u001b[0m \u001b[1;33m=\u001b[0m \u001b[0mself\u001b[0m\u001b[1;33m.\u001b[0m\u001b[0mencoding\u001b[0m\u001b[1;33m(\u001b[0m\u001b[0mfile\u001b[0m\u001b[1;33m)\u001b[0m\u001b[1;33m\u001b[0m\u001b[1;33m\u001b[0m\u001b[0m\n\u001b[1;32m--> 211\u001b[1;33m         \u001b[0mstream\u001b[0m \u001b[1;33m=\u001b[0m \u001b[0mself\u001b[0m\u001b[1;33m.\u001b[0m\u001b[0m_root\u001b[0m\u001b[1;33m.\u001b[0m\u001b[0mjoin\u001b[0m\u001b[1;33m(\u001b[0m\u001b[0mfile\u001b[0m\u001b[1;33m)\u001b[0m\u001b[1;33m.\u001b[0m\u001b[0mopen\u001b[0m\u001b[1;33m(\u001b[0m\u001b[0mencoding\u001b[0m\u001b[1;33m)\u001b[0m\u001b[1;33m\u001b[0m\u001b[1;33m\u001b[0m\u001b[0m\n\u001b[0m\u001b[0;32m    212\u001b[0m         \u001b[1;32mreturn\u001b[0m \u001b[0mstream\u001b[0m\u001b[1;33m\u001b[0m\u001b[1;33m\u001b[0m\u001b[0m\n\u001b[0;32m    213\u001b[0m \u001b[1;33m\u001b[0m\u001b[0m\n",
      "\u001b[1;32m~\\anaconda3\\lib\\site-packages\\nltk\\data.py\u001b[0m in \u001b[0;36mjoin\u001b[1;34m(self, fileid)\u001b[0m\n\u001b[0;32m    333\u001b[0m     \u001b[1;32mdef\u001b[0m \u001b[0mjoin\u001b[0m\u001b[1;33m(\u001b[0m\u001b[0mself\u001b[0m\u001b[1;33m,\u001b[0m \u001b[0mfileid\u001b[0m\u001b[1;33m)\u001b[0m\u001b[1;33m:\u001b[0m\u001b[1;33m\u001b[0m\u001b[1;33m\u001b[0m\u001b[0m\n\u001b[0;32m    334\u001b[0m         \u001b[0m_path\u001b[0m \u001b[1;33m=\u001b[0m \u001b[0mos\u001b[0m\u001b[1;33m.\u001b[0m\u001b[0mpath\u001b[0m\u001b[1;33m.\u001b[0m\u001b[0mjoin\u001b[0m\u001b[1;33m(\u001b[0m\u001b[0mself\u001b[0m\u001b[1;33m.\u001b[0m\u001b[0m_path\u001b[0m\u001b[1;33m,\u001b[0m \u001b[0mfileid\u001b[0m\u001b[1;33m)\u001b[0m\u001b[1;33m\u001b[0m\u001b[1;33m\u001b[0m\u001b[0m\n\u001b[1;32m--> 335\u001b[1;33m         \u001b[1;32mreturn\u001b[0m \u001b[0mFileSystemPathPointer\u001b[0m\u001b[1;33m(\u001b[0m\u001b[0m_path\u001b[0m\u001b[1;33m)\u001b[0m\u001b[1;33m\u001b[0m\u001b[1;33m\u001b[0m\u001b[0m\n\u001b[0m\u001b[0;32m    336\u001b[0m \u001b[1;33m\u001b[0m\u001b[0m\n\u001b[0;32m    337\u001b[0m     \u001b[1;32mdef\u001b[0m \u001b[0m__repr__\u001b[0m\u001b[1;33m(\u001b[0m\u001b[0mself\u001b[0m\u001b[1;33m)\u001b[0m\u001b[1;33m:\u001b[0m\u001b[1;33m\u001b[0m\u001b[1;33m\u001b[0m\u001b[0m\n",
      "\u001b[1;32m~\\anaconda3\\lib\\site-packages\\nltk\\compat.py\u001b[0m in \u001b[0;36m_decorator\u001b[1;34m(*args, **kwargs)\u001b[0m\n\u001b[0;32m     39\u001b[0m     \u001b[1;32mdef\u001b[0m \u001b[0m_decorator\u001b[0m\u001b[1;33m(\u001b[0m\u001b[1;33m*\u001b[0m\u001b[0margs\u001b[0m\u001b[1;33m,\u001b[0m \u001b[1;33m**\u001b[0m\u001b[0mkwargs\u001b[0m\u001b[1;33m)\u001b[0m\u001b[1;33m:\u001b[0m\u001b[1;33m\u001b[0m\u001b[1;33m\u001b[0m\u001b[0m\n\u001b[0;32m     40\u001b[0m         \u001b[0margs\u001b[0m \u001b[1;33m=\u001b[0m \u001b[1;33m(\u001b[0m\u001b[0margs\u001b[0m\u001b[1;33m[\u001b[0m\u001b[1;36m0\u001b[0m\u001b[1;33m]\u001b[0m\u001b[1;33m,\u001b[0m \u001b[0madd_py3_data\u001b[0m\u001b[1;33m(\u001b[0m\u001b[0margs\u001b[0m\u001b[1;33m[\u001b[0m\u001b[1;36m1\u001b[0m\u001b[1;33m]\u001b[0m\u001b[1;33m)\u001b[0m\u001b[1;33m)\u001b[0m \u001b[1;33m+\u001b[0m \u001b[0margs\u001b[0m\u001b[1;33m[\u001b[0m\u001b[1;36m2\u001b[0m\u001b[1;33m:\u001b[0m\u001b[1;33m]\u001b[0m\u001b[1;33m\u001b[0m\u001b[1;33m\u001b[0m\u001b[0m\n\u001b[1;32m---> 41\u001b[1;33m         \u001b[1;32mreturn\u001b[0m \u001b[0minit_func\u001b[0m\u001b[1;33m(\u001b[0m\u001b[1;33m*\u001b[0m\u001b[0margs\u001b[0m\u001b[1;33m,\u001b[0m \u001b[1;33m**\u001b[0m\u001b[0mkwargs\u001b[0m\u001b[1;33m)\u001b[0m\u001b[1;33m\u001b[0m\u001b[1;33m\u001b[0m\u001b[0m\n\u001b[0m\u001b[0;32m     42\u001b[0m \u001b[1;33m\u001b[0m\u001b[0m\n\u001b[0;32m     43\u001b[0m     \u001b[1;32mreturn\u001b[0m \u001b[0mwraps\u001b[0m\u001b[1;33m(\u001b[0m\u001b[0minit_func\u001b[0m\u001b[1;33m)\u001b[0m\u001b[1;33m(\u001b[0m\u001b[0m_decorator\u001b[0m\u001b[1;33m)\u001b[0m\u001b[1;33m\u001b[0m\u001b[1;33m\u001b[0m\u001b[0m\n",
      "\u001b[1;32m~\\anaconda3\\lib\\site-packages\\nltk\\data.py\u001b[0m in \u001b[0;36m__init__\u001b[1;34m(self, _path)\u001b[0m\n\u001b[0;32m    310\u001b[0m \u001b[1;33m\u001b[0m\u001b[0m\n\u001b[0;32m    311\u001b[0m         \u001b[0m_path\u001b[0m \u001b[1;33m=\u001b[0m \u001b[0mos\u001b[0m\u001b[1;33m.\u001b[0m\u001b[0mpath\u001b[0m\u001b[1;33m.\u001b[0m\u001b[0mabspath\u001b[0m\u001b[1;33m(\u001b[0m\u001b[0m_path\u001b[0m\u001b[1;33m)\u001b[0m\u001b[1;33m\u001b[0m\u001b[1;33m\u001b[0m\u001b[0m\n\u001b[1;32m--> 312\u001b[1;33m         \u001b[1;32mif\u001b[0m \u001b[1;32mnot\u001b[0m \u001b[0mos\u001b[0m\u001b[1;33m.\u001b[0m\u001b[0mpath\u001b[0m\u001b[1;33m.\u001b[0m\u001b[0mexists\u001b[0m\u001b[1;33m(\u001b[0m\u001b[0m_path\u001b[0m\u001b[1;33m)\u001b[0m\u001b[1;33m:\u001b[0m\u001b[1;33m\u001b[0m\u001b[1;33m\u001b[0m\u001b[0m\n\u001b[0m\u001b[0;32m    313\u001b[0m             \u001b[1;32mraise\u001b[0m \u001b[0mIOError\u001b[0m\u001b[1;33m(\u001b[0m\u001b[1;34m\"No such file or directory: %r\"\u001b[0m \u001b[1;33m%\u001b[0m \u001b[0m_path\u001b[0m\u001b[1;33m)\u001b[0m\u001b[1;33m\u001b[0m\u001b[1;33m\u001b[0m\u001b[0m\n\u001b[0;32m    314\u001b[0m         \u001b[0mself\u001b[0m\u001b[1;33m.\u001b[0m\u001b[0m_path\u001b[0m \u001b[1;33m=\u001b[0m \u001b[0m_path\u001b[0m\u001b[1;33m\u001b[0m\u001b[1;33m\u001b[0m\u001b[0m\n",
      "\u001b[1;32m~\\anaconda3\\lib\\genericpath.py\u001b[0m in \u001b[0;36mexists\u001b[1;34m(path)\u001b[0m\n\u001b[0;32m     17\u001b[0m     \u001b[1;34m\"\"\"Test whether a path exists.  Returns False for broken symbolic links\"\"\"\u001b[0m\u001b[1;33m\u001b[0m\u001b[1;33m\u001b[0m\u001b[0m\n\u001b[0;32m     18\u001b[0m     \u001b[1;32mtry\u001b[0m\u001b[1;33m:\u001b[0m\u001b[1;33m\u001b[0m\u001b[1;33m\u001b[0m\u001b[0m\n\u001b[1;32m---> 19\u001b[1;33m         \u001b[0mos\u001b[0m\u001b[1;33m.\u001b[0m\u001b[0mstat\u001b[0m\u001b[1;33m(\u001b[0m\u001b[0mpath\u001b[0m\u001b[1;33m)\u001b[0m\u001b[1;33m\u001b[0m\u001b[1;33m\u001b[0m\u001b[0m\n\u001b[0m\u001b[0;32m     20\u001b[0m     \u001b[1;32mexcept\u001b[0m \u001b[1;33m(\u001b[0m\u001b[0mOSError\u001b[0m\u001b[1;33m,\u001b[0m \u001b[0mValueError\u001b[0m\u001b[1;33m)\u001b[0m\u001b[1;33m:\u001b[0m\u001b[1;33m\u001b[0m\u001b[1;33m\u001b[0m\u001b[0m\n\u001b[0;32m     21\u001b[0m         \u001b[1;32mreturn\u001b[0m \u001b[1;32mFalse\u001b[0m\u001b[1;33m\u001b[0m\u001b[1;33m\u001b[0m\u001b[0m\n",
      "\u001b[1;31mKeyboardInterrupt\u001b[0m: "
     ]
    }
   ],
   "source": [
    "df['without_stop_words_Description'] = df.Cleaned_Entities_Description.apply(clean_stop_words)\n",
    "df[['without_stop_words_Description','Cleaned_Entities_Description','Description']][:5]"
   ]
  },
  {
   "cell_type": "code",
   "execution_count": null,
   "id": "7ec2a012-cbe8-48a5-9419-43ca00efd283",
   "metadata": {},
   "outputs": [],
   "source": [
    "# entities = pd.read_csv('Entities html.csv')\n",
    "# entities"
   ]
  },
  {
   "cell_type": "code",
   "execution_count": null,
   "id": "dfe37a09-86ca-4186-9e4c-7e476a085e5b",
   "metadata": {},
   "outputs": [],
   "source": [
    "# entities[entities[\"Entity Name\"]=='&nbsp;']"
   ]
  },
  {
   "cell_type": "code",
   "execution_count": null,
   "id": "1ecf29b6-ff83-467b-af9d-2dee650846ae",
   "metadata": {},
   "outputs": [],
   "source": [
    "# '&nbsp;' in df.Cleaned_Description[0]"
   ]
  },
  {
   "cell_type": "code",
   "execution_count": null,
   "id": "e7df7082-9cf1-4330-b017-c98b58b968aa",
   "metadata": {},
   "outputs": [],
   "source": [
    "# from w3lib.html import replace_entities\n",
    "# replace_entities(df.Cleaned_Description[0])"
   ]
  },
  {
   "cell_type": "code",
   "execution_count": null,
   "id": "317d96b6-7439-42f2-9492-6fb00488b0d9",
   "metadata": {},
   "outputs": [],
   "source": [
    "# for entity in entities['Entity Name']:\n",
    "#     print(entity)\n",
    "#     df.Cleaned_Description = df.Cleaned_Description.replace(entity,\" \")"
   ]
  },
  {
   "cell_type": "code",
   "execution_count": null,
   "id": "479aafd5-fcae-4c2d-86a9-edf65d9f3749",
   "metadata": {},
   "outputs": [],
   "source": [
    "# df.Cleaned_Description[0]"
   ]
  },
  {
   "cell_type": "code",
   "execution_count": null,
   "id": "18fe11f6-0d51-44f1-bb03-7911c15e967b",
   "metadata": {},
   "outputs": [],
   "source": []
  }
 ],
 "metadata": {
  "kernelspec": {
   "display_name": "Python 3",
   "language": "python",
   "name": "python3"
  },
  "language_info": {
   "codemirror_mode": {
    "name": "ipython",
    "version": 3
   },
   "file_extension": ".py",
   "mimetype": "text/x-python",
   "name": "python",
   "nbconvert_exporter": "python",
   "pygments_lexer": "ipython3",
   "version": "3.8.11"
  }
 },
 "nbformat": 4,
 "nbformat_minor": 5
}
