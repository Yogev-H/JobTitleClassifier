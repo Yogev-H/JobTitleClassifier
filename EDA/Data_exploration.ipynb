{
 "cells": [
  {
   "cell_type": "code",
   "execution_count": 1,
   "id": "1bbc1d12-96ea-49af-afc2-5f7b50a122fc",
   "metadata": {},
   "outputs": [],
   "source": [
    "import pandas as pd\n",
    "import numpy as np\n",
    "\n",
    "import matplotlib.pyplot as plt\n",
    "import seaborn as sns\n",
    "%matplotlib inline"
   ]
  },
  {
   "cell_type": "code",
   "execution_count": 2,
   "id": "0f64ce16-bcfd-4de4-88b5-95d6d229af48",
   "metadata": {},
   "outputs": [],
   "source": [
    "sns.set_style('white')\n",
    "pd.set_option('max_colwidth',150)"
   ]
  },
  {
   "cell_type": "code",
   "execution_count": 3,
   "id": "c915c6d1-2460-443f-9cbe-3672be6800d6",
   "metadata": {},
   "outputs": [],
   "source": [
    "df = pd.read_parquet(r\"C:\\Users\\User\\JobTitleClassifier\\datasets\\job_title_dataset.parquet\")"
   ]
  },
  {
   "cell_type": "markdown",
   "id": "694eafb2-f444-47cf-a0b0-d309a268467e",
   "metadata": {},
   "source": [
    "### Let's take a look on the dataset"
   ]
  },
  {
   "cell_type": "code",
   "execution_count": 128,
   "id": "7065426e-1435-4e3f-b27f-ae0524d1731e",
   "metadata": {},
   "outputs": [
    {
     "data": {
      "text/html": [
       "<div>\n",
       "<style scoped>\n",
       "    .dataframe tbody tr th:only-of-type {\n",
       "        vertical-align: middle;\n",
       "    }\n",
       "\n",
       "    .dataframe tbody tr th {\n",
       "        vertical-align: top;\n",
       "    }\n",
       "\n",
       "    .dataframe thead th {\n",
       "        text-align: right;\n",
       "    }\n",
       "</style>\n",
       "<table border=\"1\" class=\"dataframe\">\n",
       "  <thead>\n",
       "    <tr style=\"text-align: right;\">\n",
       "      <th></th>\n",
       "      <th>ExtJobTitleText</th>\n",
       "      <th>JobTitle</th>\n",
       "      <th>Description</th>\n",
       "      <th>Desc</th>\n",
       "      <th>DescLength</th>\n",
       "      <th>DescriptionLength</th>\n",
       "    </tr>\n",
       "  </thead>\n",
       "  <tbody>\n",
       "    <tr>\n",
       "      <th>2377</th>\n",
       "      <td>Full Time Curtain and Blinds Installer</td>\n",
       "      <td>Window Coverings Installer</td>\n",
       "      <td>&lt;p style=\"margin-bottom: .0001pt;\"&gt;&lt;strong&gt;&lt;span style=\"font-size: 10.0pt; font-family: 'Arial',sans-serif;\"&gt;Full Time Curtain and Blinds Installe...</td>\n",
       "      <td>[may, techniques, install, receive, strong, w, skills, without, life, software, installation, doperform, etc, closely, offbranded, quick, learner,...</td>\n",
       "      <td>173</td>\n",
       "      <td>6036</td>\n",
       "    </tr>\n",
       "    <tr>\n",
       "      <th>30094</th>\n",
       "      <td>School Psychologist</td>\n",
       "      <td>School Psychologist</td>\n",
       "      <td>&lt;p&gt;&lt;i style=\"font-family: Cambria, serif; font-size: 10pt; color: rgb(0, 0, 0);\"&gt;We’re looking for an exceptional &lt;/i&gt;&lt;b style=\"font-family: Cambr...</td>\n",
       "      <td>[primarily, completed, we’re, grove, onsite, paperwork, could, looking, work, home, school, fulltime, position, year, psychologist, immediately, b...</td>\n",
       "      <td>22</td>\n",
       "      <td>512</td>\n",
       "    </tr>\n",
       "    <tr>\n",
       "      <th>23719</th>\n",
       "      <td>Retail Sales Representative</td>\n",
       "      <td>Retail Sales Representative</td>\n",
       "      <td>&lt;p&gt;&lt;/p&gt;&lt;p&gt;When you join Verizon&lt;/p&gt;&lt;/h2&gt; &lt;p&gt;Verizon is a leading provider of technology, communications, information and entertainment products, t...</td>\n",
       "      <td>[may, best, required, employee, skills, one, military, must, edge, across, way, tech, look, close, millions, specialist, forward, business, magazi...</td>\n",
       "      <td>249</td>\n",
       "      <td>3855</td>\n",
       "    </tr>\n",
       "    <tr>\n",
       "      <th>5804</th>\n",
       "      <td>Control System Lead</td>\n",
       "      <td>Control Systems Manager</td>\n",
       "      <td>DESCRIPTION&lt;p&gt;About Maintenance at Amazon&lt;br&gt;Operations is at the heart of Amazon’s business. We are known for our speed, accuracy, and exceptiona...</td>\n",
       "      <td>[frequency, plc, operation, robotics, scenes, without, mhe, software, management, closely, cmms, business, don’t, smile, improve, safety, reliabil...</td>\n",
       "      <td>254</td>\n",
       "      <td>4817</td>\n",
       "    </tr>\n",
       "    <tr>\n",
       "      <th>25560</th>\n",
       "      <td>Press Inspector</td>\n",
       "      <td>Press Machine Operator</td>\n",
       "      <td>&lt;p&gt;IMMEDIATE OPENINGS WITH A GROWING COMPANY IN YOUR AREA&lt;/p&gt;\\n&lt;p&gt;Press Inspector will make sure that the machines are working safely. Does this p...</td>\n",
       "      <td>[note, make, rate, required, immediate, show, inspector, machine, parts, defects, follow, machinery, sound, hour, sure, growing, zipx, preferred, ...</td>\n",
       "      <td>64</td>\n",
       "      <td>923</td>\n",
       "    </tr>\n",
       "  </tbody>\n",
       "</table>\n",
       "</div>"
      ],
      "text/plain": [
       "                              ExtJobTitleText                     JobTitle  \\\n",
       "2377   Full Time Curtain and Blinds Installer   Window Coverings Installer   \n",
       "30094                     School Psychologist          School Psychologist   \n",
       "23719             Retail Sales Representative  Retail Sales Representative   \n",
       "5804                      Control System Lead      Control Systems Manager   \n",
       "25560                         Press Inspector       Press Machine Operator   \n",
       "\n",
       "                                                                                                                                                 Description  \\\n",
       "2377   <p style=\"margin-bottom: .0001pt;\"><strong><span style=\"font-size: 10.0pt; font-family: 'Arial',sans-serif;\">Full Time Curtain and Blinds Installe...   \n",
       "30094  <p><i style=\"font-family: Cambria, serif; font-size: 10pt; color: rgb(0, 0, 0);\">We’re looking for an exceptional </i><b style=\"font-family: Cambr...   \n",
       "23719  <p></p><p>When you join Verizon</p></h2> <p>Verizon is a leading provider of technology, communications, information and entertainment products, t...   \n",
       "5804   DESCRIPTION<p>About Maintenance at Amazon<br>Operations is at the heart of Amazon’s business. We are known for our speed, accuracy, and exceptiona...   \n",
       "25560  <p>IMMEDIATE OPENINGS WITH A GROWING COMPANY IN YOUR AREA</p>\\n<p>Press Inspector will make sure that the machines are working safely. Does this p...   \n",
       "\n",
       "                                                                                                                                                        Desc  \\\n",
       "2377   [may, techniques, install, receive, strong, w, skills, without, life, software, installation, doperform, etc, closely, offbranded, quick, learner,...   \n",
       "30094  [primarily, completed, we’re, grove, onsite, paperwork, could, looking, work, home, school, fulltime, position, year, psychologist, immediately, b...   \n",
       "23719  [may, best, required, employee, skills, one, military, must, edge, across, way, tech, look, close, millions, specialist, forward, business, magazi...   \n",
       "5804   [frequency, plc, operation, robotics, scenes, without, mhe, software, management, closely, cmms, business, don’t, smile, improve, safety, reliabil...   \n",
       "25560  [note, make, rate, required, immediate, show, inspector, machine, parts, defects, follow, machinery, sound, hour, sure, growing, zipx, preferred, ...   \n",
       "\n",
       "       DescLength  DescriptionLength  \n",
       "2377          173               6036  \n",
       "30094          22                512  \n",
       "23719         249               3855  \n",
       "5804          254               4817  \n",
       "25560          64                923  "
      ]
     },
     "execution_count": 128,
     "metadata": {},
     "output_type": "execute_result"
    }
   ],
   "source": [
    "df.sample(5)"
   ]
  },
  {
   "cell_type": "markdown",
   "id": "73314e98-3c40-4d9d-ae22-d5b03e9ceb84",
   "metadata": {},
   "source": [
    "#### The JobId columnn looks unique, let's check it"
   ]
  },
  {
   "cell_type": "code",
   "execution_count": 5,
   "id": "d67a2355-bee7-4a42-9379-27bb2d097999",
   "metadata": {},
   "outputs": [
    {
     "data": {
      "text/html": [
       "<div>\n",
       "<style scoped>\n",
       "    .dataframe tbody tr th:only-of-type {\n",
       "        vertical-align: middle;\n",
       "    }\n",
       "\n",
       "    .dataframe tbody tr th {\n",
       "        vertical-align: top;\n",
       "    }\n",
       "\n",
       "    .dataframe thead th {\n",
       "        text-align: right;\n",
       "    }\n",
       "</style>\n",
       "<table border=\"1\" class=\"dataframe\">\n",
       "  <thead>\n",
       "    <tr style=\"text-align: right;\">\n",
       "      <th></th>\n",
       "      <th>JobId</th>\n",
       "      <th>JobTitleId</th>\n",
       "      <th>ExtJobTitleText</th>\n",
       "      <th>JobTitle</th>\n",
       "      <th>Description</th>\n",
       "    </tr>\n",
       "  </thead>\n",
       "  <tbody>\n",
       "  </tbody>\n",
       "</table>\n",
       "</div>"
      ],
      "text/plain": [
       "Empty DataFrame\n",
       "Columns: [JobId, JobTitleId, ExtJobTitleText, JobTitle, Description]\n",
       "Index: []"
      ]
     },
     "execution_count": 5,
     "metadata": {},
     "output_type": "execute_result"
    }
   ],
   "source": [
    "df[df.JobId.duplicated()]"
   ]
  },
  {
   "cell_type": "markdown",
   "id": "eafb7c87-b8bc-41e7-b5c0-70813fc9ee9a",
   "metadata": {},
   "source": [
    "#### So if the column is without duplicates, let's drop it and use the index column we got automatically"
   ]
  },
  {
   "cell_type": "code",
   "execution_count": 6,
   "id": "5f51b311-eefd-49b8-86c5-17fb59ed64f3",
   "metadata": {},
   "outputs": [],
   "source": [
    "df.drop(columns='JobId', inplace=True)"
   ]
  },
  {
   "cell_type": "code",
   "execution_count": 7,
   "id": "2d830074-e1a0-4e1c-b2ec-87e97410a704",
   "metadata": {},
   "outputs": [
    {
     "name": "stdout",
     "output_type": "stream",
     "text": [
      "<class 'pandas.core.frame.DataFrame'>\n",
      "RangeIndex: 31427 entries, 0 to 31426\n",
      "Data columns (total 4 columns):\n",
      " #   Column           Non-Null Count  Dtype \n",
      "---  ------           --------------  ----- \n",
      " 0   JobTitleId       31427 non-null  int32 \n",
      " 1   ExtJobTitleText  31427 non-null  object\n",
      " 2   JobTitle         31427 non-null  object\n",
      " 3   Description      31426 non-null  object\n",
      "dtypes: int32(1), object(3)\n",
      "memory usage: 859.5+ KB\n"
     ]
    }
   ],
   "source": [
    "df.info()"
   ]
  },
  {
   "cell_type": "markdown",
   "id": "8e9e594d-edb6-4811-8ae6-29992c8b3a0d",
   "metadata": {},
   "source": [
    "#### One NA, dropping it"
   ]
  },
  {
   "cell_type": "code",
   "execution_count": 8,
   "id": "4e85474d-0848-4904-a408-0393916fb850",
   "metadata": {},
   "outputs": [
    {
     "name": "stdout",
     "output_type": "stream",
     "text": [
      "<class 'pandas.core.frame.DataFrame'>\n",
      "Int64Index: 31426 entries, 0 to 31426\n",
      "Data columns (total 4 columns):\n",
      " #   Column           Non-Null Count  Dtype \n",
      "---  ------           --------------  ----- \n",
      " 0   JobTitleId       31426 non-null  int32 \n",
      " 1   ExtJobTitleText  31426 non-null  object\n",
      " 2   JobTitle         31426 non-null  object\n",
      " 3   Description      31426 non-null  object\n",
      "dtypes: int32(1), object(3)\n",
      "memory usage: 1.1+ MB\n"
     ]
    }
   ],
   "source": [
    "df.dropna(inplace=True)\n",
    "df.info(0)"
   ]
  },
  {
   "cell_type": "markdown",
   "id": "d0c9f6e4-d49c-4b9c-b649-92b0c3e6a82e",
   "metadata": {},
   "source": [
    "#### We want to see if there are rows with empty discription"
   ]
  },
  {
   "cell_type": "code",
   "execution_count": 9,
   "id": "6750398c-c580-4c85-8543-020e0cd4dd45",
   "metadata": {},
   "outputs": [
    {
     "data": {
      "text/html": [
       "<div>\n",
       "<style scoped>\n",
       "    .dataframe tbody tr th:only-of-type {\n",
       "        vertical-align: middle;\n",
       "    }\n",
       "\n",
       "    .dataframe tbody tr th {\n",
       "        vertical-align: top;\n",
       "    }\n",
       "\n",
       "    .dataframe thead th {\n",
       "        text-align: right;\n",
       "    }\n",
       "</style>\n",
       "<table border=\"1\" class=\"dataframe\">\n",
       "  <thead>\n",
       "    <tr style=\"text-align: right;\">\n",
       "      <th></th>\n",
       "      <th>JobTitleId</th>\n",
       "      <th>ExtJobTitleText</th>\n",
       "      <th>JobTitle</th>\n",
       "      <th>Description</th>\n",
       "    </tr>\n",
       "  </thead>\n",
       "  <tbody>\n",
       "  </tbody>\n",
       "</table>\n",
       "</div>"
      ],
      "text/plain": [
       "Empty DataFrame\n",
       "Columns: [JobTitleId, ExtJobTitleText, JobTitle, Description]\n",
       "Index: []"
      ]
     },
     "execution_count": 9,
     "metadata": {},
     "output_type": "execute_result"
    }
   ],
   "source": [
    "df[(df.Description == 'None') | (df.Description == '')]"
   ]
  },
  {
   "cell_type": "markdown",
   "id": "ca20773d-b9d6-4794-84e2-7c18126300f9",
   "metadata": {},
   "source": [
    "#### Count unique values for each column"
   ]
  },
  {
   "cell_type": "code",
   "execution_count": 10,
   "id": "58620b8f-bef1-4f6d-8d68-b64d1be13cdf",
   "metadata": {},
   "outputs": [],
   "source": [
    "def count_unique(data):\n",
    "    for col in data.columns:\n",
    "        print (f\" In the '{col}' column there are: {data[col].nunique()} unique values\")"
   ]
  },
  {
   "cell_type": "code",
   "execution_count": 11,
   "id": "ad202a6b-806a-47f9-bf49-69fc5ddaa377",
   "metadata": {},
   "outputs": [
    {
     "name": "stdout",
     "output_type": "stream",
     "text": [
      " In the 'JobTitleId' column there are: 1954 unique values\n",
      " In the 'ExtJobTitleText' column there are: 13990 unique values\n",
      " In the 'JobTitle' column there are: 1954 unique values\n",
      " In the 'Description' column there are: 31426 unique values\n"
     ]
    }
   ],
   "source": [
    "count_unique(df)"
   ]
  },
  {
   "cell_type": "markdown",
   "id": "1087b9fa-2033-40e3-abae-aafb6916f004",
   "metadata": {},
   "source": [
    "#### We can see that 'JobTitleId' and 'JobTitle' are the same length\n",
    " Let's check how many unique JobTitles are there per JobTitleId"
   ]
  },
  {
   "cell_type": "code",
   "execution_count": 12,
   "id": "8dd649c6-46e0-4d8e-b896-2d5d79381196",
   "metadata": {},
   "outputs": [
    {
     "data": {
      "text/plain": [
       "1    1953\n",
       "2       1\n",
       "Name: JobTitle, dtype: int64"
      ]
     },
     "execution_count": 12,
     "metadata": {},
     "output_type": "execute_result"
    }
   ],
   "source": [
    "df.groupby('JobTitleId').JobTitle.nunique().value_counts()"
   ]
  },
  {
   "cell_type": "markdown",
   "id": "0b16200b-70e0-408f-8a2c-91621b7885d7",
   "metadata": {},
   "source": [
    "#### There is only one JobTitleId that apears twice, lets take a look at it"
   ]
  },
  {
   "cell_type": "code",
   "execution_count": 13,
   "id": "d7353b55-bd8a-4fa8-b6a5-dd742cc6e5b9",
   "metadata": {},
   "outputs": [
    {
     "data": {
      "text/html": [
       "<div>\n",
       "<style scoped>\n",
       "    .dataframe tbody tr th:only-of-type {\n",
       "        vertical-align: middle;\n",
       "    }\n",
       "\n",
       "    .dataframe tbody tr th {\n",
       "        vertical-align: top;\n",
       "    }\n",
       "\n",
       "    .dataframe thead th {\n",
       "        text-align: right;\n",
       "    }\n",
       "</style>\n",
       "<table border=\"1\" class=\"dataframe\">\n",
       "  <thead>\n",
       "    <tr style=\"text-align: right;\">\n",
       "      <th></th>\n",
       "      <th>JobTitleId</th>\n",
       "      <th>ExtJobTitleText</th>\n",
       "      <th>JobTitle</th>\n",
       "      <th>Description</th>\n",
       "    </tr>\n",
       "  </thead>\n",
       "  <tbody>\n",
       "    <tr>\n",
       "      <th>3595</th>\n",
       "      <td>400545</td>\n",
       "      <td>Instructional Designer</td>\n",
       "      <td>Instructional Designer</td>\n",
       "      <td>&lt;p&gt;&lt;b&gt;Instructional Designer &lt;/b&gt;needed in &lt;b&gt;Summit, New Jersey 07901 &lt;/b&gt;for a &lt;b&gt;long-term contract &lt;/b&gt;opportunity with Yoh&amp;rsquo;s client.&lt;/p...</td>\n",
       "    </tr>\n",
       "    <tr>\n",
       "      <th>29169</th>\n",
       "      <td>400545</td>\n",
       "      <td>Professional Development Coordinator</td>\n",
       "      <td>Professional Development Specialist</td>\n",
       "      <td>&lt;p&gt;To be successful in this position, the Professional Development Coordinator, will be the first point of contact for NAHU's Help Desk for inboun...</td>\n",
       "    </tr>\n",
       "  </tbody>\n",
       "</table>\n",
       "</div>"
      ],
      "text/plain": [
       "       JobTitleId                       ExtJobTitleText  \\\n",
       "3595       400545                Instructional Designer   \n",
       "29169      400545  Professional Development Coordinator   \n",
       "\n",
       "                                  JobTitle  \\\n",
       "3595                Instructional Designer   \n",
       "29169  Professional Development Specialist   \n",
       "\n",
       "                                                                                                                                                 Description  \n",
       "3595   <p><b>Instructional Designer </b>needed in <b>Summit, New Jersey 07901 </b>for a <b>long-term contract </b>opportunity with Yoh&rsquo;s client.</p...  \n",
       "29169  <p>To be successful in this position, the Professional Development Coordinator, will be the first point of contact for NAHU's Help Desk for inboun...  "
      ]
     },
     "execution_count": 13,
     "metadata": {},
     "output_type": "execute_result"
    }
   ],
   "source": [
    "df[df.JobTitleId == df.groupby('JobTitleId').JobTitle.nunique().idxmax()]"
   ]
  },
  {
   "cell_type": "markdown",
   "id": "80957e7b-3b6f-4214-946a-6ef4ca086e79",
   "metadata": {},
   "source": [
    "#### We can see that the only place where there is a different JobTitleId for JobTitle was a mistake.\n",
    " So we can now use the JobTitle only, because JobTitleId doen't give us any additional information."
   ]
  },
  {
   "cell_type": "code",
   "execution_count": 20,
   "id": "82403586-c8fb-4ce8-bbc0-e3273b6b9780",
   "metadata": {},
   "outputs": [],
   "source": [
    "df.drop(columns='JobTitleId', inplace=True)"
   ]
  },
  {
   "cell_type": "markdown",
   "id": "d729f4cd-eea5-4423-9e94-d3f3d3958430",
   "metadata": {},
   "source": [
    "#### Let's take another look at our df"
   ]
  },
  {
   "cell_type": "code",
   "execution_count": 16,
   "id": "0fc85aed-a28f-4243-b52f-aba321097017",
   "metadata": {},
   "outputs": [
    {
     "data": {
      "text/html": [
       "<div>\n",
       "<style scoped>\n",
       "    .dataframe tbody tr th:only-of-type {\n",
       "        vertical-align: middle;\n",
       "    }\n",
       "\n",
       "    .dataframe tbody tr th {\n",
       "        vertical-align: top;\n",
       "    }\n",
       "\n",
       "    .dataframe thead th {\n",
       "        text-align: right;\n",
       "    }\n",
       "</style>\n",
       "<table border=\"1\" class=\"dataframe\">\n",
       "  <thead>\n",
       "    <tr style=\"text-align: right;\">\n",
       "      <th></th>\n",
       "      <th>ExtJobTitleText</th>\n",
       "      <th>JobTitle</th>\n",
       "      <th>Description</th>\n",
       "    </tr>\n",
       "  </thead>\n",
       "  <tbody>\n",
       "    <tr>\n",
       "      <th>1612</th>\n",
       "      <td>Local Route Driver - CDL B</td>\n",
       "      <td>Route Driver</td>\n",
       "      <td>Position Description: Are you looking to join a team that rewards and promotes top performers?&lt;br/&gt;Would you enjoy working for a reputable, enviro...</td>\n",
       "    </tr>\n",
       "    <tr>\n",
       "      <th>14229</th>\n",
       "      <td>Clinical Lab Scientist</td>\n",
       "      <td>Medical Technologist (MT)</td>\n",
       "      <td>&lt;p&gt;Yoh Life Sciences is seeking&amp;nbsp;&lt;strong&gt;multiple&amp;nbsp;Clinical Lab Scientists&lt;/strong&gt;&amp;nbsp;to support our rapidly growing Mobile Diagnostics...</td>\n",
       "    </tr>\n",
       "    <tr>\n",
       "      <th>14803</th>\n",
       "      <td>COVID Nurses (LVNS)</td>\n",
       "      <td>Licensed Vocational Nurse (LVN)</td>\n",
       "      <td>&lt;p&gt;&lt;strong&gt;&lt;span style=\"font-size:10.0pt\"&gt;&lt;span style=\"font-family:&amp;quot;Verdana&amp;quot;,sans-serif\"&gt;COVID Nurses (LVN)&lt;/span&gt;&lt;/span&gt;&lt;/strong&gt; &lt;span...</td>\n",
       "    </tr>\n",
       "    <tr>\n",
       "      <th>27686</th>\n",
       "      <td>Client Service Manager</td>\n",
       "      <td>Client Services Manager</td>\n",
       "      <td>Job Description&lt;br&gt;&lt;p&gt;&lt;strong&gt;&lt;u&gt;Job Summary&lt;/u&gt;&lt;/strong&gt;&lt;br /&gt;The Client Services Manager (CSM) is responsible for developing and managing relati...</td>\n",
       "    </tr>\n",
       "    <tr>\n",
       "      <th>13654</th>\n",
       "      <td>Dental Assistant</td>\n",
       "      <td>Dental Assistant</td>\n",
       "      <td>&lt;p&gt;Our dental practice, located in insert location is seeking a talented and experienced &lt;strong&gt;Dental Assistant (DA)&lt;/strong&gt; to join our winnin...</td>\n",
       "    </tr>\n",
       "  </tbody>\n",
       "</table>\n",
       "</div>"
      ],
      "text/plain": [
       "                  ExtJobTitleText                         JobTitle  \\\n",
       "1612   Local Route Driver - CDL B                     Route Driver   \n",
       "14229      Clinical Lab Scientist        Medical Technologist (MT)   \n",
       "14803         COVID Nurses (LVNS)  Licensed Vocational Nurse (LVN)   \n",
       "27686      Client Service Manager          Client Services Manager   \n",
       "13654            Dental Assistant                 Dental Assistant   \n",
       "\n",
       "                                                                                                                                                 Description  \n",
       "1612   Position Description: Are you looking to join a team that rewards and promotes top performers?<br/>Would you enjoy working for a reputable, enviro...  \n",
       "14229  <p>Yoh Life Sciences is seeking&nbsp;<strong>multiple&nbsp;Clinical Lab Scientists</strong>&nbsp;to support our rapidly growing Mobile Diagnostics...  \n",
       "14803  <p><strong><span style=\"font-size:10.0pt\"><span style=\"font-family:&quot;Verdana&quot;,sans-serif\">COVID Nurses (LVN)</span></span></strong> <span...  \n",
       "27686  Job Description<br><p><strong><u>Job Summary</u></strong><br />The Client Services Manager (CSM) is responsible for developing and managing relati...  \n",
       "13654  <p>Our dental practice, located in insert location is seeking a talented and experienced <strong>Dental Assistant (DA)</strong> to join our winnin...  "
      ]
     },
     "execution_count": 16,
     "metadata": {},
     "output_type": "execute_result"
    }
   ],
   "source": [
    "df.sample(5)"
   ]
  },
  {
   "cell_type": "markdown",
   "id": "266c6675-079b-426e-8dd0-3b222652c53d",
   "metadata": {},
   "source": [
    "The Description column is full of html tags so we want to get rid of those and make the column more readble"
   ]
  },
  {
   "cell_type": "markdown",
   "id": "7eef2526-5d87-4918-8c83-4033c9fd32ef",
   "metadata": {},
   "source": [
    "## Cleaning The Data\n",
    "\n",
    "**Common data cleaning steps on all text:**\n",
    "\n",
    "* Make text all lower case\n",
    "* Remove punctuation\n",
    "* Remove HTML tags\n",
    "* Remove numerical values\n",
    "* Remove common non-sensical text (/n)\n",
    "* Tokenize text\n",
    "* Remove stop words"
   ]
  },
  {
   "cell_type": "code",
   "execution_count": 21,
   "id": "fa832df1-3793-4649-8266-ff751d412830",
   "metadata": {},
   "outputs": [],
   "source": [
    "# Apply a first round of text cleaning techniques\n",
    "# pip install nltk\n",
    "import nltk\n",
    "# nltk.download('stopwords')\n",
    "# nltk.download('wordnet')\n",
    "# from nltk.corpus import stopwords\n",
    "\n",
    "import re\n",
    "import string\n",
    "from nltk.corpus import stopwords \n",
    "from bs4 import BeautifulSoup\n",
    "\n",
    "def text_process(text):\n",
    "    \"\"\"\n",
    "    1. make text lowercase\n",
    "    2. remove html tags\n",
    "    3. remove punctuation \n",
    "    4. remove words containing numbers\n",
    "    5. return set of clean text words\n",
    "    \"\"\"\n",
    "    \n",
    "    text = text.lower()\n",
    "    text = re.sub('<.*?>', '', text)\n",
    "    text = BeautifulSoup(text).get_text()\n",
    "    text = re.sub('\\w*\\d\\w*', '', text)\n",
    "    text = re.sub('[%s]' % re.escape(string.punctuation), '', text)\n",
    "    text = [word for word in text.split() if word.lower() not in stopwords.words('english')] \n",
    "    text = list(set(text))\n",
    "    \n",
    "    return text\n",
    "\n",
    "round1 = lambda x: text_process(x)"
   ]
  },
  {
   "cell_type": "markdown",
   "id": "aac85d10-4d55-4865-926e-32e2d71d6a5f",
   "metadata": {},
   "source": [
    "#### Show some stop words"
   ]
  },
  {
   "cell_type": "code",
   "execution_count": 22,
   "id": "12c7699a-5864-4540-ad9a-70c7d12390a9",
   "metadata": {},
   "outputs": [
    {
     "data": {
      "text/plain": [
       "['i', 'me', 'my', 'myself', 'we', 'our', 'ours', 'ourselves', 'you', \"you're\"]"
      ]
     },
     "execution_count": 22,
     "metadata": {},
     "output_type": "execute_result"
    }
   ],
   "source": [
    "stopwords.words('english')[0:10]"
   ]
  },
  {
   "cell_type": "code",
   "execution_count": 23,
   "id": "96b7cec5-7b02-450e-9d37-07721ea57d53",
   "metadata": {},
   "outputs": [
    {
     "name": "stderr",
     "output_type": "stream",
     "text": [
      "C:\\Users\\User\\anaconda3\\envs\\ML Technion\\lib\\site-packages\\bs4\\__init__.py:431: MarkupResemblesLocatorWarning: \"https://americanacctassoc-my.sharepoint.com/:w:/g/personal/darlene_dobson_aaahq_org/exx9wqcdmmbllncxejubiyob4vzecn5jocjtwy5bkrkgnq?cid=7664ee06-2a9f-4921-9de1-9770562de129&amp;wdlor=c137e345e-0fb4-4ee6-801e-049c0512f203\" looks like a URL. Beautiful Soup is not an HTTP client. You should probably use an HTTP client like requests to get the document behind the URL, and feed that document to Beautiful Soup.\n",
      "  warnings.warn(\n"
     ]
    },
    {
     "data": {
      "text/html": [
       "<div>\n",
       "<style scoped>\n",
       "    .dataframe tbody tr th:only-of-type {\n",
       "        vertical-align: middle;\n",
       "    }\n",
       "\n",
       "    .dataframe tbody tr th {\n",
       "        vertical-align: top;\n",
       "    }\n",
       "\n",
       "    .dataframe thead th {\n",
       "        text-align: right;\n",
       "    }\n",
       "</style>\n",
       "<table border=\"1\" class=\"dataframe\">\n",
       "  <thead>\n",
       "    <tr style=\"text-align: right;\">\n",
       "      <th></th>\n",
       "      <th>ExtJobTitleText</th>\n",
       "      <th>JobTitle</th>\n",
       "      <th>Description</th>\n",
       "      <th>Desc</th>\n",
       "    </tr>\n",
       "  </thead>\n",
       "  <tbody>\n",
       "    <tr>\n",
       "      <th>0</th>\n",
       "      <td>Business Development Center Agent</td>\n",
       "      <td>Medical Scientist</td>\n",
       "      <td>For generations, the Landers family has been in the car business.&lt;br/&gt;Steve Landers Chrysler Dodge Jeep continues to build its brand on family val...</td>\n",
       "      <td>[flexible, required, date, owned, strong, excel, bring, screening, dodge, employee, productivityyou, skills, trained, tasks, assisting, must, micr...</td>\n",
       "    </tr>\n",
       "    <tr>\n",
       "      <th>1</th>\n",
       "      <td>Technician I</td>\n",
       "      <td>Automotive Technician</td>\n",
       "      <td>&lt;div class=\"earcu_posdescriptionContainer\"&gt;&lt;div class=\"earcu_posdescription\"&gt;&lt;div class=\"earcu_posdescriptionnote\"&gt;&lt;p&gt;Avis Budget Group is an acti...</td>\n",
       "      <td>[may, required, avis, date, stay, needed, rental, much, screening, constitute, completed, skills, shop, license, must, management, professional, r...</td>\n",
       "    </tr>\n",
       "    <tr>\n",
       "      <th>2</th>\n",
       "      <td>RN or LPN Clinic Nurse, Urology</td>\n",
       "      <td>Nurse Practitioner (NP)</td>\n",
       "      <td>&lt;p&gt;&lt;strong&gt;Position:&lt;/strong&gt; Licensed Practical Nurse or Register Nurse&lt;/p&gt; &lt;p&gt;&lt;strong&gt;Department&lt;/strong&gt;: Urology Clinic&lt;/p&gt; &lt;p&gt;&lt;strong&gt;Status&lt;...</td>\n",
       "      <td>[cooperatively, demonstrates, ft, strong, opportunity, practice, shifthours, sound, clinical, skills, deadline, mondayfriday, nurse, license, prov...</td>\n",
       "    </tr>\n",
       "    <tr>\n",
       "      <th>3</th>\n",
       "      <td>Service Technician</td>\n",
       "      <td>Automotive Technician</td>\n",
       "      <td>Service Technician &lt;br/&gt;  Every employee with Starling Chevrolet is absolutely critical to its success.&lt;br/&gt;Our rapid growth and fast-paced enviro...</td>\n",
       "      <td>[executing, strong, stay, needed, employee, skills, license, must, life, certifications, etc, responsibilities, advisor, time, drug, using, estima...</td>\n",
       "    </tr>\n",
       "    <tr>\n",
       "      <th>4</th>\n",
       "      <td>Mechanic Tech A</td>\n",
       "      <td>Automotive Technician</td>\n",
       "      <td>&lt;div class=\"earcu_posdescriptionContainer\"&gt;&lt;div class=\"earcu_posdescription\"&gt;&lt;div class=\"earcu_posdescriptionnote\"&gt;&lt;p&gt;Avis Budget Group is an acti...</td>\n",
       "      <td>[may, required, avis, date, stay, needed, rental, much, screening, constitute, completed, skills, shop, license, must, certifications, management,...</td>\n",
       "    </tr>\n",
       "  </tbody>\n",
       "</table>\n",
       "</div>"
      ],
      "text/plain": [
       "                     ExtJobTitleText                 JobTitle  \\\n",
       "0  Business Development Center Agent        Medical Scientist   \n",
       "1                       Technician I    Automotive Technician   \n",
       "2    RN or LPN Clinic Nurse, Urology  Nurse Practitioner (NP)   \n",
       "3                 Service Technician    Automotive Technician   \n",
       "4                    Mechanic Tech A    Automotive Technician   \n",
       "\n",
       "                                                                                                                                             Description  \\\n",
       "0  For generations, the Landers family has been in the car business.<br/>Steve Landers Chrysler Dodge Jeep continues to build its brand on family val...   \n",
       "1  <div class=\"earcu_posdescriptionContainer\"><div class=\"earcu_posdescription\"><div class=\"earcu_posdescriptionnote\"><p>Avis Budget Group is an acti...   \n",
       "2  <p><strong>Position:</strong> Licensed Practical Nurse or Register Nurse</p> <p><strong>Department</strong>: Urology Clinic</p> <p><strong>Status<...   \n",
       "3  Service Technician <br/>  Every employee with Starling Chevrolet is absolutely critical to its success.<br/>Our rapid growth and fast-paced enviro...   \n",
       "4  <div class=\"earcu_posdescriptionContainer\"><div class=\"earcu_posdescription\"><div class=\"earcu_posdescriptionnote\"><p>Avis Budget Group is an acti...   \n",
       "\n",
       "                                                                                                                                                    Desc  \n",
       "0  [flexible, required, date, owned, strong, excel, bring, screening, dodge, employee, productivityyou, skills, trained, tasks, assisting, must, micr...  \n",
       "1  [may, required, avis, date, stay, needed, rental, much, screening, constitute, completed, skills, shop, license, must, management, professional, r...  \n",
       "2  [cooperatively, demonstrates, ft, strong, opportunity, practice, shifthours, sound, clinical, skills, deadline, mondayfriday, nurse, license, prov...  \n",
       "3  [executing, strong, stay, needed, employee, skills, license, must, life, certifications, etc, responsibilities, advisor, time, drug, using, estima...  \n",
       "4  [may, required, avis, date, stay, needed, rental, much, screening, constitute, completed, skills, shop, license, must, certifications, management,...  "
      ]
     },
     "execution_count": 23,
     "metadata": {},
     "output_type": "execute_result"
    }
   ],
   "source": [
    "df['Desc'] = pd.DataFrame(df.Description.apply(round1))\n",
    "df.head()"
   ]
  },
  {
   "cell_type": "markdown",
   "id": "cc51ae65-4f0a-4384-818f-ae5b7f3b56b1",
   "metadata": {},
   "source": [
    "### Let's take a look how did the length of the Description column change after the cleaning"
   ]
  },
  {
   "cell_type": "code",
   "execution_count": 25,
   "id": "1392897f-723a-4b24-b2cf-468430a6b57b",
   "metadata": {},
   "outputs": [],
   "source": [
    "df['DescLength'] = df.Desc.apply(len)\n",
    "df['DescriptionLength'] = df.Description.apply(len)"
   ]
  },
  {
   "cell_type": "code",
   "execution_count": 26,
   "id": "0070eb79-86ea-4f30-80ff-018bfa1fddf7",
   "metadata": {},
   "outputs": [
    {
     "data": {
      "image/png": "[encoded data removed]",
      "text/plain": [
       "<Figure size 1440x432 with 2 Axes>"
      ]
     },
     "metadata": {},
     "output_type": "display_data"
    }
   ],
   "source": [
    "fig, axes = plt.subplots(1,2, figsize=(20,6))\n",
    "\n",
    "# both subplots title\n",
    "fig.suptitle('Description Length')\n",
    "\n",
    "# plot1 object\n",
    "sns.histplot(df['DescriptionLength'],ax=axes[0])\n",
    "axes[0].set_title('Description Length histogram (before cleaning)')\n",
    "\n",
    "# plot2 object\n",
    "sns.histplot(df['DescLength'],ax=axes[1])\n",
    "axes[1].set_title('Description Length histogram (after cleaning)')\n",
    "\n",
    "# show plot\n",
    "plt.show()"
   ]
  },
  {
   "cell_type": "markdown",
   "id": "d0d7d478-e8f8-40cd-947c-9caa0540471d",
   "metadata": {},
   "source": [
    "### Looks like we were able to clean a lot of unnecessary text"
   ]
  },
  {
   "cell_type": "code",
   "execution_count": 27,
   "id": "48576980-2a9d-4fc5-8cde-5984203cea23",
   "metadata": {},
   "outputs": [
    {
     "data": {
      "text/html": [
       "<div>\n",
       "<style scoped>\n",
       "    .dataframe tbody tr th:only-of-type {\n",
       "        vertical-align: middle;\n",
       "    }\n",
       "\n",
       "    .dataframe tbody tr th {\n",
       "        vertical-align: top;\n",
       "    }\n",
       "\n",
       "    .dataframe thead th {\n",
       "        text-align: right;\n",
       "    }\n",
       "</style>\n",
       "<table border=\"1\" class=\"dataframe\">\n",
       "  <thead>\n",
       "    <tr style=\"text-align: right;\">\n",
       "      <th></th>\n",
       "      <th>DescLength</th>\n",
       "      <th>DescriptionLength</th>\n",
       "    </tr>\n",
       "  </thead>\n",
       "  <tbody>\n",
       "    <tr>\n",
       "      <th>count</th>\n",
       "      <td>31426.000000</td>\n",
       "      <td>31426.000000</td>\n",
       "    </tr>\n",
       "    <tr>\n",
       "      <th>mean</th>\n",
       "      <td>129.052918</td>\n",
       "      <td>2481.080411</td>\n",
       "    </tr>\n",
       "    <tr>\n",
       "      <th>std</th>\n",
       "      <td>88.208415</td>\n",
       "      <td>2571.633684</td>\n",
       "    </tr>\n",
       "    <tr>\n",
       "      <th>min</th>\n",
       "      <td>0.000000</td>\n",
       "      <td>7.000000</td>\n",
       "    </tr>\n",
       "    <tr>\n",
       "      <th>25%</th>\n",
       "      <td>44.000000</td>\n",
       "      <td>512.000000</td>\n",
       "    </tr>\n",
       "    <tr>\n",
       "      <th>50%</th>\n",
       "      <td>119.000000</td>\n",
       "      <td>1983.000000</td>\n",
       "    </tr>\n",
       "    <tr>\n",
       "      <th>75%</th>\n",
       "      <td>180.000000</td>\n",
       "      <td>3269.000000</td>\n",
       "    </tr>\n",
       "    <tr>\n",
       "      <th>max</th>\n",
       "      <td>631.000000</td>\n",
       "      <td>109550.000000</td>\n",
       "    </tr>\n",
       "  </tbody>\n",
       "</table>\n",
       "</div>"
      ],
      "text/plain": [
       "         DescLength  DescriptionLength\n",
       "count  31426.000000       31426.000000\n",
       "mean     129.052918        2481.080411\n",
       "std       88.208415        2571.633684\n",
       "min        0.000000           7.000000\n",
       "25%       44.000000         512.000000\n",
       "50%      119.000000        1983.000000\n",
       "75%      180.000000        3269.000000\n",
       "max      631.000000      109550.000000"
      ]
     },
     "execution_count": 27,
     "metadata": {},
     "output_type": "execute_result"
    }
   ],
   "source": [
    "df.describe()"
   ]
  },
  {
   "cell_type": "markdown",
   "id": "9e6a9bc3-fdaa-4975-98a0-e300687496b5",
   "metadata": {},
   "source": [
    "#### We see that a minimum lenth of the Description is 0\n",
    "Let's take a look on rows with small Description"
   ]
  },
  {
   "cell_type": "code",
   "execution_count": 53,
   "id": "660857a5-51b2-4c64-a847-d74964411838",
   "metadata": {},
   "outputs": [
    {
     "data": {
      "text/html": [
       "<div>\n",
       "<style scoped>\n",
       "    .dataframe tbody tr th:only-of-type {\n",
       "        vertical-align: middle;\n",
       "    }\n",
       "\n",
       "    .dataframe tbody tr th {\n",
       "        vertical-align: top;\n",
       "    }\n",
       "\n",
       "    .dataframe thead th {\n",
       "        text-align: right;\n",
       "    }\n",
       "</style>\n",
       "<table border=\"1\" class=\"dataframe\">\n",
       "  <thead>\n",
       "    <tr style=\"text-align: right;\">\n",
       "      <th></th>\n",
       "      <th>ExtJobTitleText</th>\n",
       "      <th>JobTitle</th>\n",
       "      <th>Description</th>\n",
       "      <th>Desc</th>\n",
       "      <th>DescLength</th>\n",
       "      <th>DescriptionLength</th>\n",
       "    </tr>\n",
       "  </thead>\n",
       "  <tbody>\n",
       "  </tbody>\n",
       "</table>\n",
       "</div>"
      ],
      "text/plain": [
       "Empty DataFrame\n",
       "Columns: [ExtJobTitleText, JobTitle, Description, Desc, DescLength, DescriptionLength]\n",
       "Index: []"
      ]
     },
     "execution_count": 55,
     "metadata": {},
     "output_type": "execute_result"
    }
   ],
   "source": [
    "df[df.DescLength <=0]"
   ]
  },
  {
   "cell_type": "markdown",
   "id": "77bfee51-0b10-477b-bd7a-642267a6e602",
   "metadata": {},
   "source": [
    "There is no information in these rows."
   ]
  },
  {
   "cell_type": "code",
   "execution_count": 51,
   "id": "d3a24e9a-3859-4427-87c9-b81d958842da",
   "metadata": {},
   "outputs": [],
   "source": [
    "df = df[df.DescLength > 0]"
   ]
  },
  {
   "cell_type": "markdown",
   "id": "d4ade974-0546-4a98-8486-64ef7f29ca15",
   "metadata": {},
   "source": [
    "#### We saw there are rows with a '0000' job title, let's take a look at them"
   ]
  },
  {
   "cell_type": "code",
   "execution_count": 56,
   "id": "3d3abbc3-0a82-431d-8ae5-c9c87a3fce10",
   "metadata": {},
   "outputs": [
    {
     "data": {
      "text/html": [
       "<div>\n",
       "<style scoped>\n",
       "    .dataframe tbody tr th:only-of-type {\n",
       "        vertical-align: middle;\n",
       "    }\n",
       "\n",
       "    .dataframe tbody tr th {\n",
       "        vertical-align: top;\n",
       "    }\n",
       "\n",
       "    .dataframe thead th {\n",
       "        text-align: right;\n",
       "    }\n",
       "</style>\n",
       "<table border=\"1\" class=\"dataframe\">\n",
       "  <thead>\n",
       "    <tr style=\"text-align: right;\">\n",
       "      <th></th>\n",
       "      <th>ExtJobTitleText</th>\n",
       "      <th>JobTitle</th>\n",
       "      <th>Description</th>\n",
       "      <th>Desc</th>\n",
       "      <th>DescLength</th>\n",
       "      <th>DescriptionLength</th>\n",
       "    </tr>\n",
       "  </thead>\n",
       "  <tbody>\n",
       "    <tr>\n",
       "      <th>13</th>\n",
       "      <td>Independent Operator</td>\n",
       "      <td>0000</td>\n",
       "      <td>&lt;div class=\"earcu_posdescriptionContainer\"&gt;&lt;div class=\"earcu_posdescription\"&gt;&lt;div class=\"earcu_posdescriptionnote\"&gt;&lt;p&gt;&lt;strong&gt;DRIVE YOUR OWN BUSIN...</td>\n",
       "      <td>[avis, strong, rental, along, renowned, operation, one, must, internationallyrecognized, franchise, way, professional, travel, local, business, go...</td>\n",
       "      <td>136</td>\n",
       "      <td>2943</td>\n",
       "    </tr>\n",
       "    <tr>\n",
       "      <th>47</th>\n",
       "      <td>Behavioral Health Activity Therapist</td>\n",
       "      <td>0000</td>\n",
       "      <td>&lt;p style=\"margin: 0in 0in 8pt;\"&gt;&lt;span style=\"font-family: 'Verdana',sans-serif; font-size: 9pt;\"&gt;At Corizon Health, we share a common bond to deli...</td>\n",
       "      <td>[may, therapies, wellbeing, clinical, online, communities, psychology, life, assisting, common, juvenile, professional, planned, mental, extraordi...</td>\n",
       "      <td>155</td>\n",
       "      <td>3465</td>\n",
       "    </tr>\n",
       "    <tr>\n",
       "      <th>255</th>\n",
       "      <td>Family Medicine NP/PA - Locum Tenens - Southern California</td>\n",
       "      <td>0000</td>\n",
       "      <td>&lt;p&gt;&lt;span style=\"font-size:14px\"&gt;Locums FP NP/PA  need at a clinic 2 hours East of San Diego for the dates of 12/23 - 1/3&lt;/span&gt;&lt;/p&gt;\\n\\n&lt;ul&gt;\\n\\t&lt;li...</td>\n",
       "      <td>[weekly, dates, enrolled, practice, deposit, staffing, panp, staff, hour, must, rated, nalto, nextgen, clinic, malpractice, alumni, travel, east, ...</td>\n",
       "      <td>42</td>\n",
       "      <td>1029</td>\n",
       "    </tr>\n",
       "    <tr>\n",
       "      <th>261</th>\n",
       "      <td>Physician Only - Maternal Fetal Medicine Locums Need with NYC Hospital - Part-Time - $2k Per Day</td>\n",
       "      <td>0000</td>\n",
       "      <td>&lt;p&gt;&lt;strong&gt;&lt;u&gt;Alumni Healthcare Staffing - &lt;/u&gt;&lt;/strong&gt;&lt;strong&gt;&lt;u&gt;Maternal Fetal Medicine – NYC Locum Tenens:&lt;/u&gt;&lt;/strong&gt;&lt;/p&gt;\\n\\n&lt;ul&gt;\\n\\t&lt;li&gt;&lt;st...</td>\n",
       "      <td>[rate, ii, weekly, per, w, deposit, tenens, staffing, level, staff, daily, dopplers, ob, medicine, nalto, rated, imaging, malpractice, fetal, alum...</td>\n",
       "      <td>46</td>\n",
       "      <td>727</td>\n",
       "    </tr>\n",
       "    <tr>\n",
       "      <th>262</th>\n",
       "      <td>Full Time ER and Outpatient C/A Psychiatry Locums Need in Connecticut</td>\n",
       "      <td>0000</td>\n",
       "      <td>&lt;p&gt; &lt;/p&gt;\\n\\n&lt;ul&gt;\\n\\t&lt;li&gt;Immediate start date&lt;/li&gt;\\n\\t&lt;li&gt;Must be board certified&lt;/li&gt;\\n\\t&lt;li&gt;M-F&lt;/li&gt;\\n\\t&lt;li&gt;ER and Outpatient Child/Adol&lt;/li&gt;\\n\\t...</td>\n",
       "      <td>[month, ct, weekly, date, immediate, deposit, childadol, guaranteed, outpatient, license, must, rated, nalto, reliable, preferred, service, malpra...</td>\n",
       "      <td>36</td>\n",
       "      <td>532</td>\n",
       "    </tr>\n",
       "  </tbody>\n",
       "</table>\n",
       "</div>"
      ],
      "text/plain": [
       "                                                                                      ExtJobTitleText  \\\n",
       "13                                                                               Independent Operator   \n",
       "47                                                               Behavioral Health Activity Therapist   \n",
       "255                                        Family Medicine NP/PA - Locum Tenens - Southern California   \n",
       "261  Physician Only - Maternal Fetal Medicine Locums Need with NYC Hospital - Part-Time - $2k Per Day   \n",
       "262                             Full Time ER and Outpatient C/A Psychiatry Locums Need in Connecticut   \n",
       "\n",
       "    JobTitle  \\\n",
       "13      0000   \n",
       "47      0000   \n",
       "255     0000   \n",
       "261     0000   \n",
       "262     0000   \n",
       "\n",
       "                                                                                                                                               Description  \\\n",
       "13   <div class=\"earcu_posdescriptionContainer\"><div class=\"earcu_posdescription\"><div class=\"earcu_posdescriptionnote\"><p><strong>DRIVE YOUR OWN BUSIN...   \n",
       "47   <p style=\"margin: 0in 0in 8pt;\"><span style=\"font-family: 'Verdana',sans-serif; font-size: 9pt;\">At Corizon Health, we share a common bond to deli...   \n",
       "255  <p><span style=\"font-size:14px\">Locums FP NP/PA  need at a clinic 2 hours East of San Diego for the dates of 12/23 - 1/3</span></p>\\n\\n<ul>\\n\\t<li...   \n",
       "261  <p><strong><u>Alumni Healthcare Staffing - </u></strong><strong><u>Maternal Fetal Medicine – NYC Locum Tenens:</u></strong></p>\\n\\n<ul>\\n\\t<li><st...   \n",
       "262  <p> </p>\\n\\n<ul>\\n\\t<li>Immediate start date</li>\\n\\t<li>Must be board certified</li>\\n\\t<li>M-F</li>\\n\\t<li>ER and Outpatient Child/Adol</li>\\n\\t...   \n",
       "\n",
       "                                                                                                                                                      Desc  \\\n",
       "13   [avis, strong, rental, along, renowned, operation, one, must, internationallyrecognized, franchise, way, professional, travel, local, business, go...   \n",
       "47   [may, therapies, wellbeing, clinical, online, communities, psychology, life, assisting, common, juvenile, professional, planned, mental, extraordi...   \n",
       "255  [weekly, dates, enrolled, practice, deposit, staffing, panp, staff, hour, must, rated, nalto, nextgen, clinic, malpractice, alumni, travel, east, ...   \n",
       "261  [rate, ii, weekly, per, w, deposit, tenens, staffing, level, staff, daily, dopplers, ob, medicine, nalto, rated, imaging, malpractice, fetal, alum...   \n",
       "262  [month, ct, weekly, date, immediate, deposit, childadol, guaranteed, outpatient, license, must, rated, nalto, reliable, preferred, service, malpra...   \n",
       "\n",
       "     DescLength  DescriptionLength  \n",
       "13          136               2943  \n",
       "47          155               3465  \n",
       "255          42               1029  \n",
       "261          46                727  \n",
       "262          36                532  "
      ]
     },
     "execution_count": 56,
     "metadata": {},
     "output_type": "execute_result"
    }
   ],
   "source": [
    "df[df.JobTitle == '0000'].head()"
   ]
  },
  {
   "cell_type": "markdown",
   "id": "d94e5d60-43e9-4172-888d-3085ca163eb6",
   "metadata": {},
   "source": [
    "#### We can not know, what the real job title is for these, so they are just as useless as NA, let's drop them."
   ]
  },
  {
   "cell_type": "code",
   "execution_count": 59,
   "id": "9adb7250-3769-4bac-adef-ad0f558a0a7a",
   "metadata": {},
   "outputs": [],
   "source": [
    "df = df[df.JobTitle != '0000']"
   ]
  },
  {
   "cell_type": "markdown",
   "id": "2332c955-fc39-41a6-9523-14794010f658",
   "metadata": {},
   "source": [
    "#### Let's take another look at the df metrics:"
   ]
  },
  {
   "cell_type": "code",
   "execution_count": 62,
   "id": "6205a15d-b3d6-44c2-afa4-579437e77e0e",
   "metadata": {},
   "outputs": [
    {
     "data": {
      "text/html": [
       "<div>\n",
       "<style scoped>\n",
       "    .dataframe tbody tr th:only-of-type {\n",
       "        vertical-align: middle;\n",
       "    }\n",
       "\n",
       "    .dataframe tbody tr th {\n",
       "        vertical-align: top;\n",
       "    }\n",
       "\n",
       "    .dataframe thead th {\n",
       "        text-align: right;\n",
       "    }\n",
       "</style>\n",
       "<table border=\"1\" class=\"dataframe\">\n",
       "  <thead>\n",
       "    <tr style=\"text-align: right;\">\n",
       "      <th></th>\n",
       "      <th>DescLength</th>\n",
       "      <th>DescriptionLength</th>\n",
       "    </tr>\n",
       "  </thead>\n",
       "  <tbody>\n",
       "    <tr>\n",
       "      <th>count</th>\n",
       "      <td>30673.000000</td>\n",
       "      <td>30673.000000</td>\n",
       "    </tr>\n",
       "    <tr>\n",
       "      <th>mean</th>\n",
       "      <td>129.074756</td>\n",
       "      <td>2482.968148</td>\n",
       "    </tr>\n",
       "    <tr>\n",
       "      <th>std</th>\n",
       "      <td>88.066583</td>\n",
       "      <td>2578.250691</td>\n",
       "    </tr>\n",
       "    <tr>\n",
       "      <th>min</th>\n",
       "      <td>1.000000</td>\n",
       "      <td>19.000000</td>\n",
       "    </tr>\n",
       "    <tr>\n",
       "      <th>25%</th>\n",
       "      <td>44.000000</td>\n",
       "      <td>512.000000</td>\n",
       "    </tr>\n",
       "    <tr>\n",
       "      <th>50%</th>\n",
       "      <td>119.000000</td>\n",
       "      <td>1986.000000</td>\n",
       "    </tr>\n",
       "    <tr>\n",
       "      <th>75%</th>\n",
       "      <td>180.000000</td>\n",
       "      <td>3270.000000</td>\n",
       "    </tr>\n",
       "    <tr>\n",
       "      <th>max</th>\n",
       "      <td>631.000000</td>\n",
       "      <td>109550.000000</td>\n",
       "    </tr>\n",
       "  </tbody>\n",
       "</table>\n",
       "</div>"
      ],
      "text/plain": [
       "         DescLength  DescriptionLength\n",
       "count  30673.000000       30673.000000\n",
       "mean     129.074756        2482.968148\n",
       "std       88.066583        2578.250691\n",
       "min        1.000000          19.000000\n",
       "25%       44.000000         512.000000\n",
       "50%      119.000000        1986.000000\n",
       "75%      180.000000        3270.000000\n",
       "max      631.000000      109550.000000"
      ]
     },
     "execution_count": 62,
     "metadata": {},
     "output_type": "execute_result"
    }
   ],
   "source": [
    "df.describe()"
   ]
  },
  {
   "cell_type": "markdown",
   "id": "d5cd99b4-896d-469d-8285-163bf5bdb123",
   "metadata": {},
   "source": [
    "## Lemmatization"
   ]
  },
  {
   "cell_type": "markdown",
   "id": "2d110e88-8678-4548-bd73-da29ee8c2d9e",
   "metadata": {},
   "source": [
    "#### We will use 'words' list for quick test as well as the first row of df"
   ]
  },
  {
   "cell_type": "code",
   "execution_count": 71,
   "id": "9c62f87e-1ff5-43c9-a84d-be06a4309aaf",
   "metadata": {},
   "outputs": [],
   "source": [
    "words = ['run', 'running', 'ran','go', 'going', 'goes', 'went']\n",
    "test  = df.Desc[0]"
   ]
  },
  {
   "cell_type": "markdown",
   "id": "e71e6d1d-2ae0-4c1c-893b-719a5ebbae03",
   "metadata": {
    "jp-MarkdownHeadingCollapsed": true,
    "tags": []
   },
   "source": [
    "* nltk library\n"
   ]
  },
  {
   "cell_type": "code",
   "execution_count": 75,
   "id": "367614ab-e263-41d3-a2c2-4ab8d37aa8c3",
   "metadata": {},
   "outputs": [],
   "source": [
    "from nltk.stem import WordNetLemmatizer\n",
    "nltk_lemmatizer = WordNetLemmatizer()\n",
    "words_nltk_lem = [nltk_lemmatizer.lemmatize(w) for w in words]\n",
    "test_nltk_lem = [nltk_lemmatizer.lemmatize(w) for w in test]"
   ]
  },
  {
   "cell_type": "markdown",
   "id": "822f051e-f2eb-4c13-9f15-7abc04354e32",
   "metadata": {},
   "source": [
    "* textblob library"
   ]
  },
  {
   "cell_type": "code",
   "execution_count": 83,
   "id": "3ca20722-229b-4fbd-b691-e1f1525a04ef",
   "metadata": {},
   "outputs": [],
   "source": [
    "from textblob import Word\n",
    "words_textblob_lem = [Word(w).lemmatize() for w in words]\n",
    "test_textblob_lem  = [Word(w).lemmatize() for w in test]"
   ]
  },
  {
   "cell_type": "markdown",
   "id": "3194533b-28f7-453b-aff2-a86d103fdfa1",
   "metadata": {},
   "source": [
    "* spacy library"
   ]
  },
  {
   "cell_type": "code",
   "execution_count": 110,
   "id": "7cf460f0-4120-4bc5-a429-1c05714c07f1",
   "metadata": {},
   "outputs": [],
   "source": [
    "import spacy\n",
    "nlp = spacy.load('en_core_web_sm')\n",
    "\n",
    "words_spacy = \" \".join([w for w in words])\n",
    "doc_words = nlp(words_spacy)\n",
    "tokens_words = []\n",
    "for token in doc_words:\n",
    "    tokens_words.append(token)\n",
    "words_spacy_lem = [token.lemma_ for token in tokens_words]\n",
    "\n",
    "test_spacy = \" \".join([w for w in test])\n",
    "doc_test = nlp(test_spacy)\n",
    "tokens_test = []\n",
    "for token in doc_test:\n",
    "    tokens_test.append(token)\n",
    "test_spacy_lem = [token.lemma_ for token in tokens_test]"
   ]
  },
  {
   "cell_type": "markdown",
   "id": "db85d478-fdf7-4bbd-94d9-9dd00e3af2e1",
   "metadata": {},
   "source": [
    "## Stemming"
   ]
  },
  {
   "cell_type": "markdown",
   "id": "6be96930-939e-4953-9957-f1cd82c214e6",
   "metadata": {},
   "source": [
    "#### We will do the stemming for our examples and than compare all the results"
   ]
  },
  {
   "cell_type": "code",
   "execution_count": 101,
   "id": "6dd79270-3838-4084-8544-031276d56396",
   "metadata": {},
   "outputs": [],
   "source": [
    "from nltk.stem import PorterStemmer\n",
    "from nltk.tokenize import word_tokenize\n",
    "\n",
    "stemming = PorterStemmer()\n",
    "words_stem = [stemming.stem(w) for w in words]\n",
    "test_stem = [stemming.stem(w) for w in test]"
   ]
  },
  {
   "cell_type": "markdown",
   "id": "cc4bea32-573d-4880-aee1-381b45d90d7c",
   "metadata": {},
   "source": [
    "# Comparing the results"
   ]
  },
  {
   "cell_type": "markdown",
   "id": "5f42e50d-a002-4865-8a7d-d084188880bc",
   "metadata": {},
   "source": [
    "* for 'words' list:"
   ]
  },
  {
   "cell_type": "code",
   "execution_count": 124,
   "id": "26bfb37a-49b6-4926-af01-46af41702b13",
   "metadata": {},
   "outputs": [],
   "source": [
    "comparing_df_words = pd.DataFrame(words,columns=['original'])\n",
    "comparing_df_words['nltk_lemmatization'] = words_nltk_lem\n",
    "comparing_df_words['textblob_lemmatization'] = words_textblob_lem\n",
    "comparing_df_words['spacy_lemmatization'] = words_spacy_lem\n",
    "comparing_df_words['stemming'] = words_stem"
   ]
  },
  {
   "cell_type": "code",
   "execution_count": 127,
   "id": "cca33c61-3471-4941-b971-41387983abcf",
   "metadata": {},
   "outputs": [
    {
     "data": {
      "text/html": [
       "<div>\n",
       "<style scoped>\n",
       "    .dataframe tbody tr th:only-of-type {\n",
       "        vertical-align: middle;\n",
       "    }\n",
       "\n",
       "    .dataframe tbody tr th {\n",
       "        vertical-align: top;\n",
       "    }\n",
       "\n",
       "    .dataframe thead th {\n",
       "        text-align: right;\n",
       "    }\n",
       "</style>\n",
       "<table border=\"1\" class=\"dataframe\">\n",
       "  <thead>\n",
       "    <tr style=\"text-align: right;\">\n",
       "      <th></th>\n",
       "      <th>0</th>\n",
       "      <th>1</th>\n",
       "      <th>2</th>\n",
       "      <th>3</th>\n",
       "      <th>4</th>\n",
       "      <th>5</th>\n",
       "      <th>6</th>\n",
       "    </tr>\n",
       "  </thead>\n",
       "  <tbody>\n",
       "    <tr>\n",
       "      <th>original</th>\n",
       "      <td>run</td>\n",
       "      <td>running</td>\n",
       "      <td>ran</td>\n",
       "      <td>go</td>\n",
       "      <td>going</td>\n",
       "      <td>goes</td>\n",
       "      <td>went</td>\n",
       "    </tr>\n",
       "    <tr>\n",
       "      <th>nltk_lemmatization</th>\n",
       "      <td>run</td>\n",
       "      <td>running</td>\n",
       "      <td>ran</td>\n",
       "      <td>go</td>\n",
       "      <td>going</td>\n",
       "      <td>go</td>\n",
       "      <td>went</td>\n",
       "    </tr>\n",
       "    <tr>\n",
       "      <th>textblob_lemmatization</th>\n",
       "      <td>run</td>\n",
       "      <td>running</td>\n",
       "      <td>ran</td>\n",
       "      <td>go</td>\n",
       "      <td>going</td>\n",
       "      <td>go</td>\n",
       "      <td>went</td>\n",
       "    </tr>\n",
       "    <tr>\n",
       "      <th>spacy_lemmatization</th>\n",
       "      <td>run</td>\n",
       "      <td>running</td>\n",
       "      <td>run</td>\n",
       "      <td>go</td>\n",
       "      <td>go</td>\n",
       "      <td>go</td>\n",
       "      <td>go</td>\n",
       "    </tr>\n",
       "    <tr>\n",
       "      <th>stemming</th>\n",
       "      <td>run</td>\n",
       "      <td>run</td>\n",
       "      <td>ran</td>\n",
       "      <td>go</td>\n",
       "      <td>go</td>\n",
       "      <td>goe</td>\n",
       "      <td>went</td>\n",
       "    </tr>\n",
       "  </tbody>\n",
       "</table>\n",
       "</div>"
      ],
      "text/plain": [
       "                          0        1    2   3      4     5     6\n",
       "original                run  running  ran  go  going  goes  went\n",
       "nltk_lemmatization      run  running  ran  go  going    go  went\n",
       "textblob_lemmatization  run  running  ran  go  going    go  went\n",
       "spacy_lemmatization     run  running  run  go     go    go    go\n",
       "stemming                run      run  ran  go     go   goe  went"
      ]
     },
     "execution_count": 127,
     "metadata": {},
     "output_type": "execute_result"
    }
   ],
   "source": [
    "comparing_df_words.T"
   ]
  },
  {
   "cell_type": "markdown",
   "id": "8a9bd05a-dfe9-4cb0-8090-3eacfd0fea0a",
   "metadata": {},
   "source": [
    "# for test:  --------   Yogev, I've got a problem here -----"
   ]
  },
  {
   "cell_type": "code",
   "execution_count": 121,
   "id": "f51291be-90d2-4628-8602-de62a295cce5",
   "metadata": {},
   "outputs": [
    {
     "data": {
      "text/plain": [
       "(['customer', 'in', '’s', 'check', 'computer'],\n",
       " ['customers', 'in’s', 'check', 'computer', 'relationships'])"
      ]
     },
     "execution_count": 121,
     "metadata": {},
     "output_type": "execute_result"
    }
   ],
   "source": [
    "test_spacy_lem[55:60],test[55:60]"
   ]
  },
  {
   "cell_type": "code",
   "execution_count": 122,
   "id": "092e5156-8588-4b6c-a8e5-636693916f08",
   "metadata": {},
   "outputs": [],
   "source": [
    "comparing_df = pd.DataFrame(test,columns=['original'])\n",
    "comparing_df['nltk_lemmatization'] = test_nltk_lem\n",
    "comparing_df['textblob_lemmatization'] = test_textblob_lem\n",
    "comparing_df['spacy_lemmatization'] = test_spacy_lem\n",
    "comparing_df['stemming'] = test_stem"
   ]
  },
  {
   "cell_type": "code",
   "execution_count": 108,
   "id": "7d3866f8-eccb-4718-b9ac-0bd0bcb2f5a5",
   "metadata": {},
   "outputs": [
    {
     "data": {
      "text/html": [
       "<div>\n",
       "<style scoped>\n",
       "    .dataframe tbody tr th:only-of-type {\n",
       "        vertical-align: middle;\n",
       "    }\n",
       "\n",
       "    .dataframe tbody tr th {\n",
       "        vertical-align: top;\n",
       "    }\n",
       "\n",
       "    .dataframe thead th {\n",
       "        text-align: right;\n",
       "    }\n",
       "</style>\n",
       "<table border=\"1\" class=\"dataframe\">\n",
       "  <thead>\n",
       "    <tr style=\"text-align: right;\">\n",
       "      <th></th>\n",
       "      <th>original</th>\n",
       "      <th>nltk_lemmatization</th>\n",
       "      <th>textblob_lemmatization</th>\n",
       "    </tr>\n",
       "  </thead>\n",
       "  <tbody>\n",
       "    <tr>\n",
       "      <th>0</th>\n",
       "      <td>flexible</td>\n",
       "      <td>flexible</td>\n",
       "      <td>flexible</td>\n",
       "    </tr>\n",
       "    <tr>\n",
       "      <th>1</th>\n",
       "      <td>required</td>\n",
       "      <td>required</td>\n",
       "      <td>required</td>\n",
       "    </tr>\n",
       "    <tr>\n",
       "      <th>2</th>\n",
       "      <td>date</td>\n",
       "      <td>date</td>\n",
       "      <td>date</td>\n",
       "    </tr>\n",
       "    <tr>\n",
       "      <th>3</th>\n",
       "      <td>owned</td>\n",
       "      <td>owned</td>\n",
       "      <td>owned</td>\n",
       "    </tr>\n",
       "    <tr>\n",
       "      <th>4</th>\n",
       "      <td>strong</td>\n",
       "      <td>strong</td>\n",
       "      <td>strong</td>\n",
       "    </tr>\n",
       "    <tr>\n",
       "      <th>...</th>\n",
       "      <td>...</td>\n",
       "      <td>...</td>\n",
       "      <td>...</td>\n",
       "    </tr>\n",
       "    <tr>\n",
       "      <th>200</th>\n",
       "      <td>paid</td>\n",
       "      <td>paid</td>\n",
       "      <td>paid</td>\n",
       "    </tr>\n",
       "    <tr>\n",
       "      <th>201</th>\n",
       "      <td>contingent</td>\n",
       "      <td>contingent</td>\n",
       "      <td>contingent</td>\n",
       "    </tr>\n",
       "    <tr>\n",
       "      <th>202</th>\n",
       "      <td>lifeassist</td>\n",
       "      <td>lifeassist</td>\n",
       "      <td>lifeassist</td>\n",
       "    </tr>\n",
       "    <tr>\n",
       "      <th>203</th>\n",
       "      <td>individual</td>\n",
       "      <td>individual</td>\n",
       "      <td>individual</td>\n",
       "    </tr>\n",
       "    <tr>\n",
       "      <th>204</th>\n",
       "      <td>illness</td>\n",
       "      <td>illness</td>\n",
       "      <td>illness</td>\n",
       "    </tr>\n",
       "  </tbody>\n",
       "</table>\n",
       "<p>205 rows × 3 columns</p>\n",
       "</div>"
      ],
      "text/plain": [
       "       original nltk_lemmatization textblob_lemmatization\n",
       "0      flexible           flexible               flexible\n",
       "1      required           required               required\n",
       "2          date               date                   date\n",
       "3         owned              owned                  owned\n",
       "4        strong             strong                 strong\n",
       "..          ...                ...                    ...\n",
       "200        paid               paid                   paid\n",
       "201  contingent         contingent             contingent\n",
       "202  lifeassist         lifeassist             lifeassist\n",
       "203  individual         individual             individual\n",
       "204     illness            illness                illness\n",
       "\n",
       "[205 rows x 3 columns]"
      ]
     },
     "execution_count": 108,
     "metadata": {},
     "output_type": "execute_result"
    }
   ],
   "source": [
    "comparing_df"
   ]
  },
  {
   "cell_type": "code",
   "execution_count": null,
   "id": "588c2091-7fe0-493c-9639-7bde005ba56a",
   "metadata": {},
   "outputs": [],
   "source": []
  }
 ],
 "metadata": {
  "kernelspec": {
   "display_name": "Python 3 (ipykernel)",
   "language": "python",
   "name": "python3"
  },
  "language_info": {
   "codemirror_mode": {
    "name": "ipython",
    "version": 3
   },
   "file_extension": ".py",
   "mimetype": "text/x-python",
   "name": "python",
   "nbconvert_exporter": "python",
   "pygments_lexer": "ipython3",
   "version": "3.9.7"
  }
 },
 "nbformat": 4,
 "nbformat_minor": 5
}
