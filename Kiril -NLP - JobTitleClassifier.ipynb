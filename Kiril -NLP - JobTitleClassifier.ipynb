{
 "cells": [
  {
   "cell_type": "code",
   "execution_count": 1,
   "metadata": {},
   "outputs": [],
   "source": [
    "import pandas as pd\n",
    "import numpy as np\n",
    "\n",
    "import matplotlib.pyplot as plt\n",
    "import seaborn as sns\n",
    "%matplotlib inline"
   ]
  },
  {
   "cell_type": "code",
   "execution_count": 2,
   "metadata": {},
   "outputs": [
    {
     "data": {
      "text/plain": [
       "'C:\\\\Users\\\\User\\\\JobTitleClassifier'"
      ]
     },
     "execution_count": 2,
     "metadata": {},
     "output_type": "execute_result"
    }
   ],
   "source": [
    "import os\n",
    "os.getcwd()"
   ]
  },
  {
   "cell_type": "code",
   "execution_count": 3,
   "metadata": {},
   "outputs": [],
   "source": [
    "sns.set_style('white')\n",
    "pd.set_option('max_colwidth',150)"
   ]
  },
  {
   "cell_type": "code",
   "execution_count": 4,
   "metadata": {},
   "outputs": [],
   "source": [
    "df = pd.read_parquet('job_title_dataset.parquet')"
   ]
  },
  {
   "cell_type": "code",
   "execution_count": 5,
   "metadata": {},
   "outputs": [
    {
     "data": {
      "text/plain": [
       "(1100, 4)"
      ]
     },
     "execution_count": 5,
     "metadata": {},
     "output_type": "execute_result"
    }
   ],
   "source": [
    "df.shape"
   ]
  },
  {
   "cell_type": "code",
   "execution_count": 6,
   "metadata": {},
   "outputs": [
    {
     "data": {
      "text/html": [
       "<div>\n",
       "<style scoped>\n",
       "    .dataframe tbody tr th:only-of-type {\n",
       "        vertical-align: middle;\n",
       "    }\n",
       "\n",
       "    .dataframe tbody tr th {\n",
       "        vertical-align: top;\n",
       "    }\n",
       "\n",
       "    .dataframe thead th {\n",
       "        text-align: right;\n",
       "    }\n",
       "</style>\n",
       "<table border=\"1\" class=\"dataframe\">\n",
       "  <thead>\n",
       "    <tr style=\"text-align: right;\">\n",
       "      <th></th>\n",
       "      <th>JobId</th>\n",
       "      <th>JobTitleId</th>\n",
       "      <th>JobTitle</th>\n",
       "      <th>Description</th>\n",
       "    </tr>\n",
       "  </thead>\n",
       "  <tbody>\n",
       "    <tr>\n",
       "      <th>0</th>\n",
       "      <td>36126335</td>\n",
       "      <td>400878</td>\n",
       "      <td>Physical Therapist Assistant (PTA)</td>\n",
       "      <td>&lt;p&gt;Looking for part-time PT&amp;nbsp;for a quick growing and dynamic outpatient physical therapy clinic. Mentorship available and encouraged!&amp;nbsp; Ou...</td>\n",
       "    </tr>\n",
       "    <tr>\n",
       "      <th>1</th>\n",
       "      <td>39345757</td>\n",
       "      <td>400720</td>\n",
       "      <td>Automotive Service Manager</td>\n",
       "      <td>At David Maus Toyota, we strive to make every customer a customer for life.&lt;br/&gt; Happy employees make happy customers, and we reward individuals w...</td>\n",
       "    </tr>\n",
       "    <tr>\n",
       "      <th>2</th>\n",
       "      <td>84331465</td>\n",
       "      <td>407973</td>\n",
       "      <td>Wastewater Project Manager</td>\n",
       "      <td>&lt;p&gt;Position Summary:&lt;/p&gt;\\n&lt;p&gt;Project Management personnel are responsible for the overall safety, direction, completion, and financial outcome of ...</td>\n",
       "    </tr>\n",
       "    <tr>\n",
       "      <th>3</th>\n",
       "      <td>88112060</td>\n",
       "      <td>402654</td>\n",
       "      <td>Neonatal Nurse</td>\n",
       "      <td>&lt;p&gt;Envision Physician Services is seeking a Neonatal Nurse Practitioner to join our busy practice covering 7 Medical City facilities in the DFW ar...</td>\n",
       "    </tr>\n",
       "    <tr>\n",
       "      <th>4</th>\n",
       "      <td>88112450</td>\n",
       "      <td>402654</td>\n",
       "      <td>Neonatal Nurse</td>\n",
       "      <td>&lt;p&gt;Envision Physician Services is seeking a Neonatal Nurse Practitioner to join our busy practice covering 7 Medical City facilities in the DFW ar...</td>\n",
       "    </tr>\n",
       "    <tr>\n",
       "      <th>5</th>\n",
       "      <td>88112460</td>\n",
       "      <td>402654</td>\n",
       "      <td>Neonatal Nurse</td>\n",
       "      <td>&lt;p&gt;Envision Physician Services is seeking a Neonatal Nurse Practitioner to join our busy practice covering 7 Medical City facilities in the DFW ar...</td>\n",
       "    </tr>\n",
       "    <tr>\n",
       "      <th>6</th>\n",
       "      <td>88112463</td>\n",
       "      <td>402654</td>\n",
       "      <td>Neonatal Nurse</td>\n",
       "      <td>&lt;p&gt;$20,000 start date bonus!&lt;/p&gt;&lt;p&gt;Envision Physician Services is seeking a certified and experienced Neonatal Nurse Practitioner or Physician Ass...</td>\n",
       "    </tr>\n",
       "    <tr>\n",
       "      <th>7</th>\n",
       "      <td>88114236</td>\n",
       "      <td>402654</td>\n",
       "      <td>Neonatal Nurse</td>\n",
       "      <td>&lt;p&gt;Envision Physician Services is seeking a dynamic, board certified, Neonatal Nurse Practitioner Embassador to join our Women&amp;rsquo;s and Childre...</td>\n",
       "    </tr>\n",
       "    <tr>\n",
       "      <th>8</th>\n",
       "      <td>88114375</td>\n",
       "      <td>402654</td>\n",
       "      <td>Neonatal Nurse</td>\n",
       "      <td>&lt;p&gt;Envision Physician Services is seeking a Neonatal Nurse Practitioner to join our busy practice covering 7 Medical City facilities in the DFW ar...</td>\n",
       "    </tr>\n",
       "    <tr>\n",
       "      <th>9</th>\n",
       "      <td>105364828</td>\n",
       "      <td>402654</td>\n",
       "      <td>Neonatal Nurse</td>\n",
       "      <td>&lt;p&gt;Night Shift Neonatal Nurse Practitioner Opportunity in Level III NICU in Panama City! Envision Physician Services is seeking an experienced NNP...</td>\n",
       "    </tr>\n",
       "  </tbody>\n",
       "</table>\n",
       "</div>"
      ],
      "text/plain": [
       "       JobId  JobTitleId                            JobTitle  \\\n",
       "0   36126335      400878  Physical Therapist Assistant (PTA)   \n",
       "1   39345757      400720          Automotive Service Manager   \n",
       "2   84331465      407973          Wastewater Project Manager   \n",
       "3   88112060      402654                      Neonatal Nurse   \n",
       "4   88112450      402654                      Neonatal Nurse   \n",
       "5   88112460      402654                      Neonatal Nurse   \n",
       "6   88112463      402654                      Neonatal Nurse   \n",
       "7   88114236      402654                      Neonatal Nurse   \n",
       "8   88114375      402654                      Neonatal Nurse   \n",
       "9  105364828      402654                      Neonatal Nurse   \n",
       "\n",
       "                                                                                                                                             Description  \n",
       "0  <p>Looking for part-time PT&nbsp;for a quick growing and dynamic outpatient physical therapy clinic. Mentorship available and encouraged!&nbsp; Ou...  \n",
       "1  At David Maus Toyota, we strive to make every customer a customer for life.<br/> Happy employees make happy customers, and we reward individuals w...  \n",
       "2  <p>Position Summary:</p>\\n<p>Project Management personnel are responsible for the overall safety, direction, completion, and financial outcome of ...  \n",
       "3  <p>Envision Physician Services is seeking a Neonatal Nurse Practitioner to join our busy practice covering 7 Medical City facilities in the DFW ar...  \n",
       "4  <p>Envision Physician Services is seeking a Neonatal Nurse Practitioner to join our busy practice covering 7 Medical City facilities in the DFW ar...  \n",
       "5  <p>Envision Physician Services is seeking a Neonatal Nurse Practitioner to join our busy practice covering 7 Medical City facilities in the DFW ar...  \n",
       "6  <p>$20,000 start date bonus!</p><p>Envision Physician Services is seeking a certified and experienced Neonatal Nurse Practitioner or Physician Ass...  \n",
       "7  <p>Envision Physician Services is seeking a dynamic, board certified, Neonatal Nurse Practitioner Embassador to join our Women&rsquo;s and Childre...  \n",
       "8  <p>Envision Physician Services is seeking a Neonatal Nurse Practitioner to join our busy practice covering 7 Medical City facilities in the DFW ar...  \n",
       "9  <p>Night Shift Neonatal Nurse Practitioner Opportunity in Level III NICU in Panama City! Envision Physician Services is seeking an experienced NNP...  "
      ]
     },
     "execution_count": 6,
     "metadata": {},
     "output_type": "execute_result"
    }
   ],
   "source": [
    "df.head(10)"
   ]
  },
  {
   "cell_type": "code",
   "execution_count": 7,
   "metadata": {},
   "outputs": [
    {
     "name": "stdout",
     "output_type": "stream",
     "text": [
      "<class 'pandas.core.frame.DataFrame'>\n",
      "RangeIndex: 1100 entries, 0 to 1099\n",
      "Data columns (total 4 columns):\n",
      " #   Column       Non-Null Count  Dtype \n",
      "---  ------       --------------  ----- \n",
      " 0   JobId        1100 non-null   object\n",
      " 1   JobTitleId   1100 non-null   int32 \n",
      " 2   JobTitle     1100 non-null   object\n",
      " 3   Description  1099 non-null   object\n",
      "dtypes: int32(1), object(3)\n",
      "memory usage: 30.2+ KB\n"
     ]
    }
   ],
   "source": [
    "df.info()"
   ]
  },
  {
   "cell_type": "code",
   "execution_count": 8,
   "metadata": {},
   "outputs": [],
   "source": [
    "# remove nulls\n",
    "\n",
    "df.dropna(inplace=True)"
   ]
  },
  {
   "cell_type": "code",
   "execution_count": 9,
   "metadata": {},
   "outputs": [
    {
     "name": "stdout",
     "output_type": "stream",
     "text": [
      "<class 'pandas.core.frame.DataFrame'>\n",
      "Int64Index: 1099 entries, 0 to 1099\n",
      "Data columns (total 4 columns):\n",
      " #   Column       Non-Null Count  Dtype \n",
      "---  ------       --------------  ----- \n",
      " 0   JobId        1099 non-null   object\n",
      " 1   JobTitleId   1099 non-null   int32 \n",
      " 2   JobTitle     1099 non-null   object\n",
      " 3   Description  1099 non-null   object\n",
      "dtypes: int32(1), object(3)\n",
      "memory usage: 38.6+ KB\n"
     ]
    }
   ],
   "source": [
    "df.info()"
   ]
  },
  {
   "cell_type": "code",
   "execution_count": 10,
   "metadata": {},
   "outputs": [
    {
     "data": {
      "text/html": [
       "<div>\n",
       "<style scoped>\n",
       "    .dataframe tbody tr th:only-of-type {\n",
       "        vertical-align: middle;\n",
       "    }\n",
       "\n",
       "    .dataframe tbody tr th {\n",
       "        vertical-align: top;\n",
       "    }\n",
       "\n",
       "    .dataframe thead th {\n",
       "        text-align: right;\n",
       "    }\n",
       "</style>\n",
       "<table border=\"1\" class=\"dataframe\">\n",
       "  <thead>\n",
       "    <tr style=\"text-align: right;\">\n",
       "      <th></th>\n",
       "      <th>JobId</th>\n",
       "      <th>JobTitleId</th>\n",
       "      <th>JobTitle</th>\n",
       "      <th>Description</th>\n",
       "    </tr>\n",
       "  </thead>\n",
       "  <tbody>\n",
       "  </tbody>\n",
       "</table>\n",
       "</div>"
      ],
      "text/plain": [
       "Empty DataFrame\n",
       "Columns: [JobId, JobTitleId, JobTitle, Description]\n",
       "Index: []"
      ]
     },
     "execution_count": 10,
     "metadata": {},
     "output_type": "execute_result"
    }
   ],
   "source": [
    "df[(df.Description == 'None') | (df.Description == '')]"
   ]
  },
  {
   "cell_type": "code",
   "execution_count": 11,
   "metadata": {},
   "outputs": [],
   "source": [
    "# count unique values for each column\n",
    "\n",
    "def count_unique(data):\n",
    "    for col in data.columns:\n",
    "        print (f\" In the '{col}' column there are: {data[col].nunique()} unique values\")"
   ]
  },
  {
   "cell_type": "code",
   "execution_count": 12,
   "metadata": {},
   "outputs": [
    {
     "name": "stdout",
     "output_type": "stream",
     "text": [
      " In the 'JobId' column there are: 1099 unique values\n",
      " In the 'JobTitleId' column there are: 51 unique values\n",
      " In the 'JobTitle' column there are: 51 unique values\n",
      " In the 'Description' column there are: 1099 unique values\n"
     ]
    }
   ],
   "source": [
    "count_unique(df)"
   ]
  },
  {
   "cell_type": "code",
   "execution_count": 13,
   "metadata": {},
   "outputs": [
    {
     "data": {
      "text/html": [
       "<div>\n",
       "<style scoped>\n",
       "    .dataframe tbody tr th:only-of-type {\n",
       "        vertical-align: middle;\n",
       "    }\n",
       "\n",
       "    .dataframe tbody tr th {\n",
       "        vertical-align: top;\n",
       "    }\n",
       "\n",
       "    .dataframe thead th {\n",
       "        text-align: right;\n",
       "    }\n",
       "</style>\n",
       "<table border=\"1\" class=\"dataframe\">\n",
       "  <thead>\n",
       "    <tr style=\"text-align: right;\">\n",
       "      <th></th>\n",
       "      <th>JobId</th>\n",
       "      <th>JobTitleId</th>\n",
       "      <th>JobTitle</th>\n",
       "      <th>Description</th>\n",
       "    </tr>\n",
       "  </thead>\n",
       "  <tbody>\n",
       "  </tbody>\n",
       "</table>\n",
       "</div>"
      ],
      "text/plain": [
       "Empty DataFrame\n",
       "Columns: [JobId, JobTitleId, JobTitle, Description]\n",
       "Index: []"
      ]
     },
     "execution_count": 13,
     "metadata": {},
     "output_type": "execute_result"
    }
   ],
   "source": [
    "# duplicates \n",
    "\n",
    "df[df.duplicated()]"
   ]
  },
  {
   "cell_type": "code",
   "execution_count": 14,
   "metadata": {},
   "outputs": [
    {
     "data": {
      "text/plain": [
       "Software Engineer                          342\n",
       "Physical Therapist Assistant (PTA)         200\n",
       "Loan Officer                               116\n",
       "Content Strategist                          43\n",
       "Wholesaler                                  40\n",
       "Automotive Service Manager                  34\n",
       "Growth Strategy Manager                     30\n",
       "Neonatal Nurse                              26\n",
       "Medical Laboratory Technician (MLT)         25\n",
       "Human Resources Assistant                   24\n",
       "Pediatric Anesthesiologist                  21\n",
       "Data Science Director                       19\n",
       "Maintenance Planner                         16\n",
       "Tax Analyst                                 16\n",
       "Process Associate                           14\n",
       "Small Animal Veterinarian                   12\n",
       "Assistant Director of Nursing               11\n",
       "Neuropsychologist                           11\n",
       "Manufacturing and Engineering Recruiter      9\n",
       "Installation Specialist                      8\n",
       "Land Acquisition Manager                     7\n",
       "Regulatory Compliance Auditor                6\n",
       "Standards Engineer                           6\n",
       "Press Assistant                              6\n",
       "Freight Manager                              5\n",
       "Infertility Nurse                            5\n",
       "Wastewater Project Manager                   5\n",
       "Blender Operator                             4\n",
       "Business Planning Analyst                    4\n",
       "Sterile Processing Manager                   3\n",
       "Broadcast Engineer                           3\n",
       "Information Services Manager                 2\n",
       "Hyperbaric Medicine Physician                2\n",
       "Inventory Control  Manager                   2\n",
       "Proctor                                      2\n",
       "Records Manager                              2\n",
       "Internship Coordinator                       2\n",
       "Facility Planner                             2\n",
       "CMM Operator                                 2\n",
       "Prosecutor                                   1\n",
       "Preschool Director                           1\n",
       "Supervisor Security Guard                    1\n",
       "Law - Faculty Position                       1\n",
       "Product Design Engineer                      1\n",
       "Welding Supervisor                           1\n",
       "Marshal                                      1\n",
       "Enterprise Developer                         1\n",
       "Residence Life Director                      1\n",
       "eDiscovery Specialist                        1\n",
       "Online Marketing Program Manager             1\n",
       "Airport Director                             1\n",
       "Name: JobTitle, dtype: int64"
      ]
     },
     "execution_count": 14,
     "metadata": {},
     "output_type": "execute_result"
    }
   ],
   "source": [
    "df.JobTitle.value_counts()"
   ]
  },
  {
   "cell_type": "markdown",
   "metadata": {
    "tags": []
   },
   "source": [
    "## Cleaning The Data\n",
    "\n",
    "**Common data cleaning steps on all text:**\n",
    "\n",
    "* Make text all lower case\n",
    "* Remove punctuation\n",
    "* Remove HTML tags\n",
    "* Remove numerical values\n",
    "* Remove common non-sensical text (/n)\n",
    "* Tokenize text\n",
    "* Remove stop words\n",
    "\n",
    "\n",
    "**More data cleaning steps after tokenization:**\n",
    "\n",
    "* Stemming / lemmatization\n",
    "* Create bi-grams or tri-grams\n",
    "* Deal with typos"
   ]
  },
  {
   "cell_type": "code",
   "execution_count": 15,
   "metadata": {},
   "outputs": [],
   "source": [
    "# pip install nltk"
   ]
  },
  {
   "cell_type": "code",
   "execution_count": 16,
   "metadata": {},
   "outputs": [],
   "source": [
    "# Apply a first round of text cleaning techniques\n",
    "\n",
    "import re\n",
    "import string\n",
    "from nltk.corpus import stopwords \n",
    "from bs4 import BeautifulSoup\n",
    "\n",
    "def text_process(text):\n",
    "    \"\"\"\n",
    "    1. make text lowercase\n",
    "    2. remove html tags\n",
    "    3. remove punctuation \n",
    "    4. remove words containing numbers\n",
    "    5. return set of clean text words\n",
    "    \"\"\"\n",
    "    \n",
    "    text = text.lower()\n",
    "    text = re.sub('<.*?>', '', text)\n",
    "    text = BeautifulSoup(text).get_text()\n",
    "    text = re.sub('[%s]' % re.escape(string.punctuation), '', text)\n",
    "    text = re.sub('\\w*\\d\\w*', '', text)\n",
    "    text = [word for word in text.split() if word.lower() not in stopwords.words('english')] \n",
    "    text = list(set(text))\n",
    "    \n",
    "    return text\n",
    "\n",
    "round1 = lambda x: text_process(x)"
   ]
  },
  {
   "cell_type": "code",
   "execution_count": 17,
   "metadata": {},
   "outputs": [
    {
     "data": {
      "text/plain": [
       "'!\"#$%&\\'()*+,-./:;<=>?@[\\\\]^_`{|}~'"
      ]
     },
     "execution_count": 17,
     "metadata": {},
     "output_type": "execute_result"
    }
   ],
   "source": [
    "string.punctuation"
   ]
  },
  {
   "cell_type": "code",
   "execution_count": 18,
   "metadata": {},
   "outputs": [
    {
     "name": "stderr",
     "output_type": "stream",
     "text": [
      "[nltk_data] Downloading package stopwords to\n",
      "[nltk_data]     C:\\Users\\User\\AppData\\Roaming\\nltk_data...\n",
      "[nltk_data]   Package stopwords is already up-to-date!\n",
      "[nltk_data] Downloading package wordnet to\n",
      "[nltk_data]     C:\\Users\\User\\AppData\\Roaming\\nltk_data...\n",
      "[nltk_data]   Package wordnet is already up-to-date!\n"
     ]
    },
    {
     "data": {
      "text/plain": [
       "True"
      ]
     },
     "execution_count": 18,
     "metadata": {},
     "output_type": "execute_result"
    }
   ],
   "source": [
    "import nltk\n",
    "nltk.download('stopwords')\n",
    "nltk.download('wordnet')"
   ]
  },
  {
   "cell_type": "code",
   "execution_count": 20,
   "metadata": {},
   "outputs": [
    {
     "data": {
      "text/plain": [
       "['i', 'me', 'my', 'myself', 'we', 'our', 'ours', 'ourselves', 'you', \"you're\"]"
      ]
     },
     "execution_count": 20,
     "metadata": {},
     "output_type": "execute_result"
    }
   ],
   "source": [
    "# from nltk.corpus import stopwords\n",
    "stopwords.words('english')[0:10] # Show some stop words"
   ]
  },
  {
   "cell_type": "code",
   "execution_count": 21,
   "metadata": {},
   "outputs": [
    {
     "name": "stdout",
     "output_type": "stream",
     "text": [
      "\n",
      " looking for parttime pt for a quick growing and dynamic outpatient physical therapy clinic mentorship available and encouraged  our clinic focuses on manual therapy and exercise in a well equipped clinic with the latest equipment and modalities we take an active approach to rehabilitation and always take the time to care our clinic offers personalized physical therapy in a warm and caring environment every day is a positive day at andrew pt very manageable daily case load of 810 patients per day so you can spend the quality time with patients that makes work and life enjoyable  on a separate note we also have all the necessary equipment and private treatment room for a womens health program if you have those clinical skills or interest our clinic is cutting edge and is even solar powered large vaulted ceiling workout area and 9 personalized treatment rooms with the clinic spanning 4000 square feet total our clinic is located in mcminnville or which is perfectly situated for the recreational enthusiast one can be at the beach in the mountains hiking or cycling within minutes mentorship is available and encouraged as we believe personal growth is one of the key ingredients to keep us happy as clinicians personal growth through continued learning and education helps keep us motivated and also helps us to better serve our patients new graduates are welcome as well as the therapist with experience  for more information please contact via email johnandrewptgmailcom or fax your resume to to 503 4351930 you may also visit our website at wwwandrewptcom 72k salary per year to start for dpt depending on experience benefits for fulltime work competitive salary 401k w company matching  profit sharing employee full medical and dental coverage 4 wks paid vacation including 6 paid holidays over 5 weeks paid time off per year yearly bonus based on performanceprofits 6 major holidays paid per year or pt yearly licensing fee paid 1200 yearly continuing education fund more benefits as well \n",
      " <class 'str'>\n",
      "\n",
      " looking for parttime pt for a quick growing and dynamic outpatient physical therapy clinic mentorship available and encouraged  our clinic focuses on manual therapy and exercise in a well equipped clinic with the latest equipment and modalities we take an active approach to rehabilitation and always take the time to care our clinic offers personalized physical therapy in a warm and caring environment every day is a positive day at andrew pt very manageable daily case load of  patients per day so you can spend the quality time with patients that makes work and life enjoyable  on a separate note we also have all the necessary equipment and private treatment room for a womens health program if you have those clinical skills or interest our clinic is cutting edge and is even solar powered large vaulted ceiling workout area and  personalized treatment rooms with the clinic spanning  square feet total our clinic is located in mcminnville or which is perfectly situated for the recreational enthusiast one can be at the beach in the mountains hiking or cycling within minutes mentorship is available and encouraged as we believe personal growth is one of the key ingredients to keep us happy as clinicians personal growth through continued learning and education helps keep us motivated and also helps us to better serve our patients new graduates are welcome as well as the therapist with experience  for more information please contact via email johnandrewptgmailcom or fax your resume to to   you may also visit our website at wwwandrewptcom  salary per year to start for dpt depending on experience benefits for fulltime work competitive salary  w company matching  profit sharing employee full medical and dental coverage  wks paid vacation including  paid holidays over  weeks paid time off per year yearly bonus based on performanceprofits  major holidays paid per year or pt yearly licensing fee paid  yearly continuing education fund more benefits as well \n",
      " <class 'str'>\n"
     ]
    }
   ],
   "source": [
    "## example for me what does every row of code in the function does\n",
    "\n",
    "df1 = pd.read_parquet('job_title_dataset.parquet')\n",
    "text = df1['Description'][0]\n",
    "text = text.lower()\n",
    "text = re.sub('<.*?>', '', text)\n",
    "\n",
    "text = BeautifulSoup(text).get_text()\n",
    "\n",
    "text = re.sub('[%s]' % re.escape(string.punctuation), '', text)\n",
    "print(\"\\n\",text,\"\\n\",type(text))\n",
    "text = re.sub('\\w*\\d\\w*', '', text)\n",
    "print(\"\\n\",text,\"\\n\",type(text))\n",
    "text = [word for word in text.split() if word.lower() not in stopwords.words('english')]\n",
    "\n",
    "text = list(set(text))\n"
   ]
  },
  {
   "cell_type": "code",
   "execution_count": 22,
   "metadata": {},
   "outputs": [
    {
     "data": {
      "text/html": [
       "<div>\n",
       "<style scoped>\n",
       "    .dataframe tbody tr th:only-of-type {\n",
       "        vertical-align: middle;\n",
       "    }\n",
       "\n",
       "    .dataframe tbody tr th {\n",
       "        vertical-align: top;\n",
       "    }\n",
       "\n",
       "    .dataframe thead th {\n",
       "        text-align: right;\n",
       "    }\n",
       "</style>\n",
       "<table border=\"1\" class=\"dataframe\">\n",
       "  <thead>\n",
       "    <tr style=\"text-align: right;\">\n",
       "      <th></th>\n",
       "      <th>JobId</th>\n",
       "      <th>JobTitleId</th>\n",
       "      <th>JobTitle</th>\n",
       "      <th>Description</th>\n",
       "      <th>Desc</th>\n",
       "    </tr>\n",
       "  </thead>\n",
       "  <tbody>\n",
       "    <tr>\n",
       "      <th>0</th>\n",
       "      <td>36126335</td>\n",
       "      <td>400878</td>\n",
       "      <td>Physical Therapist Assistant (PTA)</td>\n",
       "      <td>&lt;p&gt;Looking for part-time PT&amp;nbsp;for a quick growing and dynamic outpatient physical therapy clinic. Mentorship available and encouraged!&amp;nbsp; Ou...</td>\n",
       "      <td>[program, warm, start, learning, depending, skills, powered, spend, motivated, day, quick, yearly, room, looking, including, solar, profit, fax, b...</td>\n",
       "    </tr>\n",
       "    <tr>\n",
       "      <th>1</th>\n",
       "      <td>39345757</td>\n",
       "      <td>400720</td>\n",
       "      <td>Automotive Service Manager</td>\n",
       "      <td>At David Maus Toyota, we strive to make every customer a customer for life.&lt;br/&gt; Happy employees make happy customers, and we reward individuals w...</td>\n",
       "      <td>[skills, ensure, check, david, willing, motivated, years, get, vision, community, experience, training, driving, lunchesresponsibilities, take, de...</td>\n",
       "    </tr>\n",
       "    <tr>\n",
       "      <th>2</th>\n",
       "      <td>84331465</td>\n",
       "      <td>407973</td>\n",
       "      <td>Wastewater Project Manager</td>\n",
       "      <td>&lt;p&gt;Position Summary:&lt;/p&gt;\\n&lt;p&gt;Project Management personnel are responsible for the overall safety, direction, completion, and financial outcome of ...</td>\n",
       "      <td>[identifying, general, superior, duties, skills, levels, ensure, forecast, religion, schedule, people, herein, bachelor, willing, webber, location...</td>\n",
       "    </tr>\n",
       "    <tr>\n",
       "      <th>3</th>\n",
       "      <td>88112060</td>\n",
       "      <td>402654</td>\n",
       "      <td>Neonatal Nurse</td>\n",
       "      <td>&lt;p&gt;Envision Physician Services is seeking a Neonatal Nurse Practitioner to join our busy practice covering 7 Medical City facilities in the DFW ar...</td>\n",
       "      <td>[implementing, envision, prides, balance, partner, spend, eight, metroplex, years, day, local, operational, dallasfort, malpractice, education, in...</td>\n",
       "    </tr>\n",
       "    <tr>\n",
       "      <th>4</th>\n",
       "      <td>88112450</td>\n",
       "      <td>402654</td>\n",
       "      <td>Neonatal Nurse</td>\n",
       "      <td>&lt;p&gt;Envision Physician Services is seeking a Neonatal Nurse Practitioner to join our busy practice covering 7 Medical City facilities in the DFW ar...</td>\n",
       "      <td>[implementing, envision, prides, balance, partner, ill, spend, metroplex, years, infants, day, local, operational, dallasfort, malpractice, educat...</td>\n",
       "    </tr>\n",
       "  </tbody>\n",
       "</table>\n",
       "</div>"
      ],
      "text/plain": [
       "      JobId  JobTitleId                            JobTitle  \\\n",
       "0  36126335      400878  Physical Therapist Assistant (PTA)   \n",
       "1  39345757      400720          Automotive Service Manager   \n",
       "2  84331465      407973          Wastewater Project Manager   \n",
       "3  88112060      402654                      Neonatal Nurse   \n",
       "4  88112450      402654                      Neonatal Nurse   \n",
       "\n",
       "                                                                                                                                             Description  \\\n",
       "0  <p>Looking for part-time PT&nbsp;for a quick growing and dynamic outpatient physical therapy clinic. Mentorship available and encouraged!&nbsp; Ou...   \n",
       "1  At David Maus Toyota, we strive to make every customer a customer for life.<br/> Happy employees make happy customers, and we reward individuals w...   \n",
       "2  <p>Position Summary:</p>\\n<p>Project Management personnel are responsible for the overall safety, direction, completion, and financial outcome of ...   \n",
       "3  <p>Envision Physician Services is seeking a Neonatal Nurse Practitioner to join our busy practice covering 7 Medical City facilities in the DFW ar...   \n",
       "4  <p>Envision Physician Services is seeking a Neonatal Nurse Practitioner to join our busy practice covering 7 Medical City facilities in the DFW ar...   \n",
       "\n",
       "                                                                                                                                                    Desc  \n",
       "0  [program, warm, start, learning, depending, skills, powered, spend, motivated, day, quick, yearly, room, looking, including, solar, profit, fax, b...  \n",
       "1  [skills, ensure, check, david, willing, motivated, years, get, vision, community, experience, training, driving, lunchesresponsibilities, take, de...  \n",
       "2  [identifying, general, superior, duties, skills, levels, ensure, forecast, religion, schedule, people, herein, bachelor, willing, webber, location...  \n",
       "3  [implementing, envision, prides, balance, partner, spend, eight, metroplex, years, day, local, operational, dallasfort, malpractice, education, in...  \n",
       "4  [implementing, envision, prides, balance, partner, ill, spend, metroplex, years, infants, day, local, operational, dallasfort, malpractice, educat...  "
      ]
     },
     "execution_count": 22,
     "metadata": {},
     "output_type": "execute_result"
    }
   ],
   "source": [
    "# Let's take a look at the updated text\n",
    "df['Desc'] = pd.DataFrame(df.Description.apply(round1))\n",
    "df.head()"
   ]
  },
  {
   "cell_type": "code",
   "execution_count": 26,
   "metadata": {},
   "outputs": [
    {
     "data": {
      "text/plain": [
       "'<div dir=\"ltr\"> </div><br><br><div dir=\"ltr\"><br><div dir=\"ltr\"><br><div><br><div><br><div><br><p><span style=\"font-size:12pt\"><span style=\"background:white\"><span style=\"vertical-align:baseline\"><span style=\"font-family:Calibri,sans-serif\"><b><span style=\"border:none windowtext 1.0pt; font-size:11.0pt; padding:0in\"><span style=\"font-family:&amp;quot;Times New Roman&amp;quot;,serif\"><span style=\"color:black\">Software Engineer AdTech</span></span></span></b></span></span></span></span></p><br><br><p> </p><br'"
      ]
     },
     "execution_count": 26,
     "metadata": {},
     "output_type": "execute_result"
    }
   ],
   "source": [
    "# before cleaning\n",
    "\n",
    "df.Description[1080]"
   ]
  },
  {
   "cell_type": "code",
   "execution_count": 23,
   "metadata": {},
   "outputs": [
    {
     "name": "stdout",
     "output_type": "stream",
     "text": [
      "raw dataset: 2122\n"
     ]
    },
    {
     "data": {
      "text/plain": [
       "\"<p>Looking for part-time PT&nbsp;for a quick growing and dynamic outpatient physical therapy clinic. Mentorship available and encouraged!&nbsp; Our clinic focuses on manual therapy and exercise in a well equipped clinic with the latest equipment and modalities. We take an active approach to rehabilitation and always take the time to care. Our clinic offers personalized physical therapy in a warm and caring environment. Every day is a positive day at Andrew PT! Very manageable daily case load of 8-10 patients per day so you can spend the quality time with patients that makes work and life enjoyable!&nbsp; On a separate note, we&nbsp;also have all the necessary equipment and private treatment room for a women's health&nbsp;program if you have those clinical skills or interest.</p> <p>Our clinic is cutting edge and is even solar powered. Large vaulted ceiling workout area and 9 personalized treatment rooms with the clinic spanning 4,000 square feet total. Our clinic is located in McMinnville, OR which is perfectly situated for the recreational enthusiast. One can be at the beach, in the mountains hiking or cycling within minutes. Mentorship is available and encouraged as we believe personal growth is one of the key ingredients to keep us happy as clinicians. Personal growth through continued learning and education helps keep us motivated and also helps us to better serve our patients. New graduates are welcome as well as the therapist with experience.&nbsp; For more information please contact via e-mail&nbsp;(john.andrewpt@gmail.com)&nbsp;or fax your resume to to (503) 435-1930. You may also visit our website at www.AndrewPT.com. 72K+ salary per year to start for DPT depending on experience. Benefits for full-time work: Competitive salary, 401K w/ company matching &amp; Profit Sharing, Employee full medical and dental coverage,&nbsp;4 wks paid vacation (including 6 paid Holidays over 5 weeks paid time off per year), yearly bonus based on performance/profits, 6 major Holidays paid per year, OR PT yearly licensing fee paid, $1,200 yearly continuing education fund, more benefits as well.</p>\""
      ]
     },
     "execution_count": 23,
     "metadata": {},
     "output_type": "execute_result"
    }
   ],
   "source": [
    "print('raw dataset: {}'.format(len(df.Description.iloc[0])))\n",
    "df.Description.iloc[0]"
   ]
  },
  {
   "cell_type": "code",
   "execution_count": 24,
   "metadata": {},
   "outputs": [
    {
     "data": {
      "text/plain": [
       "156"
      ]
     },
     "execution_count": 24,
     "metadata": {},
     "output_type": "execute_result"
    }
   ],
   "source": [
    "len(df.Desc.iloc[0])"
   ]
  },
  {
   "cell_type": "code",
   "execution_count": 25,
   "metadata": {},
   "outputs": [
    {
     "data": {
      "text/plain": [
       "list"
      ]
     },
     "execution_count": 25,
     "metadata": {},
     "output_type": "execute_result"
    }
   ],
   "source": [
    "type(df['Desc'][0])"
   ]
  },
  {
   "cell_type": "code",
   "execution_count": 27,
   "metadata": {
    "scrolled": true
   },
   "outputs": [
    {
     "data": {
      "text/plain": [
       "['software', 'engineer', 'br', 'adtech']"
      ]
     },
     "execution_count": 27,
     "metadata": {},
     "output_type": "execute_result"
    }
   ],
   "source": [
    "# after cleaning\n",
    "\n",
    "df.Desc[1080]"
   ]
  },
  {
   "cell_type": "code",
   "execution_count": 65,
   "metadata": {},
   "outputs": [],
   "source": [
    "df['DescLength'] = df.Desc.apply(len)\n",
    "df['DescriptionLength'] = df.Description.apply(len)"
   ]
  },
  {
   "cell_type": "code",
   "execution_count": 28,
   "metadata": {},
   "outputs": [],
   "source": [
    "df['DescriptionLength'] = df['Description'].str.len()\n",
    "df['DescLength'] = df['Desc'].str.len()"
   ]
  },
  {
   "cell_type": "code",
   "execution_count": 29,
   "metadata": {},
   "outputs": [
    {
     "data": {
      "image/png": "[encoded data removed]",
      "text/plain": [
       "<Figure size 1440x432 with 2 Axes>"
      ]
     },
     "metadata": {},
     "output_type": "display_data"
    }
   ],
   "source": [
    "fig, axes = plt.subplots(1,2, figsize=(20,6))\n",
    "\n",
    "# both subplots title\n",
    "fig.suptitle('Description Length')\n",
    "\n",
    "# plot1 object\n",
    "sns.histplot(df['DescriptionLength'],ax=axes[0])\n",
    "axes[0].set_title('Description Length histogram (before cleaning)')\n",
    "\n",
    "# plot2 object\n",
    "sns.histplot(df['DescLength'],ax=axes[1])\n",
    "axes[1].set_title('Description Length histogram (after cleaning)')\n",
    "\n",
    "# show plot\n",
    "plt.show()"
   ]
  },
  {
   "cell_type": "code",
   "execution_count": 30,
   "metadata": {
    "scrolled": true
   },
   "outputs": [
    {
     "data": {
      "text/html": [
       "<div>\n",
       "<style scoped>\n",
       "    .dataframe tbody tr th:only-of-type {\n",
       "        vertical-align: middle;\n",
       "    }\n",
       "\n",
       "    .dataframe tbody tr th {\n",
       "        vertical-align: top;\n",
       "    }\n",
       "\n",
       "    .dataframe thead th {\n",
       "        text-align: right;\n",
       "    }\n",
       "</style>\n",
       "<table border=\"1\" class=\"dataframe\">\n",
       "  <thead>\n",
       "    <tr style=\"text-align: right;\">\n",
       "      <th></th>\n",
       "      <th>JobId</th>\n",
       "      <th>JobTitleId</th>\n",
       "      <th>JobTitle</th>\n",
       "      <th>Description</th>\n",
       "      <th>Desc</th>\n",
       "      <th>DescriptionLength</th>\n",
       "      <th>DescLength</th>\n",
       "    </tr>\n",
       "  </thead>\n",
       "  <tbody>\n",
       "    <tr>\n",
       "      <th>275</th>\n",
       "      <td>197842631</td>\n",
       "      <td>100462</td>\n",
       "      <td>Medical Laboratory Technician (MLT)</td>\n",
       "      <td>&lt;p style=\"margin: 0px;\"&gt;x&lt;/p&gt;&lt;br&gt;&lt;p style=\"margin: 0px;\"&gt;x&lt;/p&gt;&lt;br&gt;&lt;p style=\"margin: 0px;\"&gt;x&lt;/p&gt;</td>\n",
       "      <td>[xxx]</td>\n",
       "      <td>95</td>\n",
       "      <td>1</td>\n",
       "    </tr>\n",
       "    <tr>\n",
       "      <th>1080</th>\n",
       "      <td>496707274</td>\n",
       "      <td>21</td>\n",
       "      <td>Software Engineer</td>\n",
       "      <td>&lt;div dir=\"ltr\"&gt; &lt;/div&gt;&lt;br&gt;&lt;br&gt;&lt;div dir=\"ltr\"&gt;&lt;br&gt;&lt;div dir=\"ltr\"&gt;&lt;br&gt;&lt;div&gt;&lt;br&gt;&lt;div&gt;&lt;br&gt;&lt;div&gt;&lt;br&gt;&lt;p&gt;&lt;span style=\"font-size:12pt\"&gt;&lt;span style=\"backgr...</td>\n",
       "      <td>[software, engineer, br, adtech]</td>\n",
       "      <td>512</td>\n",
       "      <td>4</td>\n",
       "    </tr>\n",
       "    <tr>\n",
       "      <th>984</th>\n",
       "      <td>485094592</td>\n",
       "      <td>21</td>\n",
       "      <td>Software Engineer</td>\n",
       "      <td>&lt;html&gt;&lt;body&gt;&lt;p&gt;&lt;span style=\"font-family: arial, helvetica, sans-serif; font-size: 11pt;\"&gt;&lt;b&gt;&lt;span style=\"text-decoration: none;\"&gt;TITLE&lt;/span&gt;&lt;/b&gt;&lt;...</td>\n",
       "      <td>[location, st, remote, engineer, software, title, span]</td>\n",
       "      <td>512</td>\n",
       "      <td>7</td>\n",
       "    </tr>\n",
       "    <tr>\n",
       "      <th>999</th>\n",
       "      <td>488111533</td>\n",
       "      <td>404170</td>\n",
       "      <td>Proctor</td>\n",
       "      <td>&lt;div&gt;&lt;div data-bind=\"css: $component.getBlockCellCss($data, 0)\" class=\"block__cell block__field--wide-rich-text\" style=\"font-family: &amp;quot;Open Sa...</td>\n",
       "      <td>[datadisplaytype, dataname, id, div, container, class, inputtex, databindattr]</td>\n",
       "      <td>512</td>\n",
       "      <td>8</td>\n",
       "    </tr>\n",
       "    <tr>\n",
       "      <th>1081</th>\n",
       "      <td>496707802</td>\n",
       "      <td>21</td>\n",
       "      <td>Software Engineer</td>\n",
       "      <td>&lt;p&gt;&lt;span style=\"font-size:11pt\"&gt;&lt;span style=\"font-family:Calibri,sans-serif\"&gt;&lt;b&gt;&lt;span style=\"font-family:&amp;amp;quot;Cambria&amp;amp;quot;,&amp;amp;quot;ser...</td>\n",
       "      <td>[type, nnjob, employment, engineer, stylefontfamilycalibrisans, software, title, contract]</td>\n",
       "      <td>512</td>\n",
       "      <td>8</td>\n",
       "    </tr>\n",
       "    <tr>\n",
       "      <th>1013</th>\n",
       "      <td>489720793</td>\n",
       "      <td>400878</td>\n",
       "      <td>Physical Therapist Assistant (PTA)</td>\n",
       "      <td>&lt;p&gt;&lt;i style=\"color: black; font-family: Cambria, serif; font-size: 10pt;\"&gt;We’re looking for an exceptional &lt;/i&gt;&lt;b style=\"color: black; font-family...</td>\n",
       "      <td>[assistant, exceptional, fulltime, physical, p, we’re, looking, school, therapist]</td>\n",
       "      <td>512</td>\n",
       "      <td>9</td>\n",
       "    </tr>\n",
       "    <tr>\n",
       "      <th>909</th>\n",
       "      <td>468135529</td>\n",
       "      <td>402839</td>\n",
       "      <td>Press Assistant</td>\n",
       "      <td>&lt;html&gt;&lt;body&gt;&lt;div name=\"description\" class=\" row\" aria-label=\"Description\"&gt;\\n&lt;div class=\"row formRowStandard \" id=\"jobDesc-row\"&gt;\\n&lt;div class=\"formL...</td>\n",
       "      <td>[floor, supervisor, assistantdescription, press, functions, supervision, informal, direct, operator, assistant]</td>\n",
       "      <td>512</td>\n",
       "      <td>10</td>\n",
       "    </tr>\n",
       "    <tr>\n",
       "      <th>1028</th>\n",
       "      <td>490692864</td>\n",
       "      <td>21</td>\n",
       "      <td>Software Engineer</td>\n",
       "      <td>&lt;p class=\"MsoNormal\"&gt;&lt;strong style=\"mso-bidi-font-weight: normal;\"&gt;&lt;span style=\"font-size: 10.0pt; line-height: 115%; font-family: 'Helv',sans-ser...</td>\n",
       "      <td>[job, advanced, requisition, engineer, hel, practice, software, fontfamily, stylefontsize, span, solutions]</td>\n",
       "      <td>512</td>\n",
       "      <td>11</td>\n",
       "    </tr>\n",
       "    <tr>\n",
       "      <th>1065</th>\n",
       "      <td>493983689</td>\n",
       "      <td>400878</td>\n",
       "      <td>Physical Therapist Assistant (PTA)</td>\n",
       "      <td>&lt;p&gt;&lt;i style=\"font-size: 10pt; font-family: Cambria, serif; color: rgb(0, 0, 0);\"&gt;We’re looking for an exceptional &lt;/i&gt;&lt;b style=\"font-size: 10pt; f...</td>\n",
       "      <td>[position, assistant, throu, exceptional, fulltime, physical, august, gladstone, we’re, looking, school, therapist]</td>\n",
       "      <td>512</td>\n",
       "      <td>12</td>\n",
       "    </tr>\n",
       "    <tr>\n",
       "      <th>1006</th>\n",
       "      <td>489308215</td>\n",
       "      <td>400832</td>\n",
       "      <td>Loan Officer</td>\n",
       "      <td>&lt;p class=\"MsoNoSpacing\"&gt;&lt;strong&gt;&lt;span style=\"font-size:10.0pt\"&gt;&lt;span style=\"font-family:&amp;quot;Verdana&amp;quot;,sans-serif\"&gt;Business Program Manager (...</td>\n",
       "      <td>[program, manager, needed, industry, remote, client, mortgage, business, opportunity, yoh’s, big, contract]</td>\n",
       "      <td>512</td>\n",
       "      <td>12</td>\n",
       "    </tr>\n",
       "  </tbody>\n",
       "</table>\n",
       "</div>"
      ],
      "text/plain": [
       "          JobId  JobTitleId                             JobTitle  \\\n",
       "275   197842631      100462  Medical Laboratory Technician (MLT)   \n",
       "1080  496707274          21                    Software Engineer   \n",
       "984   485094592          21                    Software Engineer   \n",
       "999   488111533      404170                              Proctor   \n",
       "1081  496707802          21                    Software Engineer   \n",
       "1013  489720793      400878   Physical Therapist Assistant (PTA)   \n",
       "909   468135529      402839                      Press Assistant   \n",
       "1028  490692864          21                    Software Engineer   \n",
       "1065  493983689      400878   Physical Therapist Assistant (PTA)   \n",
       "1006  489308215      400832                         Loan Officer   \n",
       "\n",
       "                                                                                                                                                Description  \\\n",
       "275                                                         <p style=\"margin: 0px;\">x</p><br><p style=\"margin: 0px;\">x</p><br><p style=\"margin: 0px;\">x</p>   \n",
       "1080  <div dir=\"ltr\"> </div><br><br><div dir=\"ltr\"><br><div dir=\"ltr\"><br><div><br><div><br><div><br><p><span style=\"font-size:12pt\"><span style=\"backgr...   \n",
       "984   <html><body><p><span style=\"font-family: arial, helvetica, sans-serif; font-size: 11pt;\"><b><span style=\"text-decoration: none;\">TITLE</span></b><...   \n",
       "999   <div><div data-bind=\"css: $component.getBlockCellCss($data, 0)\" class=\"block__cell block__field--wide-rich-text\" style=\"font-family: &quot;Open Sa...   \n",
       "1081  <p><span style=\"font-size:11pt\"><span style=\"font-family:Calibri,sans-serif\"><b><span style=\"font-family:&amp;quot;Cambria&amp;quot;,&amp;quot;ser...   \n",
       "1013  <p><i style=\"color: black; font-family: Cambria, serif; font-size: 10pt;\">We’re looking for an exceptional </i><b style=\"color: black; font-family...   \n",
       "909   <html><body><div name=\"description\" class=\" row\" aria-label=\"Description\">\\n<div class=\"row formRowStandard \" id=\"jobDesc-row\">\\n<div class=\"formL...   \n",
       "1028  <p class=\"MsoNormal\"><strong style=\"mso-bidi-font-weight: normal;\"><span style=\"font-size: 10.0pt; line-height: 115%; font-family: 'Helv',sans-ser...   \n",
       "1065  <p><i style=\"font-size: 10pt; font-family: Cambria, serif; color: rgb(0, 0, 0);\">We’re looking for an exceptional </i><b style=\"font-size: 10pt; f...   \n",
       "1006  <p class=\"MsoNoSpacing\"><strong><span style=\"font-size:10.0pt\"><span style=\"font-family:&quot;Verdana&quot;,sans-serif\">Business Program Manager (...   \n",
       "\n",
       "                                                                                                                     Desc  \\\n",
       "275                                                                                                                 [xxx]   \n",
       "1080                                                                                     [software, engineer, br, adtech]   \n",
       "984                                                               [location, st, remote, engineer, software, title, span]   \n",
       "999                                        [datadisplaytype, dataname, id, div, container, class, inputtex, databindattr]   \n",
       "1081                           [type, nnjob, employment, engineer, stylefontfamilycalibrisans, software, title, contract]   \n",
       "1013                                   [assistant, exceptional, fulltime, physical, p, we’re, looking, school, therapist]   \n",
       "909       [floor, supervisor, assistantdescription, press, functions, supervision, informal, direct, operator, assistant]   \n",
       "1028          [job, advanced, requisition, engineer, hel, practice, software, fontfamily, stylefontsize, span, solutions]   \n",
       "1065  [position, assistant, throu, exceptional, fulltime, physical, august, gladstone, we’re, looking, school, therapist]   \n",
       "1006          [program, manager, needed, industry, remote, client, mortgage, business, opportunity, yoh’s, big, contract]   \n",
       "\n",
       "      DescriptionLength  DescLength  \n",
       "275                  95           1  \n",
       "1080                512           4  \n",
       "984                 512           7  \n",
       "999                 512           8  \n",
       "1081                512           8  \n",
       "1013                512           9  \n",
       "909                 512          10  \n",
       "1028                512          11  \n",
       "1065                512          12  \n",
       "1006                512          12  "
      ]
     },
     "execution_count": 30,
     "metadata": {},
     "output_type": "execute_result"
    }
   ],
   "source": [
    "df[df.DescLength < 50].sort_values(by='DescLength').head(10)"
   ]
  },
  {
   "cell_type": "code",
   "execution_count": 31,
   "metadata": {},
   "outputs": [
    {
     "data": {
      "text/plain": [
       "247"
      ]
     },
     "execution_count": 31,
     "metadata": {},
     "output_type": "execute_result"
    }
   ],
   "source": [
    "### Checking if there are job titles with more than 3 words\n",
    "df[df[\"JobTitle\"].str.split().str.len()>3]\n",
    "df[df[\"JobTitle\"].str.split().str.len()>3].count()[1]"
   ]
  },
  {
   "cell_type": "code",
   "execution_count": 32,
   "metadata": {},
   "outputs": [
    {
     "data": {
      "text/plain": [
       "'<div><div data-bind=\"css: $component.getBlockCellCss($data, 0)\" class=\"block__cell block__field--wide-rich-text\" style=\"font-family: &quot;Open Sans&quot;, &quot;Segoe UI&quot;, Frutiger, &quot;Frutiger Linotype&quot;, &quot;Dejavu Sans&quot;, &quot;Helvetica Neue&quot;, Arial, sans-serif; font-size: 13.02px; padding: 0px 25px 0px 0px; margin: 10px 0px 0px; width: 961.667px; box-sizing: border-box;\"><div data-bind=\"attr: {id: $data.name + \\'-container\\',\\n        class:(\\n        $data.displayType === \\'InputTex'"
      ]
     },
     "execution_count": 32,
     "metadata": {},
     "output_type": "execute_result"
    }
   ],
   "source": [
    "df.loc[999,'Description'] "
   ]
  },
  {
   "cell_type": "code",
   "execution_count": 33,
   "metadata": {},
   "outputs": [
    {
     "data": {
      "text/plain": [
       "'<p style=\"margin: 0px;\">x</p><br><p style=\"margin: 0px;\">x</p><br><p style=\"margin: 0px;\">x</p>'"
      ]
     },
     "execution_count": 33,
     "metadata": {},
     "output_type": "execute_result"
    }
   ],
   "source": [
    "df.loc[275,'Description'] "
   ]
  },
  {
   "cell_type": "code",
   "execution_count": 34,
   "metadata": {},
   "outputs": [
    {
     "data": {
      "text/html": [
       "<div>\n",
       "<style scoped>\n",
       "    .dataframe tbody tr th:only-of-type {\n",
       "        vertical-align: middle;\n",
       "    }\n",
       "\n",
       "    .dataframe tbody tr th {\n",
       "        vertical-align: top;\n",
       "    }\n",
       "\n",
       "    .dataframe thead th {\n",
       "        text-align: right;\n",
       "    }\n",
       "</style>\n",
       "<table border=\"1\" class=\"dataframe\">\n",
       "  <thead>\n",
       "    <tr style=\"text-align: right;\">\n",
       "      <th></th>\n",
       "      <th>JobId</th>\n",
       "      <th>JobTitleId</th>\n",
       "      <th>JobTitle</th>\n",
       "      <th>Description</th>\n",
       "      <th>Desc</th>\n",
       "      <th>DescriptionLength</th>\n",
       "      <th>DescLength</th>\n",
       "    </tr>\n",
       "  </thead>\n",
       "  <tbody>\n",
       "    <tr>\n",
       "      <th>275</th>\n",
       "      <td>197842631</td>\n",
       "      <td>100462</td>\n",
       "      <td>Medical Laboratory Technician (MLT)</td>\n",
       "      <td>&lt;p style=\"margin: 0px;\"&gt;x&lt;/p&gt;&lt;br&gt;&lt;p style=\"margin: 0px;\"&gt;x&lt;/p&gt;&lt;br&gt;&lt;p style=\"margin: 0px;\"&gt;x&lt;/p&gt;</td>\n",
       "      <td>[xxx]</td>\n",
       "      <td>95</td>\n",
       "      <td>1</td>\n",
       "    </tr>\n",
       "  </tbody>\n",
       "</table>\n",
       "</div>"
      ],
      "text/plain": [
       "         JobId  JobTitleId                             JobTitle  \\\n",
       "275  197842631      100462  Medical Laboratory Technician (MLT)   \n",
       "\n",
       "                                                                                         Description  \\\n",
       "275  <p style=\"margin: 0px;\">x</p><br><p style=\"margin: 0px;\">x</p><br><p style=\"margin: 0px;\">x</p>   \n",
       "\n",
       "      Desc  DescriptionLength  DescLength  \n",
       "275  [xxx]                 95           1  "
      ]
     },
     "execution_count": 34,
     "metadata": {},
     "output_type": "execute_result"
    }
   ],
   "source": [
    "df[df.DescriptionLength <100].head()"
   ]
  },
  {
   "cell_type": "code",
   "execution_count": 35,
   "metadata": {},
   "outputs": [],
   "source": [
    "# removing rows with no valid text in the Description \n",
    "\n",
    "df.drop(df[(df.DescriptionLength < 100)|(df.DescLength < 3)].index, inplace=True)"
   ]
  },
  {
   "cell_type": "code",
   "execution_count": 36,
   "metadata": {},
   "outputs": [
    {
     "data": {
      "text/html": [
       "<div>\n",
       "<style scoped>\n",
       "    .dataframe tbody tr th:only-of-type {\n",
       "        vertical-align: middle;\n",
       "    }\n",
       "\n",
       "    .dataframe tbody tr th {\n",
       "        vertical-align: top;\n",
       "    }\n",
       "\n",
       "    .dataframe thead th {\n",
       "        text-align: right;\n",
       "    }\n",
       "</style>\n",
       "<table border=\"1\" class=\"dataframe\">\n",
       "  <thead>\n",
       "    <tr style=\"text-align: right;\">\n",
       "      <th></th>\n",
       "      <th>JobTitleId</th>\n",
       "      <th>DescriptionLength</th>\n",
       "      <th>DescLength</th>\n",
       "    </tr>\n",
       "  </thead>\n",
       "  <tbody>\n",
       "    <tr>\n",
       "      <th>count</th>\n",
       "      <td>1098.000000</td>\n",
       "      <td>1098.000000</td>\n",
       "      <td>1098.000000</td>\n",
       "    </tr>\n",
       "    <tr>\n",
       "      <th>mean</th>\n",
       "      <td>261071.317851</td>\n",
       "      <td>3108.296903</td>\n",
       "      <td>179.339709</td>\n",
       "    </tr>\n",
       "    <tr>\n",
       "      <th>std</th>\n",
       "      <td>190616.640306</td>\n",
       "      <td>2185.179302</td>\n",
       "      <td>103.770337</td>\n",
       "    </tr>\n",
       "    <tr>\n",
       "      <th>min</th>\n",
       "      <td>21.000000</td>\n",
       "      <td>281.000000</td>\n",
       "      <td>4.000000</td>\n",
       "    </tr>\n",
       "    <tr>\n",
       "      <th>25%</th>\n",
       "      <td>21.000000</td>\n",
       "      <td>1484.000000</td>\n",
       "      <td>86.000000</td>\n",
       "    </tr>\n",
       "    <tr>\n",
       "      <th>50%</th>\n",
       "      <td>400832.000000</td>\n",
       "      <td>3032.500000</td>\n",
       "      <td>188.000000</td>\n",
       "    </tr>\n",
       "    <tr>\n",
       "      <th>75%</th>\n",
       "      <td>402654.000000</td>\n",
       "      <td>4277.000000</td>\n",
       "      <td>250.750000</td>\n",
       "    </tr>\n",
       "    <tr>\n",
       "      <th>max</th>\n",
       "      <td>410520.000000</td>\n",
       "      <td>21330.000000</td>\n",
       "      <td>616.000000</td>\n",
       "    </tr>\n",
       "  </tbody>\n",
       "</table>\n",
       "</div>"
      ],
      "text/plain": [
       "          JobTitleId  DescriptionLength   DescLength\n",
       "count    1098.000000        1098.000000  1098.000000\n",
       "mean   261071.317851        3108.296903   179.339709\n",
       "std    190616.640306        2185.179302   103.770337\n",
       "min        21.000000         281.000000     4.000000\n",
       "25%        21.000000        1484.000000    86.000000\n",
       "50%    400832.000000        3032.500000   188.000000\n",
       "75%    402654.000000        4277.000000   250.750000\n",
       "max    410520.000000       21330.000000   616.000000"
      ]
     },
     "execution_count": 36,
     "metadata": {},
     "output_type": "execute_result"
    }
   ],
   "source": [
    "# looks like we were able to clean a lot of unnecessary text\n",
    "\n",
    "df.describe()"
   ]
  },
  {
   "cell_type": "markdown",
   "metadata": {
    "tags": []
   },
   "source": [
    "## lemmatization - nltk library"
   ]
  },
  {
   "cell_type": "code",
   "execution_count": 37,
   "metadata": {},
   "outputs": [
    {
     "name": "stdout",
     "output_type": "stream",
     "text": [
      "155\n"
     ]
    },
    {
     "data": {
      "text/plain": [
       "(['quick',\n",
       "  'yearly',\n",
       "  'room',\n",
       "  'looking',\n",
       "  'including',\n",
       "  'solar',\n",
       "  'profit',\n",
       "  'fax',\n",
       "  'better',\n",
       "  'experience'],\n",
       " ['quick',\n",
       "  'yearly',\n",
       "  'room',\n",
       "  'looking',\n",
       "  'including',\n",
       "  'solar',\n",
       "  'profit',\n",
       "  'fax',\n",
       "  'better',\n",
       "  'experience'])"
      ]
     },
     "execution_count": 37,
     "metadata": {},
     "output_type": "execute_result"
    }
   ],
   "source": [
    "from nltk.stem import WordNetLemmatizer\n",
    "\n",
    "lemmatizer = WordNetLemmatizer()\n",
    "\n",
    "test = df.loc[0,'Desc']\n",
    "\n",
    "lemmatized = [lemmatizer.lemmatize(w) for w in test]\n",
    "\n",
    "print(len((set(lemmatized))))\n",
    "\n",
    "test[10:20], lemmatized[10:20]"
   ]
  },
  {
   "cell_type": "code",
   "execution_count": 38,
   "metadata": {},
   "outputs": [],
   "source": [
    "words = ['run', 'running', 'ran','go', 'going', 'goes', 'went']"
   ]
  },
  {
   "cell_type": "code",
   "execution_count": 39,
   "metadata": {},
   "outputs": [
    {
     "data": {
      "text/plain": [
       "['run', 'running', 'ran', 'go', 'going', 'go', 'went']"
      ]
     },
     "execution_count": 39,
     "metadata": {},
     "output_type": "execute_result"
    }
   ],
   "source": [
    "[lemmatizer.lemmatize(w) for w in words]"
   ]
  },
  {
   "cell_type": "code",
   "execution_count": 40,
   "metadata": {},
   "outputs": [],
   "source": [
    "## lemmatization - textblob library"
   ]
  },
  {
   "cell_type": "code",
   "execution_count": 41,
   "metadata": {},
   "outputs": [],
   "source": [
    "from textblob import Word"
   ]
  },
  {
   "cell_type": "code",
   "execution_count": 42,
   "metadata": {},
   "outputs": [
    {
     "data": {
      "text/html": [
       "<div>\n",
       "<style scoped>\n",
       "    .dataframe tbody tr th:only-of-type {\n",
       "        vertical-align: middle;\n",
       "    }\n",
       "\n",
       "    .dataframe tbody tr th {\n",
       "        vertical-align: top;\n",
       "    }\n",
       "\n",
       "    .dataframe thead th {\n",
       "        text-align: right;\n",
       "    }\n",
       "</style>\n",
       "<table border=\"1\" class=\"dataframe\">\n",
       "  <thead>\n",
       "    <tr style=\"text-align: right;\">\n",
       "      <th></th>\n",
       "      <th>initial</th>\n",
       "      <th>nltk library</th>\n",
       "      <th>textblob library</th>\n",
       "    </tr>\n",
       "  </thead>\n",
       "  <tbody>\n",
       "    <tr>\n",
       "      <th>0</th>\n",
       "      <td>None</td>\n",
       "      <td>also</td>\n",
       "      <td>also</td>\n",
       "    </tr>\n",
       "    <tr>\n",
       "      <th>1</th>\n",
       "      <td>None</td>\n",
       "      <td>interest</td>\n",
       "      <td>interest</td>\n",
       "    </tr>\n",
       "    <tr>\n",
       "      <th>2</th>\n",
       "      <td>None</td>\n",
       "      <td>case</td>\n",
       "      <td>case</td>\n",
       "    </tr>\n",
       "    <tr>\n",
       "      <th>3</th>\n",
       "      <td>None</td>\n",
       "      <td>website</td>\n",
       "      <td>website</td>\n",
       "    </tr>\n",
       "    <tr>\n",
       "      <th>4</th>\n",
       "      <td>None</td>\n",
       "      <td>company</td>\n",
       "      <td>company</td>\n",
       "    </tr>\n",
       "    <tr>\n",
       "      <th>5</th>\n",
       "      <td>None</td>\n",
       "      <td>clinic</td>\n",
       "      <td>clinic</td>\n",
       "    </tr>\n",
       "    <tr>\n",
       "      <th>6</th>\n",
       "      <td>None</td>\n",
       "      <td>edge</td>\n",
       "      <td>edge</td>\n",
       "    </tr>\n",
       "    <tr>\n",
       "      <th>7</th>\n",
       "      <td>None</td>\n",
       "      <td>please</td>\n",
       "      <td>please</td>\n",
       "    </tr>\n",
       "    <tr>\n",
       "      <th>8</th>\n",
       "      <td>None</td>\n",
       "      <td>matching</td>\n",
       "      <td>matching</td>\n",
       "    </tr>\n",
       "    <tr>\n",
       "      <th>9</th>\n",
       "      <td>None</td>\n",
       "      <td>week</td>\n",
       "      <td>week</td>\n",
       "    </tr>\n",
       "    <tr>\n",
       "      <th>10</th>\n",
       "      <td>None</td>\n",
       "      <td>always</td>\n",
       "      <td>always</td>\n",
       "    </tr>\n",
       "    <tr>\n",
       "      <th>11</th>\n",
       "      <td>None</td>\n",
       "      <td>situated</td>\n",
       "      <td>situated</td>\n",
       "    </tr>\n",
       "    <tr>\n",
       "      <th>12</th>\n",
       "      <td>None</td>\n",
       "      <td>believe</td>\n",
       "      <td>believe</td>\n",
       "    </tr>\n",
       "    <tr>\n",
       "      <th>13</th>\n",
       "      <td>None</td>\n",
       "      <td>health</td>\n",
       "      <td>health</td>\n",
       "    </tr>\n",
       "    <tr>\n",
       "      <th>14</th>\n",
       "      <td>None</td>\n",
       "      <td>ingredient</td>\n",
       "      <td>ingredient</td>\n",
       "    </tr>\n",
       "    <tr>\n",
       "      <th>15</th>\n",
       "      <td>None</td>\n",
       "      <td>per</td>\n",
       "      <td>per</td>\n",
       "    </tr>\n",
       "    <tr>\n",
       "      <th>16</th>\n",
       "      <td>None</td>\n",
       "      <td>daily</td>\n",
       "      <td>daily</td>\n",
       "    </tr>\n",
       "    <tr>\n",
       "      <th>17</th>\n",
       "      <td>None</td>\n",
       "      <td>paid</td>\n",
       "      <td>paid</td>\n",
       "    </tr>\n",
       "    <tr>\n",
       "      <th>18</th>\n",
       "      <td>None</td>\n",
       "      <td>bonus</td>\n",
       "      <td>bonus</td>\n",
       "    </tr>\n",
       "    <tr>\n",
       "      <th>19</th>\n",
       "      <td>None</td>\n",
       "      <td>sharing</td>\n",
       "      <td>sharing</td>\n",
       "    </tr>\n",
       "  </tbody>\n",
       "</table>\n",
       "</div>"
      ],
      "text/plain": [
       "   initial nltk library textblob library\n",
       "0     None         also             also\n",
       "1     None     interest         interest\n",
       "2     None         case             case\n",
       "3     None      website          website\n",
       "4     None      company          company\n",
       "5     None       clinic           clinic\n",
       "6     None         edge             edge\n",
       "7     None       please           please\n",
       "8     None     matching         matching\n",
       "9     None         week             week\n",
       "10    None       always           always\n",
       "11    None     situated         situated\n",
       "12    None      believe          believe\n",
       "13    None       health           health\n",
       "14    None   ingredient       ingredient\n",
       "15    None          per              per\n",
       "16    None        daily            daily\n",
       "17    None         paid             paid\n",
       "18    None        bonus            bonus\n",
       "19    None      sharing          sharing"
      ]
     },
     "execution_count": 42,
     "metadata": {},
     "output_type": "execute_result"
    }
   ],
   "source": [
    "textblob_result = [Word(w).lemmatize() for w in test]\n",
    "pd.DataFrame([words[40:60], lemmatized[40:60], textblob_result[40:60]], index=['initial','nltk library','textblob library']).transpose()"
   ]
  },
  {
   "cell_type": "code",
   "execution_count": 85,
   "metadata": {},
   "outputs": [],
   "source": [
    "####  lemmatization - spacy library\n",
    "###\n",
    "##    install from here _  https://spacy.io/usage\n",
    "#"
   ]
  },
  {
   "cell_type": "code",
   "execution_count": 44,
   "metadata": {},
   "outputs": [],
   "source": [
    "import spacy\n",
    "nlp = spacy.load('en_core_web_sm')\n",
    "\n",
    "test_for_spacy = \" \".join([w for w in test])\n",
    "# print(test_for_spacy)\n",
    "# Create a Doc object\n",
    "doc = nlp(test_for_spacy)\n",
    "# print(type(doc))\n",
    "# Create list of tokens from given string\n",
    "tokens = []\n",
    "for token in doc:\n",
    "    tokens.append(token)\n",
    "# print(type(token))\n",
    "# print(tokens)"
   ]
  },
  {
   "cell_type": "code",
   "execution_count": 45,
   "metadata": {},
   "outputs": [
    {
     "name": "stdout",
     "output_type": "stream",
     "text": [
      "['program', 'warm', 'start', 'learn', 'depend', 'skill', 'power', 'spend', 'motivated', 'day', 'quick', 'yearly', 'room', 'look', 'include', 'solar', 'profit', 'fax', 'well', 'experience', 'recreational', 'education', 'note', 'take', 'late', 'environment', 'modality', 'continue', 'competitive', 'johnandrewptgmailcom', 'happy', 'manageable', 'caring', 'women', 'w', 'medical', 'fee', 'licensing', 'time', 'personalize', 'also', 'interest', 'case', 'website', 'company', 'clinic', 'edge', 'please', 'match', 'week', 'always', 'situate', 'believe', 'health', 'ingredient', 'per', 'daily', 'pay', 'bonus', 'sharing', 'therapist', 'welcome', 'every', 'full', 'major', 'equip', 'area', 'approach', 'quality', 'mcminnville', 'positive', 'dental', 'pt', 'available', 'vacation', 'dynamic', 'coverage', 'parttime', 'mountain', 'wks', 'room', 'load', 'key', 'performanceprofit', 'make', 'resume', 'patient', 'active', 'total', 'workout', 'clinician', 'one', 'outpatient', 'we', 'offer', 'ceiling', 'therapy', 'even', 'cut', 'help', 'fund', 'serve', 'continue', 'perfectly', 'locate', 'information', 'rehabilitation', 'separate', 'focus', 'visit', 'andrew', 'may', 'physical', 'new', 'encouraged', 'grow', 'within', 'graduate', 'salary', 'dpt', 'large', 'hiking', 'via', 'exercise', 'minute', 'manual', 'well', 'treatment', 'fulltime', 'cycling', 'benefit', 'growth', 'private', 'enthusiast', 'necessary', 'clinical', 'span', 'enjoyable', 'wwwandrewptcom', 'life', 'keep', 'vault', 'care', 'year', 'personal', 'foot', 'beach', 'holiday', 'employee', 'base', 'work', 'email', 'square', 'contact', 'equipment', 'mentorship']\n"
     ]
    }
   ],
   "source": [
    "spacy_result = [token.lemma_ for token in tokens]\n",
    "print(spacy_result)"
   ]
  },
  {
   "cell_type": "code",
   "execution_count": 47,
   "metadata": {},
   "outputs": [
    {
     "name": "stdout",
     "output_type": "stream",
     "text": [
      "['program', 'warm', 'start', 'learn', 'depend', 'skill', 'power', 'spend', 'motivated', 'day', 'quick', 'yearly', 'room', 'look', 'include', 'solar', 'profit', 'fax', 'well', 'experience', 'recreational', 'education', 'note', 'take', 'late', 'environment', 'modality', 'continue', 'competitive', 'johnandrewptgmailcom', 'happy', 'manageable', 'caring', 'women', 'w', 'medical', 'fee', 'licensing', 'time', 'personalize', 'also', 'interest', 'case', 'website', 'company', 'clinic', 'edge', 'please', 'match', 'week', 'always', 'situate', 'believe', 'health', 'ingredient', 'per', 'daily', 'pay', 'bonus', 'sharing', 'therapist', 'welcome', 'every', 'full', 'major', 'equip', 'area', 'approach', 'quality', 'mcminnville', 'positive', 'dental', 'pt', 'available', 'vacation', 'dynamic', 'coverage', 'parttime', 'mountain', 'wks', 'room', 'load', 'key', 'performanceprofit', 'make', 'resume', 'patient', 'active', 'total', 'workout', 'clinician', 'one', 'outpatient', 'we', 'offer', 'ceiling', 'therapy', 'even', 'cut', 'help', 'fund', 'serve', 'continue', 'perfectly', 'locate', 'information', 'rehabilitation', 'separate', 'focus', 'visit', 'andrew', 'may', 'physical', 'new', 'encouraged', 'grow', 'within', 'graduate', 'salary', 'dpt', 'large', 'hiking', 'via', 'exercise', 'minute', 'manual', 'well', 'treatment', 'fulltime', 'cycling', 'benefit', 'growth', 'private', 'enthusiast', 'necessary', 'clinical', 'span', 'enjoyable', 'wwwandrewptcom', 'life', 'keep', 'vault', 'care', 'year', 'personal', 'foot', 'beach', 'holiday', 'employee', 'base', 'work', 'email', 'square', 'contact', 'equipment', 'mentorship']\n"
     ]
    }
   ],
   "source": [
    "words = ['run', 'running', 'ran','go', 'going', 'goes', 'went']\n",
    "test_for_spacy_2 = \" \".join([w for w in words])\n",
    "\n",
    "# Create a Doc object\n",
    "doc_2 = nlp(test_for_spacy_2)\n",
    "\n",
    "# Create list of tokens from given string\n",
    "tokens_2 = []\n",
    "for token in doc_2:\n",
    "    tokens_2.append(token)\n",
    "\n",
    "spacy_result_2 = [token.lemma_ for token in tokens]\n",
    "print(spacy_result_2)"
   ]
  },
  {
   "cell_type": "markdown",
   "metadata": {
    "tags": []
   },
   "source": [
    "## Stemming"
   ]
  },
  {
   "cell_type": "code",
   "execution_count": 76,
   "metadata": {},
   "outputs": [
    {
     "name": "stdout",
     "output_type": "stream",
     "text": [
      "150\n"
     ]
    },
    {
     "data": {
      "text/plain": [
       "['program',\n",
       " 'warm',\n",
       " 'start',\n",
       " 'learn',\n",
       " 'depend',\n",
       " 'skill',\n",
       " 'power',\n",
       " 'spend',\n",
       " 'motiv',\n",
       " 'day',\n",
       " 'quick',\n",
       " 'yearli',\n",
       " 'room',\n",
       " 'look',\n",
       " 'includ',\n",
       " 'solar',\n",
       " 'profit',\n",
       " 'fax',\n",
       " 'better',\n",
       " 'experi']"
      ]
     },
     "execution_count": 76,
     "metadata": {},
     "output_type": "execute_result"
    }
   ],
   "source": [
    "from nltk.stem import PorterStemmer\n",
    "from nltk.tokenize import word_tokenize\n",
    "\n",
    "stemming = PorterStemmer()\n",
    "stemming = [stemming.stem(w) for w in test]\n",
    "print(len(set(stemming)))\n",
    "stemming[:20]"
   ]
  },
  {
   "cell_type": "code",
   "execution_count": 49,
   "metadata": {},
   "outputs": [
    {
     "data": {
      "text/plain": [
       "['run', 'run', 'ran', 'go', 'go', 'goe', 'went']"
      ]
     },
     "execution_count": 49,
     "metadata": {},
     "output_type": "execute_result"
    }
   ],
   "source": [
    "stem = PorterStemmer()\n",
    "[stem.stem(w) for w in words]"
   ]
  },
  {
   "cell_type": "code",
   "execution_count": 79,
   "metadata": {},
   "outputs": [
    {
     "data": {
      "text/html": [
       "<div>\n",
       "<style scoped>\n",
       "    .dataframe tbody tr th:only-of-type {\n",
       "        vertical-align: middle;\n",
       "    }\n",
       "\n",
       "    .dataframe tbody tr th {\n",
       "        vertical-align: top;\n",
       "    }\n",
       "\n",
       "    .dataframe thead th {\n",
       "        text-align: right;\n",
       "    }\n",
       "</style>\n",
       "<table border=\"1\" class=\"dataframe\">\n",
       "  <thead>\n",
       "    <tr style=\"text-align: right;\">\n",
       "      <th></th>\n",
       "      <th>original</th>\n",
       "      <th>stemming</th>\n",
       "      <th>lemmatization</th>\n",
       "      <th>lemmatization_by_spacy</th>\n",
       "    </tr>\n",
       "  </thead>\n",
       "  <tbody>\n",
       "    <tr>\n",
       "      <th>0</th>\n",
       "      <td>program</td>\n",
       "      <td>program</td>\n",
       "      <td>program</td>\n",
       "      <td>program</td>\n",
       "    </tr>\n",
       "    <tr>\n",
       "      <th>1</th>\n",
       "      <td>warm</td>\n",
       "      <td>warm</td>\n",
       "      <td>warm</td>\n",
       "      <td>warm</td>\n",
       "    </tr>\n",
       "    <tr>\n",
       "      <th>2</th>\n",
       "      <td>start</td>\n",
       "      <td>start</td>\n",
       "      <td>start</td>\n",
       "      <td>start</td>\n",
       "    </tr>\n",
       "    <tr>\n",
       "      <th>3</th>\n",
       "      <td>learning</td>\n",
       "      <td>learn</td>\n",
       "      <td>learning</td>\n",
       "      <td>learn</td>\n",
       "    </tr>\n",
       "    <tr>\n",
       "      <th>4</th>\n",
       "      <td>depending</td>\n",
       "      <td>depend</td>\n",
       "      <td>depending</td>\n",
       "      <td>depend</td>\n",
       "    </tr>\n",
       "    <tr>\n",
       "      <th>5</th>\n",
       "      <td>skills</td>\n",
       "      <td>skill</td>\n",
       "      <td>skill</td>\n",
       "      <td>skill</td>\n",
       "    </tr>\n",
       "    <tr>\n",
       "      <th>6</th>\n",
       "      <td>powered</td>\n",
       "      <td>power</td>\n",
       "      <td>powered</td>\n",
       "      <td>power</td>\n",
       "    </tr>\n",
       "    <tr>\n",
       "      <th>7</th>\n",
       "      <td>spend</td>\n",
       "      <td>spend</td>\n",
       "      <td>spend</td>\n",
       "      <td>spend</td>\n",
       "    </tr>\n",
       "    <tr>\n",
       "      <th>8</th>\n",
       "      <td>motivated</td>\n",
       "      <td>motiv</td>\n",
       "      <td>motivated</td>\n",
       "      <td>motivated</td>\n",
       "    </tr>\n",
       "    <tr>\n",
       "      <th>9</th>\n",
       "      <td>day</td>\n",
       "      <td>day</td>\n",
       "      <td>day</td>\n",
       "      <td>day</td>\n",
       "    </tr>\n",
       "    <tr>\n",
       "      <th>10</th>\n",
       "      <td>quick</td>\n",
       "      <td>quick</td>\n",
       "      <td>quick</td>\n",
       "      <td>quick</td>\n",
       "    </tr>\n",
       "    <tr>\n",
       "      <th>11</th>\n",
       "      <td>yearly</td>\n",
       "      <td>yearli</td>\n",
       "      <td>yearly</td>\n",
       "      <td>yearly</td>\n",
       "    </tr>\n",
       "    <tr>\n",
       "      <th>12</th>\n",
       "      <td>room</td>\n",
       "      <td>room</td>\n",
       "      <td>room</td>\n",
       "      <td>room</td>\n",
       "    </tr>\n",
       "    <tr>\n",
       "      <th>13</th>\n",
       "      <td>looking</td>\n",
       "      <td>look</td>\n",
       "      <td>looking</td>\n",
       "      <td>look</td>\n",
       "    </tr>\n",
       "    <tr>\n",
       "      <th>14</th>\n",
       "      <td>including</td>\n",
       "      <td>includ</td>\n",
       "      <td>including</td>\n",
       "      <td>include</td>\n",
       "    </tr>\n",
       "    <tr>\n",
       "      <th>15</th>\n",
       "      <td>solar</td>\n",
       "      <td>solar</td>\n",
       "      <td>solar</td>\n",
       "      <td>solar</td>\n",
       "    </tr>\n",
       "    <tr>\n",
       "      <th>16</th>\n",
       "      <td>profit</td>\n",
       "      <td>profit</td>\n",
       "      <td>profit</td>\n",
       "      <td>profit</td>\n",
       "    </tr>\n",
       "    <tr>\n",
       "      <th>17</th>\n",
       "      <td>fax</td>\n",
       "      <td>fax</td>\n",
       "      <td>fax</td>\n",
       "      <td>fax</td>\n",
       "    </tr>\n",
       "    <tr>\n",
       "      <th>18</th>\n",
       "      <td>better</td>\n",
       "      <td>better</td>\n",
       "      <td>better</td>\n",
       "      <td>well</td>\n",
       "    </tr>\n",
       "    <tr>\n",
       "      <th>19</th>\n",
       "      <td>experience</td>\n",
       "      <td>experi</td>\n",
       "      <td>experience</td>\n",
       "      <td>experience</td>\n",
       "    </tr>\n",
       "  </tbody>\n",
       "</table>\n",
       "</div>"
      ],
      "text/plain": [
       "      original stemming lemmatization lemmatization_by_spacy\n",
       "0      program  program       program                program\n",
       "1         warm     warm          warm                   warm\n",
       "2        start    start         start                  start\n",
       "3     learning    learn      learning                  learn\n",
       "4    depending   depend     depending                 depend\n",
       "5       skills    skill         skill                  skill\n",
       "6      powered    power       powered                  power\n",
       "7        spend    spend         spend                  spend\n",
       "8    motivated    motiv     motivated              motivated\n",
       "9          day      day           day                    day\n",
       "10       quick    quick         quick                  quick\n",
       "11      yearly   yearli        yearly                 yearly\n",
       "12        room     room          room                   room\n",
       "13     looking     look       looking                   look\n",
       "14   including   includ     including                include\n",
       "15       solar    solar         solar                  solar\n",
       "16      profit   profit        profit                 profit\n",
       "17         fax      fax           fax                    fax\n",
       "18      better   better        better                   well\n",
       "19  experience   experi    experience             experience"
      ]
     },
     "execution_count": 79,
     "metadata": {},
     "output_type": "execute_result"
    }
   ],
   "source": [
    "comparing_df = pd.DataFrame(test,columns=['original'])\n",
    "comparing_df['stemming'] = stemming\n",
    "comparing_df['lemmatization'] = lemmatized\n",
    "comparing_df['lemmatization_by_spacy'] = spacy_result\n",
    "comparing_df.drop_duplicates().head(20)"
   ]
  },
  {
   "cell_type": "code",
   "execution_count": 102,
   "metadata": {},
   "outputs": [
    {
     "data": {
      "text/html": [
       "<div>\n",
       "<style scoped>\n",
       "    .dataframe tbody tr th:only-of-type {\n",
       "        vertical-align: middle;\n",
       "    }\n",
       "\n",
       "    .dataframe tbody tr th {\n",
       "        vertical-align: top;\n",
       "    }\n",
       "\n",
       "    .dataframe thead th {\n",
       "        text-align: right;\n",
       "    }\n",
       "</style>\n",
       "<table border=\"1\" class=\"dataframe\">\n",
       "  <thead>\n",
       "    <tr style=\"text-align: right;\">\n",
       "      <th></th>\n",
       "      <th>initial</th>\n",
       "      <th>lemmatization_nltk</th>\n",
       "      <th>lemmatization_textblob_library</th>\n",
       "      <th>stemming</th>\n",
       "      <th>lemmatization_spacy_library</th>\n",
       "    </tr>\n",
       "  </thead>\n",
       "  <tbody>\n",
       "    <tr>\n",
       "      <th>0</th>\n",
       "      <td>program</td>\n",
       "      <td>program</td>\n",
       "      <td>program</td>\n",
       "      <td>program</td>\n",
       "      <td>program</td>\n",
       "    </tr>\n",
       "    <tr>\n",
       "      <th>1</th>\n",
       "      <td>warm</td>\n",
       "      <td>warm</td>\n",
       "      <td>warm</td>\n",
       "      <td>warm</td>\n",
       "      <td>warm</td>\n",
       "    </tr>\n",
       "    <tr>\n",
       "      <th>2</th>\n",
       "      <td>start</td>\n",
       "      <td>start</td>\n",
       "      <td>start</td>\n",
       "      <td>start</td>\n",
       "      <td>start</td>\n",
       "    </tr>\n",
       "    <tr>\n",
       "      <th>3</th>\n",
       "      <td>learning</td>\n",
       "      <td>learning</td>\n",
       "      <td>learning</td>\n",
       "      <td>learn</td>\n",
       "      <td>learn</td>\n",
       "    </tr>\n",
       "    <tr>\n",
       "      <th>4</th>\n",
       "      <td>depending</td>\n",
       "      <td>depending</td>\n",
       "      <td>depending</td>\n",
       "      <td>depend</td>\n",
       "      <td>depend</td>\n",
       "    </tr>\n",
       "    <tr>\n",
       "      <th>5</th>\n",
       "      <td>skills</td>\n",
       "      <td>skill</td>\n",
       "      <td>skill</td>\n",
       "      <td>skill</td>\n",
       "      <td>skill</td>\n",
       "    </tr>\n",
       "    <tr>\n",
       "      <th>6</th>\n",
       "      <td>powered</td>\n",
       "      <td>powered</td>\n",
       "      <td>powered</td>\n",
       "      <td>power</td>\n",
       "      <td>power</td>\n",
       "    </tr>\n",
       "    <tr>\n",
       "      <th>7</th>\n",
       "      <td>spend</td>\n",
       "      <td>spend</td>\n",
       "      <td>spend</td>\n",
       "      <td>spend</td>\n",
       "      <td>spend</td>\n",
       "    </tr>\n",
       "    <tr>\n",
       "      <th>8</th>\n",
       "      <td>motivated</td>\n",
       "      <td>motivated</td>\n",
       "      <td>motivated</td>\n",
       "      <td>motiv</td>\n",
       "      <td>motivated</td>\n",
       "    </tr>\n",
       "    <tr>\n",
       "      <th>9</th>\n",
       "      <td>day</td>\n",
       "      <td>day</td>\n",
       "      <td>day</td>\n",
       "      <td>day</td>\n",
       "      <td>day</td>\n",
       "    </tr>\n",
       "    <tr>\n",
       "      <th>10</th>\n",
       "      <td>quick</td>\n",
       "      <td>quick</td>\n",
       "      <td>quick</td>\n",
       "      <td>quick</td>\n",
       "      <td>quick</td>\n",
       "    </tr>\n",
       "    <tr>\n",
       "      <th>11</th>\n",
       "      <td>yearly</td>\n",
       "      <td>yearly</td>\n",
       "      <td>yearly</td>\n",
       "      <td>yearli</td>\n",
       "      <td>yearly</td>\n",
       "    </tr>\n",
       "    <tr>\n",
       "      <th>12</th>\n",
       "      <td>room</td>\n",
       "      <td>room</td>\n",
       "      <td>room</td>\n",
       "      <td>room</td>\n",
       "      <td>room</td>\n",
       "    </tr>\n",
       "    <tr>\n",
       "      <th>13</th>\n",
       "      <td>looking</td>\n",
       "      <td>looking</td>\n",
       "      <td>looking</td>\n",
       "      <td>look</td>\n",
       "      <td>look</td>\n",
       "    </tr>\n",
       "    <tr>\n",
       "      <th>14</th>\n",
       "      <td>including</td>\n",
       "      <td>including</td>\n",
       "      <td>including</td>\n",
       "      <td>includ</td>\n",
       "      <td>include</td>\n",
       "    </tr>\n",
       "    <tr>\n",
       "      <th>15</th>\n",
       "      <td>solar</td>\n",
       "      <td>solar</td>\n",
       "      <td>solar</td>\n",
       "      <td>solar</td>\n",
       "      <td>solar</td>\n",
       "    </tr>\n",
       "    <tr>\n",
       "      <th>16</th>\n",
       "      <td>profit</td>\n",
       "      <td>profit</td>\n",
       "      <td>profit</td>\n",
       "      <td>profit</td>\n",
       "      <td>profit</td>\n",
       "    </tr>\n",
       "    <tr>\n",
       "      <th>17</th>\n",
       "      <td>fax</td>\n",
       "      <td>fax</td>\n",
       "      <td>fax</td>\n",
       "      <td>fax</td>\n",
       "      <td>fax</td>\n",
       "    </tr>\n",
       "    <tr>\n",
       "      <th>18</th>\n",
       "      <td>better</td>\n",
       "      <td>better</td>\n",
       "      <td>better</td>\n",
       "      <td>better</td>\n",
       "      <td>well</td>\n",
       "    </tr>\n",
       "    <tr>\n",
       "      <th>19</th>\n",
       "      <td>experience</td>\n",
       "      <td>experience</td>\n",
       "      <td>experience</td>\n",
       "      <td>experi</td>\n",
       "      <td>experience</td>\n",
       "    </tr>\n",
       "  </tbody>\n",
       "</table>\n",
       "</div>"
      ],
      "text/plain": [
       "       initial lemmatization_nltk lemmatization_textblob_library stemming  \\\n",
       "0      program            program                        program  program   \n",
       "1         warm               warm                           warm     warm   \n",
       "2        start              start                          start    start   \n",
       "3     learning           learning                       learning    learn   \n",
       "4    depending          depending                      depending   depend   \n",
       "5       skills              skill                          skill    skill   \n",
       "6      powered            powered                        powered    power   \n",
       "7        spend              spend                          spend    spend   \n",
       "8    motivated          motivated                      motivated    motiv   \n",
       "9          day                day                            day      day   \n",
       "10       quick              quick                          quick    quick   \n",
       "11      yearly             yearly                         yearly   yearli   \n",
       "12        room               room                           room     room   \n",
       "13     looking            looking                        looking     look   \n",
       "14   including          including                      including   includ   \n",
       "15       solar              solar                          solar    solar   \n",
       "16      profit             profit                         profit   profit   \n",
       "17         fax                fax                            fax      fax   \n",
       "18      better             better                         better   better   \n",
       "19  experience         experience                     experience   experi   \n",
       "\n",
       "   lemmatization_spacy_library  \n",
       "0                      program  \n",
       "1                         warm  \n",
       "2                        start  \n",
       "3                        learn  \n",
       "4                       depend  \n",
       "5                        skill  \n",
       "6                        power  \n",
       "7                        spend  \n",
       "8                    motivated  \n",
       "9                          day  \n",
       "10                       quick  \n",
       "11                      yearly  \n",
       "12                        room  \n",
       "13                        look  \n",
       "14                     include  \n",
       "15                       solar  \n",
       "16                      profit  \n",
       "17                         fax  \n",
       "18                        well  \n",
       "19                  experience  "
      ]
     },
     "execution_count": 102,
     "metadata": {},
     "output_type": "execute_result"
    }
   ],
   "source": [
    "compare_with_spacy = pd.DataFrame([test, lemmatized, textblob_result,stemming, spacy_result],\n",
    "             index=['initial','lemmatization_nltk','lemmatization_textblob_library', 'stemming' ,'lemmatization_spacy_library']).transpose()\n",
    "compare_with_spacy.head(20)"
   ]
  },
  {
   "cell_type": "code",
   "execution_count": 106,
   "metadata": {},
   "outputs": [
    {
     "data": {
      "text/plain": [
       "str"
      ]
     },
     "execution_count": 106,
     "metadata": {},
     "output_type": "execute_result"
    }
   ],
   "source": [
    "type(compare_with_spacy.lemmatization_spacy_library[140])"
   ]
  },
  {
   "cell_type": "code",
   "execution_count": 107,
   "metadata": {},
   "outputs": [
    {
     "name": "stdout",
     "output_type": "stream",
     "text": [
      "<class 'pandas.core.frame.DataFrame'>\n",
      "RangeIndex: 156 entries, 0 to 155\n",
      "Data columns (total 5 columns):\n",
      " #   Column                          Non-Null Count  Dtype \n",
      "---  ------                          --------------  ----- \n",
      " 0   initial                         156 non-null    object\n",
      " 1   lemmatization_nltk              156 non-null    object\n",
      " 2   lemmatization_textblob_library  156 non-null    object\n",
      " 3   stemming                        156 non-null    object\n",
      " 4   lemmatization_spacy_library     156 non-null    object\n",
      "dtypes: object(5)\n",
      "memory usage: 6.2+ KB\n"
     ]
    }
   ],
   "source": [
    "compare_with_spacy.info()"
   ]
  },
  {
   "cell_type": "markdown",
   "metadata": {},
   "source": [
    "## Create bi-grams or tri-grams"
   ]
  },
  {
   "cell_type": "code",
   "execution_count": null,
   "metadata": {},
   "outputs": [],
   "source": []
  },
  {
   "cell_type": "code",
   "execution_count": null,
   "metadata": {},
   "outputs": [],
   "source": []
  },
  {
   "cell_type": "code",
   "execution_count": null,
   "metadata": {},
   "outputs": [],
   "source": []
  },
  {
   "cell_type": "markdown",
   "metadata": {},
   "source": [
    "## Deal with typos"
   ]
  },
  {
   "cell_type": "code",
   "execution_count": null,
   "metadata": {},
   "outputs": [],
   "source": []
  },
  {
   "cell_type": "code",
   "execution_count": null,
   "metadata": {},
   "outputs": [],
   "source": []
  },
  {
   "cell_type": "code",
   "execution_count": null,
   "metadata": {},
   "outputs": [],
   "source": []
  },
  {
   "cell_type": "markdown",
   "metadata": {},
   "source": [
    "## CountVectorizer"
   ]
  },
  {
   "cell_type": "code",
   "execution_count": 51,
   "metadata": {},
   "outputs": [],
   "source": [
    "from sklearn.feature_extraction.text import CountVectorizer"
   ]
  },
  {
   "cell_type": "code",
   "execution_count": 52,
   "metadata": {},
   "outputs": [
    {
     "name": "stdout",
     "output_type": "stream",
     "text": [
      "16009\n"
     ]
    }
   ],
   "source": [
    "bow_transformer = CountVectorizer(analyzer=text_process).fit(df['Description'])\n",
    "\n",
    "# Print total number of vocab words\n",
    "print(len(bow_transformer.vocabulary_))"
   ]
  },
  {
   "cell_type": "code",
   "execution_count": 72,
   "metadata": {},
   "outputs": [
    {
     "ename": "TypeError",
     "evalue": "list indices must be integers or slices, not list",
     "output_type": "error",
     "traceback": [
      "\u001b[1;31m---------------------------------------------------------------------------\u001b[0m",
      "\u001b[1;31mTypeError\u001b[0m                                 Traceback (most recent call last)",
      "\u001b[1;32m~\\AppData\\Local\\Temp/ipykernel_13432/2898160525.py\u001b[0m in \u001b[0;36m<module>\u001b[1;34m\u001b[0m\n\u001b[1;32m----> 1\u001b[1;33m \u001b[0mdict\u001b[0m\u001b[1;33m(\u001b[0m\u001b[0mlist\u001b[0m\u001b[1;33m(\u001b[0m\u001b[0mbow_transformer\u001b[0m\u001b[1;33m.\u001b[0m\u001b[0mvocabulary_\u001b[0m\u001b[1;33m)\u001b[0m\u001b[1;33m[\u001b[0m\u001b[1;33m[\u001b[0m\u001b[1;36m1\u001b[0m\u001b[1;33m,\u001b[0m\u001b[1;36m1\u001b[0m\u001b[1;33m]\u001b[0m\u001b[1;33m]\u001b[0m\u001b[1;33m)\u001b[0m\u001b[1;33m\u001b[0m\u001b[1;33m\u001b[0m\u001b[0m\n\u001b[0m",
      "\u001b[1;31mTypeError\u001b[0m: list indices must be integers or slices, not list"
     ]
    }
   ],
   "source": [
    "# bow_transformer.vocabulary_"
   ]
  },
  {
   "cell_type": "code",
   "execution_count": 54,
   "metadata": {},
   "outputs": [],
   "source": [
    "desc4 = df['Description'][3]"
   ]
  },
  {
   "cell_type": "code",
   "execution_count": 55,
   "metadata": {},
   "outputs": [
    {
     "name": "stdout",
     "output_type": "stream",
     "text": [
      "<p>Envision Physician Services is seeking a Neonatal Nurse Practitioner to join our busy practice covering 7 Medical City facilities in the DFW area. The practice prides itself in delivering quality excellence, continued education and work-life balance. The Neonatal Intensive Care Units are all level 3 facilities and have a continuous MFM referral base. Our collaborative team consists of skilled Neonatal Nurse Practitioners and Neonatologist covering several Medical City NICUs in the Dallas Metroplex. You would join a collegial team of clinicians who are dedicated to achieving the best patient outcomes by implementing and practicing evidence based medicine.</p><p>With over 30 years of high-quality Women&rsquo;s &amp; Children&rsquo;s services and more than 100 service contracts, Envision Physician Services is a trusted strategic partner for established hospitals and health systems. Combining a national infrastructure with local support, our breadth and depth of clinical and operational resources allow our physicians to spend more time on what matters: delivering high-quality care.</p><br /><p>Medical City Alliance is a level III NICU with eight private rooms, equipped with state-of-the-art, intensive care nursery technology. The Medical City facilities are part of one of the region&rsquo;s largest, most comprehensive health care providers, recently renamed, Medical City Healthcare. Spanning the Dallas-Fort Worth and Oklahoma City areas, Medical City Healthcare includes 13 hospitals, 7 off-campus emergency rooms, more than 50 ambulatory sites, more than 7,000 active physicians and 15,000 employees. We share in their mission to deliver exceptional healthcare to the communities we serve.</p><br />Envision offers competitive compensation, a robust benefits effective on day one, and malpractice insurance with tail coverage.\n"
     ]
    }
   ],
   "source": [
    "print(desc4)"
   ]
  },
  {
   "cell_type": "code",
   "execution_count": 56,
   "metadata": {},
   "outputs": [],
   "source": [
    "bow4 = bow_transformer.transform([desc4])"
   ]
  },
  {
   "cell_type": "code",
   "execution_count": 57,
   "metadata": {},
   "outputs": [
    {
     "name": "stdout",
     "output_type": "stream",
     "text": [
      "shape:  (1, 16009)\n",
      "  (0, 168)\t1\n",
      "  (0, 202)\t1\n",
      "  (0, 522)\t1\n",
      "  (0, 530)\t1\n",
      "  (0, 578)\t1\n",
      "  (0, 886)\t1\n",
      "  (0, 896)\t1\n",
      "  (0, 1291)\t1\n",
      "  (0, 1319)\t1\n",
      "  (0, 1322)\t1\n",
      "  (0, 1419)\t1\n",
      "  (0, 1438)\t1\n",
      "  (0, 1662)\t1\n",
      "  (0, 1822)\t1\n",
      "  (0, 1953)\t1\n",
      "  (0, 1971)\t1\n",
      "  (0, 2224)\t1\n",
      "  (0, 2278)\t1\n",
      "  (0, 2355)\t1\n",
      "  (0, 2359)\t1\n",
      "  (0, 2489)\t1\n",
      "  (0, 2514)\t1\n",
      "  (0, 2531)\t1\n",
      "  (0, 2588)\t1\n",
      "  (0, 2649)\t1\n",
      "  :\t:\n",
      "  (0, 12668)\t1\n",
      "  (0, 12779)\t1\n",
      "  (0, 12793)\t1\n",
      "  (0, 12808)\t1\n",
      "  (0, 12858)\t1\n",
      "  (0, 12876)\t1\n",
      "  (0, 13012)\t1\n",
      "  (0, 13042)\t1\n",
      "  (0, 13299)\t1\n",
      "  (0, 13344)\t1\n",
      "  (0, 13526)\t1\n",
      "  (0, 13623)\t1\n",
      "  (0, 13866)\t1\n",
      "  (0, 13970)\t1\n",
      "  (0, 14030)\t1\n",
      "  (0, 14116)\t1\n",
      "  (0, 14254)\t1\n",
      "  (0, 14485)\t1\n",
      "  (0, 14781)\t1\n",
      "  (0, 14961)\t1\n",
      "  (0, 15694)\t1\n",
      "  (0, 15732)\t1\n",
      "  (0, 15789)\t1\n",
      "  (0, 15791)\t1\n",
      "  (0, 15865)\t1\n"
     ]
    }
   ],
   "source": [
    "print('shape: ',bow4.shape)\n",
    "print(bow4)"
   ]
  },
  {
   "cell_type": "code",
   "execution_count": 58,
   "metadata": {},
   "outputs": [
    {
     "name": "stderr",
     "output_type": "stream",
     "text": [
      "C:\\Users\\User\\anaconda3\\envs\\ML Technion\\lib\\site-packages\\sklearn\\utils\\deprecation.py:87: FutureWarning: Function get_feature_names is deprecated; get_feature_names is deprecated in 1.0 and will be removed in 1.2. Please use get_feature_names_out instead.\n",
      "  warnings.warn(msg, category=FutureWarning)\n"
     ]
    },
    {
     "data": {
      "text/plain": [
       "'achieving'"
      ]
     },
     "execution_count": 58,
     "metadata": {},
     "output_type": "execute_result"
    }
   ],
   "source": [
    "bow_transformer.get_feature_names()[168]"
   ]
  },
  {
   "cell_type": "code",
   "execution_count": 59,
   "metadata": {},
   "outputs": [
    {
     "ename": "KeyboardInterrupt",
     "evalue": "",
     "output_type": "error",
     "traceback": [
      "\u001b[1;31m---------------------------------------------------------------------------\u001b[0m",
      "\u001b[1;31mKeyboardInterrupt\u001b[0m                         Traceback (most recent call last)",
      "\u001b[1;32m~\\AppData\\Local\\Temp/ipykernel_13432/697769746.py\u001b[0m in \u001b[0;36m<module>\u001b[1;34m\u001b[0m\n\u001b[1;32m----> 1\u001b[1;33m \u001b[0mdesc_bow\u001b[0m \u001b[1;33m=\u001b[0m \u001b[0mbow_transformer\u001b[0m\u001b[1;33m.\u001b[0m\u001b[0mtransform\u001b[0m\u001b[1;33m(\u001b[0m\u001b[0mdf\u001b[0m\u001b[1;33m[\u001b[0m\u001b[1;34m'Description'\u001b[0m\u001b[1;33m]\u001b[0m\u001b[1;33m)\u001b[0m\u001b[1;33m\u001b[0m\u001b[1;33m\u001b[0m\u001b[0m\n\u001b[0m",
      "\u001b[1;32m~\\anaconda3\\envs\\ML Technion\\lib\\site-packages\\sklearn\\feature_extraction\\text.py\u001b[0m in \u001b[0;36mtransform\u001b[1;34m(self, raw_documents)\u001b[0m\n\u001b[0;32m   1368\u001b[0m \u001b[1;33m\u001b[0m\u001b[0m\n\u001b[0;32m   1369\u001b[0m         \u001b[1;31m# use the same matrix-building strategy as fit_transform\u001b[0m\u001b[1;33m\u001b[0m\u001b[1;33m\u001b[0m\u001b[0m\n\u001b[1;32m-> 1370\u001b[1;33m         \u001b[0m_\u001b[0m\u001b[1;33m,\u001b[0m \u001b[0mX\u001b[0m \u001b[1;33m=\u001b[0m \u001b[0mself\u001b[0m\u001b[1;33m.\u001b[0m\u001b[0m_count_vocab\u001b[0m\u001b[1;33m(\u001b[0m\u001b[0mraw_documents\u001b[0m\u001b[1;33m,\u001b[0m \u001b[0mfixed_vocab\u001b[0m\u001b[1;33m=\u001b[0m\u001b[1;32mTrue\u001b[0m\u001b[1;33m)\u001b[0m\u001b[1;33m\u001b[0m\u001b[1;33m\u001b[0m\u001b[0m\n\u001b[0m\u001b[0;32m   1371\u001b[0m         \u001b[1;32mif\u001b[0m \u001b[0mself\u001b[0m\u001b[1;33m.\u001b[0m\u001b[0mbinary\u001b[0m\u001b[1;33m:\u001b[0m\u001b[1;33m\u001b[0m\u001b[1;33m\u001b[0m\u001b[0m\n\u001b[0;32m   1372\u001b[0m             \u001b[0mX\u001b[0m\u001b[1;33m.\u001b[0m\u001b[0mdata\u001b[0m\u001b[1;33m.\u001b[0m\u001b[0mfill\u001b[0m\u001b[1;33m(\u001b[0m\u001b[1;36m1\u001b[0m\u001b[1;33m)\u001b[0m\u001b[1;33m\u001b[0m\u001b[1;33m\u001b[0m\u001b[0m\n",
      "\u001b[1;32m~\\anaconda3\\envs\\ML Technion\\lib\\site-packages\\sklearn\\feature_extraction\\text.py\u001b[0m in \u001b[0;36m_count_vocab\u001b[1;34m(self, raw_documents, fixed_vocab)\u001b[0m\n\u001b[0;32m   1218\u001b[0m         \u001b[1;32mfor\u001b[0m \u001b[0mdoc\u001b[0m \u001b[1;32min\u001b[0m \u001b[0mraw_documents\u001b[0m\u001b[1;33m:\u001b[0m\u001b[1;33m\u001b[0m\u001b[1;33m\u001b[0m\u001b[0m\n\u001b[0;32m   1219\u001b[0m             \u001b[0mfeature_counter\u001b[0m \u001b[1;33m=\u001b[0m \u001b[1;33m{\u001b[0m\u001b[1;33m}\u001b[0m\u001b[1;33m\u001b[0m\u001b[1;33m\u001b[0m\u001b[0m\n\u001b[1;32m-> 1220\u001b[1;33m             \u001b[1;32mfor\u001b[0m \u001b[0mfeature\u001b[0m \u001b[1;32min\u001b[0m \u001b[0manalyze\u001b[0m\u001b[1;33m(\u001b[0m\u001b[0mdoc\u001b[0m\u001b[1;33m)\u001b[0m\u001b[1;33m:\u001b[0m\u001b[1;33m\u001b[0m\u001b[1;33m\u001b[0m\u001b[0m\n\u001b[0m\u001b[0;32m   1221\u001b[0m                 \u001b[1;32mtry\u001b[0m\u001b[1;33m:\u001b[0m\u001b[1;33m\u001b[0m\u001b[1;33m\u001b[0m\u001b[0m\n\u001b[0;32m   1222\u001b[0m                     \u001b[0mfeature_idx\u001b[0m \u001b[1;33m=\u001b[0m \u001b[0mvocabulary\u001b[0m\u001b[1;33m[\u001b[0m\u001b[0mfeature\u001b[0m\u001b[1;33m]\u001b[0m\u001b[1;33m\u001b[0m\u001b[1;33m\u001b[0m\u001b[0m\n",
      "\u001b[1;32m~\\anaconda3\\envs\\ML Technion\\lib\\site-packages\\sklearn\\feature_extraction\\text.py\u001b[0m in \u001b[0;36m_analyze\u001b[1;34m(doc, analyzer, tokenizer, ngrams, preprocessor, decoder, stop_words)\u001b[0m\n\u001b[0;32m    108\u001b[0m         \u001b[0mdoc\u001b[0m \u001b[1;33m=\u001b[0m \u001b[0mdecoder\u001b[0m\u001b[1;33m(\u001b[0m\u001b[0mdoc\u001b[0m\u001b[1;33m)\u001b[0m\u001b[1;33m\u001b[0m\u001b[1;33m\u001b[0m\u001b[0m\n\u001b[0;32m    109\u001b[0m     \u001b[1;32mif\u001b[0m \u001b[0manalyzer\u001b[0m \u001b[1;32mis\u001b[0m \u001b[1;32mnot\u001b[0m \u001b[1;32mNone\u001b[0m\u001b[1;33m:\u001b[0m\u001b[1;33m\u001b[0m\u001b[1;33m\u001b[0m\u001b[0m\n\u001b[1;32m--> 110\u001b[1;33m         \u001b[0mdoc\u001b[0m \u001b[1;33m=\u001b[0m \u001b[0manalyzer\u001b[0m\u001b[1;33m(\u001b[0m\u001b[0mdoc\u001b[0m\u001b[1;33m)\u001b[0m\u001b[1;33m\u001b[0m\u001b[1;33m\u001b[0m\u001b[0m\n\u001b[0m\u001b[0;32m    111\u001b[0m     \u001b[1;32melse\u001b[0m\u001b[1;33m:\u001b[0m\u001b[1;33m\u001b[0m\u001b[1;33m\u001b[0m\u001b[0m\n\u001b[0;32m    112\u001b[0m         \u001b[1;32mif\u001b[0m \u001b[0mpreprocessor\u001b[0m \u001b[1;32mis\u001b[0m \u001b[1;32mnot\u001b[0m \u001b[1;32mNone\u001b[0m\u001b[1;33m:\u001b[0m\u001b[1;33m\u001b[0m\u001b[1;33m\u001b[0m\u001b[0m\n",
      "\u001b[1;32m~\\AppData\\Local\\Temp/ipykernel_13432/1983678949.py\u001b[0m in \u001b[0;36mtext_process\u001b[1;34m(text)\u001b[0m\n\u001b[0;32m     20\u001b[0m     \u001b[0mtext\u001b[0m \u001b[1;33m=\u001b[0m \u001b[0mre\u001b[0m\u001b[1;33m.\u001b[0m\u001b[0msub\u001b[0m\u001b[1;33m(\u001b[0m\u001b[1;34m'[%s]'\u001b[0m \u001b[1;33m%\u001b[0m \u001b[0mre\u001b[0m\u001b[1;33m.\u001b[0m\u001b[0mescape\u001b[0m\u001b[1;33m(\u001b[0m\u001b[0mstring\u001b[0m\u001b[1;33m.\u001b[0m\u001b[0mpunctuation\u001b[0m\u001b[1;33m)\u001b[0m\u001b[1;33m,\u001b[0m \u001b[1;34m''\u001b[0m\u001b[1;33m,\u001b[0m \u001b[0mtext\u001b[0m\u001b[1;33m)\u001b[0m\u001b[1;33m\u001b[0m\u001b[1;33m\u001b[0m\u001b[0m\n\u001b[0;32m     21\u001b[0m     \u001b[0mtext\u001b[0m \u001b[1;33m=\u001b[0m \u001b[0mre\u001b[0m\u001b[1;33m.\u001b[0m\u001b[0msub\u001b[0m\u001b[1;33m(\u001b[0m\u001b[1;34m'\\w*\\d\\w*'\u001b[0m\u001b[1;33m,\u001b[0m \u001b[1;34m''\u001b[0m\u001b[1;33m,\u001b[0m \u001b[0mtext\u001b[0m\u001b[1;33m)\u001b[0m\u001b[1;33m\u001b[0m\u001b[1;33m\u001b[0m\u001b[0m\n\u001b[1;32m---> 22\u001b[1;33m     \u001b[0mtext\u001b[0m \u001b[1;33m=\u001b[0m \u001b[1;33m[\u001b[0m\u001b[0mword\u001b[0m \u001b[1;32mfor\u001b[0m \u001b[0mword\u001b[0m \u001b[1;32min\u001b[0m \u001b[0mtext\u001b[0m\u001b[1;33m.\u001b[0m\u001b[0msplit\u001b[0m\u001b[1;33m(\u001b[0m\u001b[1;33m)\u001b[0m \u001b[1;32mif\u001b[0m \u001b[0mword\u001b[0m\u001b[1;33m.\u001b[0m\u001b[0mlower\u001b[0m\u001b[1;33m(\u001b[0m\u001b[1;33m)\u001b[0m \u001b[1;32mnot\u001b[0m \u001b[1;32min\u001b[0m \u001b[0mstopwords\u001b[0m\u001b[1;33m.\u001b[0m\u001b[0mwords\u001b[0m\u001b[1;33m(\u001b[0m\u001b[1;34m'english'\u001b[0m\u001b[1;33m)\u001b[0m\u001b[1;33m]\u001b[0m\u001b[1;33m\u001b[0m\u001b[1;33m\u001b[0m\u001b[0m\n\u001b[0m\u001b[0;32m     23\u001b[0m     \u001b[0mtext\u001b[0m \u001b[1;33m=\u001b[0m \u001b[0mlist\u001b[0m\u001b[1;33m(\u001b[0m\u001b[0mset\u001b[0m\u001b[1;33m(\u001b[0m\u001b[0mtext\u001b[0m\u001b[1;33m)\u001b[0m\u001b[1;33m)\u001b[0m\u001b[1;33m\u001b[0m\u001b[1;33m\u001b[0m\u001b[0m\n\u001b[0;32m     24\u001b[0m \u001b[1;33m\u001b[0m\u001b[0m\n",
      "\u001b[1;32m~\\AppData\\Local\\Temp/ipykernel_13432/1983678949.py\u001b[0m in \u001b[0;36m<listcomp>\u001b[1;34m(.0)\u001b[0m\n\u001b[0;32m     20\u001b[0m     \u001b[0mtext\u001b[0m \u001b[1;33m=\u001b[0m \u001b[0mre\u001b[0m\u001b[1;33m.\u001b[0m\u001b[0msub\u001b[0m\u001b[1;33m(\u001b[0m\u001b[1;34m'[%s]'\u001b[0m \u001b[1;33m%\u001b[0m \u001b[0mre\u001b[0m\u001b[1;33m.\u001b[0m\u001b[0mescape\u001b[0m\u001b[1;33m(\u001b[0m\u001b[0mstring\u001b[0m\u001b[1;33m.\u001b[0m\u001b[0mpunctuation\u001b[0m\u001b[1;33m)\u001b[0m\u001b[1;33m,\u001b[0m \u001b[1;34m''\u001b[0m\u001b[1;33m,\u001b[0m \u001b[0mtext\u001b[0m\u001b[1;33m)\u001b[0m\u001b[1;33m\u001b[0m\u001b[1;33m\u001b[0m\u001b[0m\n\u001b[0;32m     21\u001b[0m     \u001b[0mtext\u001b[0m \u001b[1;33m=\u001b[0m \u001b[0mre\u001b[0m\u001b[1;33m.\u001b[0m\u001b[0msub\u001b[0m\u001b[1;33m(\u001b[0m\u001b[1;34m'\\w*\\d\\w*'\u001b[0m\u001b[1;33m,\u001b[0m \u001b[1;34m''\u001b[0m\u001b[1;33m,\u001b[0m \u001b[0mtext\u001b[0m\u001b[1;33m)\u001b[0m\u001b[1;33m\u001b[0m\u001b[1;33m\u001b[0m\u001b[0m\n\u001b[1;32m---> 22\u001b[1;33m     \u001b[0mtext\u001b[0m \u001b[1;33m=\u001b[0m \u001b[1;33m[\u001b[0m\u001b[0mword\u001b[0m \u001b[1;32mfor\u001b[0m \u001b[0mword\u001b[0m \u001b[1;32min\u001b[0m \u001b[0mtext\u001b[0m\u001b[1;33m.\u001b[0m\u001b[0msplit\u001b[0m\u001b[1;33m(\u001b[0m\u001b[1;33m)\u001b[0m \u001b[1;32mif\u001b[0m \u001b[0mword\u001b[0m\u001b[1;33m.\u001b[0m\u001b[0mlower\u001b[0m\u001b[1;33m(\u001b[0m\u001b[1;33m)\u001b[0m \u001b[1;32mnot\u001b[0m \u001b[1;32min\u001b[0m \u001b[0mstopwords\u001b[0m\u001b[1;33m.\u001b[0m\u001b[0mwords\u001b[0m\u001b[1;33m(\u001b[0m\u001b[1;34m'english'\u001b[0m\u001b[1;33m)\u001b[0m\u001b[1;33m]\u001b[0m\u001b[1;33m\u001b[0m\u001b[1;33m\u001b[0m\u001b[0m\n\u001b[0m\u001b[0;32m     23\u001b[0m     \u001b[0mtext\u001b[0m \u001b[1;33m=\u001b[0m \u001b[0mlist\u001b[0m\u001b[1;33m(\u001b[0m\u001b[0mset\u001b[0m\u001b[1;33m(\u001b[0m\u001b[0mtext\u001b[0m\u001b[1;33m)\u001b[0m\u001b[1;33m)\u001b[0m\u001b[1;33m\u001b[0m\u001b[1;33m\u001b[0m\u001b[0m\n\u001b[0;32m     24\u001b[0m \u001b[1;33m\u001b[0m\u001b[0m\n",
      "\u001b[1;32m~\\anaconda3\\envs\\ML Technion\\lib\\site-packages\\nltk\\corpus\\reader\\wordlist.py\u001b[0m in \u001b[0;36mwords\u001b[1;34m(self, fileids, ignore_lines_startswith)\u001b[0m\n\u001b[0;32m     19\u001b[0m         return [\n\u001b[0;32m     20\u001b[0m             \u001b[0mline\u001b[0m\u001b[1;33m\u001b[0m\u001b[1;33m\u001b[0m\u001b[0m\n\u001b[1;32m---> 21\u001b[1;33m             \u001b[1;32mfor\u001b[0m \u001b[0mline\u001b[0m \u001b[1;32min\u001b[0m \u001b[0mline_tokenize\u001b[0m\u001b[1;33m(\u001b[0m\u001b[0mself\u001b[0m\u001b[1;33m.\u001b[0m\u001b[0mraw\u001b[0m\u001b[1;33m(\u001b[0m\u001b[0mfileids\u001b[0m\u001b[1;33m)\u001b[0m\u001b[1;33m)\u001b[0m\u001b[1;33m\u001b[0m\u001b[1;33m\u001b[0m\u001b[0m\n\u001b[0m\u001b[0;32m     22\u001b[0m             \u001b[1;32mif\u001b[0m \u001b[1;32mnot\u001b[0m \u001b[0mline\u001b[0m\u001b[1;33m.\u001b[0m\u001b[0mstartswith\u001b[0m\u001b[1;33m(\u001b[0m\u001b[0mignore_lines_startswith\u001b[0m\u001b[1;33m)\u001b[0m\u001b[1;33m\u001b[0m\u001b[1;33m\u001b[0m\u001b[0m\n\u001b[0;32m     23\u001b[0m         ]\n",
      "\u001b[1;32m~\\anaconda3\\envs\\ML Technion\\lib\\site-packages\\nltk\\corpus\\reader\\api.py\u001b[0m in \u001b[0;36mraw\u001b[1;34m(self, fileids)\u001b[0m\n\u001b[0;32m    215\u001b[0m         \u001b[0mcontents\u001b[0m \u001b[1;33m=\u001b[0m \u001b[1;33m[\u001b[0m\u001b[1;33m]\u001b[0m\u001b[1;33m\u001b[0m\u001b[1;33m\u001b[0m\u001b[0m\n\u001b[0;32m    216\u001b[0m         \u001b[1;32mfor\u001b[0m \u001b[0mf\u001b[0m \u001b[1;32min\u001b[0m \u001b[0mfileids\u001b[0m\u001b[1;33m:\u001b[0m\u001b[1;33m\u001b[0m\u001b[1;33m\u001b[0m\u001b[0m\n\u001b[1;32m--> 217\u001b[1;33m             \u001b[1;32mwith\u001b[0m \u001b[0mself\u001b[0m\u001b[1;33m.\u001b[0m\u001b[0mopen\u001b[0m\u001b[1;33m(\u001b[0m\u001b[0mf\u001b[0m\u001b[1;33m)\u001b[0m \u001b[1;32mas\u001b[0m \u001b[0mfp\u001b[0m\u001b[1;33m:\u001b[0m\u001b[1;33m\u001b[0m\u001b[1;33m\u001b[0m\u001b[0m\n\u001b[0m\u001b[0;32m    218\u001b[0m                 \u001b[0mcontents\u001b[0m\u001b[1;33m.\u001b[0m\u001b[0mappend\u001b[0m\u001b[1;33m(\u001b[0m\u001b[0mfp\u001b[0m\u001b[1;33m.\u001b[0m\u001b[0mread\u001b[0m\u001b[1;33m(\u001b[0m\u001b[1;33m)\u001b[0m\u001b[1;33m)\u001b[0m\u001b[1;33m\u001b[0m\u001b[1;33m\u001b[0m\u001b[0m\n\u001b[0;32m    219\u001b[0m         \u001b[1;32mreturn\u001b[0m \u001b[0mconcat\u001b[0m\u001b[1;33m(\u001b[0m\u001b[0mcontents\u001b[0m\u001b[1;33m)\u001b[0m\u001b[1;33m\u001b[0m\u001b[1;33m\u001b[0m\u001b[0m\n",
      "\u001b[1;32m~\\anaconda3\\envs\\ML Technion\\lib\\site-packages\\nltk\\corpus\\reader\\api.py\u001b[0m in \u001b[0;36mopen\u001b[1;34m(self, file)\u001b[0m\n\u001b[0;32m    228\u001b[0m         \"\"\"\n\u001b[0;32m    229\u001b[0m         \u001b[0mencoding\u001b[0m \u001b[1;33m=\u001b[0m \u001b[0mself\u001b[0m\u001b[1;33m.\u001b[0m\u001b[0mencoding\u001b[0m\u001b[1;33m(\u001b[0m\u001b[0mfile\u001b[0m\u001b[1;33m)\u001b[0m\u001b[1;33m\u001b[0m\u001b[1;33m\u001b[0m\u001b[0m\n\u001b[1;32m--> 230\u001b[1;33m         \u001b[0mstream\u001b[0m \u001b[1;33m=\u001b[0m \u001b[0mself\u001b[0m\u001b[1;33m.\u001b[0m\u001b[0m_root\u001b[0m\u001b[1;33m.\u001b[0m\u001b[0mjoin\u001b[0m\u001b[1;33m(\u001b[0m\u001b[0mfile\u001b[0m\u001b[1;33m)\u001b[0m\u001b[1;33m.\u001b[0m\u001b[0mopen\u001b[0m\u001b[1;33m(\u001b[0m\u001b[0mencoding\u001b[0m\u001b[1;33m)\u001b[0m\u001b[1;33m\u001b[0m\u001b[1;33m\u001b[0m\u001b[0m\n\u001b[0m\u001b[0;32m    231\u001b[0m         \u001b[1;32mreturn\u001b[0m \u001b[0mstream\u001b[0m\u001b[1;33m\u001b[0m\u001b[1;33m\u001b[0m\u001b[0m\n\u001b[0;32m    232\u001b[0m \u001b[1;33m\u001b[0m\u001b[0m\n",
      "\u001b[1;32m~\\anaconda3\\envs\\ML Technion\\lib\\site-packages\\nltk\\data.py\u001b[0m in \u001b[0;36mjoin\u001b[1;34m(self, fileid)\u001b[0m\n\u001b[0;32m    332\u001b[0m     \u001b[1;32mdef\u001b[0m \u001b[0mjoin\u001b[0m\u001b[1;33m(\u001b[0m\u001b[0mself\u001b[0m\u001b[1;33m,\u001b[0m \u001b[0mfileid\u001b[0m\u001b[1;33m)\u001b[0m\u001b[1;33m:\u001b[0m\u001b[1;33m\u001b[0m\u001b[1;33m\u001b[0m\u001b[0m\n\u001b[0;32m    333\u001b[0m         \u001b[0m_path\u001b[0m \u001b[1;33m=\u001b[0m \u001b[0mos\u001b[0m\u001b[1;33m.\u001b[0m\u001b[0mpath\u001b[0m\u001b[1;33m.\u001b[0m\u001b[0mjoin\u001b[0m\u001b[1;33m(\u001b[0m\u001b[0mself\u001b[0m\u001b[1;33m.\u001b[0m\u001b[0m_path\u001b[0m\u001b[1;33m,\u001b[0m \u001b[0mfileid\u001b[0m\u001b[1;33m)\u001b[0m\u001b[1;33m\u001b[0m\u001b[1;33m\u001b[0m\u001b[0m\n\u001b[1;32m--> 334\u001b[1;33m         \u001b[1;32mreturn\u001b[0m \u001b[0mFileSystemPathPointer\u001b[0m\u001b[1;33m(\u001b[0m\u001b[0m_path\u001b[0m\u001b[1;33m)\u001b[0m\u001b[1;33m\u001b[0m\u001b[1;33m\u001b[0m\u001b[0m\n\u001b[0m\u001b[0;32m    335\u001b[0m \u001b[1;33m\u001b[0m\u001b[0m\n\u001b[0;32m    336\u001b[0m     \u001b[1;32mdef\u001b[0m \u001b[0m__repr__\u001b[0m\u001b[1;33m(\u001b[0m\u001b[0mself\u001b[0m\u001b[1;33m)\u001b[0m\u001b[1;33m:\u001b[0m\u001b[1;33m\u001b[0m\u001b[1;33m\u001b[0m\u001b[0m\n",
      "\u001b[1;32m~\\anaconda3\\envs\\ML Technion\\lib\\site-packages\\nltk\\compat.py\u001b[0m in \u001b[0;36m_decorator\u001b[1;34m(*args, **kwargs)\u001b[0m\n\u001b[0;32m     39\u001b[0m     \u001b[1;32mdef\u001b[0m \u001b[0m_decorator\u001b[0m\u001b[1;33m(\u001b[0m\u001b[1;33m*\u001b[0m\u001b[0margs\u001b[0m\u001b[1;33m,\u001b[0m \u001b[1;33m**\u001b[0m\u001b[0mkwargs\u001b[0m\u001b[1;33m)\u001b[0m\u001b[1;33m:\u001b[0m\u001b[1;33m\u001b[0m\u001b[1;33m\u001b[0m\u001b[0m\n\u001b[0;32m     40\u001b[0m         \u001b[0margs\u001b[0m \u001b[1;33m=\u001b[0m \u001b[1;33m(\u001b[0m\u001b[0margs\u001b[0m\u001b[1;33m[\u001b[0m\u001b[1;36m0\u001b[0m\u001b[1;33m]\u001b[0m\u001b[1;33m,\u001b[0m \u001b[0madd_py3_data\u001b[0m\u001b[1;33m(\u001b[0m\u001b[0margs\u001b[0m\u001b[1;33m[\u001b[0m\u001b[1;36m1\u001b[0m\u001b[1;33m]\u001b[0m\u001b[1;33m)\u001b[0m\u001b[1;33m)\u001b[0m \u001b[1;33m+\u001b[0m \u001b[0margs\u001b[0m\u001b[1;33m[\u001b[0m\u001b[1;36m2\u001b[0m\u001b[1;33m:\u001b[0m\u001b[1;33m]\u001b[0m\u001b[1;33m\u001b[0m\u001b[1;33m\u001b[0m\u001b[0m\n\u001b[1;32m---> 41\u001b[1;33m         \u001b[1;32mreturn\u001b[0m \u001b[0minit_func\u001b[0m\u001b[1;33m(\u001b[0m\u001b[1;33m*\u001b[0m\u001b[0margs\u001b[0m\u001b[1;33m,\u001b[0m \u001b[1;33m**\u001b[0m\u001b[0mkwargs\u001b[0m\u001b[1;33m)\u001b[0m\u001b[1;33m\u001b[0m\u001b[1;33m\u001b[0m\u001b[0m\n\u001b[0m\u001b[0;32m     42\u001b[0m \u001b[1;33m\u001b[0m\u001b[0m\n\u001b[0;32m     43\u001b[0m     \u001b[1;32mreturn\u001b[0m \u001b[0mwraps\u001b[0m\u001b[1;33m(\u001b[0m\u001b[0minit_func\u001b[0m\u001b[1;33m)\u001b[0m\u001b[1;33m(\u001b[0m\u001b[0m_decorator\u001b[0m\u001b[1;33m)\u001b[0m\u001b[1;33m\u001b[0m\u001b[1;33m\u001b[0m\u001b[0m\n",
      "\u001b[1;32m~\\anaconda3\\envs\\ML Technion\\lib\\site-packages\\nltk\\data.py\u001b[0m in \u001b[0;36m__init__\u001b[1;34m(self, _path)\u001b[0m\n\u001b[0;32m    309\u001b[0m \u001b[1;33m\u001b[0m\u001b[0m\n\u001b[0;32m    310\u001b[0m         \u001b[0m_path\u001b[0m \u001b[1;33m=\u001b[0m \u001b[0mos\u001b[0m\u001b[1;33m.\u001b[0m\u001b[0mpath\u001b[0m\u001b[1;33m.\u001b[0m\u001b[0mabspath\u001b[0m\u001b[1;33m(\u001b[0m\u001b[0m_path\u001b[0m\u001b[1;33m)\u001b[0m\u001b[1;33m\u001b[0m\u001b[1;33m\u001b[0m\u001b[0m\n\u001b[1;32m--> 311\u001b[1;33m         \u001b[1;32mif\u001b[0m \u001b[1;32mnot\u001b[0m \u001b[0mos\u001b[0m\u001b[1;33m.\u001b[0m\u001b[0mpath\u001b[0m\u001b[1;33m.\u001b[0m\u001b[0mexists\u001b[0m\u001b[1;33m(\u001b[0m\u001b[0m_path\u001b[0m\u001b[1;33m)\u001b[0m\u001b[1;33m:\u001b[0m\u001b[1;33m\u001b[0m\u001b[1;33m\u001b[0m\u001b[0m\n\u001b[0m\u001b[0;32m    312\u001b[0m             \u001b[1;32mraise\u001b[0m \u001b[0mOSError\u001b[0m\u001b[1;33m(\u001b[0m\u001b[1;34m\"No such file or directory: %r\"\u001b[0m \u001b[1;33m%\u001b[0m \u001b[0m_path\u001b[0m\u001b[1;33m)\u001b[0m\u001b[1;33m\u001b[0m\u001b[1;33m\u001b[0m\u001b[0m\n\u001b[0;32m    313\u001b[0m         \u001b[0mself\u001b[0m\u001b[1;33m.\u001b[0m\u001b[0m_path\u001b[0m \u001b[1;33m=\u001b[0m \u001b[0m_path\u001b[0m\u001b[1;33m\u001b[0m\u001b[1;33m\u001b[0m\u001b[0m\n",
      "\u001b[1;32m~\\anaconda3\\envs\\ML Technion\\lib\\genericpath.py\u001b[0m in \u001b[0;36mexists\u001b[1;34m(path)\u001b[0m\n\u001b[0;32m     17\u001b[0m     \u001b[1;34m\"\"\"Test whether a path exists.  Returns False for broken symbolic links\"\"\"\u001b[0m\u001b[1;33m\u001b[0m\u001b[1;33m\u001b[0m\u001b[0m\n\u001b[0;32m     18\u001b[0m     \u001b[1;32mtry\u001b[0m\u001b[1;33m:\u001b[0m\u001b[1;33m\u001b[0m\u001b[1;33m\u001b[0m\u001b[0m\n\u001b[1;32m---> 19\u001b[1;33m         \u001b[0mos\u001b[0m\u001b[1;33m.\u001b[0m\u001b[0mstat\u001b[0m\u001b[1;33m(\u001b[0m\u001b[0mpath\u001b[0m\u001b[1;33m)\u001b[0m\u001b[1;33m\u001b[0m\u001b[1;33m\u001b[0m\u001b[0m\n\u001b[0m\u001b[0;32m     20\u001b[0m     \u001b[1;32mexcept\u001b[0m \u001b[1;33m(\u001b[0m\u001b[0mOSError\u001b[0m\u001b[1;33m,\u001b[0m \u001b[0mValueError\u001b[0m\u001b[1;33m)\u001b[0m\u001b[1;33m:\u001b[0m\u001b[1;33m\u001b[0m\u001b[1;33m\u001b[0m\u001b[0m\n\u001b[0;32m     21\u001b[0m         \u001b[1;32mreturn\u001b[0m \u001b[1;32mFalse\u001b[0m\u001b[1;33m\u001b[0m\u001b[1;33m\u001b[0m\u001b[0m\n",
      "\u001b[1;31mKeyboardInterrupt\u001b[0m: "
     ]
    }
   ],
   "source": [
    "desc_bow = bow_transformer.transform(df['Description'])"
   ]
  },
  {
   "cell_type": "code",
   "execution_count": null,
   "metadata": {},
   "outputs": [],
   "source": [
    "print('Shape of Sparse Matrix: ', desc_bow.shape)"
   ]
  },
  {
   "cell_type": "code",
   "execution_count": null,
   "metadata": {},
   "outputs": [],
   "source": [
    "desc_bow.nnz"
   ]
  },
  {
   "cell_type": "markdown",
   "metadata": {},
   "source": [
    "## TF-IDF"
   ]
  },
  {
   "cell_type": "code",
   "execution_count": null,
   "metadata": {},
   "outputs": [],
   "source": [
    "from sklearn.feature_extraction.text import TfidfTransformer"
   ]
  },
  {
   "cell_type": "code",
   "execution_count": null,
   "metadata": {},
   "outputs": [],
   "source": [
    "tfidf_transformer = TfidfTransformer().fit(desc_bow)"
   ]
  },
  {
   "cell_type": "code",
   "execution_count": null,
   "metadata": {},
   "outputs": [],
   "source": [
    "tfidf4 = tfidf_transformer.transform(bow4)"
   ]
  },
  {
   "cell_type": "code",
   "execution_count": null,
   "metadata": {},
   "outputs": [],
   "source": [
    "print(tfidf4)"
   ]
  },
  {
   "cell_type": "code",
   "execution_count": null,
   "metadata": {},
   "outputs": [],
   "source": [
    "tfidf_transformer.idf_[bow_transformer.vocabulary_['salary']]"
   ]
  },
  {
   "cell_type": "code",
   "execution_count": null,
   "metadata": {},
   "outputs": [],
   "source": [
    "desc_tfidf = tfidf_transformer.transform(desc_bow)"
   ]
  },
  {
   "cell_type": "markdown",
   "metadata": {},
   "source": [
    "## Naive bayes"
   ]
  },
  {
   "cell_type": "code",
   "execution_count": null,
   "metadata": {},
   "outputs": [],
   "source": [
    "from sklearn.naive_bayes import MultinomialNB"
   ]
  },
  {
   "cell_type": "code",
   "execution_count": null,
   "metadata": {},
   "outputs": [],
   "source": [
    "nb_model = MultinomialNB().fit(desc_tfidf, df['JobTitle'])"
   ]
  },
  {
   "cell_type": "code",
   "execution_count": null,
   "metadata": {},
   "outputs": [],
   "source": [
    "nb_model.predict(tfidf4)[0]"
   ]
  },
  {
   "cell_type": "code",
   "execution_count": null,
   "metadata": {},
   "outputs": [],
   "source": [
    "df.iloc[[3],:]"
   ]
  },
  {
   "cell_type": "code",
   "execution_count": null,
   "metadata": {},
   "outputs": [],
   "source": [
    "from sklearn.model_selection import train_test_split"
   ]
  },
  {
   "cell_type": "code",
   "execution_count": null,
   "metadata": {},
   "outputs": [],
   "source": [
    "X_train, X_test, y_train, y_test = train_test_split(df['Description'], df['JobTitle'], test_size=0.3, random_state=42)"
   ]
  },
  {
   "cell_type": "code",
   "execution_count": null,
   "metadata": {},
   "outputs": [],
   "source": [
    "from sklearn.pipeline import Pipeline"
   ]
  },
  {
   "cell_type": "code",
   "execution_count": null,
   "metadata": {},
   "outputs": [],
   "source": [
    "pipline = Pipeline([\n",
    "    ('bow', CountVectorizer(analyzer=text_process)),\n",
    "    ('tfidf', TfidfTransformer()),\n",
    "    ('classifier', MultinomialNB())\n",
    "])"
   ]
  },
  {
   "cell_type": "code",
   "execution_count": null,
   "metadata": {},
   "outputs": [],
   "source": [
    "pipline.fit(X_train,y_train)"
   ]
  },
  {
   "cell_type": "code",
   "execution_count": null,
   "metadata": {},
   "outputs": [],
   "source": [
    "predictions = pipline.predict(X_test)"
   ]
  },
  {
   "cell_type": "code",
   "execution_count": null,
   "metadata": {},
   "outputs": [],
   "source": [
    "from sklearn.metrics import classification_report"
   ]
  },
  {
   "cell_type": "code",
   "execution_count": null,
   "metadata": {},
   "outputs": [],
   "source": [
    "print(classification_report(y_test, predictions))"
   ]
  },
  {
   "cell_type": "markdown",
   "metadata": {},
   "source": [
    "## RandomForestClassifier"
   ]
  },
  {
   "cell_type": "code",
   "execution_count": null,
   "metadata": {},
   "outputs": [],
   "source": [
    "from sklearn.ensemble import RandomForestClassifier"
   ]
  },
  {
   "cell_type": "code",
   "execution_count": null,
   "metadata": {},
   "outputs": [],
   "source": [
    "pipline = Pipeline([\n",
    "    ('bow', CountVectorizer(analyzer=text_process)),\n",
    "    ('tfidf', TfidfTransformer()),\n",
    "    ('classifier', RandomForestClassifier())\n",
    "])"
   ]
  },
  {
   "cell_type": "code",
   "execution_count": null,
   "metadata": {},
   "outputs": [],
   "source": [
    "pipline.fit(X_train,y_train)"
   ]
  },
  {
   "cell_type": "code",
   "execution_count": null,
   "metadata": {},
   "outputs": [],
   "source": [
    "predictions = pipline.predict(X_test)"
   ]
  },
  {
   "cell_type": "code",
   "execution_count": null,
   "metadata": {},
   "outputs": [],
   "source": [
    "print(classification_report(y_test, predictions))"
   ]
  },
  {
   "cell_type": "code",
   "execution_count": null,
   "metadata": {},
   "outputs": [],
   "source": []
  },
  {
   "cell_type": "code",
   "execution_count": null,
   "metadata": {},
   "outputs": [],
   "source": []
  }
 ],
 "metadata": {
  "kernelspec": {
   "display_name": "Python 3 (ipykernel)",
   "language": "python",
   "name": "python3"
  },
  "language_info": {
   "codemirror_mode": {
    "name": "ipython",
    "version": 3
   },
   "file_extension": ".py",
   "mimetype": "text/x-python",
   "name": "python",
   "nbconvert_exporter": "python",
   "pygments_lexer": "ipython3",
   "version": "3.9.7"
  }
 },
 "nbformat": 4,
 "nbformat_minor": 4
}
