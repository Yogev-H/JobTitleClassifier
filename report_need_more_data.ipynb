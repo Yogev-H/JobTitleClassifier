{
 "cells": [
  {
   "cell_type": "markdown",
   "metadata": {},
   "source": [
    "# Imports"
   ]
  },
  {
   "cell_type": "code",
   "execution_count": 1,
   "metadata": {},
   "outputs": [
    {
     "name": "stderr",
     "output_type": "stream",
     "text": [
      "[nltk_data] Downloading package stopwords to\n",
      "[nltk_data]     C:\\Users\\User\\AppData\\Roaming\\nltk_data...\n",
      "[nltk_data]   Package stopwords is already up-to-date!\n",
      "[nltk_data] Downloading package wordnet to\n",
      "[nltk_data]     C:\\Users\\User\\AppData\\Roaming\\nltk_data...\n",
      "[nltk_data]   Package wordnet is already up-to-date!\n"
     ]
    }
   ],
   "source": [
    "import pandas as pd\n",
    "import numpy as np\n",
    "import glob\n",
    "import re\n",
    "import string\n",
    "from bs4 import BeautifulSoup\n",
    "\n",
    "# sklearn\n",
    "from sklearn.feature_extraction.text import CountVectorizer,TfidfTransformer\n",
    "from sklearn.naive_bayes import MultinomialNB\n",
    "from sklearn.ensemble import RandomForestClassifier\n",
    "from sklearn.model_selection import train_test_split,GridSearchCV\n",
    "from sklearn.pipeline import Pipeline\n",
    "from sklearn.metrics import classification_report, precision_score, recall_score, f1_score\n",
    "\n",
    "# nltk\n",
    "import nltk\n",
    "nltk.download('stopwords')\n",
    "nltk.download('wordnet')\n",
    "from nltk.stem import WordNetLemmatizer\n",
    "from nltk.stem import PorterStemmer\n",
    "from nltk.tokenize import word_tokenize\n",
    "from nltk.corpus import stopwords \n",
    "\n",
    "# visualization \n",
    "import matplotlib.pyplot as plt\n",
    "import seaborn as sns\n",
    "%matplotlib inline"
   ]
  },
  {
   "cell_type": "code",
   "execution_count": 56,
   "metadata": {},
   "outputs": [],
   "source": [
    "df = pd.read_csv('datasets\\processed_reshaped_data.csv')"
   ]
  },
  {
   "cell_type": "code",
   "execution_count": 13,
   "metadata": {},
   "outputs": [
    {
     "data": {
      "text/plain": [
       "(642, 2)"
      ]
     },
     "execution_count": 13,
     "metadata": {},
     "output_type": "execute_result"
    }
   ],
   "source": [
    "df.shape"
   ]
  },
  {
   "cell_type": "code",
   "execution_count": 4,
   "metadata": {},
   "outputs": [],
   "source": [
    "X_train, X_test, y_train, y_test = train_test_split(df['Description'], df['JobTitle'], test_size=0.3,\n",
    "                                                    random_state=42, stratify=df['JobTitle'])"
   ]
  },
  {
   "cell_type": "markdown",
   "metadata": {
    "tags": []
   },
   "source": [
    "## RandomForestClassifier"
   ]
  },
  {
   "cell_type": "code",
   "execution_count": 5,
   "metadata": {},
   "outputs": [],
   "source": [
    "rf = RandomForestClassifier()\n",
    "\n",
    "pipline = Pipeline(steps=[\n",
    "    ('bow', CountVectorizer()),\n",
    "    ('tfidf', TfidfTransformer()),\n",
    "    ('model', rf)\n",
    "])"
   ]
  },
  {
   "cell_type": "code",
   "execution_count": 6,
   "metadata": {},
   "outputs": [],
   "source": [
    "from sklearn.model_selection import RandomizedSearchCV\n",
    "\n",
    "# Number of trees in random forest\n",
    "n_estimators = [int(x) for x in np.linspace(start = 200, stop = 1000, num = 5)]\n",
    "# Number of features to consider at every split\n",
    "max_features = ['auto', 'sqrt']\n",
    "# Maximum number of levels in tree\n",
    "max_depth = [int(x) for x in np.linspace(2, 15, num = 5)]\n",
    "max_depth.append(None)\n",
    "# Minimum number of samples required to split a node\n",
    "min_samples_split = [2, 5, 10]\n",
    "# Minimum number of samples required at each leaf node\n",
    "min_samples_leaf = [1, 2, 4]\n",
    "# Method of selecting samples for training each tree\n",
    "bootstrap = [True, False]"
   ]
  },
  {
   "cell_type": "markdown",
   "metadata": {},
   "source": [
    "On each iteration, the algorithm will choose a difference combination of the features. Altogether, there are 5 * 2 * 6 * 3 * 3 * 2 = 1080 settings! However, the benefit of a random search is that we are not trying every combination, but selecting at random to sample a wide range of values."
   ]
  },
  {
   "cell_type": "code",
   "execution_count": 7,
   "metadata": {},
   "outputs": [],
   "source": [
    "# hyperparameter tuning\n",
    "def grid_search():\n",
    "    param_grid = {\n",
    "        'model__n_estimators': n_estimators,\n",
    "        'model__max_features': max_features,\n",
    "        'model__max_depth': max_depth,\n",
    "        'model__min_samples_split': min_samples_split,\n",
    "        'model__min_samples_leaf': min_samples_leaf,\n",
    "        'model__bootstrap': bootstrap\n",
    "    }\n",
    "\n",
    "    search = RandomizedSearchCV(pipline, param_grid, cv=5, n_jobs=-1)\n",
    "    search.fit(X_train,y_train)\n",
    "\n",
    "    print(\"Best parameter (CV score=%0.3f):\" % search.best_score_)\n",
    "    print(search.best_params_)"
   ]
  },
  {
   "cell_type": "code",
   "execution_count": 8,
   "metadata": {},
   "outputs": [
    {
     "name": "stdout",
     "output_type": "stream",
     "text": [
      "Best parameter (CV score=0.920):\n",
      "{'model__n_estimators': 800, 'model__min_samples_split': 5, 'model__min_samples_leaf': 2, 'model__max_features': 'sqrt', 'model__max_depth': None, 'model__bootstrap': False}\n",
      "execution time in minutes:  0.9659295996030172\n"
     ]
    }
   ],
   "source": [
    "import time\n",
    "\n",
    "start = time.time()\n",
    "\n",
    "grid_search()\n",
    "\n",
    "end = time.time()\n",
    "print('execution time in minutes: ', (end - start)/60) "
   ]
  },
  {
   "cell_type": "code",
   "execution_count": 9,
   "metadata": {},
   "outputs": [],
   "source": [
    "# adding best hyperparameter\n",
    "\n",
    "rf = RandomForestClassifier(min_samples_split = 10, max_depth=None, n_estimators = 800, min_samples_leaf = 2,\n",
    "                            max_features = 'auto',bootstrap = True)\n",
    "\n",
    "pipline = Pipeline(steps=[\n",
    "    ('bow', CountVectorizer()),\n",
    "    ('tfidf', TfidfTransformer()),\n",
    "    ('model', rf)\n",
    "])"
   ]
  },
  {
   "cell_type": "code",
   "execution_count": 10,
   "metadata": {},
   "outputs": [
    {
     "data": {
      "text/plain": [
       "Pipeline(steps=[('bow', CountVectorizer()), ('tfidf', TfidfTransformer()),\n",
       "                ('model',\n",
       "                 RandomForestClassifier(min_samples_leaf=2,\n",
       "                                        min_samples_split=10,\n",
       "                                        n_estimators=800))])"
      ]
     },
     "execution_count": 10,
     "metadata": {},
     "output_type": "execute_result"
    }
   ],
   "source": [
    "pipline.fit(X_train,y_train)"
   ]
  },
  {
   "cell_type": "code",
   "execution_count": 11,
   "metadata": {},
   "outputs": [],
   "source": [
    "predictions = pipline.predict(X_test)"
   ]
  },
  {
   "cell_type": "markdown",
   "metadata": {},
   "source": [
    "## Code to find out if we need more data"
   ]
  },
  {
   "cell_type": "code",
   "execution_count": 218,
   "metadata": {},
   "outputs": [
    {
     "name": "stderr",
     "output_type": "stream",
     "text": [
      "C:\\Users\\User\\anaconda3\\envs\\ML Technion\\lib\\site-packages\\sklearn\\metrics\\_classification.py:1308: UndefinedMetricWarning: Precision and F-score are ill-defined and being set to 0.0 in labels with no predicted samples. Use `zero_division` parameter to control this behavior.\n",
      "  _warn_prf(average, modifier, msg_start, len(result))\n",
      "C:\\Users\\User\\anaconda3\\envs\\ML Technion\\lib\\site-packages\\sklearn\\metrics\\_classification.py:1308: UndefinedMetricWarning: Precision and F-score are ill-defined and being set to 0.0 in labels with no predicted samples. Use `zero_division` parameter to control this behavior.\n",
      "  _warn_prf(average, modifier, msg_start, len(result))\n",
      "C:\\Users\\User\\anaconda3\\envs\\ML Technion\\lib\\site-packages\\sklearn\\metrics\\_classification.py:1308: UndefinedMetricWarning: Precision and F-score are ill-defined and being set to 0.0 in labels with no predicted samples. Use `zero_division` parameter to control this behavior.\n",
      "  _warn_prf(average, modifier, msg_start, len(result))\n"
     ]
    }
   ],
   "source": [
    "df_report = pd.DataFrame(classification_report(y_test, predictions, output_dict=True)).transpose()"
   ]
  },
  {
   "cell_type": "code",
   "execution_count": 259,
   "metadata": {},
   "outputs": [],
   "source": [
    "df_report = df_report[:-3]"
   ]
  },
  {
   "cell_type": "code",
   "execution_count": 220,
   "metadata": {},
   "outputs": [
    {
     "data": {
      "text/plain": [
       "<AxesSubplot:>"
      ]
     },
     "execution_count": 220,
     "metadata": {},
     "output_type": "execute_result"
    },
    {
     "data": {
      "image/png": "[encoded data removed]",
      "text/plain": [
       "<Figure size 432x288 with 1 Axes>"
      ]
     },
     "metadata": {
      "needs_background": "light"
     },
     "output_type": "display_data"
    }
   ],
   "source": [
    "df.JobTitle.value_counts().hist(bins=20)"
   ]
  },
  {
   "cell_type": "code",
   "execution_count": 221,
   "metadata": {},
   "outputs": [],
   "source": [
    "df1 = df.JobTitle.value_counts().to_frame().sort_index()\n",
    "df1.rename({'JobTitle':'Count'}, inplace=True,axis='columns')"
   ]
  },
  {
   "cell_type": "code",
   "execution_count": 228,
   "metadata": {},
   "outputs": [],
   "source": [
    "df_report = pd.concat([df_report, df1], axis=1)"
   ]
  },
  {
   "cell_type": "code",
   "execution_count": 231,
   "metadata": {},
   "outputs": [
    {
     "data": {
      "text/html": [
       "<div>\n",
       "<style scoped>\n",
       "    .dataframe tbody tr th:only-of-type {\n",
       "        vertical-align: middle;\n",
       "    }\n",
       "\n",
       "    .dataframe tbody tr th {\n",
       "        vertical-align: top;\n",
       "    }\n",
       "\n",
       "    .dataframe thead th {\n",
       "        text-align: right;\n",
       "    }\n",
       "</style>\n",
       "<table border=\"1\" class=\"dataframe\">\n",
       "  <thead>\n",
       "    <tr style=\"text-align: right;\">\n",
       "      <th></th>\n",
       "      <th>precision</th>\n",
       "      <th>recall</th>\n",
       "      <th>f1-score</th>\n",
       "      <th>support</th>\n",
       "      <th>Count</th>\n",
       "    </tr>\n",
       "  </thead>\n",
       "  <tbody>\n",
       "    <tr>\n",
       "      <th>Assistant Director of Nursing</th>\n",
       "      <td>1.0</td>\n",
       "      <td>0.333333</td>\n",
       "      <td>0.500000</td>\n",
       "      <td>3.0</td>\n",
       "      <td>11</td>\n",
       "    </tr>\n",
       "    <tr>\n",
       "      <th>Data Science Director</th>\n",
       "      <td>1.0</td>\n",
       "      <td>0.333333</td>\n",
       "      <td>0.500000</td>\n",
       "      <td>6.0</td>\n",
       "      <td>19</td>\n",
       "    </tr>\n",
       "    <tr>\n",
       "      <th>Maintenance Planner</th>\n",
       "      <td>1.0</td>\n",
       "      <td>0.800000</td>\n",
       "      <td>0.888889</td>\n",
       "      <td>5.0</td>\n",
       "      <td>16</td>\n",
       "    </tr>\n",
       "    <tr>\n",
       "      <th>Neuropsychologist</th>\n",
       "      <td>0.0</td>\n",
       "      <td>0.000000</td>\n",
       "      <td>0.000000</td>\n",
       "      <td>3.0</td>\n",
       "      <td>11</td>\n",
       "    </tr>\n",
       "    <tr>\n",
       "      <th>Process Associate</th>\n",
       "      <td>1.0</td>\n",
       "      <td>1.000000</td>\n",
       "      <td>1.000000</td>\n",
       "      <td>4.0</td>\n",
       "      <td>14</td>\n",
       "    </tr>\n",
       "    <tr>\n",
       "      <th>Small Animal Veterinarian</th>\n",
       "      <td>1.0</td>\n",
       "      <td>0.750000</td>\n",
       "      <td>0.857143</td>\n",
       "      <td>4.0</td>\n",
       "      <td>12</td>\n",
       "    </tr>\n",
       "    <tr>\n",
       "      <th>Tax Analyst</th>\n",
       "      <td>1.0</td>\n",
       "      <td>0.200000</td>\n",
       "      <td>0.333333</td>\n",
       "      <td>5.0</td>\n",
       "      <td>16</td>\n",
       "    </tr>\n",
       "  </tbody>\n",
       "</table>\n",
       "</div>"
      ],
      "text/plain": [
       "                               precision    recall  f1-score  support  Count\n",
       "Assistant Director of Nursing        1.0  0.333333  0.500000      3.0     11\n",
       "Data Science Director                1.0  0.333333  0.500000      6.0     19\n",
       "Maintenance Planner                  1.0  0.800000  0.888889      5.0     16\n",
       "Neuropsychologist                    0.0  0.000000  0.000000      3.0     11\n",
       "Process Associate                    1.0  1.000000  1.000000      4.0     14\n",
       "Small Animal Veterinarian            1.0  0.750000  0.857143      4.0     12\n",
       "Tax Analyst                          1.0  0.200000  0.333333      5.0     16"
      ]
     },
     "execution_count": 231,
     "metadata": {},
     "output_type": "execute_result"
    }
   ],
   "source": [
    "under_20 =  df_report[df_report.Count<=20]\n",
    "under_2"
   ]
  },
  {
   "cell_type": "code",
   "execution_count": 233,
   "metadata": {},
   "outputs": [
    {
     "data": {
      "text/html": [
       "<div>\n",
       "<style scoped>\n",
       "    .dataframe tbody tr th:only-of-type {\n",
       "        vertical-align: middle;\n",
       "    }\n",
       "\n",
       "    .dataframe tbody tr th {\n",
       "        vertical-align: top;\n",
       "    }\n",
       "\n",
       "    .dataframe thead th {\n",
       "        text-align: right;\n",
       "    }\n",
       "</style>\n",
       "<table border=\"1\" class=\"dataframe\">\n",
       "  <thead>\n",
       "    <tr style=\"text-align: right;\">\n",
       "      <th></th>\n",
       "      <th>precision</th>\n",
       "      <th>recall</th>\n",
       "      <th>f1-score</th>\n",
       "      <th>support</th>\n",
       "      <th>Count</th>\n",
       "    </tr>\n",
       "  </thead>\n",
       "  <tbody>\n",
       "    <tr>\n",
       "      <th>Automotive Service Manager</th>\n",
       "      <td>1.000000</td>\n",
       "      <td>1.000000</td>\n",
       "      <td>1.000000</td>\n",
       "      <td>10.0</td>\n",
       "      <td>34</td>\n",
       "    </tr>\n",
       "    <tr>\n",
       "      <th>Content Strategist</th>\n",
       "      <td>0.916667</td>\n",
       "      <td>0.846154</td>\n",
       "      <td>0.880000</td>\n",
       "      <td>13.0</td>\n",
       "      <td>43</td>\n",
       "    </tr>\n",
       "    <tr>\n",
       "      <th>Growth Strategy Manager</th>\n",
       "      <td>1.000000</td>\n",
       "      <td>0.888889</td>\n",
       "      <td>0.941176</td>\n",
       "      <td>9.0</td>\n",
       "      <td>30</td>\n",
       "    </tr>\n",
       "    <tr>\n",
       "      <th>Human Resources Assistant</th>\n",
       "      <td>1.000000</td>\n",
       "      <td>1.000000</td>\n",
       "      <td>1.000000</td>\n",
       "      <td>7.0</td>\n",
       "      <td>24</td>\n",
       "    </tr>\n",
       "    <tr>\n",
       "      <th>Loan Officer</th>\n",
       "      <td>0.966667</td>\n",
       "      <td>0.966667</td>\n",
       "      <td>0.966667</td>\n",
       "      <td>30.0</td>\n",
       "      <td>100</td>\n",
       "    </tr>\n",
       "    <tr>\n",
       "      <th>Medical Laboratory Technician (MLT)</th>\n",
       "      <td>1.000000</td>\n",
       "      <td>0.625000</td>\n",
       "      <td>0.769231</td>\n",
       "      <td>8.0</td>\n",
       "      <td>25</td>\n",
       "    </tr>\n",
       "    <tr>\n",
       "      <th>Neonatal Nurse</th>\n",
       "      <td>1.000000</td>\n",
       "      <td>1.000000</td>\n",
       "      <td>1.000000</td>\n",
       "      <td>8.0</td>\n",
       "      <td>26</td>\n",
       "    </tr>\n",
       "    <tr>\n",
       "      <th>Pediatric Anesthesiologist</th>\n",
       "      <td>1.000000</td>\n",
       "      <td>1.000000</td>\n",
       "      <td>1.000000</td>\n",
       "      <td>6.0</td>\n",
       "      <td>21</td>\n",
       "    </tr>\n",
       "    <tr>\n",
       "      <th>Physical Therapist Assistant (PTA)</th>\n",
       "      <td>0.857143</td>\n",
       "      <td>1.000000</td>\n",
       "      <td>0.923077</td>\n",
       "      <td>30.0</td>\n",
       "      <td>100</td>\n",
       "    </tr>\n",
       "    <tr>\n",
       "      <th>Software Engineer</th>\n",
       "      <td>0.666667</td>\n",
       "      <td>1.000000</td>\n",
       "      <td>0.800000</td>\n",
       "      <td>30.0</td>\n",
       "      <td>100</td>\n",
       "    </tr>\n",
       "    <tr>\n",
       "      <th>Wholesaler</th>\n",
       "      <td>0.916667</td>\n",
       "      <td>0.916667</td>\n",
       "      <td>0.916667</td>\n",
       "      <td>12.0</td>\n",
       "      <td>40</td>\n",
       "    </tr>\n",
       "  </tbody>\n",
       "</table>\n",
       "</div>"
      ],
      "text/plain": [
       "                                     precision    recall  f1-score  support  \\\n",
       "Automotive Service Manager            1.000000  1.000000  1.000000     10.0   \n",
       "Content Strategist                    0.916667  0.846154  0.880000     13.0   \n",
       "Growth Strategy Manager               1.000000  0.888889  0.941176      9.0   \n",
       "Human Resources Assistant             1.000000  1.000000  1.000000      7.0   \n",
       "Loan Officer                          0.966667  0.966667  0.966667     30.0   \n",
       "Medical Laboratory Technician (MLT)   1.000000  0.625000  0.769231      8.0   \n",
       "Neonatal Nurse                        1.000000  1.000000  1.000000      8.0   \n",
       "Pediatric Anesthesiologist            1.000000  1.000000  1.000000      6.0   \n",
       "Physical Therapist Assistant (PTA)    0.857143  1.000000  0.923077     30.0   \n",
       "Software Engineer                     0.666667  1.000000  0.800000     30.0   \n",
       "Wholesaler                            0.916667  0.916667  0.916667     12.0   \n",
       "\n",
       "                                     Count  \n",
       "Automotive Service Manager              34  \n",
       "Content Strategist                      43  \n",
       "Growth Strategy Manager                 30  \n",
       "Human Resources Assistant               24  \n",
       "Loan Officer                           100  \n",
       "Medical Laboratory Technician (MLT)     25  \n",
       "Neonatal Nurse                          26  \n",
       "Pediatric Anesthesiologist              21  \n",
       "Physical Therapist Assistant (PTA)     100  \n",
       "Software Engineer                      100  \n",
       "Wholesaler                              40  "
      ]
     },
     "execution_count": 233,
     "metadata": {},
     "output_type": "execute_result"
    }
   ],
   "source": [
    "over_20 = df_report[df_report.Count>20]\n",
    "over_20"
   ]
  },
  {
   "cell_type": "code",
   "execution_count": 258,
   "metadata": {},
   "outputs": [
    {
     "name": "stdout",
     "output_type": "stream",
     "text": [
      "          precision    recall  f1-score\n",
      "under_20   0.857143  0.488095  0.582766\n",
      "over_20    0.938528  0.931216  0.926983\n",
      "\n",
      "Based on datadet: datasets\\processed_reshaped_data.csv\n",
      "The amount of observations is in df:  642\n"
     ]
    }
   ],
   "source": [
    "summary = pd.DataFrame([[under_20.precision.mean(), under_20.recall.mean(),under_20['f1-score'].mean()],\n",
    "                        [over_20.precision.mean(), over_20.recall.mean(),over_20['f1-score'].mean()]],\n",
    "                       columns=df_report.columns[:3], index = ['under_20','over_20'])\n",
    "print(summary)\n",
    "print('\\nBased on datadet: datasets\\processed_reshaped_data.csv')\n",
    "print('The amount of observations is in df: ', len(df))"
   ]
  },
  {
   "cell_type": "markdown",
   "metadata": {
    "jp-MarkdownHeadingCollapsed": true,
    "tags": []
   },
   "source": [
    "# Finding the formula of 'support' - just for fun"
   ]
  },
  {
   "cell_type": "code",
   "execution_count": 223,
   "metadata": {},
   "outputs": [],
   "source": [
    "from sklearn.linear_model import LinearRegression\n",
    "import numpy as np\n",
    "from sklearn.metrics import r2_score\n",
    "from sklearn.metrics import mean_squared_error\n",
    "LR = LinearRegression(fit_intercept=True)"
   ]
  },
  {
   "cell_type": "code",
   "execution_count": 224,
   "metadata": {},
   "outputs": [
    {
     "data": {
      "text/plain": [
       "array([0.2998372])"
      ]
     },
     "execution_count": 224,
     "metadata": {},
     "output_type": "execute_result"
    }
   ],
   "source": [
    "df2 = pd.concat([df_report, df1], axis=1)\n",
    "#separate the other attributes from the predicting attribute\n",
    "x = df2[['Count']]\n",
    "#separte the predicting attribute into Y for model training \n",
    "y = df2['support']\n",
    "LR.fit(x,y)\n",
    "LR.coef_"
   ]
  },
  {
   "cell_type": "code",
   "execution_count": 225,
   "metadata": {},
   "outputs": [],
   "source": [
    "df2['pred_spport'] =  LR.predict(x)"
   ]
  },
  {
   "cell_type": "code",
   "execution_count": 226,
   "metadata": {},
   "outputs": [
    {
     "name": "stdout",
     "output_type": "stream",
     "text": [
      "r2 socre is 0.9993141494592955\n",
      "mean_sqrd_error is== 0.056148720963535785\n",
      "root_mean_squared error of is== 0.2369572133604204\n"
     ]
    }
   ],
   "source": [
    "score= r2_score(y,df2['pred_spport'])\n",
    "print('r2 socre is',score)\n",
    "print('mean_sqrd_error is==',mean_squared_error(y,df2['pred_spport']))\n",
    "print('root_mean_squared error of is==',np.sqrt(mean_squared_error(y,df2['pred_spport'])))"
   ]
  },
  {
   "cell_type": "code",
   "execution_count": 227,
   "metadata": {},
   "outputs": [
    {
     "data": {
      "text/html": [
       "<div>\n",
       "<style scoped>\n",
       "    .dataframe tbody tr th:only-of-type {\n",
       "        vertical-align: middle;\n",
       "    }\n",
       "\n",
       "    .dataframe tbody tr th {\n",
       "        vertical-align: top;\n",
       "    }\n",
       "\n",
       "    .dataframe thead th {\n",
       "        text-align: right;\n",
       "    }\n",
       "</style>\n",
       "<table border=\"1\" class=\"dataframe\">\n",
       "  <thead>\n",
       "    <tr style=\"text-align: right;\">\n",
       "      <th></th>\n",
       "      <th>precision</th>\n",
       "      <th>recall</th>\n",
       "      <th>f1-score</th>\n",
       "      <th>support</th>\n",
       "      <th>Count</th>\n",
       "      <th>pred_spport</th>\n",
       "    </tr>\n",
       "  </thead>\n",
       "  <tbody>\n",
       "    <tr>\n",
       "      <th>Assistant Director of Nursing</th>\n",
       "      <td>1.000000</td>\n",
       "      <td>0.333333</td>\n",
       "      <td>0.500000</td>\n",
       "      <td>3.0</td>\n",
       "      <td>11</td>\n",
       "      <td>3.326238</td>\n",
       "    </tr>\n",
       "    <tr>\n",
       "      <th>Automotive Service Manager</th>\n",
       "      <td>1.000000</td>\n",
       "      <td>1.000000</td>\n",
       "      <td>1.000000</td>\n",
       "      <td>10.0</td>\n",
       "      <td>34</td>\n",
       "      <td>10.222494</td>\n",
       "    </tr>\n",
       "    <tr>\n",
       "      <th>Content Strategist</th>\n",
       "      <td>0.916667</td>\n",
       "      <td>0.846154</td>\n",
       "      <td>0.880000</td>\n",
       "      <td>13.0</td>\n",
       "      <td>43</td>\n",
       "      <td>12.921028</td>\n",
       "    </tr>\n",
       "    <tr>\n",
       "      <th>Data Science Director</th>\n",
       "      <td>1.000000</td>\n",
       "      <td>0.333333</td>\n",
       "      <td>0.500000</td>\n",
       "      <td>6.0</td>\n",
       "      <td>19</td>\n",
       "      <td>5.724936</td>\n",
       "    </tr>\n",
       "    <tr>\n",
       "      <th>Growth Strategy Manager</th>\n",
       "      <td>1.000000</td>\n",
       "      <td>0.888889</td>\n",
       "      <td>0.941176</td>\n",
       "      <td>9.0</td>\n",
       "      <td>30</td>\n",
       "      <td>9.023145</td>\n",
       "    </tr>\n",
       "    <tr>\n",
       "      <th>Human Resources Assistant</th>\n",
       "      <td>1.000000</td>\n",
       "      <td>1.000000</td>\n",
       "      <td>1.000000</td>\n",
       "      <td>7.0</td>\n",
       "      <td>24</td>\n",
       "      <td>7.224122</td>\n",
       "    </tr>\n",
       "    <tr>\n",
       "      <th>Loan Officer</th>\n",
       "      <td>0.966667</td>\n",
       "      <td>0.966667</td>\n",
       "      <td>0.966667</td>\n",
       "      <td>30.0</td>\n",
       "      <td>100</td>\n",
       "      <td>30.011749</td>\n",
       "    </tr>\n",
       "    <tr>\n",
       "      <th>Maintenance Planner</th>\n",
       "      <td>1.000000</td>\n",
       "      <td>0.800000</td>\n",
       "      <td>0.888889</td>\n",
       "      <td>5.0</td>\n",
       "      <td>16</td>\n",
       "      <td>4.825424</td>\n",
       "    </tr>\n",
       "    <tr>\n",
       "      <th>Medical Laboratory Technician (MLT)</th>\n",
       "      <td>1.000000</td>\n",
       "      <td>0.625000</td>\n",
       "      <td>0.769231</td>\n",
       "      <td>8.0</td>\n",
       "      <td>25</td>\n",
       "      <td>7.523959</td>\n",
       "    </tr>\n",
       "    <tr>\n",
       "      <th>Neonatal Nurse</th>\n",
       "      <td>1.000000</td>\n",
       "      <td>1.000000</td>\n",
       "      <td>1.000000</td>\n",
       "      <td>8.0</td>\n",
       "      <td>26</td>\n",
       "      <td>7.823796</td>\n",
       "    </tr>\n",
       "    <tr>\n",
       "      <th>Neuropsychologist</th>\n",
       "      <td>0.000000</td>\n",
       "      <td>0.000000</td>\n",
       "      <td>0.000000</td>\n",
       "      <td>3.0</td>\n",
       "      <td>11</td>\n",
       "      <td>3.326238</td>\n",
       "    </tr>\n",
       "    <tr>\n",
       "      <th>Pediatric Anesthesiologist</th>\n",
       "      <td>1.000000</td>\n",
       "      <td>1.000000</td>\n",
       "      <td>1.000000</td>\n",
       "      <td>6.0</td>\n",
       "      <td>21</td>\n",
       "      <td>6.324610</td>\n",
       "    </tr>\n",
       "    <tr>\n",
       "      <th>Physical Therapist Assistant (PTA)</th>\n",
       "      <td>0.857143</td>\n",
       "      <td>1.000000</td>\n",
       "      <td>0.923077</td>\n",
       "      <td>30.0</td>\n",
       "      <td>100</td>\n",
       "      <td>30.011749</td>\n",
       "    </tr>\n",
       "    <tr>\n",
       "      <th>Process Associate</th>\n",
       "      <td>1.000000</td>\n",
       "      <td>1.000000</td>\n",
       "      <td>1.000000</td>\n",
       "      <td>4.0</td>\n",
       "      <td>14</td>\n",
       "      <td>4.225750</td>\n",
       "    </tr>\n",
       "    <tr>\n",
       "      <th>Small Animal Veterinarian</th>\n",
       "      <td>1.000000</td>\n",
       "      <td>0.750000</td>\n",
       "      <td>0.857143</td>\n",
       "      <td>4.0</td>\n",
       "      <td>12</td>\n",
       "      <td>3.626075</td>\n",
       "    </tr>\n",
       "    <tr>\n",
       "      <th>Software Engineer</th>\n",
       "      <td>0.666667</td>\n",
       "      <td>1.000000</td>\n",
       "      <td>0.800000</td>\n",
       "      <td>30.0</td>\n",
       "      <td>100</td>\n",
       "      <td>30.011749</td>\n",
       "    </tr>\n",
       "    <tr>\n",
       "      <th>Tax Analyst</th>\n",
       "      <td>1.000000</td>\n",
       "      <td>0.200000</td>\n",
       "      <td>0.333333</td>\n",
       "      <td>5.0</td>\n",
       "      <td>16</td>\n",
       "      <td>4.825424</td>\n",
       "    </tr>\n",
       "    <tr>\n",
       "      <th>Wholesaler</th>\n",
       "      <td>0.916667</td>\n",
       "      <td>0.916667</td>\n",
       "      <td>0.916667</td>\n",
       "      <td>12.0</td>\n",
       "      <td>40</td>\n",
       "      <td>12.021517</td>\n",
       "    </tr>\n",
       "  </tbody>\n",
       "</table>\n",
       "</div>"
      ],
      "text/plain": [
       "                                     precision    recall  f1-score  support  \\\n",
       "Assistant Director of Nursing         1.000000  0.333333  0.500000      3.0   \n",
       "Automotive Service Manager            1.000000  1.000000  1.000000     10.0   \n",
       "Content Strategist                    0.916667  0.846154  0.880000     13.0   \n",
       "Data Science Director                 1.000000  0.333333  0.500000      6.0   \n",
       "Growth Strategy Manager               1.000000  0.888889  0.941176      9.0   \n",
       "Human Resources Assistant             1.000000  1.000000  1.000000      7.0   \n",
       "Loan Officer                          0.966667  0.966667  0.966667     30.0   \n",
       "Maintenance Planner                   1.000000  0.800000  0.888889      5.0   \n",
       "Medical Laboratory Technician (MLT)   1.000000  0.625000  0.769231      8.0   \n",
       "Neonatal Nurse                        1.000000  1.000000  1.000000      8.0   \n",
       "Neuropsychologist                     0.000000  0.000000  0.000000      3.0   \n",
       "Pediatric Anesthesiologist            1.000000  1.000000  1.000000      6.0   \n",
       "Physical Therapist Assistant (PTA)    0.857143  1.000000  0.923077     30.0   \n",
       "Process Associate                     1.000000  1.000000  1.000000      4.0   \n",
       "Small Animal Veterinarian             1.000000  0.750000  0.857143      4.0   \n",
       "Software Engineer                     0.666667  1.000000  0.800000     30.0   \n",
       "Tax Analyst                           1.000000  0.200000  0.333333      5.0   \n",
       "Wholesaler                            0.916667  0.916667  0.916667     12.0   \n",
       "\n",
       "                                     Count  pred_spport  \n",
       "Assistant Director of Nursing           11     3.326238  \n",
       "Automotive Service Manager              34    10.222494  \n",
       "Content Strategist                      43    12.921028  \n",
       "Data Science Director                   19     5.724936  \n",
       "Growth Strategy Manager                 30     9.023145  \n",
       "Human Resources Assistant               24     7.224122  \n",
       "Loan Officer                           100    30.011749  \n",
       "Maintenance Planner                     16     4.825424  \n",
       "Medical Laboratory Technician (MLT)     25     7.523959  \n",
       "Neonatal Nurse                          26     7.823796  \n",
       "Neuropsychologist                       11     3.326238  \n",
       "Pediatric Anesthesiologist              21     6.324610  \n",
       "Physical Therapist Assistant (PTA)     100    30.011749  \n",
       "Process Associate                       14     4.225750  \n",
       "Small Animal Veterinarian               12     3.626075  \n",
       "Software Engineer                      100    30.011749  \n",
       "Tax Analyst                             16     4.825424  \n",
       "Wholesaler                              40    12.021517  "
      ]
     },
     "execution_count": 227,
     "metadata": {},
     "output_type": "execute_result"
    }
   ],
   "source": [
    "df2"
   ]
  }
 ],
 "metadata": {
  "kernelspec": {
   "display_name": "Python 3 (ipykernel)",
   "language": "python",
   "name": "python3"
  },
  "language_info": {
   "codemirror_mode": {
    "name": "ipython",
    "version": 3
   },
   "file_extension": ".py",
   "mimetype": "text/x-python",
   "name": "python",
   "nbconvert_exporter": "python",
   "pygments_lexer": "ipython3",
   "version": "3.9.7"
  }
 },
 "nbformat": 4,
 "nbformat_minor": 4
}
