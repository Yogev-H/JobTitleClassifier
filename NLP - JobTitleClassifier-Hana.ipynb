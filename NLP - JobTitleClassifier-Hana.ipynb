{
 "cells": [
  {
   "cell_type": "markdown",
   "metadata": {},
   "source": [
    "# Imports"
   ]
  },
  {
   "cell_type": "code",
   "execution_count": 1,
   "metadata": {
    "scrolled": true
   },
   "outputs": [],
   "source": [
    "import pandas as pd\n",
    "import numpy as np\n",
    "\n",
    "import matplotlib.pyplot as plt\n",
    "import seaborn as sns\n",
    "%matplotlib inline"
   ]
  },
  {
   "cell_type": "code",
   "execution_count": 2,
   "metadata": {
    "scrolled": true
   },
   "outputs": [
    {
     "data": {
      "text/plain": [
       "'C:\\\\Users\\\\Hana Baron\\\\Projects\\\\JobTitleClassifier'"
      ]
     },
     "execution_count": 2,
     "metadata": {},
     "output_type": "execute_result"
    }
   ],
   "source": [
    "import os\n",
    "os.getcwd()"
   ]
  },
  {
   "cell_type": "code",
   "execution_count": 3,
   "metadata": {
    "scrolled": true
   },
   "outputs": [],
   "source": [
    "sns.set_style('white')\n",
    "pd.set_option('max_colwidth',150)"
   ]
  },
  {
   "cell_type": "code",
   "execution_count": 4,
   "metadata": {
    "scrolled": true
   },
   "outputs": [],
   "source": [
    "df = pd.read_parquet('job_title_dataset.parquet')"
   ]
  },
  {
   "cell_type": "code",
   "execution_count": 5,
   "metadata": {
    "scrolled": true
   },
   "outputs": [
    {
     "data": {
      "text/plain": [
       "(1100, 4)"
      ]
     },
     "execution_count": 5,
     "metadata": {},
     "output_type": "execute_result"
    }
   ],
   "source": [
    "df.shape"
   ]
  },
  {
   "cell_type": "code",
   "execution_count": 6,
   "metadata": {
    "scrolled": true
   },
   "outputs": [
    {
     "data": {
      "text/html": [
       "<div>\n",
       "<style scoped>\n",
       "    .dataframe tbody tr th:only-of-type {\n",
       "        vertical-align: middle;\n",
       "    }\n",
       "\n",
       "    .dataframe tbody tr th {\n",
       "        vertical-align: top;\n",
       "    }\n",
       "\n",
       "    .dataframe thead th {\n",
       "        text-align: right;\n",
       "    }\n",
       "</style>\n",
       "<table border=\"1\" class=\"dataframe\">\n",
       "  <thead>\n",
       "    <tr style=\"text-align: right;\">\n",
       "      <th></th>\n",
       "      <th>JobId</th>\n",
       "      <th>JobTitleId</th>\n",
       "      <th>JobTitle</th>\n",
       "      <th>Description</th>\n",
       "    </tr>\n",
       "  </thead>\n",
       "  <tbody>\n",
       "    <tr>\n",
       "      <th>0</th>\n",
       "      <td>36126335</td>\n",
       "      <td>400878</td>\n",
       "      <td>Physical Therapist Assistant (PTA)</td>\n",
       "      <td>&lt;p&gt;Looking for part-time PT&amp;nbsp;for a quick growing and dynamic outpatient physical therapy clinic. Mentorship available and encouraged!&amp;nbsp; Ou...</td>\n",
       "    </tr>\n",
       "    <tr>\n",
       "      <th>1</th>\n",
       "      <td>39345757</td>\n",
       "      <td>400720</td>\n",
       "      <td>Automotive Service Manager</td>\n",
       "      <td>At David Maus Toyota, we strive to make every customer a customer for life.&lt;br/&gt; Happy employees make happy customers, and we reward individuals w...</td>\n",
       "    </tr>\n",
       "    <tr>\n",
       "      <th>2</th>\n",
       "      <td>84331465</td>\n",
       "      <td>407973</td>\n",
       "      <td>Wastewater Project Manager</td>\n",
       "      <td>&lt;p&gt;Position Summary:&lt;/p&gt;\\n&lt;p&gt;Project Management personnel are responsible for the overall safety, direction, completion, and financial outcome of ...</td>\n",
       "    </tr>\n",
       "    <tr>\n",
       "      <th>3</th>\n",
       "      <td>88112060</td>\n",
       "      <td>402654</td>\n",
       "      <td>Neonatal Nurse</td>\n",
       "      <td>&lt;p&gt;Envision Physician Services is seeking a Neonatal Nurse Practitioner to join our busy practice covering 7 Medical City facilities in the DFW ar...</td>\n",
       "    </tr>\n",
       "    <tr>\n",
       "      <th>4</th>\n",
       "      <td>88112450</td>\n",
       "      <td>402654</td>\n",
       "      <td>Neonatal Nurse</td>\n",
       "      <td>&lt;p&gt;Envision Physician Services is seeking a Neonatal Nurse Practitioner to join our busy practice covering 7 Medical City facilities in the DFW ar...</td>\n",
       "    </tr>\n",
       "    <tr>\n",
       "      <th>5</th>\n",
       "      <td>88112460</td>\n",
       "      <td>402654</td>\n",
       "      <td>Neonatal Nurse</td>\n",
       "      <td>&lt;p&gt;Envision Physician Services is seeking a Neonatal Nurse Practitioner to join our busy practice covering 7 Medical City facilities in the DFW ar...</td>\n",
       "    </tr>\n",
       "    <tr>\n",
       "      <th>6</th>\n",
       "      <td>88112463</td>\n",
       "      <td>402654</td>\n",
       "      <td>Neonatal Nurse</td>\n",
       "      <td>&lt;p&gt;$20,000 start date bonus!&lt;/p&gt;&lt;p&gt;Envision Physician Services is seeking a certified and experienced Neonatal Nurse Practitioner or Physician Ass...</td>\n",
       "    </tr>\n",
       "    <tr>\n",
       "      <th>7</th>\n",
       "      <td>88114236</td>\n",
       "      <td>402654</td>\n",
       "      <td>Neonatal Nurse</td>\n",
       "      <td>&lt;p&gt;Envision Physician Services is seeking a dynamic, board certified, Neonatal Nurse Practitioner Embassador to join our Women&amp;rsquo;s and Childre...</td>\n",
       "    </tr>\n",
       "    <tr>\n",
       "      <th>8</th>\n",
       "      <td>88114375</td>\n",
       "      <td>402654</td>\n",
       "      <td>Neonatal Nurse</td>\n",
       "      <td>&lt;p&gt;Envision Physician Services is seeking a Neonatal Nurse Practitioner to join our busy practice covering 7 Medical City facilities in the DFW ar...</td>\n",
       "    </tr>\n",
       "    <tr>\n",
       "      <th>9</th>\n",
       "      <td>105364828</td>\n",
       "      <td>402654</td>\n",
       "      <td>Neonatal Nurse</td>\n",
       "      <td>&lt;p&gt;Night Shift Neonatal Nurse Practitioner Opportunity in Level III NICU in Panama City! Envision Physician Services is seeking an experienced NNP...</td>\n",
       "    </tr>\n",
       "  </tbody>\n",
       "</table>\n",
       "</div>"
      ],
      "text/plain": [
       "       JobId  JobTitleId                            JobTitle  \\\n",
       "0   36126335      400878  Physical Therapist Assistant (PTA)   \n",
       "1   39345757      400720          Automotive Service Manager   \n",
       "2   84331465      407973          Wastewater Project Manager   \n",
       "3   88112060      402654                      Neonatal Nurse   \n",
       "4   88112450      402654                      Neonatal Nurse   \n",
       "5   88112460      402654                      Neonatal Nurse   \n",
       "6   88112463      402654                      Neonatal Nurse   \n",
       "7   88114236      402654                      Neonatal Nurse   \n",
       "8   88114375      402654                      Neonatal Nurse   \n",
       "9  105364828      402654                      Neonatal Nurse   \n",
       "\n",
       "                                                                                                                                             Description  \n",
       "0  <p>Looking for part-time PT&nbsp;for a quick growing and dynamic outpatient physical therapy clinic. Mentorship available and encouraged!&nbsp; Ou...  \n",
       "1  At David Maus Toyota, we strive to make every customer a customer for life.<br/> Happy employees make happy customers, and we reward individuals w...  \n",
       "2  <p>Position Summary:</p>\\n<p>Project Management personnel are responsible for the overall safety, direction, completion, and financial outcome of ...  \n",
       "3  <p>Envision Physician Services is seeking a Neonatal Nurse Practitioner to join our busy practice covering 7 Medical City facilities in the DFW ar...  \n",
       "4  <p>Envision Physician Services is seeking a Neonatal Nurse Practitioner to join our busy practice covering 7 Medical City facilities in the DFW ar...  \n",
       "5  <p>Envision Physician Services is seeking a Neonatal Nurse Practitioner to join our busy practice covering 7 Medical City facilities in the DFW ar...  \n",
       "6  <p>$20,000 start date bonus!</p><p>Envision Physician Services is seeking a certified and experienced Neonatal Nurse Practitioner or Physician Ass...  \n",
       "7  <p>Envision Physician Services is seeking a dynamic, board certified, Neonatal Nurse Practitioner Embassador to join our Women&rsquo;s and Childre...  \n",
       "8  <p>Envision Physician Services is seeking a Neonatal Nurse Practitioner to join our busy practice covering 7 Medical City facilities in the DFW ar...  \n",
       "9  <p>Night Shift Neonatal Nurse Practitioner Opportunity in Level III NICU in Panama City! Envision Physician Services is seeking an experienced NNP...  "
      ]
     },
     "execution_count": 6,
     "metadata": {},
     "output_type": "execute_result"
    }
   ],
   "source": [
    "df.head(10)"
   ]
  },
  {
   "cell_type": "code",
   "execution_count": 7,
   "metadata": {
    "scrolled": true
   },
   "outputs": [
    {
     "name": "stdout",
     "output_type": "stream",
     "text": [
      "<class 'pandas.core.frame.DataFrame'>\n",
      "RangeIndex: 1100 entries, 0 to 1099\n",
      "Data columns (total 4 columns):\n",
      " #   Column       Non-Null Count  Dtype \n",
      "---  ------       --------------  ----- \n",
      " 0   JobId        1100 non-null   object\n",
      " 1   JobTitleId   1100 non-null   int32 \n",
      " 2   JobTitle     1100 non-null   object\n",
      " 3   Description  1099 non-null   object\n",
      "dtypes: int32(1), object(3)\n",
      "memory usage: 30.2+ KB\n"
     ]
    }
   ],
   "source": [
    "df.info()"
   ]
  },
  {
   "cell_type": "code",
   "execution_count": 8,
   "metadata": {
    "scrolled": true
   },
   "outputs": [],
   "source": [
    "# remove nulls\n",
    "\n",
    "df.dropna(inplace=True)"
   ]
  },
  {
   "cell_type": "code",
   "execution_count": 9,
   "metadata": {
    "scrolled": true
   },
   "outputs": [
    {
     "name": "stdout",
     "output_type": "stream",
     "text": [
      "<class 'pandas.core.frame.DataFrame'>\n",
      "Int64Index: 1099 entries, 0 to 1099\n",
      "Data columns (total 4 columns):\n",
      " #   Column       Non-Null Count  Dtype \n",
      "---  ------       --------------  ----- \n",
      " 0   JobId        1099 non-null   object\n",
      " 1   JobTitleId   1099 non-null   int32 \n",
      " 2   JobTitle     1099 non-null   object\n",
      " 3   Description  1099 non-null   object\n",
      "dtypes: int32(1), object(3)\n",
      "memory usage: 38.6+ KB\n"
     ]
    }
   ],
   "source": [
    "df.info()"
   ]
  },
  {
   "cell_type": "code",
   "execution_count": 10,
   "metadata": {
    "scrolled": true
   },
   "outputs": [
    {
     "data": {
      "text/html": [
       "<div>\n",
       "<style scoped>\n",
       "    .dataframe tbody tr th:only-of-type {\n",
       "        vertical-align: middle;\n",
       "    }\n",
       "\n",
       "    .dataframe tbody tr th {\n",
       "        vertical-align: top;\n",
       "    }\n",
       "\n",
       "    .dataframe thead th {\n",
       "        text-align: right;\n",
       "    }\n",
       "</style>\n",
       "<table border=\"1\" class=\"dataframe\">\n",
       "  <thead>\n",
       "    <tr style=\"text-align: right;\">\n",
       "      <th></th>\n",
       "      <th>JobId</th>\n",
       "      <th>JobTitleId</th>\n",
       "      <th>JobTitle</th>\n",
       "      <th>Description</th>\n",
       "    </tr>\n",
       "  </thead>\n",
       "  <tbody>\n",
       "  </tbody>\n",
       "</table>\n",
       "</div>"
      ],
      "text/plain": [
       "Empty DataFrame\n",
       "Columns: [JobId, JobTitleId, JobTitle, Description]\n",
       "Index: []"
      ]
     },
     "execution_count": 10,
     "metadata": {},
     "output_type": "execute_result"
    }
   ],
   "source": [
    "df[(df.Description == 'None') | (df.Description == '')]"
   ]
  },
  {
   "cell_type": "code",
   "execution_count": 11,
   "metadata": {
    "scrolled": true
   },
   "outputs": [],
   "source": [
    "# count unique values for each column\n",
    "\n",
    "def count_unique(data):\n",
    "    for col in data.columns:\n",
    "        print (f\" In the '{col}' column there are: {data[col].nunique()} unique values\")"
   ]
  },
  {
   "cell_type": "code",
   "execution_count": 12,
   "metadata": {
    "scrolled": true
   },
   "outputs": [
    {
     "name": "stdout",
     "output_type": "stream",
     "text": [
      " In the 'JobId' column there are: 1099 unique values\n",
      " In the 'JobTitleId' column there are: 51 unique values\n",
      " In the 'JobTitle' column there are: 51 unique values\n",
      " In the 'Description' column there are: 1099 unique values\n"
     ]
    }
   ],
   "source": [
    "count_unique(df)"
   ]
  },
  {
   "cell_type": "code",
   "execution_count": 13,
   "metadata": {
    "scrolled": true
   },
   "outputs": [
    {
     "data": {
      "text/html": [
       "<div>\n",
       "<style scoped>\n",
       "    .dataframe tbody tr th:only-of-type {\n",
       "        vertical-align: middle;\n",
       "    }\n",
       "\n",
       "    .dataframe tbody tr th {\n",
       "        vertical-align: top;\n",
       "    }\n",
       "\n",
       "    .dataframe thead th {\n",
       "        text-align: right;\n",
       "    }\n",
       "</style>\n",
       "<table border=\"1\" class=\"dataframe\">\n",
       "  <thead>\n",
       "    <tr style=\"text-align: right;\">\n",
       "      <th></th>\n",
       "      <th>JobId</th>\n",
       "      <th>JobTitleId</th>\n",
       "      <th>JobTitle</th>\n",
       "      <th>Description</th>\n",
       "    </tr>\n",
       "  </thead>\n",
       "  <tbody>\n",
       "  </tbody>\n",
       "</table>\n",
       "</div>"
      ],
      "text/plain": [
       "Empty DataFrame\n",
       "Columns: [JobId, JobTitleId, JobTitle, Description]\n",
       "Index: []"
      ]
     },
     "execution_count": 13,
     "metadata": {},
     "output_type": "execute_result"
    }
   ],
   "source": [
    "# duplicates \n",
    "\n",
    "df[df.duplicated()]"
   ]
  },
  {
   "cell_type": "markdown",
   "metadata": {},
   "source": [
    "## Cleaning The Data\n",
    "\n",
    "**Common data cleaning steps on all text:**\n",
    "\n",
    "* Make text all lower case\n",
    "* Remove punctuation\n",
    "* Remove THML tags\n",
    "* Remove numerical values\n",
    "* Remove common non-sensical text (/n)\n",
    "* Tokenize text\n",
    "* Remove stop words\n",
    "\n",
    "\n",
    "**More data cleaning steps after tokenization:**\n",
    "\n",
    "* Stemming / lemmatization\n",
    "* Create bi-grams or tri-grams\n",
    "* Deal with typos"
   ]
  },
  {
   "cell_type": "code",
   "execution_count": 14,
   "metadata": {
    "scrolled": true
   },
   "outputs": [
    {
     "name": "stdout",
     "output_type": "stream",
     "text": [
      "raw dataset: 2122\n"
     ]
    },
    {
     "data": {
      "text/plain": [
       "\"<p>Looking for part-time PT&nbsp;for a quick growing and dynamic outpatient physical therapy clinic. Mentorship available and encouraged!&nbsp; Our clinic focuses on manual therapy and exercise in a well equipped clinic with the latest equipment and modalities. We take an active approach to rehabilitation and always take the time to care. Our clinic offers personalized physical therapy in a warm and caring environment. Every day is a positive day at Andrew PT! Very manageable daily case load of 8-10 patients per day so you can spend the quality time with patients that makes work and life enjoyable!&nbsp; On a separate note, we&nbsp;also have all the necessary equipment and private treatment room for a women's health&nbsp;program if you have those clinical skills or interest.</p> <p>Our clinic is cutting edge and is even solar powered. Large vaulted ceiling workout area and 9 personalized treatment rooms with the clinic spanning 4,000 square feet total. Our clinic is located in McMinnville, OR which is perfectly situated for the recreational enthusiast. One can be at the beach, in the mountains hiking or cycling within minutes. Mentorship is available and encouraged as we believe personal growth is one of the key ingredients to keep us happy as clinicians. Personal growth through continued learning and education helps keep us motivated and also helps us to better serve our patients. New graduates are welcome as well as the therapist with experience.&nbsp; For more information please contact via e-mail&nbsp;(john.andrewpt@gmail.com)&nbsp;or fax your resume to to (503) 435-1930. You may also visit our website at www.AndrewPT.com. 72K+ salary per year to start for DPT depending on experience. Benefits for full-time work: Competitive salary, 401K w/ company matching &amp; Profit Sharing, Employee full medical and dental coverage,&nbsp;4 wks paid vacation (including 6 paid Holidays over 5 weeks paid time off per year), yearly bonus based on performance/profits, 6 major Holidays paid per year, OR PT yearly licensing fee paid, $1,200 yearly continuing education fund, more benefits as well.</p>\""
      ]
     },
     "execution_count": 14,
     "metadata": {},
     "output_type": "execute_result"
    }
   ],
   "source": [
    "print('raw dataset: {}'.format(len(df.Description.iloc[0])))\n",
    "df.Description.iloc[0]"
   ]
  },
  {
   "cell_type": "code",
   "execution_count": 15,
   "metadata": {
    "scrolled": true
   },
   "outputs": [],
   "source": [
    "# pip install nltk"
   ]
  },
  {
   "cell_type": "code",
   "execution_count": 16,
   "metadata": {
    "scrolled": true
   },
   "outputs": [],
   "source": [
    "# Apply a first round of text cleaning techniques\n",
    "\n",
    "import re\n",
    "import string\n",
    "from nltk.corpus import stopwords \n",
    "from bs4 import BeautifulSoup\n",
    "\n",
    "def text_process(text):\n",
    "    \"\"\"\n",
    "    1. make text lowercase\n",
    "    2. remove html tags\n",
    "    3. remove punctuation \n",
    "    4. remove words containing numbers\n",
    "    5. return set of clean text words\n",
    "    \"\"\"\n",
    "    \n",
    "    text = text.lower()\n",
    "    text = re.sub('<.*?>', '', text)\n",
    "    text = BeautifulSoup(text).get_text()\n",
    "    text = re.sub('[%s]' % re.escape(string.punctuation), '', text)\n",
    "    text = re.sub('\\w*\\d\\w*', '', text)\n",
    "    text = [word for word in text.split() if word.lower() not in stopwords.words('english')] \n",
    "    text = list(set(text))\n",
    "    \n",
    "    return text\n",
    "\n",
    "round1 = lambda x: text_process(x)"
   ]
  },
  {
   "cell_type": "code",
   "execution_count": 17,
   "metadata": {
    "scrolled": true
   },
   "outputs": [
    {
     "data": {
      "text/plain": [
       "'!\"#$%&\\'()*+,-./:;<=>?@[\\\\]^_`{|}~'"
      ]
     },
     "execution_count": 17,
     "metadata": {},
     "output_type": "execute_result"
    }
   ],
   "source": [
    "string.punctuation"
   ]
  },
  {
   "cell_type": "code",
   "execution_count": 18,
   "metadata": {
    "scrolled": true
   },
   "outputs": [
    {
     "name": "stderr",
     "output_type": "stream",
     "text": [
      "[nltk_data] Downloading package stopwords to C:\\Users\\Hana\n",
      "[nltk_data]     Baron\\AppData\\Roaming\\nltk_data...\n",
      "[nltk_data]   Package stopwords is already up-to-date!\n",
      "[nltk_data] Downloading package wordnet to C:\\Users\\Hana\n",
      "[nltk_data]     Baron\\AppData\\Roaming\\nltk_data...\n",
      "[nltk_data]   Package wordnet is already up-to-date!\n"
     ]
    },
    {
     "data": {
      "text/plain": [
       "True"
      ]
     },
     "execution_count": 18,
     "metadata": {},
     "output_type": "execute_result"
    }
   ],
   "source": [
    "import nltk\n",
    "nltk.download('stopwords')\n",
    "nltk.download('wordnet')"
   ]
  },
  {
   "cell_type": "code",
   "execution_count": 19,
   "metadata": {
    "scrolled": true
   },
   "outputs": [
    {
     "data": {
      "text/plain": [
       "['i', 'me', 'my', 'myself', 'we', 'our', 'ours', 'ourselves', 'you', \"you're\"]"
      ]
     },
     "execution_count": 19,
     "metadata": {},
     "output_type": "execute_result"
    }
   ],
   "source": [
    "# from nltk.corpus import stopwords\n",
    "stopwords.words('english')[0:10] # Show some stop words"
   ]
  },
  {
   "cell_type": "code",
   "execution_count": 20,
   "metadata": {
    "scrolled": true
   },
   "outputs": [
    {
     "name": "stdout",
     "output_type": "stream",
     "text": [
      "raw dataset: 156\n"
     ]
    },
    {
     "data": {
      "text/plain": [
       "['daily',\n",
       " 'patients',\n",
       " 'womens',\n",
       " 'start',\n",
       " 'feet',\n",
       " 'available',\n",
       " 'approach',\n",
       " 'necessary',\n",
       " 'continued',\n",
       " 'exercise',\n",
       " 'located',\n",
       " 'licensing',\n",
       " 'focuses',\n",
       " 'dpt',\n",
       " 'room',\n",
       " 'growing',\n",
       " 'experience',\n",
       " 'beach',\n",
       " 'large',\n",
       " 'take',\n",
       " 'based',\n",
       " 'andrew',\n",
       " 'medical',\n",
       " 'note',\n",
       " 'environment',\n",
       " 'clinical',\n",
       " 'wwwandrewptcom',\n",
       " 'wks',\n",
       " 'new',\n",
       " 'resume',\n",
       " 'dynamic',\n",
       " 'hiking',\n",
       " 'weeks',\n",
       " 'manageable',\n",
       " 'fee',\n",
       " 'life',\n",
       " 'load',\n",
       " 'care',\n",
       " 'motivated',\n",
       " 'outpatient',\n",
       " 'treatment',\n",
       " 'skills',\n",
       " 'holidays',\n",
       " 'interest',\n",
       " 'continuing',\n",
       " 'powered',\n",
       " 'rehabilitation',\n",
       " 'rooms',\n",
       " 'employee',\n",
       " 'graduates',\n",
       " 'mentorship',\n",
       " 'ingredients',\n",
       " 'time',\n",
       " 'vacation',\n",
       " 'equipped',\n",
       " 'mountains',\n",
       " 'including',\n",
       " 'fax',\n",
       " 'personalized',\n",
       " 'work',\n",
       " 'situated',\n",
       " 'matching',\n",
       " 'company',\n",
       " 'paid',\n",
       " 'within',\n",
       " 'via',\n",
       " 'clinicians',\n",
       " 'parttime',\n",
       " 'welcome',\n",
       " 'spend',\n",
       " 'encouraged',\n",
       " 'learning',\n",
       " 'benefits',\n",
       " 'case',\n",
       " 'happy',\n",
       " 'yearly',\n",
       " 'program',\n",
       " 'may',\n",
       " 'looking',\n",
       " 'cycling',\n",
       " 'believe',\n",
       " 'spanning',\n",
       " 'modalities',\n",
       " 'per',\n",
       " 'sharing',\n",
       " 'coverage',\n",
       " 'perfectly',\n",
       " 'private',\n",
       " 'information',\n",
       " 'cutting',\n",
       " 'therapy',\n",
       " 'pt',\n",
       " 'quick',\n",
       " 'well',\n",
       " 'therapist',\n",
       " 'also',\n",
       " 'equipment',\n",
       " 'personal',\n",
       " 'workout',\n",
       " 'minutes',\n",
       " 'depending',\n",
       " 'solar',\n",
       " 'visit',\n",
       " 'day',\n",
       " 'helps',\n",
       " 'fund',\n",
       " 'every',\n",
       " 'growth',\n",
       " 'email',\n",
       " 'education',\n",
       " 'w',\n",
       " 'serve',\n",
       " 'physical',\n",
       " 'quality',\n",
       " 'enthusiast',\n",
       " 'one',\n",
       " 'offers',\n",
       " 'total',\n",
       " 'johnandrewptgmailcom',\n",
       " 'separate',\n",
       " 'fulltime',\n",
       " 'square',\n",
       " 'dental',\n",
       " 'performanceprofits',\n",
       " 'competitive',\n",
       " 'vaulted',\n",
       " 'always',\n",
       " 'positive',\n",
       " 'full',\n",
       " 'edge',\n",
       " 'health',\n",
       " 'recreational',\n",
       " 'us',\n",
       " 'key',\n",
       " 'mcminnville',\n",
       " 'ceiling',\n",
       " 'enjoyable',\n",
       " 'caring',\n",
       " 'contact',\n",
       " 'salary',\n",
       " 'year',\n",
       " 'profit',\n",
       " 'latest',\n",
       " 'bonus',\n",
       " 'keep',\n",
       " 'major',\n",
       " 'manual',\n",
       " 'website',\n",
       " 'area',\n",
       " 'active',\n",
       " 'please',\n",
       " 'clinic',\n",
       " 'even',\n",
       " 'better',\n",
       " 'warm',\n",
       " 'makes']"
      ]
     },
     "execution_count": 20,
     "metadata": {},
     "output_type": "execute_result"
    }
   ],
   "source": [
    "print('raw dataset: {}'.format(len(text_process(df['Description'][0]))))\n",
    "text_process(df['Description'][0])"
   ]
  },
  {
   "cell_type": "code",
   "execution_count": 21,
   "metadata": {
    "scrolled": true
   },
   "outputs": [
    {
     "data": {
      "text/html": [
       "<div>\n",
       "<style scoped>\n",
       "    .dataframe tbody tr th:only-of-type {\n",
       "        vertical-align: middle;\n",
       "    }\n",
       "\n",
       "    .dataframe tbody tr th {\n",
       "        vertical-align: top;\n",
       "    }\n",
       "\n",
       "    .dataframe thead th {\n",
       "        text-align: right;\n",
       "    }\n",
       "</style>\n",
       "<table border=\"1\" class=\"dataframe\">\n",
       "  <thead>\n",
       "    <tr style=\"text-align: right;\">\n",
       "      <th></th>\n",
       "      <th>JobId</th>\n",
       "      <th>JobTitleId</th>\n",
       "      <th>JobTitle</th>\n",
       "      <th>Description</th>\n",
       "      <th>Desc</th>\n",
       "    </tr>\n",
       "  </thead>\n",
       "  <tbody>\n",
       "    <tr>\n",
       "      <th>0</th>\n",
       "      <td>36126335</td>\n",
       "      <td>400878</td>\n",
       "      <td>Physical Therapist Assistant (PTA)</td>\n",
       "      <td>&lt;p&gt;Looking for part-time PT&amp;nbsp;for a quick growing and dynamic outpatient physical therapy clinic. Mentorship available and encouraged!&amp;nbsp; Ou...</td>\n",
       "      <td>[daily, patients, womens, start, feet, available, approach, necessary, continued, exercise, located, licensing, focuses, dpt, room, growing, exper...</td>\n",
       "    </tr>\n",
       "    <tr>\n",
       "      <th>1</th>\n",
       "      <td>39345757</td>\n",
       "      <td>400720</td>\n",
       "      <td>Automotive Service Manager</td>\n",
       "      <td>At David Maus Toyota, we strive to make every customer a customer for life.&lt;br/&gt; Happy employees make happy customers, and we reward individuals w...</td>\n",
       "      <td>[daily, reward, customers, others, drive, plus, phone, person, customer, absolutely, owner, experience, ready, award, take, willing, critical, dav...</td>\n",
       "    </tr>\n",
       "    <tr>\n",
       "      <th>2</th>\n",
       "      <td>84331465</td>\n",
       "      <td>407973</td>\n",
       "      <td>Wastewater Project Manager</td>\n",
       "      <td>&lt;p&gt;Position Summary:&lt;/p&gt;\\n&lt;p&gt;Project Management personnel are responsible for the overall safety, direction, completion, and financial outcome of ...</td>\n",
       "      <td>[promote, budget, labor, subject, forecast, others, termination, preferred, initial, ongoing, must, special, curriculum, requirements, customer, t...</td>\n",
       "    </tr>\n",
       "    <tr>\n",
       "      <th>3</th>\n",
       "      <td>88112060</td>\n",
       "      <td>402654</td>\n",
       "      <td>Neonatal Nurse</td>\n",
       "      <td>&lt;p&gt;Envision Physician Services is seeking a Neonatal Nurse Practitioner to join our busy practice covering 7 Medical City facilities in the DFW ar...</td>\n",
       "      <td>[infrastructure, contracts, region’s, continued, metroplex, caremedical, mfm, several, physician, areas, alliance, tail, based, dedicated, medical...</td>\n",
       "    </tr>\n",
       "    <tr>\n",
       "      <th>4</th>\n",
       "      <td>88112450</td>\n",
       "      <td>402654</td>\n",
       "      <td>Neonatal Nurse</td>\n",
       "      <td>&lt;p&gt;Envision Physician Services is seeking a Neonatal Nurse Practitioner to join our busy practice covering 7 Medical City facilities in the DFW ar...</td>\n",
       "      <td>[premature, infrastructure, treat, contracts, region’s, continued, metroplex, caremedical, mfm, unit, ages, several, physician, areas, tail, based...</td>\n",
       "    </tr>\n",
       "  </tbody>\n",
       "</table>\n",
       "</div>"
      ],
      "text/plain": [
       "      JobId  JobTitleId                            JobTitle  \\\n",
       "0  36126335      400878  Physical Therapist Assistant (PTA)   \n",
       "1  39345757      400720          Automotive Service Manager   \n",
       "2  84331465      407973          Wastewater Project Manager   \n",
       "3  88112060      402654                      Neonatal Nurse   \n",
       "4  88112450      402654                      Neonatal Nurse   \n",
       "\n",
       "                                                                                                                                             Description  \\\n",
       "0  <p>Looking for part-time PT&nbsp;for a quick growing and dynamic outpatient physical therapy clinic. Mentorship available and encouraged!&nbsp; Ou...   \n",
       "1  At David Maus Toyota, we strive to make every customer a customer for life.<br/> Happy employees make happy customers, and we reward individuals w...   \n",
       "2  <p>Position Summary:</p>\\n<p>Project Management personnel are responsible for the overall safety, direction, completion, and financial outcome of ...   \n",
       "3  <p>Envision Physician Services is seeking a Neonatal Nurse Practitioner to join our busy practice covering 7 Medical City facilities in the DFW ar...   \n",
       "4  <p>Envision Physician Services is seeking a Neonatal Nurse Practitioner to join our busy practice covering 7 Medical City facilities in the DFW ar...   \n",
       "\n",
       "                                                                                                                                                    Desc  \n",
       "0  [daily, patients, womens, start, feet, available, approach, necessary, continued, exercise, located, licensing, focuses, dpt, room, growing, exper...  \n",
       "1  [daily, reward, customers, others, drive, plus, phone, person, customer, absolutely, owner, experience, ready, award, take, willing, critical, dav...  \n",
       "2  [promote, budget, labor, subject, forecast, others, termination, preferred, initial, ongoing, must, special, curriculum, requirements, customer, t...  \n",
       "3  [infrastructure, contracts, region’s, continued, metroplex, caremedical, mfm, several, physician, areas, alliance, tail, based, dedicated, medical...  \n",
       "4  [premature, infrastructure, treat, contracts, region’s, continued, metroplex, caremedical, mfm, unit, ages, several, physician, areas, tail, based...  "
      ]
     },
     "execution_count": 21,
     "metadata": {},
     "output_type": "execute_result"
    }
   ],
   "source": [
    "# Let's take a look at the updated text\n",
    "df['Desc'] = pd.DataFrame(df.Description.apply(round1))\n",
    "df.head()"
   ]
  },
  {
   "cell_type": "code",
   "execution_count": 22,
   "metadata": {
    "scrolled": true
   },
   "outputs": [
    {
     "data": {
      "text/plain": [
       "'<div dir=\"ltr\"> </div><br><br><div dir=\"ltr\"><br><div dir=\"ltr\"><br><div><br><div><br><div><br><p><span style=\"font-size:12pt\"><span style=\"background:white\"><span style=\"vertical-align:baseline\"><span style=\"font-family:Calibri,sans-serif\"><b><span style=\"border:none windowtext 1.0pt; font-size:11.0pt; padding:0in\"><span style=\"font-family:&amp;quot;Times New Roman&amp;quot;,serif\"><span style=\"color:black\">Software Engineer AdTech</span></span></span></b></span></span></span></span></p><br><br><p> </p><br'"
      ]
     },
     "execution_count": 22,
     "metadata": {},
     "output_type": "execute_result"
    }
   ],
   "source": [
    "# before cleaning\n",
    "\n",
    "df.Description[1080]"
   ]
  },
  {
   "cell_type": "code",
   "execution_count": 23,
   "metadata": {
    "scrolled": true
   },
   "outputs": [
    {
     "data": {
      "text/plain": [
       "['software', 'engineer', 'adtech']"
      ]
     },
     "execution_count": 23,
     "metadata": {},
     "output_type": "execute_result"
    }
   ],
   "source": [
    "# after cleaning\n",
    "\n",
    "df.Desc[1080]"
   ]
  },
  {
   "cell_type": "code",
   "execution_count": 24,
   "metadata": {
    "scrolled": true
   },
   "outputs": [],
   "source": [
    "df['DescLength'] = df.Desc.apply(len)\n",
    "df['DescriptionLength'] = df.Description.apply(len)"
   ]
  },
  {
   "cell_type": "code",
   "execution_count": 25,
   "metadata": {
    "tags": []
   },
   "outputs": [
    {
     "data": {
      "image/png": "[encoded data removed]",
      "text/plain": [
       "<Figure size 1440x432 with 2 Axes>"
      ]
     },
     "metadata": {},
     "output_type": "display_data"
    }
   ],
   "source": [
    "fig, axes = plt.subplots(1,2, figsize=(20,6))\n",
    "\n",
    "# both subplots title\n",
    "fig.suptitle('Description Length')\n",
    "\n",
    "# plot1 object\n",
    "sns.histplot(df['DescriptionLength'],ax=axes[0])\n",
    "axes[0].set_title('Description Length histogram (before cleaning)')\n",
    "\n",
    "# plot2 object\n",
    "sns.histplot(df['DescLength'],ax=axes[1])\n",
    "axes[1].set_title('Description Length histogram (after cleaning)')\n",
    "\n",
    "# show plot\n",
    "plt.show()"
   ]
  },
  {
   "cell_type": "code",
   "execution_count": 26,
   "metadata": {
    "tags": []
   },
   "outputs": [
    {
     "data": {
      "text/html": [
       "<div>\n",
       "<style scoped>\n",
       "    .dataframe tbody tr th:only-of-type {\n",
       "        vertical-align: middle;\n",
       "    }\n",
       "\n",
       "    .dataframe tbody tr th {\n",
       "        vertical-align: top;\n",
       "    }\n",
       "\n",
       "    .dataframe thead th {\n",
       "        text-align: right;\n",
       "    }\n",
       "</style>\n",
       "<table border=\"1\" class=\"dataframe\">\n",
       "  <thead>\n",
       "    <tr style=\"text-align: right;\">\n",
       "      <th></th>\n",
       "      <th>JobId</th>\n",
       "      <th>JobTitleId</th>\n",
       "      <th>JobTitle</th>\n",
       "      <th>Description</th>\n",
       "      <th>Desc</th>\n",
       "      <th>DescLength</th>\n",
       "      <th>DescriptionLength</th>\n",
       "    </tr>\n",
       "  </thead>\n",
       "  <tbody>\n",
       "    <tr>\n",
       "      <th>999</th>\n",
       "      <td>488111533</td>\n",
       "      <td>404170</td>\n",
       "      <td>Proctor</td>\n",
       "      <td>&lt;div&gt;&lt;div data-bind=\"css: $component.getBlockCellCss($data, 0)\" class=\"block__cell block__field--wide-rich-text\" style=\"font-family: &amp;quot;Open Sa...</td>\n",
       "      <td>[]</td>\n",
       "      <td>0</td>\n",
       "      <td>512</td>\n",
       "    </tr>\n",
       "    <tr>\n",
       "      <th>275</th>\n",
       "      <td>197842631</td>\n",
       "      <td>100462</td>\n",
       "      <td>Medical Laboratory Technician (MLT)</td>\n",
       "      <td>&lt;p style=\"margin: 0px;\"&gt;x&lt;/p&gt;&lt;br&gt;&lt;p style=\"margin: 0px;\"&gt;x&lt;/p&gt;&lt;br&gt;&lt;p style=\"margin: 0px;\"&gt;x&lt;/p&gt;</td>\n",
       "      <td>[xxx]</td>\n",
       "      <td>1</td>\n",
       "      <td>95</td>\n",
       "    </tr>\n",
       "    <tr>\n",
       "      <th>1080</th>\n",
       "      <td>496707274</td>\n",
       "      <td>21</td>\n",
       "      <td>Software Engineer</td>\n",
       "      <td>&lt;div dir=\"ltr\"&gt; &lt;/div&gt;&lt;br&gt;&lt;br&gt;&lt;div dir=\"ltr\"&gt;&lt;br&gt;&lt;div dir=\"ltr\"&gt;&lt;br&gt;&lt;div&gt;&lt;br&gt;&lt;div&gt;&lt;br&gt;&lt;div&gt;&lt;br&gt;&lt;p&gt;&lt;span style=\"font-size:12pt\"&gt;&lt;span style=\"backgr...</td>\n",
       "      <td>[software, engineer, adtech]</td>\n",
       "      <td>3</td>\n",
       "      <td>512</td>\n",
       "    </tr>\n",
       "    <tr>\n",
       "      <th>984</th>\n",
       "      <td>485094592</td>\n",
       "      <td>21</td>\n",
       "      <td>Software Engineer</td>\n",
       "      <td>&lt;html&gt;&lt;body&gt;&lt;p&gt;&lt;span style=\"font-family: arial, helvetica, sans-serif; font-size: 11pt;\"&gt;&lt;b&gt;&lt;span style=\"text-decoration: none;\"&gt;TITLE&lt;/span&gt;&lt;/b&gt;&lt;...</td>\n",
       "      <td>[remote, software, location, engineer, title]</td>\n",
       "      <td>5</td>\n",
       "      <td>512</td>\n",
       "    </tr>\n",
       "    <tr>\n",
       "      <th>1081</th>\n",
       "      <td>496707802</td>\n",
       "      <td>21</td>\n",
       "      <td>Software Engineer</td>\n",
       "      <td>&lt;p&gt;&lt;span style=\"font-size:11pt\"&gt;&lt;span style=\"font-family:Calibri,sans-serif\"&gt;&lt;b&gt;&lt;span style=\"font-family:&amp;amp;quot;Cambria&amp;amp;quot;,&amp;amp;quot;ser...</td>\n",
       "      <td>[software, type, nnjob, employment, contract, engineer, title]</td>\n",
       "      <td>7</td>\n",
       "      <td>512</td>\n",
       "    </tr>\n",
       "  </tbody>\n",
       "</table>\n",
       "</div>"
      ],
      "text/plain": [
       "          JobId  JobTitleId                             JobTitle  \\\n",
       "999   488111533      404170                              Proctor   \n",
       "275   197842631      100462  Medical Laboratory Technician (MLT)   \n",
       "1080  496707274          21                    Software Engineer   \n",
       "984   485094592          21                    Software Engineer   \n",
       "1081  496707802          21                    Software Engineer   \n",
       "\n",
       "                                                                                                                                                Description  \\\n",
       "999   <div><div data-bind=\"css: $component.getBlockCellCss($data, 0)\" class=\"block__cell block__field--wide-rich-text\" style=\"font-family: &quot;Open Sa...   \n",
       "275                                                         <p style=\"margin: 0px;\">x</p><br><p style=\"margin: 0px;\">x</p><br><p style=\"margin: 0px;\">x</p>   \n",
       "1080  <div dir=\"ltr\"> </div><br><br><div dir=\"ltr\"><br><div dir=\"ltr\"><br><div><br><div><br><div><br><p><span style=\"font-size:12pt\"><span style=\"backgr...   \n",
       "984   <html><body><p><span style=\"font-family: arial, helvetica, sans-serif; font-size: 11pt;\"><b><span style=\"text-decoration: none;\">TITLE</span></b><...   \n",
       "1081  <p><span style=\"font-size:11pt\"><span style=\"font-family:Calibri,sans-serif\"><b><span style=\"font-family:&amp;quot;Cambria&amp;quot;,&amp;quot;ser...   \n",
       "\n",
       "                                                                Desc  \\\n",
       "999                                                               []   \n",
       "275                                                            [xxx]   \n",
       "1080                                    [software, engineer, adtech]   \n",
       "984                    [remote, software, location, engineer, title]   \n",
       "1081  [software, type, nnjob, employment, contract, engineer, title]   \n",
       "\n",
       "      DescLength  DescriptionLength  \n",
       "999            0                512  \n",
       "275            1                 95  \n",
       "1080           3                512  \n",
       "984            5                512  \n",
       "1081           7                512  "
      ]
     },
     "execution_count": 26,
     "metadata": {},
     "output_type": "execute_result"
    }
   ],
   "source": [
    "df[df.DescLength < 50].sort_values(by='DescLength').head()"
   ]
  },
  {
   "cell_type": "code",
   "execution_count": 27,
   "metadata": {
    "tags": []
   },
   "outputs": [
    {
     "data": {
      "text/plain": [
       "'<div><div data-bind=\"css: $component.getBlockCellCss($data, 0)\" class=\"block__cell block__field--wide-rich-text\" style=\"font-family: &quot;Open Sans&quot;, &quot;Segoe UI&quot;, Frutiger, &quot;Frutiger Linotype&quot;, &quot;Dejavu Sans&quot;, &quot;Helvetica Neue&quot;, Arial, sans-serif; font-size: 13.02px; padding: 0px 25px 0px 0px; margin: 10px 0px 0px; width: 961.667px; box-sizing: border-box;\"><div data-bind=\"attr: {id: $data.name + \\'-container\\',\\n        class:(\\n        $data.displayType === \\'InputTex'"
      ]
     },
     "execution_count": 27,
     "metadata": {},
     "output_type": "execute_result"
    }
   ],
   "source": [
    "df.loc[999,'Description'] "
   ]
  },
  {
   "cell_type": "code",
   "execution_count": 28,
   "metadata": {
    "scrolled": true
   },
   "outputs": [
    {
     "data": {
      "text/plain": [
       "'<p style=\"margin: 0px;\">x</p><br><p style=\"margin: 0px;\">x</p><br><p style=\"margin: 0px;\">x</p>'"
      ]
     },
     "execution_count": 28,
     "metadata": {},
     "output_type": "execute_result"
    }
   ],
   "source": [
    "df.loc[275,'Description'] "
   ]
  },
  {
   "cell_type": "code",
   "execution_count": 29,
   "metadata": {
    "scrolled": true
   },
   "outputs": [
    {
     "data": {
      "text/html": [
       "<div>\n",
       "<style scoped>\n",
       "    .dataframe tbody tr th:only-of-type {\n",
       "        vertical-align: middle;\n",
       "    }\n",
       "\n",
       "    .dataframe tbody tr th {\n",
       "        vertical-align: top;\n",
       "    }\n",
       "\n",
       "    .dataframe thead th {\n",
       "        text-align: right;\n",
       "    }\n",
       "</style>\n",
       "<table border=\"1\" class=\"dataframe\">\n",
       "  <thead>\n",
       "    <tr style=\"text-align: right;\">\n",
       "      <th></th>\n",
       "      <th>JobId</th>\n",
       "      <th>JobTitleId</th>\n",
       "      <th>JobTitle</th>\n",
       "      <th>Description</th>\n",
       "      <th>Desc</th>\n",
       "      <th>DescLength</th>\n",
       "      <th>DescriptionLength</th>\n",
       "    </tr>\n",
       "  </thead>\n",
       "  <tbody>\n",
       "    <tr>\n",
       "      <th>275</th>\n",
       "      <td>197842631</td>\n",
       "      <td>100462</td>\n",
       "      <td>Medical Laboratory Technician (MLT)</td>\n",
       "      <td>&lt;p style=\"margin: 0px;\"&gt;x&lt;/p&gt;&lt;br&gt;&lt;p style=\"margin: 0px;\"&gt;x&lt;/p&gt;&lt;br&gt;&lt;p style=\"margin: 0px;\"&gt;x&lt;/p&gt;</td>\n",
       "      <td>[xxx]</td>\n",
       "      <td>1</td>\n",
       "      <td>95</td>\n",
       "    </tr>\n",
       "  </tbody>\n",
       "</table>\n",
       "</div>"
      ],
      "text/plain": [
       "         JobId  JobTitleId                             JobTitle  \\\n",
       "275  197842631      100462  Medical Laboratory Technician (MLT)   \n",
       "\n",
       "                                                                                         Description  \\\n",
       "275  <p style=\"margin: 0px;\">x</p><br><p style=\"margin: 0px;\">x</p><br><p style=\"margin: 0px;\">x</p>   \n",
       "\n",
       "      Desc  DescLength  DescriptionLength  \n",
       "275  [xxx]           1                 95  "
      ]
     },
     "execution_count": 29,
     "metadata": {},
     "output_type": "execute_result"
    }
   ],
   "source": [
    "df[df.DescriptionLength <100].head()"
   ]
  },
  {
   "cell_type": "code",
   "execution_count": 30,
   "metadata": {
    "scrolled": true
   },
   "outputs": [],
   "source": [
    "# removing rows with no valid text in the Description \n",
    "\n",
    "df.drop(df[(df.DescriptionLength < 100)|(df.DescLength < 3)].index, inplace=True)"
   ]
  },
  {
   "cell_type": "code",
   "execution_count": 31,
   "metadata": {
    "scrolled": true
   },
   "outputs": [
    {
     "data": {
      "text/html": [
       "<div>\n",
       "<style scoped>\n",
       "    .dataframe tbody tr th:only-of-type {\n",
       "        vertical-align: middle;\n",
       "    }\n",
       "\n",
       "    .dataframe tbody tr th {\n",
       "        vertical-align: top;\n",
       "    }\n",
       "\n",
       "    .dataframe thead th {\n",
       "        text-align: right;\n",
       "    }\n",
       "</style>\n",
       "<table border=\"1\" class=\"dataframe\">\n",
       "  <thead>\n",
       "    <tr style=\"text-align: right;\">\n",
       "      <th></th>\n",
       "      <th>JobTitleId</th>\n",
       "      <th>DescLength</th>\n",
       "      <th>DescriptionLength</th>\n",
       "    </tr>\n",
       "  </thead>\n",
       "  <tbody>\n",
       "    <tr>\n",
       "      <th>count</th>\n",
       "      <td>1097.000000</td>\n",
       "      <td>1097.000000</td>\n",
       "      <td>1097.000000</td>\n",
       "    </tr>\n",
       "    <tr>\n",
       "      <th>mean</th>\n",
       "      <td>260940.872379</td>\n",
       "      <td>179.481313</td>\n",
       "      <td>3110.663628</td>\n",
       "    </tr>\n",
       "    <tr>\n",
       "      <th>std</th>\n",
       "      <td>190654.543678</td>\n",
       "      <td>103.711673</td>\n",
       "      <td>2184.767587</td>\n",
       "    </tr>\n",
       "    <tr>\n",
       "      <th>min</th>\n",
       "      <td>21.000000</td>\n",
       "      <td>3.000000</td>\n",
       "      <td>281.000000</td>\n",
       "    </tr>\n",
       "    <tr>\n",
       "      <th>25%</th>\n",
       "      <td>21.000000</td>\n",
       "      <td>86.000000</td>\n",
       "      <td>1484.000000</td>\n",
       "    </tr>\n",
       "    <tr>\n",
       "      <th>50%</th>\n",
       "      <td>400832.000000</td>\n",
       "      <td>188.000000</td>\n",
       "      <td>3034.000000</td>\n",
       "    </tr>\n",
       "    <tr>\n",
       "      <th>75%</th>\n",
       "      <td>402654.000000</td>\n",
       "      <td>251.000000</td>\n",
       "      <td>4277.000000</td>\n",
       "    </tr>\n",
       "    <tr>\n",
       "      <th>max</th>\n",
       "      <td>410520.000000</td>\n",
       "      <td>616.000000</td>\n",
       "      <td>21330.000000</td>\n",
       "    </tr>\n",
       "  </tbody>\n",
       "</table>\n",
       "</div>"
      ],
      "text/plain": [
       "          JobTitleId   DescLength  DescriptionLength\n",
       "count    1097.000000  1097.000000        1097.000000\n",
       "mean   260940.872379   179.481313        3110.663628\n",
       "std    190654.543678   103.711673        2184.767587\n",
       "min        21.000000     3.000000         281.000000\n",
       "25%        21.000000    86.000000        1484.000000\n",
       "50%    400832.000000   188.000000        3034.000000\n",
       "75%    402654.000000   251.000000        4277.000000\n",
       "max    410520.000000   616.000000       21330.000000"
      ]
     },
     "execution_count": 31,
     "metadata": {},
     "output_type": "execute_result"
    }
   ],
   "source": [
    "# looks like we were able to clean a lot of unnecessary text\n",
    "\n",
    "df.describe()"
   ]
  },
  {
   "cell_type": "markdown",
   "metadata": {},
   "source": [
    "## lemmatization"
   ]
  },
  {
   "cell_type": "code",
   "execution_count": 32,
   "metadata": {
    "scrolled": true,
    "tags": []
   },
   "outputs": [
    {
     "name": "stdout",
     "output_type": "stream",
     "text": [
      "155\n"
     ]
    },
    {
     "data": {
      "text/plain": [
       "['daily',\n",
       " 'patient',\n",
       " 'woman',\n",
       " 'start',\n",
       " 'foot',\n",
       " 'available',\n",
       " 'approach',\n",
       " 'necessary',\n",
       " 'continued',\n",
       " 'exercise',\n",
       " 'located',\n",
       " 'licensing',\n",
       " 'focus',\n",
       " 'dpt',\n",
       " 'room',\n",
       " 'growing',\n",
       " 'experience',\n",
       " 'beach',\n",
       " 'large',\n",
       " 'take',\n",
       " 'based',\n",
       " 'andrew',\n",
       " 'medical',\n",
       " 'note',\n",
       " 'environment',\n",
       " 'clinical',\n",
       " 'wwwandrewptcom',\n",
       " 'wks',\n",
       " 'new',\n",
       " 'resume',\n",
       " 'dynamic',\n",
       " 'hiking',\n",
       " 'week',\n",
       " 'manageable',\n",
       " 'fee',\n",
       " 'life',\n",
       " 'load',\n",
       " 'care',\n",
       " 'motivated',\n",
       " 'outpatient',\n",
       " 'treatment',\n",
       " 'skill',\n",
       " 'holiday',\n",
       " 'interest',\n",
       " 'continuing',\n",
       " 'powered',\n",
       " 'rehabilitation',\n",
       " 'room',\n",
       " 'employee',\n",
       " 'graduate',\n",
       " 'mentorship',\n",
       " 'ingredient',\n",
       " 'time',\n",
       " 'vacation',\n",
       " 'equipped',\n",
       " 'mountain',\n",
       " 'including',\n",
       " 'fax',\n",
       " 'personalized',\n",
       " 'work',\n",
       " 'situated',\n",
       " 'matching',\n",
       " 'company',\n",
       " 'paid',\n",
       " 'within',\n",
       " 'via',\n",
       " 'clinician',\n",
       " 'parttime',\n",
       " 'welcome',\n",
       " 'spend',\n",
       " 'encouraged',\n",
       " 'learning',\n",
       " 'benefit',\n",
       " 'case',\n",
       " 'happy',\n",
       " 'yearly',\n",
       " 'program',\n",
       " 'may',\n",
       " 'looking',\n",
       " 'cycling',\n",
       " 'believe',\n",
       " 'spanning',\n",
       " 'modality',\n",
       " 'per',\n",
       " 'sharing',\n",
       " 'coverage',\n",
       " 'perfectly',\n",
       " 'private',\n",
       " 'information',\n",
       " 'cutting',\n",
       " 'therapy',\n",
       " 'pt',\n",
       " 'quick',\n",
       " 'well',\n",
       " 'therapist',\n",
       " 'also',\n",
       " 'equipment',\n",
       " 'personal',\n",
       " 'workout',\n",
       " 'minute',\n",
       " 'depending',\n",
       " 'solar',\n",
       " 'visit',\n",
       " 'day',\n",
       " 'help',\n",
       " 'fund',\n",
       " 'every',\n",
       " 'growth',\n",
       " 'email',\n",
       " 'education',\n",
       " 'w',\n",
       " 'serve',\n",
       " 'physical',\n",
       " 'quality',\n",
       " 'enthusiast',\n",
       " 'one',\n",
       " 'offer',\n",
       " 'total',\n",
       " 'johnandrewptgmailcom',\n",
       " 'separate',\n",
       " 'fulltime',\n",
       " 'square',\n",
       " 'dental',\n",
       " 'performanceprofits',\n",
       " 'competitive',\n",
       " 'vaulted',\n",
       " 'always',\n",
       " 'positive',\n",
       " 'full',\n",
       " 'edge',\n",
       " 'health',\n",
       " 'recreational',\n",
       " 'u',\n",
       " 'key',\n",
       " 'mcminnville',\n",
       " 'ceiling',\n",
       " 'enjoyable',\n",
       " 'caring',\n",
       " 'contact',\n",
       " 'salary',\n",
       " 'year',\n",
       " 'profit',\n",
       " 'latest',\n",
       " 'bonus',\n",
       " 'keep',\n",
       " 'major',\n",
       " 'manual',\n",
       " 'website',\n",
       " 'area',\n",
       " 'active',\n",
       " 'please',\n",
       " 'clinic',\n",
       " 'even',\n",
       " 'better',\n",
       " 'warm',\n",
       " 'make']"
      ]
     },
     "execution_count": 32,
     "metadata": {},
     "output_type": "execute_result"
    }
   ],
   "source": [
    "from nltk.stem import WordNetLemmatizer\n",
    "\n",
    "lemmatizer = WordNetLemmatizer()\n",
    "\n",
    "test = df.loc[0,'Desc']\n",
    "\n",
    "lemmatized = [lemmatizer.lemmatize(w) for w in test]\n",
    "\n",
    "print(len((set(lemmatized))))\n",
    "\n",
    "lemmatized"
   ]
  },
  {
   "cell_type": "code",
   "execution_count": 33,
   "metadata": {
    "scrolled": true
   },
   "outputs": [],
   "source": [
    "words = ['run', 'running', 'ran','go', 'going', 'goes', 'went']"
   ]
  },
  {
   "cell_type": "code",
   "execution_count": 34,
   "metadata": {
    "scrolled": true
   },
   "outputs": [
    {
     "data": {
      "text/plain": [
       "['run', 'running', 'ran', 'go', 'going', 'go', 'went']"
      ]
     },
     "execution_count": 34,
     "metadata": {},
     "output_type": "execute_result"
    }
   ],
   "source": [
    "[lemmatizer.lemmatize(w) for w in words]"
   ]
  },
  {
   "cell_type": "markdown",
   "metadata": {},
   "source": [
    "## Stemming"
   ]
  },
  {
   "cell_type": "code",
   "execution_count": 35,
   "metadata": {
    "scrolled": true,
    "tags": []
   },
   "outputs": [
    {
     "name": "stdout",
     "output_type": "stream",
     "text": [
      "150\n"
     ]
    },
    {
     "data": {
      "text/plain": [
       "['daili',\n",
       " 'patient',\n",
       " 'women',\n",
       " 'start',\n",
       " 'feet',\n",
       " 'avail',\n",
       " 'approach',\n",
       " 'necessari',\n",
       " 'continu',\n",
       " 'exercis',\n",
       " 'locat',\n",
       " 'licens',\n",
       " 'focus',\n",
       " 'dpt',\n",
       " 'room',\n",
       " 'grow',\n",
       " 'experi',\n",
       " 'beach',\n",
       " 'larg',\n",
       " 'take',\n",
       " 'base',\n",
       " 'andrew',\n",
       " 'medic',\n",
       " 'note',\n",
       " 'environ',\n",
       " 'clinic',\n",
       " 'wwwandrewptcom',\n",
       " 'wk',\n",
       " 'new',\n",
       " 'resum',\n",
       " 'dynam',\n",
       " 'hike',\n",
       " 'week',\n",
       " 'manag',\n",
       " 'fee',\n",
       " 'life',\n",
       " 'load',\n",
       " 'care',\n",
       " 'motiv',\n",
       " 'outpati',\n",
       " 'treatment',\n",
       " 'skill',\n",
       " 'holiday',\n",
       " 'interest',\n",
       " 'continu',\n",
       " 'power',\n",
       " 'rehabilit',\n",
       " 'room',\n",
       " 'employe',\n",
       " 'graduat',\n",
       " 'mentorship',\n",
       " 'ingredi',\n",
       " 'time',\n",
       " 'vacat',\n",
       " 'equip',\n",
       " 'mountain',\n",
       " 'includ',\n",
       " 'fax',\n",
       " 'person',\n",
       " 'work',\n",
       " 'situat',\n",
       " 'match',\n",
       " 'compani',\n",
       " 'paid',\n",
       " 'within',\n",
       " 'via',\n",
       " 'clinician',\n",
       " 'parttim',\n",
       " 'welcom',\n",
       " 'spend',\n",
       " 'encourag',\n",
       " 'learn',\n",
       " 'benefit',\n",
       " 'case',\n",
       " 'happi',\n",
       " 'yearli',\n",
       " 'program',\n",
       " 'may',\n",
       " 'look',\n",
       " 'cycl',\n",
       " 'believ',\n",
       " 'span',\n",
       " 'modal',\n",
       " 'per',\n",
       " 'share',\n",
       " 'coverag',\n",
       " 'perfectli',\n",
       " 'privat',\n",
       " 'inform',\n",
       " 'cut',\n",
       " 'therapi',\n",
       " 'pt',\n",
       " 'quick',\n",
       " 'well',\n",
       " 'therapist',\n",
       " 'also',\n",
       " 'equip',\n",
       " 'person',\n",
       " 'workout',\n",
       " 'minut',\n",
       " 'depend',\n",
       " 'solar',\n",
       " 'visit',\n",
       " 'day',\n",
       " 'help',\n",
       " 'fund',\n",
       " 'everi',\n",
       " 'growth',\n",
       " 'email',\n",
       " 'educ',\n",
       " 'w',\n",
       " 'serv',\n",
       " 'physic',\n",
       " 'qualiti',\n",
       " 'enthusiast',\n",
       " 'one',\n",
       " 'offer',\n",
       " 'total',\n",
       " 'johnandrewptgmailcom',\n",
       " 'separ',\n",
       " 'fulltim',\n",
       " 'squar',\n",
       " 'dental',\n",
       " 'performanceprofit',\n",
       " 'competit',\n",
       " 'vault',\n",
       " 'alway',\n",
       " 'posit',\n",
       " 'full',\n",
       " 'edg',\n",
       " 'health',\n",
       " 'recreat',\n",
       " 'us',\n",
       " 'key',\n",
       " 'mcminnvil',\n",
       " 'ceil',\n",
       " 'enjoy',\n",
       " 'care',\n",
       " 'contact',\n",
       " 'salari',\n",
       " 'year',\n",
       " 'profit',\n",
       " 'latest',\n",
       " 'bonu',\n",
       " 'keep',\n",
       " 'major',\n",
       " 'manual',\n",
       " 'websit',\n",
       " 'area',\n",
       " 'activ',\n",
       " 'pleas',\n",
       " 'clinic',\n",
       " 'even',\n",
       " 'better',\n",
       " 'warm',\n",
       " 'make']"
      ]
     },
     "execution_count": 35,
     "metadata": {},
     "output_type": "execute_result"
    }
   ],
   "source": [
    "from nltk.stem import PorterStemmer\n",
    "from nltk.tokenize import word_tokenize\n",
    "\n",
    "stemming = PorterStemmer()\n",
    "stemming = [stemming.stem(w) for w in test]\n",
    "print(len(set(stemming)))\n",
    "stemming"
   ]
  },
  {
   "cell_type": "code",
   "execution_count": 36,
   "metadata": {
    "scrolled": true
   },
   "outputs": [
    {
     "data": {
      "text/plain": [
       "['run', 'run', 'ran', 'go', 'go', 'goe', 'went']"
      ]
     },
     "execution_count": 36,
     "metadata": {},
     "output_type": "execute_result"
    }
   ],
   "source": [
    "stem = PorterStemmer()\n",
    "[stem.stem(w) for w in words]"
   ]
  },
  {
   "cell_type": "code",
   "execution_count": 37,
   "metadata": {
    "tags": []
   },
   "outputs": [
    {
     "data": {
      "text/html": [
       "<div>\n",
       "<style scoped>\n",
       "    .dataframe tbody tr th:only-of-type {\n",
       "        vertical-align: middle;\n",
       "    }\n",
       "\n",
       "    .dataframe tbody tr th {\n",
       "        vertical-align: top;\n",
       "    }\n",
       "\n",
       "    .dataframe thead th {\n",
       "        text-align: right;\n",
       "    }\n",
       "</style>\n",
       "<table border=\"1\" class=\"dataframe\">\n",
       "  <thead>\n",
       "    <tr style=\"text-align: right;\">\n",
       "      <th></th>\n",
       "      <th>original</th>\n",
       "      <th>stemming</th>\n",
       "      <th>lemmatization</th>\n",
       "    </tr>\n",
       "  </thead>\n",
       "  <tbody>\n",
       "    <tr>\n",
       "      <th>0</th>\n",
       "      <td>daily</td>\n",
       "      <td>daili</td>\n",
       "      <td>daily</td>\n",
       "    </tr>\n",
       "    <tr>\n",
       "      <th>1</th>\n",
       "      <td>patients</td>\n",
       "      <td>patient</td>\n",
       "      <td>patient</td>\n",
       "    </tr>\n",
       "    <tr>\n",
       "      <th>2</th>\n",
       "      <td>womens</td>\n",
       "      <td>women</td>\n",
       "      <td>woman</td>\n",
       "    </tr>\n",
       "    <tr>\n",
       "      <th>3</th>\n",
       "      <td>start</td>\n",
       "      <td>start</td>\n",
       "      <td>start</td>\n",
       "    </tr>\n",
       "    <tr>\n",
       "      <th>4</th>\n",
       "      <td>feet</td>\n",
       "      <td>feet</td>\n",
       "      <td>foot</td>\n",
       "    </tr>\n",
       "    <tr>\n",
       "      <th>5</th>\n",
       "      <td>available</td>\n",
       "      <td>avail</td>\n",
       "      <td>available</td>\n",
       "    </tr>\n",
       "    <tr>\n",
       "      <th>6</th>\n",
       "      <td>approach</td>\n",
       "      <td>approach</td>\n",
       "      <td>approach</td>\n",
       "    </tr>\n",
       "    <tr>\n",
       "      <th>7</th>\n",
       "      <td>necessary</td>\n",
       "      <td>necessari</td>\n",
       "      <td>necessary</td>\n",
       "    </tr>\n",
       "    <tr>\n",
       "      <th>8</th>\n",
       "      <td>continued</td>\n",
       "      <td>continu</td>\n",
       "      <td>continued</td>\n",
       "    </tr>\n",
       "    <tr>\n",
       "      <th>9</th>\n",
       "      <td>exercise</td>\n",
       "      <td>exercis</td>\n",
       "      <td>exercise</td>\n",
       "    </tr>\n",
       "    <tr>\n",
       "      <th>10</th>\n",
       "      <td>located</td>\n",
       "      <td>locat</td>\n",
       "      <td>located</td>\n",
       "    </tr>\n",
       "    <tr>\n",
       "      <th>11</th>\n",
       "      <td>licensing</td>\n",
       "      <td>licens</td>\n",
       "      <td>licensing</td>\n",
       "    </tr>\n",
       "    <tr>\n",
       "      <th>12</th>\n",
       "      <td>focuses</td>\n",
       "      <td>focus</td>\n",
       "      <td>focus</td>\n",
       "    </tr>\n",
       "    <tr>\n",
       "      <th>13</th>\n",
       "      <td>dpt</td>\n",
       "      <td>dpt</td>\n",
       "      <td>dpt</td>\n",
       "    </tr>\n",
       "    <tr>\n",
       "      <th>14</th>\n",
       "      <td>room</td>\n",
       "      <td>room</td>\n",
       "      <td>room</td>\n",
       "    </tr>\n",
       "    <tr>\n",
       "      <th>15</th>\n",
       "      <td>growing</td>\n",
       "      <td>grow</td>\n",
       "      <td>growing</td>\n",
       "    </tr>\n",
       "    <tr>\n",
       "      <th>16</th>\n",
       "      <td>experience</td>\n",
       "      <td>experi</td>\n",
       "      <td>experience</td>\n",
       "    </tr>\n",
       "    <tr>\n",
       "      <th>17</th>\n",
       "      <td>beach</td>\n",
       "      <td>beach</td>\n",
       "      <td>beach</td>\n",
       "    </tr>\n",
       "    <tr>\n",
       "      <th>18</th>\n",
       "      <td>large</td>\n",
       "      <td>larg</td>\n",
       "      <td>large</td>\n",
       "    </tr>\n",
       "    <tr>\n",
       "      <th>19</th>\n",
       "      <td>take</td>\n",
       "      <td>take</td>\n",
       "      <td>take</td>\n",
       "    </tr>\n",
       "  </tbody>\n",
       "</table>\n",
       "</div>"
      ],
      "text/plain": [
       "      original   stemming lemmatization\n",
       "0        daily      daili         daily\n",
       "1     patients    patient       patient\n",
       "2       womens      women         woman\n",
       "3        start      start         start\n",
       "4         feet       feet          foot\n",
       "5    available      avail     available\n",
       "6     approach   approach      approach\n",
       "7    necessary  necessari     necessary\n",
       "8    continued    continu     continued\n",
       "9     exercise    exercis      exercise\n",
       "10     located      locat       located\n",
       "11   licensing     licens     licensing\n",
       "12     focuses      focus         focus\n",
       "13         dpt        dpt           dpt\n",
       "14        room       room          room\n",
       "15     growing       grow       growing\n",
       "16  experience     experi    experience\n",
       "17       beach      beach         beach\n",
       "18       large       larg         large\n",
       "19        take       take          take"
      ]
     },
     "execution_count": 37,
     "metadata": {},
     "output_type": "execute_result"
    }
   ],
   "source": [
    "comparing_df = pd.DataFrame(test,columns=['original'])\n",
    "comparing_df['stemming'] = stemming\n",
    "comparing_df['lemmatization'] = lemmatized\n",
    "comparing_df.drop_duplicates().head(20)"
   ]
  },
  {
   "cell_type": "code",
   "execution_count": null,
   "metadata": {
    "scrolled": true
   },
   "outputs": [],
   "source": []
  },
  {
   "cell_type": "markdown",
   "metadata": {},
   "source": [
    "## Create bi-grams or tri-grams"
   ]
  },
  {
   "cell_type": "code",
   "execution_count": null,
   "metadata": {
    "scrolled": true
   },
   "outputs": [],
   "source": []
  },
  {
   "cell_type": "code",
   "execution_count": null,
   "metadata": {
    "scrolled": true
   },
   "outputs": [],
   "source": []
  },
  {
   "cell_type": "code",
   "execution_count": null,
   "metadata": {
    "scrolled": true
   },
   "outputs": [],
   "source": []
  },
  {
   "cell_type": "markdown",
   "metadata": {},
   "source": [
    "## Deal with typos"
   ]
  },
  {
   "cell_type": "code",
   "execution_count": null,
   "metadata": {
    "scrolled": true
   },
   "outputs": [],
   "source": []
  },
  {
   "cell_type": "code",
   "execution_count": null,
   "metadata": {
    "scrolled": true
   },
   "outputs": [],
   "source": []
  },
  {
   "cell_type": "code",
   "execution_count": null,
   "metadata": {
    "scrolled": true
   },
   "outputs": [],
   "source": []
  },
  {
   "cell_type": "markdown",
   "metadata": {},
   "source": [
    "## Word2Vec"
   ]
  },
  {
   "cell_type": "markdown",
   "metadata": {},
   "source": [
    "### trained gensim.models.Word2Vec with df['Desc'], created a visualization,reduced the dimantion with PCA to 15 and created a new dataframe with the new 15 features and the original dataframe."
   ]
  },
  {
   "cell_type": "markdown",
   "metadata": {},
   "source": [
    "#### Train"
   ]
  },
  {
   "cell_type": "code",
   "execution_count": 38,
   "metadata": {},
   "outputs": [
    {
     "name": "stderr",
     "output_type": "stream",
     "text": [
      "C:\\Users\\Hana Baron\\anaconda3\\lib\\site-packages\\gensim\\similarities\\__init__.py:15: UserWarning: The gensim.similarities.levenshtein submodule is disabled, because the optional Levenshtein package <https://pypi.org/project/python-Levenshtein/> is unavailable. Install Levenhstein (e.g. `pip install python-Levenshtein`) to suppress this warning.\n",
      "  warnings.warn(msg)\n"
     ]
    }
   ],
   "source": [
    "import gensim.models\n",
    "corpus = df['Desc']\n",
    "model = gensim.models.Word2Vec(corpus)"
   ]
  },
  {
   "cell_type": "code",
   "execution_count": 39,
   "metadata": {},
   "outputs": [
    {
     "data": {
      "text/plain": [
       "array([-1.4677182 ,  1.0275838 ,  1.6432317 , -0.2533131 , -0.98018676,\n",
       "       -0.7195288 ,  1.0905493 ,  0.22910966, -0.6275907 ,  1.3480854 ,\n",
       "        0.33476415, -0.41268885, -2.2222226 ,  0.4064716 ,  0.30450192,\n",
       "       -1.5355345 ,  0.67941976, -0.01886539, -0.08165357, -1.5471272 ,\n",
       "       -0.52089554, -0.01141913, -1.3156247 , -0.6011128 , -3.2778327 ,\n",
       "       -1.2290328 ,  1.172476  , -1.5684699 , -0.8821566 ,  1.604491  ,\n",
       "        1.0419468 ,  1.2631539 , -0.20332736, -1.1259854 , -0.1423438 ,\n",
       "        1.095925  , -0.31379157, -0.4488196 ,  0.2814836 , -0.87263936,\n",
       "       -0.10763569, -0.06851476, -1.2234577 , -0.5324092 , -0.38285306,\n",
       "       -0.31286356, -1.4582105 , -0.25240928,  0.54566914,  0.15022701,\n",
       "       -0.38511425, -0.73379827,  1.1099957 ,  1.2221371 , -2.1114662 ,\n",
       "        0.1170034 ,  1.1523168 ,  0.1528679 , -1.3559135 , -0.516246  ,\n",
       "       -0.81837326, -0.14979246, -0.11447559,  0.39068675,  0.4389904 ,\n",
       "        1.3270756 , -0.33122364,  0.7083219 ,  0.15955679, -0.35420692,\n",
       "       -0.7059429 ,  0.48067847,  0.38466913,  0.07895822,  1.0701561 ,\n",
       "        0.4434587 , -0.14444554,  0.5518229 ,  0.7414565 , -1.7395474 ,\n",
       "        0.18732357,  0.10058992,  0.23801088,  0.49199417,  0.82776177,\n",
       "       -1.4258579 , -0.9437927 ,  2.326946  ,  1.8262349 , -0.5666132 ,\n",
       "       -0.01650656,  0.37378094,  0.24239704, -1.8517871 ,  0.38637254,\n",
       "        0.5503738 ,  0.47620735, -2.669867  , -0.22478357, -0.5509104 ],\n",
       "      dtype=float32)"
      ]
     },
     "execution_count": 39,
     "metadata": {},
     "output_type": "execute_result"
    }
   ],
   "source": [
    "vec_king = model.wv['software']\n",
    "vec_king"
   ]
  },
  {
   "cell_type": "code",
   "execution_count": 40,
   "metadata": {
    "scrolled": true,
    "tags": []
   },
   "outputs": [
    {
     "data": {
      "text/plain": [
       "['team',\n",
       " 'work',\n",
       " 'experience',\n",
       " 'provide',\n",
       " 'years',\n",
       " 'services',\n",
       " 'us',\n",
       " 'new',\n",
       " 'skills',\n",
       " 'company',\n",
       " 'development',\n",
       " 'including',\n",
       " 'looking',\n",
       " 'job',\n",
       " 'time',\n",
       " 'one',\n",
       " 'information',\n",
       " 'status',\n",
       " 'working',\n",
       " 'business',\n",
       " 'join',\n",
       " 'environment',\n",
       " 'degree',\n",
       " 'position',\n",
       " 'responsibilities',\n",
       " 'required',\n",
       " 'management',\n",
       " 'quality',\n",
       " 'related',\n",
       " 'responsible',\n",
       " 'opportunity',\n",
       " 'professional',\n",
       " 'benefits',\n",
       " 'develop',\n",
       " 'service',\n",
       " 'disability',\n",
       " 'support',\n",
       " 'process',\n",
       " 'also',\n",
       " 'vision',\n",
       " 'make',\n",
       " 'high',\n",
       " 'software',\n",
       " 'national',\n",
       " 'care',\n",
       " 'people',\n",
       " 'training',\n",
       " 'help',\n",
       " 'ability',\n",
       " 'role',\n",
       " 'knowledge',\n",
       " 'applicants',\n",
       " 'data',\n",
       " 'application',\n",
       " 'systems',\n",
       " 'medical',\n",
       " 'plan',\n",
       " 'design',\n",
       " 'orientation',\n",
       " 'strong',\n",
       " 'well',\n",
       " 'build',\n",
       " 'communication',\n",
       " 'race',\n",
       " 'best',\n",
       " 'sexual',\n",
       " 'origin',\n",
       " 'religion',\n",
       " 'organization',\n",
       " 'gender',\n",
       " 'providing',\n",
       " 'color',\n",
       " 'equal',\n",
       " 'veteran',\n",
       " 'within',\n",
       " 'day',\n",
       " 'technical',\n",
       " 'across',\n",
       " 'requirements',\n",
       " 'employer',\n",
       " 'product',\n",
       " 'andor',\n",
       " 'employment',\n",
       " 'must',\n",
       " 'receive',\n",
       " 'opportunities',\n",
       " 'future',\n",
       " 'teams',\n",
       " 'projects',\n",
       " 'employees',\n",
       " 'include',\n",
       " 'products',\n",
       " 'candidate',\n",
       " 'excellent',\n",
       " 'location',\n",
       " 'programs',\n",
       " 'offer',\n",
       " 'visit',\n",
       " 'engineer',\n",
       " 'qualifications',\n",
       " 'engineering',\n",
       " 'part',\n",
       " 'level',\n",
       " 'without',\n",
       " 'growing',\n",
       " 'provides',\n",
       " 'technology',\n",
       " 'leading',\n",
       " 'package',\n",
       " 'may',\n",
       " 'identity',\n",
       " 'qualified',\n",
       " 'members',\n",
       " 'customer',\n",
       " 'life',\n",
       " 'performance',\n",
       " 'applications',\n",
       " 'education',\n",
       " 'assistant',\n",
       " 'needs',\n",
       " 'science',\n",
       " 'problems',\n",
       " 'computer',\n",
       " 'career',\n",
       " 'customers',\n",
       " 'program',\n",
       " 'please',\n",
       " 'committed',\n",
       " 'culture',\n",
       " 'solutions',\n",
       " 'communities',\n",
       " 'complex',\n",
       " 'equivalent',\n",
       " 'regard',\n",
       " 'largest',\n",
       " 'physical',\n",
       " 'success',\n",
       " 'like',\n",
       " 'system',\n",
       " 'diverse',\n",
       " 'employee',\n",
       " 'improve',\n",
       " 'tools',\n",
       " 'health',\n",
       " 'industry',\n",
       " 'consideration',\n",
       " 'age',\n",
       " 'duties',\n",
       " 'open',\n",
       " 'right',\n",
       " 'ensure',\n",
       " 'website',\n",
       " 'clients',\n",
       " 'primary',\n",
       " 'documentation',\n",
       " 'growth',\n",
       " 'seeking',\n",
       " 'developing',\n",
       " 'dental',\n",
       " 'use',\n",
       " 'homes',\n",
       " 'licensed',\n",
       " 'individual',\n",
       " 'using',\n",
       " 'preferred',\n",
       " 'leadership',\n",
       " 'state',\n",
       " 'assist',\n",
       " 'group',\n",
       " 'manager',\n",
       " 'practices',\n",
       " 'staff',\n",
       " 'fulltime',\n",
       " 'meet',\n",
       " 'passion',\n",
       " 'sex',\n",
       " 'financial',\n",
       " 'building',\n",
       " 'world',\n",
       " 'patients',\n",
       " 'currently',\n",
       " 'understanding',\n",
       " 'come',\n",
       " 'based',\n",
       " 'hiring',\n",
       " 'create',\n",
       " 'maintain',\n",
       " 'every',\n",
       " 'assigned',\n",
       " 'facilities',\n",
       " 'implement',\n",
       " 'daily',\n",
       " 'code',\n",
       " 'multiple',\n",
       " 'creating',\n",
       " 'internal',\n",
       " 'written',\n",
       " 'control',\n",
       " 'global',\n",
       " 'able',\n",
       " 'mission',\n",
       " 'fast',\n",
       " 'technologies',\n",
       " 'better',\n",
       " 'basis',\n",
       " 'first',\n",
       " 'insurance',\n",
       " 'established',\n",
       " 'protected',\n",
       " 'schedule',\n",
       " 'learn',\n",
       " 'diversity',\n",
       " 'essential',\n",
       " 'communicate',\n",
       " 'policies',\n",
       " 'full',\n",
       " 'therapy',\n",
       " 'take',\n",
       " 'etc',\n",
       " 'issues',\n",
       " 'operations',\n",
       " 'inc',\n",
       " 'results',\n",
       " 'independent',\n",
       " 'bachelors',\n",
       " 'expression',\n",
       " 'techniques',\n",
       " 'living',\n",
       " 'jobs',\n",
       " 'lead',\n",
       " 'drive',\n",
       " 'change',\n",
       " 'area',\n",
       " 'client',\n",
       " 'engineers',\n",
       " 'therapist',\n",
       " 'description',\n",
       " 'year',\n",
       " 'potential',\n",
       " 'procedures',\n",
       " 'manage',\n",
       " 'highly',\n",
       " 'value',\n",
       " 'focus',\n",
       " 'web',\n",
       " 'local',\n",
       " 'strategy',\n",
       " 'field',\n",
       " 'want',\n",
       " 'innovative',\n",
       " 'needed',\n",
       " 'apply',\n",
       " 'standards',\n",
       " 'production',\n",
       " 'designed',\n",
       " 'following',\n",
       " 'effectively',\n",
       " 'enthusiastic',\n",
       " 'follow',\n",
       " 'grow',\n",
       " 'order',\n",
       " 'functions',\n",
       " 'appropriate',\n",
       " 'need',\n",
       " 'expertise',\n",
       " 'collaborative',\n",
       " 'general',\n",
       " 'analysis',\n",
       " 'throughout',\n",
       " 'experiences',\n",
       " 'action',\n",
       " 'skilled',\n",
       " 'home',\n",
       " 'reports',\n",
       " 'innovation',\n",
       " 'provider',\n",
       " 'updates',\n",
       " 'content',\n",
       " 'community',\n",
       " 'deliver',\n",
       " 'sales',\n",
       " 'players',\n",
       " 'activities',\n",
       " 'law',\n",
       " 'cloud',\n",
       " 'key',\n",
       " 'marketing',\n",
       " 'engaged',\n",
       " 'processes',\n",
       " 'materials',\n",
       " 'real',\n",
       " '–',\n",
       " 'delivery',\n",
       " 'title',\n",
       " 'programming',\n",
       " 'available',\n",
       " 'flexible',\n",
       " 'minimum',\n",
       " 'markets',\n",
       " 'outpatient',\n",
       " 'facebook',\n",
       " 'made',\n",
       " 'necessary',\n",
       " 'review',\n",
       " 'testing',\n",
       " 'twitter',\n",
       " 'great',\n",
       " 'tests',\n",
       " 'test',\n",
       " 'get',\n",
       " 'hospitals',\n",
       " 'capabilities',\n",
       " 'compliance',\n",
       " 'competitive',\n",
       " 'closely',\n",
       " 'creative',\n",
       " 'resources',\n",
       " 'york',\n",
       " 'areas',\n",
       " 'share',\n",
       " 'pipeline',\n",
       " 'perform',\n",
       " 'call',\n",
       " 'university',\n",
       " 'construction',\n",
       " 'platform',\n",
       " 'dedicated',\n",
       " 'nursing',\n",
       " 'offers',\n",
       " 'plans',\n",
       " 'talented',\n",
       " 'submit',\n",
       " 'founded',\n",
       " 'collaboration',\n",
       " 'digital',\n",
       " 'initial',\n",
       " 'critical',\n",
       " 'per',\n",
       " 'consistent',\n",
       " 'rehabilitation',\n",
       " 'believe',\n",
       " 'commitment',\n",
       " 'compensation',\n",
       " 'inclusive',\n",
       " 'located',\n",
       " 'core',\n",
       " 'delivering',\n",
       " 'manner',\n",
       " 'college',\n",
       " 'assisted',\n",
       " 'together',\n",
       " 'check',\n",
       " 'fortune',\n",
       " 'combination',\n",
       " 'around',\n",
       " 'agile',\n",
       " 'performing',\n",
       " 'department',\n",
       " 'bring',\n",
       " 'meetings',\n",
       " 'specific',\n",
       " 'outside',\n",
       " 'adult',\n",
       " 'c',\n",
       " 'exchange',\n",
       " 'unit',\n",
       " 'impact',\n",
       " 'note',\n",
       " 'supervision',\n",
       " 'never',\n",
       " 'place',\n",
       " 'mortgage',\n",
       " 'loan',\n",
       " 'goals',\n",
       " 'units',\n",
       " 'applicable',\n",
       " 'partner',\n",
       " 'automated',\n",
       " 'passionate',\n",
       " 'understand',\n",
       " 'integration',\n",
       " 'next',\n",
       " 'two',\n",
       " 'candidates',\n",
       " 'office',\n",
       " 'project',\n",
       " 'special',\n",
       " 'winning',\n",
       " 'java',\n",
       " 'locations',\n",
       " 'school',\n",
       " 'attitudes',\n",
       " 'occupational',\n",
       " 'features',\n",
       " 'collaborate',\n",
       " 'infrastructure',\n",
       " 'publicly',\n",
       " 'older',\n",
       " 'ideas',\n",
       " 'planning',\n",
       " 'enterprise',\n",
       " 'learning',\n",
       " 'complete',\n",
       " 'subsidiaries',\n",
       " 'traded',\n",
       " 'equipment',\n",
       " 'builder',\n",
       " 'sale',\n",
       " 'treatment',\n",
       " 'coverage',\n",
       " 'stock',\n",
       " 'dr',\n",
       " 'external',\n",
       " 'hire',\n",
       " 'facilitate',\n",
       " 'partners',\n",
       " 'identify',\n",
       " 'thinking',\n",
       " 'maintenance',\n",
       " 'making',\n",
       " 'newest',\n",
       " 'financing',\n",
       " 'strategic',\n",
       " 'experienced',\n",
       " 'clinical',\n",
       " 'hours',\n",
       " 'entrylevel',\n",
       " 'matter',\n",
       " 'homebuyers',\n",
       " 'practice',\n",
       " 'contact',\n",
       " 'homebuilder',\n",
       " 'horton',\n",
       " 'moveup',\n",
       " 'principally',\n",
       " 'individuals',\n",
       " 'generous',\n",
       " 'loans',\n",
       " 'direction',\n",
       " 'research',\n",
       " 'setting',\n",
       " 'file',\n",
       " 'require',\n",
       " 'via',\n",
       " 'effective',\n",
       " 'ideal',\n",
       " 'maintaining',\n",
       " 'supporting',\n",
       " 'various',\n",
       " 'verbal',\n",
       " 'changes',\n",
       " 'member',\n",
       " 'architecture',\n",
       " 'works',\n",
       " 'scheduling',\n",
       " 'rehab',\n",
       " 'ownership',\n",
       " 'plus',\n",
       " 'lives',\n",
       " 'onsite',\n",
       " 'processing',\n",
       " 'id',\n",
       " 'adults',\n",
       " 'operating',\n",
       " 'current',\n",
       " 'successful',\n",
       " 'access',\n",
       " 'additional',\n",
       " 'speech',\n",
       " 'origination',\n",
       " 'clinics',\n",
       " 'platforms',\n",
       " 'challenge',\n",
       " 'marital',\n",
       " 'something',\n",
       " 'americas',\n",
       " 'originator',\n",
       " 'clearly',\n",
       " 'least',\n",
       " 'implementation',\n",
       " 'family',\n",
       " 'positive',\n",
       " 'functional',\n",
       " 'regarding',\n",
       " 'comprehensive',\n",
       " 'serve',\n",
       " 'detailed',\n",
       " 'worlds',\n",
       " 'network',\n",
       " 'purpose',\n",
       " 'evaluations',\n",
       " 'human',\n",
       " 'large',\n",
       " 'respiratory',\n",
       " 'top',\n",
       " 'includes',\n",
       " 'managers',\n",
       " 'documents',\n",
       " 'pay',\n",
       " 'genesis',\n",
       " 'transitional',\n",
       " 'you’re',\n",
       " 'center',\n",
       " 'python',\n",
       " 'ccrcs',\n",
       " 'solving',\n",
       " 'way',\n",
       " 'atmosphere',\n",
       " 'overall',\n",
       " 'monitor',\n",
       " 'scale',\n",
       " 'offices',\n",
       " 'developers',\n",
       " 'problem',\n",
       " 'leader',\n",
       " 'provided',\n",
       " 'variety',\n",
       " 'prepare',\n",
       " 'basic',\n",
       " 'balance',\n",
       " 'track',\n",
       " 'kind',\n",
       " 'facility',\n",
       " 'worked',\n",
       " 'continuous',\n",
       " 'responsibility',\n",
       " 'think',\n",
       " 'person',\n",
       " 'whether',\n",
       " 'security',\n",
       " 'greatest',\n",
       " 'comply',\n",
       " 'participate',\n",
       " 'big',\n",
       " 'sources',\n",
       " 'background',\n",
       " 'families',\n",
       " 'good',\n",
       " 'address',\n",
       " 'others',\n",
       " 'direct',\n",
       " 'progress',\n",
       " 'market',\n",
       " 'citizenship',\n",
       " 'tasks',\n",
       " 'spend',\n",
       " 'everyone',\n",
       " 'serving',\n",
       " 'policy',\n",
       " 'relevant',\n",
       " 'email',\n",
       " 'limited',\n",
       " 'handling',\n",
       " 'relationship',\n",
       " 'manual',\n",
       " 'paid',\n",
       " 'solve',\n",
       " 'analytical',\n",
       " 'branch',\n",
       " 'used',\n",
       " 'youll',\n",
       " 'leads',\n",
       " 'makes',\n",
       " 'power',\n",
       " 'challenging',\n",
       " 'familiar',\n",
       " 'demonstrated',\n",
       " 'unique',\n",
       " 'accommodation',\n",
       " 'existing',\n",
       " 'excel',\n",
       " 'accuracy',\n",
       " 'bonus',\n",
       " 'associate',\n",
       " 'languages',\n",
       " 'applying',\n",
       " 'designers',\n",
       " 'senior',\n",
       " 'federal',\n",
       " 'enable',\n",
       " 'recruiter',\n",
       " 'detail',\n",
       " 'talent',\n",
       " 'characteristic',\n",
       " 'safety',\n",
       " 'writing',\n",
       " 'assistance',\n",
       " 'initiatives',\n",
       " 'analyze',\n",
       " 'attention',\n",
       " 'automation',\n",
       " 'directly',\n",
       " 'weekend',\n",
       " 'consumer',\n",
       " 'resolving',\n",
       " 'opening',\n",
       " 'posting',\n",
       " 'would',\n",
       " 'implements',\n",
       " 'states',\n",
       " 'creates',\n",
       " 'treatments',\n",
       " 'set',\n",
       " 'rewarding',\n",
       " 'managing',\n",
       " 'ready',\n",
       " 'personal',\n",
       " 'requests',\n",
       " 'dynamic',\n",
       " 'license',\n",
       " 'approach',\n",
       " 'interested',\n",
       " 'train',\n",
       " 'analytics',\n",
       " 'levels',\n",
       " 'companies',\n",
       " 'millions',\n",
       " 'purchase',\n",
       " 'diploma',\n",
       " 'vacation',\n",
       " 'operational',\n",
       " 'contribute',\n",
       " 'interpersonal',\n",
       " 'functioning',\n",
       " 'proud',\n",
       " 'things',\n",
       " 'values',\n",
       " 'improvement',\n",
       " 'exceptional',\n",
       " 'presentations',\n",
       " 'meeting',\n",
       " 'obtain',\n",
       " 'increased',\n",
       " 'independence',\n",
       " 'microsoft',\n",
       " 'officer',\n",
       " 'total',\n",
       " 'acts',\n",
       " 'see',\n",
       " 'outstanding',\n",
       " 'funding',\n",
       " 'communications',\n",
       " 'could',\n",
       " 'individualized',\n",
       " 'maintains',\n",
       " 'attend',\n",
       " 'represent',\n",
       " 'administrative',\n",
       " 'promote',\n",
       " 'caregivers',\n",
       " 'decisions',\n",
       " 'social',\n",
       " 'user',\n",
       " 'matters',\n",
       " 'driving',\n",
       " 'drug',\n",
       " 'live',\n",
       " 'relationships',\n",
       " 'brand',\n",
       " 'eye',\n",
       " 'solution',\n",
       " 'finding',\n",
       " 'input',\n",
       " 'databases',\n",
       " 'language',\n",
       " 'instructs',\n",
       " 'ie',\n",
       " 'javascript',\n",
       " 'allows',\n",
       " 'volume',\n",
       " 'proven',\n",
       " 'staffing',\n",
       " 'organizational',\n",
       " 'quarterly',\n",
       " 'several',\n",
       " 'casual',\n",
       " 'patient',\n",
       " 'ways',\n",
       " 'mobile',\n",
       " 'included',\n",
       " 'proficiency',\n",
       " 'focused',\n",
       " 'annually',\n",
       " 'term',\n",
       " 'professionals',\n",
       " 'feedback',\n",
       " 'helping',\n",
       " 'youre',\n",
       " 'tech',\n",
       " 'sql',\n",
       " 'contract',\n",
       " 'record',\n",
       " 'respect',\n",
       " 'find',\n",
       " 'director',\n",
       " 'followup',\n",
       " 'worldwide',\n",
       " 'communicating',\n",
       " 'strive',\n",
       " 'safe',\n",
       " 'implementing',\n",
       " 'source',\n",
       " 'b',\n",
       " 'fouryear',\n",
       " 'efforts',\n",
       " 'ongoing',\n",
       " 'coding',\n",
       " 'educate',\n",
       " 'strategies',\n",
       " 'workplace',\n",
       " 'higher',\n",
       " 'along',\n",
       " 'prospective',\n",
       " 'operate',\n",
       " 'designing',\n",
       " 'become',\n",
       " 'healthcare',\n",
       " 'buyers',\n",
       " 'adequate',\n",
       " 'parttime',\n",
       " 'play',\n",
       " 'always',\n",
       " 'routinely',\n",
       " 'today',\n",
       " 'estate',\n",
       " 'prior',\n",
       " 'underwriting',\n",
       " 'timely',\n",
       " 'workforce',\n",
       " 'involved',\n",
       " 'highquality',\n",
       " 'recognized',\n",
       " 'range',\n",
       " 'schedules',\n",
       " 'requires',\n",
       " 'go',\n",
       " 'stakeholders',\n",
       " 'groups',\n",
       " 'industries',\n",
       " 'voice',\n",
       " 'increase',\n",
       " 'advanced',\n",
       " 'simple',\n",
       " 'everything',\n",
       " 'six',\n",
       " 'willing',\n",
       " 'condition',\n",
       " 'achieve',\n",
       " 'comfortable',\n",
       " 'united',\n",
       " 'statement',\n",
       " 'consumers',\n",
       " 'challenges',\n",
       " 'conversation',\n",
       " 'exciting',\n",
       " 'algorithms',\n",
       " 'ensuring',\n",
       " 'disabilities',\n",
       " 'aws',\n",
       " 'dedication',\n",
       " 'wwwgenesisrehabcom',\n",
       " 'subject',\n",
       " 'electronic',\n",
       " 'end',\n",
       " 'possess',\n",
       " 'player',\n",
       " 'latest',\n",
       " 'hard',\n",
       " 'major',\n",
       " 'handson',\n",
       " 'phone',\n",
       " 'recognition',\n",
       " 'months',\n",
       " 'log',\n",
       " 'grand',\n",
       " 'leaders',\n",
       " 'extensive',\n",
       " 'database',\n",
       " 'conduct',\n",
       " 'thought',\n",
       " 'different',\n",
       " 'distributed',\n",
       " 'since',\n",
       " 'public',\n",
       " 'ensures',\n",
       " 'coordinate',\n",
       " 'records',\n",
       " 'entertainment',\n",
       " 'qc',\n",
       " 'we’re',\n",
       " 'earning',\n",
       " 'travel',\n",
       " 'discover',\n",
       " 'cards',\n",
       " 'sure',\n",
       " 'borrower',\n",
       " 'consulting',\n",
       " 'reporting',\n",
       " 'intelligence',\n",
       " '•',\n",
       " 'representatives',\n",
       " 'personnel',\n",
       " 'operation',\n",
       " 'manufacturing',\n",
       " 'physician',\n",
       " 'account',\n",
       " 'give',\n",
       " 'progressive',\n",
       " 'heritage',\n",
       " 'reviews',\n",
       " 'regional',\n",
       " 'backend',\n",
       " 'inclusion',\n",
       " 'frameworks',\n",
       " 'rest',\n",
       " 'asset',\n",
       " 'another',\n",
       " 'accordance',\n",
       " 'insights',\n",
       " 'personally',\n",
       " 'healthpro',\n",
       " 'scalable',\n",
       " 'retirement',\n",
       " 'questions',\n",
       " 'apis',\n",
       " 'principles',\n",
       " 'keep',\n",
       " 'important',\n",
       " 'corporate',\n",
       " 'discrepancies',\n",
       " 'online',\n",
       " 'mortgages',\n",
       " 'realtors',\n",
       " 'driven',\n",
       " 'postclosingfunding',\n",
       " 'debugging',\n",
       " 'motivated',\n",
       " 'fastpaced',\n",
       " 'objectives',\n",
       " 'occasionally',\n",
       " 'machine',\n",
       " 'captive',\n",
       " 'considered',\n",
       " 'infrequently',\n",
       " 'eg',\n",
       " 'dhi',\n",
       " 'productionstaff',\n",
       " 'update',\n",
       " 'genetics',\n",
       " 'pta',\n",
       " 'industryrelated',\n",
       " 'diligently',\n",
       " 'constantly',\n",
       " 'quickly',\n",
       " 'week',\n",
       " 'marketingbusiness',\n",
       " 'signatures',\n",
       " 'developmentsales',\n",
       " 'bringing',\n",
       " 'emergency',\n",
       " 'calls',\n",
       " 'efficiency',\n",
       " 'employing',\n",
       " 'wwwdrhortoncom',\n",
       " 'true',\n",
       " 'standard',\n",
       " 'explore',\n",
       " 'visitorlead',\n",
       " 'noncaptive',\n",
       " 'modern',\n",
       " 'million',\n",
       " 'originations',\n",
       " 'clean',\n",
       " 'blizzard',\n",
       " 'private',\n",
       " 'love',\n",
       " 'roles',\n",
       " 'game',\n",
       " 'accounts',\n",
       " 'guidelines',\n",
       " 'common',\n",
       " 'enjoy',\n",
       " 'wellness',\n",
       " 'incredible',\n",
       " 'perks',\n",
       " 'clear',\n",
       " 'act',\n",
       " 'many',\n",
       " 'yoh',\n",
       " 'you’ll',\n",
       " 'options',\n",
       " 'moving',\n",
       " 'enhance',\n",
       " 'execution',\n",
       " 'games',\n",
       " 'robust',\n",
       " 'informationdr',\n",
       " 'annual',\n",
       " 'significant',\n",
       " 'brands',\n",
       " 'deep',\n",
       " 'run',\n",
       " 'report',\n",
       " 'patient’s',\n",
       " 'salary',\n",
       " 'mentoring',\n",
       " 'active',\n",
       " 'desire',\n",
       " 'zimmermann',\n",
       " 'trust',\n",
       " 'laws',\n",
       " 'site',\n",
       " 'wide',\n",
       " 'weekly',\n",
       " 'genetic',\n",
       " 'evaluate',\n",
       " 'write',\n",
       " 'terms',\n",
       " 'businesses',\n",
       " 'requisition',\n",
       " 'cost',\n",
       " 'seeks',\n",
       " 'decision',\n",
       " 'side',\n",
       " 'parties',\n",
       " 'discriminate',\n",
       " 'hospital',\n",
       " 'offering',\n",
       " 'certified',\n",
       " 'holidays',\n",
       " 'administration',\n",
       " 'users',\n",
       " 'changing',\n",
       " 'truly',\n",
       " 'ca',\n",
       " 'number',\n",
       " 'approval',\n",
       " 'shift',\n",
       " 'start',\n",
       " 'evolving',\n",
       " 'push',\n",
       " 'ged',\n",
       " 'preparation',\n",
       " 'forward',\n",
       " 'proficient',\n",
       " 'deserve',\n",
       " 'physicians',\n",
       " 'san',\n",
       " 'concepts',\n",
       " 'introduction',\n",
       " 'word',\n",
       " 'days',\n",
       " 'influence',\n",
       " 'transform',\n",
       " 'long',\n",
       " 'preparing',\n",
       " 'media',\n",
       " 'spending',\n",
       " 'small',\n",
       " 'amazing',\n",
       " 'performs',\n",
       " 'select',\n",
       " 'costs',\n",
       " 'nosql',\n",
       " 'bold',\n",
       " 'ibm',\n",
       " 'excellence',\n",
       " 'similar',\n",
       " 'atwwwdrhortoncomfor',\n",
       " 'summary',\n",
       " 'regulations',\n",
       " 'legacy',\n",
       " 'city',\n",
       " 'five',\n",
       " 'click',\n",
       " 'interest',\n",
       " 'planned',\n",
       " 'epic',\n",
       " 'accurate',\n",
       " 'pace',\n",
       " 'we’ve',\n",
       " 'expert',\n",
       " 'bachelor’s',\n",
       " 'framework',\n",
       " 'diem',\n",
       " 'accredited',\n",
       " 'oriented',\n",
       " 'methods',\n",
       " 'society',\n",
       " 'openness',\n",
       " 'fair',\n",
       " 'document',\n",
       " 'guidance',\n",
       " 'recommendations',\n",
       " 'years’',\n",
       " 'oral',\n",
       " 'dream',\n",
       " 'industryleading',\n",
       " 'name',\n",
       " 'execute',\n",
       " ...]"
      ]
     },
     "execution_count": 40,
     "metadata": {},
     "output_type": "execute_result"
    }
   ],
   "source": [
    "model.wv.index_to_key"
   ]
  },
  {
   "cell_type": "code",
   "execution_count": 41,
   "metadata": {},
   "outputs": [
    {
     "name": "stdout",
     "output_type": "stream",
     "text": [
      "index is  0 word is  team\n",
      "index is  1 word is  work\n",
      "index is  2 word is  experience\n",
      "index is  3 word is  provide\n",
      "index is  4 word is  years\n",
      "index is  5 word is  services\n",
      "index is  6 word is  us\n",
      "index is  7 word is  new\n",
      "index is  8 word is  skills\n",
      "index is  9 word is  company\n"
     ]
    }
   ],
   "source": [
    "for index, word in enumerate(model.wv.index_to_key):\n",
    "    if index == 10:\n",
    "        break\n",
    "    print(\"index is \" , index, \"word is \", word)"
   ]
  },
  {
   "cell_type": "code",
   "execution_count": 42,
   "metadata": {},
   "outputs": [],
   "source": [
    "# Filter the list of vectors to include only those that Word2Vec has a vector for\n",
    "vector_list = [model.wv[word] for word in words if word in model.wv.index_to_key]\n",
    "\n",
    "# Create a list of the words corresponding to these vectors\n",
    "words_filtered = [word for word in words if word in model.wv.index_to_key]\n",
    "\n",
    "# Zip the words together with their vector representations\n",
    "word_vec_zip = zip(words_filtered, vector_list)\n",
    "\n",
    "# Cast to a dict so we can turn it into a DataFrame\n",
    "word_vec_dict = dict(word_vec_zip)\n",
    "df_vec = pd.DataFrame.from_dict(word_vec_dict, orient='index')"
   ]
  },
  {
   "cell_type": "markdown",
   "metadata": {},
   "source": [
    "#### Visualization"
   ]
  },
  {
   "cell_type": "code",
   "execution_count": 43,
   "metadata": {},
   "outputs": [],
   "source": [
    "from sklearn import feature_extraction, model_selection, naive_bayes, pipeline, manifold, preprocessing"
   ]
  },
  {
   "cell_type": "code",
   "execution_count": 45,
   "metadata": {
    "collapsed": true,
    "jupyter": {
     "outputs_hidden": true
    },
    "tags": []
   },
   "outputs": [
    {
     "name": "stderr",
     "output_type": "stream",
     "text": [
      "C:\\Users\\Hana Baron\\anaconda3\\lib\\site-packages\\pandas\\core\\indexing.py:1732: SettingWithCopyWarning: \n",
      "A value is trying to be set on a copy of a slice from a DataFrame\n",
      "\n",
      "See the caveats in the documentation: https://pandas.pydata.org/pandas-docs/stable/user_guide/indexing.html#returning-a-view-versus-a-copy\n",
      "  self._setitem_single_block(indexer, value, name)\n"
     ]
    },
    {
     "data": {
      "image/png": "[encoded data removed]",
      "text/plain": [
       "<Figure size 1080x1080 with 1 Axes>"
      ]
     },
     "metadata": {},
     "output_type": "display_data"
    }
   ],
   "source": [
    "######visualization of word2vec\n",
    "# %matplotlib inline  \n",
    "# %matplotlib ipympl\n",
    "# %matplotlib notebook\n",
    "# %pylab\n",
    "\n",
    "word = \"software\"\n",
    "fig = plt.figure(figsize = (15,15))\n",
    "## word embedding\n",
    "tot_words = [word] + [tupla[0] for tupla in model.wv.most_similar(word, topn=20)]\n",
    "X = model.wv[tot_words]\n",
    "## pca to reduce dimensionality from 300 to 3\n",
    "pca = manifold.TSNE(perplexity=40, n_components=3, init='pca')\n",
    "X = pca.fit_transform(X)\n",
    "## create dtf\n",
    "dtf_ = pd.DataFrame(X, index=tot_words, columns=[\"x\",\"y\",\"z\"])\n",
    "dtf_[\"input\"] = 0\n",
    "dtf_[\"input\"].iloc[0:1] = 1\n",
    "\n",
    "## plot 3d\n",
    "from mpl_toolkits.mplot3d import Axes3D\n",
    "ax = fig.add_subplot(111, projection='3d')\n",
    "ax.scatter(dtf_[dtf_[\"input\"]==0]['x'], \n",
    "           dtf_[dtf_[\"input\"]==0]['y'], \n",
    "           dtf_[dtf_[\"input\"]==0]['z'], c=\"black\")\n",
    "ax.scatter(dtf_[dtf_[\"input\"]==1]['x'], \n",
    "           dtf_[dtf_[\"input\"]==1]['y'], \n",
    "           dtf_[dtf_[\"input\"]==1]['z'], c=\"red\")\n",
    "ax.set(xlabel=None, ylabel=None, zlabel=None, xticklabels=[], \n",
    "       yticklabels=[], zticklabels=[])\n",
    "for label, row in dtf_[[\"x\",\"y\",\"z\"]].iterrows():\n",
    "    x, y, z = row\n",
    "    ax.text(x, y, z, s=label)\n",
    "# ax.mouse_init()"
   ]
  },
  {
   "cell_type": "markdown",
   "metadata": {},
   "source": [
    "#### Reducing dimantions with PCA and creating new dataframe"
   ]
  },
  {
   "cell_type": "code",
   "execution_count": 46,
   "metadata": {},
   "outputs": [],
   "source": [
    "def document_vector(word2vec_model, doc):\n",
    "    # remove out-of-vocabulary words\n",
    "    doc = [word for word in doc if word in model.wv.index_to_key]\n",
    "    return np.mean(model.wv[doc], axis=0)\n",
    "\n",
    "# Function that will help us drop documents that have no word vectors in word2vec\n",
    "def has_vector_representation(word2vec_model, doc):\n",
    "    \"\"\"check if at least one word of the document is in the\n",
    "    word2vec dictionary\"\"\"\n",
    "    return not all(word not in word2vec_model.wv.index_to_key for word in doc)\n",
    "\n",
    "# Filter out documents\n",
    "def filter_docs(corpus, texts, condition_on_doc):\n",
    "    \"\"\"\n",
    "    Filter corpus and texts given the function condition_on_doc which takes a doc. The document doc is kept if condition_on_doc(doc) is true.\n",
    "    \"\"\"\n",
    "    number_of_docs = len(corpus)\n",
    "\n",
    "    if texts is not None:\n",
    "        texts = [text for (text, doc) in zip(texts, corpus)\n",
    "                 if condition_on_doc(doc)]\n",
    "\n",
    "    corpus = [doc for doc in corpus if condition_on_doc(doc)]\n",
    "\n",
    "    print(\"{} docs removed\".format(number_of_docs - len(corpus)))\n",
    "\n",
    "    return (corpus, texts)"
   ]
  },
  {
   "cell_type": "code",
   "execution_count": 47,
   "metadata": {},
   "outputs": [
    {
     "name": "stdout",
     "output_type": "stream",
     "text": [
      "0 docs removed\n",
      "0 docs removed\n"
     ]
    }
   ],
   "source": [
    "# Remove docs that don't include any words in W2V's vocab\n",
    "corpus, desc_list = filter_docs(corpus, df['Desc'], lambda doc: has_vector_representation(model, doc))\n",
    "\n",
    "# Filter out any empty docs\n",
    "corpus, desc_list = filter_docs(corpus, desc_list, lambda doc: (len(doc) != 0))\n",
    "x = []\n",
    "for doc in corpus: # append the vector for each document\n",
    "    x.append(document_vector(model, doc))\n",
    "    \n",
    "X = np.array(x) # list to array"
   ]
  },
  {
   "cell_type": "code",
   "execution_count": 48,
   "metadata": {},
   "outputs": [],
   "source": [
    "from sklearn.decomposition import PCA\n",
    "\n",
    "pca = PCA(n_components=15, random_state=10)\n",
    "\n",
    "# as a reminder, x is the array with our 300-dimensional vectors\n",
    "reduced_vecs = pca.fit_transform(x)\n",
    "df_w_vectors = pd.DataFrame(reduced_vecs)\n",
    "\n",
    "# Compose dataframe \n",
    "df_w_vectors['Desc'] = df['Desc']\n",
    "# Use pd.concat to match original titles with their vectors\n",
    "main_w_vectors = pd.concat((df_w_vectors, df), axis=1)\n",
    "\n",
    "# Get rid of vectors that couldn't be matched with the main_df\n",
    "main_w_vectors.dropna(axis=0, inplace=True)"
   ]
  },
  {
   "cell_type": "code",
   "execution_count": 49,
   "metadata": {
    "scrolled": true,
    "tags": []
   },
   "outputs": [
    {
     "data": {
      "text/html": [
       "<div>\n",
       "<style scoped>\n",
       "    .dataframe tbody tr th:only-of-type {\n",
       "        vertical-align: middle;\n",
       "    }\n",
       "\n",
       "    .dataframe tbody tr th {\n",
       "        vertical-align: top;\n",
       "    }\n",
       "\n",
       "    .dataframe thead th {\n",
       "        text-align: right;\n",
       "    }\n",
       "</style>\n",
       "<table border=\"1\" class=\"dataframe\">\n",
       "  <thead>\n",
       "    <tr style=\"text-align: right;\">\n",
       "      <th></th>\n",
       "      <th>0</th>\n",
       "      <th>1</th>\n",
       "      <th>2</th>\n",
       "      <th>3</th>\n",
       "      <th>4</th>\n",
       "      <th>5</th>\n",
       "      <th>6</th>\n",
       "      <th>7</th>\n",
       "      <th>8</th>\n",
       "      <th>9</th>\n",
       "      <th>...</th>\n",
       "      <th>13</th>\n",
       "      <th>14</th>\n",
       "      <th>Desc</th>\n",
       "      <th>JobId</th>\n",
       "      <th>JobTitleId</th>\n",
       "      <th>JobTitle</th>\n",
       "      <th>Description</th>\n",
       "      <th>Desc</th>\n",
       "      <th>DescLength</th>\n",
       "      <th>DescriptionLength</th>\n",
       "    </tr>\n",
       "  </thead>\n",
       "  <tbody>\n",
       "    <tr>\n",
       "      <th>0</th>\n",
       "      <td>0.135575</td>\n",
       "      <td>-0.163634</td>\n",
       "      <td>0.070889</td>\n",
       "      <td>-0.114294</td>\n",
       "      <td>-0.184705</td>\n",
       "      <td>-0.045648</td>\n",
       "      <td>-0.130499</td>\n",
       "      <td>-0.054187</td>\n",
       "      <td>0.151109</td>\n",
       "      <td>0.038041</td>\n",
       "      <td>...</td>\n",
       "      <td>0.026602</td>\n",
       "      <td>-0.017073</td>\n",
       "      <td>[daily, patients, womens, start, feet, available, approach, necessary, continued, exercise, located, licensing, focuses, dpt, room, growing, exper...</td>\n",
       "      <td>36126335</td>\n",
       "      <td>400878.0</td>\n",
       "      <td>Physical Therapist Assistant (PTA)</td>\n",
       "      <td>&lt;p&gt;Looking for part-time PT&amp;nbsp;for a quick growing and dynamic outpatient physical therapy clinic. Mentorship available and encouraged!&amp;nbsp; Ou...</td>\n",
       "      <td>[daily, patients, womens, start, feet, available, approach, necessary, continued, exercise, located, licensing, focuses, dpt, room, growing, exper...</td>\n",
       "      <td>156.0</td>\n",
       "      <td>2122.0</td>\n",
       "    </tr>\n",
       "    <tr>\n",
       "      <th>1</th>\n",
       "      <td>0.186135</td>\n",
       "      <td>-0.169038</td>\n",
       "      <td>-0.107762</td>\n",
       "      <td>0.059162</td>\n",
       "      <td>-0.301213</td>\n",
       "      <td>0.005458</td>\n",
       "      <td>-0.182807</td>\n",
       "      <td>0.090380</td>\n",
       "      <td>0.068573</td>\n",
       "      <td>-0.013640</td>\n",
       "      <td>...</td>\n",
       "      <td>0.068030</td>\n",
       "      <td>0.091233</td>\n",
       "      <td>[daily, reward, customers, others, drive, plus, phone, person, customer, absolutely, owner, experience, ready, award, take, willing, critical, dav...</td>\n",
       "      <td>39345757</td>\n",
       "      <td>400720.0</td>\n",
       "      <td>Automotive Service Manager</td>\n",
       "      <td>At David Maus Toyota, we strive to make every customer a customer for life.&lt;br/&gt; Happy employees make happy customers, and we reward individuals w...</td>\n",
       "      <td>[daily, reward, customers, others, drive, plus, phone, person, customer, absolutely, owner, experience, ready, award, take, willing, critical, dav...</td>\n",
       "      <td>114.0</td>\n",
       "      <td>1585.0</td>\n",
       "    </tr>\n",
       "    <tr>\n",
       "      <th>2</th>\n",
       "      <td>-0.159457</td>\n",
       "      <td>-0.082710</td>\n",
       "      <td>0.055185</td>\n",
       "      <td>-0.011303</td>\n",
       "      <td>-0.160043</td>\n",
       "      <td>-0.040891</td>\n",
       "      <td>0.089030</td>\n",
       "      <td>0.055312</td>\n",
       "      <td>-0.154705</td>\n",
       "      <td>0.091309</td>\n",
       "      <td>...</td>\n",
       "      <td>-0.023952</td>\n",
       "      <td>0.019026</td>\n",
       "      <td>[promote, budget, labor, subject, forecast, others, termination, preferred, initial, ongoing, must, special, curriculum, requirements, customer, t...</td>\n",
       "      <td>84331465</td>\n",
       "      <td>407973.0</td>\n",
       "      <td>Wastewater Project Manager</td>\n",
       "      <td>&lt;p&gt;Position Summary:&lt;/p&gt;\\n&lt;p&gt;Project Management personnel are responsible for the overall safety, direction, completion, and financial outcome of ...</td>\n",
       "      <td>[promote, budget, labor, subject, forecast, others, termination, preferred, initial, ongoing, must, special, curriculum, requirements, customer, t...</td>\n",
       "      <td>211.0</td>\n",
       "      <td>3306.0</td>\n",
       "    </tr>\n",
       "    <tr>\n",
       "      <th>3</th>\n",
       "      <td>0.508757</td>\n",
       "      <td>-0.476195</td>\n",
       "      <td>0.039282</td>\n",
       "      <td>-0.117875</td>\n",
       "      <td>0.166040</td>\n",
       "      <td>-0.100619</td>\n",
       "      <td>-0.024396</td>\n",
       "      <td>0.046001</td>\n",
       "      <td>0.132605</td>\n",
       "      <td>0.025022</td>\n",
       "      <td>...</td>\n",
       "      <td>0.000090</td>\n",
       "      <td>-0.007831</td>\n",
       "      <td>[infrastructure, contracts, region’s, continued, metroplex, caremedical, mfm, several, physician, areas, alliance, tail, based, dedicated, medical...</td>\n",
       "      <td>88112060</td>\n",
       "      <td>402654.0</td>\n",
       "      <td>Neonatal Nurse</td>\n",
       "      <td>&lt;p&gt;Envision Physician Services is seeking a Neonatal Nurse Practitioner to join our busy practice covering 7 Medical City facilities in the DFW ar...</td>\n",
       "      <td>[infrastructure, contracts, region’s, continued, metroplex, caremedical, mfm, several, physician, areas, alliance, tail, based, dedicated, medical...</td>\n",
       "      <td>132.0</td>\n",
       "      <td>1850.0</td>\n",
       "    </tr>\n",
       "    <tr>\n",
       "      <th>4</th>\n",
       "      <td>0.558009</td>\n",
       "      <td>-0.429677</td>\n",
       "      <td>0.035023</td>\n",
       "      <td>-0.102437</td>\n",
       "      <td>0.133215</td>\n",
       "      <td>-0.031504</td>\n",
       "      <td>-0.033007</td>\n",
       "      <td>0.045823</td>\n",
       "      <td>0.122427</td>\n",
       "      <td>0.012132</td>\n",
       "      <td>...</td>\n",
       "      <td>0.000051</td>\n",
       "      <td>-0.017975</td>\n",
       "      <td>[premature, infrastructure, treat, contracts, region’s, continued, metroplex, caremedical, mfm, unit, ages, several, physician, areas, tail, based...</td>\n",
       "      <td>88112450</td>\n",
       "      <td>402654.0</td>\n",
       "      <td>Neonatal Nurse</td>\n",
       "      <td>&lt;p&gt;Envision Physician Services is seeking a Neonatal Nurse Practitioner to join our busy practice covering 7 Medical City facilities in the DFW ar...</td>\n",
       "      <td>[premature, infrastructure, treat, contracts, region’s, continued, metroplex, caremedical, mfm, unit, ages, several, physician, areas, tail, based...</td>\n",
       "      <td>142.0</td>\n",
       "      <td>2002.0</td>\n",
       "    </tr>\n",
       "    <tr>\n",
       "      <th>...</th>\n",
       "      <td>...</td>\n",
       "      <td>...</td>\n",
       "      <td>...</td>\n",
       "      <td>...</td>\n",
       "      <td>...</td>\n",
       "      <td>...</td>\n",
       "      <td>...</td>\n",
       "      <td>...</td>\n",
       "      <td>...</td>\n",
       "      <td>...</td>\n",
       "      <td>...</td>\n",
       "      <td>...</td>\n",
       "      <td>...</td>\n",
       "      <td>...</td>\n",
       "      <td>...</td>\n",
       "      <td>...</td>\n",
       "      <td>...</td>\n",
       "      <td>...</td>\n",
       "      <td>...</td>\n",
       "      <td>...</td>\n",
       "      <td>...</td>\n",
       "    </tr>\n",
       "    <tr>\n",
       "      <th>1092</th>\n",
       "      <td>-0.845520</td>\n",
       "      <td>-0.805747</td>\n",
       "      <td>0.155044</td>\n",
       "      <td>0.029433</td>\n",
       "      <td>0.015495</td>\n",
       "      <td>0.064318</td>\n",
       "      <td>-0.110844</td>\n",
       "      <td>0.043812</td>\n",
       "      <td>-0.190904</td>\n",
       "      <td>-0.069239</td>\n",
       "      <td>...</td>\n",
       "      <td>0.079305</td>\n",
       "      <td>-0.000152</td>\n",
       "      <td>[programs, patients, rehabilitation, assisted, ccrcs, occupational, therapy, transitional, us, throughout, rehab, hospitals, therapist, hiring, ol...</td>\n",
       "      <td>500885340</td>\n",
       "      <td>400878.0</td>\n",
       "      <td>Physical Therapist Assistant (PTA)</td>\n",
       "      <td>&lt;p&gt;PART TIME POSITION 20 hours&lt;/p&gt;\\n&lt;p&gt;Genesis Rehab Services is a leading provider of Physical, Occupational, Speech and Respiratory Therapy for ...</td>\n",
       "      <td>[programs, patients, rehabilitation, assisted, ccrcs, occupational, therapy, transitional, us, throughout, rehab, hospitals, therapist, hiring, ol...</td>\n",
       "      <td>45.0</td>\n",
       "      <td>512.0</td>\n",
       "    </tr>\n",
       "    <tr>\n",
       "      <th>1093</th>\n",
       "      <td>-0.906966</td>\n",
       "      <td>-0.786431</td>\n",
       "      <td>0.287059</td>\n",
       "      <td>-0.042162</td>\n",
       "      <td>0.193468</td>\n",
       "      <td>0.216645</td>\n",
       "      <td>-0.174867</td>\n",
       "      <td>0.051426</td>\n",
       "      <td>-0.104177</td>\n",
       "      <td>-0.081252</td>\n",
       "      <td>...</td>\n",
       "      <td>0.041365</td>\n",
       "      <td>0.014496</td>\n",
       "      <td>[week, per, programs, patients, full, rehabilitation, assisted, ccrcs, occupational, therapy, transitional, us, throughout, rehab, hospitals, ther...</td>\n",
       "      <td>500885707</td>\n",
       "      <td>400878.0</td>\n",
       "      <td>Physical Therapist Assistant (PTA)</td>\n",
       "      <td>&lt;p&gt;FULL TIME POSITION 35 hours per week&lt;/p&gt;\\n&lt;p&gt;Genesis Rehab Services is a leading provider of Physical, Occupational, Speech and Respiratory The...</td>\n",
       "      <td>[week, per, programs, patients, full, rehabilitation, assisted, ccrcs, occupational, therapy, transitional, us, throughout, rehab, hospitals, ther...</td>\n",
       "      <td>47.0</td>\n",
       "      <td>512.0</td>\n",
       "    </tr>\n",
       "    <tr>\n",
       "      <th>1094</th>\n",
       "      <td>-0.948382</td>\n",
       "      <td>-0.823563</td>\n",
       "      <td>0.395982</td>\n",
       "      <td>0.021391</td>\n",
       "      <td>0.081749</td>\n",
       "      <td>0.159164</td>\n",
       "      <td>-0.217003</td>\n",
       "      <td>0.062762</td>\n",
       "      <td>-0.155156</td>\n",
       "      <td>-0.034445</td>\n",
       "      <td>...</td>\n",
       "      <td>0.101219</td>\n",
       "      <td>-0.007988</td>\n",
       "      <td>[week, per, programs, patients, rehabilitation, assisted, ccrcs, occupational, therapy, transitional, us, throughout, rehab, hospitals, therapist,...</td>\n",
       "      <td>500885799</td>\n",
       "      <td>400878.0</td>\n",
       "      <td>Physical Therapist Assistant (PTA)</td>\n",
       "      <td>&lt;p&gt;PART TIME POSITION 18 hours per week&lt;/p&gt;\\n&lt;p&gt;Genesis Rehab Services is a leading provider of Physical, Occupational, Speech and Respiratory The...</td>\n",
       "      <td>[week, per, programs, patients, rehabilitation, assisted, ccrcs, occupational, therapy, transitional, us, throughout, rehab, hospitals, therapist,...</td>\n",
       "      <td>47.0</td>\n",
       "      <td>512.0</td>\n",
       "    </tr>\n",
       "    <tr>\n",
       "      <th>1095</th>\n",
       "      <td>0.094806</td>\n",
       "      <td>-0.111871</td>\n",
       "      <td>-0.694648</td>\n",
       "      <td>0.055295</td>\n",
       "      <td>0.138172</td>\n",
       "      <td>-0.057124</td>\n",
       "      <td>0.077767</td>\n",
       "      <td>-0.021442</td>\n",
       "      <td>0.026525</td>\n",
       "      <td>-0.026457</td>\n",
       "      <td>...</td>\n",
       "      <td>0.093952</td>\n",
       "      <td>0.000484</td>\n",
       "      <td>[week, per, programs, patients, full, rehabilitation, assisted, ccrcs, occupational, therapy, transitional, us, throughout, rehab, hospitals, ther...</td>\n",
       "      <td>500885869</td>\n",
       "      <td>400878.0</td>\n",
       "      <td>Physical Therapist Assistant (PTA)</td>\n",
       "      <td>&lt;p&gt;FULL TIME POSITION 30 hours per week&lt;/p&gt;\\n&lt;p&gt;Genesis Rehab Services is a leading provider of Physical, Occupational, Speech and Respiratory The...</td>\n",
       "      <td>[week, per, programs, patients, full, rehabilitation, assisted, ccrcs, occupational, therapy, transitional, us, throughout, rehab, hospitals, ther...</td>\n",
       "      <td>47.0</td>\n",
       "      <td>512.0</td>\n",
       "    </tr>\n",
       "    <tr>\n",
       "      <th>1096</th>\n",
       "      <td>0.820479</td>\n",
       "      <td>-0.423405</td>\n",
       "      <td>0.240828</td>\n",
       "      <td>-0.134597</td>\n",
       "      <td>0.249122</td>\n",
       "      <td>-0.457109</td>\n",
       "      <td>-0.335385</td>\n",
       "      <td>-0.220183</td>\n",
       "      <td>-0.167717</td>\n",
       "      <td>0.091270</td>\n",
       "      <td>...</td>\n",
       "      <td>-0.033453</td>\n",
       "      <td>0.015812</td>\n",
       "      <td>[programs, patients, rehabilitation, assisted, ccrcs, occupational, therapy, transitional, us, throughout, rehab, hospitals, therapist, hiring, ol...</td>\n",
       "      <td>500886180</td>\n",
       "      <td>400878.0</td>\n",
       "      <td>Physical Therapist Assistant (PTA)</td>\n",
       "      <td>&lt;p&gt;FULL-TIME POSITION&lt;/p&gt;\\n&lt;p&gt;Genesis Rehab Services is a leading provider of Physical, Occupational, Speech and Respiratory Therapy for older adu...</td>\n",
       "      <td>[programs, patients, rehabilitation, assisted, ccrcs, occupational, therapy, transitional, us, throughout, rehab, hospitals, therapist, hiring, ol...</td>\n",
       "      <td>43.0</td>\n",
       "      <td>512.0</td>\n",
       "    </tr>\n",
       "  </tbody>\n",
       "</table>\n",
       "<p>1094 rows × 23 columns</p>\n",
       "</div>"
      ],
      "text/plain": [
       "             0         1         2         3         4         5         6  \\\n",
       "0     0.135575 -0.163634  0.070889 -0.114294 -0.184705 -0.045648 -0.130499   \n",
       "1     0.186135 -0.169038 -0.107762  0.059162 -0.301213  0.005458 -0.182807   \n",
       "2    -0.159457 -0.082710  0.055185 -0.011303 -0.160043 -0.040891  0.089030   \n",
       "3     0.508757 -0.476195  0.039282 -0.117875  0.166040 -0.100619 -0.024396   \n",
       "4     0.558009 -0.429677  0.035023 -0.102437  0.133215 -0.031504 -0.033007   \n",
       "...        ...       ...       ...       ...       ...       ...       ...   \n",
       "1092 -0.845520 -0.805747  0.155044  0.029433  0.015495  0.064318 -0.110844   \n",
       "1093 -0.906966 -0.786431  0.287059 -0.042162  0.193468  0.216645 -0.174867   \n",
       "1094 -0.948382 -0.823563  0.395982  0.021391  0.081749  0.159164 -0.217003   \n",
       "1095  0.094806 -0.111871 -0.694648  0.055295  0.138172 -0.057124  0.077767   \n",
       "1096  0.820479 -0.423405  0.240828 -0.134597  0.249122 -0.457109 -0.335385   \n",
       "\n",
       "             7         8         9  ...        13        14  \\\n",
       "0    -0.054187  0.151109  0.038041  ...  0.026602 -0.017073   \n",
       "1     0.090380  0.068573 -0.013640  ...  0.068030  0.091233   \n",
       "2     0.055312 -0.154705  0.091309  ... -0.023952  0.019026   \n",
       "3     0.046001  0.132605  0.025022  ...  0.000090 -0.007831   \n",
       "4     0.045823  0.122427  0.012132  ...  0.000051 -0.017975   \n",
       "...        ...       ...       ...  ...       ...       ...   \n",
       "1092  0.043812 -0.190904 -0.069239  ...  0.079305 -0.000152   \n",
       "1093  0.051426 -0.104177 -0.081252  ...  0.041365  0.014496   \n",
       "1094  0.062762 -0.155156 -0.034445  ...  0.101219 -0.007988   \n",
       "1095 -0.021442  0.026525 -0.026457  ...  0.093952  0.000484   \n",
       "1096 -0.220183 -0.167717  0.091270  ... -0.033453  0.015812   \n",
       "\n",
       "                                                                                                                                                       Desc  \\\n",
       "0     [daily, patients, womens, start, feet, available, approach, necessary, continued, exercise, located, licensing, focuses, dpt, room, growing, exper...   \n",
       "1     [daily, reward, customers, others, drive, plus, phone, person, customer, absolutely, owner, experience, ready, award, take, willing, critical, dav...   \n",
       "2     [promote, budget, labor, subject, forecast, others, termination, preferred, initial, ongoing, must, special, curriculum, requirements, customer, t...   \n",
       "3     [infrastructure, contracts, region’s, continued, metroplex, caremedical, mfm, several, physician, areas, alliance, tail, based, dedicated, medical...   \n",
       "4     [premature, infrastructure, treat, contracts, region’s, continued, metroplex, caremedical, mfm, unit, ages, several, physician, areas, tail, based...   \n",
       "...                                                                                                                                                     ...   \n",
       "1092  [programs, patients, rehabilitation, assisted, ccrcs, occupational, therapy, transitional, us, throughout, rehab, hospitals, therapist, hiring, ol...   \n",
       "1093  [week, per, programs, patients, full, rehabilitation, assisted, ccrcs, occupational, therapy, transitional, us, throughout, rehab, hospitals, ther...   \n",
       "1094  [week, per, programs, patients, rehabilitation, assisted, ccrcs, occupational, therapy, transitional, us, throughout, rehab, hospitals, therapist,...   \n",
       "1095  [week, per, programs, patients, full, rehabilitation, assisted, ccrcs, occupational, therapy, transitional, us, throughout, rehab, hospitals, ther...   \n",
       "1096  [programs, patients, rehabilitation, assisted, ccrcs, occupational, therapy, transitional, us, throughout, rehab, hospitals, therapist, hiring, ol...   \n",
       "\n",
       "          JobId  JobTitleId                            JobTitle  \\\n",
       "0      36126335    400878.0  Physical Therapist Assistant (PTA)   \n",
       "1      39345757    400720.0          Automotive Service Manager   \n",
       "2      84331465    407973.0          Wastewater Project Manager   \n",
       "3      88112060    402654.0                      Neonatal Nurse   \n",
       "4      88112450    402654.0                      Neonatal Nurse   \n",
       "...         ...         ...                                 ...   \n",
       "1092  500885340    400878.0  Physical Therapist Assistant (PTA)   \n",
       "1093  500885707    400878.0  Physical Therapist Assistant (PTA)   \n",
       "1094  500885799    400878.0  Physical Therapist Assistant (PTA)   \n",
       "1095  500885869    400878.0  Physical Therapist Assistant (PTA)   \n",
       "1096  500886180    400878.0  Physical Therapist Assistant (PTA)   \n",
       "\n",
       "                                                                                                                                                Description  \\\n",
       "0     <p>Looking for part-time PT&nbsp;for a quick growing and dynamic outpatient physical therapy clinic. Mentorship available and encouraged!&nbsp; Ou...   \n",
       "1     At David Maus Toyota, we strive to make every customer a customer for life.<br/> Happy employees make happy customers, and we reward individuals w...   \n",
       "2     <p>Position Summary:</p>\\n<p>Project Management personnel are responsible for the overall safety, direction, completion, and financial outcome of ...   \n",
       "3     <p>Envision Physician Services is seeking a Neonatal Nurse Practitioner to join our busy practice covering 7 Medical City facilities in the DFW ar...   \n",
       "4     <p>Envision Physician Services is seeking a Neonatal Nurse Practitioner to join our busy practice covering 7 Medical City facilities in the DFW ar...   \n",
       "...                                                                                                                                                     ...   \n",
       "1092  <p>PART TIME POSITION 20 hours</p>\\n<p>Genesis Rehab Services is a leading provider of Physical, Occupational, Speech and Respiratory Therapy for ...   \n",
       "1093  <p>FULL TIME POSITION 35 hours per week</p>\\n<p>Genesis Rehab Services is a leading provider of Physical, Occupational, Speech and Respiratory The...   \n",
       "1094  <p>PART TIME POSITION 18 hours per week</p>\\n<p>Genesis Rehab Services is a leading provider of Physical, Occupational, Speech and Respiratory The...   \n",
       "1095  <p>FULL TIME POSITION 30 hours per week</p>\\n<p>Genesis Rehab Services is a leading provider of Physical, Occupational, Speech and Respiratory The...   \n",
       "1096  <p>FULL-TIME POSITION</p>\\n<p>Genesis Rehab Services is a leading provider of Physical, Occupational, Speech and Respiratory Therapy for older adu...   \n",
       "\n",
       "                                                                                                                                                       Desc  \\\n",
       "0     [daily, patients, womens, start, feet, available, approach, necessary, continued, exercise, located, licensing, focuses, dpt, room, growing, exper...   \n",
       "1     [daily, reward, customers, others, drive, plus, phone, person, customer, absolutely, owner, experience, ready, award, take, willing, critical, dav...   \n",
       "2     [promote, budget, labor, subject, forecast, others, termination, preferred, initial, ongoing, must, special, curriculum, requirements, customer, t...   \n",
       "3     [infrastructure, contracts, region’s, continued, metroplex, caremedical, mfm, several, physician, areas, alliance, tail, based, dedicated, medical...   \n",
       "4     [premature, infrastructure, treat, contracts, region’s, continued, metroplex, caremedical, mfm, unit, ages, several, physician, areas, tail, based...   \n",
       "...                                                                                                                                                     ...   \n",
       "1092  [programs, patients, rehabilitation, assisted, ccrcs, occupational, therapy, transitional, us, throughout, rehab, hospitals, therapist, hiring, ol...   \n",
       "1093  [week, per, programs, patients, full, rehabilitation, assisted, ccrcs, occupational, therapy, transitional, us, throughout, rehab, hospitals, ther...   \n",
       "1094  [week, per, programs, patients, rehabilitation, assisted, ccrcs, occupational, therapy, transitional, us, throughout, rehab, hospitals, therapist,...   \n",
       "1095  [week, per, programs, patients, full, rehabilitation, assisted, ccrcs, occupational, therapy, transitional, us, throughout, rehab, hospitals, ther...   \n",
       "1096  [programs, patients, rehabilitation, assisted, ccrcs, occupational, therapy, transitional, us, throughout, rehab, hospitals, therapist, hiring, ol...   \n",
       "\n",
       "     DescLength DescriptionLength  \n",
       "0         156.0            2122.0  \n",
       "1         114.0            1585.0  \n",
       "2         211.0            3306.0  \n",
       "3         132.0            1850.0  \n",
       "4         142.0            2002.0  \n",
       "...         ...               ...  \n",
       "1092       45.0             512.0  \n",
       "1093       47.0             512.0  \n",
       "1094       47.0             512.0  \n",
       "1095       47.0             512.0  \n",
       "1096       43.0             512.0  \n",
       "\n",
       "[1094 rows x 23 columns]"
      ]
     },
     "execution_count": 49,
     "metadata": {},
     "output_type": "execute_result"
    }
   ],
   "source": [
    "main_w_vectors"
   ]
  },
  {
   "cell_type": "code",
   "execution_count": null,
   "metadata": {},
   "outputs": [],
   "source": []
  },
  {
   "cell_type": "code",
   "execution_count": null,
   "metadata": {},
   "outputs": [],
   "source": []
  },
  {
   "cell_type": "markdown",
   "metadata": {},
   "source": [
    "## CountVectorizer"
   ]
  },
  {
   "cell_type": "code",
   "execution_count": null,
   "metadata": {
    "scrolled": true
   },
   "outputs": [],
   "source": [
    "from sklearn.feature_extraction.text import CountVectorizer"
   ]
  },
  {
   "cell_type": "code",
   "execution_count": null,
   "metadata": {
    "scrolled": true
   },
   "outputs": [],
   "source": [
    "bow_transformer = CountVectorizer(analyzer=text_process).fit(df['Description'])\n",
    "\n",
    "# Print total number of vocab words\n",
    "print(len(bow_transformer.vocabulary_))"
   ]
  },
  {
   "cell_type": "code",
   "execution_count": null,
   "metadata": {
    "scrolled": true,
    "tags": []
   },
   "outputs": [],
   "source": [
    "bow_transformer.vocabulary_"
   ]
  },
  {
   "cell_type": "code",
   "execution_count": null,
   "metadata": {
    "scrolled": true
   },
   "outputs": [],
   "source": [
    "desc4 = df['Description'][3]"
   ]
  },
  {
   "cell_type": "code",
   "execution_count": null,
   "metadata": {
    "scrolled": true
   },
   "outputs": [],
   "source": [
    "print(desc4)"
   ]
  },
  {
   "cell_type": "code",
   "execution_count": null,
   "metadata": {
    "scrolled": true
   },
   "outputs": [],
   "source": [
    "bow4 = bow_transformer.transform([desc4])"
   ]
  },
  {
   "cell_type": "code",
   "execution_count": null,
   "metadata": {
    "scrolled": true
   },
   "outputs": [],
   "source": [
    "print('shape: ',bow4.shape)\n",
    "print(bow4)"
   ]
  },
  {
   "cell_type": "code",
   "execution_count": null,
   "metadata": {
    "scrolled": true
   },
   "outputs": [],
   "source": [
    "bow_transformer.get_feature_names()[168]"
   ]
  },
  {
   "cell_type": "code",
   "execution_count": null,
   "metadata": {
    "scrolled": true
   },
   "outputs": [],
   "source": [
    "desc_bow = bow_transformer.transform(df['Description'])"
   ]
  },
  {
   "cell_type": "code",
   "execution_count": null,
   "metadata": {
    "scrolled": true
   },
   "outputs": [],
   "source": [
    "print('Shape of Sparse Matrix: ', desc_bow.shape)"
   ]
  },
  {
   "cell_type": "code",
   "execution_count": null,
   "metadata": {
    "scrolled": true
   },
   "outputs": [],
   "source": [
    "desc_bow.nnz"
   ]
  },
  {
   "cell_type": "markdown",
   "metadata": {},
   "source": [
    "## TF-IDF"
   ]
  },
  {
   "cell_type": "code",
   "execution_count": null,
   "metadata": {
    "scrolled": true
   },
   "outputs": [],
   "source": [
    "from sklearn.feature_extraction.text import TfidfTransformer"
   ]
  },
  {
   "cell_type": "code",
   "execution_count": null,
   "metadata": {
    "scrolled": true
   },
   "outputs": [],
   "source": [
    "tfidf_transformer = TfidfTransformer().fit(desc_bow)"
   ]
  },
  {
   "cell_type": "code",
   "execution_count": null,
   "metadata": {
    "scrolled": true
   },
   "outputs": [],
   "source": [
    "tfidf4 = tfidf_transformer.transform(bow4)"
   ]
  },
  {
   "cell_type": "code",
   "execution_count": null,
   "metadata": {
    "scrolled": true
   },
   "outputs": [],
   "source": [
    "print(tfidf4)"
   ]
  },
  {
   "cell_type": "code",
   "execution_count": null,
   "metadata": {
    "scrolled": true
   },
   "outputs": [],
   "source": [
    "tfidf_transformer.idf_[bow_transformer.vocabulary_['salary']]"
   ]
  },
  {
   "cell_type": "code",
   "execution_count": null,
   "metadata": {
    "scrolled": true
   },
   "outputs": [],
   "source": [
    "desc_tfidf = tfidf_transformer.transform(desc_bow)"
   ]
  },
  {
   "cell_type": "markdown",
   "metadata": {},
   "source": [
    "## Naive bayes"
   ]
  },
  {
   "cell_type": "code",
   "execution_count": null,
   "metadata": {
    "scrolled": true
   },
   "outputs": [],
   "source": [
    "from sklearn.naive_bayes import MultinomialNB"
   ]
  },
  {
   "cell_type": "code",
   "execution_count": null,
   "metadata": {
    "scrolled": true
   },
   "outputs": [],
   "source": [
    "nb_model = MultinomialNB().fit(desc_tfidf, df['JobTitle'])"
   ]
  },
  {
   "cell_type": "code",
   "execution_count": null,
   "metadata": {
    "scrolled": true
   },
   "outputs": [],
   "source": [
    "nb_model.predict(tfidf4)[0]"
   ]
  },
  {
   "cell_type": "code",
   "execution_count": null,
   "metadata": {
    "scrolled": true
   },
   "outputs": [],
   "source": [
    "df.iloc[[3],:]"
   ]
  },
  {
   "cell_type": "code",
   "execution_count": null,
   "metadata": {
    "scrolled": true
   },
   "outputs": [],
   "source": [
    "from sklearn.model_selection import train_test_split"
   ]
  },
  {
   "cell_type": "code",
   "execution_count": null,
   "metadata": {
    "scrolled": true
   },
   "outputs": [],
   "source": [
    "X_train, X_test, y_train, y_test = train_test_split(df['Description'], df['JobTitle'], test_size=0.3, random_state=42)"
   ]
  },
  {
   "cell_type": "code",
   "execution_count": null,
   "metadata": {
    "scrolled": true
   },
   "outputs": [],
   "source": [
    "from sklearn.pipeline import Pipeline"
   ]
  },
  {
   "cell_type": "code",
   "execution_count": null,
   "metadata": {
    "scrolled": true
   },
   "outputs": [],
   "source": [
    "pipline = Pipeline([\n",
    "    ('bow', CountVectorizer(analyzer=text_process)),\n",
    "    ('tfidf', TfidfTransformer()),\n",
    "    ('classifier', MultinomialNB())\n",
    "])"
   ]
  },
  {
   "cell_type": "code",
   "execution_count": null,
   "metadata": {
    "scrolled": true
   },
   "outputs": [],
   "source": [
    "pipline.fit(X_train,y_train)"
   ]
  },
  {
   "cell_type": "code",
   "execution_count": null,
   "metadata": {
    "scrolled": true
   },
   "outputs": [],
   "source": [
    "predictions = pipline.predict(X_test)"
   ]
  },
  {
   "cell_type": "code",
   "execution_count": null,
   "metadata": {
    "scrolled": true
   },
   "outputs": [],
   "source": [
    "from sklearn.metrics import classification_report"
   ]
  },
  {
   "cell_type": "code",
   "execution_count": null,
   "metadata": {
    "scrolled": true
   },
   "outputs": [],
   "source": [
    "print(classification_report(y_test, predictions))"
   ]
  },
  {
   "cell_type": "markdown",
   "metadata": {},
   "source": [
    "## RandomForestClassifier"
   ]
  },
  {
   "cell_type": "code",
   "execution_count": null,
   "metadata": {
    "scrolled": true
   },
   "outputs": [],
   "source": [
    "from sklearn.ensemble import RandomForestClassifier"
   ]
  },
  {
   "cell_type": "code",
   "execution_count": null,
   "metadata": {
    "scrolled": true
   },
   "outputs": [],
   "source": [
    "pipline = Pipeline([\n",
    "    ('bow', CountVectorizer(analyzer=text_process)),\n",
    "    ('tfidf', TfidfTransformer()),\n",
    "    ('classifier', RandomForestClassifier())\n",
    "])"
   ]
  },
  {
   "cell_type": "code",
   "execution_count": null,
   "metadata": {
    "scrolled": true
   },
   "outputs": [],
   "source": [
    "pipline.fit(X_train,y_train)"
   ]
  },
  {
   "cell_type": "code",
   "execution_count": null,
   "metadata": {
    "scrolled": true
   },
   "outputs": [],
   "source": [
    "predictions = pipline.predict(X_test)"
   ]
  },
  {
   "cell_type": "code",
   "execution_count": null,
   "metadata": {
    "scrolled": true
   },
   "outputs": [],
   "source": [
    "print(classification_report(y_test, predictions))"
   ]
  },
  {
   "cell_type": "code",
   "execution_count": null,
   "metadata": {
    "scrolled": true
   },
   "outputs": [],
   "source": [
    "df.JobTitle.value_counts()"
   ]
  },
  {
   "cell_type": "code",
   "execution_count": null,
   "metadata": {
    "scrolled": true
   },
   "outputs": [],
   "source": []
  }
 ],
 "metadata": {
  "kernelspec": {
   "display_name": "Python 3",
   "language": "python",
   "name": "python3"
  },
  "language_info": {
   "codemirror_mode": {
    "name": "ipython",
    "version": 3
   },
   "file_extension": ".py",
   "mimetype": "text/x-python",
   "name": "python",
   "nbconvert_exporter": "python",
   "pygments_lexer": "ipython3",
   "version": "3.8.11"
  }
 },
 "nbformat": 4,
 "nbformat_minor": 4
}
