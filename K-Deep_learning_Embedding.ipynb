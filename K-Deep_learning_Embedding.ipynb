{
 "cells": [
  {
   "cell_type": "markdown",
   "metadata": {},
   "source": [
    "# Job title prediction with embedding"
   ]
  },
  {
   "cell_type": "code",
   "execution_count": 1,
   "metadata": {},
   "outputs": [],
   "source": [
    "%load_ext autoreload\n",
    "%autoreload 2\n",
    "import sys; sys.path.append('../')                                                                                          "
   ]
  },
  {
   "cell_type": "code",
   "execution_count": 2,
   "metadata": {},
   "outputs": [
    {
     "data": {
      "text/html": [
       "        <script type=\"text/javascript\">\n",
       "        window.PlotlyConfig = {MathJaxConfig: 'local'};\n",
       "        if (window.MathJax) {MathJax.Hub.Config({SVG: {font: \"STIX-Web\"}});}\n",
       "        if (typeof require !== 'undefined') {\n",
       "        require.undef(\"plotly\");\n",
       "        requirejs.config({\n",
       "            paths: {\n",
       "                'plotly': ['https://cdn.plot.ly/plotly-2.4.2.min']\n",
       "            }\n",
       "        });\n",
       "        require(['plotly'], function(Plotly) {\n",
       "            window._Plotly = Plotly;\n",
       "        });\n",
       "        }\n",
       "        </script>\n",
       "        "
      ]
     },
     "metadata": {},
     "output_type": "display_data"
    }
   ],
   "source": [
    "import pandas as pd\n",
    "import numpy as np\n",
    "import cufflinks as cf; cf.go_offline()"
   ]
  },
  {
   "cell_type": "code",
   "execution_count": 3,
   "metadata": {},
   "outputs": [],
   "source": [
    "pd.set_option('max_colwidth',250)"
   ]
  },
  {
   "cell_type": "markdown",
   "metadata": {},
   "source": [
    "## Loading the data"
   ]
  },
  {
   "cell_type": "markdown",
   "metadata": {},
   "source": [
    "#### The link to the dataset with Parts of speach:\n",
    "* https://drive.google.com/file/d/1UH5yhX614pcL4yCtngrvTF8PqxGoTrex/view?usp=sharing"
   ]
  },
  {
   "cell_type": "code",
   "execution_count": 4,
   "metadata": {},
   "outputs": [
    {
     "data": {
      "text/html": [
       "<div>\n",
       "<style scoped>\n",
       "    .dataframe tbody tr th:only-of-type {\n",
       "        vertical-align: middle;\n",
       "    }\n",
       "\n",
       "    .dataframe tbody tr th {\n",
       "        vertical-align: top;\n",
       "    }\n",
       "\n",
       "    .dataframe thead th {\n",
       "        text-align: right;\n",
       "    }\n",
       "</style>\n",
       "<table border=\"1\" class=\"dataframe\">\n",
       "  <thead>\n",
       "    <tr style=\"text-align: right;\">\n",
       "      <th></th>\n",
       "      <th>ExtJobTitleText</th>\n",
       "      <th>JobTitle</th>\n",
       "      <th>Description</th>\n",
       "      <th>Desc</th>\n",
       "      <th>DescLength</th>\n",
       "      <th>DescriptionLength</th>\n",
       "      <th>Desc_POS</th>\n",
       "      <th>count_of_nouns</th>\n",
       "      <th>percentage_of_nouns_in_Desc</th>\n",
       "      <th>Desc_noun_only</th>\n",
       "      <th>is_extractive</th>\n",
       "    </tr>\n",
       "  </thead>\n",
       "  <tbody>\n",
       "    <tr>\n",
       "      <th>0</th>\n",
       "      <td>Business Development Center Agent</td>\n",
       "      <td>Medical Scientist</td>\n",
       "      <td>For generations, the Landers family has been in the car business.&lt;br/&gt;Steve Landers Chrysler Dodge Jeep continues to build its brand on family values and a philosophy of serving its guests, team members, and communities.&lt;br/&gt;Every Landers team me...</td>\n",
       "      <td>[flexible, required, date, owned, strong, excel, bring, screening, dodge, employee, productivityyou, skills, trained, tasks, assisting, must, microsoft, professional, responsibilities, carefully, business, inquires, requests, include, resources, ...</td>\n",
       "      <td>205</td>\n",
       "      <td>2765</td>\n",
       "      <td>[(flexible, JJ), (required, VBN), (date, NN), (owned, VBN), (strong, JJ), (excel, RB), (bring, VBG), (screening, VBG), (dodge, NN), (employee, NN), (productivityyou, NN), (skills, NNS), (trained, VBD), (tasks, NNS), (assisting, VBG), (must, MD), ...</td>\n",
       "      <td>114</td>\n",
       "      <td>0.56</td>\n",
       "      <td>[date, dodge, employee, productivityyou, skills, tasks, responsibilities, business, inquires, requests, resources, job, training, offers, position, excellent, preemployment, requirements, weekends, agent, health, tasksyou, communitiesevery, philo...</td>\n",
       "      <td>False</td>\n",
       "    </tr>\n",
       "    <tr>\n",
       "      <th>1</th>\n",
       "      <td>Technician I</td>\n",
       "      <td>Automotive Technician</td>\n",
       "      <td>&lt;div class=\"earcu_posdescriptionContainer\"&gt;&lt;div class=\"earcu_posdescription\"&gt;&lt;div class=\"earcu_posdescriptionnote\"&gt;&lt;p&gt;Avis Budget Group is an action-packed, high-energy workplace. We are a global leader in the travel services industry operating t...</td>\n",
       "      <td>[may, required, avis, date, stay, needed, rental, much, screening, constitute, completed, skills, shop, license, must, management, professional, responsibilities, publicly, properly, travel, diagnostics, business, forward, response, safety, time,...</td>\n",
       "      <td>236</td>\n",
       "      <td>4502</td>\n",
       "      <td>[(may, MD), (required, VB), (avis, NN), (date, NN), (stay, NN), (needed, VBD), (rental, JJ), (much, JJ), (screening, NN), (constitute, NN), (completed, VBD), (skills, NNS), (shop, NN), (license, NN), (must, MD), (management, NN), (professional, J...</td>\n",
       "      <td>120</td>\n",
       "      <td>0.51</td>\n",
       "      <td>[avis, date, stay, screening, constitute, skills, shop, license, management, responsibilities, diagnostics, business, response, safety, time, drug, change, job, ad, brands, offers, environment, bulletins, position, requirements, year, variety, ac...</td>\n",
       "      <td>True</td>\n",
       "    </tr>\n",
       "  </tbody>\n",
       "</table>\n",
       "</div>"
      ],
      "text/plain": [
       "                     ExtJobTitleText               JobTitle  \\\n",
       "0  Business Development Center Agent      Medical Scientist   \n",
       "1                       Technician I  Automotive Technician   \n",
       "\n",
       "                                                                                                                                                                                                                                                 Description  \\\n",
       "0  For generations, the Landers family has been in the car business.<br/>Steve Landers Chrysler Dodge Jeep continues to build its brand on family values and a philosophy of serving its guests, team members, and communities.<br/>Every Landers team me...   \n",
       "1  <div class=\"earcu_posdescriptionContainer\"><div class=\"earcu_posdescription\"><div class=\"earcu_posdescriptionnote\"><p>Avis Budget Group is an action-packed, high-energy workplace. We are a global leader in the travel services industry operating t...   \n",
       "\n",
       "                                                                                                                                                                                                                                                        Desc  \\\n",
       "0  [flexible, required, date, owned, strong, excel, bring, screening, dodge, employee, productivityyou, skills, trained, tasks, assisting, must, microsoft, professional, responsibilities, carefully, business, inquires, requests, include, resources, ...   \n",
       "1  [may, required, avis, date, stay, needed, rental, much, screening, constitute, completed, skills, shop, license, must, management, professional, responsibilities, publicly, properly, travel, diagnostics, business, forward, response, safety, time,...   \n",
       "\n",
       "   DescLength  DescriptionLength  \\\n",
       "0         205               2765   \n",
       "1         236               4502   \n",
       "\n",
       "                                                                                                                                                                                                                                                    Desc_POS  \\\n",
       "0  [(flexible, JJ), (required, VBN), (date, NN), (owned, VBN), (strong, JJ), (excel, RB), (bring, VBG), (screening, VBG), (dodge, NN), (employee, NN), (productivityyou, NN), (skills, NNS), (trained, VBD), (tasks, NNS), (assisting, VBG), (must, MD), ...   \n",
       "1  [(may, MD), (required, VB), (avis, NN), (date, NN), (stay, NN), (needed, VBD), (rental, JJ), (much, JJ), (screening, NN), (constitute, NN), (completed, VBD), (skills, NNS), (shop, NN), (license, NN), (must, MD), (management, NN), (professional, J...   \n",
       "\n",
       "   count_of_nouns  percentage_of_nouns_in_Desc  \\\n",
       "0             114                         0.56   \n",
       "1             120                         0.51   \n",
       "\n",
       "                                                                                                                                                                                                                                              Desc_noun_only  \\\n",
       "0  [date, dodge, employee, productivityyou, skills, tasks, responsibilities, business, inquires, requests, resources, job, training, offers, position, excellent, preemployment, requirements, weekends, agent, health, tasksyou, communitiesevery, philo...   \n",
       "1  [avis, date, stay, screening, constitute, skills, shop, license, management, responsibilities, diagnostics, business, response, safety, time, drug, change, job, ad, brands, offers, environment, bulletins, position, requirements, year, variety, ac...   \n",
       "\n",
       "   is_extractive  \n",
       "0          False  \n",
       "1           True  "
      ]
     },
     "execution_count": 4,
     "metadata": {},
     "output_type": "execute_result"
    }
   ],
   "source": [
    "from ast import literal_eval\n",
    "df_pos = pd.read_csv(\"datasets/data_with_POS.csv\",converters={\"Desc\": literal_eval,\n",
    "                                                                \"Desc_POS\": literal_eval,\n",
    "                                                                \"Desc_noun_only\": literal_eval})\n",
    "df_pos.head(2)"
   ]
  },
  {
   "cell_type": "code",
   "execution_count": 5,
   "metadata": {},
   "outputs": [
    {
     "name": "stdout",
     "output_type": "stream",
     "text": [
      "<class 'list'>\n"
     ]
    },
    {
     "data": {
      "text/plain": [
       "[('flexible', 'JJ'),\n",
       " ('required', 'VBN'),\n",
       " ('date', 'NN'),\n",
       " ('owned', 'VBN'),\n",
       " ('strong', 'JJ'),\n",
       " ('excel', 'RB'),\n",
       " ('bring', 'VBG'),\n",
       " ('screening', 'VBG'),\n",
       " ('dodge', 'NN'),\n",
       " ('employee', 'NN')]"
      ]
     },
     "execution_count": 5,
     "metadata": {},
     "output_type": "execute_result"
    }
   ],
   "source": [
    "print(type(df_pos.Desc_POS.iloc[0]))\n",
    "df_pos.Desc_POS.iloc[0][:10]"
   ]
  },
  {
   "cell_type": "code",
   "execution_count": 6,
   "metadata": {},
   "outputs": [
    {
     "data": {
      "text/plain": [
       "(30673, 11)"
      ]
     },
     "execution_count": 6,
     "metadata": {},
     "output_type": "execute_result"
    }
   ],
   "source": [
    "df_pos.shape"
   ]
  },
  {
   "cell_type": "code",
   "execution_count": 7,
   "metadata": {},
   "outputs": [
    {
     "data": {
      "text/plain": [
       "'flexible required date owned strong excel bring screening dodge employee productivityyou skills trained tasks assisting must microsoft professional responsibilities carefully business inquires requests include resources upon maintaining job ready training offers positive position excellent preemployment requirements accident able weekends successfully offer hit minimal agent health tasksyou serve communitiesevery philosophy ethicthe dental businesssteve outcome term commission customers in’s check computer relationships appointments background ongoing high followup plus customer submit members serious hourly technology goals energy databaseswhat expert ground wellgroomed care call verification value fulfilling chrysler vehicle out’s optional providing available critical need car number jeep pet applicants assists resolving serving appearance spending build day outlook driving team criminal continues questions problems entering ‘a weekly growth duties new asking know existing daily provides opportunities guests running security willing personal game’ listening product supervisorqualifications phone hours scheduling records values offerings internet given friendly knowledge hsaflexible work seeking latest word generations long experience selecting determining attitude transfers development discounts verbal multitask match packages attention landers responses employment brand absolutely operated follow multiple answering urgency regular passing incoming well insurance sales motor wellness learning create managing written information social medical vision database reports communication center family member every assigned vacation successour review entry detail including paid contingent lifeassist individual illness'"
      ]
     },
     "execution_count": 7,
     "metadata": {},
     "output_type": "execute_result"
    }
   ],
   "source": [
    "df_pos[\"Desc_concatinated\"] = df_pos.Desc.apply(lambda x: ' '.join(x))\n",
    "df_pos.Desc_concatinated[0]"
   ]
  },
  {
   "cell_type": "code",
   "execution_count": 8,
   "metadata": {},
   "outputs": [],
   "source": [
    "df_pos[\"JobTitle_tokenized\"] = pd.factorize(df_pos.JobTitle)[0]"
   ]
  },
  {
   "cell_type": "code",
   "execution_count": 57,
   "metadata": {},
   "outputs": [],
   "source": [
    "df_pos.drop_duplicates(subset=['job_description'], inplace=True)\n",
    "df_pos.dropna(inplace=True)"
   ]
  },
  {
   "cell_type": "code",
   "execution_count": 58,
   "metadata": {},
   "outputs": [
    {
     "data": {
      "text/plain": [
       "(111438, 3)"
      ]
     },
     "execution_count": 58,
     "metadata": {},
     "output_type": "execute_result"
    }
   ],
   "source": [
    "df_pos.shape"
   ]
  },
  {
   "cell_type": "code",
   "execution_count": 59,
   "metadata": {},
   "outputs": [
    {
     "name": "stdout",
     "output_type": "stream",
     "text": [
      "66249\n"
     ]
    }
   ],
   "source": [
    "from sklearn.feature_extraction.text import CountVectorizer\n",
    "bow_transformer = CountVectorizer(min_df=5).fit(df_pos['job_description'])\n",
    "\n",
    "# Print total number of vocab words\n",
    "print(len(bow_transformer.vocabulary_))"
   ]
  },
  {
   "cell_type": "code",
   "execution_count": 60,
   "metadata": {},
   "outputs": [],
   "source": [
    "df_pos[\"JobTitle_tokenized\"] = pd.factorize(df_pos.job_title)[0]"
   ]
  },
  {
   "cell_type": "code",
   "execution_count": 61,
   "metadata": {},
   "outputs": [],
   "source": [
    "df_pos[\"ext_job_title_tokenized\"] = pd.factorize(df_pos.ext_job_title)[0]"
   ]
  },
  {
   "cell_type": "code",
   "execution_count": 63,
   "metadata": {},
   "outputs": [
    {
     "data": {
      "text/html": [
       "<div>\n",
       "<style scoped>\n",
       "    .dataframe tbody tr th:only-of-type {\n",
       "        vertical-align: middle;\n",
       "    }\n",
       "\n",
       "    .dataframe tbody tr th {\n",
       "        vertical-align: top;\n",
       "    }\n",
       "\n",
       "    .dataframe thead th {\n",
       "        text-align: right;\n",
       "    }\n",
       "</style>\n",
       "<table border=\"1\" class=\"dataframe\">\n",
       "  <thead>\n",
       "    <tr style=\"text-align: right;\">\n",
       "      <th></th>\n",
       "      <th>amount</th>\n",
       "    </tr>\n",
       "  </thead>\n",
       "  <tbody>\n",
       "    <tr>\n",
       "      <th>Information Systems Security Officer</th>\n",
       "      <td>46</td>\n",
       "    </tr>\n",
       "    <tr>\n",
       "      <th>Supply Chain Manager</th>\n",
       "      <td>46</td>\n",
       "    </tr>\n",
       "    <tr>\n",
       "      <th>Cell Biologist</th>\n",
       "      <td>46</td>\n",
       "    </tr>\n",
       "    <tr>\n",
       "      <th>Legal Officer</th>\n",
       "      <td>46</td>\n",
       "    </tr>\n",
       "    <tr>\n",
       "      <th>Caterer</th>\n",
       "      <td>46</td>\n",
       "    </tr>\n",
       "    <tr>\n",
       "      <th>...</th>\n",
       "      <td>...</td>\n",
       "    </tr>\n",
       "    <tr>\n",
       "      <th>Leasing Consultant</th>\n",
       "      <td>1</td>\n",
       "    </tr>\n",
       "    <tr>\n",
       "      <th>Adjustment Representative</th>\n",
       "      <td>1</td>\n",
       "    </tr>\n",
       "    <tr>\n",
       "      <th>Legislative Aide</th>\n",
       "      <td>1</td>\n",
       "    </tr>\n",
       "    <tr>\n",
       "      <th>Telecommunications Sales Manager</th>\n",
       "      <td>1</td>\n",
       "    </tr>\n",
       "    <tr>\n",
       "      <th>Pizza Chef</th>\n",
       "      <td>1</td>\n",
       "    </tr>\n",
       "  </tbody>\n",
       "</table>\n",
       "<p>5905 rows × 1 columns</p>\n",
       "</div>"
      ],
      "text/plain": [
       "                                      amount\n",
       "Information Systems Security Officer      46\n",
       "Supply Chain Manager                      46\n",
       "Cell Biologist                            46\n",
       "Legal Officer                             46\n",
       "Caterer                                   46\n",
       "...                                      ...\n",
       "Leasing Consultant                         1\n",
       "Adjustment Representative                  1\n",
       "Legislative Aide                           1\n",
       "Telecommunications Sales Manager           1\n",
       "Pizza Chef                                 1\n",
       "\n",
       "[5905 rows x 1 columns]"
      ]
     },
     "execution_count": 63,
     "metadata": {},
     "output_type": "execute_result"
    }
   ],
   "source": [
    "df_pos.job_title.value_counts().to_frame(name='amount')"
   ]
  },
  {
   "cell_type": "markdown",
   "metadata": {},
   "source": [
    "### Reshape th df, min rows"
   ]
  },
  {
   "cell_type": "code",
   "execution_count": 64,
   "metadata": {},
   "outputs": [],
   "source": [
    "def reshape_df(df, the_min_amount_of_rows = 10, the_max_amount_of_rows = 100):\n",
    "    list_of_two_parts = [pd.DataFrame(columns=df.columns)] * 2    ## In the end we want to concat the two part\n",
    "    \n",
    "    df_jobs_count = df.job_title.value_counts().to_frame(name='amount')\n",
    "    \n",
    "    ## Droping every row under minimum amount of observations\n",
    "    df_jobs_to_drop = df_jobs_count.query(f'amount<{the_min_amount_of_rows}')\n",
    "    list_jobs_to_drop = list(df_jobs_to_drop.index)\n",
    "    df = df[-df.job_title.isin(list_jobs_to_drop)]\n",
    "    \n",
    "    ## Creating the first part of list, the one we don't touch\n",
    "    df_jobs_no_problem = df_jobs_count.query(f'amount>={the_min_amount_of_rows} & amount<={the_max_amount_of_rows}')\n",
    "    list_of_two_parts[0] = df[df.job_title.isin(df_jobs_no_problem.index)]\n",
    "    \n",
    "    ## Creating the the second part of the list, where we resample the jobs with too many rows\n",
    "    df_jobs_to_resample = df_jobs_count.query(f'amount>{the_max_amount_of_rows}')\n",
    "    list_jobs_to_resample = list(df_jobs_to_resample.index)\n",
    "    df_for_resampling = df[df.job_title.isin(list_jobs_to_resample)]\n",
    "    \n",
    "    list_of_subsets = [pd.DataFrame(columns=df.columns)] * len(list_jobs_to_resample)\n",
    "    for i in range(len(list_jobs_to_resample)):\n",
    "        list_of_subsets[i] = df_for_resampling[df_for_resampling.job_title == list_jobs_to_resample[i]].sample(the_max_amount_of_rows)\n",
    "    if len(list_of_subsets) !=0:\n",
    "           list_of_two_parts[1] = pd.concat(list_of_subsets)\n",
    "    \n",
    "    return pd.concat(list_of_two_parts)"
   ]
  },
  {
   "cell_type": "code",
   "execution_count": 65,
   "metadata": {},
   "outputs": [],
   "source": [
    "df = reshape_df(df_pos, the_min_amount_of_rows = 5, the_max_amount_of_rows = 100)"
   ]
  },
  {
   "cell_type": "code",
   "execution_count": 66,
   "metadata": {},
   "outputs": [
    {
     "data": {
      "text/html": [
       "<div>\n",
       "<style scoped>\n",
       "    .dataframe tbody tr th:only-of-type {\n",
       "        vertical-align: middle;\n",
       "    }\n",
       "\n",
       "    .dataframe tbody tr th {\n",
       "        vertical-align: top;\n",
       "    }\n",
       "\n",
       "    .dataframe thead th {\n",
       "        text-align: right;\n",
       "    }\n",
       "</style>\n",
       "<table border=\"1\" class=\"dataframe\">\n",
       "  <thead>\n",
       "    <tr style=\"text-align: right;\">\n",
       "      <th></th>\n",
       "      <th>amount</th>\n",
       "    </tr>\n",
       "  </thead>\n",
       "  <tbody>\n",
       "    <tr>\n",
       "      <th>Conference Specialist</th>\n",
       "      <td>46</td>\n",
       "    </tr>\n",
       "    <tr>\n",
       "      <th>Cardiac Surgeon</th>\n",
       "      <td>46</td>\n",
       "    </tr>\n",
       "    <tr>\n",
       "      <th>Material Handler</th>\n",
       "      <td>46</td>\n",
       "    </tr>\n",
       "    <tr>\n",
       "      <th>Dispensary Patient Consultant</th>\n",
       "      <td>46</td>\n",
       "    </tr>\n",
       "    <tr>\n",
       "      <th>Optician</th>\n",
       "      <td>46</td>\n",
       "    </tr>\n",
       "    <tr>\n",
       "      <th>...</th>\n",
       "      <td>...</td>\n",
       "    </tr>\n",
       "    <tr>\n",
       "      <th>Cardiac Exercise Specialist</th>\n",
       "      <td>5</td>\n",
       "    </tr>\n",
       "    <tr>\n",
       "      <th>Career Education Coordinator</th>\n",
       "      <td>5</td>\n",
       "    </tr>\n",
       "    <tr>\n",
       "      <th>Cargo Technician</th>\n",
       "      <td>5</td>\n",
       "    </tr>\n",
       "    <tr>\n",
       "      <th>Cash Management Analyst</th>\n",
       "      <td>5</td>\n",
       "    </tr>\n",
       "    <tr>\n",
       "      <th>.NET Engineer</th>\n",
       "      <td>5</td>\n",
       "    </tr>\n",
       "  </tbody>\n",
       "</table>\n",
       "<p>4370 rows × 1 columns</p>\n",
       "</div>"
      ],
      "text/plain": [
       "                               amount\n",
       "Conference Specialist              46\n",
       "Cardiac Surgeon                    46\n",
       "Material Handler                   46\n",
       "Dispensary Patient Consultant      46\n",
       "Optician                           46\n",
       "...                               ...\n",
       "Cardiac Exercise Specialist         5\n",
       "Career Education Coordinator        5\n",
       "Cargo Technician                    5\n",
       "Cash Management Analyst             5\n",
       ".NET Engineer                       5\n",
       "\n",
       "[4370 rows x 1 columns]"
      ]
     },
     "execution_count": 66,
     "metadata": {},
     "output_type": "execute_result"
    }
   ],
   "source": [
    "df.job_title.value_counts().to_frame(name='amount')"
   ]
  },
  {
   "cell_type": "markdown",
   "metadata": {
    "tags": []
   },
   "source": [
    "### Train and test set split"
   ]
  },
  {
   "cell_type": "code",
   "execution_count": 9,
   "metadata": {},
   "outputs": [],
   "source": [
    "text_col, target_col = 'Desc_concatinated', 'JobTitle_tokenized'\n",
    "\n",
    "from sklearn.preprocessing import LabelBinarizer\n",
    "label_as_binary = LabelBinarizer()\n",
    "\n",
    "label_as_binary.fit(df_pos[target_col])\n",
    "\n",
    "training_set = df_pos[[text_col, target_col]].sample(frac=0.8, random_state=41)\n",
    "test_set = df_pos[~df_pos.index.isin(training_set.index)][[text_col, target_col]]\n",
    "\n",
    "train__y_labels = label_as_binary.transform(training_set[target_col])\n",
    "test__y_labels = label_as_binary.transform(test_set[target_col])"
   ]
  },
  {
   "cell_type": "code",
   "execution_count": 10,
   "metadata": {},
   "outputs": [],
   "source": [
    "assert(len(training_set) + len(test_set) == len(df_pos))"
   ]
  },
  {
   "cell_type": "markdown",
   "metadata": {},
   "source": [
    "* creating train_y_labels variable because it works for the model"
   ]
  },
  {
   "cell_type": "code",
   "execution_count": 11,
   "metadata": {},
   "outputs": [],
   "source": [
    "# from sklearn.preprocessing import LabelBinarizer\n",
    "# label_as_binary = LabelBinarizer()\n",
    "# train_y_labels = label_as_binary.fit_transform(training_set[target_col])\n",
    "# type(train_y_labels)"
   ]
  },
  {
   "cell_type": "markdown",
   "metadata": {},
   "source": [
    "## Embedding with pooling and all words"
   ]
  },
  {
   "cell_type": "code",
   "execution_count": 12,
   "metadata": {},
   "outputs": [
    {
     "data": {
      "text/plain": [
       "'2.7.0'"
      ]
     },
     "execution_count": 12,
     "metadata": {},
     "output_type": "execute_result"
    }
   ],
   "source": [
    "import tensorflow as tf\n",
    "tf.__version__"
   ]
  },
  {
   "cell_type": "code",
   "execution_count": 13,
   "metadata": {},
   "outputs": [],
   "source": [
    "from tensorflow.keras.layers import TextVectorization, Embedding, Dense, GlobalAveragePooling1D, Dropout, Reshape, Activation"
   ]
  },
  {
   "cell_type": "markdown",
   "metadata": {},
   "source": [
    "What is a good size for the vocabulary? "
   ]
  },
  {
   "cell_type": "code",
   "execution_count": 14,
   "metadata": {},
   "outputs": [
    {
     "data": {
      "text/plain": [
       "0.50    119.00\n",
       "0.60    150.00\n",
       "0.70    169.00\n",
       "0.80    195.00\n",
       "0.90    248.00\n",
       "0.95    282.00\n",
       "0.99    402.28\n",
       "Name: Desc_concatinated, dtype: float64"
      ]
     },
     "execution_count": 14,
     "metadata": {},
     "output_type": "execute_result"
    }
   ],
   "source": [
    "df_pos.Desc_concatinated.apply(lambda x: len(x.split(' '))).quantile([0.5,0.6,0.7,0.8,0.9,0.95,0.99])"
   ]
  },
  {
   "cell_type": "code",
   "execution_count": 15,
   "metadata": {},
   "outputs": [
    {
     "name": "stdout",
     "output_type": "stream",
     "text": [
      "19794\n"
     ]
    }
   ],
   "source": [
    "from sklearn.feature_extraction.text import CountVectorizer\n",
    "bow_transformer = CountVectorizer(min_df=5).fit(df_pos['Desc_concatinated'])\n",
    "\n",
    "# Print total number of vocab words\n",
    "print(len(bow_transformer.vocabulary_))"
   ]
  },
  {
   "cell_type": "code",
   "execution_count": 16,
   "metadata": {},
   "outputs": [],
   "source": [
    "vocab_size = 20000\n",
    "sequence_length = 282\n",
    "\n",
    "# Use the text vectorization layer to normalize, split, and map strings to integers. Set maximum_sequence length as all samples are not of the same length.\n",
    "vectorize_layer = TextVectorization(\n",
    "    #standardize=lambda text: tf.strings.lower(text), # You can use your own normalization function here\n",
    "    max_tokens=vocab_size,\n",
    "    output_mode='int',\n",
    "    name = 'Text_processing',\n",
    "    output_sequence_length=sequence_length\n",
    ")"
   ]
  },
  {
   "cell_type": "code",
   "execution_count": 17,
   "metadata": {},
   "outputs": [],
   "source": [
    "vectorize_layer.adapt(training_set[text_col])"
   ]
  },
  {
   "cell_type": "code",
   "execution_count": 18,
   "metadata": {},
   "outputs": [
    {
     "name": "stdout",
     "output_type": "stream",
     "text": [
      "caree started immediatelyshift njstarting washington full provider cleanerlocation integrated many leading solutions looking avenue square abm timeabm centersome constantly move feet cleaner like large leaders hiring million distribution warehouse facility centers perfect carlstadt role\n"
     ]
    },
    {
     "data": {
      "text/plain": [
       "<tf.Tensor: shape=(282,), dtype=int64, numpy=\n",
       "array([11977,  1447,  4874, 13087,  2935,    99,   163,  4924,  2200,\n",
       "         136,   223,   260,    14,  3135,  3151,  4932,  4892,  4925,\n",
       "        2077,   270,  1290,  3314,    37,   710,   555,    40,  1763,\n",
       "         932,   168,   373,  1055,  1531,     1,    74,     0,     0,\n",
       "           0,     0,     0,     0,     0,     0,     0,     0,     0,\n",
       "           0,     0,     0,     0,     0,     0,     0,     0,     0,\n",
       "           0,     0,     0,     0,     0,     0,     0,     0,     0,\n",
       "           0,     0,     0,     0,     0,     0,     0,     0,     0,\n",
       "           0,     0,     0,     0,     0,     0,     0,     0,     0,\n",
       "           0,     0,     0,     0,     0,     0,     0,     0,     0,\n",
       "           0,     0,     0,     0,     0,     0,     0,     0,     0,\n",
       "           0,     0,     0,     0,     0,     0,     0,     0,     0,\n",
       "           0,     0,     0,     0,     0,     0,     0,     0,     0,\n",
       "           0,     0,     0,     0,     0,     0,     0,     0,     0,\n",
       "           0,     0,     0,     0,     0,     0,     0,     0,     0,\n",
       "           0,     0,     0,     0,     0,     0,     0,     0,     0,\n",
       "           0,     0,     0,     0,     0,     0,     0,     0,     0,\n",
       "           0,     0,     0,     0,     0,     0,     0,     0,     0,\n",
       "           0,     0,     0,     0,     0,     0,     0,     0,     0,\n",
       "           0,     0,     0,     0,     0,     0,     0,     0,     0,\n",
       "           0,     0,     0,     0,     0,     0,     0,     0,     0,\n",
       "           0,     0,     0,     0,     0,     0,     0,     0,     0,\n",
       "           0,     0,     0,     0,     0,     0,     0,     0,     0,\n",
       "           0,     0,     0,     0,     0,     0,     0,     0,     0,\n",
       "           0,     0,     0,     0,     0,     0,     0,     0,     0,\n",
       "           0,     0,     0,     0,     0,     0,     0,     0,     0,\n",
       "           0,     0,     0,     0,     0,     0,     0,     0,     0,\n",
       "           0,     0,     0,     0,     0,     0,     0,     0,     0,\n",
       "           0,     0,     0,     0,     0,     0,     0,     0,     0,\n",
       "           0,     0,     0,     0,     0,     0,     0,     0,     0,\n",
       "           0,     0,     0,     0,     0,     0,     0,     0,     0,\n",
       "           0,     0,     0], dtype=int64)>"
      ]
     },
     "execution_count": 18,
     "metadata": {},
     "output_type": "execute_result"
    }
   ],
   "source": [
    "sample_description = training_set[text_col].sample().iloc[0]\n",
    "print(sample_description)\n",
    "vectorize_layer(sample_description)"
   ]
  },
  {
   "cell_type": "code",
   "execution_count": 19,
   "metadata": {},
   "outputs": [],
   "source": [
    "# for token in vectorize_layer(sample_description).numpy()[:20]:\n",
    "#     print(f\"{token} ---> \",vectorize_layer.get_vocabulary()[token])"
   ]
  },
  {
   "cell_type": "markdown",
   "metadata": {},
   "source": [
    "### Modeling"
   ]
  },
  {
   "cell_type": "markdown",
   "metadata": {},
   "source": [
    "### Descriptions squashed into 1 average embedding vector, size 16"
   ]
  },
  {
   "cell_type": "code",
   "execution_count": 20,
   "metadata": {},
   "outputs": [],
   "source": [
    "embedding_dim=32\n",
    "\n",
    "model = tf.keras.Sequential([\n",
    "    vectorize_layer,\n",
    "    Embedding(vocab_size, embedding_dim, name=\"embedding\"),\n",
    "    GlobalAveragePooling1D(),\n",
    "#     Dropout(0.03),\n",
    "    Dense(4096, activation='elu', name='hidden_layer'),\n",
    "#     Dropout(0.01),\n",
    "#     Dense(2048, activation='elu', name='hidden_layer2'),\n",
    "#     Dropout(0.02),\n",
    "#     Dense(1024, activation='relu', name='hidden_layer2'),\n",
    "    Dense(df_pos.JobTitle.nunique(), name = 'output_layer', activation='softmax')\n",
    "])"
   ]
  },
  {
   "cell_type": "code",
   "execution_count": 21,
   "metadata": {},
   "outputs": [
    {
     "name": "stdout",
     "output_type": "stream",
     "text": [
      "Model: \"sequential\"\n",
      "_________________________________________________________________\n",
      " Layer (type)                Output Shape              Param #   \n",
      "=================================================================\n",
      " Text_processing (TextVector  (None, 282)              0         \n",
      " ization)                                                        \n",
      "                                                                 \n",
      " embedding (Embedding)       (None, 282, 32)           640000    \n",
      "                                                                 \n",
      " global_average_pooling1d (G  (None, 32)               0         \n",
      " lobalAveragePooling1D)                                          \n",
      "                                                                 \n",
      " hidden_layer (Dense)        (None, 4096)              135168    \n",
      "                                                                 \n",
      " output_layer (Dense)        (None, 1953)              8001441   \n",
      "                                                                 \n",
      "=================================================================\n",
      "Total params: 8,776,609\n",
      "Trainable params: 8,776,609\n",
      "Non-trainable params: 0\n",
      "_________________________________________________________________\n"
     ]
    }
   ],
   "source": [
    "model.summary()"
   ]
  },
  {
   "cell_type": "code",
   "execution_count": 22,
   "metadata": {},
   "outputs": [
    {
     "name": "stdout",
     "output_type": "stream",
     "text": [
      "('You must install pydot (`pip install pydot`) and install graphviz (see instructions at https://graphviz.gitlab.io/download/) ', 'for plot_model/model_to_dot to work.')\n"
     ]
    }
   ],
   "source": [
    "tf.keras.utils.plot_model(model, show_dtype=True, show_shapes=True, show_layer_names=True)"
   ]
  },
  {
   "cell_type": "code",
   "execution_count": 23,
   "metadata": {},
   "outputs": [],
   "source": [
    "model.compile(\n",
    "    optimizer=tf.optimizers.Adam(),\n",
    "    loss=tf.keras.losses.categorical_crossentropy,\n",
    "    metrics=[tf.keras.metrics.Precision(), tf.keras.metrics.Recall(),'accuracy']\n",
    "    )"
   ]
  },
  {
   "cell_type": "markdown",
   "metadata": {},
   "source": [
    "#### Creating checkpoints for model weights"
   ]
  },
  {
   "cell_type": "code",
   "execution_count": 24,
   "metadata": {},
   "outputs": [],
   "source": [
    "# checkpoint_path = 'Deep_models_weights'\n",
    "cp_callback = [tf.keras.callbacks.ModelCheckpoint(\n",
    "    filepath='model.{epoch:02d}-{val_loss:.4f}.tf', \n",
    "    verbose=1, \n",
    "    save_weights_only=True,\n",
    "    save_freq= 'epoch')]"
   ]
  },
  {
   "cell_type": "code",
   "execution_count": 25,
   "metadata": {},
   "outputs": [],
   "source": [
    "from tensorflow import keras\n",
    "\n",
    "checkpoint_path = 'Deep_models_weights'\n",
    "callbacks  = [\n",
    "    keras.callbacks.ModelCheckpoint(\n",
    "        filepath=checkpoint_path, \n",
    "        monitor='val_loss',\n",
    "        verbose=1,\n",
    "        save_best_only=True,\n",
    "        save_weights_only=True,\n",
    "        save_freq='epoch'),\n",
    "    keras.callbacks.EarlyStopping(\n",
    "        monitor='val_recall',\n",
    "        min_delta=0,\n",
    "        patience=20,\n",
    "        verbose=1)\n",
    "    ]"
   ]
  },
  {
   "cell_type": "markdown",
   "metadata": {},
   "source": [
    "#### Model fit"
   ]
  },
  {
   "cell_type": "code",
   "execution_count": 28,
   "metadata": {
    "tags": []
   },
   "outputs": [
    {
     "name": "stdout",
     "output_type": "stream",
     "text": [
      "Epoch 1/15\n",
      "24/24 [==============================] - ETA: 0s - loss: 3.5464 - precision: 0.9396 - recall: 0.1515 - accuracy: 0.3171\n",
      "Epoch 00001: saving model to model.01-3.7682.tf\n",
      "24/24 [==============================] - 25s 1s/step - loss: 3.5464 - precision: 0.9396 - recall: 0.1515 - accuracy: 0.3171 - val_loss: 3.7682 - val_precision: 0.9315 - val_recall: 0.1464 - val_accuracy: 0.3379\n",
      "Epoch 2/15\n",
      "24/24 [==============================] - ETA: 0s - loss: 3.4362 - precision: 0.9363 - recall: 0.1624 - accuracy: 0.3387\n",
      "Epoch 00002: saving model to model.02-3.6780.tf\n",
      "24/24 [==============================] - 27s 1s/step - loss: 3.4362 - precision: 0.9363 - recall: 0.1624 - accuracy: 0.3387 - val_loss: 3.6780 - val_precision: 0.9361 - val_recall: 0.1767 - val_accuracy: 0.3470\n",
      "Epoch 3/15\n",
      "24/24 [==============================] - ETA: 0s - loss: 3.3216 - precision: 0.9210 - recall: 0.1830 - accuracy: 0.3551\n",
      "Epoch 00003: saving model to model.03-3.5880.tf\n",
      "24/24 [==============================] - 26s 1s/step - loss: 3.3216 - precision: 0.9210 - recall: 0.1830 - accuracy: 0.3551 - val_loss: 3.5880 - val_precision: 0.9348 - val_recall: 0.1845 - val_accuracy: 0.3830\n",
      "Epoch 4/15\n",
      "24/24 [==============================] - ETA: 0s - loss: 3.2040 - precision: 0.9168 - recall: 0.2061 - accuracy: 0.3897\n",
      "Epoch 00004: saving model to model.04-3.4856.tf\n",
      "24/24 [==============================] - 26s 1s/step - loss: 3.2040 - precision: 0.9168 - recall: 0.2061 - accuracy: 0.3897 - val_loss: 3.4856 - val_precision: 0.8965 - val_recall: 0.2174 - val_accuracy: 0.4068\n",
      "Epoch 5/15\n",
      "24/24 [==============================] - ETA: 0s - loss: 3.0775 - precision: 0.9134 - recall: 0.2307 - accuracy: 0.4188\n",
      "Epoch 00005: saving model to model.05-3.3809.tf\n",
      "24/24 [==============================] - 24s 1s/step - loss: 3.0775 - precision: 0.9134 - recall: 0.2307 - accuracy: 0.4188 - val_loss: 3.3809 - val_precision: 0.9159 - val_recall: 0.2416 - val_accuracy: 0.4235\n",
      "Epoch 6/15\n",
      "24/24 [==============================] - ETA: 0s - loss: 2.9452 - precision: 0.9111 - recall: 0.2561 - accuracy: 0.4347\n",
      "Epoch 00006: saving model to model.06-3.2751.tf\n",
      "24/24 [==============================] - 26s 1s/step - loss: 2.9452 - precision: 0.9111 - recall: 0.2561 - accuracy: 0.4347 - val_loss: 3.2751 - val_precision: 0.9159 - val_recall: 0.2681 - val_accuracy: 0.4510\n",
      "Epoch 7/15\n",
      "24/24 [==============================] - ETA: 0s - loss: 2.8108 - precision: 0.9030 - recall: 0.2859 - accuracy: 0.4544\n",
      "Epoch 00007: saving model to model.07-3.1721.tf\n",
      "24/24 [==============================] - 27s 1s/step - loss: 2.8108 - precision: 0.9030 - recall: 0.2859 - accuracy: 0.4544 - val_loss: 3.1721 - val_precision: 0.9028 - val_recall: 0.2936 - val_accuracy: 0.4647\n",
      "Epoch 8/15\n",
      "19/24 [======================>.......] - ETA: 5s - loss: 2.6826 - precision: 0.9055 - recall: 0.3138 - accuracy: 0.4744"
     ]
    },
    {
     "ename": "KeyboardInterrupt",
     "evalue": "",
     "output_type": "error",
     "traceback": [
      "\u001b[1;31m---------------------------------------------------------------------------\u001b[0m",
      "\u001b[1;31mKeyboardInterrupt\u001b[0m                         Traceback (most recent call last)",
      "\u001b[1;32m<timed exec>\u001b[0m in \u001b[0;36m<module>\u001b[1;34m\u001b[0m\n",
      "\u001b[1;32m~\\anaconda3\\envs\\ML Technion\\lib\\site-packages\\keras\\utils\\traceback_utils.py\u001b[0m in \u001b[0;36merror_handler\u001b[1;34m(*args, **kwargs)\u001b[0m\n\u001b[0;32m     62\u001b[0m     \u001b[0mfiltered_tb\u001b[0m \u001b[1;33m=\u001b[0m \u001b[1;32mNone\u001b[0m\u001b[1;33m\u001b[0m\u001b[1;33m\u001b[0m\u001b[0m\n\u001b[0;32m     63\u001b[0m     \u001b[1;32mtry\u001b[0m\u001b[1;33m:\u001b[0m\u001b[1;33m\u001b[0m\u001b[1;33m\u001b[0m\u001b[0m\n\u001b[1;32m---> 64\u001b[1;33m       \u001b[1;32mreturn\u001b[0m \u001b[0mfn\u001b[0m\u001b[1;33m(\u001b[0m\u001b[1;33m*\u001b[0m\u001b[0margs\u001b[0m\u001b[1;33m,\u001b[0m \u001b[1;33m**\u001b[0m\u001b[0mkwargs\u001b[0m\u001b[1;33m)\u001b[0m\u001b[1;33m\u001b[0m\u001b[1;33m\u001b[0m\u001b[0m\n\u001b[0m\u001b[0;32m     65\u001b[0m     \u001b[1;32mexcept\u001b[0m \u001b[0mException\u001b[0m \u001b[1;32mas\u001b[0m \u001b[0me\u001b[0m\u001b[1;33m:\u001b[0m  \u001b[1;31m# pylint: disable=broad-except\u001b[0m\u001b[1;33m\u001b[0m\u001b[1;33m\u001b[0m\u001b[0m\n\u001b[0;32m     66\u001b[0m       \u001b[0mfiltered_tb\u001b[0m \u001b[1;33m=\u001b[0m \u001b[0m_process_traceback_frames\u001b[0m\u001b[1;33m(\u001b[0m\u001b[0me\u001b[0m\u001b[1;33m.\u001b[0m\u001b[0m__traceback__\u001b[0m\u001b[1;33m)\u001b[0m\u001b[1;33m\u001b[0m\u001b[1;33m\u001b[0m\u001b[0m\n",
      "\u001b[1;32m~\\anaconda3\\envs\\ML Technion\\lib\\site-packages\\keras\\engine\\training.py\u001b[0m in \u001b[0;36mfit\u001b[1;34m(self, x, y, batch_size, epochs, verbose, callbacks, validation_split, validation_data, shuffle, class_weight, sample_weight, initial_epoch, steps_per_epoch, validation_steps, validation_batch_size, validation_freq, max_queue_size, workers, use_multiprocessing)\u001b[0m\n\u001b[0;32m   1214\u001b[0m                 _r=1):\n\u001b[0;32m   1215\u001b[0m               \u001b[0mcallbacks\u001b[0m\u001b[1;33m.\u001b[0m\u001b[0mon_train_batch_begin\u001b[0m\u001b[1;33m(\u001b[0m\u001b[0mstep\u001b[0m\u001b[1;33m)\u001b[0m\u001b[1;33m\u001b[0m\u001b[1;33m\u001b[0m\u001b[0m\n\u001b[1;32m-> 1216\u001b[1;33m               \u001b[0mtmp_logs\u001b[0m \u001b[1;33m=\u001b[0m \u001b[0mself\u001b[0m\u001b[1;33m.\u001b[0m\u001b[0mtrain_function\u001b[0m\u001b[1;33m(\u001b[0m\u001b[0miterator\u001b[0m\u001b[1;33m)\u001b[0m\u001b[1;33m\u001b[0m\u001b[1;33m\u001b[0m\u001b[0m\n\u001b[0m\u001b[0;32m   1217\u001b[0m               \u001b[1;32mif\u001b[0m \u001b[0mdata_handler\u001b[0m\u001b[1;33m.\u001b[0m\u001b[0mshould_sync\u001b[0m\u001b[1;33m:\u001b[0m\u001b[1;33m\u001b[0m\u001b[1;33m\u001b[0m\u001b[0m\n\u001b[0;32m   1218\u001b[0m                 \u001b[0mcontext\u001b[0m\u001b[1;33m.\u001b[0m\u001b[0masync_wait\u001b[0m\u001b[1;33m(\u001b[0m\u001b[1;33m)\u001b[0m\u001b[1;33m\u001b[0m\u001b[1;33m\u001b[0m\u001b[0m\n",
      "\u001b[1;32m~\\anaconda3\\envs\\ML Technion\\lib\\site-packages\\tensorflow\\python\\util\\traceback_utils.py\u001b[0m in \u001b[0;36merror_handler\u001b[1;34m(*args, **kwargs)\u001b[0m\n\u001b[0;32m    148\u001b[0m     \u001b[0mfiltered_tb\u001b[0m \u001b[1;33m=\u001b[0m \u001b[1;32mNone\u001b[0m\u001b[1;33m\u001b[0m\u001b[1;33m\u001b[0m\u001b[0m\n\u001b[0;32m    149\u001b[0m     \u001b[1;32mtry\u001b[0m\u001b[1;33m:\u001b[0m\u001b[1;33m\u001b[0m\u001b[1;33m\u001b[0m\u001b[0m\n\u001b[1;32m--> 150\u001b[1;33m       \u001b[1;32mreturn\u001b[0m \u001b[0mfn\u001b[0m\u001b[1;33m(\u001b[0m\u001b[1;33m*\u001b[0m\u001b[0margs\u001b[0m\u001b[1;33m,\u001b[0m \u001b[1;33m**\u001b[0m\u001b[0mkwargs\u001b[0m\u001b[1;33m)\u001b[0m\u001b[1;33m\u001b[0m\u001b[1;33m\u001b[0m\u001b[0m\n\u001b[0m\u001b[0;32m    151\u001b[0m     \u001b[1;32mexcept\u001b[0m \u001b[0mException\u001b[0m \u001b[1;32mas\u001b[0m \u001b[0me\u001b[0m\u001b[1;33m:\u001b[0m\u001b[1;33m\u001b[0m\u001b[1;33m\u001b[0m\u001b[0m\n\u001b[0;32m    152\u001b[0m       \u001b[0mfiltered_tb\u001b[0m \u001b[1;33m=\u001b[0m \u001b[0m_process_traceback_frames\u001b[0m\u001b[1;33m(\u001b[0m\u001b[0me\u001b[0m\u001b[1;33m.\u001b[0m\u001b[0m__traceback__\u001b[0m\u001b[1;33m)\u001b[0m\u001b[1;33m\u001b[0m\u001b[1;33m\u001b[0m\u001b[0m\n",
      "\u001b[1;32m~\\anaconda3\\envs\\ML Technion\\lib\\site-packages\\tensorflow\\python\\eager\\def_function.py\u001b[0m in \u001b[0;36m__call__\u001b[1;34m(self, *args, **kwds)\u001b[0m\n\u001b[0;32m    908\u001b[0m \u001b[1;33m\u001b[0m\u001b[0m\n\u001b[0;32m    909\u001b[0m       \u001b[1;32mwith\u001b[0m \u001b[0mOptionalXlaContext\u001b[0m\u001b[1;33m(\u001b[0m\u001b[0mself\u001b[0m\u001b[1;33m.\u001b[0m\u001b[0m_jit_compile\u001b[0m\u001b[1;33m)\u001b[0m\u001b[1;33m:\u001b[0m\u001b[1;33m\u001b[0m\u001b[1;33m\u001b[0m\u001b[0m\n\u001b[1;32m--> 910\u001b[1;33m         \u001b[0mresult\u001b[0m \u001b[1;33m=\u001b[0m \u001b[0mself\u001b[0m\u001b[1;33m.\u001b[0m\u001b[0m_call\u001b[0m\u001b[1;33m(\u001b[0m\u001b[1;33m*\u001b[0m\u001b[0margs\u001b[0m\u001b[1;33m,\u001b[0m \u001b[1;33m**\u001b[0m\u001b[0mkwds\u001b[0m\u001b[1;33m)\u001b[0m\u001b[1;33m\u001b[0m\u001b[1;33m\u001b[0m\u001b[0m\n\u001b[0m\u001b[0;32m    911\u001b[0m \u001b[1;33m\u001b[0m\u001b[0m\n\u001b[0;32m    912\u001b[0m       \u001b[0mnew_tracing_count\u001b[0m \u001b[1;33m=\u001b[0m \u001b[0mself\u001b[0m\u001b[1;33m.\u001b[0m\u001b[0mexperimental_get_tracing_count\u001b[0m\u001b[1;33m(\u001b[0m\u001b[1;33m)\u001b[0m\u001b[1;33m\u001b[0m\u001b[1;33m\u001b[0m\u001b[0m\n",
      "\u001b[1;32m~\\anaconda3\\envs\\ML Technion\\lib\\site-packages\\tensorflow\\python\\eager\\def_function.py\u001b[0m in \u001b[0;36m_call\u001b[1;34m(self, *args, **kwds)\u001b[0m\n\u001b[0;32m    940\u001b[0m       \u001b[1;31m# In this case we have created variables on the first call, so we run the\u001b[0m\u001b[1;33m\u001b[0m\u001b[1;33m\u001b[0m\u001b[0m\n\u001b[0;32m    941\u001b[0m       \u001b[1;31m# defunned version which is guaranteed to never create variables.\u001b[0m\u001b[1;33m\u001b[0m\u001b[1;33m\u001b[0m\u001b[0m\n\u001b[1;32m--> 942\u001b[1;33m       \u001b[1;32mreturn\u001b[0m \u001b[0mself\u001b[0m\u001b[1;33m.\u001b[0m\u001b[0m_stateless_fn\u001b[0m\u001b[1;33m(\u001b[0m\u001b[1;33m*\u001b[0m\u001b[0margs\u001b[0m\u001b[1;33m,\u001b[0m \u001b[1;33m**\u001b[0m\u001b[0mkwds\u001b[0m\u001b[1;33m)\u001b[0m  \u001b[1;31m# pylint: disable=not-callable\u001b[0m\u001b[1;33m\u001b[0m\u001b[1;33m\u001b[0m\u001b[0m\n\u001b[0m\u001b[0;32m    943\u001b[0m     \u001b[1;32melif\u001b[0m \u001b[0mself\u001b[0m\u001b[1;33m.\u001b[0m\u001b[0m_stateful_fn\u001b[0m \u001b[1;32mis\u001b[0m \u001b[1;32mnot\u001b[0m \u001b[1;32mNone\u001b[0m\u001b[1;33m:\u001b[0m\u001b[1;33m\u001b[0m\u001b[1;33m\u001b[0m\u001b[0m\n\u001b[0;32m    944\u001b[0m       \u001b[1;31m# Release the lock early so that multiple threads can perform the call\u001b[0m\u001b[1;33m\u001b[0m\u001b[1;33m\u001b[0m\u001b[0m\n",
      "\u001b[1;32m~\\anaconda3\\envs\\ML Technion\\lib\\site-packages\\tensorflow\\python\\eager\\function.py\u001b[0m in \u001b[0;36m__call__\u001b[1;34m(self, *args, **kwargs)\u001b[0m\n\u001b[0;32m   3128\u001b[0m       (graph_function,\n\u001b[0;32m   3129\u001b[0m        filtered_flat_args) = self._maybe_define_function(args, kwargs)\n\u001b[1;32m-> 3130\u001b[1;33m     return graph_function._call_flat(\n\u001b[0m\u001b[0;32m   3131\u001b[0m         filtered_flat_args, captured_inputs=graph_function.captured_inputs)  # pylint: disable=protected-access\n\u001b[0;32m   3132\u001b[0m \u001b[1;33m\u001b[0m\u001b[0m\n",
      "\u001b[1;32m~\\anaconda3\\envs\\ML Technion\\lib\\site-packages\\tensorflow\\python\\eager\\function.py\u001b[0m in \u001b[0;36m_call_flat\u001b[1;34m(self, args, captured_inputs, cancellation_manager)\u001b[0m\n\u001b[0;32m   1957\u001b[0m         and executing_eagerly):\n\u001b[0;32m   1958\u001b[0m       \u001b[1;31m# No tape is watching; skip to running the function.\u001b[0m\u001b[1;33m\u001b[0m\u001b[1;33m\u001b[0m\u001b[0m\n\u001b[1;32m-> 1959\u001b[1;33m       return self._build_call_outputs(self._inference_function.call(\n\u001b[0m\u001b[0;32m   1960\u001b[0m           ctx, args, cancellation_manager=cancellation_manager))\n\u001b[0;32m   1961\u001b[0m     forward_backward = self._select_forward_and_backward_functions(\n",
      "\u001b[1;32m~\\anaconda3\\envs\\ML Technion\\lib\\site-packages\\tensorflow\\python\\eager\\function.py\u001b[0m in \u001b[0;36mcall\u001b[1;34m(self, ctx, args, cancellation_manager)\u001b[0m\n\u001b[0;32m    596\u001b[0m       \u001b[1;32mwith\u001b[0m \u001b[0m_InterpolateFunctionError\u001b[0m\u001b[1;33m(\u001b[0m\u001b[0mself\u001b[0m\u001b[1;33m)\u001b[0m\u001b[1;33m:\u001b[0m\u001b[1;33m\u001b[0m\u001b[1;33m\u001b[0m\u001b[0m\n\u001b[0;32m    597\u001b[0m         \u001b[1;32mif\u001b[0m \u001b[0mcancellation_manager\u001b[0m \u001b[1;32mis\u001b[0m \u001b[1;32mNone\u001b[0m\u001b[1;33m:\u001b[0m\u001b[1;33m\u001b[0m\u001b[1;33m\u001b[0m\u001b[0m\n\u001b[1;32m--> 598\u001b[1;33m           outputs = execute.execute(\n\u001b[0m\u001b[0;32m    599\u001b[0m               \u001b[0mstr\u001b[0m\u001b[1;33m(\u001b[0m\u001b[0mself\u001b[0m\u001b[1;33m.\u001b[0m\u001b[0msignature\u001b[0m\u001b[1;33m.\u001b[0m\u001b[0mname\u001b[0m\u001b[1;33m)\u001b[0m\u001b[1;33m,\u001b[0m\u001b[1;33m\u001b[0m\u001b[1;33m\u001b[0m\u001b[0m\n\u001b[0;32m    600\u001b[0m               \u001b[0mnum_outputs\u001b[0m\u001b[1;33m=\u001b[0m\u001b[0mself\u001b[0m\u001b[1;33m.\u001b[0m\u001b[0m_num_outputs\u001b[0m\u001b[1;33m,\u001b[0m\u001b[1;33m\u001b[0m\u001b[1;33m\u001b[0m\u001b[0m\n",
      "\u001b[1;32m~\\anaconda3\\envs\\ML Technion\\lib\\site-packages\\tensorflow\\python\\eager\\execute.py\u001b[0m in \u001b[0;36mquick_execute\u001b[1;34m(op_name, num_outputs, inputs, attrs, ctx, name)\u001b[0m\n\u001b[0;32m     56\u001b[0m   \u001b[1;32mtry\u001b[0m\u001b[1;33m:\u001b[0m\u001b[1;33m\u001b[0m\u001b[1;33m\u001b[0m\u001b[0m\n\u001b[0;32m     57\u001b[0m     \u001b[0mctx\u001b[0m\u001b[1;33m.\u001b[0m\u001b[0mensure_initialized\u001b[0m\u001b[1;33m(\u001b[0m\u001b[1;33m)\u001b[0m\u001b[1;33m\u001b[0m\u001b[1;33m\u001b[0m\u001b[0m\n\u001b[1;32m---> 58\u001b[1;33m     tensors = pywrap_tfe.TFE_Py_Execute(ctx._handle, device_name, op_name,\n\u001b[0m\u001b[0;32m     59\u001b[0m                                         inputs, attrs, num_outputs)\n\u001b[0;32m     60\u001b[0m   \u001b[1;32mexcept\u001b[0m \u001b[0mcore\u001b[0m\u001b[1;33m.\u001b[0m\u001b[0m_NotOkStatusException\u001b[0m \u001b[1;32mas\u001b[0m \u001b[0me\u001b[0m\u001b[1;33m:\u001b[0m\u001b[1;33m\u001b[0m\u001b[1;33m\u001b[0m\u001b[0m\n",
      "\u001b[1;31mKeyboardInterrupt\u001b[0m: "
     ]
    }
   ],
   "source": [
    "%%time\n",
    "history = model.fit(\n",
    "    training_set[text_col],\n",
    "    train__y_labels,\n",
    "    epochs=15,\n",
    "    batch_size=1024,\n",
    "    verbose=1,\n",
    "    callbacks=cp_callback,\n",
    "    validation_data = (test_set[text_col], test__y_labels)\n",
    ")"
   ]
  },
  {
   "cell_type": "code",
   "execution_count": null,
   "metadata": {},
   "outputs": [],
   "source": [
    "model2 = "
   ]
  },
  {
   "cell_type": "markdown",
   "metadata": {
    "tags": []
   },
   "source": [
    "### Simple NN Prediction & Evaluation"
   ]
  },
  {
   "cell_type": "code",
   "execution_count": 41,
   "metadata": {},
   "outputs": [],
   "source": [
    "import matplotlib.pyplot as plt"
   ]
  },
  {
   "cell_type": "code",
   "execution_count": 94,
   "metadata": {},
   "outputs": [
    {
     "data": {
      "text/plain": [
       "<AxesSubplot:>"
      ]
     },
     "execution_count": 94,
     "metadata": {},
     "output_type": "execute_result"
    },
    {
     "data": {
      "image/png": "[encoded data removed]",
      "text/plain": [
       "<Figure size 432x288 with 1 Axes>"
      ]
     },
     "metadata": {
      "needs_background": "light"
     },
     "output_type": "display_data"
    }
   ],
   "source": [
    "pd.DataFrame(history.history).plot()"
   ]
  },
  {
   "cell_type": "code",
   "execution_count": 130,
   "metadata": {},
   "outputs": [],
   "source": [
    "test_set['token_with_best_prediction'] = model.predict(test_set[text_col]).argmax(axis=1)"
   ]
  },
  {
   "cell_type": "code",
   "execution_count": 131,
   "metadata": {},
   "outputs": [],
   "source": [
    "test_set['prob_token_with_best_prediction'] = model.predict(test_set[text_col]).max(axis=1)"
   ]
  },
  {
   "cell_type": "code",
   "execution_count": 133,
   "metadata": {},
   "outputs": [
    {
     "data": {
      "text/html": [
       "<div>\n",
       "<style scoped>\n",
       "    .dataframe tbody tr th:only-of-type {\n",
       "        vertical-align: middle;\n",
       "    }\n",
       "\n",
       "    .dataframe tbody tr th {\n",
       "        vertical-align: top;\n",
       "    }\n",
       "\n",
       "    .dataframe thead th {\n",
       "        text-align: right;\n",
       "    }\n",
       "</style>\n",
       "<table border=\"1\" class=\"dataframe\">\n",
       "  <thead>\n",
       "    <tr style=\"text-align: right;\">\n",
       "      <th></th>\n",
       "      <th>Desc_concatinated</th>\n",
       "      <th>JobTitle_tokenized</th>\n",
       "      <th>token_with_best_prediction</th>\n",
       "      <th>prob_token_with_best_prediction</th>\n",
       "    </tr>\n",
       "  </thead>\n",
       "  <tbody>\n",
       "    <tr>\n",
       "      <th>29572</th>\n",
       "      <td>cambria parttime therapist week studentsb september medford work school position language pathologist days</td>\n",
       "      <td>1073</td>\n",
       "      <td>1073</td>\n",
       "      <td>0.851287</td>\n",
       "    </tr>\n",
       "    <tr>\n",
       "      <th>25505</th>\n",
       "      <td>everyone house morning time training managers youve assistant maybe chance get bosses nows</td>\n",
       "      <td>829</td>\n",
       "      <td>140</td>\n",
       "      <td>0.083591</td>\n",
       "    </tr>\n",
       "    <tr>\n",
       "      <th>24811</th>\n",
       "      <td>maintains securing materials handlers documents positions hour zipx handler guns crating product supplies disposition orders inventory use ability rf assemblyproduction stock loading job shifts lines work position jacks requirements term location...</td>\n",
       "      <td>105</td>\n",
       "      <td>105</td>\n",
       "      <td>0.869836</td>\n",
       "    </tr>\n",
       "    <tr>\n",
       "      <th>21925</th>\n",
       "      <td>road happyits online customer hour adtpizzato prep service dishwashers fun call hut cashiers friends member offer hiring location charlotte cashas pay production albermarle people</td>\n",
       "      <td>140</td>\n",
       "      <td>204</td>\n",
       "      <td>0.764876</td>\n",
       "    </tr>\n",
       "    <tr>\n",
       "      <th>8254</th>\n",
       "      <td>supervise airline operation skills management responsibilities measures agreements aircraft business safety resources policy items areas quality job sops qualifications cargo activities years line employer variances availability improvement satis...</td>\n",
       "      <td>866</td>\n",
       "      <td>866</td>\n",
       "      <td>0.091597</td>\n",
       "    </tr>\n",
       "  </tbody>\n",
       "</table>\n",
       "</div>"
      ],
      "text/plain": [
       "                                                                                                                                                                                                                                               Desc_concatinated  \\\n",
       "29572                                                                                                                                                 cambria parttime therapist week studentsb september medford work school position language pathologist days   \n",
       "25505                                                                                                                                                                 everyone house morning time training managers youve assistant maybe chance get bosses nows   \n",
       "24811  maintains securing materials handlers documents positions hour zipx handler guns crating product supplies disposition orders inventory use ability rf assemblyproduction stock loading job shifts lines work position jacks requirements term location...   \n",
       "21925                                                                        road happyits online customer hour adtpizzato prep service dishwashers fun call hut cashiers friends member offer hiring location charlotte cashas pay production albermarle people   \n",
       "8254   supervise airline operation skills management responsibilities measures agreements aircraft business safety resources policy items areas quality job sops qualifications cargo activities years line employer variances availability improvement satis...   \n",
       "\n",
       "       JobTitle_tokenized  token_with_best_prediction  \\\n",
       "29572                1073                        1073   \n",
       "25505                 829                         140   \n",
       "24811                 105                         105   \n",
       "21925                 140                         204   \n",
       "8254                  866                         866   \n",
       "\n",
       "       prob_token_with_best_prediction  \n",
       "29572                         0.851287  \n",
       "25505                         0.083591  \n",
       "24811                         0.869836  \n",
       "21925                         0.764876  \n",
       "8254                          0.091597  "
      ]
     },
     "execution_count": 133,
     "metadata": {},
     "output_type": "execute_result"
    }
   ],
   "source": [
    "test_set.sample(5)"
   ]
  },
  {
   "cell_type": "code",
   "execution_count": 49,
   "metadata": {
    "collapsed": true,
    "jupyter": {
     "outputs_hidden": true
    },
    "tags": []
   },
   "outputs": [
    {
     "data": {
      "text/plain": [
       "{'loss': [7.0797905921936035,\n",
       "  5.626489162445068,\n",
       "  5.455383777618408,\n",
       "  5.366490840911865,\n",
       "  5.274999618530273,\n",
       "  5.175516605377197,\n",
       "  5.047900676727295,\n",
       "  4.867799758911133,\n",
       "  4.685567378997803,\n",
       "  4.526503086090088],\n",
       " 'accuracy': [0.054283153265714645,\n",
       "  0.05615779757499695,\n",
       "  0.05615779757499695,\n",
       "  0.05615779757499695,\n",
       "  0.05660608038306236,\n",
       "  0.057339634746313095,\n",
       "  0.0831771120429039,\n",
       "  0.09968212246894836,\n",
       "  0.13285516202449799,\n",
       "  0.15249817073345184],\n",
       " 'val_loss': [5.97400426864624,\n",
       "  5.530951976776123,\n",
       "  5.462557315826416,\n",
       "  5.377357006072998,\n",
       "  5.277641773223877,\n",
       "  5.172201633453369,\n",
       "  5.015959739685059,\n",
       "  4.832588195800781,\n",
       "  4.6812005043029785,\n",
       "  4.554471492767334],\n",
       " 'val_accuracy': [0.0570497140288353,\n",
       "  0.0570497140288353,\n",
       "  0.0570497140288353,\n",
       "  0.0570497140288353,\n",
       "  0.0570497140288353,\n",
       "  0.05884270742535591,\n",
       "  0.08622656762599945,\n",
       "  0.13072533905506134,\n",
       "  0.15175224840641022,\n",
       "  0.1595762073993683]}"
      ]
     },
     "execution_count": 49,
     "metadata": {},
     "output_type": "execute_result"
    }
   ],
   "source": [
    "history.history"
   ]
  },
  {
   "cell_type": "markdown",
   "metadata": {
    "tags": []
   },
   "source": [
    "### Making a loop to see the best metrics"
   ]
  },
  {
   "cell_type": "code",
   "execution_count": 310,
   "metadata": {},
   "outputs": [
    {
     "name": "stdout",
     "output_type": "stream",
     "text": [
      "24/24 [==============================] - 74s 3s/step - loss: 6.6850 - accuracy: 0.0535 - val_loss: 5.6741 - val_accuracy: 0.0570\n",
      "24/24 [==============================] - 59s 2s/step - loss: 5.5730 - accuracy: 0.0538 - val_loss: 5.5042 - val_accuracy: 0.0570\n",
      "24/24 [==============================] - 57s 2s/step - loss: 5.3955 - accuracy: 0.0555 - val_loss: 5.3840 - val_accuracy: 0.0570\n",
      "24/24 [==============================] - 59s 2s/step - loss: 5.2552 - accuracy: 0.0622 - val_loss: 5.2239 - val_accuracy: 0.0843\n",
      "24/24 [==============================] - 60s 2s/step - loss: 5.0777 - accuracy: 0.0857 - val_loss: 5.0135 - val_accuracy: 0.0988\n",
      "24/24 [==============================] - 62s 2s/step - loss: 4.8522 - accuracy: 0.1083 - val_loss: 4.7888 - val_accuracy: 0.1255\n",
      "24/24 [==============================] - 58s 2s/step - loss: 4.6157 - accuracy: 0.1402 - val_loss: 4.5845 - val_accuracy: 0.1568\n",
      "24/24 [==============================] - 61s 2s/step - loss: 4.3968 - accuracy: 0.1614 - val_loss: 4.4035 - val_accuracy: 0.1832\n",
      "24/24 [==============================] - 59s 2s/step - loss: 4.1942 - accuracy: 0.1950 - val_loss: 4.2435 - val_accuracy: 0.2051\n",
      "24/24 [==============================] - 59s 2s/step - loss: 4.0131 - accuracy: 0.2237 - val_loss: 4.0970 - val_accuracy: 0.2551\n",
      "24/24 [==============================] - 60s 2s/step - loss: 3.8481 - accuracy: 0.2519 - val_loss: 3.9829 - val_accuracy: 0.2665\n",
      "24/24 [==============================] - 58s 2s/step - loss: 3.7119 - accuracy: 0.2860 - val_loss: 3.8769 - val_accuracy: 0.3014\n",
      "24/24 [==============================] - 56s 2s/step - loss: 3.5806 - accuracy: 0.3081 - val_loss: 3.7836 - val_accuracy: 0.3384\n",
      "24/24 [==============================] - 59s 2s/step - loss: 3.4596 - accuracy: 0.3343 - val_loss: 3.6927 - val_accuracy: 0.3439\n",
      "24/24 [==============================] - 59s 2s/step - loss: 3.3421 - accuracy: 0.3567 - val_loss: 3.5942 - val_accuracy: 0.3852\n",
      "24/24 [==============================] - 58s 2s/step - loss: 3.2204 - accuracy: 0.3895 - val_loss: 3.4922 - val_accuracy: 0.4005\n",
      "24/24 [==============================] - 58s 2s/step - loss: 3.0922 - accuracy: 0.4107 - val_loss: 3.3951 - val_accuracy: 0.4174\n",
      "24/24 [==============================] - 56s 2s/step - loss: 2.9639 - accuracy: 0.4304 - val_loss: 3.2843 - val_accuracy: 0.4398\n",
      "24/24 [==============================] - 58s 2s/step - loss: 2.8376 - accuracy: 0.4516 - val_loss: 3.1962 - val_accuracy: 0.4628\n",
      "24/24 [==============================] - 58s 2s/step - loss: 2.7178 - accuracy: 0.4691 - val_loss: 3.1015 - val_accuracy: 0.4709\n",
      "24/24 [==============================] - 57s 2s/step - loss: 2.6009 - accuracy: 0.4896 - val_loss: 3.0267 - val_accuracy: 0.4839\n",
      "24/24 [==============================] - 59s 2s/step - loss: 2.4918 - accuracy: 0.5072 - val_loss: 2.9582 - val_accuracy: 0.4988\n",
      "24/24 [==============================] - 57s 2s/step - loss: 2.3885 - accuracy: 0.5248 - val_loss: 2.8883 - val_accuracy: 0.5208\n",
      "24/24 [==============================] - 59s 2s/step - loss: 2.2923 - accuracy: 0.5391 - val_loss: 2.8288 - val_accuracy: 0.5288\n",
      "24/24 [==============================] - 59s 2s/step - loss: 2.2041 - accuracy: 0.5534 - val_loss: 2.7778 - val_accuracy: 0.5408\n",
      "24/24 [==============================] - 60s 2s/step - loss: 2.1190 - accuracy: 0.5665 - val_loss: 2.7338 - val_accuracy: 0.5488\n",
      "24/24 [==============================] - 67s 2s/step - loss: 2.0389 - accuracy: 0.5798 - val_loss: 2.6958 - val_accuracy: 0.5568\n",
      "24/24 [==============================] - 56s 2s/step - loss: 1.9650 - accuracy: 0.5892 - val_loss: 2.6624 - val_accuracy: 0.5658\n",
      "24/24 [==============================] - 58s 2s/step - loss: 1.8934 - accuracy: 0.6030 - val_loss: 2.6306 - val_accuracy: 0.5731\n",
      "24/24 [==============================] - 59s 2s/step - loss: 1.8282 - accuracy: 0.6106 - val_loss: 2.6109 - val_accuracy: 0.5809\n",
      "24/24 [==============================] - 59s 2s/step - loss: 1.7716 - accuracy: 0.6204 - val_loss: 2.5897 - val_accuracy: 0.5886\n",
      "24/24 [==============================] - 60s 2s/step - loss: 1.7074 - accuracy: 0.6324 - val_loss: 2.5692 - val_accuracy: 0.5985\n",
      "24/24 [==============================] - 61s 2s/step - loss: 1.6557 - accuracy: 0.6392 - val_loss: 2.5500 - val_accuracy: 0.6021\n",
      "24/24 [==============================] - 57s 2s/step - loss: 1.6066 - accuracy: 0.6437 - val_loss: 2.5485 - val_accuracy: 0.6054\n",
      "24/24 [==============================] - 60s 2s/step - loss: 1.5538 - accuracy: 0.6550 - val_loss: 2.5372 - val_accuracy: 0.6121\n",
      "24/24 [==============================] - 58s 2s/step - loss: 1.5070 - accuracy: 0.6653 - val_loss: 2.5290 - val_accuracy: 0.6178\n",
      "24/24 [==============================] - 58s 2s/step - loss: 1.4647 - accuracy: 0.6714 - val_loss: 2.5368 - val_accuracy: 0.6210\n",
      "24/24 [==============================] - 59s 2s/step - loss: 1.4234 - accuracy: 0.6770 - val_loss: 2.5217 - val_accuracy: 0.6231\n",
      "24/24 [==============================] - 59s 2s/step - loss: 1.3827 - accuracy: 0.6879 - val_loss: 2.5310 - val_accuracy: 0.6215\n",
      "24/24 [==============================] - 61s 2s/step - loss: 1.3403 - accuracy: 0.6944 - val_loss: 2.5304 - val_accuracy: 0.6336\n",
      "24/24 [==============================] - 58s 2s/step - loss: 1.3070 - accuracy: 0.7008 - val_loss: 2.5288 - val_accuracy: 0.6363\n",
      "24/24 [==============================] - 60s 2s/step - loss: 1.2686 - accuracy: 0.7079 - val_loss: 2.5176 - val_accuracy: 0.6412\n",
      "24/24 [==============================] - 60s 2s/step - loss: 1.2314 - accuracy: 0.7142 - val_loss: 2.5324 - val_accuracy: 0.6412\n",
      "24/24 [==============================] - 58s 2s/step - loss: 1.2010 - accuracy: 0.7174 - val_loss: 2.5458 - val_accuracy: 0.6474\n",
      "24/24 [==============================] - 60s 2s/step - loss: 1.1660 - accuracy: 0.7269 - val_loss: 2.5482 - val_accuracy: 0.6487\n",
      "24/24 [==============================] - 60s 2s/step - loss: 1.1303 - accuracy: 0.7341 - val_loss: 2.5576 - val_accuracy: 0.6509\n",
      "24/24 [==============================] - 61s 2s/step - loss: 1.1027 - accuracy: 0.7400 - val_loss: 2.5599 - val_accuracy: 0.6584\n",
      "24/24 [==============================] - 62s 2s/step - loss: 1.0757 - accuracy: 0.7448 - val_loss: 2.5719 - val_accuracy: 0.6551\n",
      "24/24 [==============================] - 62s 2s/step - loss: 1.0442 - accuracy: 0.7509 - val_loss: 2.5813 - val_accuracy: 0.6593\n",
      "24/24 [==============================] - 61s 2s/step - loss: 1.0168 - accuracy: 0.7579 - val_loss: 2.5940 - val_accuracy: 0.6647\n",
      "24/24 [==============================] - 61s 2s/step - loss: 0.9898 - accuracy: 0.7627 - val_loss: 2.6133 - val_accuracy: 0.6590\n",
      "24/24 [==============================] - 62s 2s/step - loss: 0.9652 - accuracy: 0.7693 - val_loss: 2.6217 - val_accuracy: 0.6645\n",
      "24/24 [==============================] - 62s 2s/step - loss: 0.9360 - accuracy: 0.7740 - val_loss: 2.6557 - val_accuracy: 0.6678\n",
      "24/24 [==============================] - 64s 2s/step - loss: 0.9120 - accuracy: 0.7821 - val_loss: 2.6542 - val_accuracy: 0.6665\n",
      "24/24 [==============================] - 60s 2s/step - loss: 0.8894 - accuracy: 0.7846 - val_loss: 2.6747 - val_accuracy: 0.6711\n",
      "24/24 [==============================] - 60s 2s/step - loss: 0.8688 - accuracy: 0.7893 - val_loss: 2.7016 - val_accuracy: 0.6676\n",
      "24/24 [==============================] - 59s 2s/step - loss: 0.8418 - accuracy: 0.7950 - val_loss: 2.7169 - val_accuracy: 0.6701\n",
      "24/24 [==============================] - 60s 2s/step - loss: 0.8173 - accuracy: 0.8024 - val_loss: 2.7294 - val_accuracy: 0.6748\n",
      "24/24 [==============================] - 60s 2s/step - loss: 0.7985 - accuracy: 0.8064 - val_loss: 2.7532 - val_accuracy: 0.6743\n",
      "24/24 [==============================] - 63s 2s/step - loss: 0.7798 - accuracy: 0.8115 - val_loss: 2.7680 - val_accuracy: 0.6756\n",
      "24/24 [==============================] - 61s 2s/step - loss: 0.7576 - accuracy: 0.8188 - val_loss: 2.8036 - val_accuracy: 0.6711\n",
      "24/24 [==============================] - 61s 2s/step - loss: 0.7446 - accuracy: 0.8183 - val_loss: 2.8172 - val_accuracy: 0.6735\n",
      "24/24 [==============================] - 60s 2s/step - loss: 0.7214 - accuracy: 0.8246 - val_loss: 2.8349 - val_accuracy: 0.6823\n",
      "24/24 [==============================] - 62s 2s/step - loss: 0.7015 - accuracy: 0.8313 - val_loss: 2.8537 - val_accuracy: 0.6818\n",
      "24/24 [==============================] - 61s 2s/step - loss: 0.6840 - accuracy: 0.8371 - val_loss: 2.8722 - val_accuracy: 0.6812\n",
      "24/24 [==============================] - 60s 2s/step - loss: 0.6652 - accuracy: 0.8383 - val_loss: 2.9053 - val_accuracy: 0.6831\n",
      "24/24 [==============================] - 61s 2s/step - loss: 0.6487 - accuracy: 0.8453 - val_loss: 2.9343 - val_accuracy: 0.6830\n",
      "24/24 [==============================] - 61s 2s/step - loss: 0.6348 - accuracy: 0.8484 - val_loss: 2.9496 - val_accuracy: 0.6872\n",
      "24/24 [==============================] - 62s 2s/step - loss: 0.6165 - accuracy: 0.8529 - val_loss: 2.9732 - val_accuracy: 0.6859\n",
      "24/24 [==============================] - 62s 2s/step - loss: 0.5996 - accuracy: 0.8567 - val_loss: 2.9910 - val_accuracy: 0.6888\n",
      "24/24 [==============================] - 60s 2s/step - loss: 0.5869 - accuracy: 0.8601 - val_loss: 3.0072 - val_accuracy: 0.6890\n",
      "24/24 [==============================] - 61s 2s/step - loss: 0.5673 - accuracy: 0.8658 - val_loss: 3.0394 - val_accuracy: 0.6880\n",
      "24/24 [==============================] - 59s 2s/step - loss: 0.5540 - accuracy: 0.8687 - val_loss: 3.0730 - val_accuracy: 0.6883\n",
      "24/24 [==============================] - 60s 2s/step - loss: 0.5409 - accuracy: 0.8708 - val_loss: 3.0896 - val_accuracy: 0.6888\n",
      "24/24 [==============================] - 65s 2s/step - loss: 0.5288 - accuracy: 0.8762 - val_loss: 3.1138 - val_accuracy: 0.6905\n",
      "24/24 [==============================] - 62s 2s/step - loss: 0.5143 - accuracy: 0.8799 - val_loss: 3.1444 - val_accuracy: 0.6929\n",
      "24/24 [==============================] - 66s 2s/step - loss: 0.5051 - accuracy: 0.8823 - val_loss: 3.1732 - val_accuracy: 0.6892\n",
      "24/24 [==============================] - 60s 2s/step - loss: 0.4913 - accuracy: 0.8854 - val_loss: 3.1919 - val_accuracy: 0.6919\n",
      "24/24 [==============================] - 60s 2s/step - loss: 0.4827 - accuracy: 0.8874 - val_loss: 3.2234 - val_accuracy: 0.6916\n",
      "24/24 [==============================] - 68s 3s/step - loss: 0.4729 - accuracy: 0.8896 - val_loss: 3.2545 - val_accuracy: 0.6932\n",
      "24/24 [==============================] - 58s 2s/step - loss: 0.4580 - accuracy: 0.8943 - val_loss: 3.2558 - val_accuracy: 0.6963\n",
      "24/24 [==============================] - 59s 2s/step - loss: 0.4451 - accuracy: 0.8978 - val_loss: 3.2930 - val_accuracy: 0.6914\n",
      "24/24 [==============================] - 59s 2s/step - loss: 0.4356 - accuracy: 0.8989 - val_loss: 3.3215 - val_accuracy: 0.6939\n",
      "24/24 [==============================] - 59s 2s/step - loss: 0.4249 - accuracy: 0.9020 - val_loss: 3.3459 - val_accuracy: 0.6941\n",
      "24/24 [==============================] - 60s 2s/step - loss: 0.4156 - accuracy: 0.9051 - val_loss: 3.3730 - val_accuracy: 0.6965\n",
      "24/24 [==============================] - 59s 2s/step - loss: 0.4087 - accuracy: 0.9052 - val_loss: 3.4033 - val_accuracy: 0.6954\n",
      "24/24 [==============================] - 60s 2s/step - loss: 0.3977 - accuracy: 0.9096 - val_loss: 3.4292 - val_accuracy: 0.6941\n",
      "24/24 [==============================] - 59s 2s/step - loss: 0.3883 - accuracy: 0.9102 - val_loss: 3.4484 - val_accuracy: 0.6965\n",
      "24/24 [==============================] - 59s 2s/step - loss: 0.3802 - accuracy: 0.9143 - val_loss: 3.4926 - val_accuracy: 0.6934\n",
      "24/24 [==============================] - 57s 2s/step - loss: 0.3775 - accuracy: 0.9134 - val_loss: 3.5091 - val_accuracy: 0.6918\n",
      "24/24 [==============================] - 59s 2s/step - loss: 0.3663 - accuracy: 0.9164 - val_loss: 3.5352 - val_accuracy: 0.6960\n",
      "24/24 [==============================] - 56s 2s/step - loss: 0.3564 - accuracy: 0.9183 - val_loss: 3.5575 - val_accuracy: 0.6962\n",
      "24/24 [==============================] - 60s 2s/step - loss: 0.3481 - accuracy: 0.9219 - val_loss: 3.5871 - val_accuracy: 0.6950\n",
      "24/24 [==============================] - 59s 2s/step - loss: 0.3399 - accuracy: 0.9226 - val_loss: 3.6131 - val_accuracy: 0.6934\n",
      "24/24 [==============================] - 59s 2s/step - loss: 0.3344 - accuracy: 0.9240 - val_loss: 3.6338 - val_accuracy: 0.6962\n",
      "24/24 [==============================] - 62s 2s/step - loss: 0.3281 - accuracy: 0.9265 - val_loss: 3.6623 - val_accuracy: 0.6955\n",
      "24/24 [==============================] - 72s 3s/step - loss: 0.3206 - accuracy: 0.9284 - val_loss: 3.6938 - val_accuracy: 0.6965\n",
      "24/24 [==============================] - 60s 2s/step - loss: 0.3155 - accuracy: 0.9300 - val_loss: 3.7069 - val_accuracy: 0.6973\n",
      "24/24 [==============================] - 58s 2s/step - loss: 0.3098 - accuracy: 0.9303 - val_loss: 3.7445 - val_accuracy: 0.6955\n",
      "24/24 [==============================] - 61s 2s/step - loss: 0.3040 - accuracy: 0.9317 - val_loss: 3.7736 - val_accuracy: 0.6958\n"
     ]
    }
   ],
   "source": [
    "pool_embedding_results = [0]*100\n",
    "for i in range(100):\n",
    "    history_loop = model.fit(\n",
    "                    training_set[text_col],\n",
    "                    train__y_labels,\n",
    "                    epochs=1,\n",
    "                    batch_size=1024,\n",
    "                    verbose=1,\n",
    "                    validation_data = (test_set[text_col], test__y_labels))\n",
    "    \n",
    "    pred = model.predict(test_set[text_col])\n",
    "    test_set['token_with_best_prediction'] = pred.argmax(axis=1)\n",
    "#     test_set['prob_token_with_best_prediction'] = pred.max(axis=1)\n",
    "    \n",
    "    pool_embedding_results[i] = [i,\n",
    "                                precision_score(test_set['JobTitle_tokenized'],test_set['token_with_best_prediction'], average=\"weighted\",zero_division=0),\n",
    "                                recall_score(test_set['JobTitle_tokenized'],test_set['token_with_best_prediction'], average=\"weighted\",zero_division=0), \n",
    "                                accuracy_score(test_set['JobTitle_tokenized'],test_set['token_with_best_prediction'])]"
   ]
  },
  {
   "cell_type": "code",
   "execution_count": 311,
   "metadata": {
    "collapsed": true,
    "jupyter": {
     "outputs_hidden": true
    },
    "tags": []
   },
   "outputs": [
    {
     "data": {
      "text/plain": [
       "[[0, 0.003254669953219101, 0.05704971475142624, 0.05704971475142624],\n",
       " [1, 0.003254669953219101, 0.05704971475142624, 0.05704971475142624],\n",
       " [2, 0.0033162930016607185, 0.05704971475142624, 0.05704971475142624],\n",
       " [3, 0.017272086940569864, 0.08427057864710677, 0.08427057864710677],\n",
       " [4, 0.022916740530969336, 0.09877750611246944, 0.09877750611246944],\n",
       " [5, 0.039550425286782175, 0.12550937245313773, 0.12550937245313773],\n",
       " [6, 0.06503488608164602, 0.15680521597392014, 0.15680521597392014],\n",
       " [7, 0.09059997097770556, 0.18321108394458027, 0.18321108394458027],\n",
       " [8, 0.11977846515671917, 0.20505297473512632, 0.20505297473512632],\n",
       " [9, 0.16936852078827577, 0.25509372453137735, 0.25509372453137735],\n",
       " [10, 0.1789007916168287, 0.2665036674816626, 0.2665036674816626],\n",
       " [11, 0.23638804274241088, 0.30138549307253465, 0.30138549307253465],\n",
       " [12, 0.26475922236900884, 0.33838630806845965, 0.33838630806845965],\n",
       " [13, 0.26905353638396645, 0.3439282803585982, 0.3439282803585982],\n",
       " [14, 0.319753274799048, 0.3851670741646292, 0.3851670741646292],\n",
       " [15, 0.33561942471880146, 0.4004889975550122, 0.4004889975550122],\n",
       " [16, 0.3438305945677103, 0.41744091279543605, 0.41744091279543605],\n",
       " [17, 0.35921799178562946, 0.4397718011409943, 0.4397718011409943],\n",
       " [18, 0.38915504192657707, 0.46275468622656885, 0.46275468622656885],\n",
       " [19, 0.40334714787841164, 0.47090464547677263, 0.47090464547677263],\n",
       " [20, 0.414466285990463, 0.48394458027709863, 0.48394458027709863],\n",
       " [21, 0.4276696662794631, 0.49877750611246946, 0.49877750611246946],\n",
       " [22, 0.46663286990353353, 0.5207823960880196, 0.5207823960880196],\n",
       " [23, 0.4668899037326924, 0.5287693561532192, 0.5287693561532192],\n",
       " [24, 0.4744457430077552, 0.5408312958435207, 0.5408312958435207],\n",
       " [25, 0.48549768745692096, 0.5488182559087205, 0.5488182559087205],\n",
       " [26, 0.49331806740664247, 0.5568052159739201, 0.5568052159739201],\n",
       " [27, 0.5060088166294624, 0.5657701711491443, 0.5657701711491443],\n",
       " [28, 0.5160368439346618, 0.5731051344743276, 0.5731051344743276],\n",
       " [29, 0.5220925363815132, 0.5809290953545232, 0.5809290953545232],\n",
       " [30, 0.5278071163621335, 0.5885900570497148, 0.5885900570497148],\n",
       " [31, 0.5442229728802045, 0.5985330073349633, 0.5985330073349633],\n",
       " [32, 0.540311476085903, 0.6021189894050529, 0.6021189894050529],\n",
       " [33, 0.5445829745560764, 0.6053789731051344, 0.6053789731051344],\n",
       " [34, 0.563704225764438, 0.6120619396903015, 0.6120619396903015],\n",
       " [35, 0.5659376795366942, 0.6177669111654441, 0.6177669111654441],\n",
       " [36, 0.5700262401086077, 0.6210268948655256, 0.6210268948655256],\n",
       " [37, 0.5791896237034698, 0.6231458842705786, 0.6231458842705786],\n",
       " [38, 0.571305903556755, 0.621515892420538, 0.621515892420538],\n",
       " [39, 0.5941749114746574, 0.6335778321108394, 0.6335778321108394],\n",
       " [40, 0.5913472901026875, 0.6363488182559087, 0.6363488182559087],\n",
       " [41, 0.5984080003302075, 0.641238793806031, 0.641238793806031],\n",
       " [42, 0.5979770807142899, 0.641238793806031, 0.641238793806031],\n",
       " [43, 0.6050266506693962, 0.6474327628361858, 0.6474327628361858],\n",
       " [44, 0.6101564724281535, 0.6487367563162184, 0.6487367563162184],\n",
       " [45, 0.6084179385230226, 0.6508557457212714, 0.6508557457212714],\n",
       " [46, 0.6187779629153521, 0.6583537082314589, 0.6583537082314589],\n",
       " [47, 0.6239400459247972, 0.6550937245313774, 0.6550937245313774],\n",
       " [48, 0.6275074777050454, 0.6593317033414833, 0.6593317033414833],\n",
       " [49, 0.6306325799914133, 0.6647106764466177, 0.6647106764466177],\n",
       " [50, 0.6233134424576958, 0.6590057049714751, 0.6590057049714751],\n",
       " [51, 0.6382786565506192, 0.6645476772616137, 0.6645476772616137],\n",
       " [52, 0.6358932442817169, 0.6678076609616952, 0.6678076609616952],\n",
       " [53, 0.6409764126652763, 0.6665036674816626, 0.6665036674816626],\n",
       " [54, 0.645303307652356, 0.6710676446617767, 0.6710676446617767],\n",
       " [55, 0.6455468472784487, 0.6676446617766911, 0.6676446617766911],\n",
       " [56, 0.646918344609289, 0.6700896495517522, 0.6700896495517522],\n",
       " [57, 0.6488393553506699, 0.6748166259168704, 0.6748166259168704],\n",
       " [58, 0.6484551588583857, 0.6743276283618582, 0.6743276283618582],\n",
       " [59, 0.6533654184057223, 0.6756316218418907, 0.6756316218418907],\n",
       " [60, 0.6508172561312144, 0.6710676446617767, 0.6710676446617767],\n",
       " [61, 0.6542708417869486, 0.6735126324368378, 0.6735126324368378],\n",
       " [62, 0.661667456972822, 0.6823145884270578, 0.6823145884270578],\n",
       " [63, 0.6629537651056986, 0.6818255908720456, 0.6818255908720456],\n",
       " [64, 0.6637877230306656, 0.6811735941320294, 0.6811735941320294],\n",
       " [65, 0.6683249507695618, 0.6831295843520783, 0.6831295843520783],\n",
       " [66, 0.6654505857914524, 0.6829665851670742, 0.6829665851670742],\n",
       " [67, 0.6690385962099092, 0.6872045639771801, 0.6872045639771801],\n",
       " [68, 0.6717250434011202, 0.6859005704971475, 0.6859005704971475],\n",
       " [69, 0.6716478256981214, 0.6888345558272209, 0.6888345558272209],\n",
       " [70, 0.670726628135132, 0.6889975550122249, 0.6889975550122249],\n",
       " [71, 0.6718323761983255, 0.6880195599022005, 0.6880195599022005],\n",
       " [72, 0.6761413976010123, 0.6883455582722087, 0.6883455582722087],\n",
       " [73, 0.6785171106467035, 0.6888345558272209, 0.6888345558272209],\n",
       " [74, 0.6761650100691255, 0.6904645476772616, 0.6904645476772616],\n",
       " [75, 0.6843908172932233, 0.6929095354523227, 0.6929095354523227],\n",
       " [76, 0.6806699270160118, 0.689160554197229, 0.689160554197229],\n",
       " [77, 0.6826185683232194, 0.6919315403422983, 0.6919315403422983],\n",
       " [78, 0.6735281478656557, 0.6916055419722902, 0.6916055419722902],\n",
       " [79, 0.6821114378545848, 0.6932355338223309, 0.6932355338223309],\n",
       " [80, 0.6839058263237844, 0.6963325183374083, 0.6963325183374083],\n",
       " [81, 0.6793526218740752, 0.6914425427872861, 0.6914425427872861],\n",
       " [82, 0.6868117757359561, 0.6938875305623472, 0.6938875305623472],\n",
       " [83, 0.6824644899838648, 0.6940505297473513, 0.6940505297473513],\n",
       " [84, 0.6886695742362692, 0.6964955175224123, 0.6964955175224123],\n",
       " [85, 0.6867902675434578, 0.6953545232273839, 0.6953545232273839],\n",
       " [86, 0.6871542890662097, 0.6940505297473513, 0.6940505297473513],\n",
       " [87, 0.6884737072264101, 0.6964955175224123, 0.6964955175224123],\n",
       " [88, 0.6914044624465826, 0.693398533007335, 0.693398533007335],\n",
       " [89, 0.6883631165310027, 0.6917685411572942, 0.6917685411572942],\n",
       " [90, 0.6883091832523707, 0.6960065199674002, 0.6960065199674002],\n",
       " [91, 0.6907426874108965, 0.6961695191524042, 0.6961695191524042],\n",
       " [92, 0.6901105888260175, 0.6950285248573758, 0.6950285248573758],\n",
       " [93, 0.6869273939607504, 0.693398533007335, 0.693398533007335],\n",
       " [94, 0.6904654097282595, 0.6961695191524042, 0.6961695191524042],\n",
       " [95, 0.6904017799114315, 0.695517522412388, 0.695517522412388],\n",
       " [96, 0.6915521675887896, 0.6964955175224123, 0.6964955175224123],\n",
       " [97, 0.6902796982399074, 0.6973105134474328, 0.6973105134474328],\n",
       " [98, 0.6914885433833027, 0.695517522412388, 0.695517522412388],\n",
       " [99, 0.6926372290225132, 0.6958435207823961, 0.6958435207823961]]"
      ]
     },
     "execution_count": 311,
     "metadata": {},
     "output_type": "execute_result"
    }
   ],
   "source": [
    "pool_embedding_results"
   ]
  },
  {
   "cell_type": "code",
   "execution_count": 326,
   "metadata": {
    "collapsed": true,
    "jupyter": {
     "outputs_hidden": true
    },
    "tags": []
   },
   "outputs": [
    {
     "data": {
      "text/plain": [
       "[0.693, 0.696]"
      ]
     },
     "execution_count": 326,
     "metadata": {},
     "output_type": "execute_result"
    },
    {
     "data": {
      "image/png": "[encoded data removed]",
      "text/plain": [
       "<Figure size 432x288 with 1 Axes>"
      ]
     },
     "metadata": {
      "needs_background": "light"
     },
     "output_type": "display_data"
    }
   ],
   "source": [
    "pd.DataFrame(pool_embedding_results, columns=['epoch','val_precision','val_re-call','val_accuracy']).set_index('epoch')[['val_precision','val_re-call']].plot()\n",
    "[0.693, 0.696]"
   ]
  },
  {
   "cell_type": "markdown",
   "metadata": {
    "jupyter": {
     "source_hidden": true
    },
    "tags": []
   },
   "source": [
    "## Embedding with pooling nouns only"
   ]
  },
  {
   "cell_type": "code",
   "execution_count": 327,
   "metadata": {},
   "outputs": [],
   "source": [
    "df_pos1 = df_pos.copy()"
   ]
  },
  {
   "cell_type": "code",
   "execution_count": 328,
   "metadata": {},
   "outputs": [
    {
     "data": {
      "text/plain": [
       "'date dodge employee productivityyou skills tasks responsibilities business inquires requests resources job training offers position excellent preemployment requirements weekends agent health tasksyou communitiesevery philosophy ethicthe outcome term commission customers ’ s check computer appointments followup customer submit members technology goals energy ground care call verification value chrysler vehicle ’ providing need car number jeep pet applicants appearance spending day outlook team criminal questions problems growth duties opportunities guests security game ’ product supervisorqualifications phone hours records values offerings internet knowledge work word generations experience attitude transfers development discounts multitask match packages attention landers employment brand urgency passing insurance sales motor create information vision database reports communication family member vacation successour review entry detail illness'"
      ]
     },
     "execution_count": 328,
     "metadata": {},
     "output_type": "execute_result"
    }
   ],
   "source": [
    "df_pos1[\"Desc_concatinated\"] = df_pos1.Desc_noun_only.apply(lambda x: ' '.join(x))\n",
    "df_pos1.Desc_concatinated[0]"
   ]
  },
  {
   "cell_type": "code",
   "execution_count": 329,
   "metadata": {},
   "outputs": [],
   "source": [
    "df_pos1[\"JobTitle_tokenized\"] = pd.factorize(df_pos1.JobTitle)[0]"
   ]
  },
  {
   "cell_type": "markdown",
   "metadata": {},
   "source": [
    "* latest working version"
   ]
  },
  {
   "cell_type": "code",
   "execution_count": 332,
   "metadata": {},
   "outputs": [],
   "source": [
    "text_col1, target_col1 = 'Desc_concatinated', 'JobTitle_tokenized'\n",
    "\n",
    "from sklearn.preprocessing import LabelBinarizer\n",
    "label_as_binary = LabelBinarizer()\n",
    "\n",
    "label_as_binary.fit(df_pos1[target_col1])\n",
    "\n",
    "training_set1 = df_pos1[[text_col1, target_col1]].sample(frac=0.8, random_state=41)\n",
    "test_set1 = df_pos1[~df_pos1.index.isin(training_set1.index)][[text_col1, target_col1]]\n",
    "\n",
    "train__y_labels1 = label_as_binary.transform(training_set1[target_col1])\n",
    "test__y_labels1 = label_as_binary.transform(test_set1[target_col1])"
   ]
  },
  {
   "cell_type": "code",
   "execution_count": 333,
   "metadata": {},
   "outputs": [],
   "source": [
    "assert(len(training_set1) + len(test_set1) == len(df_pos1))"
   ]
  },
  {
   "cell_type": "code",
   "execution_count": null,
   "metadata": {},
   "outputs": [],
   "source": []
  },
  {
   "cell_type": "code",
   "execution_count": 286,
   "metadata": {},
   "outputs": [
    {
     "data": {
      "text/plain": [
       "'2.7.0'"
      ]
     },
     "execution_count": 286,
     "metadata": {},
     "output_type": "execute_result"
    }
   ],
   "source": [
    "import tensorflow as tf\n",
    "tf.__version__"
   ]
  },
  {
   "cell_type": "code",
   "execution_count": 287,
   "metadata": {},
   "outputs": [],
   "source": [
    "from tensorflow.keras.layers import TextVectorization, Embedding, Dense, GlobalAveragePooling1D, Dropout, Reshape, Activation"
   ]
  },
  {
   "cell_type": "markdown",
   "metadata": {},
   "source": [
    "What is a good size for the vocabulary? "
   ]
  },
  {
   "cell_type": "code",
   "execution_count": 335,
   "metadata": {},
   "outputs": [
    {
     "data": {
      "text/plain": [
       "0.50     61.0\n",
       "0.60     76.0\n",
       "0.70     87.0\n",
       "0.80    106.0\n",
       "0.90    129.0\n",
       "0.95    152.0\n",
       "0.99    215.0\n",
       "Name: Desc_concatinated, dtype: float64"
      ]
     },
     "execution_count": 335,
     "metadata": {},
     "output_type": "execute_result"
    }
   ],
   "source": [
    "df_pos1.Desc_concatinated.apply(lambda x: len(x.split(' '))).quantile([0.5,0.6,0.7,0.8,0.9,0.95,0.99])"
   ]
  },
  {
   "cell_type": "code",
   "execution_count": 336,
   "metadata": {},
   "outputs": [],
   "source": [
    "vocab_size1 = 10000\n",
    "sequence_length1 = 152\n",
    "\n",
    "# Use the text vectorization layer to normalize, split, and map strings to integers. Set maximum_sequence length as all samples are not of the same length.\n",
    "vectorize_layer1 = TextVectorization(\n",
    "    #standardize=lambda text: tf.strings.lower(text), # You can use your own normalization function here\n",
    "    max_tokens=vocab_size1,\n",
    "    output_mode='int',\n",
    "    name = 'Text_processing',\n",
    "    output_sequence_length=sequence_length1\n",
    ")"
   ]
  },
  {
   "cell_type": "code",
   "execution_count": 337,
   "metadata": {},
   "outputs": [],
   "source": [
    "vectorize_layer1.adapt(training_set1[text_col1])"
   ]
  },
  {
   "cell_type": "code",
   "execution_count": 343,
   "metadata": {},
   "outputs": [
    {
     "name": "stdout",
     "output_type": "stream",
     "text": [
      "practice iep dismissal psychology life students look determine responsibilities iepmaintain needsconduct goal time use change challenges priority reach position ethics qualifications superintendent offer educators hold k share san id state instruction code hire servicesparticipate notes associates ’ s goals evaluations country value gradewe company need responsibility dedication consult regards model students antonio passionate team assessment area boardassumes practices children district certificate hours certification schools school services office development orncsp passion residence lsspjoin summaries staff provider well recommendations performance levels treatment education ’ s difference txpart vision screenings psychologists process december child ’ children families sessions mission benefits objectives\n"
     ]
    },
    {
     "data": {
      "text/plain": [
       "<tf.Tensor: shape=(152,), dtype=int64, numpy=\n",
       "array([  86,  831,  926, 1399,   71,  114,  291,  406,   12, 1257, 2341,\n",
       "        346,   14,  151,  228,  393,  257,  200,    7,  592,   18, 2055,\n",
       "        183,  308,  606,  208,  343, 1561,   68,   44, 1173,  229,  160,\n",
       "        970,  521,  250,    2,   13,  152,  452,  304,  233, 1994,   16,\n",
       "        188,  196,  241,  345,  472,  402,  114, 8650,  425,    6,  470,\n",
       "         80, 2042,  103,   91,  481,  870,   19,  162, 1122,   20,   40,\n",
       "        126,   51, 5284,  105, 1172,    1,  595,   73,  124,  768,  414,\n",
       "        145,  150,  195,   70,    2,   13,  110,    1,   41,  529, 1729,\n",
       "         66, 1342,  434,    2,   91,  282,  567,  155,   15,  335,    0,\n",
       "          0,    0,    0,    0,    0,    0,    0,    0,    0,    0,    0,\n",
       "          0,    0,    0,    0,    0,    0,    0,    0,    0,    0,    0,\n",
       "          0,    0,    0,    0,    0,    0,    0,    0,    0,    0,    0,\n",
       "          0,    0,    0,    0,    0,    0,    0,    0,    0,    0,    0,\n",
       "          0,    0,    0,    0,    0,    0,    0,    0,    0], dtype=int64)>"
      ]
     },
     "execution_count": 343,
     "metadata": {},
     "output_type": "execute_result"
    }
   ],
   "source": [
    "sample_description1 = training_set1[text_col1].sample().iloc[0]\n",
    "print(sample_description1)\n",
    "vectorize_layer1(sample_description1)"
   ]
  },
  {
   "cell_type": "markdown",
   "metadata": {},
   "source": [
    "### Modeling"
   ]
  },
  {
   "cell_type": "markdown",
   "metadata": {},
   "source": [
    "### Descriptions squashed into 1 average embedding vector, size 16"
   ]
  },
  {
   "cell_type": "code",
   "execution_count": 344,
   "metadata": {},
   "outputs": [],
   "source": [
    "embedding_dim1=32\n",
    "\n",
    "model1 = tf.keras.Sequential([\n",
    "    vectorize_layer1,\n",
    "    Embedding(vocab_size1, embedding_dim1, name=\"embedding\"),\n",
    "    GlobalAveragePooling1D(),\n",
    "#     Dropout(0.03),\n",
    "    Dense(4096, activation='elu', name='hidden_layer'),\n",
    "#     Dropout(0.01),\n",
    "#     Dense(2048, activation='elu', name='hidden_layer2'),\n",
    "#     Dropout(0.02),\n",
    "#     Dense(1024, activation='relu', name='hidden_layer2'),\n",
    "    Dense(df_pos1.JobTitle.nunique(), name = 'output_layer', activation='softmax')\n",
    "])"
   ]
  },
  {
   "cell_type": "code",
   "execution_count": 345,
   "metadata": {},
   "outputs": [
    {
     "name": "stdout",
     "output_type": "stream",
     "text": [
      "Model: \"sequential_15\"\n",
      "_________________________________________________________________\n",
      " Layer (type)                Output Shape              Param #   \n",
      "=================================================================\n",
      " Text_processing (TextVector  (None, 152)              0         \n",
      " ization)                                                        \n",
      "                                                                 \n",
      " embedding (Embedding)       (None, 152, 32)           320000    \n",
      "                                                                 \n",
      " global_average_pooling1d_7   (None, 32)               0         \n",
      " (GlobalAveragePooling1D)                                        \n",
      "                                                                 \n",
      " hidden_layer (Dense)        (None, 4096)              135168    \n",
      "                                                                 \n",
      " output_layer (Dense)        (None, 1953)              8001441   \n",
      "                                                                 \n",
      "=================================================================\n",
      "Total params: 8,456,609\n",
      "Trainable params: 8,456,609\n",
      "Non-trainable params: 0\n",
      "_________________________________________________________________\n"
     ]
    }
   ],
   "source": [
    "model1.summary()"
   ]
  },
  {
   "cell_type": "code",
   "execution_count": 346,
   "metadata": {},
   "outputs": [
    {
     "name": "stdout",
     "output_type": "stream",
     "text": [
      "('You must install pydot (`pip install pydot`) and install graphviz (see instructions at https://graphviz.gitlab.io/download/) ', 'for plot_model/model_to_dot to work.')\n"
     ]
    }
   ],
   "source": [
    "tf.keras.utils.plot_model(model1, show_dtype=True, show_shapes=True, show_layer_names=True)"
   ]
  },
  {
   "cell_type": "code",
   "execution_count": 347,
   "metadata": {},
   "outputs": [],
   "source": [
    "model1.compile(\n",
    "    optimizer=tf.optimizers.Adam(),\n",
    "    loss=tf.keras.losses.categorical_crossentropy,\n",
    "    metrics = ['accuracy'])"
   ]
  },
  {
   "cell_type": "markdown",
   "metadata": {},
   "source": [
    "#### Creating checkpoints for model weights"
   ]
  },
  {
   "cell_type": "code",
   "execution_count": 125,
   "metadata": {},
   "outputs": [],
   "source": [
    "checkpoint_path = 'Deep_models_weights'\n",
    "cp_callback = tf.keras.callbacks.ModelCheckpoint(\n",
    "    filepath=checkpoint_path, \n",
    "    verbose=1, \n",
    "    save_weights_only=True,\n",
    "    save_freq= 'epoch')"
   ]
  },
  {
   "cell_type": "markdown",
   "metadata": {
    "jp-MarkdownHeadingCollapsed": true,
    "tags": []
   },
   "source": [
    "#### Model fit"
   ]
  },
  {
   "cell_type": "markdown",
   "metadata": {
    "jp-MarkdownHeadingCollapsed": true,
    "tags": []
   },
   "source": [
    "### Making a loop to see the best metrics"
   ]
  },
  {
   "cell_type": "code",
   "execution_count": 348,
   "metadata": {},
   "outputs": [
    {
     "name": "stdout",
     "output_type": "stream",
     "text": [
      "24/24 [==============================] - 64s 2s/step - loss: 6.6583 - accuracy: 0.0537 - val_loss: 5.6800 - val_accuracy: 0.0570\n",
      "24/24 [==============================] - 57s 2s/step - loss: 5.5737 - accuracy: 0.0568 - val_loss: 5.5030 - val_accuracy: 0.0570\n",
      "24/24 [==============================] - 60s 2s/step - loss: 5.4042 - accuracy: 0.0562 - val_loss: 5.4028 - val_accuracy: 0.0570\n",
      "24/24 [==============================] - 56s 2s/step - loss: 5.2884 - accuracy: 0.0566 - val_loss: 5.2773 - val_accuracy: 0.0588\n",
      "24/24 [==============================] - 57s 2s/step - loss: 5.1558 - accuracy: 0.0630 - val_loss: 5.1153 - val_accuracy: 0.0859\n",
      "24/24 [==============================] - 60s 2s/step - loss: 4.9479 - accuracy: 0.0917 - val_loss: 4.8637 - val_accuracy: 0.0918\n",
      "24/24 [==============================] - 54s 2s/step - loss: 4.6857 - accuracy: 0.1293 - val_loss: 4.6507 - val_accuracy: 0.1557\n",
      "24/24 [==============================] - 55s 2s/step - loss: 4.4702 - accuracy: 0.1631 - val_loss: 4.4850 - val_accuracy: 0.1731\n",
      "24/24 [==============================] - 54s 2s/step - loss: 4.2733 - accuracy: 0.1893 - val_loss: 4.3231 - val_accuracy: 0.2271\n",
      "24/24 [==============================] - 58s 2s/step - loss: 4.0878 - accuracy: 0.2259 - val_loss: 4.1669 - val_accuracy: 0.2421\n",
      "24/24 [==============================] - 58s 2s/step - loss: 3.9222 - accuracy: 0.2457 - val_loss: 4.0447 - val_accuracy: 0.2745\n",
      "24/24 [==============================] - 57s 2s/step - loss: 3.7722 - accuracy: 0.2885 - val_loss: 3.9285 - val_accuracy: 0.2999\n",
      "24/24 [==============================] - 55s 2s/step - loss: 3.6285 - accuracy: 0.3055 - val_loss: 3.8144 - val_accuracy: 0.3214\n",
      "24/24 [==============================] - 55s 2s/step - loss: 3.4942 - accuracy: 0.3261 - val_loss: 3.7085 - val_accuracy: 0.3294\n",
      "24/24 [==============================] - 65s 2s/step - loss: 3.3677 - accuracy: 0.3521 - val_loss: 3.6062 - val_accuracy: 0.3710\n",
      "24/24 [==============================] - 61s 2s/step - loss: 3.2402 - accuracy: 0.3799 - val_loss: 3.5125 - val_accuracy: 0.3852\n",
      "24/24 [==============================] - 65s 2s/step - loss: 3.1124 - accuracy: 0.4025 - val_loss: 3.3991 - val_accuracy: 0.4166\n",
      "24/24 [==============================] - 66s 2s/step - loss: 2.9823 - accuracy: 0.4287 - val_loss: 3.3025 - val_accuracy: 0.4333\n",
      "24/24 [==============================] - 58s 2s/step - loss: 2.8546 - accuracy: 0.4462 - val_loss: 3.2090 - val_accuracy: 0.4448\n",
      "24/24 [==============================] - 58s 2s/step - loss: 2.7346 - accuracy: 0.4638 - val_loss: 3.1241 - val_accuracy: 0.4593\n",
      "24/24 [==============================] - 62s 2s/step - loss: 2.6248 - accuracy: 0.4826 - val_loss: 3.0539 - val_accuracy: 0.4787\n",
      "24/24 [==============================] - 62s 2s/step - loss: 2.5222 - accuracy: 0.4989 - val_loss: 2.9875 - val_accuracy: 0.4931\n",
      "24/24 [==============================] - 63s 2s/step - loss: 2.4253 - accuracy: 0.5151 - val_loss: 2.9343 - val_accuracy: 0.5006\n",
      "24/24 [==============================] - 56s 2s/step - loss: 2.3379 - accuracy: 0.5250 - val_loss: 2.8917 - val_accuracy: 0.5042\n",
      "24/24 [==============================] - 58s 2s/step - loss: 2.2529 - accuracy: 0.5359 - val_loss: 2.8377 - val_accuracy: 0.5234\n",
      "24/24 [==============================] - 63s 2s/step - loss: 2.1757 - accuracy: 0.5497 - val_loss: 2.8083 - val_accuracy: 0.5296\n",
      "24/24 [==============================] - 59s 2s/step - loss: 2.1029 - accuracy: 0.5583 - val_loss: 2.7713 - val_accuracy: 0.5421\n",
      "24/24 [==============================] - 58s 2s/step - loss: 2.0324 - accuracy: 0.5720 - val_loss: 2.7379 - val_accuracy: 0.5482\n",
      "24/24 [==============================] - 60s 2s/step - loss: 1.9655 - accuracy: 0.5812 - val_loss: 2.7142 - val_accuracy: 0.5583\n",
      "24/24 [==============================] - 61s 2s/step - loss: 1.9082 - accuracy: 0.5895 - val_loss: 2.6971 - val_accuracy: 0.5661\n",
      "24/24 [==============================] - 58s 2s/step - loss: 1.8482 - accuracy: 0.5992 - val_loss: 2.6829 - val_accuracy: 0.5710\n",
      "24/24 [==============================] - 59s 2s/step - loss: 1.7924 - accuracy: 0.6051 - val_loss: 2.6656 - val_accuracy: 0.5733\n",
      "24/24 [==============================] - 57s 2s/step - loss: 1.7434 - accuracy: 0.6157 - val_loss: 2.6541 - val_accuracy: 0.5798\n",
      "24/24 [==============================] - 59s 2s/step - loss: 1.6976 - accuracy: 0.6224 - val_loss: 2.6474 - val_accuracy: 0.5835\n",
      "24/24 [==============================] - 57s 2s/step - loss: 1.6476 - accuracy: 0.6326 - val_loss: 2.6517 - val_accuracy: 0.5868\n",
      "24/24 [==============================] - 56s 2s/step - loss: 1.6055 - accuracy: 0.6408 - val_loss: 2.6441 - val_accuracy: 0.5967\n",
      "24/24 [==============================] - 55s 2s/step - loss: 1.5641 - accuracy: 0.6485 - val_loss: 2.6441 - val_accuracy: 0.6016\n",
      "24/24 [==============================] - 57s 2s/step - loss: 1.5267 - accuracy: 0.6568 - val_loss: 2.6437 - val_accuracy: 0.6010\n",
      "24/24 [==============================] - 59s 2s/step - loss: 1.4904 - accuracy: 0.6592 - val_loss: 2.6517 - val_accuracy: 0.6013\n",
      "24/24 [==============================] - 61s 2s/step - loss: 1.4584 - accuracy: 0.6677 - val_loss: 2.6566 - val_accuracy: 0.6055\n",
      "24/24 [==============================] - 71s 3s/step - loss: 1.4238 - accuracy: 0.6744 - val_loss: 2.6651 - val_accuracy: 0.6111\n",
      "24/24 [==============================] - 55s 2s/step - loss: 1.3914 - accuracy: 0.6787 - val_loss: 2.6687 - val_accuracy: 0.6130\n",
      "24/24 [==============================] - 58s 2s/step - loss: 1.3628 - accuracy: 0.6837 - val_loss: 2.6845 - val_accuracy: 0.6152\n",
      "24/24 [==============================] - 60s 2s/step - loss: 1.3347 - accuracy: 0.6893 - val_loss: 2.6899 - val_accuracy: 0.6217\n",
      "24/24 [==============================] - 57s 2s/step - loss: 1.3026 - accuracy: 0.6959 - val_loss: 2.6997 - val_accuracy: 0.6233\n",
      "24/24 [==============================] - 59s 2s/step - loss: 1.2771 - accuracy: 0.7023 - val_loss: 2.7282 - val_accuracy: 0.6210\n",
      "24/24 [==============================] - 56s 2s/step - loss: 1.2516 - accuracy: 0.7035 - val_loss: 2.7287 - val_accuracy: 0.6243\n",
      "24/24 [==============================] - 57s 2s/step - loss: 1.2227 - accuracy: 0.7118 - val_loss: 2.7396 - val_accuracy: 0.6300\n",
      "24/24 [==============================] - 58s 2s/step - loss: 1.1989 - accuracy: 0.7168 - val_loss: 2.7588 - val_accuracy: 0.6329\n",
      "24/24 [==============================] - 59s 2s/step - loss: 1.1749 - accuracy: 0.7205 - val_loss: 2.7727 - val_accuracy: 0.6342\n",
      "24/24 [==============================] - 58s 2s/step - loss: 1.1510 - accuracy: 0.7256 - val_loss: 2.7732 - val_accuracy: 0.6368\n",
      "24/24 [==============================] - 58s 2s/step - loss: 1.1280 - accuracy: 0.7296 - val_loss: 2.7974 - val_accuracy: 0.6329\n",
      "24/24 [==============================] - 62s 2s/step - loss: 1.1038 - accuracy: 0.7351 - val_loss: 2.8143 - val_accuracy: 0.6388\n",
      "24/24 [==============================] - 56s 2s/step - loss: 1.0796 - accuracy: 0.7420 - val_loss: 2.8392 - val_accuracy: 0.6329\n",
      "24/24 [==============================] - 56s 2s/step - loss: 1.0600 - accuracy: 0.7442 - val_loss: 2.8495 - val_accuracy: 0.6375\n",
      "24/24 [==============================] - 54s 2s/step - loss: 1.0340 - accuracy: 0.7511 - val_loss: 2.8727 - val_accuracy: 0.6401\n",
      "24/24 [==============================] - 56s 2s/step - loss: 1.0160 - accuracy: 0.7549 - val_loss: 2.8916 - val_accuracy: 0.6403\n",
      "24/24 [==============================] - 56s 2s/step - loss: 0.9979 - accuracy: 0.7599 - val_loss: 2.9084 - val_accuracy: 0.6403\n",
      "24/24 [==============================] - 61s 2s/step - loss: 0.9783 - accuracy: 0.7623 - val_loss: 2.9371 - val_accuracy: 0.6390\n",
      "24/24 [==============================] - 58s 2s/step - loss: 0.9562 - accuracy: 0.7684 - val_loss: 2.9471 - val_accuracy: 0.6461\n",
      "24/24 [==============================] - 72s 3s/step - loss: 0.9367 - accuracy: 0.7732 - val_loss: 2.9626 - val_accuracy: 0.6484\n",
      "24/24 [==============================] - 60s 2s/step - loss: 0.9134 - accuracy: 0.7783 - val_loss: 2.9841 - val_accuracy: 0.6461\n",
      "24/24 [==============================] - 47s 2s/step - loss: 0.9014 - accuracy: 0.7803 - val_loss: 3.0030 - val_accuracy: 0.6496\n",
      "24/24 [==============================] - 45s 2s/step - loss: 0.8818 - accuracy: 0.7849 - val_loss: 3.0309 - val_accuracy: 0.6468\n",
      "24/24 [==============================] - 50s 2s/step - loss: 0.8631 - accuracy: 0.7892 - val_loss: 3.0524 - val_accuracy: 0.6523\n",
      "24/24 [==============================] - 46s 2s/step - loss: 0.8461 - accuracy: 0.7933 - val_loss: 3.0764 - val_accuracy: 0.6520\n",
      "24/24 [==============================] - 51s 2s/step - loss: 0.8251 - accuracy: 0.7994 - val_loss: 3.0932 - val_accuracy: 0.6505\n",
      "24/24 [==============================] - 47s 2s/step - loss: 0.8116 - accuracy: 0.8010 - val_loss: 3.1168 - val_accuracy: 0.6505\n",
      "24/24 [==============================] - 53s 2s/step - loss: 0.7980 - accuracy: 0.8058 - val_loss: 3.1360 - val_accuracy: 0.6531\n",
      "24/24 [==============================] - 45s 2s/step - loss: 0.7810 - accuracy: 0.8095 - val_loss: 3.1651 - val_accuracy: 0.6541\n",
      "24/24 [==============================] - 46s 2s/step - loss: 0.7622 - accuracy: 0.8138 - val_loss: 3.1881 - val_accuracy: 0.6536\n",
      "24/24 [==============================] - 45s 2s/step - loss: 0.7473 - accuracy: 0.8175 - val_loss: 3.2101 - val_accuracy: 0.6526\n",
      "24/24 [==============================] - 48s 2s/step - loss: 0.7323 - accuracy: 0.8204 - val_loss: 3.2345 - val_accuracy: 0.6530\n",
      "24/24 [==============================] - 43s 2s/step - loss: 0.7200 - accuracy: 0.8236 - val_loss: 3.2608 - val_accuracy: 0.6562\n",
      "24/24 [==============================] - 48s 2s/step - loss: 0.7042 - accuracy: 0.8283 - val_loss: 3.2906 - val_accuracy: 0.6536\n",
      "24/24 [==============================] - 46s 2s/step - loss: 0.6940 - accuracy: 0.8309 - val_loss: 3.3142 - val_accuracy: 0.6548\n",
      "24/24 [==============================] - 46s 2s/step - loss: 0.6785 - accuracy: 0.8334 - val_loss: 3.3429 - val_accuracy: 0.6518\n",
      "24/24 [==============================] - 48s 2s/step - loss: 0.6666 - accuracy: 0.8361 - val_loss: 3.3622 - val_accuracy: 0.6541\n",
      "24/24 [==============================] - 47s 2s/step - loss: 0.6497 - accuracy: 0.8406 - val_loss: 3.3855 - val_accuracy: 0.6561\n",
      "24/24 [==============================] - 43s 2s/step - loss: 0.6373 - accuracy: 0.8447 - val_loss: 3.4136 - val_accuracy: 0.6526\n",
      "24/24 [==============================] - 48s 2s/step - loss: 0.6224 - accuracy: 0.8488 - val_loss: 3.4428 - val_accuracy: 0.6523\n",
      "24/24 [==============================] - 48s 2s/step - loss: 0.6095 - accuracy: 0.8508 - val_loss: 3.4657 - val_accuracy: 0.6559\n",
      "24/24 [==============================] - 50s 2s/step - loss: 0.5990 - accuracy: 0.8545 - val_loss: 3.4930 - val_accuracy: 0.6567\n",
      "24/24 [==============================] - 49s 2s/step - loss: 0.5871 - accuracy: 0.8567 - val_loss: 3.5248 - val_accuracy: 0.6556\n",
      "24/24 [==============================] - 45s 2s/step - loss: 0.5788 - accuracy: 0.8565 - val_loss: 3.5478 - val_accuracy: 0.6562\n",
      "24/24 [==============================] - 49s 2s/step - loss: 0.5669 - accuracy: 0.8599 - val_loss: 3.5790 - val_accuracy: 0.6541\n",
      "24/24 [==============================] - 46s 2s/step - loss: 0.5557 - accuracy: 0.8653 - val_loss: 3.6086 - val_accuracy: 0.6580\n",
      "24/24 [==============================] - 47s 2s/step - loss: 0.5444 - accuracy: 0.8666 - val_loss: 3.6327 - val_accuracy: 0.6580\n",
      "24/24 [==============================] - 45s 2s/step - loss: 0.5313 - accuracy: 0.8703 - val_loss: 3.6557 - val_accuracy: 0.6597\n",
      "24/24 [==============================] - 47s 2s/step - loss: 0.5237 - accuracy: 0.8726 - val_loss: 3.6797 - val_accuracy: 0.6593\n",
      "24/24 [==============================] - 45s 2s/step - loss: 0.5157 - accuracy: 0.8761 - val_loss: 3.7174 - val_accuracy: 0.6566\n",
      "24/24 [==============================] - 44s 2s/step - loss: 0.5035 - accuracy: 0.8794 - val_loss: 3.7435 - val_accuracy: 0.6588\n",
      "24/24 [==============================] - 44s 2s/step - loss: 0.4936 - accuracy: 0.8808 - val_loss: 3.7802 - val_accuracy: 0.6541\n",
      "24/24 [==============================] - 44s 2s/step - loss: 0.4846 - accuracy: 0.8830 - val_loss: 3.8025 - val_accuracy: 0.6546\n",
      "24/24 [==============================] - 47s 2s/step - loss: 0.4748 - accuracy: 0.8869 - val_loss: 3.8389 - val_accuracy: 0.6580\n",
      "24/24 [==============================] - 45s 2s/step - loss: 0.4675 - accuracy: 0.8881 - val_loss: 3.8602 - val_accuracy: 0.6593\n",
      "24/24 [==============================] - 45s 2s/step - loss: 0.4589 - accuracy: 0.8898 - val_loss: 3.8937 - val_accuracy: 0.6574\n",
      "24/24 [==============================] - 48s 2s/step - loss: 0.4541 - accuracy: 0.8906 - val_loss: 3.9304 - val_accuracy: 0.6564\n",
      "24/24 [==============================] - 45s 2s/step - loss: 0.4442 - accuracy: 0.8941 - val_loss: 3.9427 - val_accuracy: 0.6584\n",
      "24/24 [==============================] - 45s 2s/step - loss: 0.4356 - accuracy: 0.8958 - val_loss: 3.9809 - val_accuracy: 0.6577\n"
     ]
    }
   ],
   "source": [
    "pool_embedding_results_noun_only = [0]*100\n",
    "for i in range(100):\n",
    "    history_loop = model1.fit(\n",
    "                    training_set1[text_col1],\n",
    "                    train__y_labels1,\n",
    "                    epochs=1,\n",
    "                    batch_size=1024,\n",
    "                    verbose=1,\n",
    "                    validation_data = (test_set1[text_col1], test__y_labels1))\n",
    "    \n",
    "    pred = model1.predict(test_set1[text_col1])\n",
    "    test_set1['token_with_best_prediction'] = pred.argmax(axis=1)\n",
    "    test_set1['prob_token_with_best_prediction'] = pred.max(axis=1)\n",
    "    \n",
    "    pool_embedding_results_noun_only[i] = [i,\n",
    "                                    precision_score(test_set1['JobTitle_tokenized'],test_set1['token_with_best_prediction'], average=\"weighted\",zero_division=0),\n",
    "                                    recall_score(test_set1['JobTitle_tokenized'],test_set1['token_with_best_prediction'], average=\"weighted\",zero_division=0), \n",
    "                                    accuracy_score(test_set1['JobTitle_tokenized'],test_set1['token_with_best_prediction'])]"
   ]
  },
  {
   "cell_type": "code",
   "execution_count": 349,
   "metadata": {},
   "outputs": [
    {
     "data": {
      "text/plain": [
       "[[0, 0.003254669953219101, 0.05704971475142624, 0.05704971475142624],\n",
       " [1, 0.0032552005482554915, 0.05704971475142624, 0.05704971475142624],\n",
       " [2, 0.003470780490700363, 0.05704971475142624, 0.05704971475142624],\n",
       " [3, 0.005305123132762117, 0.05884270578647107, 0.05884270578647107],\n",
       " [4, 0.021298051125740108, 0.08590057049714751, 0.08590057049714751],\n",
       " [5, 0.024922367133403633, 0.09176854115729421, 0.09176854115729421],\n",
       " [6, 0.0723993178799576, 0.1556642216788916, 0.1556642216788916],\n",
       " [7, 0.09012115459062435, 0.17310513447432763, 0.17310513447432763],\n",
       " [8, 0.14107378782434615, 0.22705786471067646, 0.22705786471067646],\n",
       " [9, 0.17122544497001507, 0.24205378973105135, 0.24205378973105135],\n",
       " [10, 0.19013323637156773, 0.27449062754686226, 0.27449062754686226],\n",
       " [11, 0.23569629770317047, 0.29991850040749796, 0.29991850040749796],\n",
       " [12, 0.2469838233829037, 0.3214343928280359, 0.3214343928280359],\n",
       " [13, 0.25357739950235825, 0.32942135289323554, 0.32942135289323554],\n",
       " [14, 0.30051820280618996, 0.37098614506927463, 0.37098614506927463],\n",
       " [15, 0.323937269650205, 0.3851670741646292, 0.3851670741646292],\n",
       " [16, 0.34980169091997704, 0.41662591687041567, 0.41662591687041567],\n",
       " [17, 0.3618924817186916, 0.4332518337408313, 0.4332518337408313],\n",
       " [18, 0.38430837614481844, 0.4448247758761206, 0.4448247758761206],\n",
       " [19, 0.40273145308496827, 0.45933170334148327, 0.45933170334148327],\n",
       " [20, 0.4253956003647239, 0.47872860635696823, 0.47872860635696823],\n",
       " [21, 0.42847590861800916, 0.4930725346373268, 0.4930725346373268],\n",
       " [22, 0.42827738839690066, 0.5005704971475142, 0.5005704971475142],\n",
       " [23, 0.43736815801918033, 0.5041564792176039, 0.5041564792176039],\n",
       " [24, 0.45716965911119073, 0.5233903830480847, 0.5233903830480847],\n",
       " [25, 0.466651228828091, 0.5295843520782396, 0.5295843520782396],\n",
       " [26, 0.4797285998143678, 0.5421352893235534, 0.5421352893235534],\n",
       " [27, 0.48679420683187874, 0.5481662591687042, 0.5481662591687042],\n",
       " [28, 0.4998326251124179, 0.5582722086389568, 0.5582722086389568],\n",
       " [29, 0.5098487183968717, 0.5660961695191524, 0.5660961695191524],\n",
       " [30, 0.5072883926538467, 0.5709861450692747, 0.5709861450692747],\n",
       " [31, 0.5092660529456104, 0.5732681336593317, 0.5732681336593317],\n",
       " [32, 0.5159348108272647, 0.5797881010594947, 0.5797881010594947],\n",
       " [33, 0.5233801380881637, 0.5835370823145885, 0.5835370823145885],\n",
       " [34, 0.5295450397564854, 0.58679706601467, 0.58679706601467],\n",
       " [35, 0.5313960134656351, 0.5967400162999185, 0.5967400162999185],\n",
       " [36, 0.5444120421913445, 0.6016299918500407, 0.6016299918500407],\n",
       " [37, 0.5467450042478469, 0.6009779951100245, 0.6009779951100245],\n",
       " [38, 0.5515047022965235, 0.6013039934800326, 0.6013039934800326],\n",
       " [39, 0.5571978353786445, 0.6055419722901385, 0.6055419722901385],\n",
       " [40, 0.5597827300319227, 0.6110839445802771, 0.6110839445802771],\n",
       " [41, 0.5688710749260786, 0.613039934800326, 0.613039934800326],\n",
       " [42, 0.5672642074191686, 0.615158924205379, 0.615158924205379],\n",
       " [43, 0.5735568784390731, 0.621678891605542, 0.621678891605542],\n",
       " [44, 0.5762198640327789, 0.6233088834555828, 0.6233088834555828],\n",
       " [45, 0.5704754472007378, 0.6210268948655256, 0.6210268948655256],\n",
       " [46, 0.5770790765607505, 0.6242868785656072, 0.6242868785656072],\n",
       " [47, 0.5897875320572807, 0.6299918500407498, 0.6299918500407498],\n",
       " [48, 0.5926137330320839, 0.6329258353708231, 0.6329258353708231],\n",
       " [49, 0.5922232858900942, 0.6342298288508558, 0.6342298288508558],\n",
       " [50, 0.5948416944368813, 0.6368378158109209, 0.6368378158109209],\n",
       " [51, 0.5972138026295204, 0.6329258353708231, 0.6329258353708231],\n",
       " [52, 0.6056609047696666, 0.6387938060309698, 0.6387938060309698],\n",
       " [53, 0.5987193173833901, 0.6329258353708231, 0.6329258353708231],\n",
       " [54, 0.6016647898935102, 0.6374898125509373, 0.6374898125509373],\n",
       " [55, 0.6072255002806525, 0.6400977995110024, 0.6400977995110024],\n",
       " [56, 0.6029323695225223, 0.6402607986960065, 0.6402607986960065],\n",
       " [57, 0.6082848612453832, 0.6402607986960065, 0.6402607986960065],\n",
       " [58, 0.6051420797237074, 0.6389568052159739, 0.6389568052159739],\n",
       " [59, 0.6177900106136542, 0.6461287693561533, 0.6461287693561533],\n",
       " [60, 0.6136885886367759, 0.6484107579462103, 0.6484107579462103],\n",
       " [61, 0.6161627156248989, 0.6461287693561533, 0.6461287693561533],\n",
       " [62, 0.6199514121513362, 0.6495517522412388, 0.6495517522412388],\n",
       " [63, 0.6216215309279922, 0.6467807660961695, 0.6467807660961695],\n",
       " [64, 0.6222626178819175, 0.652322738386308, 0.652322738386308],\n",
       " [65, 0.6249469819990504, 0.6519967400162999, 0.6519967400162999],\n",
       " [66, 0.6200604626457686, 0.6505297473512632, 0.6505297473512632],\n",
       " [67, 0.6228985924171452, 0.6505297473512632, 0.6505297473512632],\n",
       " [68, 0.626857987265814, 0.6531377343113285, 0.6531377343113285],\n",
       " [69, 0.6257984146907113, 0.6541157294213529, 0.6541157294213529],\n",
       " [70, 0.6281563554653493, 0.6536267318663407, 0.6536267318663407],\n",
       " [71, 0.623795545882623, 0.6526487367563162, 0.6526487367563162],\n",
       " [72, 0.6326059054137069, 0.6529747351263244, 0.6529747351263244],\n",
       " [73, 0.6351855949912905, 0.6562347188264058, 0.6562347188264058],\n",
       " [74, 0.6340786810353547, 0.6536267318663407, 0.6536267318663407],\n",
       " [75, 0.635449076818984, 0.6547677261613692, 0.6547677261613692],\n",
       " [76, 0.6349569694850833, 0.6518337408312959, 0.6518337408312959],\n",
       " [77, 0.635472511790233, 0.6541157294213529, 0.6541157294213529],\n",
       " [78, 0.6337786492377312, 0.6560717196414018, 0.6560717196414018],\n",
       " [79, 0.6329517574278903, 0.6526487367563162, 0.6526487367563162],\n",
       " [80, 0.6365582078122168, 0.652322738386308, 0.652322738386308],\n",
       " [81, 0.6401003778118987, 0.6559087204563977, 0.6559087204563977],\n",
       " [82, 0.6429852501111367, 0.6567237163814181, 0.6567237163814181],\n",
       " [83, 0.6402962680451182, 0.6555827220863896, 0.6555827220863896],\n",
       " [84, 0.6403713426890714, 0.6562347188264058, 0.6562347188264058],\n",
       " [85, 0.6422398401799218, 0.6541157294213529, 0.6541157294213529],\n",
       " [86, 0.6455028794208284, 0.6580277098614506, 0.6580277098614506],\n",
       " [87, 0.6449002706786158, 0.6580277098614506, 0.6580277098614506],\n",
       " [88, 0.6483715947541491, 0.6596577017114914, 0.6596577017114914],\n",
       " [89, 0.6450601755466171, 0.6593317033414833, 0.6593317033414833],\n",
       " [90, 0.6499693609809484, 0.6565607171964141, 0.6565607171964141],\n",
       " [91, 0.6511128268588545, 0.6588427057864711, 0.6588427057864711],\n",
       " [92, 0.6454426671591735, 0.6541157294213529, 0.6541157294213529],\n",
       " [93, 0.6466773579826675, 0.6546047269763651, 0.6546047269763651],\n",
       " [94, 0.6531982785221434, 0.6580277098614506, 0.6580277098614506],\n",
       " [95, 0.655875393034223, 0.6593317033414833, 0.6593317033414833],\n",
       " [96, 0.6527929413772782, 0.6573757131214344, 0.6573757131214344],\n",
       " [97, 0.6502026854722536, 0.6563977180114099, 0.6563977180114099],\n",
       " [98, 0.650341932767204, 0.6583537082314589, 0.6583537082314589],\n",
       " [99, 0.6544792374474881, 0.6577017114914425, 0.6577017114914425]]"
      ]
     },
     "execution_count": 349,
     "metadata": {},
     "output_type": "execute_result"
    }
   ],
   "source": [
    "pool_embedding_results_noun_only"
   ]
  },
  {
   "cell_type": "code",
   "execution_count": 360,
   "metadata": {},
   "outputs": [
    {
     "data": {
      "text/plain": [
       "[0.654, 0.657]"
      ]
     },
     "execution_count": 360,
     "metadata": {},
     "output_type": "execute_result"
    },
    {
     "data": {
      "image/png": "[encoded data removed]",
      "text/plain": [
       "<Figure size 432x288 with 1 Axes>"
      ]
     },
     "metadata": {
      "needs_background": "light"
     },
     "output_type": "display_data"
    }
   ],
   "source": [
    "pd.DataFrame(pool_embedding_results_noun_only, columns=['epoch','val_precision','val_re-call','val_accuracy']).set_index('epoch')[['val_precision','val_re-call']].plot()\n",
    "[0.654, 0.657]"
   ]
  },
  {
   "cell_type": "markdown",
   "metadata": {
    "tags": []
   },
   "source": [
    "### Descriptions words concatinated"
   ]
  },
  {
   "cell_type": "code",
   "execution_count": 365,
   "metadata": {},
   "outputs": [],
   "source": [
    "embedding_dim=32\n",
    "\n",
    "model2 = tf.keras.Sequential([\n",
    "    vectorize_layer,\n",
    "    Embedding(vocab_size, embedding_dim, name=\"embedding\"),\n",
    "#     GlobalAveragePooling1D(),\n",
    "    Reshape((embedding_dim * sequence_length, ), name='concat_words'),\n",
    "#     Dropout(0.1),\n",
    "    Dense(4096, activation='relu', name='hidden_layer_1'),\n",
    "#     Dropout(0.04),\n",
    "#     Dense(2048, activation='relu', name='hidden_layer_2'),\n",
    "    Dense(df_pos.JobTitle.nunique(), name = 'output_layer')\n",
    "])"
   ]
  },
  {
   "cell_type": "code",
   "execution_count": 366,
   "metadata": {},
   "outputs": [
    {
     "name": "stdout",
     "output_type": "stream",
     "text": [
      "Model: \"sequential_18\"\n",
      "_________________________________________________________________\n",
      " Layer (type)                Output Shape              Param #   \n",
      "=================================================================\n",
      " Text_processing (TextVector  (None, 282)              0         \n",
      " ization)                                                        \n",
      "                                                                 \n",
      " embedding (Embedding)       (None, 282, 32)           640000    \n",
      "                                                                 \n",
      " concat_words (Reshape)      (None, 9024)              0         \n",
      "                                                                 \n",
      " hidden_layer_1 (Dense)      (None, 4096)              36966400  \n",
      "                                                                 \n",
      " output_layer (Dense)        (None, 1953)              8001441   \n",
      "                                                                 \n",
      "=================================================================\n",
      "Total params: 45,607,841\n",
      "Trainable params: 45,607,841\n",
      "Non-trainable params: 0\n",
      "_________________________________________________________________\n"
     ]
    }
   ],
   "source": [
    "model2.summary()"
   ]
  },
  {
   "cell_type": "code",
   "execution_count": 204,
   "metadata": {},
   "outputs": [
    {
     "name": "stdout",
     "output_type": "stream",
     "text": [
      "('You must install pydot (`pip install pydot`) and install graphviz (see instructions at https://graphviz.gitlab.io/download/) ', 'for plot_model/model_to_dot to work.')\n"
     ]
    }
   ],
   "source": [
    "tf.keras.utils.plot_model(model2, show_dtype=True, show_shapes=True, show_layer_names=True)"
   ]
  },
  {
   "cell_type": "code",
   "execution_count": 367,
   "metadata": {},
   "outputs": [],
   "source": [
    "model2.compile(\n",
    "    optimizer=tf.optimizers.Adam(),\n",
    "    loss=tf.keras.losses.categorical_crossentropy,\n",
    "    metrics = ['accuracy'])"
   ]
  },
  {
   "cell_type": "code",
   "execution_count": null,
   "metadata": {
    "tags": []
   },
   "outputs": [
    {
     "name": "stdout",
     "output_type": "stream",
     "text": [
      "Epoch 1/10\n",
      "24/24 [==============================] - 197s 8s/step - loss: 9.3705 - accuracy: 0.0020 - val_loss: 8.9563 - val_accuracy: 9.7800e-04\n",
      "Epoch 2/10\n",
      "24/24 [==============================] - 163s 7s/step - loss: 8.6769 - accuracy: 0.0038 - val_loss: 8.5029 - val_accuracy: 0.0021\n",
      "Epoch 3/10\n",
      "24/24 [==============================] - 166s 7s/step - loss: 11.8334 - accuracy: 0.0112 - val_loss: 12.8041 - val_accuracy: 0.0215\n",
      "Epoch 4/10\n",
      "24/24 [==============================] - 176s 7s/step - loss: 12.6228 - accuracy: 0.0211 - val_loss: 12.3476 - val_accuracy: 0.0215\n",
      "Epoch 5/10\n",
      "24/24 [==============================] - 166s 7s/step - loss: 11.7183 - accuracy: 0.0211 - val_loss: 12.6059 - val_accuracy: 0.0215\n",
      "Epoch 6/10\n",
      "24/24 [==============================] - 173s 7s/step - loss: 12.2820 - accuracy: 0.0211 - val_loss: 12.5785 - val_accuracy: 0.0215\n",
      "Epoch 7/10\n",
      "24/24 [==============================] - ETA: 0s - loss: 12.1318 - accuracy: 0.0211"
     ]
    }
   ],
   "source": [
    "%%time\n",
    "history = model2.fit(\n",
    "    training_set[text_col],\n",
    "    train__y_labels,\n",
    "    epochs=10,\n",
    "    batch_size=1024,\n",
    "    verbose=1,    \n",
    "    validation_data = (test_set[text_col], test__y_labels)\n",
    ")"
   ]
  },
  {
   "cell_type": "code",
   "execution_count": 207,
   "metadata": {},
   "outputs": [],
   "source": [
    "test_set['token_with_best_prediction'] = model.predict(test_set[text_col]).argmax(axis=1)"
   ]
  },
  {
   "cell_type": "code",
   "execution_count": 208,
   "metadata": {},
   "outputs": [],
   "source": [
    "test_set['prob_token_with_best_prediction'] = model.predict(test_set[text_col]).max(axis=1)"
   ]
  },
  {
   "cell_type": "code",
   "execution_count": 209,
   "metadata": {
    "collapsed": true,
    "jupyter": {
     "outputs_hidden": true
    },
    "tags": []
   },
   "outputs": [
    {
     "data": {
      "text/html": [
       "<div>\n",
       "<style scoped>\n",
       "    .dataframe tbody tr th:only-of-type {\n",
       "        vertical-align: middle;\n",
       "    }\n",
       "\n",
       "    .dataframe tbody tr th {\n",
       "        vertical-align: top;\n",
       "    }\n",
       "\n",
       "    .dataframe thead th {\n",
       "        text-align: right;\n",
       "    }\n",
       "</style>\n",
       "<table border=\"1\" class=\"dataframe\">\n",
       "  <thead>\n",
       "    <tr style=\"text-align: right;\">\n",
       "      <th></th>\n",
       "      <th>Desc_concatinated</th>\n",
       "      <th>JobTitle_tokenized</th>\n",
       "      <th>token_with_best_prediction</th>\n",
       "      <th>prob_token_with_best_prediction</th>\n",
       "    </tr>\n",
       "  </thead>\n",
       "  <tbody>\n",
       "    <tr>\n",
       "      <th>9</th>\n",
       "      <td>customers flexible owned operated relationships needed partners repairs back responsible candidate businessour systemmust customer profilesmust assisting donequalifications go beyond repair ideal willing estimator collision insurance coming drp j...</td>\n",
       "      <td>6</td>\n",
       "      <td>62</td>\n",
       "      <td>0.026180</td>\n",
       "    </tr>\n",
       "    <tr>\n",
       "      <th>11</th>\n",
       "      <td>may flexible required avis much rental screening constitute completed nights skills shop license management tech professional responsibilities publicly properly travel business forward response safety time drug include somewhere upon change track...</td>\n",
       "      <td>8</td>\n",
       "      <td>1</td>\n",
       "      <td>0.406902</td>\n",
       "    </tr>\n",
       "    <tr>\n",
       "      <th>13</th>\n",
       "      <td>consecutive best flexible strong ft dynamic referral app practice cme clinical one array please management professional local extensive board bed department since american designation several track albemarle quality recognized training settings s...</td>\n",
       "      <td>10</td>\n",
       "      <td>2</td>\n",
       "      <td>0.382722</td>\n",
       "    </tr>\n",
       "    <tr>\n",
       "      <th>16</th>\n",
       "      <td>required supervised practice cme crna’s pto walking must gives close pediatrics increased hearts lungs surgery south onboarding recovery offers environment endoscopy public year residents advanced experienced additional competitive clermont least...</td>\n",
       "      <td>12</td>\n",
       "      <td>45</td>\n",
       "      <td>0.802430</td>\n",
       "    </tr>\n",
       "    <tr>\n",
       "      <th>24</th>\n",
       "      <td>may output required avis strong excel rental along robotics skills reviews must software resolutions updates performed responsibilities closely benefitswe business analytical contain liaise log architect disclaimerthe function department time inc...</td>\n",
       "      <td>16</td>\n",
       "      <td>495</td>\n",
       "      <td>0.219630</td>\n",
       "    </tr>\n",
       "    <tr>\n",
       "      <th>25</th>\n",
       "      <td>may administration impacted flexible install directory required research backups needed strong xenapp skills windows license tasks scale software installation cpu microsoft management professional etc cissp netscaler business analytical planning ...</td>\n",
       "      <td>17</td>\n",
       "      <td>550</td>\n",
       "      <td>0.349386</td>\n",
       "    </tr>\n",
       "    <tr>\n",
       "      <th>40</th>\n",
       "      <td>may medicationsdelegates practice screening skills nurse practitioner kansasthe license employmentthis professional years’ mental prescribes pioneer universal safety drug include psychiatristprovides united schedulesubject position approved regul...</td>\n",
       "      <td>2</td>\n",
       "      <td>44</td>\n",
       "      <td>0.394109</td>\n",
       "    </tr>\n",
       "    <tr>\n",
       "      <th>53</th>\n",
       "      <td>required screening clinical skills online professional pioneer morning planning recordprovision time drug include patients upon united facilityparticipation either onboarding good industryour agencies provision lpeat able activities years success...</td>\n",
       "      <td>33</td>\n",
       "      <td>34</td>\n",
       "      <td>0.557142</td>\n",
       "    </tr>\n",
       "    <tr>\n",
       "      <th>55</th>\n",
       "      <td>teamevaluate disabilityprotected required strong wellbeing needed federal screening clinical skills truly governing without nurse license must eoe calling choosing responsibilities pioneer response improve mo demonstrate drug use patients quality...</td>\n",
       "      <td>29</td>\n",
       "      <td>29</td>\n",
       "      <td>0.841705</td>\n",
       "    </tr>\n",
       "    <tr>\n",
       "      <th>60</th>\n",
       "      <td>teamevaluate disabilityprotected required nj strong wellbeing needed federal screening clinical skills truly governing without nurse license must eoe juvenile calling choosing responsibilities pioneer response improve demonstrate time drug use pa...</td>\n",
       "      <td>29</td>\n",
       "      <td>29</td>\n",
       "      <td>0.931704</td>\n",
       "    </tr>\n",
       "    <tr>\n",
       "      <th>67</th>\n",
       "      <td>may referral practice screening registrationboardcertified observations nurse professional neededqualifications pioneer board surgery drug assistants patients united employment· form director position industryour approved years delivery success r...</td>\n",
       "      <td>13</td>\n",
       "      <td>2</td>\n",
       "      <td>0.809676</td>\n",
       "    </tr>\n",
       "    <tr>\n",
       "      <th>77</th>\n",
       "      <td>may required screening clinical departmental legal license must nurse mental responsibilities pioneer mortality facilitates time drug carolyn areas sr united quality major identifying onboarding implications facilitiess position regulations twice...</td>\n",
       "      <td>29</td>\n",
       "      <td>29</td>\n",
       "      <td>0.583348</td>\n",
       "    </tr>\n",
       "    <tr>\n",
       "      <th>82</th>\n",
       "      <td>disabilityprotected required wellbeing federal screening clinical pto truly funds governing nurse license must without eoe calling choosing responsibilities certificationknowledgeable pioneer improve demonstrate time drug patients quality job off...</td>\n",
       "      <td>39</td>\n",
       "      <td>9</td>\n",
       "      <td>0.894701</td>\n",
       "    </tr>\n",
       "    <tr>\n",
       "      <th>86</th>\n",
       "      <td>may required referral inmates practice hspp screening clinical concerning license psychology requiredholds management mental pioneer behavior endorsement planning department drug include patients site’s consultation allowsparticipation united tra...</td>\n",
       "      <td>42</td>\n",
       "      <td>50</td>\n",
       "      <td>0.270702</td>\n",
       "    </tr>\n",
       "    <tr>\n",
       "      <th>89</th>\n",
       "      <td>disabilityprotected required wellbeing federal screening clinical without truly governing nurse license must eoe calling choosing responsibilities genesee pioneer improve demonstrate drug patients quality job appointmentslicensed environment good...</td>\n",
       "      <td>9</td>\n",
       "      <td>9</td>\n",
       "      <td>0.973595</td>\n",
       "    </tr>\n",
       "    <tr>\n",
       "      <th>97</th>\n",
       "      <td>registration required needed referral practice screening observations nurse professional mal pioneer board drug assistants patients united form director industryour approved years delivery success employer visits cpr ensures health traits expecte...</td>\n",
       "      <td>2</td>\n",
       "      <td>2</td>\n",
       "      <td>0.837253</td>\n",
       "    </tr>\n",
       "    <tr>\n",
       "      <th>105</th>\n",
       "      <td>may practice careperform screening clinical governing nurse resuscitationremains tasks performed responsibilities local pioneer demonstrate drug united quality position industryour regulations activities years success require employer established...</td>\n",
       "      <td>9</td>\n",
       "      <td>9</td>\n",
       "      <td>0.992429</td>\n",
       "    </tr>\n",
       "    <tr>\n",
       "      <th>112</th>\n",
       "      <td>may numberproviders inmates practice completed clinical management mental pioneer moresponsibilities planning discussion potosi psychiatristmust include patients consultation admitted united training unitprovide years success employer currently i...</td>\n",
       "      <td>45</td>\n",
       "      <td>45</td>\n",
       "      <td>0.950165</td>\n",
       "    </tr>\n",
       "    <tr>\n",
       "      <th>117</th>\n",
       "      <td>medicationsdelegates practice skills nurse practitioner license professional years’ mental prescribes pioneer universal safety hutchison include psychiatristprovides united schedulesubject approved regulations nursemust variety advanced years suc...</td>\n",
       "      <td>2</td>\n",
       "      <td>44</td>\n",
       "      <td>0.425948</td>\n",
       "    </tr>\n",
       "    <tr>\n",
       "      <th>125</th>\n",
       "      <td>may techniques required assistanthigh needed practice screening nurse life years’ responsibilities unitequipment genesee pioneer schoolat minor patientsrecords time drug policy maintaining united quality meetingscollects shift neededworks qualifi...</td>\n",
       "      <td>48</td>\n",
       "      <td>94</td>\n",
       "      <td>0.440147</td>\n",
       "    </tr>\n",
       "  </tbody>\n",
       "</table>\n",
       "</div>"
      ],
      "text/plain": [
       "                                                                                                                                                                                                                                             Desc_concatinated  \\\n",
       "9    customers flexible owned operated relationships needed partners repairs back responsible candidate businessour systemmust customer profilesmust assisting donequalifications go beyond repair ideal willing estimator collision insurance coming drp j...   \n",
       "11   may flexible required avis much rental screening constitute completed nights skills shop license management tech professional responsibilities publicly properly travel business forward response safety time drug include somewhere upon change track...   \n",
       "13   consecutive best flexible strong ft dynamic referral app practice cme clinical one array please management professional local extensive board bed department since american designation several track albemarle quality recognized training settings s...   \n",
       "16   required supervised practice cme crna’s pto walking must gives close pediatrics increased hearts lungs surgery south onboarding recovery offers environment endoscopy public year residents advanced experienced additional competitive clermont least...   \n",
       "24   may output required avis strong excel rental along robotics skills reviews must software resolutions updates performed responsibilities closely benefitswe business analytical contain liaise log architect disclaimerthe function department time inc...   \n",
       "25   may administration impacted flexible install directory required research backups needed strong xenapp skills windows license tasks scale software installation cpu microsoft management professional etc cissp netscaler business analytical planning ...   \n",
       "40   may medicationsdelegates practice screening skills nurse practitioner kansasthe license employmentthis professional years’ mental prescribes pioneer universal safety drug include psychiatristprovides united schedulesubject position approved regul...   \n",
       "53   required screening clinical skills online professional pioneer morning planning recordprovision time drug include patients upon united facilityparticipation either onboarding good industryour agencies provision lpeat able activities years success...   \n",
       "55   teamevaluate disabilityprotected required strong wellbeing needed federal screening clinical skills truly governing without nurse license must eoe calling choosing responsibilities pioneer response improve mo demonstrate drug use patients quality...   \n",
       "60   teamevaluate disabilityprotected required nj strong wellbeing needed federal screening clinical skills truly governing without nurse license must eoe juvenile calling choosing responsibilities pioneer response improve demonstrate time drug use pa...   \n",
       "67   may referral practice screening registrationboardcertified observations nurse professional neededqualifications pioneer board surgery drug assistants patients united employment· form director position industryour approved years delivery success r...   \n",
       "77   may required screening clinical departmental legal license must nurse mental responsibilities pioneer mortality facilitates time drug carolyn areas sr united quality major identifying onboarding implications facilitiess position regulations twice...   \n",
       "82   disabilityprotected required wellbeing federal screening clinical pto truly funds governing nurse license must without eoe calling choosing responsibilities certificationknowledgeable pioneer improve demonstrate time drug patients quality job off...   \n",
       "86   may required referral inmates practice hspp screening clinical concerning license psychology requiredholds management mental pioneer behavior endorsement planning department drug include patients site’s consultation allowsparticipation united tra...   \n",
       "89   disabilityprotected required wellbeing federal screening clinical without truly governing nurse license must eoe calling choosing responsibilities genesee pioneer improve demonstrate drug patients quality job appointmentslicensed environment good...   \n",
       "97   registration required needed referral practice screening observations nurse professional mal pioneer board drug assistants patients united form director industryour approved years delivery success employer visits cpr ensures health traits expecte...   \n",
       "105  may practice careperform screening clinical governing nurse resuscitationremains tasks performed responsibilities local pioneer demonstrate drug united quality position industryour regulations activities years success require employer established...   \n",
       "112  may numberproviders inmates practice completed clinical management mental pioneer moresponsibilities planning discussion potosi psychiatristmust include patients consultation admitted united training unitprovide years success employer currently i...   \n",
       "117  medicationsdelegates practice skills nurse practitioner license professional years’ mental prescribes pioneer universal safety hutchison include psychiatristprovides united schedulesubject approved regulations nursemust variety advanced years suc...   \n",
       "125  may techniques required assistanthigh needed practice screening nurse life years’ responsibilities unitequipment genesee pioneer schoolat minor patientsrecords time drug policy maintaining united quality meetingscollects shift neededworks qualifi...   \n",
       "\n",
       "     JobTitle_tokenized  token_with_best_prediction  \\\n",
       "9                     6                          62   \n",
       "11                    8                           1   \n",
       "13                   10                           2   \n",
       "16                   12                          45   \n",
       "24                   16                         495   \n",
       "25                   17                         550   \n",
       "40                    2                          44   \n",
       "53                   33                          34   \n",
       "55                   29                          29   \n",
       "60                   29                          29   \n",
       "67                   13                           2   \n",
       "77                   29                          29   \n",
       "82                   39                           9   \n",
       "86                   42                          50   \n",
       "89                    9                           9   \n",
       "97                    2                           2   \n",
       "105                   9                           9   \n",
       "112                  45                          45   \n",
       "117                   2                          44   \n",
       "125                  48                          94   \n",
       "\n",
       "     prob_token_with_best_prediction  \n",
       "9                           0.026180  \n",
       "11                          0.406902  \n",
       "13                          0.382722  \n",
       "16                          0.802430  \n",
       "24                          0.219630  \n",
       "25                          0.349386  \n",
       "40                          0.394109  \n",
       "53                          0.557142  \n",
       "55                          0.841705  \n",
       "60                          0.931704  \n",
       "67                          0.809676  \n",
       "77                          0.583348  \n",
       "82                          0.894701  \n",
       "86                          0.270702  \n",
       "89                          0.973595  \n",
       "97                          0.837253  \n",
       "105                         0.992429  \n",
       "112                         0.950165  \n",
       "117                         0.425948  \n",
       "125                         0.440147  "
      ]
     },
     "execution_count": 209,
     "metadata": {},
     "output_type": "execute_result"
    }
   ],
   "source": [
    "test_set.head(20)"
   ]
  },
  {
   "cell_type": "markdown",
   "metadata": {
    "tags": []
   },
   "source": [
    "### Adding additional features (besides text)"
   ]
  },
  {
   "cell_type": "markdown",
   "metadata": {
    "jp-MarkdownHeadingCollapsed": true,
    "tags": []
   },
   "source": [
    "#### Extracting Year column"
   ]
  },
  {
   "cell_type": "code",
   "execution_count": 64,
   "metadata": {},
   "outputs": [],
   "source": [
    "from dateutil.parser import parse\n",
    "def extract_year_from_title(title):\n",
    "    try:\n",
    "        year = parse(title, fuzzy=True).year\n",
    "        return str(int(year)) if year > 1800 else None\n",
    "    except:\n",
    "        return None"
   ]
  },
  {
   "cell_type": "code",
   "execution_count": 65,
   "metadata": {},
   "outputs": [
    {
     "name": "stdout",
     "output_type": "stream",
     "text": [
      "Title is: Penya 2016 Grenache Noir-Syrah Rosé (Côtes Catalanes). Extracted year: 2016\n"
     ]
    }
   ],
   "source": [
    "sample_title = wine_reviews.sample().title.iloc[0]\n",
    "print(f'Title is: {sample_title}. Extracted year: {extract_year_from_title(sample_title)}')"
   ]
  },
  {
   "cell_type": "code",
   "execution_count": 66,
   "metadata": {},
   "outputs": [
    {
     "name": "stderr",
     "output_type": "stream",
     "text": [
      "C:\\Users\\User\\anaconda3\\envs\\ML Technion\\lib\\site-packages\\dateutil\\parser\\_parser.py:1207: UnknownTimezoneWarning:\n",
      "\n",
      "tzname WA identified but not understood.  Pass `tzinfos` argument in order to correctly return a timezone-aware datetime.  In a future version, this will raise an exception.\n",
      "\n"
     ]
    },
    {
     "data": {
      "text/plain": [
       "2013    15558\n",
       "2012    15420\n",
       "2014    15278\n",
       "2011    12329\n",
       "2010    11927\n",
       "2015     9889\n",
       "2009     9706\n",
       "2008     7326\n",
       "2007     6935\n",
       "NaN      6659\n",
       "Name: year, dtype: int64"
      ]
     },
     "execution_count": 66,
     "metadata": {},
     "output_type": "execute_result"
    }
   ],
   "source": [
    "wine_reviews['year'] = wine_reviews.title.apply(extract_year_from_title)\n",
    "wine_reviews['year'].value_counts(dropna=False).head(10)"
   ]
  },
  {
   "cell_type": "markdown",
   "metadata": {},
   "source": [
    "Is the year input informative? "
   ]
  },
  {
   "cell_type": "code",
   "execution_count": 23,
   "metadata": {},
   "outputs": [
    {
     "data": {
      "text/html": [
       "<div>\n",
       "<style scoped>\n",
       "    .dataframe tbody tr th:only-of-type {\n",
       "        vertical-align: middle;\n",
       "    }\n",
       "\n",
       "    .dataframe tbody tr th {\n",
       "        vertical-align: top;\n",
       "    }\n",
       "\n",
       "    .dataframe thead th {\n",
       "        text-align: right;\n",
       "    }\n",
       "</style>\n",
       "<table border=\"1\" class=\"dataframe\">\n",
       "  <thead>\n",
       "    <tr style=\"text-align: right;\">\n",
       "      <th></th>\n",
       "      <th>count</th>\n",
       "      <th>mean</th>\n",
       "      <th>std</th>\n",
       "      <th>min</th>\n",
       "      <th>25%</th>\n",
       "      <th>50%</th>\n",
       "      <th>75%</th>\n",
       "      <th>max</th>\n",
       "    </tr>\n",
       "    <tr>\n",
       "      <th>year</th>\n",
       "      <th></th>\n",
       "      <th></th>\n",
       "      <th></th>\n",
       "      <th></th>\n",
       "      <th></th>\n",
       "      <th></th>\n",
       "      <th></th>\n",
       "      <th></th>\n",
       "    </tr>\n",
       "  </thead>\n",
       "  <tbody>\n",
       "    <tr>\n",
       "      <th>1995</th>\n",
       "      <td>47.0</td>\n",
       "      <td>89.382979</td>\n",
       "      <td>3.535861</td>\n",
       "      <td>83.0</td>\n",
       "      <td>87.5</td>\n",
       "      <td>90.0</td>\n",
       "      <td>92.0</td>\n",
       "      <td>100.0</td>\n",
       "    </tr>\n",
       "    <tr>\n",
       "      <th>1997</th>\n",
       "      <td>300.0</td>\n",
       "      <td>89.103333</td>\n",
       "      <td>3.581725</td>\n",
       "      <td>80.0</td>\n",
       "      <td>87.0</td>\n",
       "      <td>90.0</td>\n",
       "      <td>92.0</td>\n",
       "      <td>99.0</td>\n",
       "    </tr>\n",
       "    <tr>\n",
       "      <th>2013</th>\n",
       "      <td>15558.0</td>\n",
       "      <td>88.939002</td>\n",
       "      <td>2.884674</td>\n",
       "      <td>80.0</td>\n",
       "      <td>87.0</td>\n",
       "      <td>89.0</td>\n",
       "      <td>91.0</td>\n",
       "      <td>98.0</td>\n",
       "    </tr>\n",
       "    <tr>\n",
       "      <th>2021</th>\n",
       "      <td>189.0</td>\n",
       "      <td>88.931217</td>\n",
       "      <td>3.205801</td>\n",
       "      <td>80.0</td>\n",
       "      <td>87.0</td>\n",
       "      <td>90.0</td>\n",
       "      <td>91.0</td>\n",
       "      <td>96.0</td>\n",
       "    </tr>\n",
       "    <tr>\n",
       "      <th>2014</th>\n",
       "      <td>15278.0</td>\n",
       "      <td>88.865624</td>\n",
       "      <td>2.875355</td>\n",
       "      <td>80.0</td>\n",
       "      <td>87.0</td>\n",
       "      <td>89.0</td>\n",
       "      <td>91.0</td>\n",
       "      <td>100.0</td>\n",
       "    </tr>\n",
       "  </tbody>\n",
       "</table>\n",
       "</div>"
      ],
      "text/plain": [
       "        count       mean       std   min   25%   50%   75%    max\n",
       "year                                                             \n",
       "1995     47.0  89.382979  3.535861  83.0  87.5  90.0  92.0  100.0\n",
       "1997    300.0  89.103333  3.581725  80.0  87.0  90.0  92.0   99.0\n",
       "2013  15558.0  88.939002  2.884674  80.0  87.0  89.0  91.0   98.0\n",
       "2021    189.0  88.931217  3.205801  80.0  87.0  90.0  91.0   96.0\n",
       "2014  15278.0  88.865624  2.875355  80.0  87.0  89.0  91.0  100.0"
      ]
     },
     "execution_count": 23,
     "metadata": {},
     "output_type": "execute_result"
    }
   ],
   "source": [
    "wine_reviews.groupby('year').points.describe().query('count > 20').sort_values(by='mean',ascending=False).head()"
   ]
  },
  {
   "cell_type": "markdown",
   "metadata": {},
   "source": [
    "#### Preparing the input features"
   ]
  },
  {
   "cell_type": "code",
   "execution_count": 24,
   "metadata": {},
   "outputs": [],
   "source": [
    "wine_reviews = wine_reviews.reset_index() # To ensure correctness with the below join operations"
   ]
  },
  {
   "cell_type": "code",
   "execution_count": 25,
   "metadata": {},
   "outputs": [],
   "source": [
    "description_tokens = vectorize_layer(wine_reviews[text_col])"
   ]
  },
  {
   "cell_type": "code",
   "execution_count": 91,
   "metadata": {},
   "outputs": [],
   "source": [
    "description_cols = [f'w_{i}' for i in range(1, description_tokens.shape[1] + 1)]\n",
    "features_df = pd.DataFrame(description_tokens.numpy(), columns=description_cols)"
   ]
  },
  {
   "cell_type": "code",
   "execution_count": 92,
   "metadata": {},
   "outputs": [
    {
     "data": {
      "text/html": [
       "<div>\n",
       "<style scoped>\n",
       "    .dataframe tbody tr th:only-of-type {\n",
       "        vertical-align: middle;\n",
       "    }\n",
       "\n",
       "    .dataframe tbody tr th {\n",
       "        vertical-align: top;\n",
       "    }\n",
       "\n",
       "    .dataframe thead th {\n",
       "        text-align: right;\n",
       "    }\n",
       "</style>\n",
       "<table border=\"1\" class=\"dataframe\">\n",
       "  <thead>\n",
       "    <tr style=\"text-align: right;\">\n",
       "      <th></th>\n",
       "      <th>w_1</th>\n",
       "      <th>w_2</th>\n",
       "      <th>w_3</th>\n",
       "      <th>w_4</th>\n",
       "      <th>w_5</th>\n",
       "      <th>w_6</th>\n",
       "      <th>w_7</th>\n",
       "      <th>w_8</th>\n",
       "      <th>w_9</th>\n",
       "      <th>w_10</th>\n",
       "      <th>...</th>\n",
       "      <th>w_57</th>\n",
       "      <th>w_58</th>\n",
       "      <th>w_59</th>\n",
       "      <th>w_60</th>\n",
       "      <th>points</th>\n",
       "      <th>price</th>\n",
       "      <th>country</th>\n",
       "      <th>year</th>\n",
       "      <th>variety</th>\n",
       "      <th>province</th>\n",
       "    </tr>\n",
       "  </thead>\n",
       "  <tbody>\n",
       "    <tr>\n",
       "      <th>0</th>\n",
       "      <td>17</td>\n",
       "      <td>813</td>\n",
       "      <td>204</td>\n",
       "      <td>16</td>\n",
       "      <td>2051</td>\n",
       "      <td>3829</td>\n",
       "      <td>2</td>\n",
       "      <td>87</td>\n",
       "      <td>101</td>\n",
       "      <td>3</td>\n",
       "      <td>...</td>\n",
       "      <td>0</td>\n",
       "      <td>0</td>\n",
       "      <td>0</td>\n",
       "      <td>0</td>\n",
       "      <td>87</td>\n",
       "      <td>NaN</td>\n",
       "      <td>Italy</td>\n",
       "      <td>2013</td>\n",
       "      <td>White Blend</td>\n",
       "      <td>Sicily &amp; Sardinia</td>\n",
       "    </tr>\n",
       "    <tr>\n",
       "      <th>1</th>\n",
       "      <td>7</td>\n",
       "      <td>8</td>\n",
       "      <td>27</td>\n",
       "      <td>2</td>\n",
       "      <td>72</td>\n",
       "      <td>4</td>\n",
       "      <td>9</td>\n",
       "      <td>19</td>\n",
       "      <td>8</td>\n",
       "      <td>96</td>\n",
       "      <td>...</td>\n",
       "      <td>0</td>\n",
       "      <td>0</td>\n",
       "      <td>0</td>\n",
       "      <td>0</td>\n",
       "      <td>87</td>\n",
       "      <td>15.0</td>\n",
       "      <td>Portugal</td>\n",
       "      <td>2011</td>\n",
       "      <td>Portuguese Red</td>\n",
       "      <td>Douro</td>\n",
       "    </tr>\n",
       "    <tr>\n",
       "      <th>2</th>\n",
       "      <td>106</td>\n",
       "      <td>2</td>\n",
       "      <td>894</td>\n",
       "      <td>3</td>\n",
       "      <td>10</td>\n",
       "      <td>5</td>\n",
       "      <td>156</td>\n",
       "      <td>940</td>\n",
       "      <td>2</td>\n",
       "      <td>644</td>\n",
       "      <td>...</td>\n",
       "      <td>0</td>\n",
       "      <td>0</td>\n",
       "      <td>0</td>\n",
       "      <td>0</td>\n",
       "      <td>87</td>\n",
       "      <td>14.0</td>\n",
       "      <td>US</td>\n",
       "      <td>2013</td>\n",
       "      <td>Pinot Gris</td>\n",
       "      <td>Oregon</td>\n",
       "    </tr>\n",
       "    <tr>\n",
       "      <th>3</th>\n",
       "      <td>196</td>\n",
       "      <td>644</td>\n",
       "      <td>79</td>\n",
       "      <td>856</td>\n",
       "      <td>2</td>\n",
       "      <td>136</td>\n",
       "      <td>443</td>\n",
       "      <td>784</td>\n",
       "      <td>292</td>\n",
       "      <td>3</td>\n",
       "      <td>...</td>\n",
       "      <td>0</td>\n",
       "      <td>0</td>\n",
       "      <td>0</td>\n",
       "      <td>0</td>\n",
       "      <td>87</td>\n",
       "      <td>13.0</td>\n",
       "      <td>US</td>\n",
       "      <td>2013</td>\n",
       "      <td>Riesling</td>\n",
       "      <td>Michigan</td>\n",
       "    </tr>\n",
       "    <tr>\n",
       "      <th>4</th>\n",
       "      <td>250</td>\n",
       "      <td>110</td>\n",
       "      <td>3</td>\n",
       "      <td>1355</td>\n",
       "      <td>207</td>\n",
       "      <td>22</td>\n",
       "      <td>1092</td>\n",
       "      <td>7</td>\n",
       "      <td>242</td>\n",
       "      <td>528</td>\n",
       "      <td>...</td>\n",
       "      <td>0</td>\n",
       "      <td>0</td>\n",
       "      <td>0</td>\n",
       "      <td>0</td>\n",
       "      <td>87</td>\n",
       "      <td>65.0</td>\n",
       "      <td>US</td>\n",
       "      <td>2012</td>\n",
       "      <td>Pinot Noir</td>\n",
       "      <td>Oregon</td>\n",
       "    </tr>\n",
       "  </tbody>\n",
       "</table>\n",
       "<p>5 rows × 66 columns</p>\n",
       "</div>"
      ],
      "text/plain": [
       "   w_1  w_2  w_3   w_4   w_5   w_6   w_7  w_8  w_9  w_10  ...  w_57  w_58  \\\n",
       "0   17  813  204    16  2051  3829     2   87  101     3  ...     0     0   \n",
       "1    7    8   27     2    72     4     9   19    8    96  ...     0     0   \n",
       "2  106    2  894     3    10     5   156  940    2   644  ...     0     0   \n",
       "3  196  644   79   856     2   136   443  784  292     3  ...     0     0   \n",
       "4  250  110    3  1355   207    22  1092    7  242   528  ...     0     0   \n",
       "\n",
       "   w_59  w_60  points  price   country  year         variety  \\\n",
       "0     0     0      87    NaN     Italy  2013     White Blend   \n",
       "1     0     0      87   15.0  Portugal  2011  Portuguese Red   \n",
       "2     0     0      87   14.0        US  2013      Pinot Gris   \n",
       "3     0     0      87   13.0        US  2013        Riesling   \n",
       "4     0     0      87   65.0        US  2012      Pinot Noir   \n",
       "\n",
       "            province  \n",
       "0  Sicily & Sardinia  \n",
       "1              Douro  \n",
       "2             Oregon  \n",
       "3           Michigan  \n",
       "4             Oregon  \n",
       "\n",
       "[5 rows x 66 columns]"
      ]
     },
     "execution_count": 92,
     "metadata": {},
     "output_type": "execute_result"
    }
   ],
   "source": [
    "features_df = features_df.join(wine_reviews[['points','price','country','year','variety','province']])\n",
    "features_df.head()"
   ]
  },
  {
   "cell_type": "code",
   "execution_count": 94,
   "metadata": {},
   "outputs": [],
   "source": [
    "features_df[categorical_featurs] = features_df[categorical_featurs].fillna('Unknown')\n",
    "features_df.price = features_df.price.fillna(features_df.price.mean())"
   ]
  },
  {
   "cell_type": "code",
   "execution_count": 96,
   "metadata": {},
   "outputs": [],
   "source": [
    "features_df.country = pd.factorize(features_df.country)[0]\n",
    "features_df.year = pd.factorize(features_df.year)[0]\n",
    "features_df.variety = pd.factorize(features_df.variety)[0]\n",
    "features_df.province = pd.factorize(features_df.province)[0]\n",
    "features_df.year = pd.factorize(features_df.year)[0]"
   ]
  },
  {
   "cell_type": "code",
   "execution_count": 97,
   "metadata": {},
   "outputs": [
    {
     "data": {
      "text/html": [
       "<div>\n",
       "<style scoped>\n",
       "    .dataframe tbody tr th:only-of-type {\n",
       "        vertical-align: middle;\n",
       "    }\n",
       "\n",
       "    .dataframe tbody tr th {\n",
       "        vertical-align: top;\n",
       "    }\n",
       "\n",
       "    .dataframe thead th {\n",
       "        text-align: right;\n",
       "    }\n",
       "</style>\n",
       "<table border=\"1\" class=\"dataframe\">\n",
       "  <thead>\n",
       "    <tr style=\"text-align: right;\">\n",
       "      <th></th>\n",
       "      <th>w_1</th>\n",
       "      <th>w_2</th>\n",
       "      <th>w_3</th>\n",
       "      <th>w_4</th>\n",
       "      <th>w_5</th>\n",
       "      <th>w_6</th>\n",
       "      <th>w_7</th>\n",
       "      <th>w_8</th>\n",
       "      <th>w_9</th>\n",
       "      <th>w_10</th>\n",
       "      <th>...</th>\n",
       "      <th>w_57</th>\n",
       "      <th>w_58</th>\n",
       "      <th>w_59</th>\n",
       "      <th>w_60</th>\n",
       "      <th>points</th>\n",
       "      <th>price</th>\n",
       "      <th>country</th>\n",
       "      <th>year</th>\n",
       "      <th>variety</th>\n",
       "      <th>province</th>\n",
       "    </tr>\n",
       "  </thead>\n",
       "  <tbody>\n",
       "    <tr>\n",
       "      <th>0</th>\n",
       "      <td>17</td>\n",
       "      <td>813</td>\n",
       "      <td>204</td>\n",
       "      <td>16</td>\n",
       "      <td>2051</td>\n",
       "      <td>3829</td>\n",
       "      <td>2</td>\n",
       "      <td>87</td>\n",
       "      <td>101</td>\n",
       "      <td>3</td>\n",
       "      <td>...</td>\n",
       "      <td>0</td>\n",
       "      <td>0</td>\n",
       "      <td>0</td>\n",
       "      <td>0</td>\n",
       "      <td>87</td>\n",
       "      <td>35.363389</td>\n",
       "      <td>0</td>\n",
       "      <td>0</td>\n",
       "      <td>0</td>\n",
       "      <td>0</td>\n",
       "    </tr>\n",
       "    <tr>\n",
       "      <th>1</th>\n",
       "      <td>7</td>\n",
       "      <td>8</td>\n",
       "      <td>27</td>\n",
       "      <td>2</td>\n",
       "      <td>72</td>\n",
       "      <td>4</td>\n",
       "      <td>9</td>\n",
       "      <td>19</td>\n",
       "      <td>8</td>\n",
       "      <td>96</td>\n",
       "      <td>...</td>\n",
       "      <td>0</td>\n",
       "      <td>0</td>\n",
       "      <td>0</td>\n",
       "      <td>0</td>\n",
       "      <td>87</td>\n",
       "      <td>15.000000</td>\n",
       "      <td>1</td>\n",
       "      <td>1</td>\n",
       "      <td>1</td>\n",
       "      <td>1</td>\n",
       "    </tr>\n",
       "    <tr>\n",
       "      <th>2</th>\n",
       "      <td>106</td>\n",
       "      <td>2</td>\n",
       "      <td>894</td>\n",
       "      <td>3</td>\n",
       "      <td>10</td>\n",
       "      <td>5</td>\n",
       "      <td>156</td>\n",
       "      <td>940</td>\n",
       "      <td>2</td>\n",
       "      <td>644</td>\n",
       "      <td>...</td>\n",
       "      <td>0</td>\n",
       "      <td>0</td>\n",
       "      <td>0</td>\n",
       "      <td>0</td>\n",
       "      <td>87</td>\n",
       "      <td>14.000000</td>\n",
       "      <td>2</td>\n",
       "      <td>0</td>\n",
       "      <td>2</td>\n",
       "      <td>2</td>\n",
       "    </tr>\n",
       "    <tr>\n",
       "      <th>3</th>\n",
       "      <td>196</td>\n",
       "      <td>644</td>\n",
       "      <td>79</td>\n",
       "      <td>856</td>\n",
       "      <td>2</td>\n",
       "      <td>136</td>\n",
       "      <td>443</td>\n",
       "      <td>784</td>\n",
       "      <td>292</td>\n",
       "      <td>3</td>\n",
       "      <td>...</td>\n",
       "      <td>0</td>\n",
       "      <td>0</td>\n",
       "      <td>0</td>\n",
       "      <td>0</td>\n",
       "      <td>87</td>\n",
       "      <td>13.000000</td>\n",
       "      <td>2</td>\n",
       "      <td>0</td>\n",
       "      <td>3</td>\n",
       "      <td>3</td>\n",
       "    </tr>\n",
       "    <tr>\n",
       "      <th>4</th>\n",
       "      <td>250</td>\n",
       "      <td>110</td>\n",
       "      <td>3</td>\n",
       "      <td>1355</td>\n",
       "      <td>207</td>\n",
       "      <td>22</td>\n",
       "      <td>1092</td>\n",
       "      <td>7</td>\n",
       "      <td>242</td>\n",
       "      <td>528</td>\n",
       "      <td>...</td>\n",
       "      <td>0</td>\n",
       "      <td>0</td>\n",
       "      <td>0</td>\n",
       "      <td>0</td>\n",
       "      <td>87</td>\n",
       "      <td>65.000000</td>\n",
       "      <td>2</td>\n",
       "      <td>2</td>\n",
       "      <td>4</td>\n",
       "      <td>2</td>\n",
       "    </tr>\n",
       "  </tbody>\n",
       "</table>\n",
       "<p>5 rows × 66 columns</p>\n",
       "</div>"
      ],
      "text/plain": [
       "   w_1  w_2  w_3   w_4   w_5   w_6   w_7  w_8  w_9  w_10  ...  w_57  w_58  \\\n",
       "0   17  813  204    16  2051  3829     2   87  101     3  ...     0     0   \n",
       "1    7    8   27     2    72     4     9   19    8    96  ...     0     0   \n",
       "2  106    2  894     3    10     5   156  940    2   644  ...     0     0   \n",
       "3  196  644   79   856     2   136   443  784  292     3  ...     0     0   \n",
       "4  250  110    3  1355   207    22  1092    7  242   528  ...     0     0   \n",
       "\n",
       "   w_59  w_60  points      price  country  year  variety  province  \n",
       "0     0     0      87  35.363389        0     0        0         0  \n",
       "1     0     0      87  15.000000        1     1        1         1  \n",
       "2     0     0      87  14.000000        2     0        2         2  \n",
       "3     0     0      87  13.000000        2     0        3         3  \n",
       "4     0     0      87  65.000000        2     2        4         2  \n",
       "\n",
       "[5 rows x 66 columns]"
      ]
     },
     "execution_count": 97,
     "metadata": {},
     "output_type": "execute_result"
    }
   ],
   "source": [
    "features_df.head()"
   ]
  },
  {
   "cell_type": "code",
   "execution_count": 103,
   "metadata": {},
   "outputs": [
    {
     "data": {
      "text/html": [
       "<div>\n",
       "<style scoped>\n",
       "    .dataframe tbody tr th:only-of-type {\n",
       "        vertical-align: middle;\n",
       "    }\n",
       "\n",
       "    .dataframe tbody tr th {\n",
       "        vertical-align: top;\n",
       "    }\n",
       "\n",
       "    .dataframe thead th {\n",
       "        text-align: right;\n",
       "    }\n",
       "</style>\n",
       "<table border=\"1\" class=\"dataframe\">\n",
       "  <thead>\n",
       "    <tr style=\"text-align: right;\">\n",
       "      <th></th>\n",
       "      <th>year</th>\n",
       "      <th>country</th>\n",
       "      <th>province</th>\n",
       "      <th>variety</th>\n",
       "    </tr>\n",
       "  </thead>\n",
       "  <tbody>\n",
       "    <tr>\n",
       "      <th>nunique</th>\n",
       "      <td>80</td>\n",
       "      <td>44</td>\n",
       "      <td>426</td>\n",
       "      <td>708</td>\n",
       "    </tr>\n",
       "    <tr>\n",
       "      <th>max</th>\n",
       "      <td>79</td>\n",
       "      <td>43</td>\n",
       "      <td>425</td>\n",
       "      <td>707</td>\n",
       "    </tr>\n",
       "    <tr>\n",
       "      <th>min</th>\n",
       "      <td>0</td>\n",
       "      <td>0</td>\n",
       "      <td>0</td>\n",
       "      <td>0</td>\n",
       "    </tr>\n",
       "  </tbody>\n",
       "</table>\n",
       "</div>"
      ],
      "text/plain": [
       "         year  country  province  variety\n",
       "nunique    80       44       426      708\n",
       "max        79       43       425      707\n",
       "min         0        0         0        0"
      ]
     },
     "execution_count": 103,
     "metadata": {},
     "output_type": "execute_result"
    }
   ],
   "source": [
    "features_df[categorical_featurs].apply(lambda x: pd.Series({'nunique': x.nunique(),\n",
    "                                                            'max': x.max(),\n",
    "                                                            'min': x.min()}))"
   ]
  },
  {
   "cell_type": "code",
   "execution_count": 104,
   "metadata": {},
   "outputs": [],
   "source": [
    "from tensorflow.keras.layers import Input\n",
    "from tensorflow.keras import layers, Model"
   ]
  },
  {
   "cell_type": "code",
   "execution_count": 112,
   "metadata": {},
   "outputs": [],
   "source": [
    "description_input = Input(\n",
    "    shape=(sequence_length,), dtype='int64', name='description'\n",
    ")\n",
    "\n",
    "year_input = Input(\n",
    "    shape=(1,), name=\"year\", dtype='int64'\n",
    ")  \n",
    "\n",
    "country_input = Input(\n",
    "    shape=(1,), name=\"country\", dtype='int64'\n",
    ")  \n",
    "\n",
    "province_input = Input(\n",
    "    shape=(1,), name=\"province\", dtype='int64'\n",
    ")\n",
    "\n",
    "variety_input = Input(\n",
    "    shape=(1,), name=\"variety\", dtype='int64'\n",
    ")\n",
    "\n",
    "price_input = Input(\n",
    "    shape=(1,), name=\"price\",\n",
    ")\n",
    "\n",
    "word_features = layers.Embedding(vocab_size, embedding_dim, input_length=sequence_length, name='word_embeddings')(description_input)\n",
    "word_features = layers.Reshape((embedding_dim * sequence_length,), name='concat_words')(word_features)\n",
    "\n",
    "year_features = layers.Embedding(100, 3, name='year_embeddings')(year_input)\n",
    "year_features = layers.Reshape((3,), name='concat_year')(year_features)\n",
    "\n",
    "country_features = layers.Embedding(50, 2, name='country_embeddings')(country_input)\n",
    "country_features = layers.Reshape((2,), name='concat_country')(country_features)\n",
    "\n",
    "province_features = layers.Embedding(500, 5, name='province_embeddings')(province_input)\n",
    "province_features = layers.Reshape((5,), name='concat_province')(province_features)\n",
    "\n",
    "variety_features = layers.Embedding(1000, 4, name='variety_embeddings')(variety_input)\n",
    "variety_features = layers.Reshape((4,), name='concat_variety')(variety_features)\n",
    "\n",
    "# Merge all available features into a single large vector via concatenation\n",
    "feature_vector = layers.concatenate([word_features, year_features, country_features, province_features, variety_features, price_input])\n",
    "x = layers.Dropout(0.2)(feature_vector)\n",
    "x = layers.Dense(256, activation='relu', name='Hidden')(x)\n",
    "# Outputs:\n",
    "predictions = layers.Dense(1, name=\"output\")(x)\n",
    "\n",
    "# Instantiate an end-to-end model predicting E,I,O:\n",
    "model = Model(\n",
    "    inputs=[description_input, year_input, country_input, province_input, variety_input, price_input],\n",
    "    outputs=predictions,\n",
    ")"
   ]
  },
  {
   "cell_type": "code",
   "execution_count": 113,
   "metadata": {},
   "outputs": [
    {
     "data": {
      "image/png": "[encoded data removed]",
      "text/plain": [
       "<IPython.core.display.Image object>"
      ]
     },
     "execution_count": 113,
     "metadata": {},
     "output_type": "execute_result"
    }
   ],
   "source": [
    "tf.keras.utils.plot_model(model, show_dtype=True, show_shapes=True, show_layer_names=True)"
   ]
  },
  {
   "cell_type": "code",
   "execution_count": 114,
   "metadata": {},
   "outputs": [
    {
     "name": "stdout",
     "output_type": "stream",
     "text": [
      "Model: \"model_4\"\n",
      "__________________________________________________________________________________________________\n",
      " Layer (type)                   Output Shape         Param #     Connected to                     \n",
      "==================================================================================================\n",
      " description (InputLayer)       [(None, 60)]         0           []                               \n",
      "                                                                                                  \n",
      " year (InputLayer)              [(None, 1)]          0           []                               \n",
      "                                                                                                  \n",
      " country (InputLayer)           [(None, 1)]          0           []                               \n",
      "                                                                                                  \n",
      " province (InputLayer)          [(None, 1)]          0           []                               \n",
      "                                                                                                  \n",
      " variety (InputLayer)           [(None, 1)]          0           []                               \n",
      "                                                                                                  \n",
      " word_embeddings (Embedding)    (None, 60, 16)       512000      ['description[0][0]']            \n",
      "                                                                                                  \n",
      " year_embeddings (Embedding)    (None, 1, 3)         300         ['year[0][0]']                   \n",
      "                                                                                                  \n",
      " country_embeddings (Embedding)  (None, 1, 2)        100         ['country[0][0]']                \n",
      "                                                                                                  \n",
      " province_embeddings (Embedding  (None, 1, 5)        2500        ['province[0][0]']               \n",
      " )                                                                                                \n",
      "                                                                                                  \n",
      " variety_embeddings (Embedding)  (None, 1, 4)        4000        ['variety[0][0]']                \n",
      "                                                                                                  \n",
      " concat_words (Reshape)         (None, 960)          0           ['word_embeddings[0][0]']        \n",
      "                                                                                                  \n",
      " concat_year (Reshape)          (None, 3)            0           ['year_embeddings[0][0]']        \n",
      "                                                                                                  \n",
      " concat_country (Reshape)       (None, 2)            0           ['country_embeddings[0][0]']     \n",
      "                                                                                                  \n",
      " concat_province (Reshape)      (None, 5)            0           ['province_embeddings[0][0]']    \n",
      "                                                                                                  \n",
      " concat_variety (Reshape)       (None, 4)            0           ['variety_embeddings[0][0]']     \n",
      "                                                                                                  \n",
      " price (InputLayer)             [(None, 1)]          0           []                               \n",
      "                                                                                                  \n",
      " concatenate_4 (Concatenate)    (None, 975)          0           ['concat_words[0][0]',           \n",
      "                                                                  'concat_year[0][0]',            \n",
      "                                                                  'concat_country[0][0]',         \n",
      "                                                                  'concat_province[0][0]',        \n",
      "                                                                  'concat_variety[0][0]',         \n",
      "                                                                  'price[0][0]']                  \n",
      "                                                                                                  \n",
      " dropout_10 (Dropout)           (None, 975)          0           ['concatenate_4[0][0]']          \n",
      "                                                                                                  \n",
      " Hidden (Dense)                 (None, 256)          249856      ['dropout_10[0][0]']             \n",
      "                                                                                                  \n",
      " output (Dense)                 (None, 1)            257         ['Hidden[0][0]']                 \n",
      "                                                                                                  \n",
      "==================================================================================================\n",
      "Total params: 769,013\n",
      "Trainable params: 769,013\n",
      "Non-trainable params: 0\n",
      "__________________________________________________________________________________________________\n"
     ]
    }
   ],
   "source": [
    "model.summary()"
   ]
  },
  {
   "cell_type": "code",
   "execution_count": 115,
   "metadata": {},
   "outputs": [],
   "source": [
    "training_set = features_df.sample(frac=0.8, random_state=42)\n",
    "test_set = features_df[~features_df.index.isin(training_set.index)]"
   ]
  },
  {
   "cell_type": "code",
   "execution_count": 116,
   "metadata": {},
   "outputs": [],
   "source": [
    "assert(len(training_set) + len(test_set) == len(wine_reviews))"
   ]
  },
  {
   "cell_type": "code",
   "execution_count": 117,
   "metadata": {},
   "outputs": [],
   "source": [
    "model.compile(\n",
    "    optimizer=tf.optimizers.Adam(),\n",
    "    loss='mean_absolute_error')"
   ]
  },
  {
   "cell_type": "code",
   "execution_count": 138,
   "metadata": {},
   "outputs": [
    {
     "name": "stdout",
     "output_type": "stream",
     "text": [
      "Epoch 1/10\n",
      "204/204 [==============================] - 2s 10ms/step - loss: 0.7621 - val_loss: 1.2337\n",
      "Epoch 2/10\n",
      "204/204 [==============================] - 2s 10ms/step - loss: 0.7751 - val_loss: 1.2021\n",
      "Epoch 3/10\n",
      "204/204 [==============================] - 2s 11ms/step - loss: 0.7581 - val_loss: 1.2450\n",
      "Epoch 4/10\n",
      "204/204 [==============================] - 2s 10ms/step - loss: 0.7555 - val_loss: 1.2489\n",
      "Epoch 5/10\n",
      "204/204 [==============================] - 2s 11ms/step - loss: 0.7402 - val_loss: 1.3149\n",
      "Epoch 6/10\n",
      "204/204 [==============================] - 2s 10ms/step - loss: 0.7321 - val_loss: 1.4440\n",
      "Epoch 7/10\n",
      "204/204 [==============================] - 2s 11ms/step - loss: 0.7501 - val_loss: 1.2319\n",
      "Epoch 8/10\n",
      "204/204 [==============================] - 2s 10ms/step - loss: 0.7457 - val_loss: 1.2171\n",
      "Epoch 9/10\n",
      "204/204 [==============================] - 2s 10ms/step - loss: 0.7235 - val_loss: 1.2087\n",
      "Epoch 10/10\n",
      "204/204 [==============================] - 2s 10ms/step - loss: 0.7279 - val_loss: 1.2288\n",
      "CPU times: user 1min 40s, sys: 10.8 s, total: 1min 51s\n",
      "Wall time: 21.2 s\n"
     ]
    }
   ],
   "source": [
    "%%time\n",
    "history = model.fit(\n",
    "    {\"description\": training_set[description_cols].values, \n",
    "     \"year\": training_set['year'].values,\n",
    "     \"country\": training_set['country'].values,\n",
    "     \"province\": training_set['province'].values,\n",
    "     \"variety\": training_set['variety'].values, \n",
    "     'price': training_set['price'].values},\n",
    "    \n",
    "    {\"output\": training_set['points'].values},\n",
    "    validation_data=([test_set[description_cols].values, \n",
    "                      test_set['year'].values, \n",
    "                      test_set['country'].values, \n",
    "                      test_set['province'].values, \n",
    "                      test_set['variety'].values, \n",
    "                      test_set['price'].values],\n",
    "                     test_set['points'].values),\n",
    "    epochs=10,\n",
    "    batch_size=512,\n",
    "    verbose=1)"
   ]
  },
  {
   "cell_type": "code",
   "execution_count": 139,
   "metadata": {},
   "outputs": [
    {
     "data": {
      "text/plain": [
       "{'loss': [0.7620689868927002,\n",
       "  0.7751498222351074,\n",
       "  0.758077085018158,\n",
       "  0.7555116415023804,\n",
       "  0.7402492165565491,\n",
       "  0.7320935726165771,\n",
       "  0.7501054406166077,\n",
       "  0.7457071542739868,\n",
       "  0.7234980463981628,\n",
       "  0.727931559085846],\n",
       " 'val_loss': [1.2337310314178467,\n",
       "  1.2020517587661743,\n",
       "  1.2450281381607056,\n",
       "  1.2489192485809326,\n",
       "  1.3149391412734985,\n",
       "  1.4440178871154785,\n",
       "  1.2318662405014038,\n",
       "  1.2171367406845093,\n",
       "  1.2086890935897827,\n",
       "  1.2288484573364258]}"
      ]
     },
     "execution_count": 139,
     "metadata": {},
     "output_type": "execute_result"
    }
   ],
   "source": [
    "history.history"
   ]
  },
  {
   "cell_type": "code",
   "execution_count": 140,
   "metadata": {},
   "outputs": [],
   "source": [
    "test_set['dnn_prediction'] = model.predict({'description': test_set[description_cols], \n",
    "                                            'year': test_set['year'], \n",
    "                                            'country': test_set['country'], \n",
    "                                            'province': test_set['province'], \n",
    "                                            'variety': test_set['variety'], \n",
    "                                            'price': test_set['price']})"
   ]
  },
  {
   "cell_type": "code",
   "execution_count": 141,
   "metadata": {},
   "outputs": [
    {
     "data": {
      "text/plain": [
       "MSE    2.586830\n",
       "MAE    1.228848\n",
       "R2     0.719611\n",
       "dtype: float64"
      ]
     },
     "execution_count": 141,
     "metadata": {},
     "output_type": "execute_result"
    }
   ],
   "source": [
    "calc_prediction_quality(test_set, 'dnn_prediction', target_col)"
   ]
  },
  {
   "cell_type": "markdown",
   "metadata": {
    "tags": []
   },
   "source": [
    "## Using pretrained embeddings"
   ]
  },
  {
   "cell_type": "markdown",
   "metadata": {},
   "source": [
    "Follow https://keras.io/examples/nlp/pretrained_word_embeddings/"
   ]
  },
  {
   "cell_type": "markdown",
   "metadata": {
    "tags": []
   },
   "source": [
    "## Using transformars"
   ]
  },
  {
   "cell_type": "markdown",
   "metadata": {},
   "source": [
    "Github repo: https://github.com/UKPLab/sentence-transformers\n",
    "\n",
    "Supported models list + performances:\n",
    "* https://www.sbert.net/docs/pretrained_models.html"
   ]
  },
  {
   "cell_type": "code",
   "execution_count": 134,
   "metadata": {},
   "outputs": [],
   "source": [
    "%%capture\n",
    "%pip install sentence-transformers"
   ]
  },
  {
   "cell_type": "code",
   "execution_count": 194,
   "metadata": {},
   "outputs": [],
   "source": [
    "from sentence_transformers import SentenceTransformer\n",
    "model = SentenceTransformer('all-mpnet-base-v2')"
   ]
  },
  {
   "cell_type": "code",
   "execution_count": 195,
   "metadata": {},
   "outputs": [],
   "source": [
    "import pickle\n",
    "description_vectors_path = 'descriptions_embeddings_desc.pkl'"
   ]
  },
  {
   "cell_type": "code",
   "execution_count": 196,
   "metadata": {},
   "outputs": [
    {
     "name": "stdout",
     "output_type": "stream",
     "text": [
      "Completed step 1000 out of 30673\n",
      "Completed step 2000 out of 30673\n",
      "Completed step 3000 out of 30673\n",
      "Completed step 4000 out of 30673\n",
      "Completed step 5000 out of 30673\n",
      "Completed step 6000 out of 30673\n",
      "Completed step 7000 out of 30673\n",
      "Completed step 8000 out of 30673\n",
      "Completed step 9000 out of 30673\n",
      "Completed step 10000 out of 30673\n",
      "Completed step 11000 out of 30673\n",
      "Completed step 12000 out of 30673\n",
      "Completed step 13000 out of 30673\n",
      "Completed step 14000 out of 30673\n",
      "Completed step 15000 out of 30673\n",
      "Completed step 16000 out of 30673\n",
      "Completed step 17000 out of 30673\n",
      "Completed step 18000 out of 30673\n",
      "Completed step 19000 out of 30673\n",
      "Completed step 20000 out of 30673\n",
      "Completed step 21000 out of 30673\n",
      "Completed step 22000 out of 30673\n",
      "Completed step 23000 out of 30673\n",
      "Completed step 24000 out of 30673\n",
      "Completed step 25000 out of 30673\n",
      "Completed step 26000 out of 30673\n",
      "Completed step 27000 out of 30673\n",
      "Completed step 28000 out of 30673\n",
      "Completed step 29000 out of 30673\n",
      "Completed step 30000 out of 30673\n",
      "Wall time: 5h 14min 2s\n"
     ]
    }
   ],
   "source": [
    "%%time\n",
    "description_embeddings = []\n",
    "for i,description in enumerate(df_pos[text_col].values):\n",
    "    description_embeddings.append((i,description, model.encode(description)))\n",
    "    if (i+1) % 1000 == 0:\n",
    "        print(f'Completed step {i+1} out of {len(df_pos)}')\n",
    "        pickle.dump(description_embeddings, open(description_vectors_path, 'wb'))"
   ]
  },
  {
   "cell_type": "code",
   "execution_count": 197,
   "metadata": {},
   "outputs": [],
   "source": [
    "pickle.dump(description_embeddings, open(description_vectors_path, 'wb'))"
   ]
  },
  {
   "cell_type": "code",
   "execution_count": 146,
   "metadata": {},
   "outputs": [],
   "source": [
    "assert(description_embeddings[1300][1] == df_pos.Desc_concatinated.iloc[1300])"
   ]
  },
  {
   "cell_type": "code",
   "execution_count": 198,
   "metadata": {},
   "outputs": [],
   "source": [
    "import pickle\n",
    "descriptions = pickle.load(open('descriptions_embeddings_desc.pkl', 'rb'))"
   ]
  },
  {
   "cell_type": "code",
   "execution_count": 199,
   "metadata": {},
   "outputs": [
    {
     "name": "stdout",
     "output_type": "stream",
     "text": [
      "Wall time: 6.9 s\n"
     ]
    }
   ],
   "source": [
    "%%time\n",
    "rows = []\n",
    "for d in descriptions:\n",
    "    vector = []\n",
    "    vector.append(d[0])\n",
    "    vector.append(d[1])\n",
    "    for item in d[2]:\n",
    "        vector.append(item)\n",
    "    rows.append(vector)   "
   ]
  },
  {
   "cell_type": "code",
   "execution_count": 200,
   "metadata": {},
   "outputs": [],
   "source": [
    "descriptions_with_sentence_embeddings_df = pd.DataFrame(rows, columns = ['row_id','description'] + [f'embedding_{i}' for i in range(768)])\n",
    "descriptions_with_sentence_embeddings_df.to_pickle('descriptions_with_sentence_embeddings_df.pkl')"
   ]
  },
  {
   "cell_type": "code",
   "execution_count": 156,
   "metadata": {
    "collapsed": true,
    "jupyter": {
     "outputs_hidden": true
    },
    "tags": []
   },
   "outputs": [
    {
     "data": {
      "text/html": [
       "<div>\n",
       "<style scoped>\n",
       "    .dataframe tbody tr th:only-of-type {\n",
       "        vertical-align: middle;\n",
       "    }\n",
       "\n",
       "    .dataframe tbody tr th {\n",
       "        vertical-align: top;\n",
       "    }\n",
       "\n",
       "    .dataframe thead th {\n",
       "        text-align: right;\n",
       "    }\n",
       "</style>\n",
       "<table border=\"1\" class=\"dataframe\">\n",
       "  <thead>\n",
       "    <tr style=\"text-align: right;\">\n",
       "      <th></th>\n",
       "      <th>row_id</th>\n",
       "      <th>description</th>\n",
       "      <th>embedding_0</th>\n",
       "      <th>embedding_1</th>\n",
       "      <th>embedding_2</th>\n",
       "      <th>embedding_3</th>\n",
       "      <th>embedding_4</th>\n",
       "      <th>embedding_5</th>\n",
       "      <th>embedding_6</th>\n",
       "      <th>embedding_7</th>\n",
       "      <th>...</th>\n",
       "      <th>embedding_758</th>\n",
       "      <th>embedding_759</th>\n",
       "      <th>embedding_760</th>\n",
       "      <th>embedding_761</th>\n",
       "      <th>embedding_762</th>\n",
       "      <th>embedding_763</th>\n",
       "      <th>embedding_764</th>\n",
       "      <th>embedding_765</th>\n",
       "      <th>embedding_766</th>\n",
       "      <th>embedding_767</th>\n",
       "    </tr>\n",
       "  </thead>\n",
       "  <tbody>\n",
       "    <tr>\n",
       "      <th>0</th>\n",
       "      <td>0</td>\n",
       "      <td>date dodge employee productivityyou skills tasks responsibilities business inquires requests resources job training offers position excellent preemployment requirements weekends agent health tasksyou communitiesevery philosophy ethicthe outcome t...</td>\n",
       "      <td>0.035823</td>\n",
       "      <td>0.053661</td>\n",
       "      <td>-0.003921</td>\n",
       "      <td>-0.025520</td>\n",
       "      <td>0.001807</td>\n",
       "      <td>0.041238</td>\n",
       "      <td>0.009403</td>\n",
       "      <td>0.032437</td>\n",
       "      <td>...</td>\n",
       "      <td>0.018125</td>\n",
       "      <td>-0.027542</td>\n",
       "      <td>0.017090</td>\n",
       "      <td>0.022619</td>\n",
       "      <td>0.001115</td>\n",
       "      <td>0.053540</td>\n",
       "      <td>-0.039374</td>\n",
       "      <td>-0.019478</td>\n",
       "      <td>-0.013494</td>\n",
       "      <td>-0.017003</td>\n",
       "    </tr>\n",
       "    <tr>\n",
       "      <th>1</th>\n",
       "      <td>1</td>\n",
       "      <td>avis date stay screening constitute skills shop license management responsibilities diagnostics business response safety time drug change job ad brands offers environment bulletins position requirements year variety activities success require vac...</td>\n",
       "      <td>0.027914</td>\n",
       "      <td>0.004649</td>\n",
       "      <td>-0.003909</td>\n",
       "      <td>-0.054476</td>\n",
       "      <td>0.021406</td>\n",
       "      <td>0.023641</td>\n",
       "      <td>0.021505</td>\n",
       "      <td>0.048917</td>\n",
       "      <td>...</td>\n",
       "      <td>0.003256</td>\n",
       "      <td>-0.046415</td>\n",
       "      <td>-0.000359</td>\n",
       "      <td>0.025412</td>\n",
       "      <td>-0.017049</td>\n",
       "      <td>-0.004661</td>\n",
       "      <td>0.001925</td>\n",
       "      <td>-0.006111</td>\n",
       "      <td>0.013735</td>\n",
       "      <td>-0.028230</td>\n",
       "    </tr>\n",
       "    <tr>\n",
       "      <th>2</th>\n",
       "      <td>2</td>\n",
       "      <td>opportunity practice shifthours skills license leadership members standards board patient care department processes patients maintaining strategies providers job nursing knowledge communication broadlawns position qualifications experience urodyn...</td>\n",
       "      <td>0.060739</td>\n",
       "      <td>0.055145</td>\n",
       "      <td>-0.032468</td>\n",
       "      <td>-0.052251</td>\n",
       "      <td>-0.001627</td>\n",
       "      <td>0.025879</td>\n",
       "      <td>0.000878</td>\n",
       "      <td>0.020266</td>\n",
       "      <td>...</td>\n",
       "      <td>0.018932</td>\n",
       "      <td>-0.006734</td>\n",
       "      <td>-0.033018</td>\n",
       "      <td>0.038084</td>\n",
       "      <td>-0.027456</td>\n",
       "      <td>-0.006747</td>\n",
       "      <td>-0.000733</td>\n",
       "      <td>-0.001294</td>\n",
       "      <td>0.052152</td>\n",
       "      <td>-0.040087</td>\n",
       "    </tr>\n",
       "    <tr>\n",
       "      <th>3</th>\n",
       "      <td>3</td>\n",
       "      <td>stay employee skills license life certifications responsibilities time drug estimate environment qualifications air tools employees customers repairs submit join engine vehicle ase vehicles equipment individuals components chevrolet team products...</td>\n",
       "      <td>-0.019868</td>\n",
       "      <td>0.025763</td>\n",
       "      <td>-0.006227</td>\n",
       "      <td>-0.018974</td>\n",
       "      <td>0.029527</td>\n",
       "      <td>0.047584</td>\n",
       "      <td>-0.021279</td>\n",
       "      <td>0.070887</td>\n",
       "      <td>...</td>\n",
       "      <td>0.002457</td>\n",
       "      <td>-0.032119</td>\n",
       "      <td>0.039204</td>\n",
       "      <td>0.022002</td>\n",
       "      <td>-0.002833</td>\n",
       "      <td>0.030473</td>\n",
       "      <td>-0.032191</td>\n",
       "      <td>-0.019036</td>\n",
       "      <td>0.035487</td>\n",
       "      <td>-0.038349</td>\n",
       "    </tr>\n",
       "    <tr>\n",
       "      <th>4</th>\n",
       "      <td>4</td>\n",
       "      <td>avis date stay screening constitute skills shop license management responsibilities diagnostics business response safety time drug change job ad brands offers environment bulletins position requirements variety activities years success require va...</td>\n",
       "      <td>0.029924</td>\n",
       "      <td>0.014260</td>\n",
       "      <td>-0.002191</td>\n",
       "      <td>-0.046672</td>\n",
       "      <td>0.027302</td>\n",
       "      <td>0.033856</td>\n",
       "      <td>0.021100</td>\n",
       "      <td>0.046282</td>\n",
       "      <td>...</td>\n",
       "      <td>0.007270</td>\n",
       "      <td>-0.049723</td>\n",
       "      <td>-0.000136</td>\n",
       "      <td>0.026408</td>\n",
       "      <td>-0.015710</td>\n",
       "      <td>-0.010843</td>\n",
       "      <td>0.006796</td>\n",
       "      <td>-0.006147</td>\n",
       "      <td>0.021968</td>\n",
       "      <td>-0.025977</td>\n",
       "    </tr>\n",
       "    <tr>\n",
       "      <th>...</th>\n",
       "      <td>...</td>\n",
       "      <td>...</td>\n",
       "      <td>...</td>\n",
       "      <td>...</td>\n",
       "      <td>...</td>\n",
       "      <td>...</td>\n",
       "      <td>...</td>\n",
       "      <td>...</td>\n",
       "      <td>...</td>\n",
       "      <td>...</td>\n",
       "      <td>...</td>\n",
       "      <td>...</td>\n",
       "      <td>...</td>\n",
       "      <td>...</td>\n",
       "      <td>...</td>\n",
       "      <td>...</td>\n",
       "      <td>...</td>\n",
       "      <td>...</td>\n",
       "      <td>...</td>\n",
       "      <td>...</td>\n",
       "      <td>...</td>\n",
       "    </tr>\n",
       "    <tr>\n",
       "      <th>30668</th>\n",
       "      <td>30668</td>\n",
       "      <td>customers employment companies license meaningful insurance sales phone join help country percy company calls experience ways health handling people</td>\n",
       "      <td>0.024999</td>\n",
       "      <td>0.066658</td>\n",
       "      <td>-0.015548</td>\n",
       "      <td>-0.069444</td>\n",
       "      <td>0.026987</td>\n",
       "      <td>0.006977</td>\n",
       "      <td>0.039437</td>\n",
       "      <td>0.051516</td>\n",
       "      <td>...</td>\n",
       "      <td>-0.010855</td>\n",
       "      <td>-0.037799</td>\n",
       "      <td>0.027987</td>\n",
       "      <td>0.022482</td>\n",
       "      <td>-0.000434</td>\n",
       "      <td>0.014350</td>\n",
       "      <td>0.022476</td>\n",
       "      <td>-0.003892</td>\n",
       "      <td>0.034050</td>\n",
       "      <td>-0.020033</td>\n",
       "    </tr>\n",
       "    <tr>\n",
       "      <th>30669</th>\n",
       "      <td>30669</td>\n",
       "      <td>month client specialist shift newark contract ’ s please opportunity</td>\n",
       "      <td>0.018610</td>\n",
       "      <td>0.079076</td>\n",
       "      <td>-0.024097</td>\n",
       "      <td>-0.025318</td>\n",
       "      <td>-0.023797</td>\n",
       "      <td>0.003349</td>\n",
       "      <td>0.021697</td>\n",
       "      <td>0.028440</td>\n",
       "      <td>...</td>\n",
       "      <td>0.000788</td>\n",
       "      <td>0.028322</td>\n",
       "      <td>0.047784</td>\n",
       "      <td>0.028237</td>\n",
       "      <td>-0.060595</td>\n",
       "      <td>-0.045747</td>\n",
       "      <td>0.014420</td>\n",
       "      <td>-0.017760</td>\n",
       "      <td>-0.025945</td>\n",
       "      <td>-0.039505</td>\n",
       "    </tr>\n",
       "    <tr>\n",
       "      <th>30670</th>\n",
       "      <td>30670</td>\n",
       "      <td>month project event calendar draft parttime program management ceo hours areas associations events association manager support maintain provide descriptions</td>\n",
       "      <td>0.032405</td>\n",
       "      <td>0.034072</td>\n",
       "      <td>-0.025040</td>\n",
       "      <td>0.023607</td>\n",
       "      <td>0.022138</td>\n",
       "      <td>0.025813</td>\n",
       "      <td>0.024770</td>\n",
       "      <td>0.025001</td>\n",
       "      <td>...</td>\n",
       "      <td>0.024824</td>\n",
       "      <td>-0.058881</td>\n",
       "      <td>0.030641</td>\n",
       "      <td>0.014223</td>\n",
       "      <td>-0.013415</td>\n",
       "      <td>-0.000985</td>\n",
       "      <td>-0.024924</td>\n",
       "      <td>-0.029173</td>\n",
       "      <td>0.055404</td>\n",
       "      <td>-0.008040</td>\n",
       "    </tr>\n",
       "    <tr>\n",
       "      <th>30671</th>\n",
       "      <td>30671</td>\n",
       "      <td>timesfedex communities positions load hire onefedex business ground help medications needs items environment fulltime individuals summaryfedex auto economy part support id packages people</td>\n",
       "      <td>0.002264</td>\n",
       "      <td>0.037130</td>\n",
       "      <td>-0.025601</td>\n",
       "      <td>-0.027582</td>\n",
       "      <td>0.019513</td>\n",
       "      <td>0.057847</td>\n",
       "      <td>0.036693</td>\n",
       "      <td>0.069171</td>\n",
       "      <td>...</td>\n",
       "      <td>-0.002457</td>\n",
       "      <td>-0.030116</td>\n",
       "      <td>0.025012</td>\n",
       "      <td>0.026911</td>\n",
       "      <td>-0.016046</td>\n",
       "      <td>-0.080429</td>\n",
       "      <td>0.001734</td>\n",
       "      <td>-0.010829</td>\n",
       "      <td>-0.004146</td>\n",
       "      <td>-0.000300</td>\n",
       "    </tr>\n",
       "    <tr>\n",
       "      <th>30672</th>\n",
       "      <td>30672</td>\n",
       "      <td>customers basis research serviceprovide customer management service liaison levels descriptionexcellent issues ability job decision professionalism storage require resolve day satisfaction</td>\n",
       "      <td>0.067613</td>\n",
       "      <td>-0.023005</td>\n",
       "      <td>-0.026782</td>\n",
       "      <td>-0.000456</td>\n",
       "      <td>-0.033278</td>\n",
       "      <td>0.019427</td>\n",
       "      <td>0.038178</td>\n",
       "      <td>0.000906</td>\n",
       "      <td>...</td>\n",
       "      <td>0.009264</td>\n",
       "      <td>-0.016356</td>\n",
       "      <td>0.029073</td>\n",
       "      <td>0.011592</td>\n",
       "      <td>0.003338</td>\n",
       "      <td>-0.003214</td>\n",
       "      <td>0.002440</td>\n",
       "      <td>-0.020719</td>\n",
       "      <td>0.006787</td>\n",
       "      <td>-0.031450</td>\n",
       "    </tr>\n",
       "  </tbody>\n",
       "</table>\n",
       "<p>30673 rows × 770 columns</p>\n",
       "</div>"
      ],
      "text/plain": [
       "       row_id  \\\n",
       "0           0   \n",
       "1           1   \n",
       "2           2   \n",
       "3           3   \n",
       "4           4   \n",
       "...       ...   \n",
       "30668   30668   \n",
       "30669   30669   \n",
       "30670   30670   \n",
       "30671   30671   \n",
       "30672   30672   \n",
       "\n",
       "                                                                                                                                                                                                                                                     description  \\\n",
       "0      date dodge employee productivityyou skills tasks responsibilities business inquires requests resources job training offers position excellent preemployment requirements weekends agent health tasksyou communitiesevery philosophy ethicthe outcome t...   \n",
       "1      avis date stay screening constitute skills shop license management responsibilities diagnostics business response safety time drug change job ad brands offers environment bulletins position requirements year variety activities success require vac...   \n",
       "2      opportunity practice shifthours skills license leadership members standards board patient care department processes patients maintaining strategies providers job nursing knowledge communication broadlawns position qualifications experience urodyn...   \n",
       "3      stay employee skills license life certifications responsibilities time drug estimate environment qualifications air tools employees customers repairs submit join engine vehicle ase vehicles equipment individuals components chevrolet team products...   \n",
       "4      avis date stay screening constitute skills shop license management responsibilities diagnostics business response safety time drug change job ad brands offers environment bulletins position requirements variety activities years success require va...   \n",
       "...                                                                                                                                                                                                                                                          ...   \n",
       "30668                                                                                                       customers employment companies license meaningful insurance sales phone join help country percy company calls experience ways health handling people   \n",
       "30669                                                                                                                                                                                       month client specialist shift newark contract ’ s please opportunity   \n",
       "30670                                                                                               month project event calendar draft parttime program management ceo hours areas associations events association manager support maintain provide descriptions   \n",
       "30671                                                                timesfedex communities positions load hire onefedex business ground help medications needs items environment fulltime individuals summaryfedex auto economy part support id packages people   \n",
       "30672                                                               customers basis research serviceprovide customer management service liaison levels descriptionexcellent issues ability job decision professionalism storage require resolve day satisfaction   \n",
       "\n",
       "       embedding_0  embedding_1  embedding_2  embedding_3  embedding_4  \\\n",
       "0         0.035823     0.053661    -0.003921    -0.025520     0.001807   \n",
       "1         0.027914     0.004649    -0.003909    -0.054476     0.021406   \n",
       "2         0.060739     0.055145    -0.032468    -0.052251    -0.001627   \n",
       "3        -0.019868     0.025763    -0.006227    -0.018974     0.029527   \n",
       "4         0.029924     0.014260    -0.002191    -0.046672     0.027302   \n",
       "...            ...          ...          ...          ...          ...   \n",
       "30668     0.024999     0.066658    -0.015548    -0.069444     0.026987   \n",
       "30669     0.018610     0.079076    -0.024097    -0.025318    -0.023797   \n",
       "30670     0.032405     0.034072    -0.025040     0.023607     0.022138   \n",
       "30671     0.002264     0.037130    -0.025601    -0.027582     0.019513   \n",
       "30672     0.067613    -0.023005    -0.026782    -0.000456    -0.033278   \n",
       "\n",
       "       embedding_5  embedding_6  embedding_7  ...  embedding_758  \\\n",
       "0         0.041238     0.009403     0.032437  ...       0.018125   \n",
       "1         0.023641     0.021505     0.048917  ...       0.003256   \n",
       "2         0.025879     0.000878     0.020266  ...       0.018932   \n",
       "3         0.047584    -0.021279     0.070887  ...       0.002457   \n",
       "4         0.033856     0.021100     0.046282  ...       0.007270   \n",
       "...            ...          ...          ...  ...            ...   \n",
       "30668     0.006977     0.039437     0.051516  ...      -0.010855   \n",
       "30669     0.003349     0.021697     0.028440  ...       0.000788   \n",
       "30670     0.025813     0.024770     0.025001  ...       0.024824   \n",
       "30671     0.057847     0.036693     0.069171  ...      -0.002457   \n",
       "30672     0.019427     0.038178     0.000906  ...       0.009264   \n",
       "\n",
       "       embedding_759  embedding_760  embedding_761  embedding_762  \\\n",
       "0          -0.027542       0.017090       0.022619       0.001115   \n",
       "1          -0.046415      -0.000359       0.025412      -0.017049   \n",
       "2          -0.006734      -0.033018       0.038084      -0.027456   \n",
       "3          -0.032119       0.039204       0.022002      -0.002833   \n",
       "4          -0.049723      -0.000136       0.026408      -0.015710   \n",
       "...              ...            ...            ...            ...   \n",
       "30668      -0.037799       0.027987       0.022482      -0.000434   \n",
       "30669       0.028322       0.047784       0.028237      -0.060595   \n",
       "30670      -0.058881       0.030641       0.014223      -0.013415   \n",
       "30671      -0.030116       0.025012       0.026911      -0.016046   \n",
       "30672      -0.016356       0.029073       0.011592       0.003338   \n",
       "\n",
       "       embedding_763  embedding_764  embedding_765  embedding_766  \\\n",
       "0           0.053540      -0.039374      -0.019478      -0.013494   \n",
       "1          -0.004661       0.001925      -0.006111       0.013735   \n",
       "2          -0.006747      -0.000733      -0.001294       0.052152   \n",
       "3           0.030473      -0.032191      -0.019036       0.035487   \n",
       "4          -0.010843       0.006796      -0.006147       0.021968   \n",
       "...              ...            ...            ...            ...   \n",
       "30668       0.014350       0.022476      -0.003892       0.034050   \n",
       "30669      -0.045747       0.014420      -0.017760      -0.025945   \n",
       "30670      -0.000985      -0.024924      -0.029173       0.055404   \n",
       "30671      -0.080429       0.001734      -0.010829      -0.004146   \n",
       "30672      -0.003214       0.002440      -0.020719       0.006787   \n",
       "\n",
       "       embedding_767  \n",
       "0          -0.017003  \n",
       "1          -0.028230  \n",
       "2          -0.040087  \n",
       "3          -0.038349  \n",
       "4          -0.025977  \n",
       "...              ...  \n",
       "30668      -0.020033  \n",
       "30669      -0.039505  \n",
       "30670      -0.008040  \n",
       "30671      -0.000300  \n",
       "30672      -0.031450  \n",
       "\n",
       "[30673 rows x 770 columns]"
      ]
     },
     "execution_count": 156,
     "metadata": {},
     "output_type": "execute_result"
    }
   ],
   "source": [
    "descriptions_with_sentence_embeddings_df"
   ]
  },
  {
   "cell_type": "code",
   "execution_count": 201,
   "metadata": {},
   "outputs": [],
   "source": [
    "descriptions_with_sentence_embeddings_df = descriptions_with_sentence_embeddings_df.set_index('row_id').join(df_pos['JobTitle_tokenized'])"
   ]
  },
  {
   "cell_type": "code",
   "execution_count": 173,
   "metadata": {
    "tags": []
   },
   "outputs": [
    {
     "data": {
      "text/html": [
       "<div>\n",
       "<style scoped>\n",
       "    .dataframe tbody tr th:only-of-type {\n",
       "        vertical-align: middle;\n",
       "    }\n",
       "\n",
       "    .dataframe tbody tr th {\n",
       "        vertical-align: top;\n",
       "    }\n",
       "\n",
       "    .dataframe thead th {\n",
       "        text-align: right;\n",
       "    }\n",
       "</style>\n",
       "<table border=\"1\" class=\"dataframe\">\n",
       "  <thead>\n",
       "    <tr style=\"text-align: right;\">\n",
       "      <th></th>\n",
       "      <th>description</th>\n",
       "      <th>embedding_0</th>\n",
       "      <th>embedding_1</th>\n",
       "      <th>embedding_2</th>\n",
       "      <th>embedding_3</th>\n",
       "      <th>embedding_4</th>\n",
       "      <th>embedding_5</th>\n",
       "      <th>embedding_6</th>\n",
       "      <th>embedding_7</th>\n",
       "      <th>embedding_8</th>\n",
       "      <th>...</th>\n",
       "      <th>embedding_759</th>\n",
       "      <th>embedding_760</th>\n",
       "      <th>embedding_761</th>\n",
       "      <th>embedding_762</th>\n",
       "      <th>embedding_763</th>\n",
       "      <th>embedding_764</th>\n",
       "      <th>embedding_765</th>\n",
       "      <th>embedding_766</th>\n",
       "      <th>embedding_767</th>\n",
       "      <th>JobTitle_tokenized</th>\n",
       "    </tr>\n",
       "    <tr>\n",
       "      <th>row_id</th>\n",
       "      <th></th>\n",
       "      <th></th>\n",
       "      <th></th>\n",
       "      <th></th>\n",
       "      <th></th>\n",
       "      <th></th>\n",
       "      <th></th>\n",
       "      <th></th>\n",
       "      <th></th>\n",
       "      <th></th>\n",
       "      <th></th>\n",
       "      <th></th>\n",
       "      <th></th>\n",
       "      <th></th>\n",
       "      <th></th>\n",
       "      <th></th>\n",
       "      <th></th>\n",
       "      <th></th>\n",
       "      <th></th>\n",
       "      <th></th>\n",
       "      <th></th>\n",
       "    </tr>\n",
       "  </thead>\n",
       "  <tbody>\n",
       "    <tr>\n",
       "      <th>1191</th>\n",
       "      <td>practice plansperforms tasks pioneer patients activities years success employer modification designee health traits stateswe state patientsparticipate begin plan diploma deliveredimplements scope career care encounters corresponds company respons...</td>\n",
       "      <td>0.032345</td>\n",
       "      <td>0.035562</td>\n",
       "      <td>-0.014008</td>\n",
       "      <td>-0.049624</td>\n",
       "      <td>-0.039321</td>\n",
       "      <td>0.006992</td>\n",
       "      <td>-0.012206</td>\n",
       "      <td>0.039373</td>\n",
       "      <td>-0.025007</td>\n",
       "      <td>...</td>\n",
       "      <td>0.003110</td>\n",
       "      <td>-0.034172</td>\n",
       "      <td>-0.007459</td>\n",
       "      <td>-0.013831</td>\n",
       "      <td>0.046944</td>\n",
       "      <td>0.036691</td>\n",
       "      <td>0.007598</td>\n",
       "      <td>0.031172</td>\n",
       "      <td>-0.047833</td>\n",
       "      <td>9</td>\n",
       "    </tr>\n",
       "    <tr>\n",
       "      <th>3443</th>\n",
       "      <td>adult date feel search hour please malpractice insurance travel board call vacancy hours time week consideration schedule orleans shifts director position qualifications location compensation exceptional deposits questions la end details</td>\n",
       "      <td>0.040429</td>\n",
       "      <td>0.039945</td>\n",
       "      <td>-0.023618</td>\n",
       "      <td>-0.012072</td>\n",
       "      <td>-0.025879</td>\n",
       "      <td>0.007292</td>\n",
       "      <td>-0.007069</td>\n",
       "      <td>0.043331</td>\n",
       "      <td>-0.008007</td>\n",
       "      <td>...</td>\n",
       "      <td>-0.015097</td>\n",
       "      <td>-0.016962</td>\n",
       "      <td>0.028492</td>\n",
       "      <td>-0.017967</td>\n",
       "      <td>-0.031858</td>\n",
       "      <td>-0.012832</td>\n",
       "      <td>-0.004747</td>\n",
       "      <td>0.017798</td>\n",
       "      <td>-0.002533</td>\n",
       "      <td>13</td>\n",
       "    </tr>\n",
       "    <tr>\n",
       "      <th>29219</th>\n",
       "      <td>practices field profession communities towards advocacy promote promising energy forefront time chiefs member efforts services individuals association passion police</td>\n",
       "      <td>0.031791</td>\n",
       "      <td>0.048847</td>\n",
       "      <td>0.004345</td>\n",
       "      <td>-0.008479</td>\n",
       "      <td>-0.011075</td>\n",
       "      <td>0.016110</td>\n",
       "      <td>0.031348</td>\n",
       "      <td>-0.006406</td>\n",
       "      <td>-0.047035</td>\n",
       "      <td>...</td>\n",
       "      <td>-0.030285</td>\n",
       "      <td>-0.009848</td>\n",
       "      <td>0.006334</td>\n",
       "      <td>0.017565</td>\n",
       "      <td>-0.041811</td>\n",
       "      <td>-0.020480</td>\n",
       "      <td>0.017025</td>\n",
       "      <td>0.025316</td>\n",
       "      <td>-0.024981</td>\n",
       "      <td>1384</td>\n",
       "    </tr>\n",
       "  </tbody>\n",
       "</table>\n",
       "<p>3 rows × 770 columns</p>\n",
       "</div>"
      ],
      "text/plain": [
       "                                                                                                                                                                                                                                                      description  \\\n",
       "row_id                                                                                                                                                                                                                                                              \n",
       "1191    practice plansperforms tasks pioneer patients activities years success employer modification designee health traits stateswe state patientsparticipate begin plan diploma deliveredimplements scope career care encounters corresponds company respons...   \n",
       "3443                adult date feel search hour please malpractice insurance travel board call vacancy hours time week consideration schedule orleans shifts director position qualifications location compensation exceptional deposits questions la end details   \n",
       "29219                                                                                       practices field profession communities towards advocacy promote promising energy forefront time chiefs member efforts services individuals association passion police   \n",
       "\n",
       "        embedding_0  embedding_1  embedding_2  embedding_3  embedding_4  \\\n",
       "row_id                                                                    \n",
       "1191       0.032345     0.035562    -0.014008    -0.049624    -0.039321   \n",
       "3443       0.040429     0.039945    -0.023618    -0.012072    -0.025879   \n",
       "29219      0.031791     0.048847     0.004345    -0.008479    -0.011075   \n",
       "\n",
       "        embedding_5  embedding_6  embedding_7  embedding_8  ...  \\\n",
       "row_id                                                      ...   \n",
       "1191       0.006992    -0.012206     0.039373    -0.025007  ...   \n",
       "3443       0.007292    -0.007069     0.043331    -0.008007  ...   \n",
       "29219      0.016110     0.031348    -0.006406    -0.047035  ...   \n",
       "\n",
       "        embedding_759  embedding_760  embedding_761  embedding_762  \\\n",
       "row_id                                                               \n",
       "1191         0.003110      -0.034172      -0.007459      -0.013831   \n",
       "3443        -0.015097      -0.016962       0.028492      -0.017967   \n",
       "29219       -0.030285      -0.009848       0.006334       0.017565   \n",
       "\n",
       "        embedding_763  embedding_764  embedding_765  embedding_766  \\\n",
       "row_id                                                               \n",
       "1191         0.046944       0.036691       0.007598       0.031172   \n",
       "3443        -0.031858      -0.012832      -0.004747       0.017798   \n",
       "29219       -0.041811      -0.020480       0.017025       0.025316   \n",
       "\n",
       "        embedding_767  JobTitle_tokenized  \n",
       "row_id                                     \n",
       "1191        -0.047833                   9  \n",
       "3443        -0.002533                  13  \n",
       "29219       -0.024981                1384  \n",
       "\n",
       "[3 rows x 770 columns]"
      ]
     },
     "execution_count": 173,
     "metadata": {},
     "output_type": "execute_result"
    }
   ],
   "source": [
    "descriptions_with_sentence_embeddings_df.sample(3)"
   ]
  },
  {
   "cell_type": "code",
   "execution_count": 175,
   "metadata": {},
   "outputs": [
    {
     "data": {
      "text/plain": [
       "array([['customers client owings booklets hire look md mills create position comprehensive team production support data design opportunity investment',\n",
       "        723]], dtype=object)"
      ]
     },
     "execution_count": 175,
     "metadata": {},
     "output_type": "execute_result"
    }
   ],
   "source": [
    "s = descriptions_with_sentence_embeddings_df[['description','JobTitle_tokenized']].sample()\n",
    "s.values"
   ]
  },
  {
   "cell_type": "code",
   "execution_count": 176,
   "metadata": {},
   "outputs": [
    {
     "data": {
      "text/plain": [
       "row_id\n",
       "27730    723\n",
       "Name: JobTitle_tokenized, dtype: int64"
      ]
     },
     "execution_count": 176,
     "metadata": {},
     "output_type": "execute_result"
    }
   ],
   "source": [
    "descriptions_with_sentence_embeddings_df.query('description == @s.description.iloc[0]')['JobTitle_tokenized']"
   ]
  },
  {
   "cell_type": "markdown",
   "metadata": {},
   "source": [
    "### Modedling with transformers sequence embeddings"
   ]
  },
  {
   "cell_type": "code",
   "execution_count": 351,
   "metadata": {},
   "outputs": [],
   "source": [
    "from tensorflow.keras.layers import TextVectorization, Embedding, Dense, GlobalAveragePooling1D, Dropout, Reshape, Activation"
   ]
  },
  {
   "cell_type": "code",
   "execution_count": 352,
   "metadata": {},
   "outputs": [],
   "source": [
    "text_col, target_col = 'Desc_concatinated', 'JobTitle_tokenized'\n",
    "\n",
    "from sklearn.preprocessing import LabelBinarizer\n",
    "label_as_binary = LabelBinarizer()\n",
    "\n",
    "label_as_binary.fit(df_pos[target_col])\n",
    "\n",
    "training = descriptions_with_sentence_embeddings_df.sample(frac=0.8, random_state=41)\n",
    "test = descriptions_with_sentence_embeddings_df[~descriptions_with_sentence_embeddings_df.index.isin(training_set.index)]\n",
    "\n",
    "train__y_labels = label_as_binary.transform(training[target_col])\n",
    "test__y_labels = label_as_binary.transform(test[target_col])"
   ]
  },
  {
   "cell_type": "code",
   "execution_count": 353,
   "metadata": {},
   "outputs": [],
   "source": [
    "model = tf.keras.Sequential()\n",
    "model.add(Dense(4096, input_dim=768))\n",
    "model.add(Activation('elu'))\n",
    "# model.add(Dense(2048, input_dim=2048))\n",
    "# model.add(Activation('relu'))\n",
    "model.add(Dense(df_pos.JobTitle.nunique()))\n",
    "model.add(Activation('softmax'))\n",
    "model.compile(\n",
    "    optimizer=tf.optimizers.Adam(),\n",
    "    loss=tf.keras.losses.categorical_crossentropy,\n",
    "    metrics = ['accuracy'])"
   ]
  },
  {
   "cell_type": "code",
   "execution_count": 354,
   "metadata": {},
   "outputs": [
    {
     "name": "stdout",
     "output_type": "stream",
     "text": [
      "Model: \"sequential_16\"\n",
      "_________________________________________________________________\n",
      " Layer (type)                Output Shape              Param #   \n",
      "=================================================================\n",
      " dense_18 (Dense)            (None, 4096)              3149824   \n",
      "                                                                 \n",
      " activation_16 (Activation)  (None, 4096)              0         \n",
      "                                                                 \n",
      " dense_19 (Dense)            (None, 1953)              8001441   \n",
      "                                                                 \n",
      " activation_17 (Activation)  (None, 1953)              0         \n",
      "                                                                 \n",
      "=================================================================\n",
      "Total params: 11,151,265\n",
      "Trainable params: 11,151,265\n",
      "Non-trainable params: 0\n",
      "_________________________________________________________________\n"
     ]
    }
   ],
   "source": [
    "model.summary()"
   ]
  },
  {
   "cell_type": "code",
   "execution_count": 236,
   "metadata": {},
   "outputs": [
    {
     "name": "stdout",
     "output_type": "stream",
     "text": [
      "Epoch 1/7\n",
      "24/24 [==============================] - 65s 2s/step - loss: 5.4789 - accuracy: 0.1682 - val_loss: 4.2368 - val_accuracy: 0.2730\n",
      "Epoch 2/7\n",
      "24/24 [==============================] - 48s 2s/step - loss: 3.7024 - accuracy: 0.3435 - val_loss: 3.3613 - val_accuracy: 0.4060\n",
      "Epoch 3/7\n",
      "24/24 [==============================] - 46s 2s/step - loss: 2.9543 - accuracy: 0.4436 - val_loss: 2.9111 - val_accuracy: 0.4745\n",
      "Epoch 4/7\n",
      "24/24 [==============================] - 48s 2s/step - loss: 2.4572 - accuracy: 0.5062 - val_loss: 2.6763 - val_accuracy: 0.5180\n",
      "Epoch 5/7\n",
      "24/24 [==============================] - 53s 2s/step - loss: 2.1160 - accuracy: 0.5458 - val_loss: 2.5480 - val_accuracy: 0.5460\n",
      "Epoch 6/7\n",
      "24/24 [==============================] - 50s 2s/step - loss: 1.8710 - accuracy: 0.5754 - val_loss: 2.4753 - val_accuracy: 0.5601\n",
      "Epoch 7/7\n",
      "24/24 [==============================] - 55s 2s/step - loss: 1.6606 - accuracy: 0.6058 - val_loss: 2.4745 - val_accuracy: 0.5803\n"
     ]
    }
   ],
   "source": [
    "f_vector = [f'embedding_{i}' for i in range(768)]\n",
    "history = model.fit(training[f_vector], \n",
    "          train__y_labels, \n",
    "          validation_data=(test[f_vector], test__y_labels), \n",
    "          epochs=7,\n",
    "          batch_size=1024,\n",
    "          verbose=1)"
   ]
  },
  {
   "cell_type": "markdown",
   "metadata": {
    "tags": []
   },
   "source": [
    "### Simple NN Prediction & Evaluation"
   ]
  },
  {
   "cell_type": "code",
   "execution_count": 237,
   "metadata": {},
   "outputs": [],
   "source": [
    "import matplotlib.pyplot as plt"
   ]
  },
  {
   "cell_type": "code",
   "execution_count": 238,
   "metadata": {},
   "outputs": [
    {
     "data": {
      "text/plain": [
       "<AxesSubplot:>"
      ]
     },
     "execution_count": 238,
     "metadata": {},
     "output_type": "execute_result"
    },
    {
     "data": {
      "image/png": "[encoded data removed]",
      "text/plain": [
       "<Figure size 432x288 with 1 Axes>"
      ]
     },
     "metadata": {
      "needs_background": "light"
     },
     "output_type": "display_data"
    }
   ],
   "source": [
    "pd.DataFrame(history.history).plot()"
   ]
  },
  {
   "cell_type": "code",
   "execution_count": null,
   "metadata": {},
   "outputs": [],
   "source": []
  },
  {
   "cell_type": "code",
   "execution_count": 239,
   "metadata": {},
   "outputs": [],
   "source": [
    "test['token_with_best_prediction'] = model.predict(test[f_vector]).argmax(axis=1)"
   ]
  },
  {
   "cell_type": "code",
   "execution_count": 240,
   "metadata": {},
   "outputs": [],
   "source": [
    "test['prob_token_with_best_prediction'] = model.predict(test[f_vector]).max(axis=1)"
   ]
  },
  {
   "cell_type": "code",
   "execution_count": 241,
   "metadata": {},
   "outputs": [
    {
     "data": {
      "text/html": [
       "<div>\n",
       "<style scoped>\n",
       "    .dataframe tbody tr th:only-of-type {\n",
       "        vertical-align: middle;\n",
       "    }\n",
       "\n",
       "    .dataframe tbody tr th {\n",
       "        vertical-align: top;\n",
       "    }\n",
       "\n",
       "    .dataframe thead th {\n",
       "        text-align: right;\n",
       "    }\n",
       "</style>\n",
       "<table border=\"1\" class=\"dataframe\">\n",
       "  <thead>\n",
       "    <tr style=\"text-align: right;\">\n",
       "      <th></th>\n",
       "      <th>description</th>\n",
       "      <th>embedding_0</th>\n",
       "      <th>embedding_1</th>\n",
       "      <th>embedding_2</th>\n",
       "      <th>embedding_3</th>\n",
       "      <th>embedding_4</th>\n",
       "      <th>embedding_5</th>\n",
       "      <th>embedding_6</th>\n",
       "      <th>embedding_7</th>\n",
       "      <th>embedding_8</th>\n",
       "      <th>...</th>\n",
       "      <th>embedding_761</th>\n",
       "      <th>embedding_762</th>\n",
       "      <th>embedding_763</th>\n",
       "      <th>embedding_764</th>\n",
       "      <th>embedding_765</th>\n",
       "      <th>embedding_766</th>\n",
       "      <th>embedding_767</th>\n",
       "      <th>JobTitle_tokenized</th>\n",
       "      <th>token_with_best_prediction</th>\n",
       "      <th>prob_token_with_best_prediction</th>\n",
       "    </tr>\n",
       "    <tr>\n",
       "      <th>row_id</th>\n",
       "      <th></th>\n",
       "      <th></th>\n",
       "      <th></th>\n",
       "      <th></th>\n",
       "      <th></th>\n",
       "      <th></th>\n",
       "      <th></th>\n",
       "      <th></th>\n",
       "      <th></th>\n",
       "      <th></th>\n",
       "      <th></th>\n",
       "      <th></th>\n",
       "      <th></th>\n",
       "      <th></th>\n",
       "      <th></th>\n",
       "      <th></th>\n",
       "      <th></th>\n",
       "      <th></th>\n",
       "      <th></th>\n",
       "      <th></th>\n",
       "      <th></th>\n",
       "    </tr>\n",
       "  </thead>\n",
       "  <tbody>\n",
       "    <tr>\n",
       "      <th>21416</th>\n",
       "      <td>crew back needed employee operation riding tasks assisting addition responsibilities reuse safety minor assistants include job climb reach qualifications collecting directing able pull might runs backing deep procedures materials repairs worker s...</td>\n",
       "      <td>0.012539</td>\n",
       "      <td>0.040313</td>\n",
       "      <td>0.001041</td>\n",
       "      <td>-0.010056</td>\n",
       "      <td>0.016563</td>\n",
       "      <td>0.017076</td>\n",
       "      <td>-0.00874</td>\n",
       "      <td>0.029859</td>\n",
       "      <td>-0.049438</td>\n",
       "      <td>...</td>\n",
       "      <td>0.032346</td>\n",
       "      <td>-0.011281</td>\n",
       "      <td>0.00157</td>\n",
       "      <td>-0.019672</td>\n",
       "      <td>-0.028543</td>\n",
       "      <td>0.02939</td>\n",
       "      <td>-0.013297</td>\n",
       "      <td>625</td>\n",
       "      <td>625</td>\n",
       "      <td>0.506288</td>\n",
       "    </tr>\n",
       "  </tbody>\n",
       "</table>\n",
       "<p>1 rows × 772 columns</p>\n",
       "</div>"
      ],
      "text/plain": [
       "                                                                                                                                                                                                                                                      description  \\\n",
       "row_id                                                                                                                                                                                                                                                              \n",
       "21416   crew back needed employee operation riding tasks assisting addition responsibilities reuse safety minor assistants include job climb reach qualifications collecting directing able pull might runs backing deep procedures materials repairs worker s...   \n",
       "\n",
       "        embedding_0  embedding_1  embedding_2  embedding_3  embedding_4  \\\n",
       "row_id                                                                    \n",
       "21416      0.012539     0.040313     0.001041    -0.010056     0.016563   \n",
       "\n",
       "        embedding_5  embedding_6  embedding_7  embedding_8  ...  \\\n",
       "row_id                                                      ...   \n",
       "21416      0.017076     -0.00874     0.029859    -0.049438  ...   \n",
       "\n",
       "        embedding_761  embedding_762  embedding_763  embedding_764  \\\n",
       "row_id                                                               \n",
       "21416        0.032346      -0.011281        0.00157      -0.019672   \n",
       "\n",
       "        embedding_765  embedding_766  embedding_767  JobTitle_tokenized  \\\n",
       "row_id                                                                    \n",
       "21416       -0.028543        0.02939      -0.013297                 625   \n",
       "\n",
       "        token_with_best_prediction  prob_token_with_best_prediction  \n",
       "row_id                                                               \n",
       "21416                          625                         0.506288  \n",
       "\n",
       "[1 rows x 772 columns]"
      ]
     },
     "execution_count": 241,
     "metadata": {},
     "output_type": "execute_result"
    }
   ],
   "source": [
    "test.sample()"
   ]
  },
  {
   "cell_type": "code",
   "execution_count": 244,
   "metadata": {},
   "outputs": [
    {
     "name": "stdout",
     "output_type": "stream",
     "text": [
      "0.14370096162910206\n",
      "0.1601902503366367\n",
      "0.5802770986145069\n"
     ]
    },
    {
     "name": "stderr",
     "output_type": "stream",
     "text": [
      "C:\\Users\\User\\anaconda3\\envs\\ML Technion\\lib\\site-packages\\sklearn\\metrics\\_classification.py:1308: UndefinedMetricWarning:\n",
      "\n",
      "Precision is ill-defined and being set to 0.0 in labels with no predicted samples. Use `zero_division` parameter to control this behavior.\n",
      "\n",
      "C:\\Users\\User\\anaconda3\\envs\\ML Technion\\lib\\site-packages\\sklearn\\metrics\\_classification.py:1308: UndefinedMetricWarning:\n",
      "\n",
      "Recall is ill-defined and being set to 0.0 in labels with no true samples. Use `zero_division` parameter to control this behavior.\n",
      "\n"
     ]
    }
   ],
   "source": [
    "from sklearn.metrics import precision_score, recall_score, accuracy_score\n",
    "print(precision_score(test['JobTitle_tokenized'],test['token_with_best_prediction'], average=\"macro\"))\n",
    "print(recall_score(test['JobTitle_tokenized'],test['token_with_best_prediction'], average=\"macro\"))    \n",
    "print(accuracy_score(test['JobTitle_tokenized'],test['token_with_best_prediction']))    "
   ]
  },
  {
   "cell_type": "markdown",
   "metadata": {},
   "source": [
    "### Making a loop to see the best metrics"
   ]
  },
  {
   "cell_type": "code",
   "execution_count": 355,
   "metadata": {},
   "outputs": [
    {
     "name": "stdout",
     "output_type": "stream",
     "text": [
      "24/24 [==============================] - 52s 2s/step - loss: 5.4582 - accuracy: 0.1796 - val_loss: 4.2184 - val_accuracy: 0.2901\n",
      "24/24 [==============================] - 49s 2s/step - loss: 3.6500 - accuracy: 0.3680 - val_loss: 3.2955 - val_accuracy: 0.4300\n",
      "24/24 [==============================] - 50s 2s/step - loss: 2.9226 - accuracy: 0.4588 - val_loss: 2.8351 - val_accuracy: 0.4804\n",
      "24/24 [==============================] - 54s 2s/step - loss: 2.4765 - accuracy: 0.5059 - val_loss: 2.5683 - val_accuracy: 0.5196\n",
      "24/24 [==============================] - 50s 2s/step - loss: 2.1744 - accuracy: 0.5447 - val_loss: 2.4024 - val_accuracy: 0.5501\n",
      "24/24 [==============================] - 49s 2s/step - loss: 1.9479 - accuracy: 0.5762 - val_loss: 2.3012 - val_accuracy: 0.5711\n",
      "24/24 [==============================] - 47s 2s/step - loss: 1.7649 - accuracy: 0.6027 - val_loss: 2.2186 - val_accuracy: 0.5853\n",
      "24/24 [==============================] - 49s 2s/step - loss: 1.6070 - accuracy: 0.6277 - val_loss: 2.1692 - val_accuracy: 0.6016\n",
      "24/24 [==============================] - 50s 2s/step - loss: 1.4762 - accuracy: 0.6515 - val_loss: 2.1378 - val_accuracy: 0.6114\n",
      "24/24 [==============================] - 46s 2s/step - loss: 1.3651 - accuracy: 0.6713 - val_loss: 2.1059 - val_accuracy: 0.6187\n",
      "24/24 [==============================] - 48s 2s/step - loss: 1.2713 - accuracy: 0.6904 - val_loss: 2.0879 - val_accuracy: 0.6279\n",
      "24/24 [==============================] - 49s 2s/step - loss: 1.1880 - accuracy: 0.7064 - val_loss: 2.0847 - val_accuracy: 0.6326\n",
      "24/24 [==============================] - 50s 2s/step - loss: 1.1100 - accuracy: 0.7246 - val_loss: 2.0640 - val_accuracy: 0.6427\n",
      "24/24 [==============================] - 49s 2s/step - loss: 1.0457 - accuracy: 0.7375 - val_loss: 2.0584 - val_accuracy: 0.6489\n",
      "24/24 [==============================] - 49s 2s/step - loss: 0.9894 - accuracy: 0.7516 - val_loss: 2.0657 - val_accuracy: 0.6538\n",
      "24/24 [==============================] - 50s 2s/step - loss: 0.9365 - accuracy: 0.7635 - val_loss: 2.0601 - val_accuracy: 0.6499\n",
      "24/24 [==============================] - 47s 2s/step - loss: 0.8895 - accuracy: 0.7722 - val_loss: 2.0703 - val_accuracy: 0.6601\n",
      "24/24 [==============================] - 50s 2s/step - loss: 0.8473 - accuracy: 0.7821 - val_loss: 2.0734 - val_accuracy: 0.6647\n",
      "24/24 [==============================] - 47s 2s/step - loss: 0.8076 - accuracy: 0.7904 - val_loss: 2.0884 - val_accuracy: 0.6621\n",
      "24/24 [==============================] - 51s 2s/step - loss: 0.7731 - accuracy: 0.8002 - val_loss: 2.0931 - val_accuracy: 0.6660\n",
      "24/24 [==============================] - 48s 2s/step - loss: 0.7380 - accuracy: 0.8089 - val_loss: 2.1028 - val_accuracy: 0.6655\n",
      "24/24 [==============================] - 48s 2s/step - loss: 0.7101 - accuracy: 0.8146 - val_loss: 2.1045 - val_accuracy: 0.6712\n",
      "24/24 [==============================] - 48s 2s/step - loss: 0.6828 - accuracy: 0.8217 - val_loss: 2.1195 - val_accuracy: 0.6685\n",
      "24/24 [==============================] - 50s 2s/step - loss: 0.6582 - accuracy: 0.8266 - val_loss: 2.1348 - val_accuracy: 0.6707\n",
      "24/24 [==============================] - 49s 2s/step - loss: 0.6354 - accuracy: 0.8328 - val_loss: 2.1470 - val_accuracy: 0.6716\n",
      "24/24 [==============================] - 46s 2s/step - loss: 0.6137 - accuracy: 0.8372 - val_loss: 2.1489 - val_accuracy: 0.6698\n",
      "24/24 [==============================] - 48s 2s/step - loss: 0.5927 - accuracy: 0.8420 - val_loss: 2.1604 - val_accuracy: 0.6781\n",
      "24/24 [==============================] - 49s 2s/step - loss: 0.5783 - accuracy: 0.8444 - val_loss: 2.1698 - val_accuracy: 0.6771\n",
      "24/24 [==============================] - 49s 2s/step - loss: 0.5565 - accuracy: 0.8524 - val_loss: 2.1791 - val_accuracy: 0.6764\n",
      "24/24 [==============================] - 47s 2s/step - loss: 0.5404 - accuracy: 0.8547 - val_loss: 2.2011 - val_accuracy: 0.6820\n",
      "24/24 [==============================] - 46s 2s/step - loss: 0.5241 - accuracy: 0.8591 - val_loss: 2.2154 - val_accuracy: 0.6794\n",
      "24/24 [==============================] - 49s 2s/step - loss: 0.5117 - accuracy: 0.8659 - val_loss: 2.2218 - val_accuracy: 0.6729\n",
      "24/24 [==============================] - 46s 2s/step - loss: 0.4976 - accuracy: 0.8664 - val_loss: 2.2416 - val_accuracy: 0.6836\n",
      "24/24 [==============================] - 48s 2s/step - loss: 0.4853 - accuracy: 0.8690 - val_loss: 2.2343 - val_accuracy: 0.6805\n",
      "24/24 [==============================] - 49s 2s/step - loss: 0.4725 - accuracy: 0.8716 - val_loss: 2.2486 - val_accuracy: 0.6849\n",
      "24/24 [==============================] - 45s 2s/step - loss: 0.4610 - accuracy: 0.8735 - val_loss: 2.2667 - val_accuracy: 0.6846\n",
      "24/24 [==============================] - 48s 2s/step - loss: 0.4505 - accuracy: 0.8775 - val_loss: 2.2818 - val_accuracy: 0.6854\n",
      "24/24 [==============================] - 47s 2s/step - loss: 0.4447 - accuracy: 0.8786 - val_loss: 2.2905 - val_accuracy: 0.6841\n",
      "24/24 [==============================] - 48s 2s/step - loss: 0.4320 - accuracy: 0.8807 - val_loss: 2.3012 - val_accuracy: 0.6838\n",
      "24/24 [==============================] - 47s 2s/step - loss: 0.4233 - accuracy: 0.8848 - val_loss: 2.3152 - val_accuracy: 0.6835\n",
      "24/24 [==============================] - 46s 2s/step - loss: 0.4104 - accuracy: 0.8871 - val_loss: 2.3158 - val_accuracy: 0.6875\n",
      "24/24 [==============================] - 49s 2s/step - loss: 0.3978 - accuracy: 0.8900 - val_loss: 2.3465 - val_accuracy: 0.6828\n",
      "24/24 [==============================] - 50s 2s/step - loss: 0.3949 - accuracy: 0.8890 - val_loss: 2.3485 - val_accuracy: 0.6802\n",
      "24/24 [==============================] - 47s 2s/step - loss: 0.3883 - accuracy: 0.8937 - val_loss: 2.3563 - val_accuracy: 0.6817\n",
      "24/24 [==============================] - 46s 2s/step - loss: 0.3796 - accuracy: 0.8946 - val_loss: 2.3669 - val_accuracy: 0.6874\n",
      "24/24 [==============================] - 50s 2s/step - loss: 0.3735 - accuracy: 0.8976 - val_loss: 2.3747 - val_accuracy: 0.6908\n",
      "24/24 [==============================] - 48s 2s/step - loss: 0.3666 - accuracy: 0.8978 - val_loss: 2.3923 - val_accuracy: 0.6849\n",
      "24/24 [==============================] - 49s 2s/step - loss: 0.3594 - accuracy: 0.8995 - val_loss: 2.4012 - val_accuracy: 0.6906\n",
      "24/24 [==============================] - 46s 2s/step - loss: 0.3523 - accuracy: 0.9022 - val_loss: 2.4072 - val_accuracy: 0.6918\n",
      "24/24 [==============================] - 45s 2s/step - loss: 0.3452 - accuracy: 0.9037 - val_loss: 2.4267 - val_accuracy: 0.6890\n",
      "24/24 [==============================] - 47s 2s/step - loss: 0.3432 - accuracy: 0.9057 - val_loss: 2.4303 - val_accuracy: 0.6879\n",
      "24/24 [==============================] - 48s 2s/step - loss: 0.3323 - accuracy: 0.9080 - val_loss: 2.4439 - val_accuracy: 0.6913\n",
      "24/24 [==============================] - 48s 2s/step - loss: 0.3285 - accuracy: 0.9077 - val_loss: 2.4716 - val_accuracy: 0.6854\n",
      "24/24 [==============================] - 47s 2s/step - loss: 0.3226 - accuracy: 0.9099 - val_loss: 2.4747 - val_accuracy: 0.6859\n",
      "24/24 [==============================] - 46s 2s/step - loss: 0.3188 - accuracy: 0.9104 - val_loss: 2.4793 - val_accuracy: 0.6885\n",
      "24/24 [==============================] - 46s 2s/step - loss: 0.3183 - accuracy: 0.9105 - val_loss: 2.4918 - val_accuracy: 0.6913\n",
      "24/24 [==============================] - 48s 2s/step - loss: 0.3114 - accuracy: 0.9138 - val_loss: 2.5134 - val_accuracy: 0.6885\n",
      "24/24 [==============================] - 49s 2s/step - loss: 0.3037 - accuracy: 0.9147 - val_loss: 2.5094 - val_accuracy: 0.6895\n",
      "24/24 [==============================] - 49s 2s/step - loss: 0.3009 - accuracy: 0.9171 - val_loss: 2.5181 - val_accuracy: 0.6916\n",
      "24/24 [==============================] - 50s 2s/step - loss: 0.2974 - accuracy: 0.9167 - val_loss: 2.5264 - val_accuracy: 0.6919\n",
      "24/24 [==============================] - 51s 2s/step - loss: 0.2914 - accuracy: 0.9163 - val_loss: 2.5337 - val_accuracy: 0.6880\n",
      "24/24 [==============================] - 50s 2s/step - loss: 0.2897 - accuracy: 0.9197 - val_loss: 2.5472 - val_accuracy: 0.6926\n",
      "24/24 [==============================] - 49s 2s/step - loss: 0.2890 - accuracy: 0.9178 - val_loss: 2.5603 - val_accuracy: 0.6914\n",
      "24/24 [==============================] - 48s 2s/step - loss: 0.2842 - accuracy: 0.9209 - val_loss: 2.5657 - val_accuracy: 0.6896\n",
      "24/24 [==============================] - 48s 2s/step - loss: 0.2771 - accuracy: 0.9219 - val_loss: 2.5865 - val_accuracy: 0.6911\n",
      "24/24 [==============================] - 48s 2s/step - loss: 0.2729 - accuracy: 0.9232 - val_loss: 2.5850 - val_accuracy: 0.6918\n",
      "24/24 [==============================] - 47s 2s/step - loss: 0.2691 - accuracy: 0.9229 - val_loss: 2.6067 - val_accuracy: 0.6843\n",
      "24/24 [==============================] - 46s 2s/step - loss: 0.2662 - accuracy: 0.9243 - val_loss: 2.6099 - val_accuracy: 0.6939\n",
      "24/24 [==============================] - 48s 2s/step - loss: 0.2632 - accuracy: 0.9256 - val_loss: 2.6317 - val_accuracy: 0.6905\n",
      "24/24 [==============================] - 49s 2s/step - loss: 0.2633 - accuracy: 0.9246 - val_loss: 2.6362 - val_accuracy: 0.6903\n",
      "24/24 [==============================] - 53s 2s/step - loss: 0.2596 - accuracy: 0.9266 - val_loss: 2.6463 - val_accuracy: 0.6929\n",
      "24/24 [==============================] - 51s 2s/step - loss: 0.2540 - accuracy: 0.9282 - val_loss: 2.6578 - val_accuracy: 0.6914\n",
      "24/24 [==============================] - 48s 2s/step - loss: 0.2544 - accuracy: 0.9286 - val_loss: 2.6932 - val_accuracy: 0.6846\n",
      "24/24 [==============================] - 48s 2s/step - loss: 0.2540 - accuracy: 0.9260 - val_loss: 2.6786 - val_accuracy: 0.6910\n",
      "24/24 [==============================] - 49s 2s/step - loss: 0.2469 - accuracy: 0.9299 - val_loss: 2.6995 - val_accuracy: 0.6888\n",
      "24/24 [==============================] - 47s 2s/step - loss: 0.2438 - accuracy: 0.9306 - val_loss: 2.6928 - val_accuracy: 0.6896\n",
      "24/24 [==============================] - 48s 2s/step - loss: 0.2407 - accuracy: 0.9317 - val_loss: 2.6881 - val_accuracy: 0.6911\n",
      "24/24 [==============================] - 65s 2s/step - loss: 0.2354 - accuracy: 0.9327 - val_loss: 2.7099 - val_accuracy: 0.6937\n",
      "24/24 [==============================] - 46s 2s/step - loss: 0.2353 - accuracy: 0.9313 - val_loss: 2.7215 - val_accuracy: 0.6914\n",
      "24/24 [==============================] - 48s 2s/step - loss: 0.2325 - accuracy: 0.9337 - val_loss: 2.7043 - val_accuracy: 0.6936\n",
      "24/24 [==============================] - 47s 2s/step - loss: 0.2332 - accuracy: 0.9315 - val_loss: 2.7331 - val_accuracy: 0.6949\n",
      "24/24 [==============================] - 47s 2s/step - loss: 0.2341 - accuracy: 0.9327 - val_loss: 2.7537 - val_accuracy: 0.6934\n",
      "24/24 [==============================] - 47s 2s/step - loss: 0.2313 - accuracy: 0.9317 - val_loss: 2.7604 - val_accuracy: 0.6914\n",
      "24/24 [==============================] - 49s 2s/step - loss: 0.2269 - accuracy: 0.9342 - val_loss: 2.7617 - val_accuracy: 0.6942\n",
      "24/24 [==============================] - 48s 2s/step - loss: 0.2266 - accuracy: 0.9332 - val_loss: 2.7716 - val_accuracy: 0.6929\n",
      "24/24 [==============================] - 52s 2s/step - loss: 0.2236 - accuracy: 0.9344 - val_loss: 2.7977 - val_accuracy: 0.6914\n",
      "24/24 [==============================] - 52s 2s/step - loss: 0.2203 - accuracy: 0.9358 - val_loss: 2.7910 - val_accuracy: 0.6967\n",
      "24/24 [==============================] - 49s 2s/step - loss: 0.2151 - accuracy: 0.9374 - val_loss: 2.8044 - val_accuracy: 0.6919\n",
      "24/24 [==============================] - 49s 2s/step - loss: 0.2156 - accuracy: 0.9365 - val_loss: 2.8068 - val_accuracy: 0.6866\n",
      "24/24 [==============================] - 48s 2s/step - loss: 0.2138 - accuracy: 0.9378 - val_loss: 2.8280 - val_accuracy: 0.6929\n",
      "24/24 [==============================] - 46s 2s/step - loss: 0.2117 - accuracy: 0.9382 - val_loss: 2.8274 - val_accuracy: 0.6921\n",
      "24/24 [==============================] - 47s 2s/step - loss: 0.2100 - accuracy: 0.9364 - val_loss: 2.8329 - val_accuracy: 0.6952\n",
      "24/24 [==============================] - 44s 2s/step - loss: 0.2088 - accuracy: 0.9381 - val_loss: 2.8398 - val_accuracy: 0.6893\n",
      "24/24 [==============================] - 47s 2s/step - loss: 0.2063 - accuracy: 0.9389 - val_loss: 2.8484 - val_accuracy: 0.6954\n",
      "24/24 [==============================] - 47s 2s/step - loss: 0.2047 - accuracy: 0.9404 - val_loss: 2.8551 - val_accuracy: 0.6941\n",
      "24/24 [==============================] - 46s 2s/step - loss: 0.2023 - accuracy: 0.9400 - val_loss: 2.8725 - val_accuracy: 0.6916\n",
      "24/24 [==============================] - 47s 2s/step - loss: 0.1989 - accuracy: 0.9430 - val_loss: 2.8873 - val_accuracy: 0.6921\n",
      "24/24 [==============================] - 47s 2s/step - loss: 0.2027 - accuracy: 0.9393 - val_loss: 2.8898 - val_accuracy: 0.6942\n",
      "24/24 [==============================] - 54s 2s/step - loss: 0.2000 - accuracy: 0.9420 - val_loss: 2.9127 - val_accuracy: 0.6918\n",
      "24/24 [==============================] - 50s 2s/step - loss: 0.2009 - accuracy: 0.9409 - val_loss: 2.9212 - val_accuracy: 0.6877\n"
     ]
    }
   ],
   "source": [
    "f_vector = [f'embedding_{i}' for i in range(768)]\n",
    "transformer_results2 = [0]*100\n",
    "for i in range(100):\n",
    "    history_loop = model.fit(training[f_vector], \n",
    "                              train__y_labels, \n",
    "                              validation_data=(test[f_vector], test__y_labels), \n",
    "                              epochs=1,\n",
    "                              batch_size=1024,\n",
    "                              verbose=1)\n",
    "    \n",
    "    prob = model.predict(test[f_vector])\n",
    "    test['token_with_best_prediction'] = prob.argmax(axis=1)\n",
    "#     test['prob_token_with_best_prediction'] = prob.max(axis=1)\n",
    "    \n",
    "    transformer_results2[i] = [i,\n",
    "                            precision_score(test['JobTitle_tokenized'],test['token_with_best_prediction'], average=\"weighted\", zero_division=0),\n",
    "                            recall_score(test['JobTitle_tokenized'],test['token_with_best_prediction'], average=\"weighted\", zero_division=0), \n",
    "                            accuracy_score(test['JobTitle_tokenized'],test['token_with_best_prediction'])]"
   ]
  },
  {
   "cell_type": "code",
   "execution_count": 356,
   "metadata": {},
   "outputs": [
    {
     "data": {
      "text/plain": [
       "[[0, 0.1688545060703858, 0.29013854930725347, 0.29013854930725347],\n",
       " [1, 0.3042896224874216, 0.4299918500407498, 0.4299918500407498],\n",
       " [2, 0.36702795223396867, 0.480358598207009, 0.480358598207009],\n",
       " [3, 0.43342432265426306, 0.519641401792991, 0.519641401792991],\n",
       " [4, 0.4785023567020251, 0.5501222493887531, 0.5501222493887531],\n",
       " [5, 0.5085178753582213, 0.5711491442542788, 0.5711491442542788],\n",
       " [6, 0.5268077409194141, 0.5853300733496333, 0.5853300733496333],\n",
       " [7, 0.5468644776813835, 0.6016299918500407, 0.6016299918500407],\n",
       " [8, 0.5731223056026608, 0.6114099429502853, 0.6114099429502853],\n",
       " [9, 0.5813119854266914, 0.6187449062754686, 0.6187449062754686],\n",
       " [10, 0.5975799234288662, 0.6278728606356968, 0.6278728606356968],\n",
       " [11, 0.5981591104907148, 0.632599837000815, 0.632599837000815],\n",
       " [12, 0.615149600660839, 0.6427057864710677, 0.6427057864710677],\n",
       " [13, 0.6190977214469068, 0.6488997555012225, 0.6488997555012225],\n",
       " [14, 0.62724378904135, 0.6537897310513447, 0.6537897310513447],\n",
       " [15, 0.6296532675534607, 0.649877750611247, 0.649877750611247],\n",
       " [16, 0.6391506429329761, 0.6601466992665037, 0.6601466992665037],\n",
       " [17, 0.6457686704971873, 0.6647106764466177, 0.6647106764466177],\n",
       " [18, 0.6386105134678609, 0.6621026894865526, 0.6621026894865526],\n",
       " [19, 0.6460238853208283, 0.6660146699266504, 0.6660146699266504],\n",
       " [20, 0.6439412824639557, 0.6655256723716382, 0.6655256723716382],\n",
       " [21, 0.651066232657929, 0.6712306438467808, 0.6712306438467808],\n",
       " [22, 0.6504309526646805, 0.6684596577017115, 0.6684596577017115],\n",
       " [23, 0.6513648885169998, 0.6707416462917686, 0.6707416462917686],\n",
       " [24, 0.6594452569236814, 0.6715566422167889, 0.6715566422167889],\n",
       " [25, 0.6580317350930108, 0.6697636511817441, 0.6697636511817441],\n",
       " [26, 0.6580219073050073, 0.6780766096169519, 0.6780766096169519],\n",
       " [27, 0.658459845705842, 0.6770986145069274, 0.6770986145069274],\n",
       " [28, 0.6636891143698856, 0.6764466177669112, 0.6764466177669112],\n",
       " [29, 0.6615666091712924, 0.6819885900570497, 0.6819885900570497],\n",
       " [30, 0.6645565635233145, 0.6793806030969846, 0.6793806030969846],\n",
       " [31, 0.6569683931189789, 0.6728606356968215, 0.6728606356968215],\n",
       " [32, 0.6661449817440768, 0.6836185819070905, 0.6836185819070905],\n",
       " [33, 0.6615995474824296, 0.680521597392013, 0.680521597392013],\n",
       " [34, 0.6681499069958721, 0.6849225753871231, 0.6849225753871231],\n",
       " [35, 0.6662405950356084, 0.684596577017115, 0.684596577017115],\n",
       " [36, 0.6671751570195059, 0.6854115729421353, 0.6854115729421353],\n",
       " [37, 0.6648374349016887, 0.6841075794621027, 0.6841075794621027],\n",
       " [38, 0.6692844390072318, 0.6837815810920945, 0.6837815810920945],\n",
       " [39, 0.6674947827157954, 0.6834555827220864, 0.6834555827220864],\n",
       " [40, 0.6729850094613101, 0.6875305623471882, 0.6875305623471882],\n",
       " [41, 0.668952012976888, 0.6828035859820701, 0.6828035859820701],\n",
       " [42, 0.6668344856968691, 0.6801955990220049, 0.6801955990220049],\n",
       " [43, 0.6683107076455673, 0.6816625916870416, 0.6816625916870416],\n",
       " [44, 0.6704362508143997, 0.6873675631621842, 0.6873675631621842],\n",
       " [45, 0.6717371832494419, 0.6907905460472697, 0.6907905460472697],\n",
       " [46, 0.6709696685311511, 0.6849225753871231, 0.6849225753871231],\n",
       " [47, 0.6757035947700738, 0.6906275468622657, 0.6906275468622657],\n",
       " [48, 0.6749459926093111, 0.6917685411572942, 0.6917685411572942],\n",
       " [49, 0.670345421116828, 0.6889975550122249, 0.6889975550122249],\n",
       " [50, 0.6748240814364453, 0.6878565607171964, 0.6878565607171964],\n",
       " [51, 0.672800209094806, 0.6912795436022819, 0.6912795436022819],\n",
       " [52, 0.6731663153587109, 0.6854115729421353, 0.6854115729421353],\n",
       " [53, 0.6728471373710427, 0.6859005704971475, 0.6859005704971475],\n",
       " [54, 0.669500935964552, 0.6885085574572127, 0.6885085574572127],\n",
       " [55, 0.6762955793360311, 0.6912795436022819, 0.6912795436022819],\n",
       " [56, 0.6746699417250346, 0.6885085574572127, 0.6885085574572127],\n",
       " [57, 0.6746469142131979, 0.6894865525672371, 0.6894865525672371],\n",
       " [58, 0.6735366334635268, 0.6916055419722902, 0.6916055419722902],\n",
       " [59, 0.6758163852121948, 0.6919315403422983, 0.6919315403422983],\n",
       " [60, 0.6760241379481395, 0.6880195599022005, 0.6880195599022005],\n",
       " [61, 0.6744831689257517, 0.6925835370823146, 0.6925835370823146],\n",
       " [62, 0.6768848969488136, 0.6914425427872861, 0.6914425427872861],\n",
       " [63, 0.6717582591820979, 0.6896495517522412, 0.6896495517522412],\n",
       " [64, 0.675898769095789, 0.6911165444172779, 0.6911165444172779],\n",
       " [65, 0.6753395089809079, 0.6917685411572942, 0.6917685411572942],\n",
       " [66, 0.6688781046369372, 0.6842705786471067, 0.6842705786471067],\n",
       " [67, 0.6773448245740294, 0.6938875305623472, 0.6938875305623472],\n",
       " [68, 0.6721166823185465, 0.6904645476772616, 0.6904645476772616],\n",
       " [69, 0.6763108305669768, 0.6903015484922576, 0.6903015484922576],\n",
       " [70, 0.6801771464867573, 0.6929095354523227, 0.6929095354523227],\n",
       " [71, 0.6803884612769571, 0.6914425427872861, 0.6914425427872861],\n",
       " [72, 0.6706843086640625, 0.684596577017115, 0.684596577017115],\n",
       " [73, 0.6727195189358581, 0.6909535452322738, 0.6909535452322738],\n",
       " [74, 0.6732370279708961, 0.6888345558272209, 0.6888345558272209],\n",
       " [75, 0.6750604821468772, 0.6896495517522412, 0.6896495517522412],\n",
       " [76, 0.6752965958648992, 0.6911165444172779, 0.6911165444172779],\n",
       " [77, 0.6766061756947899, 0.6937245313773431, 0.6937245313773431],\n",
       " [78, 0.6736475678735325, 0.6914425427872861, 0.6914425427872861],\n",
       " [79, 0.6776652943157605, 0.6935615321923391, 0.6935615321923391],\n",
       " [80, 0.6778665174277594, 0.6948655256723716, 0.6948655256723716],\n",
       " [81, 0.6793086055754639, 0.693398533007335, 0.693398533007335],\n",
       " [82, 0.6738678694444079, 0.6914425427872861, 0.6914425427872861],\n",
       " [83, 0.6773492894624147, 0.6942135289323553, 0.6942135289323553],\n",
       " [84, 0.6750383126055701, 0.6929095354523227, 0.6929095354523227],\n",
       " [85, 0.6731054279436873, 0.6914425427872861, 0.6914425427872861],\n",
       " [86, 0.6824347140954972, 0.6966585167074164, 0.6966585167074164],\n",
       " [87, 0.676615002010705, 0.6919315403422983, 0.6919315403422983],\n",
       " [88, 0.6788218030393837, 0.6865525672371638, 0.6865525672371638],\n",
       " [89, 0.6764734627611817, 0.6929095354523227, 0.6929095354523227],\n",
       " [90, 0.6791083035479963, 0.6920945395273024, 0.6920945395273024],\n",
       " [91, 0.6758349512857197, 0.6951915240423798, 0.6951915240423798],\n",
       " [92, 0.6752739896720887, 0.6893235533822331, 0.6893235533822331],\n",
       " [93, 0.6806485190440661, 0.6953545232273839, 0.6953545232273839],\n",
       " [94, 0.6759320732309929, 0.6940505297473513, 0.6940505297473513],\n",
       " [95, 0.674286612037412, 0.6916055419722902, 0.6916055419722902],\n",
       " [96, 0.675232491045494, 0.6920945395273024, 0.6920945395273024],\n",
       " [97, 0.6745053861466097, 0.6942135289323553, 0.6942135289323553],\n",
       " [98, 0.6760875173480362, 0.6917685411572942, 0.6917685411572942],\n",
       " [99, 0.6722768985922283, 0.6876935615321923, 0.6876935615321923]]"
      ]
     },
     "execution_count": 356,
     "metadata": {},
     "output_type": "execute_result"
    }
   ],
   "source": [
    "transformer_results2"
   ]
  },
  {
   "cell_type": "code",
   "execution_count": 358,
   "metadata": {},
   "outputs": [
    {
     "data": {
      "text/plain": [
       "[0.673, 0.687]"
      ]
     },
     "execution_count": 358,
     "metadata": {},
     "output_type": "execute_result"
    },
    {
     "data": {
      "image/png": "[encoded data removed]",
      "text/plain": [
       "<Figure size 432x288 with 1 Axes>"
      ]
     },
     "metadata": {
      "needs_background": "light"
     },
     "output_type": "display_data"
    }
   ],
   "source": [
    "pd.DataFrame(transformer_results2, columns=['epoch','val_precision','val_re-call','val_accuracy']).set_index('epoch')[['val_precision','val_re-call']].plot()\n",
    "[0.673, 0.687]"
   ]
  },
  {
   "cell_type": "code",
   "execution_count": null,
   "metadata": {},
   "outputs": [],
   "source": []
  }
 ],
 "metadata": {
  "kernelspec": {
   "display_name": "Python 3 (ipykernel)",
   "language": "python",
   "name": "python3"
  },
  "language_info": {
   "codemirror_mode": {
    "name": "ipython",
    "version": 3
   },
   "file_extension": ".py",
   "mimetype": "text/x-python",
   "name": "python",
   "nbconvert_exporter": "python",
   "pygments_lexer": "ipython3",
   "version": "3.9.7"
  }
 },
 "nbformat": 4,
 "nbformat_minor": 4
}
