{
 "cells": [
  {
   "cell_type": "code",
   "execution_count": 61,
   "id": "1bbc1d12-96ea-49af-afc2-5f7b50a122fc",
   "metadata": {},
   "outputs": [
    {
     "data": {
      "text/html": [
       "<div>\n",
       "<style scoped>\n",
       "    .dataframe tbody tr th:only-of-type {\n",
       "        vertical-align: middle;\n",
       "    }\n",
       "\n",
       "    .dataframe tbody tr th {\n",
       "        vertical-align: top;\n",
       "    }\n",
       "\n",
       "    .dataframe thead th {\n",
       "        text-align: right;\n",
       "    }\n",
       "</style>\n",
       "<table border=\"1\" class=\"dataframe\">\n",
       "  <thead>\n",
       "    <tr style=\"text-align: right;\">\n",
       "      <th></th>\n",
       "      <th>JobId</th>\n",
       "      <th>JobTitleId</th>\n",
       "      <th>JobTitle</th>\n",
       "      <th>Description</th>\n",
       "    </tr>\n",
       "  </thead>\n",
       "  <tbody>\n",
       "    <tr>\n",
       "      <th>0</th>\n",
       "      <td>36126335</td>\n",
       "      <td>400878</td>\n",
       "      <td>Physical Therapist Assistant (PTA)</td>\n",
       "      <td>&lt;p&gt;Looking for part-time PT&amp;nbsp;for a quick g...</td>\n",
       "    </tr>\n",
       "    <tr>\n",
       "      <th>1</th>\n",
       "      <td>39345757</td>\n",
       "      <td>400720</td>\n",
       "      <td>Automotive Service Manager</td>\n",
       "      <td>At David Maus Toyota, we strive to make every ...</td>\n",
       "    </tr>\n",
       "    <tr>\n",
       "      <th>2</th>\n",
       "      <td>84331465</td>\n",
       "      <td>407973</td>\n",
       "      <td>Wastewater Project Manager</td>\n",
       "      <td>&lt;p&gt;Position Summary:&lt;/p&gt;\\n&lt;p&gt;Project Managemen...</td>\n",
       "    </tr>\n",
       "    <tr>\n",
       "      <th>3</th>\n",
       "      <td>88112060</td>\n",
       "      <td>402654</td>\n",
       "      <td>Neonatal Nurse</td>\n",
       "      <td>&lt;p&gt;Envision Physician Services is seeking a Ne...</td>\n",
       "    </tr>\n",
       "    <tr>\n",
       "      <th>4</th>\n",
       "      <td>88112450</td>\n",
       "      <td>402654</td>\n",
       "      <td>Neonatal Nurse</td>\n",
       "      <td>&lt;p&gt;Envision Physician Services is seeking a Ne...</td>\n",
       "    </tr>\n",
       "    <tr>\n",
       "      <th>5</th>\n",
       "      <td>88112460</td>\n",
       "      <td>402654</td>\n",
       "      <td>Neonatal Nurse</td>\n",
       "      <td>&lt;p&gt;Envision Physician Services is seeking a Ne...</td>\n",
       "    </tr>\n",
       "    <tr>\n",
       "      <th>6</th>\n",
       "      <td>88112463</td>\n",
       "      <td>402654</td>\n",
       "      <td>Neonatal Nurse</td>\n",
       "      <td>&lt;p&gt;$20,000 start date bonus!&lt;/p&gt;&lt;p&gt;Envision Ph...</td>\n",
       "    </tr>\n",
       "    <tr>\n",
       "      <th>7</th>\n",
       "      <td>88114236</td>\n",
       "      <td>402654</td>\n",
       "      <td>Neonatal Nurse</td>\n",
       "      <td>&lt;p&gt;Envision Physician Services is seeking a dy...</td>\n",
       "    </tr>\n",
       "    <tr>\n",
       "      <th>8</th>\n",
       "      <td>88114375</td>\n",
       "      <td>402654</td>\n",
       "      <td>Neonatal Nurse</td>\n",
       "      <td>&lt;p&gt;Envision Physician Services is seeking a Ne...</td>\n",
       "    </tr>\n",
       "    <tr>\n",
       "      <th>9</th>\n",
       "      <td>105364828</td>\n",
       "      <td>402654</td>\n",
       "      <td>Neonatal Nurse</td>\n",
       "      <td>&lt;p&gt;Night Shift Neonatal Nurse Practitioner Opp...</td>\n",
       "    </tr>\n",
       "  </tbody>\n",
       "</table>\n",
       "</div>"
      ],
      "text/plain": [
       "       JobId  JobTitleId                            JobTitle  \\\n",
       "0   36126335      400878  Physical Therapist Assistant (PTA)   \n",
       "1   39345757      400720          Automotive Service Manager   \n",
       "2   84331465      407973          Wastewater Project Manager   \n",
       "3   88112060      402654                      Neonatal Nurse   \n",
       "4   88112450      402654                      Neonatal Nurse   \n",
       "5   88112460      402654                      Neonatal Nurse   \n",
       "6   88112463      402654                      Neonatal Nurse   \n",
       "7   88114236      402654                      Neonatal Nurse   \n",
       "8   88114375      402654                      Neonatal Nurse   \n",
       "9  105364828      402654                      Neonatal Nurse   \n",
       "\n",
       "                                         Description  \n",
       "0  <p>Looking for part-time PT&nbsp;for a quick g...  \n",
       "1  At David Maus Toyota, we strive to make every ...  \n",
       "2  <p>Position Summary:</p>\\n<p>Project Managemen...  \n",
       "3  <p>Envision Physician Services is seeking a Ne...  \n",
       "4  <p>Envision Physician Services is seeking a Ne...  \n",
       "5  <p>Envision Physician Services is seeking a Ne...  \n",
       "6  <p>$20,000 start date bonus!</p><p>Envision Ph...  \n",
       "7  <p>Envision Physician Services is seeking a dy...  \n",
       "8  <p>Envision Physician Services is seeking a Ne...  \n",
       "9  <p>Night Shift Neonatal Nurse Practitioner Opp...  "
      ]
     },
     "execution_count": 61,
     "metadata": {},
     "output_type": "execute_result"
    }
   ],
   "source": [
    "import pandas as pd\n",
    "df = pd.read_parquet('job_title_dataset.parquet')\n",
    "df.head(10)"
   ]
  },
  {
   "cell_type": "code",
   "execution_count": 60,
   "id": "5f51b311-eefd-49b8-86c5-17fb59ed64f3",
   "metadata": {},
   "outputs": [],
   "source": [
    "## An idea: do some feature engineering is the word verb, noun or so and some more features. Later use a Decision Tree to say if it is a job title."
   ]
  },
  {
   "cell_type": "code",
   "execution_count": 17,
   "id": "2d830074-e1a0-4e1c-b2ec-87e97410a704",
   "metadata": {},
   "outputs": [
    {
     "name": "stdout",
     "output_type": "stream",
     "text": [
      "<class 'pandas.core.frame.DataFrame'>\n",
      "RangeIndex: 3975 entries, 0 to 3974\n",
      "Data columns (total 5 columns):\n",
      " #   Column           Non-Null Count  Dtype \n",
      "---  ------           --------------  ----- \n",
      " 0   JobId            3975 non-null   object\n",
      " 1   JobTitleId       3975 non-null   int32 \n",
      " 2   JobTitle         3975 non-null   object\n",
      " 3   ExtJobTitleText  3975 non-null   object\n",
      " 4   Description      2832 non-null   object\n",
      "dtypes: int32(1), object(4)\n",
      "memory usage: 139.9+ KB\n"
     ]
    }
   ],
   "source": [
    "df.info(0)"
   ]
  },
  {
   "cell_type": "code",
   "execution_count": 23,
   "id": "8782ef8d-a9ea-4708-b2a2-0210df27c612",
   "metadata": {},
   "outputs": [
    {
     "data": {
      "text/plain": [
       "'<div class=\"earcu_posdescriptionContainer\"><div class=\"earcu_posdescription\"><div class=\"earcu_posdescriptionnote\"><p><span style=\"font-family: arial,helvetica,sans-serif; font-size: small;\"><strong>DRIVER &ndash; DRIVE COOL CARS EVERY DAY</strong></span></p>\\n<p>As a Driver, you will be transporting our rental vehicles to and from various locations safely. You will assist other Avis Budget Group associates in maintaining a smooth and safe traffic flow throughout rental check in area. In the role of Driver, you will be conducting the final inspection ensuring proper vehicle cleanliness, appearance and readiness meet company standards. Additionally, as a Driver you will be responsible for identifying and reporting any rental vehicle damage.</p>\\n<p>Requirements of the Driver role:</p>\\n<ul>\\n<li>Must have a high school diploma or equivalent</li>\\n<li>At least 6 months of prior work experience</li>\\n<li>Valid driver\\'s license and a good driving record</li>\\n<li>Various shifts available</li>\\n</ul>\\n<p>We offer a wide range of exciting benefits for part time employees, including:</p>\\n<ul>\\n<li>Employee Assistance Program</li>\\n<li>Employee discounts</li>\\n<li>Training opportunities</li>\\n<li>Opportunities to make charitable donations</li>\\n<li>Voluntary unpaid time off</li>\\n<li>Discounted prices on the purchase of Avis/Budget cars</li>\\n<li>401(k) (eligible after 1,000 hours of service)</li>\\n<li>Employee Stock Purchase Plan (eligible after 90 days of service)</li>\\n<li>Vacation car rental</li>\\n</ul>\\n<p>A valid driver\\'s license is required for all positions. Drug screening is a part of our hiring process.</p>\\n<p><span style=\"font-family: arial,helvetica,sans-serif; font-size: small;\"><span style=\"font-family: arial,helvetica,sans-serif; font-size: 10pt;\"><span style=\"color: #000000;\"><em>To help expedite the application process and save you time, our application includes a Video Interview, which is a quick and simple recorded interview that will show our hiring managers how you would fit as a member of our team. On screen step-by-step instructions will guide you through the application and Video Interview process. To be considered for this role you must complete a recorded Video Interview.</em></span></span></span></p>\\n<p><span style=\"font-family: arial,helvetica,sans-serif; font-size: x-small;\"><em>Avis Budget is an EO employer &ndash; M/F/Vets/Disabled</em></span></p>\\n<p><span style=\"font-family: arial,helvetica,sans-serif; font-size: x-small;\">The information listed in this advertisement describes the general nature and level of this position only. Essential functions and responsibilities may change as business needs require. Your response to this ad may result in your being considered for employment with an affiliated company of Avis Budget Group, the publicly traded parent company of Avis Budget Car Rental, LLC and its subsidiaries.</span></p>\\n<p><span style=\"font-family: arial,helvetica,sans-serif; font-size: x-small;\">This advertisement does not constitute a promise or guarantee of employment.</span></p></div></div></div><br><span style=\"font-family: Calibri;\"> Type of employment: Part Time'"
      ]
     },
     "execution_count": 23,
     "metadata": {},
     "output_type": "execute_result"
    }
   ],
   "source": [
    "df[\"Description\"][0]"
   ]
  },
  {
   "cell_type": "code",
   "execution_count": 19,
   "id": "4841a1e1-7e1a-4e18-a7bb-00d65c9433a5",
   "metadata": {},
   "outputs": [
    {
     "data": {
      "text/plain": [
       "(3975, 5)"
      ]
     },
     "execution_count": 19,
     "metadata": {},
     "output_type": "execute_result"
    }
   ],
   "source": [
    "df.shape"
   ]
  },
  {
   "cell_type": "code",
   "execution_count": 24,
   "id": "70d3574b-f271-4536-9260-46f7c322de54",
   "metadata": {},
   "outputs": [
    {
     "data": {
      "text/plain": [
       "91657567     1\n",
       "457418745    1\n",
       "457418732    1\n",
       "457418733    1\n",
       "457418734    1\n",
       "            ..\n",
       "326104681    1\n",
       "326104682    1\n",
       "326473774    1\n",
       "326473776    1\n",
       "502948566    1\n",
       "Name: JobId, Length: 3975, dtype: int64"
      ]
     },
     "execution_count": 24,
     "metadata": {},
     "output_type": "execute_result"
    }
   ],
   "source": [
    "df.JobId.value_counts()"
   ]
  },
  {
   "cell_type": "code",
   "execution_count": 26,
   "id": "1ba3e0ea-c941-4f38-9525-fd95af94baa2",
   "metadata": {},
   "outputs": [
    {
     "data": {
      "text/plain": [
       "400445    1830\n",
       "100051     313\n",
       "411036     249\n",
       "407333     229\n",
       "402739     188\n",
       "          ... \n",
       "406323       1\n",
       "402643       1\n",
       "100335       1\n",
       "581          1\n",
       "573          1\n",
       "Name: JobTitleId, Length: 110, dtype: int64"
      ]
     },
     "execution_count": 26,
     "metadata": {},
     "output_type": "execute_result"
    }
   ],
   "source": [
    "df.JobTitleId.value_counts()"
   ]
  },
  {
   "cell_type": "code",
   "execution_count": 40,
   "id": "b39a6dca-63e4-4fd6-9133-696daa1c92f2",
   "metadata": {},
   "outputs": [
    {
     "data": {
      "text/plain": [
       "1     54\n",
       "0     30\n",
       "2     11\n",
       "3      5\n",
       "4      3\n",
       "6      2\n",
       "8      2\n",
       "5      1\n",
       "46     1\n",
       "16     1\n",
       "Name: Description, dtype: int64"
      ]
     },
     "execution_count": 40,
     "metadata": {},
     "output_type": "execute_result"
    }
   ],
   "source": [
    "df.groupby('JobTitleId').Description.nunique().value_counts()"
   ]
  },
  {
   "cell_type": "code",
   "execution_count": 57,
   "id": "e04135bc-8d71-4411-b295-b539e885bbee",
   "metadata": {},
   "outputs": [],
   "source": [
    "import re\n",
    "\n",
    "CLEANR = re.compile('<.*?>')\n",
    "\n",
    "def cleanhtml(raw_html):\n",
    "    cleantext = re.sub(CLEANR, '', raw_html)\n",
    "    return cleantext"
   ]
  },
  {
   "cell_type": "code",
   "execution_count": 58,
   "id": "1a224513-06cf-4753-8417-9a8744c31a16",
   "metadata": {},
   "outputs": [
    {
     "data": {
      "text/html": [
       "<div>\n",
       "<style scoped>\n",
       "    .dataframe tbody tr th:only-of-type {\n",
       "        vertical-align: middle;\n",
       "    }\n",
       "\n",
       "    .dataframe tbody tr th {\n",
       "        vertical-align: top;\n",
       "    }\n",
       "\n",
       "    .dataframe thead th {\n",
       "        text-align: right;\n",
       "    }\n",
       "</style>\n",
       "<table border=\"1\" class=\"dataframe\">\n",
       "  <thead>\n",
       "    <tr style=\"text-align: right;\">\n",
       "      <th></th>\n",
       "      <th>Cleaned_Description</th>\n",
       "      <th>Description</th>\n",
       "    </tr>\n",
       "  </thead>\n",
       "  <tbody>\n",
       "    <tr>\n",
       "      <th>0</th>\n",
       "      <td>DRIVER &amp;ndash; DRIVE COOL CARS EVERY DAY\\nAs a...</td>\n",
       "      <td>&lt;div class=\"earcu_posdescriptionContainer\"&gt;&lt;di...</td>\n",
       "    </tr>\n",
       "    <tr>\n",
       "      <th>1</th>\n",
       "      <td>None</td>\n",
       "      <td>None</td>\n",
       "    </tr>\n",
       "    <tr>\n",
       "      <th>2</th>\n",
       "      <td>The Lane Construction Corporation is a leading...</td>\n",
       "      <td>&lt;p&gt;&lt;em&gt;The Lane Construction Corporation is a ...</td>\n",
       "    </tr>\n",
       "    <tr>\n",
       "      <th>3</th>\n",
       "      <td>La Jolla Endoscopy Center is an ASC comprised ...</td>\n",
       "      <td>&lt;p&gt;La Jolla Endoscopy Center is an ASC compris...</td>\n",
       "    </tr>\n",
       "    <tr>\n",
       "      <th>4</th>\n",
       "      <td>PPG Sales Associate Job Posting PPG: We protec...</td>\n",
       "      <td>PPG Sales Associate Job Posting PPG: We protec...</td>\n",
       "    </tr>\n",
       "  </tbody>\n",
       "</table>\n",
       "</div>"
      ],
      "text/plain": [
       "                                 Cleaned_Description  \\\n",
       "0  DRIVER &ndash; DRIVE COOL CARS EVERY DAY\\nAs a...   \n",
       "1                                               None   \n",
       "2  The Lane Construction Corporation is a leading...   \n",
       "3  La Jolla Endoscopy Center is an ASC comprised ...   \n",
       "4  PPG Sales Associate Job Posting PPG: We protec...   \n",
       "\n",
       "                                         Description  \n",
       "0  <div class=\"earcu_posdescriptionContainer\"><di...  \n",
       "1                                               None  \n",
       "2  <p><em>The Lane Construction Corporation is a ...  \n",
       "3  <p>La Jolla Endoscopy Center is an ASC compris...  \n",
       "4  PPG Sales Associate Job Posting PPG: We protec...  "
      ]
     },
     "execution_count": 58,
     "metadata": {},
     "output_type": "execute_result"
    }
   ],
   "source": [
    "df.Description = df.Description.astype(str)\n",
    "df['Cleaned_Description'] = df.Description.apply(cleanhtml)\n",
    "df[['Cleaned_Description','Description']][:5]"
   ]
  },
  {
   "cell_type": "code",
   "execution_count": null,
   "id": "0c619bae-da6e-4c64-8907-6b505b01c7bf",
   "metadata": {},
   "outputs": [],
   "source": []
  },
  {
   "cell_type": "code",
   "execution_count": null,
   "id": "e45f0fbc-0902-4b99-9aa0-99c2c4991d58",
   "metadata": {},
   "outputs": [],
   "source": []
  }
 ],
 "metadata": {
  "kernelspec": {
   "display_name": "Python 3 (ipykernel)",
   "language": "python",
   "name": "python3"
  },
  "language_info": {
   "codemirror_mode": {
    "name": "ipython",
    "version": 3
   },
   "file_extension": ".py",
   "mimetype": "text/x-python",
   "name": "python",
   "nbconvert_exporter": "python",
   "pygments_lexer": "ipython3",
   "version": "3.9.7"
  }
 },
 "nbformat": 4,
 "nbformat_minor": 5
}
