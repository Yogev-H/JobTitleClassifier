{
 "cells": [
  {
   "cell_type": "markdown",
   "id": "c6c60837-e45f-4493-8971-4a8c45681b2c",
   "metadata": {},
   "source": [
    "###  lemmatization - spacy library\n",
    "###\n",
    "# install from here _  https://spacy.io/usage\n",
    "#"
   ]
  },
  {
   "cell_type": "code",
   "execution_count": null,
   "id": "54108e1d-4e57-42d3-b158-3e2dc1a1b76c",
   "metadata": {},
   "outputs": [],
   "source": [
    "import spacy\n",
    "nlp = spacy.load('en_core_web_sm')\n",
    "\n",
    "test_for_spacy = \" \".join([w for w in test])\n",
    "# print(test_for_spacy)\n",
    "# Create a Doc object\n",
    "doc = nlp(test_for_spacy)\n",
    "# print(type(doc))\n",
    "# Create list of tokens from given string\n",
    "tokens = []\n",
    "for token in doc:\n",
    "    tokens.append(token)\n",
    "# print(type(token))\n",
    "# print(tokens)"
   ]
  },
  {
   "cell_type": "code",
   "execution_count": null,
   "id": "958fbfaf-0d01-4797-a0eb-01d064cae1ac",
   "metadata": {},
   "outputs": [],
   "source": [
    "spacy_result = [token.lemma_ for token in tokens]\n",
    "print(spacy_result)"
   ]
  },
  {
   "cell_type": "code",
   "execution_count": null,
   "id": "768189f1-94b3-4aeb-b2ba-c4ca0726284d",
   "metadata": {},
   "outputs": [],
   "source": [
    "words = ['run', 'running', 'ran','go', 'going', 'goes', 'went']\n",
    "test_for_spacy_2 = \" \".join([w for w in words])\n",
    "\n",
    "# Create a Doc object\n",
    "doc_2 = nlp(test_for_spacy_2)\n",
    "\n",
    "# Create list of tokens from given string\n",
    "tokens_2 = []\n",
    "for token in doc_2:\n",
    "    tokens_2.append(token)\n",
    "\n",
    "spacy_result_2 = [token.lemma_ for token in tokens]\n",
    "print(spacy_result_2)"
   ]
  },
  {
   "cell_type": "markdown",
   "id": "4c830f05-e57c-4008-b183-3371ca140ca9",
   "metadata": {},
   "source": [
    "# Add this line after stemming to compare"
   ]
  },
  {
   "cell_type": "code",
   "execution_count": null,
   "id": "3e23bc0a-f3d9-4161-813f-e6103aa84b3e",
   "metadata": {},
   "outputs": [],
   "source": [
    "comparing_df = pd.DataFrame(test,columns=['original'])\n",
    "comparing_df['stemming'] = stemming\n",
    "comparing_df['lemmatization'] = lemmatized\n",
    "comparing_df['lemmatization_by_spacy'] = spacy_result\n",
    "comparing_df.drop_duplicates().head(20)"
   ]
  }
 ],
 "metadata": {
  "kernelspec": {
   "display_name": "Python 3 (ipykernel)",
   "language": "python",
   "name": "python3"
  },
  "language_info": {
   "codemirror_mode": {
    "name": "ipython",
    "version": 3
   },
   "file_extension": ".py",
   "mimetype": "text/x-python",
   "name": "python",
   "nbconvert_exporter": "python",
   "pygments_lexer": "ipython3",
   "version": "3.9.7"
  }
 },
 "nbformat": 4,
 "nbformat_minor": 5
}
